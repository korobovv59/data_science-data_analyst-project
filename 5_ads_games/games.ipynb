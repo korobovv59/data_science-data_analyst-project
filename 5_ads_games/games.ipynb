{
 "cells": [
  {
   "cell_type": "markdown",
   "metadata": {},
   "source": [
    "# Сборный проект: игры"
   ]
  },
  {
   "cell_type": "markdown",
   "metadata": {},
   "source": [
    "## Обзор данных\n",
    "### Описание проекта\n",
    "Вы работаете в интернет-магазине «Стримчик», который продаёт по всему миру компьютерные игры. Из открытых источников доступны исторические данные о продажах игр, оценки пользователей и экспертов, жанры и платформы (например, Xbox или PlayStation). Вам нужно выявить определяющие успешность игры закономерности. Это позволит сделать ставку на потенциально популярный продукт и спланировать рекламные кампании.\n",
    "Перед вами данные до 2016 года. Представим, что сейчас декабрь 2016 г., и вы планируете кампанию на 2017-й. Нужно отработать принцип работы с данными. Неважно, прогнозируете ли вы продажи на 2017 год по данным 2016-го или же 2027-й — по данным 2026 года.\n",
    "В наборе данных попадается аббревиатура ESRB (Entertainment Software Rating Board) — это ассоциация, определяющая возрастной рейтинг компьютерных игр. ESRB оценивает игровой контент и присваивает ему подходящую возрастную категорию, например, «Для взрослых», «Для детей младшего возраста» или «Для подростков».\n",
    "\n",
    "Путь к файлу: `/datasets/games.csv`.\n",
    "\n",
    "\n",
    "Исследование пройдёт в несколько этапов:\n",
    " 1. Обзор данных.\n",
    " 2. Подготовка данных.\n",
    " 3. Исследовательский анализ данных.\n",
    " 4. Составление портрета пользователя каждого региона.\n",
    " 5. Проверка гипотез.\n",
    " 6. Общий вывод."
   ]
  },
  {
   "cell_type": "markdown",
   "metadata": {},
   "source": [
    "### Описание данных\n",
    "* Name — название игры\n",
    "* Platform — платформа\n",
    "* Year_of_Release — год выпуска\n",
    "* Genre — жанр игры\n",
    "* NA_sales — продажи в Северной Америке (миллионы проданных копий)\n",
    "* EU_sales — продажи в Европе (миллионы проданных копий)\n",
    "* JP_sales — продажи в Японии (миллионы проданных копий)\n",
    "* Other_sales — продажи в других странах (миллионы проданных копий)\n",
    "* Critic_Score — оценка критиков (максимум 100)\n",
    "* User_Score — оценка пользователей (максимум 10)\n",
    "* Rating — рейтинг от организации ESRB (англ. Entertainment Software Rating Board). Эта ассоциация определяет рейтинг компьютерных игр и присваивает им подходящую возрастную категорию."
   ]
  },
  {
   "cell_type": "code",
   "execution_count": 1,
   "metadata": {},
   "outputs": [],
   "source": [
    "import pandas as pd\n",
    "import numpy as np\n",
    "import seaborn as sns\n",
    "import matplotlib.pyplot as plt\n",
    "from scipy import stats as st\n",
    "import warnings\n",
    "\n",
    "warnings.filterwarnings('ignore')\n",
    "\n",
    "df = pd.read_csv('/datasets/games.csv')"
   ]
  },
  {
   "cell_type": "code",
   "execution_count": 2,
   "metadata": {
    "scrolled": false
   },
   "outputs": [
    {
     "name": "stdout",
     "output_type": "stream",
     "text": [
      "<class 'pandas.core.frame.DataFrame'>\n",
      "RangeIndex: 16715 entries, 0 to 16714\n",
      "Data columns (total 11 columns):\n",
      " #   Column           Non-Null Count  Dtype  \n",
      "---  ------           --------------  -----  \n",
      " 0   Name             16713 non-null  object \n",
      " 1   Platform         16715 non-null  object \n",
      " 2   Year_of_Release  16446 non-null  float64\n",
      " 3   Genre            16713 non-null  object \n",
      " 4   NA_sales         16715 non-null  float64\n",
      " 5   EU_sales         16715 non-null  float64\n",
      " 6   JP_sales         16715 non-null  float64\n",
      " 7   Other_sales      16715 non-null  float64\n",
      " 8   Critic_Score     8137 non-null   float64\n",
      " 9   User_Score       10014 non-null  object \n",
      " 10  Rating           9949 non-null   object \n",
      "dtypes: float64(6), object(5)\n",
      "memory usage: 1.4+ MB\n"
     ]
    },
    {
     "data": {
      "text/html": [
       "<div>\n",
       "<style scoped>\n",
       "    .dataframe tbody tr th:only-of-type {\n",
       "        vertical-align: middle;\n",
       "    }\n",
       "\n",
       "    .dataframe tbody tr th {\n",
       "        vertical-align: top;\n",
       "    }\n",
       "\n",
       "    .dataframe thead th {\n",
       "        text-align: right;\n",
       "    }\n",
       "</style>\n",
       "<table border=\"1\" class=\"dataframe\">\n",
       "  <thead>\n",
       "    <tr style=\"text-align: right;\">\n",
       "      <th></th>\n",
       "      <th>Name</th>\n",
       "      <th>Platform</th>\n",
       "      <th>Year_of_Release</th>\n",
       "      <th>Genre</th>\n",
       "      <th>NA_sales</th>\n",
       "      <th>EU_sales</th>\n",
       "      <th>JP_sales</th>\n",
       "      <th>Other_sales</th>\n",
       "      <th>Critic_Score</th>\n",
       "      <th>User_Score</th>\n",
       "      <th>Rating</th>\n",
       "    </tr>\n",
       "  </thead>\n",
       "  <tbody>\n",
       "    <tr>\n",
       "      <th>0</th>\n",
       "      <td>Wii Sports</td>\n",
       "      <td>Wii</td>\n",
       "      <td>2006.0</td>\n",
       "      <td>Sports</td>\n",
       "      <td>41.36</td>\n",
       "      <td>28.96</td>\n",
       "      <td>3.77</td>\n",
       "      <td>8.45</td>\n",
       "      <td>76.0</td>\n",
       "      <td>8</td>\n",
       "      <td>E</td>\n",
       "    </tr>\n",
       "    <tr>\n",
       "      <th>1</th>\n",
       "      <td>Super Mario Bros.</td>\n",
       "      <td>NES</td>\n",
       "      <td>1985.0</td>\n",
       "      <td>Platform</td>\n",
       "      <td>29.08</td>\n",
       "      <td>3.58</td>\n",
       "      <td>6.81</td>\n",
       "      <td>0.77</td>\n",
       "      <td>NaN</td>\n",
       "      <td>NaN</td>\n",
       "      <td>NaN</td>\n",
       "    </tr>\n",
       "    <tr>\n",
       "      <th>2</th>\n",
       "      <td>Mario Kart Wii</td>\n",
       "      <td>Wii</td>\n",
       "      <td>2008.0</td>\n",
       "      <td>Racing</td>\n",
       "      <td>15.68</td>\n",
       "      <td>12.76</td>\n",
       "      <td>3.79</td>\n",
       "      <td>3.29</td>\n",
       "      <td>82.0</td>\n",
       "      <td>8.3</td>\n",
       "      <td>E</td>\n",
       "    </tr>\n",
       "    <tr>\n",
       "      <th>3</th>\n",
       "      <td>Wii Sports Resort</td>\n",
       "      <td>Wii</td>\n",
       "      <td>2009.0</td>\n",
       "      <td>Sports</td>\n",
       "      <td>15.61</td>\n",
       "      <td>10.93</td>\n",
       "      <td>3.28</td>\n",
       "      <td>2.95</td>\n",
       "      <td>80.0</td>\n",
       "      <td>8</td>\n",
       "      <td>E</td>\n",
       "    </tr>\n",
       "    <tr>\n",
       "      <th>4</th>\n",
       "      <td>Pokemon Red/Pokemon Blue</td>\n",
       "      <td>GB</td>\n",
       "      <td>1996.0</td>\n",
       "      <td>Role-Playing</td>\n",
       "      <td>11.27</td>\n",
       "      <td>8.89</td>\n",
       "      <td>10.22</td>\n",
       "      <td>1.00</td>\n",
       "      <td>NaN</td>\n",
       "      <td>NaN</td>\n",
       "      <td>NaN</td>\n",
       "    </tr>\n",
       "    <tr>\n",
       "      <th>5</th>\n",
       "      <td>Tetris</td>\n",
       "      <td>GB</td>\n",
       "      <td>1989.0</td>\n",
       "      <td>Puzzle</td>\n",
       "      <td>23.20</td>\n",
       "      <td>2.26</td>\n",
       "      <td>4.22</td>\n",
       "      <td>0.58</td>\n",
       "      <td>NaN</td>\n",
       "      <td>NaN</td>\n",
       "      <td>NaN</td>\n",
       "    </tr>\n",
       "    <tr>\n",
       "      <th>6</th>\n",
       "      <td>New Super Mario Bros.</td>\n",
       "      <td>DS</td>\n",
       "      <td>2006.0</td>\n",
       "      <td>Platform</td>\n",
       "      <td>11.28</td>\n",
       "      <td>9.14</td>\n",
       "      <td>6.50</td>\n",
       "      <td>2.88</td>\n",
       "      <td>89.0</td>\n",
       "      <td>8.5</td>\n",
       "      <td>E</td>\n",
       "    </tr>\n",
       "    <tr>\n",
       "      <th>7</th>\n",
       "      <td>Wii Play</td>\n",
       "      <td>Wii</td>\n",
       "      <td>2006.0</td>\n",
       "      <td>Misc</td>\n",
       "      <td>13.96</td>\n",
       "      <td>9.18</td>\n",
       "      <td>2.93</td>\n",
       "      <td>2.84</td>\n",
       "      <td>58.0</td>\n",
       "      <td>6.6</td>\n",
       "      <td>E</td>\n",
       "    </tr>\n",
       "    <tr>\n",
       "      <th>8</th>\n",
       "      <td>New Super Mario Bros. Wii</td>\n",
       "      <td>Wii</td>\n",
       "      <td>2009.0</td>\n",
       "      <td>Platform</td>\n",
       "      <td>14.44</td>\n",
       "      <td>6.94</td>\n",
       "      <td>4.70</td>\n",
       "      <td>2.24</td>\n",
       "      <td>87.0</td>\n",
       "      <td>8.4</td>\n",
       "      <td>E</td>\n",
       "    </tr>\n",
       "    <tr>\n",
       "      <th>9</th>\n",
       "      <td>Duck Hunt</td>\n",
       "      <td>NES</td>\n",
       "      <td>1984.0</td>\n",
       "      <td>Shooter</td>\n",
       "      <td>26.93</td>\n",
       "      <td>0.63</td>\n",
       "      <td>0.28</td>\n",
       "      <td>0.47</td>\n",
       "      <td>NaN</td>\n",
       "      <td>NaN</td>\n",
       "      <td>NaN</td>\n",
       "    </tr>\n",
       "  </tbody>\n",
       "</table>\n",
       "</div>"
      ],
      "text/plain": [
       "                        Name Platform  Year_of_Release         Genre  \\\n",
       "0                 Wii Sports      Wii           2006.0        Sports   \n",
       "1          Super Mario Bros.      NES           1985.0      Platform   \n",
       "2             Mario Kart Wii      Wii           2008.0        Racing   \n",
       "3          Wii Sports Resort      Wii           2009.0        Sports   \n",
       "4   Pokemon Red/Pokemon Blue       GB           1996.0  Role-Playing   \n",
       "5                     Tetris       GB           1989.0        Puzzle   \n",
       "6      New Super Mario Bros.       DS           2006.0      Platform   \n",
       "7                   Wii Play      Wii           2006.0          Misc   \n",
       "8  New Super Mario Bros. Wii      Wii           2009.0      Platform   \n",
       "9                  Duck Hunt      NES           1984.0       Shooter   \n",
       "\n",
       "   NA_sales  EU_sales  JP_sales  Other_sales  Critic_Score User_Score Rating  \n",
       "0     41.36     28.96      3.77         8.45          76.0          8      E  \n",
       "1     29.08      3.58      6.81         0.77           NaN        NaN    NaN  \n",
       "2     15.68     12.76      3.79         3.29          82.0        8.3      E  \n",
       "3     15.61     10.93      3.28         2.95          80.0          8      E  \n",
       "4     11.27      8.89     10.22         1.00           NaN        NaN    NaN  \n",
       "5     23.20      2.26      4.22         0.58           NaN        NaN    NaN  \n",
       "6     11.28      9.14      6.50         2.88          89.0        8.5      E  \n",
       "7     13.96      9.18      2.93         2.84          58.0        6.6      E  \n",
       "8     14.44      6.94      4.70         2.24          87.0        8.4      E  \n",
       "9     26.93      0.63      0.28         0.47           NaN        NaN    NaN  "
      ]
     },
     "metadata": {},
     "output_type": "display_data"
    },
    {
     "data": {
      "text/html": [
       "<div>\n",
       "<style scoped>\n",
       "    .dataframe tbody tr th:only-of-type {\n",
       "        vertical-align: middle;\n",
       "    }\n",
       "\n",
       "    .dataframe tbody tr th {\n",
       "        vertical-align: top;\n",
       "    }\n",
       "\n",
       "    .dataframe thead th {\n",
       "        text-align: right;\n",
       "    }\n",
       "</style>\n",
       "<table border=\"1\" class=\"dataframe\">\n",
       "  <thead>\n",
       "    <tr style=\"text-align: right;\">\n",
       "      <th></th>\n",
       "      <th>Name</th>\n",
       "      <th>Platform</th>\n",
       "      <th>Year_of_Release</th>\n",
       "      <th>Genre</th>\n",
       "      <th>NA_sales</th>\n",
       "      <th>EU_sales</th>\n",
       "      <th>JP_sales</th>\n",
       "      <th>Other_sales</th>\n",
       "      <th>Critic_Score</th>\n",
       "      <th>User_Score</th>\n",
       "      <th>Rating</th>\n",
       "    </tr>\n",
       "  </thead>\n",
       "  <tbody>\n",
       "    <tr>\n",
       "      <th>16705</th>\n",
       "      <td>15 Days</td>\n",
       "      <td>PC</td>\n",
       "      <td>2009.0</td>\n",
       "      <td>Adventure</td>\n",
       "      <td>0.00</td>\n",
       "      <td>0.01</td>\n",
       "      <td>0.00</td>\n",
       "      <td>0.0</td>\n",
       "      <td>63.0</td>\n",
       "      <td>5.8</td>\n",
       "      <td>NaN</td>\n",
       "    </tr>\n",
       "    <tr>\n",
       "      <th>16706</th>\n",
       "      <td>Men in Black II: Alien Escape</td>\n",
       "      <td>GC</td>\n",
       "      <td>2003.0</td>\n",
       "      <td>Shooter</td>\n",
       "      <td>0.01</td>\n",
       "      <td>0.00</td>\n",
       "      <td>0.00</td>\n",
       "      <td>0.0</td>\n",
       "      <td>NaN</td>\n",
       "      <td>tbd</td>\n",
       "      <td>T</td>\n",
       "    </tr>\n",
       "    <tr>\n",
       "      <th>16707</th>\n",
       "      <td>Aiyoku no Eustia</td>\n",
       "      <td>PSV</td>\n",
       "      <td>2014.0</td>\n",
       "      <td>Misc</td>\n",
       "      <td>0.00</td>\n",
       "      <td>0.00</td>\n",
       "      <td>0.01</td>\n",
       "      <td>0.0</td>\n",
       "      <td>NaN</td>\n",
       "      <td>NaN</td>\n",
       "      <td>NaN</td>\n",
       "    </tr>\n",
       "    <tr>\n",
       "      <th>16708</th>\n",
       "      <td>Woody Woodpecker in Crazy Castle 5</td>\n",
       "      <td>GBA</td>\n",
       "      <td>2002.0</td>\n",
       "      <td>Platform</td>\n",
       "      <td>0.01</td>\n",
       "      <td>0.00</td>\n",
       "      <td>0.00</td>\n",
       "      <td>0.0</td>\n",
       "      <td>NaN</td>\n",
       "      <td>NaN</td>\n",
       "      <td>NaN</td>\n",
       "    </tr>\n",
       "    <tr>\n",
       "      <th>16709</th>\n",
       "      <td>SCORE International Baja 1000: The Official Game</td>\n",
       "      <td>PS2</td>\n",
       "      <td>2008.0</td>\n",
       "      <td>Racing</td>\n",
       "      <td>0.00</td>\n",
       "      <td>0.00</td>\n",
       "      <td>0.00</td>\n",
       "      <td>0.0</td>\n",
       "      <td>NaN</td>\n",
       "      <td>NaN</td>\n",
       "      <td>NaN</td>\n",
       "    </tr>\n",
       "    <tr>\n",
       "      <th>16710</th>\n",
       "      <td>Samurai Warriors: Sanada Maru</td>\n",
       "      <td>PS3</td>\n",
       "      <td>2016.0</td>\n",
       "      <td>Action</td>\n",
       "      <td>0.00</td>\n",
       "      <td>0.00</td>\n",
       "      <td>0.01</td>\n",
       "      <td>0.0</td>\n",
       "      <td>NaN</td>\n",
       "      <td>NaN</td>\n",
       "      <td>NaN</td>\n",
       "    </tr>\n",
       "    <tr>\n",
       "      <th>16711</th>\n",
       "      <td>LMA Manager 2007</td>\n",
       "      <td>X360</td>\n",
       "      <td>2006.0</td>\n",
       "      <td>Sports</td>\n",
       "      <td>0.00</td>\n",
       "      <td>0.01</td>\n",
       "      <td>0.00</td>\n",
       "      <td>0.0</td>\n",
       "      <td>NaN</td>\n",
       "      <td>NaN</td>\n",
       "      <td>NaN</td>\n",
       "    </tr>\n",
       "    <tr>\n",
       "      <th>16712</th>\n",
       "      <td>Haitaka no Psychedelica</td>\n",
       "      <td>PSV</td>\n",
       "      <td>2016.0</td>\n",
       "      <td>Adventure</td>\n",
       "      <td>0.00</td>\n",
       "      <td>0.00</td>\n",
       "      <td>0.01</td>\n",
       "      <td>0.0</td>\n",
       "      <td>NaN</td>\n",
       "      <td>NaN</td>\n",
       "      <td>NaN</td>\n",
       "    </tr>\n",
       "    <tr>\n",
       "      <th>16713</th>\n",
       "      <td>Spirits &amp; Spells</td>\n",
       "      <td>GBA</td>\n",
       "      <td>2003.0</td>\n",
       "      <td>Platform</td>\n",
       "      <td>0.01</td>\n",
       "      <td>0.00</td>\n",
       "      <td>0.00</td>\n",
       "      <td>0.0</td>\n",
       "      <td>NaN</td>\n",
       "      <td>NaN</td>\n",
       "      <td>NaN</td>\n",
       "    </tr>\n",
       "    <tr>\n",
       "      <th>16714</th>\n",
       "      <td>Winning Post 8 2016</td>\n",
       "      <td>PSV</td>\n",
       "      <td>2016.0</td>\n",
       "      <td>Simulation</td>\n",
       "      <td>0.00</td>\n",
       "      <td>0.00</td>\n",
       "      <td>0.01</td>\n",
       "      <td>0.0</td>\n",
       "      <td>NaN</td>\n",
       "      <td>NaN</td>\n",
       "      <td>NaN</td>\n",
       "    </tr>\n",
       "  </tbody>\n",
       "</table>\n",
       "</div>"
      ],
      "text/plain": [
       "                                                   Name Platform  \\\n",
       "16705                                           15 Days       PC   \n",
       "16706                     Men in Black II: Alien Escape       GC   \n",
       "16707                                  Aiyoku no Eustia      PSV   \n",
       "16708                Woody Woodpecker in Crazy Castle 5      GBA   \n",
       "16709  SCORE International Baja 1000: The Official Game      PS2   \n",
       "16710                     Samurai Warriors: Sanada Maru      PS3   \n",
       "16711                                  LMA Manager 2007     X360   \n",
       "16712                           Haitaka no Psychedelica      PSV   \n",
       "16713                                  Spirits & Spells      GBA   \n",
       "16714                               Winning Post 8 2016      PSV   \n",
       "\n",
       "       Year_of_Release       Genre  NA_sales  EU_sales  JP_sales  Other_sales  \\\n",
       "16705           2009.0   Adventure      0.00      0.01      0.00          0.0   \n",
       "16706           2003.0     Shooter      0.01      0.00      0.00          0.0   \n",
       "16707           2014.0        Misc      0.00      0.00      0.01          0.0   \n",
       "16708           2002.0    Platform      0.01      0.00      0.00          0.0   \n",
       "16709           2008.0      Racing      0.00      0.00      0.00          0.0   \n",
       "16710           2016.0      Action      0.00      0.00      0.01          0.0   \n",
       "16711           2006.0      Sports      0.00      0.01      0.00          0.0   \n",
       "16712           2016.0   Adventure      0.00      0.00      0.01          0.0   \n",
       "16713           2003.0    Platform      0.01      0.00      0.00          0.0   \n",
       "16714           2016.0  Simulation      0.00      0.00      0.01          0.0   \n",
       "\n",
       "       Critic_Score User_Score Rating  \n",
       "16705          63.0        5.8    NaN  \n",
       "16706           NaN        tbd      T  \n",
       "16707           NaN        NaN    NaN  \n",
       "16708           NaN        NaN    NaN  \n",
       "16709           NaN        NaN    NaN  \n",
       "16710           NaN        NaN    NaN  \n",
       "16711           NaN        NaN    NaN  \n",
       "16712           NaN        NaN    NaN  \n",
       "16713           NaN        NaN    NaN  \n",
       "16714           NaN        NaN    NaN  "
      ]
     },
     "metadata": {},
     "output_type": "display_data"
    },
    {
     "data": {
      "text/plain": [
       "Need for Speed: Most Wanted                       12\n",
       "Madden NFL 07                                      9\n",
       "LEGO Marvel Super Heroes                           9\n",
       "FIFA 14                                            9\n",
       "Ratatouille                                        9\n",
       "                                                  ..\n",
       "Danny Phantom: Urban Jungle                        1\n",
       "Suzunone Seven: Rebirth Knot                       1\n",
       "Okashi na Shima no Peter Pan: Sweet Never Land     1\n",
       "Holly Hobbie & Friends                             1\n",
       "Men of War: Assault Squad                          1\n",
       "Name: Name, Length: 11559, dtype: int64"
      ]
     },
     "metadata": {},
     "output_type": "display_data"
    },
    {
     "data": {
      "text/plain": [
       "PS2     2161\n",
       "DS      2151\n",
       "PS3     1331\n",
       "Wii     1320\n",
       "X360    1262\n",
       "PSP     1209\n",
       "PS      1197\n",
       "PC       974\n",
       "XB       824\n",
       "GBA      822\n",
       "GC       556\n",
       "3DS      520\n",
       "PSV      430\n",
       "PS4      392\n",
       "N64      319\n",
       "XOne     247\n",
       "SNES     239\n",
       "SAT      173\n",
       "WiiU     147\n",
       "2600     133\n",
       "GB        98\n",
       "NES       98\n",
       "DC        52\n",
       "GEN       29\n",
       "NG        12\n",
       "SCD        6\n",
       "WS         6\n",
       "3DO        3\n",
       "TG16       2\n",
       "GG         1\n",
       "PCFX       1\n",
       "Name: Platform, dtype: int64"
      ]
     },
     "metadata": {},
     "output_type": "display_data"
    },
    {
     "data": {
      "text/plain": [
       "2008.0    1427\n",
       "2009.0    1426\n",
       "2010.0    1255\n",
       "2007.0    1197\n",
       "2011.0    1136\n",
       "2006.0    1006\n",
       "2005.0     939\n",
       "2002.0     829\n",
       "2003.0     775\n",
       "2004.0     762\n",
       "2012.0     653\n",
       "2015.0     606\n",
       "2014.0     581\n",
       "2013.0     544\n",
       "2016.0     502\n",
       "2001.0     482\n",
       "1998.0     379\n",
       "2000.0     350\n",
       "1999.0     338\n",
       "1997.0     289\n",
       "1996.0     263\n",
       "1995.0     219\n",
       "1994.0     121\n",
       "1993.0      62\n",
       "1981.0      46\n",
       "1992.0      43\n",
       "1991.0      41\n",
       "1982.0      36\n",
       "1986.0      21\n",
       "1989.0      17\n",
       "1983.0      17\n",
       "1987.0      16\n",
       "1990.0      16\n",
       "1988.0      15\n",
       "1984.0      14\n",
       "1985.0      14\n",
       "1980.0       9\n",
       "Name: Year_of_Release, dtype: int64"
      ]
     },
     "metadata": {},
     "output_type": "display_data"
    },
    {
     "data": {
      "text/plain": [
       "Action          3369\n",
       "Sports          2348\n",
       "Misc            1750\n",
       "Role-Playing    1498\n",
       "Shooter         1323\n",
       "Adventure       1303\n",
       "Racing          1249\n",
       "Platform         888\n",
       "Simulation       873\n",
       "Fighting         849\n",
       "Strategy         683\n",
       "Puzzle           580\n",
       "Name: Genre, dtype: int64"
      ]
     },
     "metadata": {},
     "output_type": "display_data"
    },
    {
     "data": {
      "text/plain": [
       "0.00    4508\n",
       "0.02     576\n",
       "0.03     561\n",
       "0.04     549\n",
       "0.01     545\n",
       "        ... \n",
       "4.12       1\n",
       "8.41       1\n",
       "1.97       1\n",
       "3.70       1\n",
       "3.43       1\n",
       "Name: NA_sales, Length: 402, dtype: int64"
      ]
     },
     "metadata": {},
     "output_type": "display_data"
    },
    {
     "data": {
      "text/plain": [
       "0.00    5870\n",
       "0.01    1494\n",
       "0.02    1308\n",
       "0.03     926\n",
       "0.04     709\n",
       "        ... \n",
       "9.14       1\n",
       "1.92       1\n",
       "3.86       1\n",
       "2.59       1\n",
       "3.87       1\n",
       "Name: EU_sales, Length: 307, dtype: int64"
      ]
     },
     "metadata": {},
     "output_type": "display_data"
    },
    {
     "data": {
      "text/plain": [
       "0.00    10514\n",
       "0.02      741\n",
       "0.01      706\n",
       "0.03      546\n",
       "0.04      397\n",
       "        ...  \n",
       "3.84        1\n",
       "1.17        1\n",
       "3.03        1\n",
       "2.66        1\n",
       "1.71        1\n",
       "Name: JP_sales, Length: 244, dtype: int64"
      ]
     },
     "metadata": {},
     "output_type": "display_data"
    },
    {
     "data": {
      "text/plain": [
       "0.00    6601\n",
       "0.01    3464\n",
       "0.02    1618\n",
       "0.03     926\n",
       "0.04     654\n",
       "        ... \n",
       "0.72       1\n",
       "2.11       1\n",
       "0.96       1\n",
       "1.48       1\n",
       "3.96       1\n",
       "Name: Other_sales, Length: 155, dtype: int64"
      ]
     },
     "metadata": {},
     "output_type": "display_data"
    },
    {
     "data": {
      "text/plain": [
       "70.0    256\n",
       "71.0    254\n",
       "75.0    245\n",
       "78.0    240\n",
       "73.0    238\n",
       "       ... \n",
       "29.0      3\n",
       "13.0      1\n",
       "22.0      1\n",
       "17.0      1\n",
       "21.0      1\n",
       "Name: Critic_Score, Length: 82, dtype: int64"
      ]
     },
     "metadata": {},
     "output_type": "display_data"
    },
    {
     "data": {
      "text/plain": [
       "tbd    2424\n",
       "7.8     324\n",
       "8       290\n",
       "8.2     282\n",
       "8.3     254\n",
       "       ... \n",
       "0.6       2\n",
       "2.3       2\n",
       "9.6       2\n",
       "9.7       1\n",
       "0         1\n",
       "Name: User_Score, Length: 96, dtype: int64"
      ]
     },
     "metadata": {},
     "output_type": "display_data"
    },
    {
     "data": {
      "text/plain": [
       "E       3990\n",
       "T       2961\n",
       "M       1563\n",
       "E10+    1420\n",
       "EC         8\n",
       "K-A        3\n",
       "RP         3\n",
       "AO         1\n",
       "Name: Rating, dtype: int64"
      ]
     },
     "metadata": {},
     "output_type": "display_data"
    }
   ],
   "source": [
    "# основная информация о датафрейме\n",
    "df.info() \n",
    "\n",
    "# первые 10 строк\n",
    "display(df.head(10))\n",
    "\n",
    "# последние 10 строк\n",
    "display(df.tail(10))\n",
    "\n",
    "# количество уникальных значений каждого столбца (помогает посмотреть и определиться с типом данных)\n",
    "for col in df.columns:\n",
    "    display(df[col].value_counts())"
   ]
  },
  {
   "cell_type": "markdown",
   "metadata": {},
   "source": [
    "----------------------\n",
    "Названия столбцов нужно привести к `змеиному_регистру`.\n",
    "В некоторых столбцах количество ненулевых значений не совпадает с общим количеством строк. Значит в тех столбцах есть пропуски в данных. \n",
    "В столбце `'Year_of_Release'` и `'Critic_Score'` нужно сменить тип на `'Int64'`.\n",
    "Столбец `'User_Score'` перевести в тип `'float64'`, в столбце  `'critic_score'` разделить значения на 10 и разобраться с аббревиатурой `'tbd'`."
   ]
  },
  {
   "cell_type": "markdown",
   "metadata": {},
   "source": [
    "## Подготовка данных"
   ]
  },
  {
   "cell_type": "markdown",
   "metadata": {},
   "source": [
    "### Замена названий столбцов"
   ]
  },
  {
   "cell_type": "code",
   "execution_count": 3,
   "metadata": {
    "scrolled": true
   },
   "outputs": [
    {
     "data": {
      "text/plain": [
       "Index(['Name', 'Platform', 'Year_of_Release', 'Genre', 'NA_sales', 'EU_sales',\n",
       "       'JP_sales', 'Other_sales', 'Critic_Score', 'User_Score', 'Rating'],\n",
       "      dtype='object')"
      ]
     },
     "execution_count": 3,
     "metadata": {},
     "output_type": "execute_result"
    }
   ],
   "source": [
    "# до\n",
    "df.columns"
   ]
  },
  {
   "cell_type": "code",
   "execution_count": 4,
   "metadata": {},
   "outputs": [
    {
     "data": {
      "text/plain": [
       "Index(['name', 'platform', 'year_of_release', 'genre', 'na_sales', 'eu_sales',\n",
       "       'jp_sales', 'other_sales', 'critic_score', 'user_score', 'rating'],\n",
       "      dtype='object')"
      ]
     },
     "execution_count": 4,
     "metadata": {},
     "output_type": "execute_result"
    }
   ],
   "source": [
    "#df.columns = map(str.lower, df.columns)\n",
    "df.columns = df.columns.str.lower()\n",
    "# после\n",
    "df.columns"
   ]
  },
  {
   "cell_type": "markdown",
   "metadata": {},
   "source": [
    "### Обработка пропусков"
   ]
  },
  {
   "cell_type": "code",
   "execution_count": 5,
   "metadata": {},
   "outputs": [
    {
     "data": {
      "text/plain": [
       "name                  2\n",
       "platform              0\n",
       "year_of_release     269\n",
       "genre                 2\n",
       "na_sales              0\n",
       "eu_sales              0\n",
       "jp_sales              0\n",
       "other_sales           0\n",
       "critic_score       8578\n",
       "user_score         6701\n",
       "rating             6766\n",
       "dtype: int64"
      ]
     },
     "execution_count": 5,
     "metadata": {},
     "output_type": "execute_result"
    }
   ],
   "source": [
    "# количество пропусков по столбцам\n",
    "df.isna().sum()"
   ]
  },
  {
   "cell_type": "markdown",
   "metadata": {},
   "source": [
    "Удалим строки с пропусками в `'name'` и `'genre'` т.к. малое количество, которое не повлияет на результаты.\n",
    "Пропуски в столбцах: `'year_of_release', 'critic_score', 'user_score', 'rating` - нет возможности адекватно заполнить или восстановить. Поэтому оставлю как есть.\n",
    "Аббревиатура `tbd` в столбце 'user_score' может означать `to be determined` т.е. `будет определено` но т.к. вряд ли что то определится - заменим на `NaN` чтобы можно было работать дальше."
   ]
  },
  {
   "cell_type": "code",
   "execution_count": 6,
   "metadata": {},
   "outputs": [
    {
     "data": {
      "text/plain": [
       "name                  0\n",
       "platform              0\n",
       "year_of_release     269\n",
       "genre                 0\n",
       "na_sales              0\n",
       "eu_sales              0\n",
       "jp_sales              0\n",
       "other_sales           0\n",
       "critic_score       8576\n",
       "user_score         9123\n",
       "rating             6764\n",
       "dtype: int64"
      ]
     },
     "execution_count": 6,
     "metadata": {},
     "output_type": "execute_result"
    }
   ],
   "source": [
    "# удаляем строки с пропусками\n",
    "df = df.dropna(subset=['name', 'genre'])\n",
    "# замена tbd на NaN\n",
    "df['user_score'] = df['user_score'].replace('tbd', np.NaN)\n",
    "# и еще раз количество пропусков по столбцам\n",
    "df.isna().sum() "
   ]
  },
  {
   "cell_type": "markdown",
   "metadata": {},
   "source": [
    "### Смена типов данных"
   ]
  },
  {
   "cell_type": "code",
   "execution_count": 7,
   "metadata": {},
   "outputs": [
    {
     "name": "stdout",
     "output_type": "stream",
     "text": [
      "<class 'pandas.core.frame.DataFrame'>\n",
      "Int64Index: 16713 entries, 0 to 16714\n",
      "Data columns (total 11 columns):\n",
      " #   Column           Non-Null Count  Dtype  \n",
      "---  ------           --------------  -----  \n",
      " 0   name             16713 non-null  object \n",
      " 1   platform         16713 non-null  object \n",
      " 2   year_of_release  16444 non-null  Int64  \n",
      " 3   genre            16713 non-null  object \n",
      " 4   na_sales         16713 non-null  float64\n",
      " 5   eu_sales         16713 non-null  float64\n",
      " 6   jp_sales         16713 non-null  float64\n",
      " 7   other_sales      16713 non-null  float64\n",
      " 8   critic_score     8137 non-null   float64\n",
      " 9   user_score       7590 non-null   float64\n",
      " 10  rating           9949 non-null   object \n",
      "dtypes: Int64(1), float64(6), object(4)\n",
      "memory usage: 1.5+ MB\n"
     ]
    }
   ],
   "source": [
    "# преобразуем данные в нужный тип\n",
    "df = df.astype({'year_of_release': 'Int64'})\n",
    "df['user_score'] = df['user_score'].astype('float')\n",
    "# разделим на 10 значения в столбце для cхожего формата оценок с 'user_score'\n",
    "df['critic_score'] = df['critic_score'] / 10\n",
    "# и посмотрим на результат\n",
    "df.info()"
   ]
  },
  {
   "cell_type": "markdown",
   "metadata": {},
   "source": [
    "### Сумма продаж\n",
    "Посчитаем сумму продаж во всех регионах и добавим в `total_sales`"
   ]
  },
  {
   "cell_type": "code",
   "execution_count": 8,
   "metadata": {},
   "outputs": [],
   "source": [
    "df['total_sales'] = df['na_sales'] + df['eu_sales'] + df['jp_sales'] + df['other_sales']"
   ]
  },
  {
   "cell_type": "markdown",
   "metadata": {},
   "source": [
    "-------------------------------------\n",
    "Названия столбцов приведены к нижнему регистру, удалены несколько строк с пропусками, изменены типы данных там где планировали. Получилось большое количество пропусков в столбцах `critic_score, user_score, rating`. Возможно эти пропуски связаны с технической ошибкой, каким то сокрытием информации или сбором данных - например для старых или новых игр могли не \"собрать\" достаточное количество оценок для выводов общей оценки. Пропуски в `year_of_release` не так велики по количеству но похожи на техническую ошибку."
   ]
  },
  {
   "cell_type": "markdown",
   "metadata": {},
   "source": [
    "## Исследовательский анализ данных"
   ]
  },
  {
   "cell_type": "markdown",
   "metadata": {},
   "source": [
    "Построим гистограмму и посмотрим на количество проданных игр по годам"
   ]
  },
  {
   "cell_type": "code",
   "execution_count": 9,
   "metadata": {},
   "outputs": [
    {
     "data": {
      "image/png": "[encoded data removed]",
      "text/plain": [
       "<Figure size 1080x504 with 1 Axes>"
      ]
     },
     "metadata": {
      "needs_background": "light"
     },
     "output_type": "display_data"
    }
   ],
   "source": [
    "df['year_of_release'].hist(bins=36, grid=True, figsize=(15,7))\n",
    "plt.title('Количество проданных игр по годам');"
   ]
  },
  {
   "cell_type": "markdown",
   "metadata": {},
   "source": [
    "После 1995 года начинается значительный рост продаж игр. С 2008 по 2010 было выпущено больше всего игр. Данные за весь период важны для истории. Для прогнозов думаю нужны свежие данные. \n",
    "\n",
    "------------------------\n",
    "\n",
    "Посмотрим как менялись продажи по платформам:"
   ]
  },
  {
   "cell_type": "code",
   "execution_count": 10,
   "metadata": {},
   "outputs": [
    {
     "data": {
      "text/plain": [
       "platform\n",
       "PS2     1255.77\n",
       "X360     971.42\n",
       "PS3      939.65\n",
       "Wii      907.51\n",
       "DS       806.12\n",
       "PS       730.86\n",
       "GBA      317.85\n",
       "PS4      314.14\n",
       "PSP      294.05\n",
       "PC       259.52\n",
       "3DS      259.00\n",
       "XB       257.74\n",
       "GB       255.46\n",
       "NES      251.05\n",
       "N64      218.68\n",
       "SNES     200.04\n",
       "GC       198.93\n",
       "XOne     159.32\n",
       "2600      96.98\n",
       "WiiU      82.19\n",
       "PSV       54.07\n",
       "SAT       33.59\n",
       "GEN       28.35\n",
       "DC        15.95\n",
       "SCD        1.86\n",
       "NG         1.44\n",
       "WS         1.42\n",
       "TG16       0.16\n",
       "3DO        0.10\n",
       "GG         0.04\n",
       "PCFX       0.03\n",
       "Name: total_sales, dtype: float64"
      ]
     },
     "execution_count": 10,
     "metadata": {},
     "output_type": "execute_result"
    }
   ],
   "source": [
    "# рейтинг платформ по суммарным продажам\n",
    "df.groupby('platform')['total_sales'].sum().sort_values(ascending=False)"
   ]
  },
  {
   "cell_type": "markdown",
   "metadata": {},
   "source": [
    "Получается платформы с наибольшими суммарными продажами: PS2, X360, PS3, Wii, DS, PS. Остальные отстают более чем в два раза от последнего из шестерки лидеров.\n",
    "\n",
    "Построим распределение по годам:"
   ]
  },
  {
   "cell_type": "code",
   "execution_count": 11,
   "metadata": {},
   "outputs": [],
   "source": [
    "top_platforms = df.groupby('platform')['total_sales'].sum().sort_values(ascending=False).head(6).index.to_list()\n",
    "\n",
    "df_top_platform = df[df['platform'].isin(top_platforms)]"
   ]
  },
  {
   "cell_type": "code",
   "execution_count": 12,
   "metadata": {},
   "outputs": [
    {
     "data": {
      "image/png": "[encoded data removed]",
      "text/plain": [
       "<Figure size 1080x504 with 1 Axes>"
      ]
     },
     "metadata": {
      "needs_background": "light"
     },
     "output_type": "display_data"
    }
   ],
   "source": [
    "\n",
    "df_top_platform.pivot_table(index='year_of_release', columns='platform', values='total_sales', aggfunc='sum').plot.bar(stacked=True, figsize=(15, 7), grid=True)\n",
    "plt.title('Распределение продаж популярных платформ по годам')\n",
    "plt.xlabel('Год выпуска')\n",
    "plt.ylabel('Сумма продаж');"
   ]
  },
  {
   "cell_type": "markdown",
   "metadata": {},
   "source": [
    "Срок жизни платформ по продажам игр составляет ~10 лет. За этот период появляются новые и исчезают старые платформы.\n",
    "\n",
    "Также определим актуальный период для прогноза на 2017 год:"
   ]
  },
  {
   "cell_type": "code",
   "execution_count": 13,
   "metadata": {},
   "outputs": [
    {
     "data": {
      "image/png": "[encoded data removed]",
      "text/plain": [
       "<Figure size 1152x864 with 1 Axes>"
      ]
     },
     "metadata": {
      "needs_background": "light"
     },
     "output_type": "display_data"
    }
   ],
   "source": [
    "df.pivot_table(index='year_of_release', columns='platform', values='total_sales', aggfunc='sum').plot.bar(stacked=True, figsize=(16, 12), grid=True)\n",
    "plt.title('Распределение продаж игр на всех платформах по годам')\n",
    "plt.xlabel('Год выпуска')\n",
    "plt.ylabel('Сумма продаж');"
   ]
  },
  {
   "cell_type": "markdown",
   "metadata": {},
   "source": [
    "На столбчатой диаграмме видно набирающие \"обороты\" `PS4` и `XOne` начиная с 2013 года. \n",
    "\n",
    "Рассмотрим этот период подробнее:"
   ]
  },
  {
   "cell_type": "code",
   "execution_count": 14,
   "metadata": {},
   "outputs": [
    {
     "data": {
      "image/png": "[encoded data removed]",
      "text/plain": [
       "<Figure size 720x360 with 1 Axes>"
      ]
     },
     "metadata": {
      "needs_background": "light"
     },
     "output_type": "display_data"
    }
   ],
   "source": [
    "# возьмем актуальный период и построим распределение по нему\n",
    "df_actual = df.query('2013 <= year_of_release')\n",
    "df_actual.pivot_table(index='year_of_release', columns='platform', values='total_sales', aggfunc='sum').plot.bar(stacked=True, figsize=(10, 5), grid=True)\n",
    "plt.title('Распределение продаж игр на всех платформах с 2013 года')\n",
    "plt.xlabel('Год выпуска')\n",
    "plt.ylabel('Сумма продаж');"
   ]
  },
  {
   "cell_type": "markdown",
   "metadata": {},
   "source": [
    "Да, так и есть - две платформы потенциально прибыльны. 3DS меньше но все еще может относительно неплохо себя показать. (Просадка в 2016 обусловлена неполными данными)\n",
    "\n",
    "------------------------\n",
    "\n",
    "Построим график «ящик с усами» по глобальным продажам игр в разбивке по платформам:"
   ]
  },
  {
   "cell_type": "code",
   "execution_count": 15,
   "metadata": {},
   "outputs": [
    {
     "data": {
      "text/html": [
       "<div>\n",
       "<style scoped>\n",
       "    .dataframe tbody tr th:only-of-type {\n",
       "        vertical-align: middle;\n",
       "    }\n",
       "\n",
       "    .dataframe tbody tr th {\n",
       "        vertical-align: top;\n",
       "    }\n",
       "\n",
       "    .dataframe thead th {\n",
       "        text-align: right;\n",
       "    }\n",
       "</style>\n",
       "<table border=\"1\" class=\"dataframe\">\n",
       "  <thead>\n",
       "    <tr style=\"text-align: right;\">\n",
       "      <th></th>\n",
       "      <th>count</th>\n",
       "      <th>mean</th>\n",
       "      <th>std</th>\n",
       "      <th>min</th>\n",
       "      <th>25%</th>\n",
       "      <th>50%</th>\n",
       "      <th>75%</th>\n",
       "      <th>max</th>\n",
       "    </tr>\n",
       "    <tr>\n",
       "      <th>platform</th>\n",
       "      <th></th>\n",
       "      <th></th>\n",
       "      <th></th>\n",
       "      <th></th>\n",
       "      <th></th>\n",
       "      <th></th>\n",
       "      <th></th>\n",
       "      <th></th>\n",
       "    </tr>\n",
       "  </thead>\n",
       "  <tbody>\n",
       "    <tr>\n",
       "      <th>3DS</th>\n",
       "      <td>303.0</td>\n",
       "      <td>0.472772</td>\n",
       "      <td>1.381347</td>\n",
       "      <td>0.01</td>\n",
       "      <td>0.04</td>\n",
       "      <td>0.09</td>\n",
       "      <td>0.280</td>\n",
       "      <td>14.60</td>\n",
       "    </tr>\n",
       "    <tr>\n",
       "      <th>PS4</th>\n",
       "      <td>392.0</td>\n",
       "      <td>0.801378</td>\n",
       "      <td>1.609456</td>\n",
       "      <td>0.01</td>\n",
       "      <td>0.06</td>\n",
       "      <td>0.20</td>\n",
       "      <td>0.730</td>\n",
       "      <td>14.63</td>\n",
       "    </tr>\n",
       "    <tr>\n",
       "      <th>XOne</th>\n",
       "      <td>247.0</td>\n",
       "      <td>0.645020</td>\n",
       "      <td>1.036139</td>\n",
       "      <td>0.01</td>\n",
       "      <td>0.06</td>\n",
       "      <td>0.22</td>\n",
       "      <td>0.685</td>\n",
       "      <td>7.39</td>\n",
       "    </tr>\n",
       "  </tbody>\n",
       "</table>\n",
       "</div>"
      ],
      "text/plain": [
       "          count      mean       std   min   25%   50%    75%    max\n",
       "platform                                                           \n",
       "3DS       303.0  0.472772  1.381347  0.01  0.04  0.09  0.280  14.60\n",
       "PS4       392.0  0.801378  1.609456  0.01  0.06  0.20  0.730  14.63\n",
       "XOne      247.0  0.645020  1.036139  0.01  0.06  0.22  0.685   7.39"
      ]
     },
     "metadata": {},
     "output_type": "display_data"
    },
    {
     "data": {
      "image/png": "[encoded data removed]",
      "text/plain": [
       "<Figure size 720x720 with 1 Axes>"
      ]
     },
     "metadata": {
      "needs_background": "light"
     },
     "output_type": "display_data"
    }
   ],
   "source": [
    "df_platform_pot = df_actual.query(\"platform == ['PS4', 'XOne', '3DS']\")\n",
    "display(df_platform_pot.groupby('platform')['total_sales'].describe())\n",
    "df_platform_pot.boxplot(column='total_sales', by='platform', figsize=(10, 10))\n",
    "plt.ylim(ymax=6)\n",
    "plt.title('Разброс продаж перспективных платформ');"
   ]
  },
  {
   "cell_type": "markdown",
   "metadata": {},
   "source": [
    "`PS4` по всем показателям, кроме медианы, обходит `XOne`. `3DS` несмотря на относительно низкие показатели имеет выброс(хорошую игру) по продажам почти как у `PS4`.\n",
    "\n",
    "------------------------\n",
    "\n",
    "Посмотрим как влияют на продажи внутри одной популярной платформы отзывы пользователей и критиков. Построим диаграмму рассеяния и посчитаем корреляцию между отзывами и продажами. Выберем PS4 т.к. относится к актуальному периоду и имеет хорошие показатели продаж."
   ]
  },
  {
   "cell_type": "markdown",
   "metadata": {},
   "source": [
    "#### Зависимость продаж от оценок пользователей для PS4"
   ]
  },
  {
   "cell_type": "code",
   "execution_count": 16,
   "metadata": {},
   "outputs": [
    {
     "data": {
      "text/plain": [
       "-0.031957110204556376"
      ]
     },
     "execution_count": 16,
     "metadata": {},
     "output_type": "execute_result"
    },
    {
     "data": {
      "image/png": "[encoded data removed]",
      "text/plain": [
       "<Figure size 720x360 with 1 Axes>"
      ]
     },
     "metadata": {
      "needs_background": "light"
     },
     "output_type": "display_data"
    }
   ],
   "source": [
    "df_actual_ps4 = df_actual[df_actual['platform'] == 'PS4']\n",
    "df_actual_ps4.plot(x='user_score', y='total_sales', kind='scatter',figsize=(10,5))\n",
    "plt.title('Зависимость продаж от оценок пользователей')\n",
    "plt.xlabel('Оценки пользователей')\n",
    "plt.ylabel('Сумма продаж');\n",
    "df_actual_ps4['total_sales'].corr(df_actual_ps4['user_score'])"
   ]
  },
  {
   "cell_type": "markdown",
   "metadata": {},
   "source": [
    "Коэффициент корреляции Пирсона -0.03. Связь между отзывами пользователей и продажами отсутствует или незначительна."
   ]
  },
  {
   "cell_type": "code",
   "execution_count": 17,
   "metadata": {},
   "outputs": [
    {
     "data": {
      "text/plain": [
       "0.4065679020617812"
      ]
     },
     "execution_count": 17,
     "metadata": {},
     "output_type": "execute_result"
    },
    {
     "data": {
      "image/png": "[encoded data removed]",
      "text/plain": [
       "<Figure size 720x360 with 1 Axes>"
      ]
     },
     "metadata": {
      "needs_background": "light"
     },
     "output_type": "display_data"
    }
   ],
   "source": [
    "df_actual_ps4.plot(x='critic_score', y='total_sales', kind='scatter',figsize=(10,5))\n",
    "plt.title('Зависимость продаж от оценок критиков')\n",
    "plt.xlabel('Оценки пользователей')\n",
    "plt.ylabel('Сумма продаж');\n",
    "df_actual_ps4['total_sales'].corr(df_actual_ps4['critic_score'])"
   ]
  },
  {
   "cell_type": "markdown",
   "metadata": {},
   "source": [
    "Коэффициент корреляции Пирсона 0.4. Связь между отзывами критиков и продажами присутствует. Визуально выделяются низкие оценки от пользователей даже на топовых играх. Критики такого себе не позволяют либо они тем самым влияют на продажи.\n"
   ]
  },
  {
   "cell_type": "markdown",
   "metadata": {},
   "source": [
    "#### Зависимость продаж от оценок пользователей для XOne"
   ]
  },
  {
   "cell_type": "code",
   "execution_count": 18,
   "metadata": {
    "scrolled": true
   },
   "outputs": [
    {
     "data": {
      "text/plain": [
       "<AxesSubplot:xlabel='user_score', ylabel='total_sales'>"
      ]
     },
     "metadata": {},
     "output_type": "display_data"
    },
    {
     "data": {
      "image/png": "[encoded data removed]",
      "text/plain": [
       "<Figure size 720x360 with 1 Axes>"
      ]
     },
     "metadata": {
      "needs_background": "light"
     },
     "output_type": "display_data"
    },
    {
     "data": {
      "text/plain": [
       "-0.06892505328279412"
      ]
     },
     "metadata": {},
     "output_type": "display_data"
    },
    {
     "data": {
      "image/png": "[encoded data removed]",
      "text/plain": [
       "<Figure size 720x360 with 1 Axes>"
      ]
     },
     "metadata": {
      "needs_background": "light"
     },
     "output_type": "display_data"
    },
    {
     "data": {
      "text/plain": [
       "0.4169983280084022"
      ]
     },
     "execution_count": 18,
     "metadata": {},
     "output_type": "execute_result"
    }
   ],
   "source": [
    "df_actual_xone = df_actual[df_actual['platform'] == 'XOne']\n",
    "display(df_actual_xone.plot(x='user_score', y='total_sales', kind='scatter',figsize=(10,5)))\n",
    "plt.title('Зависимость продаж от оценок пользователей')\n",
    "plt.xlabel('Оценки пользователей')\n",
    "plt.ylabel('Сумма продаж')\n",
    "plt.show()\n",
    "display(df_actual_xone['total_sales'].corr(df_actual_xone['user_score']))\n",
    "\n",
    "df_actual_xone.plot(x='critic_score', y='total_sales', kind='scatter',figsize=(10,5))\n",
    "plt.title('Зависимость продаж от оценок критиков')\n",
    "plt.xlabel('Оценки пользователей')\n",
    "plt.ylabel('Сумма продаж')\n",
    "plt.show()\n",
    "df_actual_xone['total_sales'].corr(df_actual_xone['critic_score'])"
   ]
  },
  {
   "cell_type": "markdown",
   "metadata": {},
   "source": [
    "#### Зависимость продаж от оценок пользователей для 3DS"
   ]
  },
  {
   "cell_type": "code",
   "execution_count": 19,
   "metadata": {},
   "outputs": [
    {
     "data": {
      "text/plain": [
       "<AxesSubplot:xlabel='user_score', ylabel='total_sales'>"
      ]
     },
     "metadata": {},
     "output_type": "display_data"
    },
    {
     "data": {
      "image/png": "[encoded data removed]",
      "text/plain": [
       "<Figure size 720x360 with 1 Axes>"
      ]
     },
     "metadata": {
      "needs_background": "light"
     },
     "output_type": "display_data"
    },
    {
     "data": {
      "text/plain": [
       "0.24150411773563016"
      ]
     },
     "metadata": {},
     "output_type": "display_data"
    },
    {
     "data": {
      "image/png": "[encoded data removed]",
      "text/plain": [
       "<Figure size 720x360 with 1 Axes>"
      ]
     },
     "metadata": {
      "needs_background": "light"
     },
     "output_type": "display_data"
    },
    {
     "data": {
      "text/plain": [
       "0.3570566142288107"
      ]
     },
     "execution_count": 19,
     "metadata": {},
     "output_type": "execute_result"
    }
   ],
   "source": [
    "df_actual_3ds = df_actual[df_actual['platform'] == '3DS']\n",
    "display(df_actual_3ds.plot(x='user_score', y='total_sales', kind='scatter',figsize=(10,5)))\n",
    "plt.title('Зависимость продаж от оценок пользователей')\n",
    "plt.xlabel('Оценки пользователей')\n",
    "plt.ylabel('Сумма продаж')\n",
    "plt.show()\n",
    "display(df_actual_3ds['total_sales'].corr(df_actual_3ds['user_score']))\n",
    "\n",
    "df_actual_3ds.plot(x='critic_score', y='total_sales', kind='scatter',figsize=(10,5))\n",
    "plt.title('Зависимость продаж от оценок критиков')\n",
    "plt.xlabel('Оценки пользователей')\n",
    "plt.ylabel('Сумма продаж')\n",
    "plt.show()\n",
    "df_actual_3ds['total_sales'].corr(df_actual_3ds['critic_score'])"
   ]
  },
  {
   "cell_type": "markdown",
   "metadata": {},
   "source": [
    "На разных платформах зависимость продаж от оценок пользователей сходится для типов консолей. Для портативной приставки коэффициент корреляции Пирсона поучается выше. Зависимость продаж от оценок критиков практически не меняется при смене платформы. Получается влияние оценок критиков на продажи присутствует."
   ]
  },
  {
   "cell_type": "markdown",
   "metadata": {},
   "source": [
    "-----------------------\n",
    "\n",
    "Посмотрим на общее распределение медианных продаж по жанрам:"
   ]
  },
  {
   "cell_type": "code",
   "execution_count": 20,
   "metadata": {},
   "outputs": [
    {
     "data": {
      "text/plain": [
       "genre\n",
       "Shooter         0.450\n",
       "Sports          0.240\n",
       "Platform        0.225\n",
       "Role-Playing    0.125\n",
       "Fighting        0.125\n",
       "Racing          0.120\n",
       "Action          0.110\n",
       "Simulation      0.100\n",
       "Misc            0.100\n",
       "Strategy        0.080\n",
       "Puzzle          0.060\n",
       "Adventure       0.030\n",
       "Name: total_sales, dtype: float64"
      ]
     },
     "execution_count": 20,
     "metadata": {},
     "output_type": "execute_result"
    }
   ],
   "source": [
    "df_actual.groupby('genre')['total_sales'].median().sort_values(ascending=False)"
   ]
  },
  {
   "cell_type": "code",
   "execution_count": 21,
   "metadata": {},
   "outputs": [
    {
     "data": {
      "image/png": "[encoded data removed]",
      "text/plain": [
       "<Figure size 1152x720 with 1 Axes>"
      ]
     },
     "metadata": {
      "needs_background": "light"
     },
     "output_type": "display_data"
    }
   ],
   "source": [
    "df_actual.boxplot(column='total_sales', by='genre', figsize=(16, 10))\n",
    "plt.ylim(ymax=4)\n",
    "plt.title('Разброс продаж всех жанров');"
   ]
  },
  {
   "cell_type": "markdown",
   "metadata": {},
   "source": [
    "С 2013 года определенно самый прибыльный жанр `Shooter`. `Sports` и `Platform` тоже можно отнести к прибыльным жанрам. \n",
    "`Adventure` же имеет самую низкую прибыль."
   ]
  },
  {
   "cell_type": "markdown",
   "metadata": {},
   "source": [
    "----------------------------\n",
    "Срок жизни платформ по заметным продажам игр составляет ~10 лет. За этот период появляются новые и исчезают старые. Перспективными можно считать `PS4`, `XOne`, `3DS`. Коррелляция отзывов и продаж незначительна или практически вовсе отсутствует. Можно точно сказать что влияние оценок критиков на продажи больше чем влияние оценок пользователей. Самый популярный жанр `Action`."
   ]
  },
  {
   "cell_type": "markdown",
   "metadata": {},
   "source": [
    "## Составление портрета пользователя каждого региона\n",
    "\n",
    "Возьмем данные за актуальный период"
   ]
  },
  {
   "cell_type": "markdown",
   "metadata": {},
   "source": [
    "### Топ 5 платформ."
   ]
  },
  {
   "cell_type": "markdown",
   "metadata": {},
   "source": [
    "#### NA"
   ]
  },
  {
   "cell_type": "code",
   "execution_count": 22,
   "metadata": {},
   "outputs": [
    {
     "data": {
      "image/png": "[encoded data removed]",
      "text/plain": [
       "<Figure size 432x288 with 1 Axes>"
      ]
     },
     "metadata": {},
     "output_type": "display_data"
    },
    {
     "data": {
      "text/plain": [
       "platform\n",
       "PS4     108.74\n",
       "XOne     93.12\n",
       "X360     81.66\n",
       "PS3      63.50\n",
       "3DS      38.20\n",
       "Name: na_sales, dtype: float64"
      ]
     },
     "execution_count": 22,
     "metadata": {},
     "output_type": "execute_result"
    }
   ],
   "source": [
    "na_platform = df_actual.groupby('platform')['na_sales'].sum().sort_values(ascending=False).head(5)\n",
    "labels_na_platform = na_platform.index\n",
    "plt.pie(na_platform, labels=labels_na_platform, autopct='%.2f')\n",
    "plt.title('Топ 5 платформ NA')\n",
    "plt.show()\n",
    "df_actual.groupby('platform')['na_sales'].sum().sort_values(ascending=False).head(5)\n"
   ]
  },
  {
   "cell_type": "markdown",
   "metadata": {},
   "source": [
    "#### EU"
   ]
  },
  {
   "cell_type": "code",
   "execution_count": 23,
   "metadata": {
    "scrolled": false
   },
   "outputs": [
    {
     "data": {
      "image/png": "[encoded data removed]",
      "text/plain": [
       "<Figure size 432x288 with 1 Axes>"
      ]
     },
     "metadata": {},
     "output_type": "display_data"
    },
    {
     "data": {
      "text/plain": [
       "platform\n",
       "PS4     141.09\n",
       "PS3      67.81\n",
       "XOne     51.59\n",
       "X360     42.52\n",
       "3DS      30.96\n",
       "Name: eu_sales, dtype: float64"
      ]
     },
     "execution_count": 23,
     "metadata": {},
     "output_type": "execute_result"
    }
   ],
   "source": [
    "eu_platform = df_actual.groupby('platform')['eu_sales'].sum().sort_values(ascending=False).head(5)\n",
    "labels_eu_platform = eu_platform.index\n",
    "plt.pie(eu_platform, labels=labels_eu_platform, autopct='%.2f')\n",
    "plt.title('Топ 5 платформ EU')\n",
    "plt.show()\n",
    "df_actual.groupby('platform')['eu_sales'].sum().sort_values(ascending=False).head(5)"
   ]
  },
  {
   "cell_type": "markdown",
   "metadata": {},
   "source": [
    "#### JP"
   ]
  },
  {
   "cell_type": "code",
   "execution_count": 24,
   "metadata": {
    "scrolled": false
   },
   "outputs": [
    {
     "data": {
      "image/png": "[encoded data removed]",
      "text/plain": [
       "<Figure size 432x288 with 1 Axes>"
      ]
     },
     "metadata": {},
     "output_type": "display_data"
    },
    {
     "data": {
      "text/plain": [
       "platform\n",
       "3DS     67.81\n",
       "PS3     23.35\n",
       "PSV     18.59\n",
       "PS4     15.96\n",
       "WiiU    10.88\n",
       "Name: jp_sales, dtype: float64"
      ]
     },
     "execution_count": 24,
     "metadata": {},
     "output_type": "execute_result"
    }
   ],
   "source": [
    "jp_platform = df_actual.groupby('platform')['jp_sales'].sum().sort_values(ascending=False).head(5)\n",
    "labels_jp_platform = jp_platform.index\n",
    "plt.pie(jp_platform, labels=labels_jp_platform, autopct='%.2f')\n",
    "plt.title('Топ 5 платформ JP')\n",
    "plt.show()\n",
    "df_actual.groupby('platform')['jp_sales'].sum().sort_values(ascending=False).head(5)"
   ]
  },
  {
   "cell_type": "code",
   "execution_count": 43,
   "metadata": {},
   "outputs": [],
   "source": [
    "def top_5(param, region):\n",
    "    \n",
    "    region_platform = df_actual.groupby(param)[region].sum().sort_values(ascending=False).head(5) # делаем группировку, сортируем и отбираем топ-5\n",
    "    labels = region_platform.index\n",
    "    \n",
    "    plt.pie(region_platform, labels=labels, autopct='%.2f') # строим диаграмму\n",
    "    \n",
    "    region_name = region[:2].upper() # выделяем название региона\n",
    "    \n",
    "    if param == 'platform':\n",
    "        plt.title(f'Топ 5 платформ {region_name}') # подписываем ось\n",
    "    elif param == 'genre':\n",
    "        plt.title(f'Топ 5 жанров {region_name}')\n",
    "    plt.show()\n",
    "    \n",
    "    display(pd.DataFrame(region_platform).reset_index()) # выводим на экран топ-5 в табличном виде"
   ]
  },
  {
   "cell_type": "code",
   "execution_count": 42,
   "metadata": {
    "scrolled": true
   },
   "outputs": [
    {
     "data": {
      "image/png": "[encoded data removed]",
      "text/plain": [
       "<Figure size 432x288 with 1 Axes>"
      ]
     },
     "metadata": {},
     "output_type": "display_data"
    },
    {
     "data": {
      "text/html": [
       "<div>\n",
       "<style scoped>\n",
       "    .dataframe tbody tr th:only-of-type {\n",
       "        vertical-align: middle;\n",
       "    }\n",
       "\n",
       "    .dataframe tbody tr th {\n",
       "        vertical-align: top;\n",
       "    }\n",
       "\n",
       "    .dataframe thead th {\n",
       "        text-align: right;\n",
       "    }\n",
       "</style>\n",
       "<table border=\"1\" class=\"dataframe\">\n",
       "  <thead>\n",
       "    <tr style=\"text-align: right;\">\n",
       "      <th></th>\n",
       "      <th>platform</th>\n",
       "      <th>jp_sales</th>\n",
       "    </tr>\n",
       "  </thead>\n",
       "  <tbody>\n",
       "    <tr>\n",
       "      <th>0</th>\n",
       "      <td>3DS</td>\n",
       "      <td>67.81</td>\n",
       "    </tr>\n",
       "    <tr>\n",
       "      <th>1</th>\n",
       "      <td>PS3</td>\n",
       "      <td>23.35</td>\n",
       "    </tr>\n",
       "    <tr>\n",
       "      <th>2</th>\n",
       "      <td>PSV</td>\n",
       "      <td>18.59</td>\n",
       "    </tr>\n",
       "    <tr>\n",
       "      <th>3</th>\n",
       "      <td>PS4</td>\n",
       "      <td>15.96</td>\n",
       "    </tr>\n",
       "    <tr>\n",
       "      <th>4</th>\n",
       "      <td>WiiU</td>\n",
       "      <td>10.88</td>\n",
       "    </tr>\n",
       "  </tbody>\n",
       "</table>\n",
       "</div>"
      ],
      "text/plain": [
       "  platform  jp_sales\n",
       "0      3DS     67.81\n",
       "1      PS3     23.35\n",
       "2      PSV     18.59\n",
       "3      PS4     15.96\n",
       "4     WiiU     10.88"
      ]
     },
     "metadata": {},
     "output_type": "display_data"
    }
   ],
   "source": [
    "top_5('platform', 'jp_sales')"
   ]
  },
  {
   "cell_type": "code",
   "execution_count": 44,
   "metadata": {},
   "outputs": [
    {
     "data": {
      "image/png": "[encoded data removed]",
      "text/plain": [
       "<Figure size 432x288 with 1 Axes>"
      ]
     },
     "metadata": {},
     "output_type": "display_data"
    },
    {
     "data": {
      "text/html": [
       "<div>\n",
       "<style scoped>\n",
       "    .dataframe tbody tr th:only-of-type {\n",
       "        vertical-align: middle;\n",
       "    }\n",
       "\n",
       "    .dataframe tbody tr th {\n",
       "        vertical-align: top;\n",
       "    }\n",
       "\n",
       "    .dataframe thead th {\n",
       "        text-align: right;\n",
       "    }\n",
       "</style>\n",
       "<table border=\"1\" class=\"dataframe\">\n",
       "  <thead>\n",
       "    <tr style=\"text-align: right;\">\n",
       "      <th></th>\n",
       "      <th>genre</th>\n",
       "      <th>jp_sales</th>\n",
       "    </tr>\n",
       "  </thead>\n",
       "  <tbody>\n",
       "    <tr>\n",
       "      <th>0</th>\n",
       "      <td>Role-Playing</td>\n",
       "      <td>51.04</td>\n",
       "    </tr>\n",
       "    <tr>\n",
       "      <th>1</th>\n",
       "      <td>Action</td>\n",
       "      <td>40.49</td>\n",
       "    </tr>\n",
       "    <tr>\n",
       "      <th>2</th>\n",
       "      <td>Misc</td>\n",
       "      <td>9.20</td>\n",
       "    </tr>\n",
       "    <tr>\n",
       "      <th>3</th>\n",
       "      <td>Fighting</td>\n",
       "      <td>7.65</td>\n",
       "    </tr>\n",
       "    <tr>\n",
       "      <th>4</th>\n",
       "      <td>Shooter</td>\n",
       "      <td>6.61</td>\n",
       "    </tr>\n",
       "  </tbody>\n",
       "</table>\n",
       "</div>"
      ],
      "text/plain": [
       "          genre  jp_sales\n",
       "0  Role-Playing     51.04\n",
       "1        Action     40.49\n",
       "2          Misc      9.20\n",
       "3      Fighting      7.65\n",
       "4       Shooter      6.61"
      ]
     },
     "metadata": {},
     "output_type": "display_data"
    }
   ],
   "source": [
    "top_5('genre', 'jp_sales')"
   ]
  },
  {
   "cell_type": "markdown",
   "metadata": {},
   "source": [
    "В регионах `NA` и `EU` популярны современные игровые консоли и их предшественники - они составляют 90% приведенного топ5. менее 10% рейтинга остается портативной приставке. В регионе `JP` обратная ситуация - более 70% за портативными приставками и менее 30% за консолями. Продажи в цифрах в `JP` регионе значительно ниже остальных."
   ]
  },
  {
   "cell_type": "markdown",
   "metadata": {},
   "source": [
    "### Топ 5 жанров."
   ]
  },
  {
   "cell_type": "markdown",
   "metadata": {},
   "source": [
    "#### NA"
   ]
  },
  {
   "cell_type": "code",
   "execution_count": 25,
   "metadata": {},
   "outputs": [
    {
     "data": {
      "image/png": "[encoded data removed]",
      "text/plain": [
       "<Figure size 432x288 with 1 Axes>"
      ]
     },
     "metadata": {},
     "output_type": "display_data"
    },
    {
     "data": {
      "text/plain": [
       "genre\n",
       "Action          126.05\n",
       "Shooter         109.74\n",
       "Sports           65.27\n",
       "Role-Playing     46.40\n",
       "Misc             27.49\n",
       "Name: na_sales, dtype: float64"
      ]
     },
     "execution_count": 25,
     "metadata": {},
     "output_type": "execute_result"
    }
   ],
   "source": [
    "na = df_actual.groupby('genre')['na_sales'].sum().sort_values(ascending=False).head(5)\n",
    "labels_na = na.index\n",
    "plt.pie(na, labels=labels_na, autopct='%.2f')\n",
    "plt.title('Топ 5 жанров NA')\n",
    "plt.show()\n",
    "df_actual.groupby('genre')['na_sales'].sum().sort_values(ascending=False).head(5)"
   ]
  },
  {
   "cell_type": "markdown",
   "metadata": {},
   "source": [
    "#### EU"
   ]
  },
  {
   "cell_type": "code",
   "execution_count": 26,
   "metadata": {},
   "outputs": [
    {
     "data": {
      "image/png": "[encoded data removed]",
      "text/plain": [
       "<Figure size 432x288 with 1 Axes>"
      ]
     },
     "metadata": {},
     "output_type": "display_data"
    },
    {
     "data": {
      "text/plain": [
       "genre\n",
       "Action          118.13\n",
       "Shooter          87.86\n",
       "Sports           60.52\n",
       "Role-Playing     36.97\n",
       "Racing           20.19\n",
       "Name: eu_sales, dtype: float64"
      ]
     },
     "execution_count": 26,
     "metadata": {},
     "output_type": "execute_result"
    }
   ],
   "source": [
    "eu = df_actual.groupby('genre')['eu_sales'].sum().sort_values(ascending=False).head(5)\n",
    "labels_eu = eu.index\n",
    "plt.pie(eu, labels=labels_eu, autopct='%.2f')\n",
    "plt.title('Топ 5 жанров EU')\n",
    "plt.show()\n",
    "df_actual.groupby('genre')['eu_sales'].sum().sort_values(ascending=False).head(5)"
   ]
  },
  {
   "cell_type": "markdown",
   "metadata": {},
   "source": [
    "#### JP"
   ]
  },
  {
   "cell_type": "code",
   "execution_count": 27,
   "metadata": {},
   "outputs": [
    {
     "data": {
      "image/png": "[encoded data removed]",
      "text/plain": [
       "<Figure size 432x288 with 1 Axes>"
      ]
     },
     "metadata": {},
     "output_type": "display_data"
    },
    {
     "data": {
      "text/plain": [
       "genre\n",
       "Role-Playing    51.04\n",
       "Action          40.49\n",
       "Misc             9.20\n",
       "Fighting         7.65\n",
       "Shooter          6.61\n",
       "Name: jp_sales, dtype: float64"
      ]
     },
     "execution_count": 27,
     "metadata": {},
     "output_type": "execute_result"
    }
   ],
   "source": [
    "jp = df_actual.groupby('genre')['jp_sales'].sum().sort_values(ascending=False).head(5)\n",
    "labels_jp = jp.index\n",
    "plt.pie(jp, labels=labels_jp, autopct='%.2f')\n",
    "plt.title('Топ 5 жанров JP')\n",
    "plt.show()\n",
    "df_actual.groupby('genre')['jp_sales'].sum().sort_values(ascending=False).head(5)"
   ]
  },
  {
   "cell_type": "markdown",
   "metadata": {},
   "source": [
    "В топ 5 жанров регион `JP` снова выделяется другой расстановкой лидеров: `Role-Playing` на первомя когла в лругих лидер `Action`. Продажи в цифрах в `JP` регионе значительно ниже остальных."
   ]
  },
  {
   "cell_type": "markdown",
   "metadata": {},
   "source": [
    "### Влияние рейтинга ESRB на продажи"
   ]
  },
  {
   "cell_type": "code",
   "execution_count": 28,
   "metadata": {},
   "outputs": [
    {
     "data": {
      "image/png": "[encoded data removed]",
      "text/plain": [
       "<Figure size 432x288 with 1 Axes>"
      ]
     },
     "metadata": {},
     "output_type": "display_data"
    },
    {
     "data": {
      "text/plain": [
       "rating\n",
       "M       165.21\n",
       "NA       89.42\n",
       "E        79.05\n",
       "E10+     54.24\n",
       "T        49.79\n",
       "Name: na_sales, dtype: float64"
      ]
     },
     "execution_count": 28,
     "metadata": {},
     "output_type": "execute_result"
    }
   ],
   "source": [
    "df_actual['rating'] = df_actual['rating'].fillna('NA')\n",
    "na = df_actual.groupby('rating')['na_sales'].sum().sort_values(ascending=False).head(5)\n",
    "labels_na = na.index\n",
    "plt.pie(na, labels=labels_na, autopct='%.2f')\n",
    "plt.title('Топ рейтинг ESRB в регионе NA')\n",
    "plt.show()\n",
    "df_actual.groupby('rating')['na_sales'].sum().sort_values(ascending=False).head(5)"
   ]
  },
  {
   "cell_type": "code",
   "execution_count": 29,
   "metadata": {},
   "outputs": [
    {
     "data": {
      "image/png": "[encoded data removed]",
      "text/plain": [
       "<Figure size 432x288 with 1 Axes>"
      ]
     },
     "metadata": {},
     "output_type": "display_data"
    },
    {
     "data": {
      "text/plain": [
       "rating\n",
       "M       145.32\n",
       "E        83.36\n",
       "NA       78.91\n",
       "E10+     42.69\n",
       "T        41.95\n",
       "Name: eu_sales, dtype: float64"
      ]
     },
     "execution_count": 29,
     "metadata": {},
     "output_type": "execute_result"
    }
   ],
   "source": [
    "eu = df_actual.groupby('rating')['eu_sales'].sum().sort_values(ascending=False).head(5)\n",
    "labels_eu = eu.index\n",
    "plt.pie(eu, labels=labels_eu, autopct='%.2f')\n",
    "plt.title('Топ рейтинг ESRB в регионе EU')\n",
    "plt.show()\n",
    "df_actual.groupby('rating')['eu_sales'].sum().sort_values(ascending=False).head(5)"
   ]
  },
  {
   "cell_type": "code",
   "execution_count": 30,
   "metadata": {},
   "outputs": [
    {
     "data": {
      "image/png": "[encoded data removed]",
      "text/plain": [
       "<Figure size 432x288 with 1 Axes>"
      ]
     },
     "metadata": {},
     "output_type": "display_data"
    },
    {
     "data": {
      "text/plain": [
       "rating\n",
       "NA      85.05\n",
       "T       20.59\n",
       "E       15.14\n",
       "M       14.11\n",
       "E10+     5.89\n",
       "Name: jp_sales, dtype: float64"
      ]
     },
     "execution_count": 30,
     "metadata": {},
     "output_type": "execute_result"
    }
   ],
   "source": [
    "jp = df_actual.groupby('rating')['jp_sales'].sum().sort_values(ascending=False).head(5)\n",
    "labels_jp = jp.index\n",
    "plt.pie(jp, labels=labels_jp, autopct='%.2f')\n",
    "plt.title('Топ рейтинг ESRB в регионе JP')\n",
    "plt.show()\n",
    "df_actual.groupby('rating')['jp_sales'].sum().sort_values(ascending=False).head(5)"
   ]
  },
  {
   "cell_type": "markdown",
   "metadata": {},
   "source": [
    "Не знаю влияет ли рейтинг на продажи. Возможно такое распределение связано с возрастом игроков. Рейтинг сопоставим с жанрами игр и игровыми платформами: `NA, EU` - популярны консоли на которых в основном играют в `Action` с рейтингом `M`(17+) в то время как в `JP` - `Role-Playing` на портативных приставках с рейтингом `T`(13+)"
   ]
  },
  {
   "cell_type": "markdown",
   "metadata": {},
   "source": [
    "## Проверка гипотез"
   ]
  },
  {
   "cell_type": "markdown",
   "metadata": {},
   "source": [
    "Нулевую гипотезу формулируем так чтобы использовался знак равенства. Другими словами, чтобы все данные лежали в районе изначально предполагаемого значения.\n",
    "\n",
    "Применим метод для проверки гипотезы о равенстве среднего двух генеральных совокупностей по взятым из них выборкам: `scipy.stats.ttest_ind (array1, array2, equal_var)`\n",
    "\n",
    "Выборки достаточно велики, укажем `equal_var = False`"
   ]
  },
  {
   "cell_type": "markdown",
   "metadata": {},
   "source": [
    "### Средние пользовательские рейтинги платформ `Xbox One` и `PC` одинаковые;\n",
    "```\n",
    "H_0: рейтинги платформ Xbox One и PC одинаковые`\n",
    "H_1: Средние пользовательские рейтинги платформ Xbox One и PC разные`\n",
    "alpha = 0.05\n",
    "```"
   ]
  },
  {
   "cell_type": "code",
   "execution_count": 31,
   "metadata": {},
   "outputs": [
    {
     "name": "stdout",
     "output_type": "stream",
     "text": [
      "p-значение: 0.14759594013430463\n",
      "Не получилось отвергнуть нулевую гипотезу\n"
     ]
    }
   ],
   "source": [
    "alpha = 0.05\n",
    "\n",
    "results = st.ttest_ind(df_actual[df_actual['platform'] == 'XOne']['user_score'].dropna(), df_actual[df_actual['platform'] == 'PC']['user_score'].dropna(), equal_var=False)\n",
    "\n",
    "print('p-значение:', results.pvalue)\n",
    "\n",
    "if results.pvalue < alpha:\n",
    "    print('Отвергаем нулевую гипотезу')\n",
    "else:\n",
    "    print('Не получилось отвергнуть нулевую гипотезу')"
   ]
  },
  {
   "cell_type": "markdown",
   "metadata": {},
   "source": [
    "Гипотеза: Средние пользовательские рейтинги платформ Xbox One и PC одинаковые. - Не можем отвергнуть"
   ]
  },
  {
   "cell_type": "markdown",
   "metadata": {},
   "source": [
    "### Средние пользовательские рейтинги жанров `Action` и `Sports` разные;\n",
    "```\n",
    "H_0: Средние пользовательские рейтинги жанров Action и Sport одинаковые`\n",
    "H_1: Средние пользовательские рейтинги жанров Action и Sport разные`\n",
    "alpha = 0.05\n",
    "```"
   ]
  },
  {
   "cell_type": "code",
   "execution_count": 32,
   "metadata": {},
   "outputs": [
    {
     "name": "stdout",
     "output_type": "stream",
     "text": [
      "p-значение: 1.4460039700704315e-20\n",
      "Отвергаем нулевую гипотезу\n"
     ]
    }
   ],
   "source": [
    "alpha = 0.05\n",
    "\n",
    "results = st.ttest_ind(df_actual[df_actual['genre'] == 'Action']['user_score'].dropna(), df_actual[df_actual['genre'] == 'Sports']['user_score'].dropna(), equal_var=False)\n",
    "\n",
    "print('p-значение:', results.pvalue)\n",
    "\n",
    "if results.pvalue < alpha:\n",
    "    print('Отвергаем нулевую гипотезу')\n",
    "else:\n",
    "    print('Не получилось отвергнуть нулевую гипотезу')"
   ]
  },
  {
   "cell_type": "markdown",
   "metadata": {},
   "source": [
    "Гипотеза: Средние пользовательские рейтинги жанров Action и Sports разные. - Отвергнута"
   ]
  },
  {
   "cell_type": "markdown",
   "metadata": {},
   "source": [
    "## Общий вывод"
   ]
  },
  {
   "cell_type": "markdown",
   "metadata": {},
   "source": [
    "В данной работе мы изучили исходные данные, выяснили что нуждается в правке и подготовке: привели названия столбцов к нижнему регистру. В столбцах 'Year_of_Release' и 'Critic_Score' сменили тип данных на 'Int64'. Столбец 'User_Score' перевели в тип 'float64', в столбце 'critic_score' разделили значения на 10 и разобрались со значением 'tbd'. Посчитали суммарные продажи во всех регионах и записали их в отдельный столбец.\n",
    "В ходе исследовательского анализа посмотрели сколько игр выпускалось в разные годы, как менялись продажи по платформам, выбрали платформы с наибольшими сумарными продажами и построили распределение по годам. Выяснили что срок жизни продаж у популярных платформ 10 лет. За этот срок \"появляются\" новые и \"исчезают\" старые платформы. Определили актуальный период анализа для прогноза на 2017 год - период с 2013 года, именно тогда появляются заметные продажи на платформы: PS4, XOne, 3DS их определим как потенциально перспективные. \n",
    "У 3DS продажи в основном не такие большие как у PS4 и Xone зато хватает \"экземпляров\" на уровне PS4.\n",
    "Оценки критиков влияют на продажи с коффициентом коррелляции Пирсона 0.4.\n",
    "Самые прибыльные жанры по медиане продаж и количеству: Shooter, Sports, Platform.\n",
    "\n",
    "Портрет пользователя региона NA - играет на PS4, XOne, X360, PS3, 3DS. В жанр: Action, Shooter, Sports, Role-Playing, Misc. С рейтингом ESRB: M, NA, E, E10+, T.\n",
    "\n",
    "Портрет пользователя региона EU - играет на PS4, PS3, XOne, X360, 3DS. В жанр: Action, Shooter, Sports, Role-Playing, Racing. С рейтингом ESRB: M, E, NA, E10+, T.\n",
    "\n",
    "Портрет пользователя региона JP - играет на 3DS, PS3, PSV, PS4, WiiU. В жанр: Role-Playing, Action, Misc, Fighting, Shooter. С рейтингом ESRB: NA, T, E, M, E10+.\n",
    "\n",
    "Сформулировали и проверили гипотезы: Средние пользовательские рейтинги платформ Xbox One и PC одинаковые. - подтвердилась;  Средние пользовательские рейтинги жанров Action и Sports разные. - подтвердилась.\n",
    "\n",
    "Рекомендации отделу маркетинга:\n",
    "Перспективные для 2017 являются платформы: PS4, XOne и в меньшей степени 3DS - у них есть достаточно времени для хороших продаж. Игры - соответствующие портрету пользователя региона. Также необходимо полижительное влияние на оценки критиков."
   ]
  }
 ],
 "metadata": {
  "ExecuteTimeLog": [
   {
    "duration": 527,
    "start_time": "2022-11-29T15:31:32.529Z"
   },
   {
    "duration": 104,
    "start_time": "2022-11-29T15:31:34.190Z"
   },
   {
    "duration": 8,
    "start_time": "2022-11-29T15:44:01.141Z"
   },
   {
    "duration": 7,
    "start_time": "2022-11-29T16:10:43.388Z"
   },
   {
    "duration": 4,
    "start_time": "2022-11-29T16:11:40.206Z"
   },
   {
    "duration": 440,
    "start_time": "2022-11-29T16:11:47.014Z"
   },
   {
    "duration": 86,
    "start_time": "2022-11-29T16:11:47.457Z"
   },
   {
    "duration": 3,
    "start_time": "2022-11-29T16:11:47.545Z"
   },
   {
    "duration": 31,
    "start_time": "2022-11-29T16:11:47.551Z"
   },
   {
    "duration": 13,
    "start_time": "2022-11-29T16:11:47.585Z"
   },
   {
    "duration": 1532,
    "start_time": "2022-11-29T16:11:47.600Z"
   },
   {
    "duration": 20,
    "start_time": "2022-11-29T16:13:45.715Z"
   },
   {
    "duration": 1185,
    "start_time": "2022-11-29T16:20:46.770Z"
   },
   {
    "duration": 10,
    "start_time": "2022-11-29T16:21:01.321Z"
   },
   {
    "duration": 485,
    "start_time": "2022-11-29T16:26:07.971Z"
   },
   {
    "duration": 92,
    "start_time": "2022-11-29T16:26:08.458Z"
   },
   {
    "duration": 29,
    "start_time": "2022-11-29T16:26:08.551Z"
   },
   {
    "duration": 6,
    "start_time": "2022-11-29T16:26:08.582Z"
   },
   {
    "duration": 13,
    "start_time": "2022-11-29T16:26:08.591Z"
   },
   {
    "duration": 20,
    "start_time": "2022-11-29T16:26:08.606Z"
   },
   {
    "duration": 1241,
    "start_time": "2022-11-29T16:26:08.628Z"
   },
   {
    "duration": 10,
    "start_time": "2022-11-29T16:33:06.575Z"
   },
   {
    "duration": 8,
    "start_time": "2022-11-29T16:33:13.821Z"
   },
   {
    "duration": 9,
    "start_time": "2022-11-29T16:34:21.978Z"
   },
   {
    "duration": 20,
    "start_time": "2022-11-29T16:34:37.749Z"
   },
   {
    "duration": 1228,
    "start_time": "2022-11-29T16:38:01.843Z"
   },
   {
    "duration": 2638,
    "start_time": "2022-11-29T16:38:09.503Z"
   },
   {
    "duration": 14,
    "start_time": "2022-11-29T16:51:23.670Z"
   },
   {
    "duration": 450,
    "start_time": "2022-11-29T16:51:56.488Z"
   },
   {
    "duration": 91,
    "start_time": "2022-11-29T16:51:56.941Z"
   },
   {
    "duration": 4,
    "start_time": "2022-11-29T16:51:57.033Z"
   },
   {
    "duration": 8,
    "start_time": "2022-11-29T16:51:57.039Z"
   },
   {
    "duration": 34,
    "start_time": "2022-11-29T16:51:57.049Z"
   },
   {
    "duration": 17,
    "start_time": "2022-11-29T16:51:57.085Z"
   },
   {
    "duration": 20,
    "start_time": "2022-11-29T16:51:57.104Z"
   },
   {
    "duration": 75,
    "start_time": "2022-11-29T16:56:02.837Z"
   },
   {
    "duration": 70,
    "start_time": "2022-11-29T16:56:18.831Z"
   },
   {
    "duration": 17,
    "start_time": "2022-11-29T16:58:41.842Z"
   },
   {
    "duration": 102,
    "start_time": "2022-11-29T17:00:14.622Z"
   },
   {
    "duration": 18,
    "start_time": "2022-11-29T17:00:28.062Z"
   },
   {
    "duration": 551,
    "start_time": "2022-11-29T17:01:25.556Z"
   },
   {
    "duration": 170,
    "start_time": "2022-11-29T17:01:26.110Z"
   },
   {
    "duration": 7,
    "start_time": "2022-11-29T17:01:26.283Z"
   },
   {
    "duration": 40,
    "start_time": "2022-11-29T17:01:26.293Z"
   },
   {
    "duration": 32,
    "start_time": "2022-11-29T17:01:26.335Z"
   },
   {
    "duration": 40,
    "start_time": "2022-11-29T17:01:26.369Z"
   },
   {
    "duration": 132,
    "start_time": "2022-11-29T17:01:26.411Z"
   },
   {
    "duration": 21,
    "start_time": "2022-11-29T17:03:09.875Z"
   },
   {
    "duration": 20,
    "start_time": "2022-11-29T17:03:35.105Z"
   },
   {
    "duration": 42,
    "start_time": "2022-11-30T02:52:36.454Z"
   },
   {
    "duration": 87,
    "start_time": "2022-11-30T03:10:42.805Z"
   },
   {
    "duration": 589,
    "start_time": "2022-11-30T03:18:30.201Z"
   },
   {
    "duration": 104,
    "start_time": "2022-11-30T03:18:30.793Z"
   },
   {
    "duration": 4,
    "start_time": "2022-11-30T03:18:30.898Z"
   },
   {
    "duration": 13,
    "start_time": "2022-11-30T03:18:30.904Z"
   },
   {
    "duration": 32,
    "start_time": "2022-11-30T03:18:30.918Z"
   },
   {
    "duration": 36,
    "start_time": "2022-11-30T03:18:30.953Z"
   },
   {
    "duration": 20,
    "start_time": "2022-11-30T03:18:30.991Z"
   },
   {
    "duration": 67,
    "start_time": "2022-11-30T03:19:03.692Z"
   },
   {
    "duration": 17,
    "start_time": "2022-11-30T03:19:53.329Z"
   },
   {
    "duration": 17,
    "start_time": "2022-11-30T03:20:24.988Z"
   },
   {
    "duration": 15,
    "start_time": "2022-11-30T03:20:48.953Z"
   },
   {
    "duration": 610,
    "start_time": "2022-11-30T14:44:02.040Z"
   },
   {
    "duration": 86,
    "start_time": "2022-11-30T14:44:02.652Z"
   },
   {
    "duration": 4,
    "start_time": "2022-11-30T14:44:02.740Z"
   },
   {
    "duration": 21,
    "start_time": "2022-11-30T14:44:02.746Z"
   },
   {
    "duration": 15,
    "start_time": "2022-11-30T14:44:02.769Z"
   },
   {
    "duration": 31,
    "start_time": "2022-11-30T14:44:02.786Z"
   },
   {
    "duration": 18,
    "start_time": "2022-11-30T14:44:02.819Z"
   },
   {
    "duration": 6,
    "start_time": "2022-11-30T14:44:02.839Z"
   },
   {
    "duration": 4,
    "start_time": "2022-11-30T14:49:15.062Z"
   },
   {
    "duration": 19,
    "start_time": "2022-11-30T14:50:07.389Z"
   },
   {
    "duration": 88,
    "start_time": "2022-11-30T14:51:02.096Z"
   },
   {
    "duration": 23,
    "start_time": "2022-11-30T14:58:55.741Z"
   },
   {
    "duration": 408,
    "start_time": "2022-11-30T14:59:59.358Z"
   },
   {
    "duration": 92,
    "start_time": "2022-11-30T14:59:59.768Z"
   },
   {
    "duration": 4,
    "start_time": "2022-11-30T14:59:59.862Z"
   },
   {
    "duration": 14,
    "start_time": "2022-11-30T14:59:59.868Z"
   },
   {
    "duration": 24,
    "start_time": "2022-11-30T14:59:59.884Z"
   },
   {
    "duration": 16,
    "start_time": "2022-11-30T14:59:59.910Z"
   },
   {
    "duration": 18,
    "start_time": "2022-11-30T14:59:59.928Z"
   },
   {
    "duration": 4,
    "start_time": "2022-11-30T14:59:59.948Z"
   },
   {
    "duration": 6,
    "start_time": "2022-11-30T15:12:15.510Z"
   },
   {
    "duration": 540,
    "start_time": "2022-11-30T15:12:21.771Z"
   },
   {
    "duration": 132,
    "start_time": "2022-11-30T15:13:53.414Z"
   },
   {
    "duration": 177,
    "start_time": "2022-11-30T15:15:04.393Z"
   },
   {
    "duration": 179,
    "start_time": "2022-11-30T15:21:18.570Z"
   },
   {
    "duration": 14,
    "start_time": "2022-11-30T15:32:47.485Z"
   },
   {
    "duration": 73,
    "start_time": "2022-11-30T15:33:01.379Z"
   },
   {
    "duration": 12,
    "start_time": "2022-11-30T15:33:04.140Z"
   },
   {
    "duration": 9,
    "start_time": "2022-11-30T15:33:57.279Z"
   },
   {
    "duration": 7,
    "start_time": "2022-11-30T15:34:18.708Z"
   },
   {
    "duration": 8,
    "start_time": "2022-11-30T15:34:35.669Z"
   },
   {
    "duration": 169,
    "start_time": "2022-11-30T15:53:04.543Z"
   },
   {
    "duration": 109,
    "start_time": "2022-11-30T15:53:53.308Z"
   },
   {
    "duration": 142,
    "start_time": "2022-11-30T15:54:57.375Z"
   },
   {
    "duration": 112,
    "start_time": "2022-11-30T15:55:54.877Z"
   },
   {
    "duration": 493,
    "start_time": "2022-11-30T16:06:34.810Z"
   },
   {
    "duration": 104,
    "start_time": "2022-11-30T16:06:35.305Z"
   },
   {
    "duration": 4,
    "start_time": "2022-11-30T16:06:35.411Z"
   },
   {
    "duration": 6,
    "start_time": "2022-11-30T16:06:35.417Z"
   },
   {
    "duration": 11,
    "start_time": "2022-11-30T16:06:35.425Z"
   },
   {
    "duration": 17,
    "start_time": "2022-11-30T16:06:35.437Z"
   },
   {
    "duration": 49,
    "start_time": "2022-11-30T16:06:35.456Z"
   },
   {
    "duration": 5,
    "start_time": "2022-11-30T16:06:35.507Z"
   },
   {
    "duration": 420,
    "start_time": "2022-11-30T16:06:35.513Z"
   },
   {
    "duration": 8,
    "start_time": "2022-11-30T16:06:35.936Z"
   },
   {
    "duration": 532,
    "start_time": "2022-11-30T16:13:09.378Z"
   },
   {
    "duration": 0,
    "start_time": "2022-11-30T16:13:11.261Z"
   },
   {
    "duration": 69,
    "start_time": "2022-11-30T16:20:16.990Z"
   },
   {
    "duration": 74,
    "start_time": "2022-11-30T16:20:30.203Z"
   },
   {
    "duration": 3,
    "start_time": "2022-11-30T16:20:48.686Z"
   },
   {
    "duration": 1156,
    "start_time": "2022-11-30T16:21:03.693Z"
   },
   {
    "duration": 8,
    "start_time": "2022-11-30T16:29:56.210Z"
   },
   {
    "duration": 11,
    "start_time": "2022-11-30T16:35:21.626Z"
   },
   {
    "duration": 1185,
    "start_time": "2022-11-30T16:36:12.193Z"
   },
   {
    "duration": 75,
    "start_time": "2022-11-30T16:36:13.380Z"
   },
   {
    "duration": 3,
    "start_time": "2022-11-30T16:36:13.456Z"
   },
   {
    "duration": 7,
    "start_time": "2022-11-30T16:36:13.461Z"
   },
   {
    "duration": 35,
    "start_time": "2022-11-30T16:36:13.470Z"
   },
   {
    "duration": 16,
    "start_time": "2022-11-30T16:36:13.506Z"
   },
   {
    "duration": 17,
    "start_time": "2022-11-30T16:36:13.523Z"
   },
   {
    "duration": 4,
    "start_time": "2022-11-30T16:36:13.541Z"
   },
   {
    "duration": 203,
    "start_time": "2022-11-30T16:36:13.547Z"
   },
   {
    "duration": 8,
    "start_time": "2022-11-30T16:36:13.752Z"
   },
   {
    "duration": 181,
    "start_time": "2022-11-30T16:36:13.761Z"
   },
   {
    "duration": 7,
    "start_time": "2022-11-30T16:36:13.944Z"
   },
   {
    "duration": 6,
    "start_time": "2022-11-30T16:36:13.953Z"
   },
   {
    "duration": 2413,
    "start_time": "2022-11-30T16:44:07.855Z"
   },
   {
    "duration": 2521,
    "start_time": "2022-11-30T16:44:38.505Z"
   },
   {
    "duration": 27,
    "start_time": "2022-11-30T16:45:43.300Z"
   },
   {
    "duration": 18,
    "start_time": "2022-11-30T16:45:45.668Z"
   },
   {
    "duration": 22,
    "start_time": "2022-11-30T16:46:09.228Z"
   },
   {
    "duration": 96,
    "start_time": "2022-11-30T16:48:07.936Z"
   },
   {
    "duration": 74,
    "start_time": "2022-11-30T16:49:10.601Z"
   },
   {
    "duration": 1406,
    "start_time": "2022-12-01T14:26:13.961Z"
   },
   {
    "duration": 1146,
    "start_time": "2022-12-01T14:26:22.830Z"
   },
   {
    "duration": 112,
    "start_time": "2022-12-01T14:26:23.978Z"
   },
   {
    "duration": 5,
    "start_time": "2022-12-01T14:26:24.092Z"
   },
   {
    "duration": 9,
    "start_time": "2022-12-01T14:26:24.099Z"
   },
   {
    "duration": 11,
    "start_time": "2022-12-01T14:26:24.110Z"
   },
   {
    "duration": 16,
    "start_time": "2022-12-01T14:26:24.123Z"
   },
   {
    "duration": 46,
    "start_time": "2022-12-01T14:26:24.140Z"
   },
   {
    "duration": 4,
    "start_time": "2022-12-01T14:26:24.188Z"
   },
   {
    "duration": 216,
    "start_time": "2022-12-01T14:26:24.194Z"
   },
   {
    "duration": 9,
    "start_time": "2022-12-01T14:26:24.413Z"
   },
   {
    "duration": 45,
    "start_time": "2022-12-01T14:26:24.423Z"
   },
   {
    "duration": 1,
    "start_time": "2022-12-01T14:26:24.470Z"
   },
   {
    "duration": 0,
    "start_time": "2022-12-01T14:26:24.472Z"
   },
   {
    "duration": 8,
    "start_time": "2022-12-01T14:28:12.905Z"
   },
   {
    "duration": 9,
    "start_time": "2022-12-01T14:28:17.048Z"
   },
   {
    "duration": 114,
    "start_time": "2022-12-01T14:32:07.218Z"
   },
   {
    "duration": 12,
    "start_time": "2022-12-01T14:32:16.707Z"
   },
   {
    "duration": 17,
    "start_time": "2022-12-01T14:34:46.576Z"
   },
   {
    "duration": 142,
    "start_time": "2022-12-01T14:34:54.053Z"
   },
   {
    "duration": 2735,
    "start_time": "2022-12-01T14:38:39.492Z"
   },
   {
    "duration": 35,
    "start_time": "2022-12-01T14:45:49.878Z"
   },
   {
    "duration": 30,
    "start_time": "2022-12-01T14:46:08.519Z"
   },
   {
    "duration": 31,
    "start_time": "2022-12-01T14:46:27.181Z"
   },
   {
    "duration": 2923,
    "start_time": "2022-12-01T14:52:40.457Z"
   },
   {
    "duration": 11,
    "start_time": "2022-12-01T14:59:44.183Z"
   },
   {
    "duration": 11,
    "start_time": "2022-12-01T14:59:57.771Z"
   },
   {
    "duration": 13,
    "start_time": "2022-12-01T15:00:18.985Z"
   },
   {
    "duration": 13,
    "start_time": "2022-12-01T15:00:30.354Z"
   },
   {
    "duration": 10,
    "start_time": "2022-12-01T15:01:04.634Z"
   },
   {
    "duration": 12,
    "start_time": "2022-12-01T15:01:40.034Z"
   },
   {
    "duration": 19,
    "start_time": "2022-12-01T15:02:10.150Z"
   },
   {
    "duration": 16,
    "start_time": "2022-12-01T15:03:02.710Z"
   },
   {
    "duration": 21,
    "start_time": "2022-12-01T15:06:34.518Z"
   },
   {
    "duration": 52,
    "start_time": "2022-12-01T16:30:11.452Z"
   },
   {
    "duration": 1684,
    "start_time": "2022-12-01T16:30:24.875Z"
   },
   {
    "duration": 109,
    "start_time": "2022-12-01T16:30:26.561Z"
   },
   {
    "duration": 4,
    "start_time": "2022-12-01T16:30:26.672Z"
   },
   {
    "duration": 15,
    "start_time": "2022-12-01T16:30:26.678Z"
   },
   {
    "duration": 20,
    "start_time": "2022-12-01T16:30:26.694Z"
   },
   {
    "duration": 40,
    "start_time": "2022-12-01T16:30:26.716Z"
   },
   {
    "duration": 23,
    "start_time": "2022-12-01T16:30:26.758Z"
   },
   {
    "duration": 5,
    "start_time": "2022-12-01T16:30:26.783Z"
   },
   {
    "duration": 244,
    "start_time": "2022-12-01T16:30:26.790Z"
   },
   {
    "duration": 17,
    "start_time": "2022-12-01T16:30:27.037Z"
   },
   {
    "duration": 2840,
    "start_time": "2022-12-01T16:30:27.056Z"
   },
   {
    "duration": 462,
    "start_time": "2022-12-01T16:30:29.897Z"
   },
   {
    "duration": 20,
    "start_time": "2022-12-01T16:30:30.361Z"
   },
   {
    "duration": 28,
    "start_time": "2022-12-01T16:30:30.383Z"
   },
   {
    "duration": 47,
    "start_time": "2022-12-01T16:30:30.413Z"
   },
   {
    "duration": 476,
    "start_time": "2022-12-01T16:30:52.992Z"
   },
   {
    "duration": 325,
    "start_time": "2022-12-01T16:33:00.773Z"
   },
   {
    "duration": 85,
    "start_time": "2022-12-01T16:42:00.836Z"
   },
   {
    "duration": 80,
    "start_time": "2022-12-01T16:42:19.069Z"
   },
   {
    "duration": 71,
    "start_time": "2022-12-01T16:43:47.638Z"
   },
   {
    "duration": 681,
    "start_time": "2022-12-01T16:44:39.383Z"
   },
   {
    "duration": 609,
    "start_time": "2022-12-01T16:46:16.186Z"
   },
   {
    "duration": 325,
    "start_time": "2022-12-01T16:46:56.929Z"
   },
   {
    "duration": 468,
    "start_time": "2022-12-01T16:47:04.360Z"
   },
   {
    "duration": 703,
    "start_time": "2022-12-01T16:47:09.428Z"
   },
   {
    "duration": 15,
    "start_time": "2022-12-01T16:51:25.969Z"
   },
   {
    "duration": 119,
    "start_time": "2022-12-01T16:52:23.119Z"
   },
   {
    "duration": 12,
    "start_time": "2022-12-01T16:52:58.025Z"
   },
   {
    "duration": 16,
    "start_time": "2022-12-01T16:53:04.244Z"
   },
   {
    "duration": 71,
    "start_time": "2022-12-01T17:02:31.741Z"
   },
   {
    "duration": 1341,
    "start_time": "2022-12-01T17:03:24.463Z"
   },
   {
    "duration": 103,
    "start_time": "2022-12-01T17:03:25.806Z"
   },
   {
    "duration": 4,
    "start_time": "2022-12-01T17:03:25.910Z"
   },
   {
    "duration": 36,
    "start_time": "2022-12-01T17:03:25.917Z"
   },
   {
    "duration": 13,
    "start_time": "2022-12-01T17:03:25.955Z"
   },
   {
    "duration": 22,
    "start_time": "2022-12-01T17:03:25.970Z"
   },
   {
    "duration": 22,
    "start_time": "2022-12-01T17:03:25.994Z"
   },
   {
    "duration": 5,
    "start_time": "2022-12-01T17:03:26.018Z"
   },
   {
    "duration": 275,
    "start_time": "2022-12-01T17:03:26.025Z"
   },
   {
    "duration": 11,
    "start_time": "2022-12-01T17:03:26.302Z"
   },
   {
    "duration": 629,
    "start_time": "2022-12-01T17:03:26.315Z"
   },
   {
    "duration": 338,
    "start_time": "2022-12-01T17:03:26.946Z"
   },
   {
    "duration": 73,
    "start_time": "2022-12-01T17:03:27.286Z"
   },
   {
    "duration": 16,
    "start_time": "2022-12-01T17:03:27.361Z"
   },
   {
    "duration": 19,
    "start_time": "2022-12-01T17:03:27.379Z"
   },
   {
    "duration": 53,
    "start_time": "2022-12-01T17:03:27.400Z"
   },
   {
    "duration": 22,
    "start_time": "2022-12-01T17:03:27.454Z"
   },
   {
    "duration": 676,
    "start_time": "2022-12-01T17:05:21.276Z"
   },
   {
    "duration": 521,
    "start_time": "2022-12-01T17:07:25.474Z"
   },
   {
    "duration": 239,
    "start_time": "2022-12-01T17:07:35.692Z"
   },
   {
    "duration": 512,
    "start_time": "2022-12-01T17:09:50.589Z"
   },
   {
    "duration": 168,
    "start_time": "2022-12-01T17:10:13.456Z"
   },
   {
    "duration": 262,
    "start_time": "2022-12-01T17:13:03.894Z"
   },
   {
    "duration": 14,
    "start_time": "2022-12-01T17:40:38.187Z"
   },
   {
    "duration": 168,
    "start_time": "2022-12-01T17:42:26.423Z"
   },
   {
    "duration": 181,
    "start_time": "2022-12-01T17:43:23.074Z"
   },
   {
    "duration": 189,
    "start_time": "2022-12-01T17:43:32.115Z"
   },
   {
    "duration": 179,
    "start_time": "2022-12-01T17:44:30.930Z"
   },
   {
    "duration": 393,
    "start_time": "2022-12-01T17:45:43.277Z"
   },
   {
    "duration": 48,
    "start_time": "2022-12-02T13:58:10.493Z"
   },
   {
    "duration": 7,
    "start_time": "2022-12-02T14:03:12.495Z"
   },
   {
    "duration": 1551,
    "start_time": "2022-12-02T14:03:33.497Z"
   },
   {
    "duration": 85,
    "start_time": "2022-12-02T14:03:35.050Z"
   },
   {
    "duration": 4,
    "start_time": "2022-12-02T14:03:35.136Z"
   },
   {
    "duration": 7,
    "start_time": "2022-12-02T14:03:35.177Z"
   },
   {
    "duration": 11,
    "start_time": "2022-12-02T14:03:35.186Z"
   },
   {
    "duration": 18,
    "start_time": "2022-12-02T14:03:35.199Z"
   },
   {
    "duration": 19,
    "start_time": "2022-12-02T14:03:35.218Z"
   },
   {
    "duration": 39,
    "start_time": "2022-12-02T14:03:35.239Z"
   },
   {
    "duration": 205,
    "start_time": "2022-12-02T14:03:35.280Z"
   },
   {
    "duration": 2431,
    "start_time": "2022-12-02T14:03:35.488Z"
   },
   {
    "duration": 10,
    "start_time": "2022-12-02T14:03:37.920Z"
   },
   {
    "duration": 648,
    "start_time": "2022-12-02T14:03:37.932Z"
   },
   {
    "duration": 307,
    "start_time": "2022-12-02T14:03:38.582Z"
   },
   {
    "duration": 163,
    "start_time": "2022-12-02T14:03:38.890Z"
   },
   {
    "duration": 23,
    "start_time": "2022-12-02T14:03:39.055Z"
   },
   {
    "duration": 157,
    "start_time": "2022-12-02T14:03:39.080Z"
   },
   {
    "duration": 475,
    "start_time": "2022-12-02T14:03:39.239Z"
   },
   {
    "duration": 0,
    "start_time": "2022-12-02T14:03:39.715Z"
   },
   {
    "duration": 0,
    "start_time": "2022-12-02T14:03:39.717Z"
   },
   {
    "duration": 0,
    "start_time": "2022-12-02T14:03:39.718Z"
   },
   {
    "duration": 0,
    "start_time": "2022-12-02T14:03:39.719Z"
   },
   {
    "duration": 0,
    "start_time": "2022-12-02T14:03:39.720Z"
   },
   {
    "duration": 1020,
    "start_time": "2022-12-02T14:06:01.076Z"
   },
   {
    "duration": 1107,
    "start_time": "2022-12-02T14:06:57.133Z"
   },
   {
    "duration": 170,
    "start_time": "2022-12-02T14:08:11.883Z"
   },
   {
    "duration": 1271,
    "start_time": "2022-12-02T14:09:31.024Z"
   },
   {
    "duration": 117,
    "start_time": "2022-12-02T14:09:32.297Z"
   },
   {
    "duration": 5,
    "start_time": "2022-12-02T14:09:32.417Z"
   },
   {
    "duration": 54,
    "start_time": "2022-12-02T14:09:32.424Z"
   },
   {
    "duration": 11,
    "start_time": "2022-12-02T14:09:32.480Z"
   },
   {
    "duration": 32,
    "start_time": "2022-12-02T14:09:32.493Z"
   },
   {
    "duration": 23,
    "start_time": "2022-12-02T14:09:32.527Z"
   },
   {
    "duration": 29,
    "start_time": "2022-12-02T14:09:32.552Z"
   },
   {
    "duration": 1106,
    "start_time": "2022-12-02T14:09:32.583Z"
   },
   {
    "duration": 2694,
    "start_time": "2022-12-02T14:09:33.691Z"
   },
   {
    "duration": 11,
    "start_time": "2022-12-02T14:09:36.387Z"
   },
   {
    "duration": 554,
    "start_time": "2022-12-02T14:09:36.400Z"
   },
   {
    "duration": 319,
    "start_time": "2022-12-02T14:09:36.956Z"
   },
   {
    "duration": 160,
    "start_time": "2022-12-02T14:09:37.277Z"
   },
   {
    "duration": 16,
    "start_time": "2022-12-02T14:09:37.438Z"
   },
   {
    "duration": 185,
    "start_time": "2022-12-02T14:09:37.455Z"
   },
   {
    "duration": 491,
    "start_time": "2022-12-02T14:09:37.642Z"
   },
   {
    "duration": 0,
    "start_time": "2022-12-02T14:09:38.135Z"
   },
   {
    "duration": 0,
    "start_time": "2022-12-02T14:09:38.137Z"
   },
   {
    "duration": 0,
    "start_time": "2022-12-02T14:09:38.138Z"
   },
   {
    "duration": 0,
    "start_time": "2022-12-02T14:09:38.139Z"
   },
   {
    "duration": 0,
    "start_time": "2022-12-02T14:09:38.140Z"
   },
   {
    "duration": 2811,
    "start_time": "2022-12-02T14:09:54.911Z"
   },
   {
    "duration": 2790,
    "start_time": "2022-12-02T14:10:22.822Z"
   },
   {
    "duration": 213,
    "start_time": "2022-12-02T14:11:26.654Z"
   },
   {
    "duration": 693,
    "start_time": "2022-12-02T14:11:35.127Z"
   },
   {
    "duration": 225,
    "start_time": "2022-12-02T14:12:12.009Z"
   },
   {
    "duration": 182,
    "start_time": "2022-12-02T14:12:44.741Z"
   },
   {
    "duration": 205,
    "start_time": "2022-12-02T14:19:28.142Z"
   },
   {
    "duration": 2787,
    "start_time": "2022-12-02T15:00:06.441Z"
   },
   {
    "duration": 318,
    "start_time": "2022-12-02T15:01:13.709Z"
   },
   {
    "duration": 2673,
    "start_time": "2022-12-02T15:02:37.648Z"
   },
   {
    "duration": 296,
    "start_time": "2022-12-02T15:04:27.125Z"
   },
   {
    "duration": 73,
    "start_time": "2022-12-02T15:05:30.867Z"
   },
   {
    "duration": 69,
    "start_time": "2022-12-02T15:05:48.077Z"
   },
   {
    "duration": 75,
    "start_time": "2022-12-02T15:06:33.169Z"
   },
   {
    "duration": 164,
    "start_time": "2022-12-02T15:06:56.754Z"
   },
   {
    "duration": 193,
    "start_time": "2022-12-02T15:07:12.741Z"
   },
   {
    "duration": 477,
    "start_time": "2022-12-02T15:07:20.384Z"
   },
   {
    "duration": 309,
    "start_time": "2022-12-02T15:09:39.145Z"
   },
   {
    "duration": 170,
    "start_time": "2022-12-02T15:27:31.003Z"
   },
   {
    "duration": 22,
    "start_time": "2022-12-02T15:33:06.287Z"
   },
   {
    "duration": 159,
    "start_time": "2022-12-02T15:37:27.436Z"
   },
   {
    "duration": 182,
    "start_time": "2022-12-02T15:37:38.211Z"
   },
   {
    "duration": 212,
    "start_time": "2022-12-02T15:37:56.920Z"
   },
   {
    "duration": 191,
    "start_time": "2022-12-02T15:38:04.732Z"
   },
   {
    "duration": 197,
    "start_time": "2022-12-02T15:38:13.580Z"
   },
   {
    "duration": 184,
    "start_time": "2022-12-02T15:50:04.035Z"
   },
   {
    "duration": 385,
    "start_time": "2022-12-02T15:51:15.738Z"
   },
   {
    "duration": 458,
    "start_time": "2022-12-02T15:57:33.199Z"
   },
   {
    "duration": 15,
    "start_time": "2022-12-02T15:57:56.012Z"
   },
   {
    "duration": 25,
    "start_time": "2022-12-02T15:59:18.963Z"
   },
   {
    "duration": 1210,
    "start_time": "2022-12-02T15:59:23.962Z"
   },
   {
    "duration": 106,
    "start_time": "2022-12-02T15:59:25.173Z"
   },
   {
    "duration": 4,
    "start_time": "2022-12-02T15:59:25.281Z"
   },
   {
    "duration": 21,
    "start_time": "2022-12-02T15:59:25.288Z"
   },
   {
    "duration": 13,
    "start_time": "2022-12-02T15:59:25.312Z"
   },
   {
    "duration": 18,
    "start_time": "2022-12-02T15:59:25.327Z"
   },
   {
    "duration": 32,
    "start_time": "2022-12-02T15:59:25.346Z"
   },
   {
    "duration": 5,
    "start_time": "2022-12-02T15:59:25.380Z"
   },
   {
    "duration": 227,
    "start_time": "2022-12-02T15:59:25.386Z"
   },
   {
    "duration": 9,
    "start_time": "2022-12-02T15:59:25.617Z"
   },
   {
    "duration": 557,
    "start_time": "2022-12-02T15:59:25.628Z"
   },
   {
    "duration": 2596,
    "start_time": "2022-12-02T15:59:26.187Z"
   },
   {
    "duration": 312,
    "start_time": "2022-12-02T15:59:28.786Z"
   },
   {
    "duration": 193,
    "start_time": "2022-12-02T15:59:29.100Z"
   },
   {
    "duration": 16,
    "start_time": "2022-12-02T15:59:29.295Z"
   },
   {
    "duration": 169,
    "start_time": "2022-12-02T15:59:29.312Z"
   },
   {
    "duration": 165,
    "start_time": "2022-12-02T15:59:29.484Z"
   },
   {
    "duration": 15,
    "start_time": "2022-12-02T15:59:29.651Z"
   },
   {
    "duration": 43,
    "start_time": "2022-12-02T15:59:29.667Z"
   },
   {
    "duration": 28,
    "start_time": "2022-12-02T15:59:29.711Z"
   },
   {
    "duration": 27,
    "start_time": "2022-12-02T15:59:29.741Z"
   },
   {
    "duration": 150,
    "start_time": "2022-12-02T15:59:29.770Z"
   },
   {
    "duration": 1262,
    "start_time": "2022-12-02T16:05:08.546Z"
   },
   {
    "duration": 100,
    "start_time": "2022-12-02T16:05:09.810Z"
   },
   {
    "duration": 5,
    "start_time": "2022-12-02T16:05:09.912Z"
   },
   {
    "duration": 10,
    "start_time": "2022-12-02T16:05:09.919Z"
   },
   {
    "duration": 16,
    "start_time": "2022-12-02T16:05:09.931Z"
   },
   {
    "duration": 18,
    "start_time": "2022-12-02T16:05:09.978Z"
   },
   {
    "duration": 22,
    "start_time": "2022-12-02T16:05:09.998Z"
   },
   {
    "duration": 5,
    "start_time": "2022-12-02T16:05:10.022Z"
   },
   {
    "duration": 262,
    "start_time": "2022-12-02T16:05:10.029Z"
   },
   {
    "duration": 10,
    "start_time": "2022-12-02T16:05:10.294Z"
   },
   {
    "duration": 580,
    "start_time": "2022-12-02T16:05:10.306Z"
   },
   {
    "duration": 2919,
    "start_time": "2022-12-02T16:05:10.888Z"
   },
   {
    "duration": 366,
    "start_time": "2022-12-02T16:05:13.808Z"
   },
   {
    "duration": 186,
    "start_time": "2022-12-02T16:05:14.177Z"
   },
   {
    "duration": 18,
    "start_time": "2022-12-02T16:05:14.364Z"
   },
   {
    "duration": 156,
    "start_time": "2022-12-02T16:05:14.383Z"
   },
   {
    "duration": 165,
    "start_time": "2022-12-02T16:05:14.541Z"
   },
   {
    "duration": 14,
    "start_time": "2022-12-02T16:05:14.708Z"
   },
   {
    "duration": 22,
    "start_time": "2022-12-02T16:05:14.724Z"
   },
   {
    "duration": 51,
    "start_time": "2022-12-02T16:05:14.748Z"
   },
   {
    "duration": 17,
    "start_time": "2022-12-02T16:05:14.801Z"
   },
   {
    "duration": 114,
    "start_time": "2022-12-02T16:05:14.820Z"
   },
   {
    "duration": 2556,
    "start_time": "2022-12-02T16:07:07.419Z"
   },
   {
    "duration": 2742,
    "start_time": "2022-12-02T16:07:22.794Z"
   },
   {
    "duration": 2885,
    "start_time": "2022-12-02T16:07:30.616Z"
   },
   {
    "duration": 3133,
    "start_time": "2022-12-02T16:07:43.172Z"
   },
   {
    "duration": 2762,
    "start_time": "2022-12-02T16:07:58.670Z"
   },
   {
    "duration": 1215,
    "start_time": "2022-12-02T16:13:49.699Z"
   },
   {
    "duration": 88,
    "start_time": "2022-12-02T16:13:50.916Z"
   },
   {
    "duration": 4,
    "start_time": "2022-12-02T16:13:51.006Z"
   },
   {
    "duration": 10,
    "start_time": "2022-12-02T16:13:51.013Z"
   },
   {
    "duration": 19,
    "start_time": "2022-12-02T16:13:51.025Z"
   },
   {
    "duration": 54,
    "start_time": "2022-12-02T16:13:51.046Z"
   },
   {
    "duration": 28,
    "start_time": "2022-12-02T16:13:51.102Z"
   },
   {
    "duration": 4,
    "start_time": "2022-12-02T16:13:51.132Z"
   },
   {
    "duration": 236,
    "start_time": "2022-12-02T16:13:51.138Z"
   },
   {
    "duration": 7,
    "start_time": "2022-12-02T16:13:51.379Z"
   },
   {
    "duration": 549,
    "start_time": "2022-12-02T16:13:51.388Z"
   },
   {
    "duration": 2689,
    "start_time": "2022-12-02T16:13:51.939Z"
   },
   {
    "duration": 329,
    "start_time": "2022-12-02T16:13:54.630Z"
   },
   {
    "duration": 196,
    "start_time": "2022-12-02T16:13:54.961Z"
   },
   {
    "duration": 184,
    "start_time": "2022-12-02T16:13:55.160Z"
   },
   {
    "duration": 167,
    "start_time": "2022-12-02T16:13:55.345Z"
   },
   {
    "duration": 15,
    "start_time": "2022-12-02T16:13:55.514Z"
   },
   {
    "duration": 17,
    "start_time": "2022-12-02T16:13:55.531Z"
   },
   {
    "duration": 40,
    "start_time": "2022-12-02T16:13:55.549Z"
   },
   {
    "duration": 18,
    "start_time": "2022-12-02T16:13:55.591Z"
   },
   {
    "duration": 167,
    "start_time": "2022-12-02T16:13:55.611Z"
   },
   {
    "duration": 6,
    "start_time": "2022-12-02T16:15:32.779Z"
   },
   {
    "duration": 173,
    "start_time": "2022-12-02T16:15:42.052Z"
   },
   {
    "duration": 20,
    "start_time": "2022-12-02T16:16:43.208Z"
   },
   {
    "duration": 28,
    "start_time": "2022-12-02T16:17:09.443Z"
   },
   {
    "duration": 12,
    "start_time": "2022-12-02T16:18:07.443Z"
   },
   {
    "duration": 20,
    "start_time": "2022-12-02T16:18:25.783Z"
   },
   {
    "duration": 14,
    "start_time": "2022-12-02T16:55:38.041Z"
   },
   {
    "duration": 49,
    "start_time": "2022-12-02T16:56:00.117Z"
   },
   {
    "duration": 11,
    "start_time": "2022-12-02T16:56:24.494Z"
   },
   {
    "duration": 9,
    "start_time": "2022-12-02T16:57:47.734Z"
   },
   {
    "duration": 144,
    "start_time": "2022-12-02T16:57:54.600Z"
   },
   {
    "duration": 11,
    "start_time": "2022-12-02T16:58:05.713Z"
   },
   {
    "duration": 19,
    "start_time": "2022-12-02T17:02:23.966Z"
   },
   {
    "duration": 13,
    "start_time": "2022-12-02T17:03:13.567Z"
   },
   {
    "duration": 11,
    "start_time": "2022-12-02T17:13:00.695Z"
   },
   {
    "duration": 13,
    "start_time": "2022-12-02T17:13:10.547Z"
   },
   {
    "duration": 14,
    "start_time": "2022-12-02T17:13:19.976Z"
   },
   {
    "duration": 177,
    "start_time": "2022-12-02T17:24:21.739Z"
   },
   {
    "duration": 111,
    "start_time": "2022-12-02T17:29:40.322Z"
   },
   {
    "duration": 23,
    "start_time": "2022-12-02T17:34:14.675Z"
   },
   {
    "duration": 18,
    "start_time": "2022-12-02T17:34:27.214Z"
   },
   {
    "duration": 65,
    "start_time": "2022-12-02T17:35:52.800Z"
   },
   {
    "duration": 20,
    "start_time": "2022-12-02T17:36:57.439Z"
   },
   {
    "duration": 77,
    "start_time": "2022-12-02T17:37:24.837Z"
   },
   {
    "duration": 94,
    "start_time": "2022-12-02T17:39:38.316Z"
   },
   {
    "duration": 30,
    "start_time": "2022-12-02T17:44:21.683Z"
   },
   {
    "duration": 20,
    "start_time": "2022-12-02T17:44:48.428Z"
   },
   {
    "duration": 19,
    "start_time": "2022-12-02T17:45:21.749Z"
   },
   {
    "duration": 115,
    "start_time": "2022-12-02T17:47:13.599Z"
   },
   {
    "duration": 275,
    "start_time": "2022-12-02T17:49:53.490Z"
   },
   {
    "duration": 107,
    "start_time": "2022-12-02T17:51:36.779Z"
   },
   {
    "duration": 95,
    "start_time": "2022-12-02T17:51:42.542Z"
   },
   {
    "duration": 97,
    "start_time": "2022-12-02T17:51:45.811Z"
   },
   {
    "duration": 284,
    "start_time": "2022-12-02T17:53:51.980Z"
   },
   {
    "duration": 90,
    "start_time": "2022-12-02T17:54:45.128Z"
   },
   {
    "duration": 92,
    "start_time": "2022-12-02T17:54:53.743Z"
   },
   {
    "duration": 128,
    "start_time": "2022-12-02T17:55:07.387Z"
   },
   {
    "duration": 20,
    "start_time": "2022-12-02T17:57:06.050Z"
   },
   {
    "duration": 98,
    "start_time": "2022-12-02T17:57:23.468Z"
   },
   {
    "duration": 98,
    "start_time": "2022-12-02T17:57:29.200Z"
   },
   {
    "duration": 97,
    "start_time": "2022-12-02T17:57:41.008Z"
   },
   {
    "duration": 90,
    "start_time": "2022-12-02T17:58:23.610Z"
   },
   {
    "duration": 93,
    "start_time": "2022-12-02T17:58:34.760Z"
   },
   {
    "duration": 92,
    "start_time": "2022-12-02T17:58:46.432Z"
   },
   {
    "duration": 99,
    "start_time": "2022-12-02T18:04:13.497Z"
   },
   {
    "duration": 84,
    "start_time": "2022-12-02T18:05:17.060Z"
   },
   {
    "duration": 89,
    "start_time": "2022-12-02T18:05:21.123Z"
   },
   {
    "duration": 107,
    "start_time": "2022-12-02T18:06:14.685Z"
   },
   {
    "duration": 55,
    "start_time": "2022-12-03T04:25:11.515Z"
   },
   {
    "duration": 1580,
    "start_time": "2022-12-03T04:25:18.741Z"
   },
   {
    "duration": 132,
    "start_time": "2022-12-03T04:25:20.323Z"
   },
   {
    "duration": 5,
    "start_time": "2022-12-03T04:25:20.457Z"
   },
   {
    "duration": 20,
    "start_time": "2022-12-03T04:25:20.465Z"
   },
   {
    "duration": 22,
    "start_time": "2022-12-03T04:25:20.487Z"
   },
   {
    "duration": 23,
    "start_time": "2022-12-03T04:25:20.511Z"
   },
   {
    "duration": 37,
    "start_time": "2022-12-03T04:25:20.542Z"
   },
   {
    "duration": 5,
    "start_time": "2022-12-03T04:25:20.581Z"
   },
   {
    "duration": 303,
    "start_time": "2022-12-03T04:25:20.587Z"
   },
   {
    "duration": 8,
    "start_time": "2022-12-03T04:25:20.893Z"
   },
   {
    "duration": 652,
    "start_time": "2022-12-03T04:25:20.903Z"
   },
   {
    "duration": 3195,
    "start_time": "2022-12-03T04:25:21.558Z"
   },
   {
    "duration": 337,
    "start_time": "2022-12-03T04:25:24.755Z"
   },
   {
    "duration": 220,
    "start_time": "2022-12-03T04:25:25.095Z"
   },
   {
    "duration": 187,
    "start_time": "2022-12-03T04:25:25.317Z"
   },
   {
    "duration": 176,
    "start_time": "2022-12-03T04:25:25.505Z"
   },
   {
    "duration": 15,
    "start_time": "2022-12-03T04:25:25.683Z"
   },
   {
    "duration": 12,
    "start_time": "2022-12-03T04:25:25.699Z"
   },
   {
    "duration": 117,
    "start_time": "2022-12-03T04:25:25.712Z"
   },
   {
    "duration": 108,
    "start_time": "2022-12-03T04:25:25.845Z"
   },
   {
    "duration": 119,
    "start_time": "2022-12-03T04:25:25.955Z"
   },
   {
    "duration": 102,
    "start_time": "2022-12-03T04:25:26.076Z"
   },
   {
    "duration": 118,
    "start_time": "2022-12-03T04:25:26.180Z"
   },
   {
    "duration": 109,
    "start_time": "2022-12-03T04:25:26.300Z"
   },
   {
    "duration": 40,
    "start_time": "2022-12-03T04:25:26.411Z"
   },
   {
    "duration": 110,
    "start_time": "2022-12-03T04:25:26.453Z"
   },
   {
    "duration": 1232,
    "start_time": "2022-12-03T04:28:02.018Z"
   },
   {
    "duration": 104,
    "start_time": "2022-12-03T04:28:03.252Z"
   },
   {
    "duration": 4,
    "start_time": "2022-12-03T04:28:03.358Z"
   },
   {
    "duration": 34,
    "start_time": "2022-12-03T04:28:03.365Z"
   },
   {
    "duration": 13,
    "start_time": "2022-12-03T04:28:03.401Z"
   },
   {
    "duration": 32,
    "start_time": "2022-12-03T04:28:03.416Z"
   },
   {
    "duration": 22,
    "start_time": "2022-12-03T04:28:03.450Z"
   },
   {
    "duration": 5,
    "start_time": "2022-12-03T04:28:03.474Z"
   },
   {
    "duration": 262,
    "start_time": "2022-12-03T04:28:03.481Z"
   },
   {
    "duration": 8,
    "start_time": "2022-12-03T04:28:03.754Z"
   },
   {
    "duration": 587,
    "start_time": "2022-12-03T04:28:03.764Z"
   },
   {
    "duration": 2701,
    "start_time": "2022-12-03T04:28:04.353Z"
   },
   {
    "duration": 348,
    "start_time": "2022-12-03T04:28:07.056Z"
   },
   {
    "duration": 196,
    "start_time": "2022-12-03T04:28:07.406Z"
   },
   {
    "duration": 162,
    "start_time": "2022-12-03T04:28:07.604Z"
   },
   {
    "duration": 174,
    "start_time": "2022-12-03T04:28:07.768Z"
   },
   {
    "duration": 14,
    "start_time": "2022-12-03T04:28:07.944Z"
   },
   {
    "duration": 12,
    "start_time": "2022-12-03T04:28:07.960Z"
   },
   {
    "duration": 113,
    "start_time": "2022-12-03T04:28:07.973Z"
   },
   {
    "duration": 97,
    "start_time": "2022-12-03T04:28:08.087Z"
   },
   {
    "duration": 96,
    "start_time": "2022-12-03T04:28:08.185Z"
   },
   {
    "duration": 102,
    "start_time": "2022-12-03T04:28:08.282Z"
   },
   {
    "duration": 98,
    "start_time": "2022-12-03T04:28:08.385Z"
   },
   {
    "duration": 106,
    "start_time": "2022-12-03T04:28:08.485Z"
   },
   {
    "duration": 17,
    "start_time": "2022-12-03T04:28:08.592Z"
   },
   {
    "duration": 124,
    "start_time": "2022-12-03T04:28:08.610Z"
   },
   {
    "duration": 52,
    "start_time": "2022-12-03T04:49:24.493Z"
   },
   {
    "duration": 49,
    "start_time": "2022-12-03T04:57:10.237Z"
   },
   {
    "duration": 23,
    "start_time": "2022-12-03T04:58:56.644Z"
   },
   {
    "duration": 10,
    "start_time": "2022-12-03T05:00:15.806Z"
   },
   {
    "duration": 12,
    "start_time": "2022-12-03T05:00:23.211Z"
   },
   {
    "duration": 15,
    "start_time": "2022-12-03T05:00:36.024Z"
   },
   {
    "duration": 12,
    "start_time": "2022-12-03T05:03:23.974Z"
   },
   {
    "duration": 77,
    "start_time": "2022-12-03T05:03:49.941Z"
   },
   {
    "duration": 16,
    "start_time": "2022-12-03T05:03:56.073Z"
   },
   {
    "duration": 22,
    "start_time": "2022-12-03T05:04:19.335Z"
   },
   {
    "duration": 16,
    "start_time": "2022-12-03T05:05:20.942Z"
   },
   {
    "duration": 13,
    "start_time": "2022-12-03T06:06:32.614Z"
   },
   {
    "duration": 9,
    "start_time": "2022-12-03T06:06:44.262Z"
   },
   {
    "duration": 12,
    "start_time": "2022-12-03T06:11:29.020Z"
   },
   {
    "duration": 15,
    "start_time": "2022-12-03T06:11:36.727Z"
   },
   {
    "duration": 13,
    "start_time": "2022-12-03T06:14:29.559Z"
   },
   {
    "duration": 13,
    "start_time": "2022-12-03T06:14:55.654Z"
   },
   {
    "duration": 13,
    "start_time": "2022-12-03T06:16:11.269Z"
   },
   {
    "duration": 61,
    "start_time": "2022-12-03T06:16:57.694Z"
   },
   {
    "duration": 13,
    "start_time": "2022-12-03T06:22:05.935Z"
   },
   {
    "duration": 49,
    "start_time": "2022-12-03T06:25:49.118Z"
   },
   {
    "duration": 42,
    "start_time": "2022-12-03T06:26:40.447Z"
   },
   {
    "duration": 15,
    "start_time": "2022-12-03T06:28:09.789Z"
   },
   {
    "duration": 14,
    "start_time": "2022-12-03T06:28:27.523Z"
   },
   {
    "duration": 11,
    "start_time": "2022-12-03T06:29:28.948Z"
   },
   {
    "duration": 11,
    "start_time": "2022-12-03T06:29:48.208Z"
   },
   {
    "duration": 19,
    "start_time": "2022-12-03T06:30:02.394Z"
   },
   {
    "duration": 60,
    "start_time": "2022-12-03T06:39:08.686Z"
   },
   {
    "duration": 62,
    "start_time": "2022-12-03T06:39:29.486Z"
   },
   {
    "duration": 349,
    "start_time": "2022-12-03T06:39:44.442Z"
   },
   {
    "duration": 17,
    "start_time": "2022-12-03T06:40:08.861Z"
   },
   {
    "duration": 17,
    "start_time": "2022-12-03T06:45:50.556Z"
   },
   {
    "duration": 12,
    "start_time": "2022-12-03T07:24:34.600Z"
   },
   {
    "duration": 10,
    "start_time": "2022-12-03T07:33:37.248Z"
   },
   {
    "duration": 9,
    "start_time": "2022-12-03T07:33:57.318Z"
   },
   {
    "duration": 1341,
    "start_time": "2022-12-03T07:34:14.528Z"
   },
   {
    "duration": 124,
    "start_time": "2022-12-03T07:34:15.871Z"
   },
   {
    "duration": 7,
    "start_time": "2022-12-03T07:34:15.997Z"
   },
   {
    "duration": 16,
    "start_time": "2022-12-03T07:34:16.039Z"
   },
   {
    "duration": 24,
    "start_time": "2022-12-03T07:34:16.058Z"
   },
   {
    "duration": 21,
    "start_time": "2022-12-03T07:34:16.083Z"
   },
   {
    "duration": 45,
    "start_time": "2022-12-03T07:34:16.106Z"
   },
   {
    "duration": 6,
    "start_time": "2022-12-03T07:34:16.154Z"
   },
   {
    "duration": 286,
    "start_time": "2022-12-03T07:34:16.163Z"
   },
   {
    "duration": 9,
    "start_time": "2022-12-03T07:34:16.454Z"
   },
   {
    "duration": 620,
    "start_time": "2022-12-03T07:34:16.465Z"
   },
   {
    "duration": 2841,
    "start_time": "2022-12-03T07:34:17.086Z"
   },
   {
    "duration": 324,
    "start_time": "2022-12-03T07:34:19.936Z"
   },
   {
    "duration": 209,
    "start_time": "2022-12-03T07:34:20.261Z"
   },
   {
    "duration": 182,
    "start_time": "2022-12-03T07:34:20.472Z"
   },
   {
    "duration": 186,
    "start_time": "2022-12-03T07:34:20.656Z"
   },
   {
    "duration": 20,
    "start_time": "2022-12-03T07:34:20.843Z"
   },
   {
    "duration": 111,
    "start_time": "2022-12-03T07:34:20.865Z"
   },
   {
    "duration": 111,
    "start_time": "2022-12-03T07:34:20.978Z"
   },
   {
    "duration": 127,
    "start_time": "2022-12-03T07:34:21.091Z"
   },
   {
    "duration": 128,
    "start_time": "2022-12-03T07:34:21.220Z"
   },
   {
    "duration": 112,
    "start_time": "2022-12-03T07:34:21.350Z"
   },
   {
    "duration": 120,
    "start_time": "2022-12-03T07:34:21.464Z"
   },
   {
    "duration": 17,
    "start_time": "2022-12-03T07:34:21.587Z"
   },
   {
    "duration": 42,
    "start_time": "2022-12-03T07:34:21.606Z"
   },
   {
    "duration": 13,
    "start_time": "2022-12-03T07:34:21.650Z"
   },
   {
    "duration": 1188,
    "start_time": "2022-12-03T08:26:38.380Z"
   },
   {
    "duration": 112,
    "start_time": "2022-12-03T08:26:39.571Z"
   },
   {
    "duration": 4,
    "start_time": "2022-12-03T08:26:39.685Z"
   },
   {
    "duration": 26,
    "start_time": "2022-12-03T08:26:39.692Z"
   },
   {
    "duration": 14,
    "start_time": "2022-12-03T08:26:39.737Z"
   },
   {
    "duration": 29,
    "start_time": "2022-12-03T08:26:39.753Z"
   },
   {
    "duration": 20,
    "start_time": "2022-12-03T08:26:39.784Z"
   },
   {
    "duration": 4,
    "start_time": "2022-12-03T08:26:39.806Z"
   },
   {
    "duration": 275,
    "start_time": "2022-12-03T08:26:39.812Z"
   },
   {
    "duration": 8,
    "start_time": "2022-12-03T08:26:40.090Z"
   },
   {
    "duration": 565,
    "start_time": "2022-12-03T08:26:40.100Z"
   },
   {
    "duration": 2858,
    "start_time": "2022-12-03T08:26:40.667Z"
   },
   {
    "duration": 342,
    "start_time": "2022-12-03T08:26:43.527Z"
   },
   {
    "duration": 220,
    "start_time": "2022-12-03T08:26:43.871Z"
   },
   {
    "duration": 171,
    "start_time": "2022-12-03T08:26:44.093Z"
   },
   {
    "duration": 176,
    "start_time": "2022-12-03T08:26:44.266Z"
   },
   {
    "duration": 15,
    "start_time": "2022-12-03T08:26:44.447Z"
   },
   {
    "duration": 110,
    "start_time": "2022-12-03T08:26:44.464Z"
   },
   {
    "duration": 107,
    "start_time": "2022-12-03T08:26:44.576Z"
   },
   {
    "duration": 106,
    "start_time": "2022-12-03T08:26:44.685Z"
   },
   {
    "duration": 109,
    "start_time": "2022-12-03T08:26:44.793Z"
   },
   {
    "duration": 124,
    "start_time": "2022-12-03T08:26:44.904Z"
   },
   {
    "duration": 124,
    "start_time": "2022-12-03T08:26:45.029Z"
   },
   {
    "duration": 15,
    "start_time": "2022-12-03T08:26:45.155Z"
   },
   {
    "duration": 59,
    "start_time": "2022-12-03T08:26:45.172Z"
   },
   {
    "duration": 32,
    "start_time": "2022-12-03T08:26:45.233Z"
   },
   {
    "duration": 1329,
    "start_time": "2022-12-03T08:41:49.924Z"
   },
   {
    "duration": 93,
    "start_time": "2022-12-03T08:41:51.255Z"
   },
   {
    "duration": 4,
    "start_time": "2022-12-03T08:41:51.350Z"
   },
   {
    "duration": 11,
    "start_time": "2022-12-03T08:41:51.356Z"
   },
   {
    "duration": 10,
    "start_time": "2022-12-03T08:41:51.369Z"
   },
   {
    "duration": 24,
    "start_time": "2022-12-03T08:41:51.411Z"
   },
   {
    "duration": 21,
    "start_time": "2022-12-03T08:41:51.436Z"
   },
   {
    "duration": 5,
    "start_time": "2022-12-03T08:41:51.458Z"
   },
   {
    "duration": 270,
    "start_time": "2022-12-03T08:41:51.465Z"
   },
   {
    "duration": 9,
    "start_time": "2022-12-03T08:41:51.738Z"
   },
   {
    "duration": 593,
    "start_time": "2022-12-03T08:41:51.748Z"
   },
   {
    "duration": 3026,
    "start_time": "2022-12-03T08:41:52.343Z"
   },
   {
    "duration": 333,
    "start_time": "2022-12-03T08:41:55.371Z"
   },
   {
    "duration": 221,
    "start_time": "2022-12-03T08:41:55.706Z"
   },
   {
    "duration": 177,
    "start_time": "2022-12-03T08:41:55.929Z"
   },
   {
    "duration": 198,
    "start_time": "2022-12-03T08:41:56.107Z"
   },
   {
    "duration": 20,
    "start_time": "2022-12-03T08:41:56.312Z"
   },
   {
    "duration": 125,
    "start_time": "2022-12-03T08:41:56.333Z"
   },
   {
    "duration": 126,
    "start_time": "2022-12-03T08:41:56.460Z"
   },
   {
    "duration": 118,
    "start_time": "2022-12-03T08:41:56.588Z"
   },
   {
    "duration": 120,
    "start_time": "2022-12-03T08:41:56.712Z"
   },
   {
    "duration": 115,
    "start_time": "2022-12-03T08:41:56.833Z"
   },
   {
    "duration": 111,
    "start_time": "2022-12-03T08:41:56.950Z"
   },
   {
    "duration": 14,
    "start_time": "2022-12-03T08:41:57.063Z"
   },
   {
    "duration": 10,
    "start_time": "2022-12-03T08:41:57.079Z"
   },
   {
    "duration": 34,
    "start_time": "2022-12-03T08:41:57.091Z"
   },
   {
    "duration": 7,
    "start_time": "2022-12-03T08:50:53.433Z"
   },
   {
    "duration": 8,
    "start_time": "2022-12-03T08:51:07.294Z"
   },
   {
    "duration": 8,
    "start_time": "2022-12-03T08:51:19.176Z"
   },
   {
    "duration": 45,
    "start_time": "2022-12-03T08:52:32.291Z"
   },
   {
    "duration": 8,
    "start_time": "2022-12-03T08:53:07.459Z"
   },
   {
    "duration": 528,
    "start_time": "2022-12-03T08:53:10.637Z"
   },
   {
    "duration": 1208,
    "start_time": "2022-12-03T09:08:29.464Z"
   },
   {
    "duration": 95,
    "start_time": "2022-12-03T09:08:30.674Z"
   },
   {
    "duration": 4,
    "start_time": "2022-12-03T09:08:30.771Z"
   },
   {
    "duration": 56,
    "start_time": "2022-12-03T09:08:30.777Z"
   },
   {
    "duration": 46,
    "start_time": "2022-12-03T09:08:30.835Z"
   },
   {
    "duration": 25,
    "start_time": "2022-12-03T09:08:30.883Z"
   },
   {
    "duration": 34,
    "start_time": "2022-12-03T09:08:30.910Z"
   },
   {
    "duration": 19,
    "start_time": "2022-12-03T09:08:30.946Z"
   },
   {
    "duration": 263,
    "start_time": "2022-12-03T09:08:30.967Z"
   },
   {
    "duration": 8,
    "start_time": "2022-12-03T09:08:31.233Z"
   },
   {
    "duration": 15,
    "start_time": "2022-12-03T09:08:31.243Z"
   },
   {
    "duration": 583,
    "start_time": "2022-12-03T09:08:31.261Z"
   },
   {
    "duration": 2959,
    "start_time": "2022-12-03T09:08:31.846Z"
   },
   {
    "duration": 364,
    "start_time": "2022-12-03T09:08:34.814Z"
   },
   {
    "duration": 238,
    "start_time": "2022-12-03T09:08:35.180Z"
   },
   {
    "duration": 182,
    "start_time": "2022-12-03T09:08:35.420Z"
   },
   {
    "duration": 182,
    "start_time": "2022-12-03T09:08:35.604Z"
   },
   {
    "duration": 27,
    "start_time": "2022-12-03T09:08:35.788Z"
   },
   {
    "duration": 112,
    "start_time": "2022-12-03T09:08:35.817Z"
   },
   {
    "duration": 115,
    "start_time": "2022-12-03T09:08:35.931Z"
   },
   {
    "duration": 115,
    "start_time": "2022-12-03T09:08:36.047Z"
   },
   {
    "duration": 130,
    "start_time": "2022-12-03T09:08:36.164Z"
   },
   {
    "duration": 157,
    "start_time": "2022-12-03T09:08:36.296Z"
   },
   {
    "duration": 139,
    "start_time": "2022-12-03T09:08:36.457Z"
   },
   {
    "duration": 34,
    "start_time": "2022-12-03T09:08:36.598Z"
   },
   {
    "duration": 15,
    "start_time": "2022-12-03T09:08:36.634Z"
   },
   {
    "duration": 25,
    "start_time": "2022-12-03T09:08:36.651Z"
   },
   {
    "duration": 1924,
    "start_time": "2022-12-03T15:36:08.409Z"
   },
   {
    "duration": 116,
    "start_time": "2022-12-03T15:36:10.336Z"
   },
   {
    "duration": 4,
    "start_time": "2022-12-03T15:36:10.454Z"
   },
   {
    "duration": 6,
    "start_time": "2022-12-03T15:36:10.460Z"
   },
   {
    "duration": 16,
    "start_time": "2022-12-03T15:36:10.468Z"
   },
   {
    "duration": 20,
    "start_time": "2022-12-03T15:36:10.486Z"
   },
   {
    "duration": 51,
    "start_time": "2022-12-03T15:36:10.507Z"
   },
   {
    "duration": 5,
    "start_time": "2022-12-03T15:36:10.560Z"
   },
   {
    "duration": 261,
    "start_time": "2022-12-03T15:36:10.567Z"
   },
   {
    "duration": 9,
    "start_time": "2022-12-03T15:36:10.830Z"
   },
   {
    "duration": 10,
    "start_time": "2022-12-03T15:36:10.850Z"
   },
   {
    "duration": 576,
    "start_time": "2022-12-03T15:36:10.861Z"
   },
   {
    "duration": 2732,
    "start_time": "2022-12-03T15:36:11.439Z"
   },
   {
    "duration": 328,
    "start_time": "2022-12-03T15:36:14.173Z"
   },
   {
    "duration": 207,
    "start_time": "2022-12-03T15:36:14.503Z"
   },
   {
    "duration": 174,
    "start_time": "2022-12-03T15:36:14.712Z"
   },
   {
    "duration": 175,
    "start_time": "2022-12-03T15:36:14.887Z"
   },
   {
    "duration": 15,
    "start_time": "2022-12-03T15:36:15.064Z"
   },
   {
    "duration": 112,
    "start_time": "2022-12-03T15:36:15.080Z"
   },
   {
    "duration": 117,
    "start_time": "2022-12-03T15:36:15.195Z"
   },
   {
    "duration": 115,
    "start_time": "2022-12-03T15:36:15.313Z"
   },
   {
    "duration": 123,
    "start_time": "2022-12-03T15:36:15.430Z"
   },
   {
    "duration": 111,
    "start_time": "2022-12-03T15:36:15.554Z"
   },
   {
    "duration": 109,
    "start_time": "2022-12-03T15:36:15.667Z"
   },
   {
    "duration": 17,
    "start_time": "2022-12-03T15:36:15.778Z"
   },
   {
    "duration": 11,
    "start_time": "2022-12-03T15:36:15.797Z"
   },
   {
    "duration": 41,
    "start_time": "2022-12-03T15:36:15.810Z"
   },
   {
    "duration": 5,
    "start_time": "2022-12-03T15:36:57.503Z"
   },
   {
    "duration": 73,
    "start_time": "2022-12-03T15:43:31.766Z"
   },
   {
    "duration": 6,
    "start_time": "2022-12-03T15:45:23.491Z"
   },
   {
    "duration": 8,
    "start_time": "2022-12-03T15:45:39.460Z"
   },
   {
    "duration": 5,
    "start_time": "2022-12-03T15:45:59.338Z"
   },
   {
    "duration": 25,
    "start_time": "2022-12-03T15:46:09.289Z"
   },
   {
    "duration": 9,
    "start_time": "2022-12-03T15:47:18.161Z"
   },
   {
    "duration": 28,
    "start_time": "2022-12-03T15:47:27.204Z"
   },
   {
    "duration": 110,
    "start_time": "2022-12-03T15:48:54.072Z"
   },
   {
    "duration": 522,
    "start_time": "2022-12-03T15:49:11.255Z"
   },
   {
    "duration": 8,
    "start_time": "2022-12-03T15:50:14.521Z"
   },
   {
    "duration": 669,
    "start_time": "2022-12-03T15:51:37.184Z"
   },
   {
    "duration": 536,
    "start_time": "2022-12-03T15:52:56.300Z"
   },
   {
    "duration": 538,
    "start_time": "2022-12-03T15:53:31.516Z"
   },
   {
    "duration": 600,
    "start_time": "2022-12-03T15:56:00.271Z"
   },
   {
    "duration": 746,
    "start_time": "2022-12-03T15:58:38.979Z"
   },
   {
    "duration": 591,
    "start_time": "2022-12-03T15:59:19.051Z"
   },
   {
    "duration": 2968,
    "start_time": "2022-12-03T16:01:27.862Z"
   },
   {
    "duration": 321,
    "start_time": "2022-12-03T16:08:04.456Z"
   },
   {
    "duration": 203,
    "start_time": "2022-12-03T16:10:36.061Z"
   },
   {
    "duration": 192,
    "start_time": "2022-12-03T16:11:24.312Z"
   },
   {
    "duration": 227,
    "start_time": "2022-12-03T16:16:36.275Z"
   },
   {
    "duration": 199,
    "start_time": "2022-12-03T16:16:53.667Z"
   },
   {
    "duration": 205,
    "start_time": "2022-12-03T16:17:41.809Z"
   },
   {
    "duration": 198,
    "start_time": "2022-12-03T16:27:26.733Z"
   },
   {
    "duration": 150,
    "start_time": "2022-12-03T16:29:32.608Z"
   },
   {
    "duration": 154,
    "start_time": "2022-12-03T16:31:28.601Z"
   },
   {
    "duration": 328,
    "start_time": "2022-12-03T16:34:42.171Z"
   },
   {
    "duration": 324,
    "start_time": "2022-12-03T16:35:11.061Z"
   },
   {
    "duration": 175,
    "start_time": "2022-12-03T16:38:14.057Z"
   },
   {
    "duration": 160,
    "start_time": "2022-12-03T16:41:49.983Z"
   },
   {
    "duration": 172,
    "start_time": "2022-12-03T16:42:10.286Z"
   },
   {
    "duration": 168,
    "start_time": "2022-12-03T16:44:56.875Z"
   },
   {
    "duration": 353,
    "start_time": "2022-12-03T16:50:00.963Z"
   },
   {
    "duration": 312,
    "start_time": "2022-12-03T16:50:44.375Z"
   },
   {
    "duration": 364,
    "start_time": "2022-12-03T16:54:19.073Z"
   },
   {
    "duration": 350,
    "start_time": "2022-12-03T16:56:00.052Z"
   },
   {
    "duration": 11,
    "start_time": "2022-12-03T16:59:21.205Z"
   },
   {
    "duration": 10,
    "start_time": "2022-12-03T17:00:39.768Z"
   },
   {
    "duration": 9,
    "start_time": "2022-12-03T17:01:44.849Z"
   },
   {
    "duration": 15,
    "start_time": "2022-12-03T17:03:49.497Z"
   },
   {
    "duration": 16,
    "start_time": "2022-12-03T17:05:27.097Z"
   },
   {
    "duration": 364,
    "start_time": "2022-12-03T17:14:38.042Z"
   },
   {
    "duration": 299,
    "start_time": "2022-12-03T17:17:18.811Z"
   },
   {
    "duration": 9,
    "start_time": "2022-12-03T17:20:26.300Z"
   },
   {
    "duration": 10,
    "start_time": "2022-12-03T17:22:06.743Z"
   },
   {
    "duration": 10,
    "start_time": "2022-12-03T17:33:34.766Z"
   },
   {
    "duration": 71,
    "start_time": "2022-12-03T17:37:19.354Z"
   },
   {
    "duration": 9,
    "start_time": "2022-12-03T17:37:47.647Z"
   },
   {
    "duration": 10,
    "start_time": "2022-12-03T17:39:16.185Z"
   },
   {
    "duration": 18,
    "start_time": "2022-12-03T17:48:01.648Z"
   },
   {
    "duration": 96,
    "start_time": "2022-12-03T18:00:27.869Z"
   },
   {
    "duration": 91,
    "start_time": "2022-12-03T18:00:32.005Z"
   },
   {
    "duration": 94,
    "start_time": "2022-12-03T18:00:36.067Z"
   },
   {
    "duration": 46,
    "start_time": "2022-12-04T05:52:05.884Z"
   },
   {
    "duration": 1425,
    "start_time": "2022-12-04T05:52:18.283Z"
   },
   {
    "duration": 89,
    "start_time": "2022-12-04T05:52:19.710Z"
   },
   {
    "duration": 3,
    "start_time": "2022-12-04T05:52:19.800Z"
   },
   {
    "duration": 8,
    "start_time": "2022-12-04T05:52:19.805Z"
   },
   {
    "duration": 10,
    "start_time": "2022-12-04T05:52:19.815Z"
   },
   {
    "duration": 16,
    "start_time": "2022-12-04T05:52:19.827Z"
   },
   {
    "duration": 18,
    "start_time": "2022-12-04T05:52:19.844Z"
   },
   {
    "duration": 4,
    "start_time": "2022-12-04T05:52:19.863Z"
   },
   {
    "duration": 231,
    "start_time": "2022-12-04T05:52:19.869Z"
   },
   {
    "duration": 8,
    "start_time": "2022-12-04T05:52:20.104Z"
   },
   {
    "duration": 10,
    "start_time": "2022-12-04T05:52:20.114Z"
   },
   {
    "duration": 477,
    "start_time": "2022-12-04T05:52:20.126Z"
   },
   {
    "duration": 2408,
    "start_time": "2022-12-04T05:52:20.605Z"
   },
   {
    "duration": 294,
    "start_time": "2022-12-04T05:52:23.015Z"
   },
   {
    "duration": 191,
    "start_time": "2022-12-04T05:52:23.311Z"
   },
   {
    "duration": 162,
    "start_time": "2022-12-04T05:52:23.504Z"
   },
   {
    "duration": 169,
    "start_time": "2022-12-04T05:52:23.668Z"
   },
   {
    "duration": 307,
    "start_time": "2022-12-04T05:52:23.839Z"
   },
   {
    "duration": 280,
    "start_time": "2022-12-04T05:52:24.147Z"
   },
   {
    "duration": 6,
    "start_time": "2022-12-04T05:52:24.429Z"
   },
   {
    "duration": 233,
    "start_time": "2022-12-04T05:52:24.436Z"
   },
   {
    "duration": 89,
    "start_time": "2022-12-04T05:52:24.671Z"
   },
   {
    "duration": 93,
    "start_time": "2022-12-04T05:52:24.762Z"
   },
   {
    "duration": 102,
    "start_time": "2022-12-04T05:52:24.856Z"
   },
   {
    "duration": 98,
    "start_time": "2022-12-04T05:52:24.959Z"
   },
   {
    "duration": 101,
    "start_time": "2022-12-04T05:52:25.059Z"
   },
   {
    "duration": 88,
    "start_time": "2022-12-04T05:52:25.161Z"
   },
   {
    "duration": 91,
    "start_time": "2022-12-04T05:52:25.252Z"
   },
   {
    "duration": 93,
    "start_time": "2022-12-04T05:52:25.344Z"
   },
   {
    "duration": 7,
    "start_time": "2022-12-04T05:52:25.438Z"
   },
   {
    "duration": 12,
    "start_time": "2022-12-04T05:52:25.446Z"
   },
   {
    "duration": 95,
    "start_time": "2022-12-04T05:52:51.445Z"
   },
   {
    "duration": 4,
    "start_time": "2022-12-04T06:10:29.219Z"
   },
   {
    "duration": 97,
    "start_time": "2022-12-04T06:11:05.013Z"
   },
   {
    "duration": 4,
    "start_time": "2022-12-04T06:11:13.642Z"
   },
   {
    "duration": 8,
    "start_time": "2022-12-04T06:11:15.358Z"
   },
   {
    "duration": 245,
    "start_time": "2022-12-04T06:12:53.104Z"
   },
   {
    "duration": 241,
    "start_time": "2022-12-04T06:13:27.782Z"
   },
   {
    "duration": 85,
    "start_time": "2022-12-04T06:13:49.261Z"
   },
   {
    "duration": 91,
    "start_time": "2022-12-04T06:14:41.877Z"
   },
   {
    "duration": 90,
    "start_time": "2022-12-04T06:14:59.296Z"
   },
   {
    "duration": 91,
    "start_time": "2022-12-04T06:15:17.026Z"
   },
   {
    "duration": 89,
    "start_time": "2022-12-04T06:21:54.014Z"
   },
   {
    "duration": 83,
    "start_time": "2022-12-04T06:22:09.127Z"
   },
   {
    "duration": 83,
    "start_time": "2022-12-04T06:22:28.034Z"
   },
   {
    "duration": 196,
    "start_time": "2022-12-04T07:00:59.806Z"
   },
   {
    "duration": 196,
    "start_time": "2022-12-04T07:01:12.441Z"
   },
   {
    "duration": 195,
    "start_time": "2022-12-04T07:01:51.399Z"
   },
   {
    "duration": 614,
    "start_time": "2022-12-04T07:06:29.547Z"
   },
   {
    "duration": 178,
    "start_time": "2022-12-04T07:10:35.199Z"
   },
   {
    "duration": 312,
    "start_time": "2022-12-04T07:17:22.345Z"
   },
   {
    "duration": 287,
    "start_time": "2022-12-04T07:19:00.905Z"
   },
   {
    "duration": 282,
    "start_time": "2022-12-04T07:19:21.958Z"
   },
   {
    "duration": 433,
    "start_time": "2022-12-04T07:20:44.424Z"
   },
   {
    "duration": 295,
    "start_time": "2022-12-04T07:21:10.628Z"
   },
   {
    "duration": 323,
    "start_time": "2022-12-04T07:39:55.787Z"
   },
   {
    "duration": 246,
    "start_time": "2022-12-04T07:41:12.529Z"
   },
   {
    "duration": 310,
    "start_time": "2022-12-04T07:42:16.666Z"
   },
   {
    "duration": 294,
    "start_time": "2022-12-04T07:44:22.154Z"
   },
   {
    "duration": 398,
    "start_time": "2022-12-04T07:44:46.181Z"
   },
   {
    "duration": 323,
    "start_time": "2022-12-04T07:45:18.456Z"
   },
   {
    "duration": 306,
    "start_time": "2022-12-04T07:45:29.474Z"
   },
   {
    "duration": 288,
    "start_time": "2022-12-04T08:22:01.821Z"
   },
   {
    "duration": 307,
    "start_time": "2022-12-04T08:22:24.076Z"
   },
   {
    "duration": 9,
    "start_time": "2022-12-04T08:23:41.659Z"
   },
   {
    "duration": 9,
    "start_time": "2022-12-04T08:23:56.064Z"
   },
   {
    "duration": 91,
    "start_time": "2022-12-04T08:30:00.106Z"
   },
   {
    "duration": 172,
    "start_time": "2022-12-04T08:30:10.867Z"
   },
   {
    "duration": 90,
    "start_time": "2022-12-04T08:30:23.648Z"
   },
   {
    "duration": 86,
    "start_time": "2022-12-04T08:30:26.898Z"
   },
   {
    "duration": 1129,
    "start_time": "2022-12-04T08:51:43.346Z"
   },
   {
    "duration": 93,
    "start_time": "2022-12-04T08:51:44.477Z"
   },
   {
    "duration": 26,
    "start_time": "2022-12-04T08:51:44.572Z"
   },
   {
    "duration": 6,
    "start_time": "2022-12-04T08:51:44.601Z"
   },
   {
    "duration": 15,
    "start_time": "2022-12-04T08:51:44.610Z"
   },
   {
    "duration": 24,
    "start_time": "2022-12-04T08:51:44.627Z"
   },
   {
    "duration": 45,
    "start_time": "2022-12-04T08:51:44.653Z"
   },
   {
    "duration": 7,
    "start_time": "2022-12-04T08:51:44.700Z"
   },
   {
    "duration": 245,
    "start_time": "2022-12-04T08:51:44.710Z"
   },
   {
    "duration": 7,
    "start_time": "2022-12-04T08:51:44.958Z"
   },
   {
    "duration": 14,
    "start_time": "2022-12-04T08:51:44.967Z"
   },
   {
    "duration": 482,
    "start_time": "2022-12-04T08:51:44.982Z"
   },
   {
    "duration": 2473,
    "start_time": "2022-12-04T08:51:45.466Z"
   },
   {
    "duration": 297,
    "start_time": "2022-12-04T08:51:47.941Z"
   },
   {
    "duration": 176,
    "start_time": "2022-12-04T08:51:48.240Z"
   },
   {
    "duration": 165,
    "start_time": "2022-12-04T08:51:48.418Z"
   },
   {
    "duration": 159,
    "start_time": "2022-12-04T08:51:48.585Z"
   },
   {
    "duration": 313,
    "start_time": "2022-12-04T08:51:48.745Z"
   },
   {
    "duration": 298,
    "start_time": "2022-12-04T08:51:49.060Z"
   },
   {
    "duration": 6,
    "start_time": "2022-12-04T08:51:49.360Z"
   },
   {
    "duration": 285,
    "start_time": "2022-12-04T08:51:49.368Z"
   },
   {
    "duration": 106,
    "start_time": "2022-12-04T08:51:49.655Z"
   },
   {
    "duration": 109,
    "start_time": "2022-12-04T08:51:49.763Z"
   },
   {
    "duration": 112,
    "start_time": "2022-12-04T08:51:49.873Z"
   },
   {
    "duration": 121,
    "start_time": "2022-12-04T08:51:49.987Z"
   },
   {
    "duration": 108,
    "start_time": "2022-12-04T08:51:50.110Z"
   },
   {
    "duration": 96,
    "start_time": "2022-12-04T08:51:50.220Z"
   },
   {
    "duration": 261,
    "start_time": "2022-12-04T08:51:50.319Z"
   },
   {
    "duration": 93,
    "start_time": "2022-12-04T08:51:50.581Z"
   },
   {
    "duration": 110,
    "start_time": "2022-12-04T08:51:50.676Z"
   },
   {
    "duration": 15,
    "start_time": "2022-12-04T08:51:50.787Z"
   },
   {
    "duration": 24,
    "start_time": "2022-12-04T08:51:50.804Z"
   },
   {
    "duration": 52,
    "start_time": "2022-12-04T08:52:51.204Z"
   },
   {
    "duration": 1328,
    "start_time": "2022-12-04T12:47:53.333Z"
   },
   {
    "duration": 131,
    "start_time": "2022-12-04T12:47:54.664Z"
   },
   {
    "duration": 5,
    "start_time": "2022-12-04T12:47:54.797Z"
   },
   {
    "duration": 12,
    "start_time": "2022-12-04T12:47:54.804Z"
   },
   {
    "duration": 35,
    "start_time": "2022-12-04T12:47:54.817Z"
   },
   {
    "duration": 41,
    "start_time": "2022-12-04T12:47:54.855Z"
   },
   {
    "duration": 29,
    "start_time": "2022-12-04T12:47:54.898Z"
   },
   {
    "duration": 16,
    "start_time": "2022-12-04T12:47:54.938Z"
   },
   {
    "duration": 263,
    "start_time": "2022-12-04T12:47:54.959Z"
   },
   {
    "duration": 25,
    "start_time": "2022-12-04T12:47:55.225Z"
   },
   {
    "duration": 32,
    "start_time": "2022-12-04T12:47:55.251Z"
   },
   {
    "duration": 597,
    "start_time": "2022-12-04T12:47:55.285Z"
   },
   {
    "duration": 3179,
    "start_time": "2022-12-04T12:47:55.884Z"
   },
   {
    "duration": 355,
    "start_time": "2022-12-04T12:47:59.065Z"
   },
   {
    "duration": 251,
    "start_time": "2022-12-04T12:47:59.421Z"
   },
   {
    "duration": 196,
    "start_time": "2022-12-04T12:47:59.673Z"
   },
   {
    "duration": 247,
    "start_time": "2022-12-04T12:47:59.871Z"
   },
   {
    "duration": 378,
    "start_time": "2022-12-04T12:48:00.120Z"
   },
   {
    "duration": 395,
    "start_time": "2022-12-04T12:48:00.500Z"
   },
   {
    "duration": 10,
    "start_time": "2022-12-04T12:48:00.897Z"
   },
   {
    "duration": 488,
    "start_time": "2022-12-04T12:48:00.909Z"
   },
   {
    "duration": 140,
    "start_time": "2022-12-04T12:48:01.399Z"
   },
   {
    "duration": 101,
    "start_time": "2022-12-04T12:48:01.543Z"
   },
   {
    "duration": 110,
    "start_time": "2022-12-04T12:48:01.646Z"
   },
   {
    "duration": 113,
    "start_time": "2022-12-04T12:48:01.758Z"
   },
   {
    "duration": 143,
    "start_time": "2022-12-04T12:48:01.873Z"
   },
   {
    "duration": 160,
    "start_time": "2022-12-04T12:48:02.018Z"
   },
   {
    "duration": 386,
    "start_time": "2022-12-04T12:48:02.182Z"
   },
   {
    "duration": 156,
    "start_time": "2022-12-04T12:48:02.570Z"
   },
   {
    "duration": 138,
    "start_time": "2022-12-04T12:48:02.727Z"
   },
   {
    "duration": 10,
    "start_time": "2022-12-04T12:48:02.871Z"
   },
   {
    "duration": 19,
    "start_time": "2022-12-04T12:48:02.884Z"
   },
   {
    "duration": 4,
    "start_time": "2022-12-04T12:54:59.903Z"
   },
   {
    "duration": 95,
    "start_time": "2022-12-04T12:55:29.186Z"
   },
   {
    "duration": 5,
    "start_time": "2022-12-04T12:55:41.351Z"
   },
   {
    "duration": 150,
    "start_time": "2022-12-04T12:55:42.355Z"
   },
   {
    "duration": 5,
    "start_time": "2022-12-04T12:56:44.301Z"
   },
   {
    "duration": 100,
    "start_time": "2022-12-04T12:56:44.759Z"
   },
   {
    "duration": 5,
    "start_time": "2022-12-04T12:57:07.469Z"
   },
   {
    "duration": 113,
    "start_time": "2022-12-04T12:57:08.364Z"
   },
   {
    "duration": 7,
    "start_time": "2022-12-04T12:57:21.162Z"
   },
   {
    "duration": 160,
    "start_time": "2022-12-04T12:57:21.526Z"
   },
   {
    "duration": 6,
    "start_time": "2022-12-04T12:59:28.755Z"
   },
   {
    "duration": 112,
    "start_time": "2022-12-04T12:59:50.180Z"
   }
  ],
  "kernelspec": {
   "display_name": "Python 3 (ipykernel)",
   "language": "python",
   "name": "python3"
  },
  "language_info": {
   "codemirror_mode": {
    "name": "ipython",
    "version": 3
   },
   "file_extension": ".py",
   "mimetype": "text/x-python",
   "name": "python",
   "nbconvert_exporter": "python",
   "pygments_lexer": "ipython3",
   "version": "3.9.13"
  },
  "toc": {
   "base_numbering": 1,
   "nav_menu": {},
   "number_sections": true,
   "sideBar": true,
   "skip_h1_title": true,
   "title_cell": "Table of Contents",
   "title_sidebar": "Contents",
   "toc_cell": false,
   "toc_position": {
    "height": "calc(100% - 180px)",
    "left": "10px",
    "top": "150px",
    "width": "165px"
   },
   "toc_section_display": true,
   "toc_window_display": false
  }
 },
 "nbformat": 4,
 "nbformat_minor": 2
}
