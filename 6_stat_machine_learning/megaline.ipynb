{
 "cells": [
  {
   "cell_type": "markdown",
   "metadata": {},
   "source": [
    "# Рекомендация тарифов"
   ]
  },
  {
   "cell_type": "markdown",
   "metadata": {},
   "source": [
    "## Описание проекта\n",
    "В вашем распоряжении данные о поведении клиентов, которые уже перешли на эти тарифы (из проекта курса «Статистический анализ данных»). Нужно построить модель для задачи классификации, которая выберет подходящий тариф. Предобработка данных не понадобится — вы её уже сделали.\n",
    "\n",
    "Постройте модель с максимально большим значением *accuracy*. Чтобы сдать проект успешно, нужно довести долю правильных ответов по крайней мере до 0.75. Проверьте *accuracy* на тестовой выборке самостоятельно."
   ]
  },
  {
   "cell_type": "markdown",
   "metadata": {},
   "source": [
    "## Описание данных\n",
    "Каждый объект в наборе данных — это информация о поведении одного пользователя за месяц. Известно:\n",
    "* сalls — количество звонков,\n",
    "* minutes — суммарная длительность звонков в минутах,\n",
    "* messages — количество sms-сообщений,\n",
    "* mb_used — израсходованный интернет-трафик в Мб,\n",
    "* is_ultra — каким тарифом пользовался в течение месяца («Ультра» — 1, «Смарт» — 0)."
   ]
  },
  {
   "cell_type": "markdown",
   "metadata": {},
   "source": [
    "## Откроем и изучим файл"
   ]
  },
  {
   "cell_type": "code",
   "execution_count": 1,
   "metadata": {
    "scrolled": true
   },
   "outputs": [
    {
     "data": {
      "text/html": [
       "<div>\n",
       "<style scoped>\n",
       "    .dataframe tbody tr th:only-of-type {\n",
       "        vertical-align: middle;\n",
       "    }\n",
       "\n",
       "    .dataframe tbody tr th {\n",
       "        vertical-align: top;\n",
       "    }\n",
       "\n",
       "    .dataframe thead th {\n",
       "        text-align: right;\n",
       "    }\n",
       "</style>\n",
       "<table border=\"1\" class=\"dataframe\">\n",
       "  <thead>\n",
       "    <tr style=\"text-align: right;\">\n",
       "      <th></th>\n",
       "      <th>calls</th>\n",
       "      <th>minutes</th>\n",
       "      <th>messages</th>\n",
       "      <th>mb_used</th>\n",
       "      <th>is_ultra</th>\n",
       "    </tr>\n",
       "  </thead>\n",
       "  <tbody>\n",
       "    <tr>\n",
       "      <th>0</th>\n",
       "      <td>40.0</td>\n",
       "      <td>311.90</td>\n",
       "      <td>83.0</td>\n",
       "      <td>19915.42</td>\n",
       "      <td>0</td>\n",
       "    </tr>\n",
       "    <tr>\n",
       "      <th>1</th>\n",
       "      <td>85.0</td>\n",
       "      <td>516.75</td>\n",
       "      <td>56.0</td>\n",
       "      <td>22696.96</td>\n",
       "      <td>0</td>\n",
       "    </tr>\n",
       "    <tr>\n",
       "      <th>2</th>\n",
       "      <td>77.0</td>\n",
       "      <td>467.66</td>\n",
       "      <td>86.0</td>\n",
       "      <td>21060.45</td>\n",
       "      <td>0</td>\n",
       "    </tr>\n",
       "    <tr>\n",
       "      <th>3</th>\n",
       "      <td>106.0</td>\n",
       "      <td>745.53</td>\n",
       "      <td>81.0</td>\n",
       "      <td>8437.39</td>\n",
       "      <td>1</td>\n",
       "    </tr>\n",
       "    <tr>\n",
       "      <th>4</th>\n",
       "      <td>66.0</td>\n",
       "      <td>418.74</td>\n",
       "      <td>1.0</td>\n",
       "      <td>14502.75</td>\n",
       "      <td>0</td>\n",
       "    </tr>\n",
       "  </tbody>\n",
       "</table>\n",
       "</div>"
      ],
      "text/plain": [
       "   calls  minutes  messages   mb_used  is_ultra\n",
       "0   40.0   311.90      83.0  19915.42         0\n",
       "1   85.0   516.75      56.0  22696.96         0\n",
       "2   77.0   467.66      86.0  21060.45         0\n",
       "3  106.0   745.53      81.0   8437.39         1\n",
       "4   66.0   418.74       1.0  14502.75         0"
      ]
     },
     "execution_count": 1,
     "metadata": {},
     "output_type": "execute_result"
    }
   ],
   "source": [
    "import pandas as pd\n",
    "from sklearn.tree import DecisionTreeClassifier\n",
    "from sklearn.metrics import accuracy_score\n",
    "from sklearn.ensemble import RandomForestClassifier\n",
    "from sklearn.model_selection import train_test_split\n",
    "from sklearn.metrics import mean_squared_error\n",
    "from sklearn.linear_model import LogisticRegression \n",
    "import warnings\n",
    "warnings.filterwarnings(\"ignore\")\n",
    "\n",
    "df = pd.read_csv('/datasets/users_behavior.csv')\n",
    "\n",
    "df.head()"
   ]
  },
  {
   "cell_type": "code",
   "execution_count": 2,
   "metadata": {},
   "outputs": [
    {
     "name": "stdout",
     "output_type": "stream",
     "text": [
      "<class 'pandas.core.frame.DataFrame'>\n",
      "RangeIndex: 3214 entries, 0 to 3213\n",
      "Data columns (total 5 columns):\n",
      " #   Column    Non-Null Count  Dtype  \n",
      "---  ------    --------------  -----  \n",
      " 0   calls     3214 non-null   float64\n",
      " 1   minutes   3214 non-null   float64\n",
      " 2   messages  3214 non-null   float64\n",
      " 3   mb_used   3214 non-null   float64\n",
      " 4   is_ultra  3214 non-null   int64  \n",
      "dtypes: float64(4), int64(1)\n",
      "memory usage: 125.7 KB\n"
     ]
    }
   ],
   "source": [
    "df.info()"
   ]
  },
  {
   "cell_type": "markdown",
   "metadata": {},
   "source": [
    "Импортировали нужные библиотеки, открыли файл с данными и изучили его: пропусков действительно нет, целевой признак - `is_ultra`, решаем задачу классификации."
   ]
  },
  {
   "cell_type": "markdown",
   "metadata": {},
   "source": [
    "## Поделим данные на выборки"
   ]
  },
  {
   "cell_type": "markdown",
   "metadata": {},
   "source": [
    "Объявим переменные для признаков"
   ]
  },
  {
   "cell_type": "code",
   "execution_count": 3,
   "metadata": {},
   "outputs": [],
   "source": [
    "features = df.drop(['is_ultra'], axis=1) \n",
    "target = df['is_ultra'] "
   ]
  },
  {
   "cell_type": "markdown",
   "metadata": {},
   "source": [
    "Разделим данные на три части:\n",
    "60% оставим для тренировочной;\n",
    "40% поровну для валидационной и тестовой. "
   ]
  },
  {
   "cell_type": "code",
   "execution_count": 4,
   "metadata": {},
   "outputs": [],
   "source": [
    "features_train, features_other, target_train, target_other = train_test_split(\n",
    "features, target, test_size=0.4, random_state=12345) \n",
    "\n",
    "features_valid, features_test, target_valid, target_test = train_test_split(\n",
    "features_other, target_other, test_size=0.5, random_state=12345)"
   ]
  },
  {
   "cell_type": "markdown",
   "metadata": {},
   "source": [
    "## Исследуем модели"
   ]
  },
  {
   "cell_type": "markdown",
   "metadata": {},
   "source": [
    "### Дерево решений\n"
   ]
  },
  {
   "cell_type": "code",
   "execution_count": 5,
   "metadata": {},
   "outputs": [
    {
     "name": "stdout",
     "output_type": "stream",
     "text": [
      "Accuracy наилучшей модели на валидационной выборке: 0.7853810264385692\n",
      "DecisionTreeClassifier(max_depth=3, random_state=12345)\n"
     ]
    }
   ],
   "source": [
    "best_model = None\n",
    "best_result = 0\n",
    "for depth in range(1, 6):\n",
    "    model = DecisionTreeClassifier(random_state=12345, max_depth=depth) \n",
    "    model.fit(features_train, target_train)\n",
    "    predictions = model.predict(features_valid)\n",
    "    result = model.score(features_valid, target_valid)\n",
    "    if result > best_result:\n",
    "        best_model = model\n",
    "        best_result = result\n",
    "        \n",
    "print('Accuracy наилучшей модели на валидационной выборке:', best_result)\n",
    "print(best_model)"
   ]
  },
  {
   "cell_type": "markdown",
   "metadata": {},
   "source": [
    "Accuracy впечатляет. Но в спринте говорится что дерево решений не лидирует по качеству."
   ]
  },
  {
   "cell_type": "markdown",
   "metadata": {},
   "source": [
    "### Случайный лес"
   ]
  },
  {
   "cell_type": "code",
   "execution_count": 6,
   "metadata": {},
   "outputs": [
    {
     "name": "stdout",
     "output_type": "stream",
     "text": [
      "Accuracy наилучшей модели на валидационной выборке: 0.7916018662519441\n",
      "RandomForestClassifier(n_estimators=50, random_state=12345)\n"
     ]
    }
   ],
   "source": [
    "best_model = None\n",
    "best_result = 0\n",
    "for est in range(10, 200, 10):\n",
    "    model = RandomForestClassifier(random_state=12345, n_estimators=est)\n",
    "    model.fit(features_train, target_train)\n",
    "    result = model.score(features_valid, target_valid)\n",
    "    if result > best_result:\n",
    "        best_model = model\n",
    "        best_result = result\n",
    "\n",
    "print('Accuracy наилучшей модели на валидационной выборке:', best_result)\n",
    "print(best_model)"
   ]
  },
  {
   "cell_type": "markdown",
   "metadata": {},
   "source": [
    "Accuracy 0.79 при количестве деревьев 23. Зафиксируем это значение и подберем глубину:"
   ]
  },
  {
   "cell_type": "code",
   "execution_count": 7,
   "metadata": {},
   "outputs": [
    {
     "name": "stdout",
     "output_type": "stream",
     "text": [
      "Accuracy наилучшей модели на валидационной выборке: 0.8009331259720062\n",
      "RandomForestClassifier(max_depth=6, n_estimators=23, random_state=12345)\n"
     ]
    }
   ],
   "source": [
    "best_model = None\n",
    "best_result = 0\n",
    "for depth in range(1, 7):\n",
    "    model = RandomForestClassifier(random_state=12345, n_estimators=23, max_depth=depth)\n",
    "    model.fit(features_train, target_train)\n",
    "    result = model.score(features_valid, target_valid)\n",
    "    if result > best_result:\n",
    "        best_model = model\n",
    "        best_result = result\n",
    "\n",
    "print('Accuracy наилучшей модели на валидационной выборке:', best_result)\n",
    "print(best_model)"
   ]
  },
  {
   "cell_type": "markdown",
   "metadata": {},
   "source": [
    "Accuracy стал выше при глубине = 6."
   ]
  },
  {
   "cell_type": "code",
   "execution_count": 8,
   "metadata": {},
   "outputs": [
    {
     "name": "stdout",
     "output_type": "stream",
     "text": [
      "Accuracy наилучшей модели на валидационной выборке: 0.8102643856920684\n",
      "RandomForestClassifier(max_depth=6, n_estimators=23, random_state=392)\n"
     ]
    }
   ],
   "source": [
    "best_model = None\n",
    "best_result = 0\n",
    "for rand in range(1, 400):\n",
    "    model = RandomForestClassifier(random_state=rand, n_estimators=23, max_depth=6)\n",
    "    model.fit(features_train, target_train)\n",
    "    result = model.score(features_valid, target_valid)\n",
    "    if result > best_result:\n",
    "        best_model = model\n",
    "        best_result = result\n",
    "\n",
    "print('Accuracy наилучшей модели на валидационной выборке:', best_result)\n",
    "print(best_model)"
   ]
  },
  {
   "cell_type": "markdown",
   "metadata": {},
   "source": [
    "### Логистическая регрессия"
   ]
  },
  {
   "cell_type": "code",
   "execution_count": 9,
   "metadata": {},
   "outputs": [
    {
     "name": "stdout",
     "output_type": "stream",
     "text": [
      "Accuracy на валидационной выборке: 0.7107309486780715\n"
     ]
    }
   ],
   "source": [
    "model = LogisticRegression(random_state=12345, solver='lbfgs', max_iter=1000)\n",
    "model.fit(features_train, target_train) \n",
    "model.predict(features_valid) \n",
    "print('Accuracy на валидационной выборке:', model.score(features_valid, target_valid))"
   ]
  },
  {
   "cell_type": "markdown",
   "metadata": {},
   "source": [
    "Исходя из исследованных моделей логистическая регрессия занимает последнее место по параметру качества. Далее дерево решений и лидер по качеству - Случайный лес.\n"
   ]
  },
  {
   "cell_type": "markdown",
   "metadata": {},
   "source": [
    "## Проверим модель на тестовой выборке"
   ]
  },
  {
   "cell_type": "code",
   "execution_count": 10,
   "metadata": {},
   "outputs": [
    {
     "name": "stdout",
     "output_type": "stream",
     "text": [
      "Accuracy: 0.7947122861586314\n"
     ]
    }
   ],
   "source": [
    "model = RandomForestClassifier(random_state=12345, n_estimators=23, max_depth=6)\n",
    "model = model.fit(features_train, target_train)\n",
    "predictions_test = model.predict(features_test)\n",
    "print('Accuracy:', accuracy_score(target_test, predictions_test))\n"
   ]
  },
  {
   "cell_type": "markdown",
   "metadata": {},
   "source": [
    "## (бонус) Проверим модели на адекватность"
   ]
  },
  {
   "cell_type": "code",
   "execution_count": 11,
   "metadata": {},
   "outputs": [
    {
     "name": "stdout",
     "output_type": "stream",
     "text": [
      "0.7060653188180405\n"
     ]
    }
   ],
   "source": [
    "from sklearn.dummy import DummyClassifier\n",
    "\n",
    "dclf = DummyClassifier(strategy = 'most_frequent', random_state = 12345)\n",
    "dclf.fit(features_train, target_train)\n",
    "score = dclf.score(features_valid, target_valid)\n",
    "print(score)"
   ]
  },
  {
   "cell_type": "markdown",
   "metadata": {},
   "source": [
    "Получается любая модель лучше чем эта. Разве что логистическая регрессия недалеко ушла."
   ]
  },
  {
   "cell_type": "markdown",
   "metadata": {},
   "source": [
    "## Вывод"
   ]
  },
  {
   "cell_type": "markdown",
   "metadata": {},
   "source": [
    "В данном проекте построили модель с достаточным значением accuracy. Проверка на тестовой выборке показала Accuracy: 0.79. "
   ]
  },
  {
   "cell_type": "code",
   "execution_count": null,
   "metadata": {},
   "outputs": [],
   "source": []
  }
 ],
 "metadata": {
  "ExecuteTimeLog": [
   {
    "duration": 1313,
    "start_time": "2022-12-16T10:46:37.169Z"
   },
   {
    "duration": 43,
    "start_time": "2022-12-16T10:48:08.559Z"
   },
   {
    "duration": 141,
    "start_time": "2022-12-16T11:29:09.810Z"
   },
   {
    "duration": 5,
    "start_time": "2022-12-16T11:29:14.502Z"
   },
   {
    "duration": 8,
    "start_time": "2022-12-16T11:29:15.855Z"
   },
   {
    "duration": 33,
    "start_time": "2022-12-16T11:33:15.006Z"
   },
   {
    "duration": 10,
    "start_time": "2022-12-16T11:35:38.145Z"
   },
   {
    "duration": 33,
    "start_time": "2022-12-16T11:35:46.023Z"
   },
   {
    "duration": 33,
    "start_time": "2022-12-16T11:35:59.219Z"
   },
   {
    "duration": 33,
    "start_time": "2022-12-16T11:37:09.952Z"
   },
   {
    "duration": 4347,
    "start_time": "2022-12-16T11:37:23.346Z"
   },
   {
    "duration": 49,
    "start_time": "2022-12-16T11:37:38.429Z"
   },
   {
    "duration": 12,
    "start_time": "2022-12-16T11:38:51.081Z"
   },
   {
    "duration": 1165,
    "start_time": "2022-12-16T11:39:19.792Z"
   },
   {
    "duration": 5,
    "start_time": "2022-12-16T11:39:20.960Z"
   },
   {
    "duration": 38,
    "start_time": "2022-12-16T11:39:20.967Z"
   },
   {
    "duration": 144,
    "start_time": "2022-12-16T11:39:21.008Z"
   },
   {
    "duration": 0,
    "start_time": "2022-12-16T11:39:21.154Z"
   },
   {
    "duration": 0,
    "start_time": "2022-12-16T11:39:21.155Z"
   },
   {
    "duration": 0,
    "start_time": "2022-12-16T11:39:21.156Z"
   },
   {
    "duration": 1182,
    "start_time": "2022-12-16T11:40:06.196Z"
   },
   {
    "duration": 5,
    "start_time": "2022-12-16T11:40:07.380Z"
   },
   {
    "duration": 9,
    "start_time": "2022-12-16T11:40:07.386Z"
   },
   {
    "duration": 110,
    "start_time": "2022-12-16T11:40:07.397Z"
   },
   {
    "duration": 34,
    "start_time": "2022-12-16T11:40:07.509Z"
   },
   {
    "duration": 4613,
    "start_time": "2022-12-16T11:40:07.545Z"
   },
   {
    "duration": 28,
    "start_time": "2022-12-16T11:40:12.160Z"
   },
   {
    "duration": 94,
    "start_time": "2022-12-16T11:41:04.621Z"
   },
   {
    "duration": 4476,
    "start_time": "2022-12-16T11:47:13.697Z"
   },
   {
    "duration": 47,
    "start_time": "2022-12-17T05:12:57.104Z"
   },
   {
    "duration": 1195,
    "start_time": "2022-12-17T05:13:04.594Z"
   },
   {
    "duration": 4,
    "start_time": "2022-12-17T05:13:05.791Z"
   },
   {
    "duration": 21,
    "start_time": "2022-12-17T05:13:05.797Z"
   },
   {
    "duration": 90,
    "start_time": "2022-12-17T05:13:05.821Z"
   },
   {
    "duration": 218,
    "start_time": "2022-12-17T05:13:05.919Z"
   },
   {
    "duration": 2465,
    "start_time": "2022-12-17T05:21:47.404Z"
   },
   {
    "duration": 3,
    "start_time": "2022-12-17T05:21:49.871Z"
   },
   {
    "duration": 7,
    "start_time": "2022-12-17T05:21:49.917Z"
   },
   {
    "duration": 97,
    "start_time": "2022-12-17T05:21:49.926Z"
   },
   {
    "duration": 201,
    "start_time": "2022-12-17T05:21:50.025Z"
   },
   {
    "duration": 14005,
    "start_time": "2022-12-17T05:21:50.229Z"
   },
   {
    "duration": 210,
    "start_time": "2022-12-17T05:22:04.236Z"
   },
   {
    "duration": 0,
    "start_time": "2022-12-17T05:22:04.448Z"
   },
   {
    "duration": 1839,
    "start_time": "2022-12-17T05:22:59.635Z"
   },
   {
    "duration": 6,
    "start_time": "2022-12-17T05:23:01.516Z"
   },
   {
    "duration": 19,
    "start_time": "2022-12-17T05:23:01.523Z"
   },
   {
    "duration": 180,
    "start_time": "2022-12-17T05:23:01.545Z"
   },
   {
    "duration": 32,
    "start_time": "2022-12-17T05:23:01.816Z"
   },
   {
    "duration": 108373,
    "start_time": "2022-12-17T05:23:01.850Z"
   },
   {
    "duration": 515,
    "start_time": "2022-12-17T05:24:50.225Z"
   },
   {
    "duration": 173,
    "start_time": "2022-12-17T05:24:50.742Z"
   },
   {
    "duration": 1872,
    "start_time": "2022-12-17T05:25:45.189Z"
   },
   {
    "duration": 5,
    "start_time": "2022-12-17T05:25:47.063Z"
   },
   {
    "duration": 9,
    "start_time": "2022-12-17T05:25:47.115Z"
   },
   {
    "duration": 131,
    "start_time": "2022-12-17T05:25:47.127Z"
   },
   {
    "duration": 127,
    "start_time": "2022-12-17T05:25:47.317Z"
   },
   {
    "duration": 1299784,
    "start_time": "2022-12-17T05:25:47.445Z"
   },
   {
    "duration": 257,
    "start_time": "2022-12-17T05:47:27.230Z"
   },
   {
    "duration": 30,
    "start_time": "2022-12-17T05:47:27.488Z"
   },
   {
    "duration": 54,
    "start_time": "2022-12-17T06:09:05.838Z"
   },
   {
    "duration": 37,
    "start_time": "2022-12-17T06:10:13.545Z"
   },
   {
    "duration": 11,
    "start_time": "2022-12-17T06:10:31.993Z"
   },
   {
    "duration": 12,
    "start_time": "2022-12-17T06:10:35.406Z"
   },
   {
    "duration": 22,
    "start_time": "2022-12-17T06:10:46.956Z"
   },
   {
    "duration": 99,
    "start_time": "2022-12-17T06:18:41.935Z"
   },
   {
    "duration": 1089,
    "start_time": "2022-12-17T06:18:49.841Z"
   },
   {
    "duration": 11,
    "start_time": "2022-12-17T06:18:50.932Z"
   },
   {
    "duration": 16,
    "start_time": "2022-12-17T06:18:50.945Z"
   },
   {
    "duration": 35,
    "start_time": "2022-12-17T06:18:50.963Z"
   },
   {
    "duration": 4,
    "start_time": "2022-12-17T06:18:51.000Z"
   },
   {
    "duration": 20,
    "start_time": "2022-12-17T06:18:51.005Z"
   },
   {
    "duration": 209,
    "start_time": "2022-12-17T06:18:51.027Z"
   },
   {
    "duration": 0,
    "start_time": "2022-12-17T06:18:51.237Z"
   },
   {
    "duration": 1093,
    "start_time": "2022-12-17T06:31:32.041Z"
   },
   {
    "duration": 11,
    "start_time": "2022-12-17T06:31:33.136Z"
   },
   {
    "duration": 12,
    "start_time": "2022-12-17T06:31:33.149Z"
   },
   {
    "duration": 24,
    "start_time": "2022-12-17T06:31:33.163Z"
   },
   {
    "duration": 4,
    "start_time": "2022-12-17T06:31:33.188Z"
   },
   {
    "duration": 6,
    "start_time": "2022-12-17T06:31:33.215Z"
   },
   {
    "duration": 165,
    "start_time": "2022-12-17T06:31:33.223Z"
   },
   {
    "duration": 0,
    "start_time": "2022-12-17T06:31:33.390Z"
   },
   {
    "duration": 39,
    "start_time": "2022-12-17T06:32:55.199Z"
   },
   {
    "duration": 1138,
    "start_time": "2022-12-17T06:33:48.799Z"
   },
   {
    "duration": 10,
    "start_time": "2022-12-17T06:33:49.939Z"
   },
   {
    "duration": 22,
    "start_time": "2022-12-17T06:33:49.951Z"
   },
   {
    "duration": 31,
    "start_time": "2022-12-17T06:33:49.975Z"
   },
   {
    "duration": 9,
    "start_time": "2022-12-17T06:33:50.008Z"
   },
   {
    "duration": 24,
    "start_time": "2022-12-17T06:33:50.018Z"
   },
   {
    "duration": 50,
    "start_time": "2022-12-17T06:33:50.044Z"
   },
   {
    "duration": 248,
    "start_time": "2022-12-17T06:33:50.096Z"
   },
   {
    "duration": 4,
    "start_time": "2022-12-17T06:54:52.673Z"
   },
   {
    "duration": 7,
    "start_time": "2022-12-17T06:54:54.739Z"
   },
   {
    "duration": 120,
    "start_time": "2022-12-17T07:11:14.801Z"
   },
   {
    "duration": 30,
    "start_time": "2022-12-17T07:12:01.288Z"
   },
   {
    "duration": 196,
    "start_time": "2022-12-17T07:15:02.304Z"
   },
   {
    "duration": 47,
    "start_time": "2022-12-17T07:15:23.760Z"
   },
   {
    "duration": 42,
    "start_time": "2022-12-17T07:15:35.043Z"
   },
   {
    "duration": 1082,
    "start_time": "2022-12-17T07:15:39.253Z"
   },
   {
    "duration": 10,
    "start_time": "2022-12-17T07:15:40.337Z"
   },
   {
    "duration": 8,
    "start_time": "2022-12-17T07:15:40.349Z"
   },
   {
    "duration": 10,
    "start_time": "2022-12-17T07:15:40.358Z"
   },
   {
    "duration": 45,
    "start_time": "2022-12-17T07:15:40.370Z"
   },
   {
    "duration": 0,
    "start_time": "2022-12-17T07:15:40.416Z"
   },
   {
    "duration": 0,
    "start_time": "2022-12-17T07:15:40.417Z"
   },
   {
    "duration": 0,
    "start_time": "2022-12-17T07:15:40.418Z"
   },
   {
    "duration": 1103,
    "start_time": "2022-12-17T07:16:39.448Z"
   },
   {
    "duration": 12,
    "start_time": "2022-12-17T07:16:40.553Z"
   },
   {
    "duration": 9,
    "start_time": "2022-12-17T07:16:40.566Z"
   },
   {
    "duration": 8,
    "start_time": "2022-12-17T07:16:40.577Z"
   },
   {
    "duration": 53,
    "start_time": "2022-12-17T07:16:40.586Z"
   },
   {
    "duration": 0,
    "start_time": "2022-12-17T07:16:40.641Z"
   },
   {
    "duration": 39,
    "start_time": "2022-12-17T07:17:40.761Z"
   },
   {
    "duration": 143,
    "start_time": "2022-12-17T07:17:53.206Z"
   },
   {
    "duration": 259,
    "start_time": "2022-12-17T07:18:07.831Z"
   },
   {
    "duration": 41705,
    "start_time": "2022-12-17T07:42:20.522Z"
   },
   {
    "duration": 512,
    "start_time": "2022-12-17T07:44:16.130Z"
   },
   {
    "duration": 466,
    "start_time": "2022-12-17T07:44:31.848Z"
   },
   {
    "duration": 449,
    "start_time": "2022-12-17T07:46:44.096Z"
   },
   {
    "duration": 37,
    "start_time": "2022-12-17T07:49:27.941Z"
   },
   {
    "duration": 17,
    "start_time": "2022-12-17T07:49:34.211Z"
   },
   {
    "duration": 35,
    "start_time": "2022-12-17T07:50:48.496Z"
   },
   {
    "duration": 37,
    "start_time": "2022-12-17T07:50:53.991Z"
   },
   {
    "duration": 41,
    "start_time": "2022-12-17T07:52:11.107Z"
   },
   {
    "duration": 5,
    "start_time": "2022-12-17T07:55:32.084Z"
   },
   {
    "duration": 39,
    "start_time": "2022-12-17T07:55:45.163Z"
   },
   {
    "duration": 44,
    "start_time": "2022-12-17T08:03:56.763Z"
   },
   {
    "duration": 44,
    "start_time": "2022-12-17T08:05:55.358Z"
   },
   {
    "duration": 250,
    "start_time": "2022-12-17T08:07:16.704Z"
   },
   {
    "duration": 1100,
    "start_time": "2022-12-17T08:07:42.038Z"
   },
   {
    "duration": 11,
    "start_time": "2022-12-17T08:07:43.140Z"
   },
   {
    "duration": 9,
    "start_time": "2022-12-17T08:07:43.152Z"
   },
   {
    "duration": 7,
    "start_time": "2022-12-17T08:07:43.162Z"
   },
   {
    "duration": 54,
    "start_time": "2022-12-17T08:07:43.171Z"
   },
   {
    "duration": 74053,
    "start_time": "2022-12-17T08:07:43.227Z"
   },
   {
    "duration": 104,
    "start_time": "2022-12-17T08:08:57.282Z"
   },
   {
    "duration": 1717,
    "start_time": "2022-12-17T08:09:41.085Z"
   },
   {
    "duration": 8,
    "start_time": "2022-12-17T08:23:49.235Z"
   },
   {
    "duration": 43,
    "start_time": "2022-12-17T08:24:19.829Z"
   },
   {
    "duration": 13,
    "start_time": "2022-12-17T08:24:22.671Z"
   },
   {
    "duration": 42,
    "start_time": "2022-12-17T08:24:36.572Z"
   },
   {
    "duration": 14,
    "start_time": "2022-12-17T08:24:42.036Z"
   },
   {
    "duration": 1095,
    "start_time": "2022-12-17T08:25:30.239Z"
   },
   {
    "duration": 10,
    "start_time": "2022-12-17T08:25:31.336Z"
   },
   {
    "duration": 13,
    "start_time": "2022-12-17T08:25:31.348Z"
   },
   {
    "duration": 8,
    "start_time": "2022-12-17T08:25:31.363Z"
   },
   {
    "duration": 55,
    "start_time": "2022-12-17T08:25:31.373Z"
   },
   {
    "duration": 1747,
    "start_time": "2022-12-17T08:25:31.430Z"
   },
   {
    "duration": 247,
    "start_time": "2022-12-17T08:29:13.750Z"
   },
   {
    "duration": 1886,
    "start_time": "2022-12-17T08:29:36.158Z"
   },
   {
    "duration": 294,
    "start_time": "2022-12-17T08:29:58.890Z"
   },
   {
    "duration": 7213,
    "start_time": "2022-12-17T08:32:22.843Z"
   },
   {
    "duration": 7437,
    "start_time": "2022-12-17T08:33:02.023Z"
   },
   {
    "duration": 72559,
    "start_time": "2022-12-17T08:33:19.047Z"
   },
   {
    "duration": 41,
    "start_time": "2022-12-17T08:36:01.657Z"
   },
   {
    "duration": 10,
    "start_time": "2022-12-17T09:14:35.483Z"
   },
   {
    "duration": 2,
    "start_time": "2022-12-17T09:21:39.739Z"
   },
   {
    "duration": 70,
    "start_time": "2022-12-17T09:25:10.517Z"
   },
   {
    "duration": 43,
    "start_time": "2022-12-17T09:25:47.057Z"
   },
   {
    "duration": 1097,
    "start_time": "2022-12-17T09:31:52.665Z"
   },
   {
    "duration": 13,
    "start_time": "2022-12-17T09:31:53.765Z"
   },
   {
    "duration": 11,
    "start_time": "2022-12-17T09:31:53.781Z"
   },
   {
    "duration": 10,
    "start_time": "2022-12-17T09:31:53.795Z"
   },
   {
    "duration": 48,
    "start_time": "2022-12-17T09:31:53.806Z"
   },
   {
    "duration": 1823,
    "start_time": "2022-12-17T09:31:53.856Z"
   },
   {
    "duration": 312,
    "start_time": "2022-12-17T09:31:55.680Z"
   },
   {
    "duration": 23603,
    "start_time": "2022-12-17T09:31:55.994Z"
   },
   {
    "duration": 69,
    "start_time": "2022-12-17T09:32:19.599Z"
   },
   {
    "duration": 1900,
    "start_time": "2022-12-17T09:53:23.788Z"
   },
   {
    "duration": 11,
    "start_time": "2022-12-17T09:53:25.689Z"
   },
   {
    "duration": 8,
    "start_time": "2022-12-17T09:53:25.701Z"
   },
   {
    "duration": 24,
    "start_time": "2022-12-17T09:53:25.712Z"
   },
   {
    "duration": 70,
    "start_time": "2022-12-17T09:53:25.738Z"
   },
   {
    "duration": 1956,
    "start_time": "2022-12-17T09:53:25.810Z"
   },
   {
    "duration": 331,
    "start_time": "2022-12-17T09:53:27.768Z"
   },
   {
    "duration": 28303,
    "start_time": "2022-12-17T09:53:28.101Z"
   },
   {
    "duration": 80,
    "start_time": "2022-12-17T09:53:56.406Z"
   },
   {
    "duration": 48,
    "start_time": "2022-12-17T14:45:28.235Z"
   },
   {
    "duration": 1440,
    "start_time": "2022-12-17T14:45:38.638Z"
   },
   {
    "duration": 5,
    "start_time": "2022-12-17T14:45:45.153Z"
   },
   {
    "duration": 11,
    "start_time": "2022-12-17T14:45:47.323Z"
   },
   {
    "duration": 55,
    "start_time": "2022-12-17T14:45:50.185Z"
   },
   {
    "duration": 51884,
    "start_time": "2022-12-17T14:48:13.916Z"
   },
   {
    "duration": 22909,
    "start_time": "2022-12-17T14:55:13.138Z"
   },
   {
    "duration": 61281,
    "start_time": "2022-12-17T14:57:31.446Z"
   },
   {
    "duration": 43,
    "start_time": "2022-12-17T15:00:18.295Z"
   },
   {
    "duration": 50038,
    "start_time": "2022-12-17T15:00:58.439Z"
   },
   {
    "duration": 7252,
    "start_time": "2022-12-17T15:04:19.758Z"
   },
   {
    "duration": 104,
    "start_time": "2022-12-17T15:04:45.110Z"
   },
   {
    "duration": 25,
    "start_time": "2022-12-17T15:05:04.420Z"
   },
   {
    "duration": 29,
    "start_time": "2022-12-17T15:06:08.590Z"
   },
   {
    "duration": 81,
    "start_time": "2022-12-17T15:09:31.844Z"
   },
   {
    "duration": 5,
    "start_time": "2022-12-17T15:17:47.413Z"
   },
   {
    "duration": 6,
    "start_time": "2022-12-17T15:21:16.024Z"
   },
   {
    "duration": 3,
    "start_time": "2022-12-17T15:22:24.330Z"
   },
   {
    "duration": 26,
    "start_time": "2022-12-17T15:25:54.022Z"
   },
   {
    "duration": 28,
    "start_time": "2022-12-17T15:31:10.118Z"
   },
   {
    "duration": 36,
    "start_time": "2022-12-17T15:45:11.797Z"
   },
   {
    "duration": 67,
    "start_time": "2022-12-17T15:47:00.898Z"
   },
   {
    "duration": 65,
    "start_time": "2022-12-17T15:52:54.672Z"
   },
   {
    "duration": 1193,
    "start_time": "2022-12-17T15:53:03.092Z"
   },
   {
    "duration": 21,
    "start_time": "2022-12-17T15:53:04.287Z"
   },
   {
    "duration": 9,
    "start_time": "2022-12-17T15:53:04.313Z"
   },
   {
    "duration": 19,
    "start_time": "2022-12-17T15:53:04.324Z"
   },
   {
    "duration": 42,
    "start_time": "2022-12-17T15:53:04.344Z"
   },
   {
    "duration": 8028,
    "start_time": "2022-12-17T15:53:04.388Z"
   },
   {
    "duration": 348,
    "start_time": "2022-12-17T15:53:12.417Z"
   },
   {
    "duration": 27626,
    "start_time": "2022-12-17T15:53:12.767Z"
   },
   {
    "duration": 42,
    "start_time": "2022-12-17T15:53:40.397Z"
   },
   {
    "duration": 115,
    "start_time": "2022-12-17T15:53:40.442Z"
   },
   {
    "duration": 8,
    "start_time": "2022-12-17T15:53:40.559Z"
   },
   {
    "duration": 1147,
    "start_time": "2022-12-17T15:54:27.492Z"
   },
   {
    "duration": 11,
    "start_time": "2022-12-17T15:54:28.641Z"
   },
   {
    "duration": 5,
    "start_time": "2022-12-17T15:54:28.654Z"
   },
   {
    "duration": 8,
    "start_time": "2022-12-17T15:54:28.661Z"
   },
   {
    "duration": 46,
    "start_time": "2022-12-17T15:54:28.670Z"
   },
   {
    "duration": 7596,
    "start_time": "2022-12-17T15:54:28.718Z"
   },
   {
    "duration": 348,
    "start_time": "2022-12-17T15:54:36.316Z"
   },
   {
    "duration": 25290,
    "start_time": "2022-12-17T15:54:36.666Z"
   },
   {
    "duration": 49,
    "start_time": "2022-12-17T15:55:01.958Z"
   },
   {
    "duration": 89,
    "start_time": "2022-12-17T15:55:02.010Z"
   },
   {
    "duration": 6,
    "start_time": "2022-12-17T15:55:02.101Z"
   },
   {
    "duration": 1691,
    "start_time": "2022-12-18T09:46:13.312Z"
   },
   {
    "duration": 11,
    "start_time": "2022-12-18T09:46:15.005Z"
   },
   {
    "duration": 19,
    "start_time": "2022-12-18T09:46:15.018Z"
   },
   {
    "duration": 7,
    "start_time": "2022-12-18T09:46:15.040Z"
   },
   {
    "duration": 42,
    "start_time": "2022-12-18T09:46:15.049Z"
   },
   {
    "duration": 16736,
    "start_time": "2022-12-18T09:46:15.093Z"
   },
   {
    "duration": 1297,
    "start_time": "2022-12-18T09:46:31.830Z"
   },
   {
    "duration": 50415,
    "start_time": "2022-12-18T09:46:33.129Z"
   },
   {
    "duration": 79,
    "start_time": "2022-12-18T09:47:23.546Z"
   },
   {
    "duration": 120,
    "start_time": "2022-12-18T09:47:23.628Z"
   },
   {
    "duration": 5,
    "start_time": "2022-12-18T09:47:23.749Z"
   }
  ],
  "kernelspec": {
   "display_name": "Python 3 (ipykernel)",
   "language": "python",
   "name": "python3"
  },
  "language_info": {
   "codemirror_mode": {
    "name": "ipython",
    "version": 3
   },
   "file_extension": ".py",
   "mimetype": "text/x-python",
   "name": "python",
   "nbconvert_exporter": "python",
   "pygments_lexer": "ipython3",
   "version": "3.9.13"
  },
  "toc": {
   "base_numbering": 1,
   "nav_menu": {},
   "number_sections": true,
   "sideBar": true,
   "skip_h1_title": true,
   "title_cell": "Table of Contents",
   "title_sidebar": "Contents",
   "toc_cell": false,
   "toc_position": {
    "height": "calc(100% - 180px)",
    "left": "10px",
    "top": "150px",
    "width": "165px"
   },
   "toc_section_display": true,
   "toc_window_display": true
  }
 },
 "nbformat": 4,
 "nbformat_minor": 2
}
