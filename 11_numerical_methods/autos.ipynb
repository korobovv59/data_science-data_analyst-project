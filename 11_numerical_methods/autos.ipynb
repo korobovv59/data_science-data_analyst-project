{
 "cells": [
  {
   "cell_type": "code",
   "execution_count": 1,
   "metadata": {},
   "outputs": [
    {
     "name": "stdout",
     "output_type": "stream",
     "text": [
      "The scikit-learn version is 1.1.3.\n"
     ]
    }
   ],
   "source": [
    "import sklearn\n",
    "print('The scikit-learn version is {}.'.format(sklearn.__version__))"
   ]
  },
  {
   "cell_type": "markdown",
   "metadata": {},
   "source": [
    "# Определение стоимости автомобилей"
   ]
  },
  {
   "cell_type": "markdown",
   "metadata": {},
   "source": [
    "Сервис по продаже автомобилей с пробегом «Не бит, не крашен» разрабатывает приложение для привлечения новых клиентов. В нём можно быстро узнать рыночную стоимость своего автомобиля. В нашем распоряжении исторические данные: технические характеристики, комплектации и цены автомобилей. Нужно построить модель для определения стоимости. \n",
    "\n",
    "Заказчику важны:\n",
    "\n",
    "- качество предсказания;\n",
    "- скорость предсказания;\n",
    "- время обучения."
   ]
  },
  {
   "cell_type": "markdown",
   "metadata": {},
   "source": [
    "#### Описание данных\n",
    "\n",
    "Признаки:\n",
    "\n",
    "* DateCrawled — дата скачивания анкеты из базы\n",
    "* VehicleType — тип автомобильного кузова\n",
    "* RegistrationYear — год регистрации автомобиля\n",
    "* Gearbox — тип коробки передач\n",
    "* Power — мощность (л. с.)\n",
    "* Model — модель автомобиля\n",
    "* Kilometer — пробег (км)\n",
    "* RegistrationMonth — месяц регистрации автомобиля\n",
    "* FuelType — тип топлива\n",
    "* Brand — марка автомобиля\n",
    "* Repaired — была машина в ремонте или нет\n",
    "* DateCreated — дата создания анкеты\n",
    "* NumberOfPictures — количество фотографий автомобиля\n",
    "* PostalCode — почтовый индекс владельца анкеты (пользователя)\n",
    "* LastSeen — дата последней активности пользователя\n",
    "\n",
    "Целевой признак:\n",
    "\n",
    "* Price — цена (евро)"
   ]
  },
  {
   "cell_type": "markdown",
   "metadata": {},
   "source": [
    "## Подготовка данных"
   ]
  },
  {
   "cell_type": "code",
   "execution_count": 2,
   "metadata": {},
   "outputs": [
    {
     "name": "stdout",
     "output_type": "stream",
     "text": [
      "Requirement already satisfied: catboost in c:\\users\\user\\anaconda3\\lib\\site-packages (1.1.1)Note: you may need to restart the kernel to use updated packages.\n",
      "\n",
      "Requirement already satisfied: matplotlib in c:\\users\\user\\anaconda3\\lib\\site-packages (from catboost) (3.5.2)\n",
      "Requirement already satisfied: plotly in c:\\users\\user\\anaconda3\\lib\\site-packages (from catboost) (5.9.0)\n",
      "Requirement already satisfied: graphviz in c:\\users\\user\\anaconda3\\lib\\site-packages (from catboost) (0.20.1)\n",
      "Requirement already satisfied: pandas>=0.24.0 in c:\\users\\user\\anaconda3\\lib\\site-packages (from catboost) (1.4.4)\n",
      "Requirement already satisfied: six in c:\\users\\user\\anaconda3\\lib\\site-packages (from catboost) (1.16.0)\n",
      "Requirement already satisfied: numpy>=1.16.0 in c:\\users\\user\\anaconda3\\lib\\site-packages (from catboost) (1.21.5)\n",
      "Requirement already satisfied: scipy in c:\\users\\user\\anaconda3\\lib\\site-packages (from catboost) (1.9.1)\n",
      "Requirement already satisfied: python-dateutil>=2.8.1 in c:\\users\\user\\anaconda3\\lib\\site-packages (from pandas>=0.24.0->catboost) (2.8.2)\n",
      "Requirement already satisfied: pytz>=2020.1 in c:\\users\\user\\anaconda3\\lib\\site-packages (from pandas>=0.24.0->catboost) (2022.1)\n",
      "Requirement already satisfied: cycler>=0.10 in c:\\users\\user\\anaconda3\\lib\\site-packages (from matplotlib->catboost) (0.11.0)\n",
      "Requirement already satisfied: fonttools>=4.22.0 in c:\\users\\user\\anaconda3\\lib\\site-packages (from matplotlib->catboost) (4.25.0)\n",
      "Requirement already satisfied: packaging>=20.0 in c:\\users\\user\\anaconda3\\lib\\site-packages (from matplotlib->catboost) (21.3)\n",
      "Requirement already satisfied: pillow>=6.2.0 in c:\\users\\user\\anaconda3\\lib\\site-packages (from matplotlib->catboost) (9.2.0)\n",
      "Requirement already satisfied: pyparsing>=2.2.1 in c:\\users\\user\\anaconda3\\lib\\site-packages (from matplotlib->catboost) (3.0.9)\n",
      "Requirement already satisfied: kiwisolver>=1.0.1 in c:\\users\\user\\anaconda3\\lib\\site-packages (from matplotlib->catboost) (1.4.2)\n",
      "Requirement already satisfied: tenacity>=6.2.0 in c:\\users\\user\\anaconda3\\lib\\site-packages (from plotly->catboost) (8.0.1)\n"
     ]
    }
   ],
   "source": [
    "pip install catboost"
   ]
  },
  {
   "cell_type": "code",
   "execution_count": 3,
   "metadata": {
    "scrolled": true
   },
   "outputs": [
    {
     "name": "stdout",
     "output_type": "stream",
     "text": [
      "Requirement already satisfied: lightgbm in c:\\users\\user\\anaconda3\\lib\\site-packages (3.3.5)\n",
      "Requirement already satisfied: scikit-learn!=0.22.0 in c:\\users\\user\\anaconda3\\lib\\site-packages (from lightgbm) (1.1.3)\n",
      "Requirement already satisfied: numpy in c:\\users\\user\\anaconda3\\lib\\site-packages (from lightgbm) (1.21.5)\n",
      "Requirement already satisfied: wheel in c:\\users\\user\\anaconda3\\lib\\site-packages (from lightgbm) (0.37.1)\n",
      "Requirement already satisfied: scipy in c:\\users\\user\\anaconda3\\lib\\site-packages (from lightgbm) (1.9.1)\n",
      "Requirement already satisfied: joblib>=1.0.0 in c:\\users\\user\\anaconda3\\lib\\site-packages (from scikit-learn!=0.22.0->lightgbm) (1.1.0)\n",
      "Requirement already satisfied: threadpoolctl>=2.0.0 in c:\\users\\user\\anaconda3\\lib\\site-packages (from scikit-learn!=0.22.0->lightgbm) (2.2.0)\n",
      "Note: you may need to restart the kernel to use updated packages.\n"
     ]
    }
   ],
   "source": [
    "pip install lightgbm"
   ]
  },
  {
   "cell_type": "code",
   "execution_count": 4,
   "metadata": {},
   "outputs": [],
   "source": [
    "import re\n",
    "import time\n",
    "import warnings\n",
    "\n",
    "\n",
    "import lightgbm as lgbm\n",
    "import matplotlib.pyplot as plt\n",
    "import numpy as np\n",
    "import pandas as pd\n",
    "\n",
    "from catboost import CatBoostRegressor\n",
    "from numpy.random import RandomState\n",
    "from sklearn.compose import make_column_transformer\n",
    "from sklearn.dummy import DummyRegressor\n",
    "from sklearn.ensemble import RandomForestRegressor\n",
    "from sklearn.metrics import mean_squared_error\n",
    "from sklearn.model_selection import (\n",
    "    GridSearchCV,\n",
    "    RandomizedSearchCV,\n",
    "    train_test_split\n",
    ")\n",
    "from sklearn.pipeline import make_pipeline\n",
    "from sklearn.preprocessing import (\n",
    "    LabelEncoder,\n",
    "    OneHotEncoder,\n",
    "    OrdinalEncoder,\n",
    "    StandardScaler\n",
    ")\n",
    "warnings.filterwarnings('ignore')\n",
    "\n",
    "RANDOM_STATE = 28"
   ]
  },
  {
   "cell_type": "code",
   "execution_count": 5,
   "metadata": {},
   "outputs": [],
   "source": [
    "try:\n",
    "    df = pd.read_csv('C:/Users/User/Downloads/autos.csv')\n",
    "except:\n",
    "    df = pd.read_csv('/datasets/autos.csv')"
   ]
  },
  {
   "cell_type": "code",
   "execution_count": 6,
   "metadata": {},
   "outputs": [
    {
     "data": {
      "text/html": [
       "<div>\n",
       "<style scoped>\n",
       "    .dataframe tbody tr th:only-of-type {\n",
       "        vertical-align: middle;\n",
       "    }\n",
       "\n",
       "    .dataframe tbody tr th {\n",
       "        vertical-align: top;\n",
       "    }\n",
       "\n",
       "    .dataframe thead th {\n",
       "        text-align: right;\n",
       "    }\n",
       "</style>\n",
       "<table border=\"1\" class=\"dataframe\">\n",
       "  <thead>\n",
       "    <tr style=\"text-align: right;\">\n",
       "      <th></th>\n",
       "      <th>DateCrawled</th>\n",
       "      <th>Price</th>\n",
       "      <th>VehicleType</th>\n",
       "      <th>RegistrationYear</th>\n",
       "      <th>Gearbox</th>\n",
       "      <th>Power</th>\n",
       "      <th>Model</th>\n",
       "      <th>Kilometer</th>\n",
       "      <th>RegistrationMonth</th>\n",
       "      <th>FuelType</th>\n",
       "      <th>Brand</th>\n",
       "      <th>Repaired</th>\n",
       "      <th>DateCreated</th>\n",
       "      <th>NumberOfPictures</th>\n",
       "      <th>PostalCode</th>\n",
       "      <th>LastSeen</th>\n",
       "    </tr>\n",
       "  </thead>\n",
       "  <tbody>\n",
       "    <tr>\n",
       "      <th>0</th>\n",
       "      <td>2016-03-24 11:52:17</td>\n",
       "      <td>480</td>\n",
       "      <td>NaN</td>\n",
       "      <td>1993</td>\n",
       "      <td>manual</td>\n",
       "      <td>0</td>\n",
       "      <td>golf</td>\n",
       "      <td>150000</td>\n",
       "      <td>0</td>\n",
       "      <td>petrol</td>\n",
       "      <td>volkswagen</td>\n",
       "      <td>NaN</td>\n",
       "      <td>2016-03-24 00:00:00</td>\n",
       "      <td>0</td>\n",
       "      <td>70435</td>\n",
       "      <td>2016-04-07 03:16:57</td>\n",
       "    </tr>\n",
       "    <tr>\n",
       "      <th>1</th>\n",
       "      <td>2016-03-24 10:58:45</td>\n",
       "      <td>18300</td>\n",
       "      <td>coupe</td>\n",
       "      <td>2011</td>\n",
       "      <td>manual</td>\n",
       "      <td>190</td>\n",
       "      <td>NaN</td>\n",
       "      <td>125000</td>\n",
       "      <td>5</td>\n",
       "      <td>gasoline</td>\n",
       "      <td>audi</td>\n",
       "      <td>yes</td>\n",
       "      <td>2016-03-24 00:00:00</td>\n",
       "      <td>0</td>\n",
       "      <td>66954</td>\n",
       "      <td>2016-04-07 01:46:50</td>\n",
       "    </tr>\n",
       "    <tr>\n",
       "      <th>2</th>\n",
       "      <td>2016-03-14 12:52:21</td>\n",
       "      <td>9800</td>\n",
       "      <td>suv</td>\n",
       "      <td>2004</td>\n",
       "      <td>auto</td>\n",
       "      <td>163</td>\n",
       "      <td>grand</td>\n",
       "      <td>125000</td>\n",
       "      <td>8</td>\n",
       "      <td>gasoline</td>\n",
       "      <td>jeep</td>\n",
       "      <td>NaN</td>\n",
       "      <td>2016-03-14 00:00:00</td>\n",
       "      <td>0</td>\n",
       "      <td>90480</td>\n",
       "      <td>2016-04-05 12:47:46</td>\n",
       "    </tr>\n",
       "    <tr>\n",
       "      <th>3</th>\n",
       "      <td>2016-03-17 16:54:04</td>\n",
       "      <td>1500</td>\n",
       "      <td>small</td>\n",
       "      <td>2001</td>\n",
       "      <td>manual</td>\n",
       "      <td>75</td>\n",
       "      <td>golf</td>\n",
       "      <td>150000</td>\n",
       "      <td>6</td>\n",
       "      <td>petrol</td>\n",
       "      <td>volkswagen</td>\n",
       "      <td>no</td>\n",
       "      <td>2016-03-17 00:00:00</td>\n",
       "      <td>0</td>\n",
       "      <td>91074</td>\n",
       "      <td>2016-03-17 17:40:17</td>\n",
       "    </tr>\n",
       "    <tr>\n",
       "      <th>4</th>\n",
       "      <td>2016-03-31 17:25:20</td>\n",
       "      <td>3600</td>\n",
       "      <td>small</td>\n",
       "      <td>2008</td>\n",
       "      <td>manual</td>\n",
       "      <td>69</td>\n",
       "      <td>fabia</td>\n",
       "      <td>90000</td>\n",
       "      <td>7</td>\n",
       "      <td>gasoline</td>\n",
       "      <td>skoda</td>\n",
       "      <td>no</td>\n",
       "      <td>2016-03-31 00:00:00</td>\n",
       "      <td>0</td>\n",
       "      <td>60437</td>\n",
       "      <td>2016-04-06 10:17:21</td>\n",
       "    </tr>\n",
       "  </tbody>\n",
       "</table>\n",
       "</div>"
      ],
      "text/plain": [
       "           DateCrawled  Price VehicleType  RegistrationYear Gearbox  Power  \\\n",
       "0  2016-03-24 11:52:17    480         NaN              1993  manual      0   \n",
       "1  2016-03-24 10:58:45  18300       coupe              2011  manual    190   \n",
       "2  2016-03-14 12:52:21   9800         suv              2004    auto    163   \n",
       "3  2016-03-17 16:54:04   1500       small              2001  manual     75   \n",
       "4  2016-03-31 17:25:20   3600       small              2008  manual     69   \n",
       "\n",
       "   Model  Kilometer  RegistrationMonth  FuelType       Brand Repaired  \\\n",
       "0   golf     150000                  0    petrol  volkswagen      NaN   \n",
       "1    NaN     125000                  5  gasoline        audi      yes   \n",
       "2  grand     125000                  8  gasoline        jeep      NaN   \n",
       "3   golf     150000                  6    petrol  volkswagen       no   \n",
       "4  fabia      90000                  7  gasoline       skoda       no   \n",
       "\n",
       "           DateCreated  NumberOfPictures  PostalCode             LastSeen  \n",
       "0  2016-03-24 00:00:00                 0       70435  2016-04-07 03:16:57  \n",
       "1  2016-03-24 00:00:00                 0       66954  2016-04-07 01:46:50  \n",
       "2  2016-03-14 00:00:00                 0       90480  2016-04-05 12:47:46  \n",
       "3  2016-03-17 00:00:00                 0       91074  2016-03-17 17:40:17  \n",
       "4  2016-03-31 00:00:00                 0       60437  2016-04-06 10:17:21  "
      ]
     },
     "execution_count": 6,
     "metadata": {},
     "output_type": "execute_result"
    }
   ],
   "source": [
    "df.head()"
   ]
  },
  {
   "cell_type": "code",
   "execution_count": 7,
   "metadata": {},
   "outputs": [
    {
     "name": "stdout",
     "output_type": "stream",
     "text": [
      "<class 'pandas.core.frame.DataFrame'>\n",
      "RangeIndex: 354369 entries, 0 to 354368\n",
      "Data columns (total 16 columns):\n",
      " #   Column             Non-Null Count   Dtype \n",
      "---  ------             --------------   ----- \n",
      " 0   DateCrawled        354369 non-null  object\n",
      " 1   Price              354369 non-null  int64 \n",
      " 2   VehicleType        316879 non-null  object\n",
      " 3   RegistrationYear   354369 non-null  int64 \n",
      " 4   Gearbox            334536 non-null  object\n",
      " 5   Power              354369 non-null  int64 \n",
      " 6   Model              334664 non-null  object\n",
      " 7   Kilometer          354369 non-null  int64 \n",
      " 8   RegistrationMonth  354369 non-null  int64 \n",
      " 9   FuelType           321474 non-null  object\n",
      " 10  Brand              354369 non-null  object\n",
      " 11  Repaired           283215 non-null  object\n",
      " 12  DateCreated        354369 non-null  object\n",
      " 13  NumberOfPictures   354369 non-null  int64 \n",
      " 14  PostalCode         354369 non-null  int64 \n",
      " 15  LastSeen           354369 non-null  object\n",
      "dtypes: int64(7), object(9)\n",
      "memory usage: 43.3+ MB\n"
     ]
    }
   ],
   "source": [
    "df.info()"
   ]
  },
  {
   "cell_type": "code",
   "execution_count": 8,
   "metadata": {
    "scrolled": true
   },
   "outputs": [
    {
     "data": {
      "text/html": [
       "<div>\n",
       "<style scoped>\n",
       "    .dataframe tbody tr th:only-of-type {\n",
       "        vertical-align: middle;\n",
       "    }\n",
       "\n",
       "    .dataframe tbody tr th {\n",
       "        vertical-align: top;\n",
       "    }\n",
       "\n",
       "    .dataframe thead th {\n",
       "        text-align: right;\n",
       "    }\n",
       "</style>\n",
       "<table border=\"1\" class=\"dataframe\">\n",
       "  <thead>\n",
       "    <tr style=\"text-align: right;\">\n",
       "      <th></th>\n",
       "      <th>count</th>\n",
       "      <th>mean</th>\n",
       "      <th>std</th>\n",
       "      <th>min</th>\n",
       "      <th>25%</th>\n",
       "      <th>50%</th>\n",
       "      <th>75%</th>\n",
       "      <th>max</th>\n",
       "    </tr>\n",
       "  </thead>\n",
       "  <tbody>\n",
       "    <tr>\n",
       "      <th>Price</th>\n",
       "      <td>354369.0</td>\n",
       "      <td>4416.656776</td>\n",
       "      <td>4514.158514</td>\n",
       "      <td>0.0</td>\n",
       "      <td>1050.0</td>\n",
       "      <td>2700.0</td>\n",
       "      <td>6400.0</td>\n",
       "      <td>20000.0</td>\n",
       "    </tr>\n",
       "    <tr>\n",
       "      <th>RegistrationYear</th>\n",
       "      <td>354369.0</td>\n",
       "      <td>2004.234448</td>\n",
       "      <td>90.227958</td>\n",
       "      <td>1000.0</td>\n",
       "      <td>1999.0</td>\n",
       "      <td>2003.0</td>\n",
       "      <td>2008.0</td>\n",
       "      <td>9999.0</td>\n",
       "    </tr>\n",
       "    <tr>\n",
       "      <th>Power</th>\n",
       "      <td>354369.0</td>\n",
       "      <td>110.094337</td>\n",
       "      <td>189.850405</td>\n",
       "      <td>0.0</td>\n",
       "      <td>69.0</td>\n",
       "      <td>105.0</td>\n",
       "      <td>143.0</td>\n",
       "      <td>20000.0</td>\n",
       "    </tr>\n",
       "    <tr>\n",
       "      <th>Kilometer</th>\n",
       "      <td>354369.0</td>\n",
       "      <td>128211.172535</td>\n",
       "      <td>37905.341530</td>\n",
       "      <td>5000.0</td>\n",
       "      <td>125000.0</td>\n",
       "      <td>150000.0</td>\n",
       "      <td>150000.0</td>\n",
       "      <td>150000.0</td>\n",
       "    </tr>\n",
       "    <tr>\n",
       "      <th>RegistrationMonth</th>\n",
       "      <td>354369.0</td>\n",
       "      <td>5.714645</td>\n",
       "      <td>3.726421</td>\n",
       "      <td>0.0</td>\n",
       "      <td>3.0</td>\n",
       "      <td>6.0</td>\n",
       "      <td>9.0</td>\n",
       "      <td>12.0</td>\n",
       "    </tr>\n",
       "    <tr>\n",
       "      <th>NumberOfPictures</th>\n",
       "      <td>354369.0</td>\n",
       "      <td>0.000000</td>\n",
       "      <td>0.000000</td>\n",
       "      <td>0.0</td>\n",
       "      <td>0.0</td>\n",
       "      <td>0.0</td>\n",
       "      <td>0.0</td>\n",
       "      <td>0.0</td>\n",
       "    </tr>\n",
       "    <tr>\n",
       "      <th>PostalCode</th>\n",
       "      <td>354369.0</td>\n",
       "      <td>50508.689087</td>\n",
       "      <td>25783.096248</td>\n",
       "      <td>1067.0</td>\n",
       "      <td>30165.0</td>\n",
       "      <td>49413.0</td>\n",
       "      <td>71083.0</td>\n",
       "      <td>99998.0</td>\n",
       "    </tr>\n",
       "  </tbody>\n",
       "</table>\n",
       "</div>"
      ],
      "text/plain": [
       "                      count           mean           std     min       25%  \\\n",
       "Price              354369.0    4416.656776   4514.158514     0.0    1050.0   \n",
       "RegistrationYear   354369.0    2004.234448     90.227958  1000.0    1999.0   \n",
       "Power              354369.0     110.094337    189.850405     0.0      69.0   \n",
       "Kilometer          354369.0  128211.172535  37905.341530  5000.0  125000.0   \n",
       "RegistrationMonth  354369.0       5.714645      3.726421     0.0       3.0   \n",
       "NumberOfPictures   354369.0       0.000000      0.000000     0.0       0.0   \n",
       "PostalCode         354369.0   50508.689087  25783.096248  1067.0   30165.0   \n",
       "\n",
       "                        50%       75%       max  \n",
       "Price                2700.0    6400.0   20000.0  \n",
       "RegistrationYear     2003.0    2008.0    9999.0  \n",
       "Power                 105.0     143.0   20000.0  \n",
       "Kilometer          150000.0  150000.0  150000.0  \n",
       "RegistrationMonth       6.0       9.0      12.0  \n",
       "NumberOfPictures        0.0       0.0       0.0  \n",
       "PostalCode          49413.0   71083.0   99998.0  "
      ]
     },
     "execution_count": 8,
     "metadata": {},
     "output_type": "execute_result"
    }
   ],
   "source": [
    "df.describe().T"
   ]
  },
  {
   "cell_type": "code",
   "execution_count": 9,
   "metadata": {},
   "outputs": [
    {
     "data": {
      "text/plain": [
       "4"
      ]
     },
     "execution_count": 9,
     "metadata": {},
     "output_type": "execute_result"
    }
   ],
   "source": [
    "df.duplicated().sum()"
   ]
  },
  {
   "cell_type": "markdown",
   "metadata": {},
   "source": [
    "Названия стобцов приведем к `snake_case`.\n",
    "\n",
    "Есть пропуски в столбцах : `VehicleType, Gearbox, Model, FuelType, Repaired`\n",
    "Вероятно эти пропуски допустили сами пользователи при добавлении объявления на сайт. Многие могут не знать тип кузова автомобиля или тип топлива, ремонтировался автомобиль или нет потому что приобретался уже с пробегом. Так же тип трансмиссии могли не указывать люди которые знают что у них вариатор и назвать его автоматом не правильно по их мнению. \n",
    "\n",
    "Отметим бесполезные(которые не влияют на цену(не должны влиять)) стобцы для нашей задачи которые удалим: `DateCrawled, NumberOfPictures, PostalCode, LastSeen,` также столбцы `RegistrationYear, RegistrationMonth и DateCreated` только после того как вычислим возраст автомобиля.\n",
    "\n",
    "Имеютя некорректные значения: цена = 0, год регистрации = 1000 или 9999, мощность = 0 или 20000, месяц регистрации = 0. Эти значения тоже могли добавить в таком виде пользователи либо извлечение данных из базы прошло не очень удачно.\n"
   ]
  },
  {
   "cell_type": "markdown",
   "metadata": {},
   "source": [
    "Удалим явные дубликаты:"
   ]
  },
  {
   "cell_type": "code",
   "execution_count": 10,
   "metadata": {},
   "outputs": [],
   "source": [
    "df = df.drop_duplicates().reset_index(drop=True)"
   ]
  },
  {
   "cell_type": "markdown",
   "metadata": {},
   "source": [
    "Приведем названия столбцов к нормальному виду:"
   ]
  },
  {
   "cell_type": "code",
   "execution_count": 11,
   "metadata": {},
   "outputs": [],
   "source": [
    "df.columns = [re.sub(r'(?<!^)(?=[A-Z])', '_', i).lower() for i in df.columns]"
   ]
  },
  {
   "cell_type": "code",
   "execution_count": 12,
   "metadata": {
    "scrolled": true
   },
   "outputs": [
    {
     "data": {
      "image/png": "[encoded data removed]",
      "text/plain": [
       "<Figure size 2000x1500 with 9 Axes>"
      ]
     },
     "metadata": {},
     "output_type": "display_data"
    }
   ],
   "source": [
    "df.hist(bins=50, figsize=(20,15))\n",
    "plt.show()"
   ]
  },
  {
   "cell_type": "markdown",
   "metadata": {},
   "source": [
    "Отфильтруем значения которые точно не соответствуют истине:"
   ]
  },
  {
   "cell_type": "code",
   "execution_count": 13,
   "metadata": {
    "scrolled": true
   },
   "outputs": [],
   "source": [
    "df = df.query('1950 < registration_year < 2023 and 5 < power < 5000 and 0 < registration_month')"
   ]
  },
  {
   "cell_type": "code",
   "execution_count": 14,
   "metadata": {},
   "outputs": [
    {
     "data": {
      "text/plain": [
       "count    280173.000000\n",
       "mean       4701.061416\n",
       "std        4209.996848\n",
       "min          99.000000\n",
       "25%        1400.000000\n",
       "50%        3200.000000\n",
       "75%        6900.000000\n",
       "max       17800.000000\n",
       "Name: price, dtype: float64"
      ]
     },
     "execution_count": 14,
     "metadata": {},
     "output_type": "execute_result"
    }
   ],
   "source": [
    "lower_threshold = df['price'].quantile(0.02)\n",
    "upper_threshold = df['price'].quantile(0.98)\n",
    "\n",
    "df = df[(df['price'] >= lower_threshold) & (df['price'] <= upper_threshold)]\n",
    "df['price'].describe()"
   ]
  },
  {
   "cell_type": "markdown",
   "metadata": {},
   "source": [
    "Рассчитаем в новом столбце `age` возраст автомобиля в годах:"
   ]
  },
  {
   "cell_type": "code",
   "execution_count": 15,
   "metadata": {
    "scrolled": true
   },
   "outputs": [],
   "source": [
    "df['date_crawled'] = pd.to_datetime(df['date_crawled'], format='%Y-%m-%dT%H:%M:%S')\n",
    "df['date_created'] = pd.to_datetime(df['date_created'], format='%Y-%m-%dT%H:%M:%S')\n",
    "df['last_seen'] = pd.to_datetime(df['last_seen'], format='%Y-%m-%dT%H:%M:%S')\n",
    "df['registration'] = pd.to_datetime(df[['registration_month', 'registration_year']].astype(str).add(' ').sum(1))\n",
    "df['age'] = ((df['last_seen'] - df['registration']).dt.days) / 365"
   ]
  },
  {
   "cell_type": "markdown",
   "metadata": {},
   "source": [
    "Удалим ненужные столбцы:"
   ]
  },
  {
   "cell_type": "code",
   "execution_count": 16,
   "metadata": {},
   "outputs": [],
   "source": [
    "df = df.drop(['date_crawled', 'registration_year', 'registration_month', 'date_created', 'number_of_pictures', 'postal_code', 'last_seen', 'registration'], axis=1)"
   ]
  },
  {
   "cell_type": "markdown",
   "metadata": {},
   "source": [
    "Заполним пропуски значением `unknown`:"
   ]
  },
  {
   "cell_type": "code",
   "execution_count": 17,
   "metadata": {},
   "outputs": [],
   "source": [
    "columns_na = ['vehicle_type', 'gearbox', 'model', 'fuel_type', 'repaired']\n",
    "df[columns_na] = df[columns_na].fillna('unknown')"
   ]
  },
  {
   "cell_type": "code",
   "execution_count": 18,
   "metadata": {
    "scrolled": true
   },
   "outputs": [
    {
     "name": "stdout",
     "output_type": "stream",
     "text": [
      "<class 'pandas.core.frame.DataFrame'>\n",
      "Int64Index: 280173 entries, 2 to 354364\n",
      "Data columns (total 10 columns):\n",
      " #   Column        Non-Null Count   Dtype  \n",
      "---  ------        --------------   -----  \n",
      " 0   price         280173 non-null  int64  \n",
      " 1   vehicle_type  280173 non-null  object \n",
      " 2   gearbox       280173 non-null  object \n",
      " 3   power         280173 non-null  int64  \n",
      " 4   model         280173 non-null  object \n",
      " 5   kilometer     280173 non-null  int64  \n",
      " 6   fuel_type     280173 non-null  object \n",
      " 7   brand         280173 non-null  object \n",
      " 8   repaired      280173 non-null  object \n",
      " 9   age           280173 non-null  float64\n",
      "dtypes: float64(1), int64(3), object(6)\n",
      "memory usage: 23.5+ MB\n"
     ]
    },
    {
     "data": {
      "text/html": [
       "<div>\n",
       "<style scoped>\n",
       "    .dataframe tbody tr th:only-of-type {\n",
       "        vertical-align: middle;\n",
       "    }\n",
       "\n",
       "    .dataframe tbody tr th {\n",
       "        vertical-align: top;\n",
       "    }\n",
       "\n",
       "    .dataframe thead th {\n",
       "        text-align: right;\n",
       "    }\n",
       "</style>\n",
       "<table border=\"1\" class=\"dataframe\">\n",
       "  <thead>\n",
       "    <tr style=\"text-align: right;\">\n",
       "      <th></th>\n",
       "      <th>price</th>\n",
       "      <th>power</th>\n",
       "      <th>kilometer</th>\n",
       "      <th>age</th>\n",
       "    </tr>\n",
       "  </thead>\n",
       "  <tbody>\n",
       "    <tr>\n",
       "      <th>count</th>\n",
       "      <td>280173.000000</td>\n",
       "      <td>280173.000000</td>\n",
       "      <td>280173.000000</td>\n",
       "      <td>280173.000000</td>\n",
       "    </tr>\n",
       "    <tr>\n",
       "      <th>mean</th>\n",
       "      <td>4701.061416</td>\n",
       "      <td>120.738683</td>\n",
       "      <td>128847.372873</td>\n",
       "      <td>12.513131</td>\n",
       "    </tr>\n",
       "    <tr>\n",
       "      <th>std</th>\n",
       "      <td>4209.996848</td>\n",
       "      <td>68.360039</td>\n",
       "      <td>36012.415299</td>\n",
       "      <td>6.681944</td>\n",
       "    </tr>\n",
       "    <tr>\n",
       "      <th>min</th>\n",
       "      <td>99.000000</td>\n",
       "      <td>6.000000</td>\n",
       "      <td>5000.000000</td>\n",
       "      <td>-3.668493</td>\n",
       "    </tr>\n",
       "    <tr>\n",
       "      <th>25%</th>\n",
       "      <td>1400.000000</td>\n",
       "      <td>75.000000</td>\n",
       "      <td>125000.000000</td>\n",
       "      <td>8.279452</td>\n",
       "    </tr>\n",
       "    <tr>\n",
       "      <th>50%</th>\n",
       "      <td>3200.000000</td>\n",
       "      <td>110.000000</td>\n",
       "      <td>150000.000000</td>\n",
       "      <td>12.413699</td>\n",
       "    </tr>\n",
       "    <tr>\n",
       "      <th>75%</th>\n",
       "      <td>6900.000000</td>\n",
       "      <td>149.000000</td>\n",
       "      <td>150000.000000</td>\n",
       "      <td>16.580822</td>\n",
       "    </tr>\n",
       "    <tr>\n",
       "      <th>max</th>\n",
       "      <td>17800.000000</td>\n",
       "      <td>4700.000000</td>\n",
       "      <td>150000.000000</td>\n",
       "      <td>65.306849</td>\n",
       "    </tr>\n",
       "  </tbody>\n",
       "</table>\n",
       "</div>"
      ],
      "text/plain": [
       "               price          power      kilometer            age\n",
       "count  280173.000000  280173.000000  280173.000000  280173.000000\n",
       "mean     4701.061416     120.738683  128847.372873      12.513131\n",
       "std      4209.996848      68.360039   36012.415299       6.681944\n",
       "min        99.000000       6.000000    5000.000000      -3.668493\n",
       "25%      1400.000000      75.000000  125000.000000       8.279452\n",
       "50%      3200.000000     110.000000  150000.000000      12.413699\n",
       "75%      6900.000000     149.000000  150000.000000      16.580822\n",
       "max     17800.000000    4700.000000  150000.000000      65.306849"
      ]
     },
     "execution_count": 18,
     "metadata": {},
     "output_type": "execute_result"
    }
   ],
   "source": [
    "df.info()\n",
    "df.describe()"
   ]
  },
  {
   "cell_type": "markdown",
   "metadata": {},
   "source": [
    "Почти все хорошо. Отрицательные значения в возрасте автомобиля. Может быть данные изначально кривые и месяц, год регистрации это про пользователя. \n",
    "\n",
    "Отфильтруем отрицательные значения:"
   ]
  },
  {
   "cell_type": "code",
   "execution_count": 19,
   "metadata": {},
   "outputs": [
    {
     "name": "stdout",
     "output_type": "stream",
     "text": [
      "<class 'pandas.core.frame.DataFrame'>\n",
      "Int64Index: 268453 entries, 2 to 354364\n",
      "Data columns (total 10 columns):\n",
      " #   Column        Non-Null Count   Dtype  \n",
      "---  ------        --------------   -----  \n",
      " 0   price         268453 non-null  int64  \n",
      " 1   vehicle_type  268453 non-null  object \n",
      " 2   gearbox       268453 non-null  object \n",
      " 3   power         268453 non-null  int64  \n",
      " 4   model         268453 non-null  object \n",
      " 5   kilometer     268453 non-null  int64  \n",
      " 6   fuel_type     268453 non-null  object \n",
      " 7   brand         268453 non-null  object \n",
      " 8   repaired      268453 non-null  object \n",
      " 9   age           268453 non-null  float64\n",
      "dtypes: float64(1), int64(3), object(6)\n",
      "memory usage: 22.5+ MB\n"
     ]
    }
   ],
   "source": [
    "df = df.query('0 < age')\n",
    "df.describe()\n",
    "df.info()"
   ]
  },
  {
   "cell_type": "markdown",
   "metadata": {},
   "source": [
    "Избавились от ~23% сомнительных признаков.\n",
    "\n",
    "----------------------------\n",
    "\n",
    "Предобработку начали с оформления - привели к snake_case названия столбцов. Далее удалили дубликаты и отфильтровали явные выбросы. Вычислили возраст автомобиля путем расчета времени между датой публикации объявления и датой регистрации автомобиля. Но из-за некорректности данных получились отрицательные значения возраста которые мы тоже отфильтровали."
   ]
  },
  {
   "cell_type": "markdown",
   "metadata": {},
   "source": [
    "## Обучение моделей"
   ]
  },
  {
   "cell_type": "markdown",
   "metadata": {},
   "source": [
    "Кодируем категориальные признаки, определяем признаки и делим выборку на тренировочную и тестовую:"
   ]
  },
  {
   "cell_type": "code",
   "execution_count": 20,
   "metadata": {},
   "outputs": [],
   "source": [
    "features = df.drop(['price'], axis=1)\n",
    "target = df['price']\n",
    "\n",
    "X_train, X_test, y_train, y_test = train_test_split(\n",
    "    features, target, test_size=0.2, random_state=RANDOM_STATE\n",
    ")"
   ]
  },
  {
   "cell_type": "code",
   "execution_count": 21,
   "metadata": {},
   "outputs": [
    {
     "name": "stdout",
     "output_type": "stream",
     "text": [
      "['vehicle_type', 'gearbox', 'model', 'fuel_type', 'brand', 'repaired']\n"
     ]
    }
   ],
   "source": [
    "cat_features = X_train.select_dtypes(include='object').columns.to_list()\n",
    "print(cat_features)"
   ]
  },
  {
   "cell_type": "code",
   "execution_count": 22,
   "metadata": {},
   "outputs": [
    {
     "data": {
      "text/plain": [
       "['vehicle_type', 'gearbox', 'fuel_type', 'brand', 'repaired']"
      ]
     },
     "execution_count": 22,
     "metadata": {},
     "output_type": "execute_result"
    }
   ],
   "source": [
    "ohe_features_rf = cat_features.copy()\n",
    "ohe_features_rf.remove('model')\n",
    "ohe_features_rf"
   ]
  },
  {
   "cell_type": "code",
   "execution_count": 23,
   "metadata": {},
   "outputs": [
    {
     "data": {
      "text/plain": [
       "['power', 'kilometer', 'age']"
      ]
     },
     "execution_count": 23,
     "metadata": {},
     "output_type": "execute_result"
    }
   ],
   "source": [
    "num_features = X_train.select_dtypes(exclude='object').columns.to_list()\n",
    "\n",
    "num_features"
   ]
  },
  {
   "cell_type": "code",
   "execution_count": 24,
   "metadata": {},
   "outputs": [],
   "source": [
    "X_train_rf = X_train.copy()\n",
    "X_test_rf = X_test.copy()"
   ]
  },
  {
   "cell_type": "markdown",
   "metadata": {},
   "source": [
    "#### RandomForest"
   ]
  },
  {
   "cell_type": "code",
   "execution_count": 25,
   "metadata": {},
   "outputs": [
    {
     "name": "stdout",
     "output_type": "stream",
     "text": [
      "best_params: {'randomforestregressor__n_estimators': 14, 'randomforestregressor__max_depth': 5}\n",
      "Fit time: [17.02050452], Predict time: [0.28436666], Best RMSE: 2189.627484052463\n",
      "Wall time: 48.3 s\n"
     ]
    }
   ],
   "source": [
    "%%time\n",
    "col_transformer_rf= make_column_transformer(\n",
    "    (\n",
    "        OneHotEncoder(drop='first', handle_unknown='ignore'), \n",
    "        ohe_features_rf\n",
    "    ),\n",
    "    (\n",
    "        OrdinalEncoder(handle_unknown='use_encoded_value', unknown_value=-1), \n",
    "        ['model']\n",
    "    ),\n",
    "    (\n",
    "        StandardScaler(), \n",
    "        num_features\n",
    "    ),\n",
    "    remainder='passthrough'\n",
    ")\n",
    "\n",
    "model_rf = RandomForestRegressor(random_state=RANDOM_STATE)\n",
    "\n",
    "pipline_rf = make_pipeline(col_transformer_rf, model_rf)\n",
    "\n",
    "param_grid_rf = {\n",
    "    'randomforestregressor__n_estimators': [14],\n",
    "    'randomforestregressor__max_depth': [5]\n",
    "}\n",
    "\n",
    "gs_rf = RandomizedSearchCV(\n",
    "    pipline_rf, \n",
    "    param_distributions=param_grid_rf, \n",
    "    scoring='neg_root_mean_squared_error', \n",
    "    n_jobs=-1, \n",
    "    random_state=RANDOM_STATE\n",
    ")\n",
    "\n",
    "gs_rf.fit(X_train_rf, y_train)\n",
    "\n",
    "gs_rf_best_score = gs_rf.best_score_ * -1\n",
    "gs_rf_best_params = gs_rf.best_params_\n",
    "#print(f'best_score: {gs_rf_best_score}')\n",
    "print(f'best_params: {gs_rf_best_params}')\n",
    "\n",
    "results = gs_rf.cv_results_\n",
    "best_index = gs_rf.best_index_\n",
    "\n",
    "fit_time = results['mean_fit_time']\n",
    "score_time = results['mean_score_time']\n",
    "RMSE = gs_rf.best_score_ * -1\n",
    "\n",
    "print(f\"Fit time: {fit_time}, Predict time: {score_time}, Best RMSE: {RMSE}\")"
   ]
  },
  {
   "cell_type": "markdown",
   "metadata": {},
   "source": [
    "#### CatBoost"
   ]
  },
  {
   "cell_type": "code",
   "execution_count": 26,
   "metadata": {},
   "outputs": [],
   "source": [
    "for X in cat_features:\n",
    "    encoder = LabelEncoder()\n",
    "    X_train[X] = encoder.fit_transform(X_train[X])\n",
    "    X_test[X] = encoder.transform(X_test[X])"
   ]
  },
  {
   "cell_type": "code",
   "execution_count": 27,
   "metadata": {},
   "outputs": [
    {
     "name": "stdout",
     "output_type": "stream",
     "text": [
      "0:\tlearn: 3419.9349101\ttotal: 196ms\tremaining: 5.67s\n",
      "1:\tlearn: 2919.0466728\ttotal: 230ms\tremaining: 3.23s\n",
      "2:\tlearn: 2580.0161188\ttotal: 265ms\tremaining: 2.39s\n",
      "3:\tlearn: 2361.4816467\ttotal: 299ms\tremaining: 1.94s\n",
      "4:\tlearn: 2217.1878142\ttotal: 333ms\tremaining: 1.66s\n",
      "5:\tlearn: 2105.6603564\ttotal: 366ms\tremaining: 1.46s\n",
      "6:\tlearn: 2041.4399122\ttotal: 404ms\tremaining: 1.33s\n",
      "7:\tlearn: 1988.9903243\ttotal: 444ms\tremaining: 1.22s\n",
      "8:\tlearn: 1945.9399301\ttotal: 478ms\tremaining: 1.11s\n",
      "9:\tlearn: 1917.8923687\ttotal: 509ms\tremaining: 1.02s\n",
      "10:\tlearn: 1897.4718831\ttotal: 539ms\tremaining: 932ms\n",
      "11:\tlearn: 1859.6459678\ttotal: 575ms\tremaining: 862ms\n",
      "12:\tlearn: 1844.5886033\ttotal: 605ms\tremaining: 791ms\n",
      "13:\tlearn: 1815.4595032\ttotal: 649ms\tremaining: 742ms\n",
      "14:\tlearn: 1800.2012526\ttotal: 682ms\tremaining: 682ms\n",
      "15:\tlearn: 1788.2115053\ttotal: 713ms\tremaining: 624ms\n",
      "16:\tlearn: 1780.2130683\ttotal: 741ms\tremaining: 567ms\n",
      "17:\tlearn: 1771.2594801\ttotal: 769ms\tremaining: 513ms\n",
      "18:\tlearn: 1763.8810098\ttotal: 801ms\tremaining: 464ms\n",
      "19:\tlearn: 1747.1614141\ttotal: 838ms\tremaining: 419ms\n",
      "20:\tlearn: 1738.8608198\ttotal: 876ms\tremaining: 376ms\n",
      "21:\tlearn: 1731.5459328\ttotal: 911ms\tremaining: 331ms\n",
      "22:\tlearn: 1723.7538672\ttotal: 945ms\tremaining: 287ms\n",
      "23:\tlearn: 1716.5535715\ttotal: 976ms\tremaining: 244ms\n",
      "24:\tlearn: 1708.2073759\ttotal: 1.01s\tremaining: 202ms\n",
      "25:\tlearn: 1702.9866046\ttotal: 1.04s\tremaining: 160ms\n",
      "26:\tlearn: 1697.7842912\ttotal: 1.07s\tremaining: 119ms\n",
      "27:\tlearn: 1692.2831520\ttotal: 1.11s\tremaining: 79.6ms\n",
      "28:\tlearn: 1688.5046283\ttotal: 1.15s\tremaining: 39.6ms\n",
      "29:\tlearn: 1681.8805074\ttotal: 1.19s\tremaining: 0us\n",
      "best_params: {'iterations': 30, 'learning_rate': 0.3}\n",
      "Fit time: [2.78401208], Predict time: [0.02499814], Best RMSE: 1694.4881620094293\n",
      "Wall time: 7.02 s\n"
     ]
    }
   ],
   "source": [
    "%%time\n",
    "model = CatBoostRegressor()\n",
    "param_grid = {\n",
    "    'iterations': [30],\n",
    "    'learning_rate': [0.3],\n",
    "}\n",
    "\n",
    "grid_search = GridSearchCV(\n",
    "    model,\n",
    "    param_grid,\n",
    "    cv=5, scoring='neg_root_mean_squared_error',\n",
    "    error_score='raise',\n",
    "    n_jobs=-1,\n",
    ")\n",
    "grid_search.fit(X_train, y_train)\n",
    "\n",
    "best_params_cbr = grid_search.best_params_\n",
    "print(f'best_params: {best_params_cbr}')\n",
    "\n",
    "results = grid_search.cv_results_\n",
    "best_index = grid_search.best_index_\n",
    "\n",
    "fit_time = results['mean_fit_time']\n",
    "score_time = results['mean_score_time']\n",
    "RMSE = grid_search.best_score_ * -1\n",
    "\n",
    "print(f\"Fit time: {fit_time}, Predict time: {score_time}, Best RMSE: {RMSE}\")"
   ]
  },
  {
   "cell_type": "markdown",
   "metadata": {},
   "source": [
    "#### LightGBM"
   ]
  },
  {
   "cell_type": "code",
   "execution_count": 28,
   "metadata": {
    "scrolled": true
   },
   "outputs": [
    {
     "name": "stdout",
     "output_type": "stream",
     "text": [
      "best_params: {'learning_rate': 0.3, 'n_estimators': 150}\n",
      "Fit time: [4.19626927], Predict time: [0.84997439], Best RMSE: 1449.518582222146\n",
      "Wall time: 12.9 s\n"
     ]
    }
   ],
   "source": [
    "%%time\n",
    "model = lgbm.LGBMRegressor()\n",
    "param_grid = {\n",
    "    'learning_rate': [0.3],\n",
    "    'n_estimators': [150]\n",
    "}\n",
    "\n",
    "grid_search = GridSearchCV(\n",
    "    model,\n",
    "    param_grid=param_grid,\n",
    "    cv=5,\n",
    "    scoring='neg_root_mean_squared_error',\n",
    "    n_jobs=-1,\n",
    ")\n",
    "\n",
    "grid_search.fit(X_train, y_train, categorical_feature=cat_features)\n",
    "\n",
    "best_params = grid_search.best_params_\n",
    "best_params_lgbm = grid_search.best_params_\n",
    "print(f'best_params: {best_params_lgbm}')\n",
    "\n",
    "results = grid_search.cv_results_\n",
    "best_index = grid_search.best_index_\n",
    "\n",
    "fit_time = results['mean_fit_time']\n",
    "score_time = results['mean_score_time']\n",
    "RMSE = grid_search.best_score_ * -1\n",
    "\n",
    "print(f\"Fit time: {fit_time}, Predict time: {score_time}, Best RMSE: {RMSE}\")"
   ]
  },
  {
   "cell_type": "markdown",
   "metadata": {},
   "source": [
    "## Анализ моделей"
   ]
  },
  {
   "cell_type": "markdown",
   "metadata": {},
   "source": [
    "Качество предсказания: RandomForest 2189,   CatBoost  1694 и lightGBM 1449\n",
    "\n",
    "Время обучения:        RandomForest 16,     CatBoost  2.92 и lightGBM 4.32\n",
    "\n",
    "Время предсказания:    RandomForest 0.29,   CatBoost  0.02 и lightGBM 0.9\n",
    "\n",
    "Показатели времени LightGBM не лучшие но качество перевешивет. Проверим ее на тестовой выборке:"
   ]
  },
  {
   "cell_type": "code",
   "execution_count": 29,
   "metadata": {},
   "outputs": [
    {
     "name": "stdout",
     "output_type": "stream",
     "text": [
      "Wall time: 1.62 s\n"
     ]
    },
    {
     "data": {
      "text/html": [
       "<style>#sk-container-id-1 {color: black;background-color: white;}#sk-container-id-1 pre{padding: 0;}#sk-container-id-1 div.sk-toggleable {background-color: white;}#sk-container-id-1 label.sk-toggleable__label {cursor: pointer;display: block;width: 100%;margin-bottom: 0;padding: 0.3em;box-sizing: border-box;text-align: center;}#sk-container-id-1 label.sk-toggleable__label-arrow:before {content: \"▸\";float: left;margin-right: 0.25em;color: #696969;}#sk-container-id-1 label.sk-toggleable__label-arrow:hover:before {color: black;}#sk-container-id-1 div.sk-estimator:hover label.sk-toggleable__label-arrow:before {color: black;}#sk-container-id-1 div.sk-toggleable__content {max-height: 0;max-width: 0;overflow: hidden;text-align: left;background-color: #f0f8ff;}#sk-container-id-1 div.sk-toggleable__content pre {margin: 0.2em;color: black;border-radius: 0.25em;background-color: #f0f8ff;}#sk-container-id-1 input.sk-toggleable__control:checked~div.sk-toggleable__content {max-height: 200px;max-width: 100%;overflow: auto;}#sk-container-id-1 input.sk-toggleable__control:checked~label.sk-toggleable__label-arrow:before {content: \"▾\";}#sk-container-id-1 div.sk-estimator input.sk-toggleable__control:checked~label.sk-toggleable__label {background-color: #d4ebff;}#sk-container-id-1 div.sk-label input.sk-toggleable__control:checked~label.sk-toggleable__label {background-color: #d4ebff;}#sk-container-id-1 input.sk-hidden--visually {border: 0;clip: rect(1px 1px 1px 1px);clip: rect(1px, 1px, 1px, 1px);height: 1px;margin: -1px;overflow: hidden;padding: 0;position: absolute;width: 1px;}#sk-container-id-1 div.sk-estimator {font-family: monospace;background-color: #f0f8ff;border: 1px dotted black;border-radius: 0.25em;box-sizing: border-box;margin-bottom: 0.5em;}#sk-container-id-1 div.sk-estimator:hover {background-color: #d4ebff;}#sk-container-id-1 div.sk-parallel-item::after {content: \"\";width: 100%;border-bottom: 1px solid gray;flex-grow: 1;}#sk-container-id-1 div.sk-label:hover label.sk-toggleable__label {background-color: #d4ebff;}#sk-container-id-1 div.sk-serial::before {content: \"\";position: absolute;border-left: 1px solid gray;box-sizing: border-box;top: 0;bottom: 0;left: 50%;z-index: 0;}#sk-container-id-1 div.sk-serial {display: flex;flex-direction: column;align-items: center;background-color: white;padding-right: 0.2em;padding-left: 0.2em;position: relative;}#sk-container-id-1 div.sk-item {position: relative;z-index: 1;}#sk-container-id-1 div.sk-parallel {display: flex;align-items: stretch;justify-content: center;background-color: white;position: relative;}#sk-container-id-1 div.sk-item::before, #sk-container-id-1 div.sk-parallel-item::before {content: \"\";position: absolute;border-left: 1px solid gray;box-sizing: border-box;top: 0;bottom: 0;left: 50%;z-index: -1;}#sk-container-id-1 div.sk-parallel-item {display: flex;flex-direction: column;z-index: 1;position: relative;background-color: white;}#sk-container-id-1 div.sk-parallel-item:first-child::after {align-self: flex-end;width: 50%;}#sk-container-id-1 div.sk-parallel-item:last-child::after {align-self: flex-start;width: 50%;}#sk-container-id-1 div.sk-parallel-item:only-child::after {width: 0;}#sk-container-id-1 div.sk-dashed-wrapped {border: 1px dashed gray;margin: 0 0.4em 0.5em 0.4em;box-sizing: border-box;padding-bottom: 0.4em;background-color: white;}#sk-container-id-1 div.sk-label label {font-family: monospace;font-weight: bold;display: inline-block;line-height: 1.2em;}#sk-container-id-1 div.sk-label-container {text-align: center;}#sk-container-id-1 div.sk-container {/* jupyter's `normalize.less` sets `[hidden] { display: none; }` but bootstrap.min.css set `[hidden] { display: none !important; }` so we also need the `!important` here to be able to override the default hidden behavior on the sphinx rendered scikit-learn.org. See: https://github.com/scikit-learn/scikit-learn/issues/21755 */display: inline-block !important;position: relative;}#sk-container-id-1 div.sk-text-repr-fallback {display: none;}</style><div id=\"sk-container-id-1\" class=\"sk-top-container\"><div class=\"sk-text-repr-fallback\"><pre>LGBMRegressor(learning_rate=0.3, n_estimators=150)</pre><b>In a Jupyter environment, please rerun this cell to show the HTML representation or trust the notebook. <br />On GitHub, the HTML representation is unable to render, please try loading this page with nbviewer.org.</b></div><div class=\"sk-container\" hidden><div class=\"sk-item\"><div class=\"sk-estimator sk-toggleable\"><input class=\"sk-toggleable__control sk-hidden--visually\" id=\"sk-estimator-id-1\" type=\"checkbox\" checked><label for=\"sk-estimator-id-1\" class=\"sk-toggleable__label sk-toggleable__label-arrow\">LGBMRegressor</label><div class=\"sk-toggleable__content\"><pre>LGBMRegressor(learning_rate=0.3, n_estimators=150)</pre></div></div></div></div></div>"
      ],
      "text/plain": [
       "LGBMRegressor(learning_rate=0.3, n_estimators=150)"
      ]
     },
     "execution_count": 29,
     "metadata": {},
     "output_type": "execute_result"
    }
   ],
   "source": [
    "%%time\n",
    "\n",
    "model = lgbm.LGBMRegressor(**grid_search.best_params_)\n",
    "model.fit(X_train, y_train)"
   ]
  },
  {
   "cell_type": "code",
   "execution_count": 30,
   "metadata": {},
   "outputs": [
    {
     "name": "stdout",
     "output_type": "stream",
     "text": [
      "Wall time: 244 ms\n"
     ]
    }
   ],
   "source": [
    "%%time\n",
    "y_pred = grid_search.predict(X_test)"
   ]
  },
  {
   "cell_type": "code",
   "execution_count": 31,
   "metadata": {},
   "outputs": [
    {
     "name": "stdout",
     "output_type": "stream",
     "text": [
      "RMSE: 1445.3646378818273\n"
     ]
    }
   ],
   "source": [
    "print('RMSE:', mean_squared_error(y_test, y_pred)**0.5)"
   ]
  },
  {
   "cell_type": "markdown",
   "metadata": {},
   "source": [
    "Лучшая модель по скорости и качеству - LightGBM. При минимальном подборе гиперпараметров RMSE: 1445.\n",
    "\n",
    "Качество всех рассмотренных моделей удовлетворяет требованиям. Потенциал по улучшению есть но решено не тратить время в ожидании подбора параметров.\n",
    "\n",
    "\n"
   ]
  }
 ],
 "metadata": {
  "ExecuteTimeLog": [
   {
    "duration": 3282,
    "start_time": "2023-03-09T11:52:14.097Z"
   },
   {
    "duration": 2240,
    "start_time": "2023-03-09T11:52:17.382Z"
   },
   {
    "duration": 3617,
    "start_time": "2023-03-09T11:52:19.624Z"
   },
   {
    "duration": 2832,
    "start_time": "2023-03-09T11:52:23.242Z"
   },
   {
    "duration": 16,
    "start_time": "2023-03-09T11:52:26.076Z"
   },
   {
    "duration": 113,
    "start_time": "2023-03-09T11:52:26.093Z"
   },
   {
    "duration": 102,
    "start_time": "2023-03-09T11:52:26.207Z"
   },
   {
    "duration": 449,
    "start_time": "2023-03-09T11:52:26.310Z"
   },
   {
    "duration": 470,
    "start_time": "2023-03-09T11:52:26.762Z"
   },
   {
    "duration": 3,
    "start_time": "2023-03-09T11:52:27.234Z"
   },
   {
    "duration": 64,
    "start_time": "2023-03-09T11:52:27.238Z"
   },
   {
    "duration": 710,
    "start_time": "2023-03-09T11:52:27.303Z"
   },
   {
    "duration": 26,
    "start_time": "2023-03-09T11:52:28.014Z"
   },
   {
    "duration": 92,
    "start_time": "2023-03-09T11:52:28.042Z"
   },
   {
    "duration": 122,
    "start_time": "2023-03-09T11:52:28.135Z"
   },
   {
    "duration": 129,
    "start_time": "2023-03-09T11:52:28.259Z"
   },
   {
    "duration": 119,
    "start_time": "2023-03-09T11:52:35.910Z"
   },
   {
    "duration": 2289,
    "start_time": "2023-03-09T11:53:15.048Z"
   },
   {
    "duration": 2177,
    "start_time": "2023-03-09T11:53:17.340Z"
   },
   {
    "duration": 1855,
    "start_time": "2023-03-09T11:53:19.519Z"
   },
   {
    "duration": 832,
    "start_time": "2023-03-09T11:53:21.376Z"
   },
   {
    "duration": 18,
    "start_time": "2023-03-09T11:53:22.209Z"
   },
   {
    "duration": 131,
    "start_time": "2023-03-09T11:53:22.228Z"
   },
   {
    "duration": 101,
    "start_time": "2023-03-09T11:53:22.361Z"
   },
   {
    "duration": 421,
    "start_time": "2023-03-09T11:53:22.463Z"
   },
   {
    "duration": 441,
    "start_time": "2023-03-09T11:53:22.885Z"
   },
   {
    "duration": 3,
    "start_time": "2023-03-09T11:53:23.329Z"
   },
   {
    "duration": 57,
    "start_time": "2023-03-09T11:53:23.333Z"
   },
   {
    "duration": 716,
    "start_time": "2023-03-09T11:53:23.392Z"
   },
   {
    "duration": 23,
    "start_time": "2023-03-09T11:53:24.110Z"
   },
   {
    "duration": 86,
    "start_time": "2023-03-09T11:53:24.134Z"
   },
   {
    "duration": 125,
    "start_time": "2023-03-09T11:53:24.222Z"
   },
   {
    "duration": 140,
    "start_time": "2023-03-09T11:53:24.356Z"
   },
   {
    "duration": 3,
    "start_time": "2023-03-09T11:53:24.498Z"
   },
   {
    "duration": 2264,
    "start_time": "2023-03-09T11:54:03.874Z"
   },
   {
    "duration": 2256,
    "start_time": "2023-03-09T11:54:06.140Z"
   },
   {
    "duration": 1751,
    "start_time": "2023-03-09T11:54:08.398Z"
   },
   {
    "duration": 797,
    "start_time": "2023-03-09T11:54:10.151Z"
   },
   {
    "duration": 16,
    "start_time": "2023-03-09T11:54:10.954Z"
   },
   {
    "duration": 129,
    "start_time": "2023-03-09T11:54:10.971Z"
   },
   {
    "duration": 112,
    "start_time": "2023-03-09T11:54:11.101Z"
   },
   {
    "duration": 397,
    "start_time": "2023-03-09T11:54:11.215Z"
   },
   {
    "duration": 437,
    "start_time": "2023-03-09T11:54:11.613Z"
   },
   {
    "duration": 3,
    "start_time": "2023-03-09T11:54:12.054Z"
   },
   {
    "duration": 48,
    "start_time": "2023-03-09T11:54:12.059Z"
   },
   {
    "duration": 715,
    "start_time": "2023-03-09T11:54:12.109Z"
   },
   {
    "duration": 29,
    "start_time": "2023-03-09T11:54:12.826Z"
   },
   {
    "duration": 75,
    "start_time": "2023-03-09T11:54:12.857Z"
   },
   {
    "duration": 121,
    "start_time": "2023-03-09T11:54:12.934Z"
   },
   {
    "duration": 129,
    "start_time": "2023-03-09T11:54:13.057Z"
   },
   {
    "duration": 963,
    "start_time": "2023-03-12T05:42:47.795Z"
   },
   {
    "duration": 2597,
    "start_time": "2023-03-12T05:42:48.760Z"
   },
   {
    "duration": 2271,
    "start_time": "2023-03-12T05:42:51.360Z"
   },
   {
    "duration": 740,
    "start_time": "2023-03-12T05:42:53.633Z"
   },
   {
    "duration": 2906,
    "start_time": "2023-03-12T05:42:54.375Z"
   },
   {
    "duration": 18,
    "start_time": "2023-03-12T05:42:57.283Z"
   },
   {
    "duration": 136,
    "start_time": "2023-03-12T05:42:57.304Z"
   },
   {
    "duration": 147,
    "start_time": "2023-03-12T05:42:57.442Z"
   },
   {
    "duration": 523,
    "start_time": "2023-03-12T05:42:57.591Z"
   },
   {
    "duration": 583,
    "start_time": "2023-03-12T05:42:58.127Z"
   },
   {
    "duration": 4,
    "start_time": "2023-03-12T05:42:58.712Z"
   },
   {
    "duration": 1739,
    "start_time": "2023-03-12T05:42:58.718Z"
   },
   {
    "duration": 81,
    "start_time": "2023-03-12T05:43:00.459Z"
   },
   {
    "duration": 86,
    "start_time": "2023-03-12T05:43:00.542Z"
   },
   {
    "duration": 789,
    "start_time": "2023-03-12T05:43:00.629Z"
   },
   {
    "duration": 20,
    "start_time": "2023-03-12T05:43:01.420Z"
   },
   {
    "duration": 141,
    "start_time": "2023-03-12T05:43:01.442Z"
   },
   {
    "duration": 139,
    "start_time": "2023-03-12T05:43:01.585Z"
   },
   {
    "duration": 213,
    "start_time": "2023-03-12T05:43:01.726Z"
   },
   {
    "duration": 103,
    "start_time": "2023-03-12T05:43:01.941Z"
   },
   {
    "duration": 13,
    "start_time": "2023-03-12T05:43:02.045Z"
   },
   {
    "duration": 26,
    "start_time": "2023-03-12T05:43:02.060Z"
   },
   {
    "duration": 31,
    "start_time": "2023-03-12T05:43:02.088Z"
   },
   {
    "duration": 42,
    "start_time": "2023-03-12T05:43:02.121Z"
   },
   {
    "duration": 134,
    "start_time": "2023-03-12T05:43:02.165Z"
   },
   {
    "duration": 0,
    "start_time": "2023-03-12T05:43:02.301Z"
   },
   {
    "duration": 0,
    "start_time": "2023-03-12T05:43:02.303Z"
   },
   {
    "duration": 0,
    "start_time": "2023-03-12T05:43:02.304Z"
   },
   {
    "duration": 0,
    "start_time": "2023-03-12T05:43:02.307Z"
   },
   {
    "duration": 0,
    "start_time": "2023-03-12T05:43:02.308Z"
   },
   {
    "duration": 0,
    "start_time": "2023-03-12T05:43:02.309Z"
   },
   {
    "duration": 0,
    "start_time": "2023-03-12T05:43:02.310Z"
   },
   {
    "duration": 0,
    "start_time": "2023-03-12T05:43:02.311Z"
   },
   {
    "duration": 1932,
    "start_time": "2023-03-12T05:48:11.021Z"
   },
   {
    "duration": 292,
    "start_time": "2023-03-12T05:48:27.461Z"
   },
   {
    "duration": 11454,
    "start_time": "2023-03-12T05:48:30.046Z"
   },
   {
    "duration": 352572,
    "start_time": "2023-03-12T05:48:47.739Z"
   },
   {
    "duration": 65,
    "start_time": "2023-03-12T05:54:40.313Z"
   },
   {
    "duration": 44,
    "start_time": "2023-03-12T05:54:45.909Z"
   },
   {
    "duration": 11825,
    "start_time": "2023-03-12T05:55:32.480Z"
   },
   {
    "duration": 11701,
    "start_time": "2023-03-12T05:59:19.884Z"
   },
   {
    "duration": 7657,
    "start_time": "2023-03-12T06:03:44.452Z"
   },
   {
    "duration": 7787,
    "start_time": "2023-03-12T06:05:00.286Z"
   },
   {
    "duration": 9464,
    "start_time": "2023-03-12T06:09:15.931Z"
   },
   {
    "duration": 8709,
    "start_time": "2023-03-12T06:10:11.662Z"
   },
   {
    "duration": 7545,
    "start_time": "2023-03-12T06:12:58.297Z"
   },
   {
    "duration": 7437,
    "start_time": "2023-03-12T06:14:00.901Z"
   },
   {
    "duration": 856,
    "start_time": "2023-03-12T06:15:02.695Z"
   },
   {
    "duration": 2090,
    "start_time": "2023-03-12T06:15:03.554Z"
   },
   {
    "duration": 2054,
    "start_time": "2023-03-12T06:15:05.646Z"
   },
   {
    "duration": 545,
    "start_time": "2023-03-12T06:15:07.704Z"
   },
   {
    "duration": 894,
    "start_time": "2023-03-12T06:15:08.251Z"
   },
   {
    "duration": 25,
    "start_time": "2023-03-12T06:15:09.147Z"
   },
   {
    "duration": 150,
    "start_time": "2023-03-12T06:15:09.174Z"
   },
   {
    "duration": 119,
    "start_time": "2023-03-12T06:15:09.326Z"
   },
   {
    "duration": 506,
    "start_time": "2023-03-12T06:15:09.446Z"
   },
   {
    "duration": 664,
    "start_time": "2023-03-12T06:15:09.953Z"
   },
   {
    "duration": 5,
    "start_time": "2023-03-12T06:15:10.619Z"
   },
   {
    "duration": 1768,
    "start_time": "2023-03-12T06:15:10.626Z"
   },
   {
    "duration": 72,
    "start_time": "2023-03-12T06:15:12.396Z"
   },
   {
    "duration": 75,
    "start_time": "2023-03-12T06:15:12.472Z"
   },
   {
    "duration": 800,
    "start_time": "2023-03-12T06:15:12.552Z"
   },
   {
    "duration": 21,
    "start_time": "2023-03-12T06:15:13.354Z"
   },
   {
    "duration": 105,
    "start_time": "2023-03-12T06:15:13.377Z"
   },
   {
    "duration": 152,
    "start_time": "2023-03-12T06:15:13.485Z"
   },
   {
    "duration": 191,
    "start_time": "2023-03-12T06:15:13.641Z"
   },
   {
    "duration": 76,
    "start_time": "2023-03-12T06:15:13.834Z"
   },
   {
    "duration": 19,
    "start_time": "2023-03-12T06:15:13.924Z"
   },
   {
    "duration": 10,
    "start_time": "2023-03-12T06:15:13.944Z"
   },
   {
    "duration": 9,
    "start_time": "2023-03-12T06:15:13.957Z"
   },
   {
    "duration": 54,
    "start_time": "2023-03-12T06:15:13.970Z"
   },
   {
    "duration": 1349,
    "start_time": "2023-03-12T06:15:14.026Z"
   },
   {
    "duration": 258,
    "start_time": "2023-03-12T06:15:15.378Z"
   },
   {
    "duration": 8031,
    "start_time": "2023-03-12T06:15:15.637Z"
   },
   {
    "duration": 297235,
    "start_time": "2023-03-12T06:15:23.669Z"
   },
   {
    "duration": 22,
    "start_time": "2023-03-12T06:20:20.907Z"
   },
   {
    "duration": 0,
    "start_time": "2023-03-12T06:20:20.933Z"
   },
   {
    "duration": 0,
    "start_time": "2023-03-12T06:20:20.935Z"
   },
   {
    "duration": 0,
    "start_time": "2023-03-12T06:20:20.937Z"
   },
   {
    "duration": 0,
    "start_time": "2023-03-12T06:20:20.939Z"
   },
   {
    "duration": 10274,
    "start_time": "2023-03-12T06:20:23.182Z"
   }
  ],
  "kernelspec": {
   "display_name": "Python 3 (ipykernel)",
   "language": "python",
   "name": "python3"
  },
  "language_info": {
   "codemirror_mode": {
    "name": "ipython",
    "version": 3
   },
   "file_extension": ".py",
   "mimetype": "text/x-python",
   "name": "python",
   "nbconvert_exporter": "python",
   "pygments_lexer": "ipython3",
   "version": "3.9.13"
  },
  "toc": {
   "base_numbering": 1,
   "nav_menu": {},
   "number_sections": true,
   "sideBar": true,
   "skip_h1_title": true,
   "title_cell": "Table of Contents",
   "title_sidebar": "Contents",
   "toc_cell": false,
   "toc_position": {},
   "toc_section_display": true,
   "toc_window_display": false
  }
 },
 "nbformat": 4,
 "nbformat_minor": 2
}
