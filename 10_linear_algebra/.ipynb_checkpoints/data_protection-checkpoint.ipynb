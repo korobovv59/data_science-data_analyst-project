{
 "cells": [
  {
   "cell_type": "markdown",
   "metadata": {},
   "source": [
    "# Защита персональных данных клиентов"
   ]
  },
  {
   "cell_type": "markdown",
   "metadata": {},
   "source": [
    "Вам нужно защитить данные клиентов страховой компании «Хоть потоп». Разработайте такой метод преобразования данных, чтобы по ним было сложно восстановить персональную информацию. Обоснуйте корректность его работы.\n",
    "\n",
    "Нужно защитить данные, чтобы при преобразовании качество моделей машинного обучения не ухудшилось. Подбирать наилучшую модель не требуется."
   ]
  },
  {
   "cell_type": "markdown",
   "metadata": {},
   "source": [
    "## Загрузка данных"
   ]
  },
  {
   "cell_type": "code",
   "execution_count": 1,
   "metadata": {},
   "outputs": [],
   "source": [
    "import numpy as np\n",
    "import pandas as pd\n",
    "import warnings\n",
    "warnings.filterwarnings('ignore')\n",
    "\n",
    "from sklearn.linear_model import LinearRegression\n",
    "from sklearn.metrics import r2_score\n",
    "from sklearn.model_selection import train_test_split"
   ]
  },
  {
   "cell_type": "code",
   "execution_count": 2,
   "metadata": {},
   "outputs": [
    {
     "data": {
      "text/html": [
       "<div>\n",
       "<style scoped>\n",
       "    .dataframe tbody tr th:only-of-type {\n",
       "        vertical-align: middle;\n",
       "    }\n",
       "\n",
       "    .dataframe tbody tr th {\n",
       "        vertical-align: top;\n",
       "    }\n",
       "\n",
       "    .dataframe thead th {\n",
       "        text-align: right;\n",
       "    }\n",
       "</style>\n",
       "<table border=\"1\" class=\"dataframe\">\n",
       "  <thead>\n",
       "    <tr style=\"text-align: right;\">\n",
       "      <th></th>\n",
       "      <th>Пол</th>\n",
       "      <th>Возраст</th>\n",
       "      <th>Зарплата</th>\n",
       "      <th>Члены семьи</th>\n",
       "      <th>Страховые выплаты</th>\n",
       "    </tr>\n",
       "  </thead>\n",
       "  <tbody>\n",
       "    <tr>\n",
       "      <th>0</th>\n",
       "      <td>1</td>\n",
       "      <td>41.0</td>\n",
       "      <td>49600.0</td>\n",
       "      <td>1</td>\n",
       "      <td>0</td>\n",
       "    </tr>\n",
       "    <tr>\n",
       "      <th>1</th>\n",
       "      <td>0</td>\n",
       "      <td>46.0</td>\n",
       "      <td>38000.0</td>\n",
       "      <td>1</td>\n",
       "      <td>1</td>\n",
       "    </tr>\n",
       "    <tr>\n",
       "      <th>2</th>\n",
       "      <td>0</td>\n",
       "      <td>29.0</td>\n",
       "      <td>21000.0</td>\n",
       "      <td>0</td>\n",
       "      <td>0</td>\n",
       "    </tr>\n",
       "    <tr>\n",
       "      <th>3</th>\n",
       "      <td>0</td>\n",
       "      <td>21.0</td>\n",
       "      <td>41700.0</td>\n",
       "      <td>2</td>\n",
       "      <td>0</td>\n",
       "    </tr>\n",
       "    <tr>\n",
       "      <th>4</th>\n",
       "      <td>1</td>\n",
       "      <td>28.0</td>\n",
       "      <td>26100.0</td>\n",
       "      <td>0</td>\n",
       "      <td>0</td>\n",
       "    </tr>\n",
       "    <tr>\n",
       "      <th>...</th>\n",
       "      <td>...</td>\n",
       "      <td>...</td>\n",
       "      <td>...</td>\n",
       "      <td>...</td>\n",
       "      <td>...</td>\n",
       "    </tr>\n",
       "    <tr>\n",
       "      <th>4995</th>\n",
       "      <td>0</td>\n",
       "      <td>28.0</td>\n",
       "      <td>35700.0</td>\n",
       "      <td>2</td>\n",
       "      <td>0</td>\n",
       "    </tr>\n",
       "    <tr>\n",
       "      <th>4996</th>\n",
       "      <td>0</td>\n",
       "      <td>34.0</td>\n",
       "      <td>52400.0</td>\n",
       "      <td>1</td>\n",
       "      <td>0</td>\n",
       "    </tr>\n",
       "    <tr>\n",
       "      <th>4997</th>\n",
       "      <td>0</td>\n",
       "      <td>20.0</td>\n",
       "      <td>33900.0</td>\n",
       "      <td>2</td>\n",
       "      <td>0</td>\n",
       "    </tr>\n",
       "    <tr>\n",
       "      <th>4998</th>\n",
       "      <td>1</td>\n",
       "      <td>22.0</td>\n",
       "      <td>32700.0</td>\n",
       "      <td>3</td>\n",
       "      <td>0</td>\n",
       "    </tr>\n",
       "    <tr>\n",
       "      <th>4999</th>\n",
       "      <td>1</td>\n",
       "      <td>28.0</td>\n",
       "      <td>40600.0</td>\n",
       "      <td>1</td>\n",
       "      <td>0</td>\n",
       "    </tr>\n",
       "  </tbody>\n",
       "</table>\n",
       "<p>5000 rows × 5 columns</p>\n",
       "</div>"
      ],
      "text/plain": [
       "      Пол  Возраст  Зарплата  Члены семьи  Страховые выплаты\n",
       "0       1     41.0   49600.0            1                  0\n",
       "1       0     46.0   38000.0            1                  1\n",
       "2       0     29.0   21000.0            0                  0\n",
       "3       0     21.0   41700.0            2                  0\n",
       "4       1     28.0   26100.0            0                  0\n",
       "...   ...      ...       ...          ...                ...\n",
       "4995    0     28.0   35700.0            2                  0\n",
       "4996    0     34.0   52400.0            1                  0\n",
       "4997    0     20.0   33900.0            2                  0\n",
       "4998    1     22.0   32700.0            3                  0\n",
       "4999    1     28.0   40600.0            1                  0\n",
       "\n",
       "[5000 rows x 5 columns]"
      ]
     },
     "execution_count": 2,
     "metadata": {},
     "output_type": "execute_result"
    }
   ],
   "source": [
    "df = pd.read_csv('/datasets/insurance.csv')\n",
    "df"
   ]
  },
  {
   "cell_type": "code",
   "execution_count": 3,
   "metadata": {},
   "outputs": [
    {
     "name": "stdout",
     "output_type": "stream",
     "text": [
      "<class 'pandas.core.frame.DataFrame'>\n",
      "RangeIndex: 5000 entries, 0 to 4999\n",
      "Data columns (total 5 columns):\n",
      " #   Column             Non-Null Count  Dtype  \n",
      "---  ------             --------------  -----  \n",
      " 0   Пол                5000 non-null   int64  \n",
      " 1   Возраст            5000 non-null   float64\n",
      " 2   Зарплата           5000 non-null   float64\n",
      " 3   Члены семьи        5000 non-null   int64  \n",
      " 4   Страховые выплаты  5000 non-null   int64  \n",
      "dtypes: float64(2), int64(3)\n",
      "memory usage: 195.4 KB\n"
     ]
    }
   ],
   "source": [
    "df.info()"
   ]
  },
  {
   "cell_type": "code",
   "execution_count": 4,
   "metadata": {},
   "outputs": [
    {
     "data": {
      "text/plain": [
       "153"
      ]
     },
     "execution_count": 4,
     "metadata": {},
     "output_type": "execute_result"
    }
   ],
   "source": [
    "df.duplicated().sum()"
   ]
  },
  {
   "cell_type": "markdown",
   "metadata": {},
   "source": [
    "В качестве предобработки можно сделать: привести два столбца к int64 (возможно масштабировать столбец с зарплатой), названия к snake_case и избавиться от явных дубликатов.\n",
    "\n",
    "Но, думаю, для нашей задачи это лишнее."
   ]
  },
  {
   "cell_type": "markdown",
   "metadata": {},
   "source": [
    "## Умножение матриц"
   ]
  },
  {
   "cell_type": "markdown",
   "metadata": {},
   "source": [
    "В этом задании вы можете записывать формулы в *Jupyter Notebook.*\n",
    "\n",
    "Чтобы записать формулу внутри текста, окружите её символами доллара \\\\$; если снаружи —  двойными символами \\\\$\\\\$. Эти формулы записываются на языке вёрстки *LaTeX.* \n",
    "\n",
    "Для примера мы записали формулы линейной регрессии. Можете их скопировать и отредактировать, чтобы решить задачу.\n",
    "\n",
    "Работать в *LaTeX* необязательно."
   ]
  },
  {
   "cell_type": "markdown",
   "metadata": {},
   "source": [
    "Обозначения:\n",
    "\n",
    "- $X$ — матрица признаков (нулевой столбец состоит из единиц)\n",
    "\n",
    "- $y$ — вектор целевого признака\n",
    "\n",
    "- $P$ — матрица, на которую умножаются признаки\n",
    "\n",
    "- $w$ — вектор весов линейной регрессии (нулевой элемент равен сдвигу)"
   ]
  },
  {
   "cell_type": "markdown",
   "metadata": {},
   "source": [
    "Ответьте на вопрос и обоснуйте решение. \n",
    " Признаки умножают на обратимую матрицу. Изменится ли качество линейной регрессии? (Её можно обучить заново.)\n",
    " a. Изменится. Приведите примеры матриц.\n",
    " b. Не изменится. Укажите, как связаны параметры линейной регрессии в исходной задаче и в преобразованной."
   ]
  },
  {
   "cell_type": "markdown",
   "metadata": {},
   "source": [
    "Предсказания:\n",
    "\n",
    "$$\n",
    "a = Xw\n",
    "$$\n",
    "\n",
    "Задача обучения:\n",
    "\n",
    "$$\n",
    "w = \\arg\\min_w MSE(Xw, y)\n",
    "$$\n",
    "\n",
    "Формула обучения:\n",
    "\n",
    "$$\n",
    "w = (X^T X)^{-1} X^T y\n",
    "$$"
   ]
  },
  {
   "cell_type": "markdown",
   "metadata": {},
   "source": [
    "**Вопрос:** Признаки умножают на обратимую матрицу. Изменится ли качество линейной регрессии?\n",
    "\n",
    "**Ответ:** Не изменится.\n",
    "\n",
    "**Обоснование:** В исходной задаче параметры линейной регрессии будут заданы в базисной системе признаков. После преобразования параметры линейной регрессии будут заданы в новой базисной системе признаков. Однако значения параметров не изменятся, потому что признаки не изменились"
   ]
  },
  {
   "cell_type": "markdown",
   "metadata": {},
   "source": [
    "## Алгоритм преобразования"
   ]
  },
  {
   "cell_type": "markdown",
   "metadata": {},
   "source": [
    "**Алгоритм**\n",
    "* Обучение линейной регрессии на исходных данных для вычисления R2\n",
    "* Создадание обратимой матрицы 4 на 4 с рандомными значениями\n",
    "* Преобразование исходных признаков путем умножнения матриц и сравнение R2 до и после"
   ]
  },
  {
   "cell_type": "markdown",
   "metadata": {},
   "source": [
    "**Обоснование**\n",
    "\n",
    "Умножение признаков на обратимую матрицу не изменяет качество линейной регрессии, потому что оно не изменяет признаки. Обратимая матрица просто преобразует признаки в другую систему не изменяя их значения. Например, если мы имеем два признака x1 и x2, то обратимая матрица преобразует их в другие признаки y1 и y2, но значения этих признаков остаются прежними. Таким образом, качество линейной регрессии не изменится, потому что признаки по сути не изменились."
   ]
  },
  {
   "cell_type": "markdown",
   "metadata": {},
   "source": [
    "## Проверка алгоритма"
   ]
  },
  {
   "cell_type": "markdown",
   "metadata": {},
   "source": [
    "Нужно запрограммировать алгоритм применив матричные операции. Проверить отличается ли качество линейной регрессии до и после преобразования метрикой R2."
   ]
  },
  {
   "cell_type": "markdown",
   "metadata": {},
   "source": [
    "Обучим линейную регрессию на исходных данных и посчитаем R2:"
   ]
  },
  {
   "cell_type": "code",
   "execution_count": 5,
   "metadata": {
    "scrolled": true
   },
   "outputs": [
    {
     "name": "stdout",
     "output_type": "stream",
     "text": [
      "0.43728159584810344\n"
     ]
    }
   ],
   "source": [
    "features = df.drop(['Страховые выплаты'], axis=1)\n",
    "target = df['Страховые выплаты']\n",
    "\n",
    "features_train, features_test, target_train, target_test = train_test_split(\n",
    "    features, target, test_size=0.2, random_state=1984)\n",
    "\n",
    "model = LinearRegression()\n",
    "model.fit(features_train, target_train)\n",
    "predictions = model.predict(features_test)\n",
    "score_before = r2_score(target_test, predictions)\n",
    "print(score_before)"
   ]
  },
  {
   "cell_type": "markdown",
   "metadata": {},
   "source": [
    "Создадим матрицу 4 на 4 с рандомными значениями и посмотрим что получилось:"
   ]
  },
  {
   "cell_type": "code",
   "execution_count": 6,
   "metadata": {
    "scrolled": false
   },
   "outputs": [
    {
     "data": {
      "text/plain": [
       "array([[-2.28934611,  0.1412175 , -0.01142909, -1.32346136],\n",
       "       [ 0.02583293, -0.56543539,  0.1454064 , -1.70795115],\n",
       "       [ 0.76959793, -0.74113603, -1.50936221,  0.05244329],\n",
       "       [ 1.5389832 ,  1.01243797,  1.78061174,  0.81304166]])"
      ]
     },
     "execution_count": 6,
     "metadata": {},
     "output_type": "execute_result"
    }
   ],
   "source": [
    "random_matrix = np.random.normal(size=(4,4))\n",
    "random_matrix"
   ]
  },
  {
   "cell_type": "markdown",
   "metadata": {},
   "source": [
    "С помощью функции `np.linalg.inv()` проверим обратимость рандомной матрицы:"
   ]
  },
  {
   "cell_type": "code",
   "execution_count": 7,
   "metadata": {},
   "outputs": [
    {
     "data": {
      "text/plain": [
       "array([[ 0.16370522,  0.1582753 ,  0.66965742,  0.555771  ],\n",
       "       [ 2.16299487, -0.62600983,  2.34698491,  2.05446092],\n",
       "       [-1.00638759,  0.37614236, -1.50461089, -0.75097697],\n",
       "       [-0.7992852 , -0.34383282, -0.89496072, -0.73567947]])"
      ]
     },
     "execution_count": 7,
     "metadata": {},
     "output_type": "execute_result"
    }
   ],
   "source": [
    "random_matrix_inverse = np.linalg.inv(random_matrix)\n",
    "random_matrix_inverse"
   ]
  },
  {
   "cell_type": "markdown",
   "metadata": {},
   "source": [
    "Преобразуем исходные признаки путем умножнения матриц и сравним R2 до преобразования и после:"
   ]
  },
  {
   "cell_type": "code",
   "execution_count": 8,
   "metadata": {},
   "outputs": [
    {
     "name": "stdout",
     "output_type": "stream",
     "text": [
      "R2 до    0.43728159584810344\n",
      "R2 после 0.43728159584821724\n"
     ]
    }
   ],
   "source": [
    "features_after = features @ random_matrix\n",
    "target = df['Страховые выплаты']\n",
    "\n",
    "features_train, features_test, target_train, target_test = train_test_split(\n",
    "    features_after, target, test_size=0.2, random_state=1984)\n",
    "\n",
    "model = LinearRegression()\n",
    "model.fit(features_train, target_train)\n",
    "predictions = model.predict(features_test)\n",
    "score_after = r2_score(target_test, predictions)\n",
    "print('R2 до   ', score_before)\n",
    "print('R2 после', score_after)"
   ]
  },
  {
   "cell_type": "markdown",
   "metadata": {},
   "source": [
    "Можно считать значения не изменились.\n",
    "\n",
    "--------------------\n",
    "\n",
    "Для интереса посмотрим как изменились признаки после преобразования:"
   ]
  },
  {
   "cell_type": "code",
   "execution_count": 9,
   "metadata": {},
   "outputs": [
    {
     "data": {
      "text/html": [
       "<div>\n",
       "<style scoped>\n",
       "    .dataframe tbody tr th:only-of-type {\n",
       "        vertical-align: middle;\n",
       "    }\n",
       "\n",
       "    .dataframe tbody tr th {\n",
       "        vertical-align: top;\n",
       "    }\n",
       "\n",
       "    .dataframe thead th {\n",
       "        text-align: right;\n",
       "    }\n",
       "</style>\n",
       "<table border=\"1\" class=\"dataframe\">\n",
       "  <thead>\n",
       "    <tr style=\"text-align: right;\">\n",
       "      <th></th>\n",
       "      <th>Пол</th>\n",
       "      <th>Возраст</th>\n",
       "      <th>Зарплата</th>\n",
       "      <th>Члены семьи</th>\n",
       "    </tr>\n",
       "  </thead>\n",
       "  <tbody>\n",
       "    <tr>\n",
       "      <th>0</th>\n",
       "      <td>1</td>\n",
       "      <td>41.0</td>\n",
       "      <td>49600.0</td>\n",
       "      <td>1</td>\n",
       "    </tr>\n",
       "    <tr>\n",
       "      <th>1</th>\n",
       "      <td>0</td>\n",
       "      <td>46.0</td>\n",
       "      <td>38000.0</td>\n",
       "      <td>1</td>\n",
       "    </tr>\n",
       "    <tr>\n",
       "      <th>2</th>\n",
       "      <td>0</td>\n",
       "      <td>29.0</td>\n",
       "      <td>21000.0</td>\n",
       "      <td>0</td>\n",
       "    </tr>\n",
       "    <tr>\n",
       "      <th>3</th>\n",
       "      <td>0</td>\n",
       "      <td>21.0</td>\n",
       "      <td>41700.0</td>\n",
       "      <td>2</td>\n",
       "    </tr>\n",
       "    <tr>\n",
       "      <th>4</th>\n",
       "      <td>1</td>\n",
       "      <td>28.0</td>\n",
       "      <td>26100.0</td>\n",
       "      <td>0</td>\n",
       "    </tr>\n",
       "    <tr>\n",
       "      <th>...</th>\n",
       "      <td>...</td>\n",
       "      <td>...</td>\n",
       "      <td>...</td>\n",
       "      <td>...</td>\n",
       "    </tr>\n",
       "    <tr>\n",
       "      <th>4995</th>\n",
       "      <td>0</td>\n",
       "      <td>28.0</td>\n",
       "      <td>35700.0</td>\n",
       "      <td>2</td>\n",
       "    </tr>\n",
       "    <tr>\n",
       "      <th>4996</th>\n",
       "      <td>0</td>\n",
       "      <td>34.0</td>\n",
       "      <td>52400.0</td>\n",
       "      <td>1</td>\n",
       "    </tr>\n",
       "    <tr>\n",
       "      <th>4997</th>\n",
       "      <td>0</td>\n",
       "      <td>20.0</td>\n",
       "      <td>33900.0</td>\n",
       "      <td>2</td>\n",
       "    </tr>\n",
       "    <tr>\n",
       "      <th>4998</th>\n",
       "      <td>1</td>\n",
       "      <td>22.0</td>\n",
       "      <td>32700.0</td>\n",
       "      <td>3</td>\n",
       "    </tr>\n",
       "    <tr>\n",
       "      <th>4999</th>\n",
       "      <td>1</td>\n",
       "      <td>28.0</td>\n",
       "      <td>40600.0</td>\n",
       "      <td>1</td>\n",
       "    </tr>\n",
       "  </tbody>\n",
       "</table>\n",
       "<p>5000 rows × 4 columns</p>\n",
       "</div>"
      ],
      "text/plain": [
       "      Пол  Возраст  Зарплата  Члены семьи\n",
       "0       1     41.0   49600.0            1\n",
       "1       0     46.0   38000.0            1\n",
       "2       0     29.0   21000.0            0\n",
       "3       0     21.0   41700.0            2\n",
       "4       1     28.0   26100.0            0\n",
       "...   ...      ...       ...          ...\n",
       "4995    0     28.0   35700.0            2\n",
       "4996    0     34.0   52400.0            1\n",
       "4997    0     20.0   33900.0            2\n",
       "4998    1     22.0   32700.0            3\n",
       "4999    1     28.0   40600.0            1\n",
       "\n",
       "[5000 rows x 4 columns]"
      ]
     },
     "execution_count": 9,
     "metadata": {},
     "output_type": "execute_result"
    }
   ],
   "source": [
    "features"
   ]
  },
  {
   "cell_type": "code",
   "execution_count": 10,
   "metadata": {},
   "outputs": [
    {
     "data": {
      "text/html": [
       "<div>\n",
       "<style scoped>\n",
       "    .dataframe tbody tr th:only-of-type {\n",
       "        vertical-align: middle;\n",
       "    }\n",
       "\n",
       "    .dataframe tbody tr th {\n",
       "        vertical-align: top;\n",
       "    }\n",
       "\n",
       "    .dataframe thead th {\n",
       "        text-align: right;\n",
       "    }\n",
       "</style>\n",
       "<table border=\"1\" class=\"dataframe\">\n",
       "  <thead>\n",
       "    <tr style=\"text-align: right;\">\n",
       "      <th></th>\n",
       "      <th>0</th>\n",
       "      <th>1</th>\n",
       "      <th>2</th>\n",
       "      <th>3</th>\n",
       "    </tr>\n",
       "  </thead>\n",
       "  <tbody>\n",
       "    <tr>\n",
       "      <th>0</th>\n",
       "      <td>38172.366091</td>\n",
       "      <td>-36782.376522</td>\n",
       "      <td>-74856.634943</td>\n",
       "      <td>2530.650881</td>\n",
       "    </tr>\n",
       "    <tr>\n",
       "      <th>1</th>\n",
       "      <td>29247.448619</td>\n",
       "      <td>-28188.166913</td>\n",
       "      <td>-57347.294806</td>\n",
       "      <td>1915.092396</td>\n",
       "    </tr>\n",
       "    <tr>\n",
       "      <th>2</th>\n",
       "      <td>16162.305675</td>\n",
       "      <td>-15580.254357</td>\n",
       "      <td>-31692.389697</td>\n",
       "      <td>1051.778555</td>\n",
       "    </tr>\n",
       "    <tr>\n",
       "      <th>3</th>\n",
       "      <td>32095.854118</td>\n",
       "      <td>-30915.221919</td>\n",
       "      <td>-62933.789544</td>\n",
       "      <td>2152.644398</td>\n",
       "    </tr>\n",
       "    <tr>\n",
       "      <th>4</th>\n",
       "      <td>20084.939936</td>\n",
       "      <td>-19359.341482</td>\n",
       "      <td>-39390.293821</td>\n",
       "      <td>1319.623835</td>\n",
       "    </tr>\n",
       "    <tr>\n",
       "      <th>...</th>\n",
       "      <td>...</td>\n",
       "      <td>...</td>\n",
       "      <td>...</td>\n",
       "      <td>...</td>\n",
       "    </tr>\n",
       "    <tr>\n",
       "      <th>4995</th>\n",
       "      <td>27478.447372</td>\n",
       "      <td>-26472.363758</td>\n",
       "      <td>-53876.598418</td>\n",
       "      <td>1826.028986</td>\n",
       "    </tr>\n",
       "    <tr>\n",
       "      <th>4996</th>\n",
       "      <td>40329.348809</td>\n",
       "      <td>-38853.740589</td>\n",
       "      <td>-79083.855557</td>\n",
       "      <td>2690.771219</td>\n",
       "    </tr>\n",
       "    <tr>\n",
       "      <th>4997</th>\n",
       "      <td>26092.964435</td>\n",
       "      <td>-25133.795412</td>\n",
       "      <td>-51160.909685</td>\n",
       "      <td>1745.294669</td>\n",
       "    </tr>\n",
       "    <tr>\n",
       "      <th>4998</th>\n",
       "      <td>25168.748223</td>\n",
       "      <td>-24244.409386</td>\n",
       "      <td>-49347.615034</td>\n",
       "      <td>1678.436396</td>\n",
       "    </tr>\n",
       "    <tr>\n",
       "      <th>4999</th>\n",
       "      <td>31245.648897</td>\n",
       "      <td>-30104.801549</td>\n",
       "      <td>-61274.265305</td>\n",
       "      <td>2080.864615</td>\n",
       "    </tr>\n",
       "  </tbody>\n",
       "</table>\n",
       "<p>5000 rows × 4 columns</p>\n",
       "</div>"
      ],
      "text/plain": [
       "                 0             1             2            3\n",
       "0     38172.366091 -36782.376522 -74856.634943  2530.650881\n",
       "1     29247.448619 -28188.166913 -57347.294806  1915.092396\n",
       "2     16162.305675 -15580.254357 -31692.389697  1051.778555\n",
       "3     32095.854118 -30915.221919 -62933.789544  2152.644398\n",
       "4     20084.939936 -19359.341482 -39390.293821  1319.623835\n",
       "...            ...           ...           ...          ...\n",
       "4995  27478.447372 -26472.363758 -53876.598418  1826.028986\n",
       "4996  40329.348809 -38853.740589 -79083.855557  2690.771219\n",
       "4997  26092.964435 -25133.795412 -51160.909685  1745.294669\n",
       "4998  25168.748223 -24244.409386 -49347.615034  1678.436396\n",
       "4999  31245.648897 -30104.801549 -61274.265305  2080.864615\n",
       "\n",
       "[5000 rows x 4 columns]"
      ]
     },
     "execution_count": 10,
     "metadata": {},
     "output_type": "execute_result"
    }
   ],
   "source": [
    "features_after"
   ]
  },
  {
   "cell_type": "markdown",
   "metadata": {},
   "source": [
    "<div class=\"alert alert-block alert-success\">\n",
    "<b>Комментарий ревьюера👍:</b> Дополнительно можно попробовать декодировать данные обратно\n",
    "</div>"
   ]
  },
  {
   "cell_type": "markdown",
   "metadata": {},
   "source": [
    "Декодируем с помощью обратной матрицы, округлим значения и посмотрим на результат:"
   ]
  },
  {
   "cell_type": "code",
   "execution_count": 11,
   "metadata": {},
   "outputs": [
    {
     "name": "stdout",
     "output_type": "stream",
     "text": [
      "R2 до   0.43728159584810344\n",
      "R2 test 0.4372815958481273\n"
     ]
    },
    {
     "data": {
      "text/html": [
       "<div>\n",
       "<style scoped>\n",
       "    .dataframe tbody tr th:only-of-type {\n",
       "        vertical-align: middle;\n",
       "    }\n",
       "\n",
       "    .dataframe tbody tr th {\n",
       "        vertical-align: top;\n",
       "    }\n",
       "\n",
       "    .dataframe thead th {\n",
       "        text-align: right;\n",
       "    }\n",
       "</style>\n",
       "<table border=\"1\" class=\"dataframe\">\n",
       "  <thead>\n",
       "    <tr style=\"text-align: right;\">\n",
       "      <th></th>\n",
       "      <th>0</th>\n",
       "      <th>1</th>\n",
       "      <th>2</th>\n",
       "      <th>3</th>\n",
       "    </tr>\n",
       "  </thead>\n",
       "  <tbody>\n",
       "    <tr>\n",
       "      <th>0</th>\n",
       "      <td>1.0</td>\n",
       "      <td>41.0</td>\n",
       "      <td>49600.0</td>\n",
       "      <td>1.0</td>\n",
       "    </tr>\n",
       "    <tr>\n",
       "      <th>1</th>\n",
       "      <td>0.0</td>\n",
       "      <td>46.0</td>\n",
       "      <td>38000.0</td>\n",
       "      <td>1.0</td>\n",
       "    </tr>\n",
       "    <tr>\n",
       "      <th>2</th>\n",
       "      <td>0.0</td>\n",
       "      <td>29.0</td>\n",
       "      <td>21000.0</td>\n",
       "      <td>-0.0</td>\n",
       "    </tr>\n",
       "    <tr>\n",
       "      <th>3</th>\n",
       "      <td>0.0</td>\n",
       "      <td>21.0</td>\n",
       "      <td>41700.0</td>\n",
       "      <td>2.0</td>\n",
       "    </tr>\n",
       "    <tr>\n",
       "      <th>4</th>\n",
       "      <td>1.0</td>\n",
       "      <td>28.0</td>\n",
       "      <td>26100.0</td>\n",
       "      <td>-0.0</td>\n",
       "    </tr>\n",
       "    <tr>\n",
       "      <th>...</th>\n",
       "      <td>...</td>\n",
       "      <td>...</td>\n",
       "      <td>...</td>\n",
       "      <td>...</td>\n",
       "    </tr>\n",
       "    <tr>\n",
       "      <th>4995</th>\n",
       "      <td>0.0</td>\n",
       "      <td>28.0</td>\n",
       "      <td>35700.0</td>\n",
       "      <td>2.0</td>\n",
       "    </tr>\n",
       "    <tr>\n",
       "      <th>4996</th>\n",
       "      <td>-0.0</td>\n",
       "      <td>34.0</td>\n",
       "      <td>52400.0</td>\n",
       "      <td>1.0</td>\n",
       "    </tr>\n",
       "    <tr>\n",
       "      <th>4997</th>\n",
       "      <td>0.0</td>\n",
       "      <td>20.0</td>\n",
       "      <td>33900.0</td>\n",
       "      <td>2.0</td>\n",
       "    </tr>\n",
       "    <tr>\n",
       "      <th>4998</th>\n",
       "      <td>1.0</td>\n",
       "      <td>22.0</td>\n",
       "      <td>32700.0</td>\n",
       "      <td>3.0</td>\n",
       "    </tr>\n",
       "    <tr>\n",
       "      <th>4999</th>\n",
       "      <td>1.0</td>\n",
       "      <td>28.0</td>\n",
       "      <td>40600.0</td>\n",
       "      <td>1.0</td>\n",
       "    </tr>\n",
       "  </tbody>\n",
       "</table>\n",
       "<p>5000 rows × 4 columns</p>\n",
       "</div>"
      ],
      "text/plain": [
       "        0     1        2    3\n",
       "0     1.0  41.0  49600.0  1.0\n",
       "1     0.0  46.0  38000.0  1.0\n",
       "2     0.0  29.0  21000.0 -0.0\n",
       "3     0.0  21.0  41700.0  2.0\n",
       "4     1.0  28.0  26100.0 -0.0\n",
       "...   ...   ...      ...  ...\n",
       "4995  0.0  28.0  35700.0  2.0\n",
       "4996 -0.0  34.0  52400.0  1.0\n",
       "4997  0.0  20.0  33900.0  2.0\n",
       "4998  1.0  22.0  32700.0  3.0\n",
       "4999  1.0  28.0  40600.0  1.0\n",
       "\n",
       "[5000 rows x 4 columns]"
      ]
     },
     "execution_count": 11,
     "metadata": {},
     "output_type": "execute_result"
    }
   ],
   "source": [
    "features_final = features_after @ random_matrix_inverse\n",
    "target = df['Страховые выплаты']\n",
    "\n",
    "features_train, features_test, target_train, target_test = train_test_split(\n",
    "    features_final, target, test_size=0.2, random_state=1984)\n",
    "\n",
    "model = LinearRegression()\n",
    "model.fit(features_train, target_train)\n",
    "predictions = model.predict(features_test)\n",
    "score_final = r2_score(target_test, predictions)\n",
    "print('R2 до  ', score_before)\n",
    "print('R2 test', score_final)\n",
    "features_final = np.round(features_final) \n",
    "features_final"
   ]
  },
  {
   "cell_type": "markdown",
   "metadata": {},
   "source": [
    "Данные не испортились после преобразования."
   ]
  }
 ],
 "metadata": {
  "ExecuteTimeLog": [
   {
    "duration": 1063,
    "start_time": "2023-02-19T07:50:51.746Z"
   },
   {
    "duration": 105,
    "start_time": "2023-02-19T07:50:52.811Z"
   },
   {
    "duration": 29,
    "start_time": "2023-02-19T07:55:27.233Z"
   },
   {
    "duration": 14,
    "start_time": "2023-02-19T09:35:53.723Z"
   },
   {
    "duration": 12,
    "start_time": "2023-02-19T09:40:25.175Z"
   },
   {
    "duration": 12,
    "start_time": "2023-02-19T09:42:43.883Z"
   },
   {
    "duration": 12,
    "start_time": "2023-02-19T09:43:47.303Z"
   },
   {
    "duration": 54,
    "start_time": "2023-02-19T10:39:58.131Z"
   },
   {
    "duration": 5,
    "start_time": "2023-02-19T10:40:06.105Z"
   },
   {
    "duration": 5,
    "start_time": "2023-02-19T10:40:29.786Z"
   },
   {
    "duration": 5,
    "start_time": "2023-02-19T10:40:54.265Z"
   },
   {
    "duration": 5,
    "start_time": "2023-02-19T10:40:58.158Z"
   },
   {
    "duration": 5,
    "start_time": "2023-02-19T10:41:29.918Z"
   },
   {
    "duration": 90,
    "start_time": "2023-02-19T10:42:43.226Z"
   },
   {
    "duration": 8,
    "start_time": "2023-02-19T10:42:51.751Z"
   },
   {
    "duration": 8,
    "start_time": "2023-02-19T10:44:36.962Z"
   },
   {
    "duration": 6,
    "start_time": "2023-02-19T10:44:42.836Z"
   },
   {
    "duration": 3,
    "start_time": "2023-02-19T10:44:45.595Z"
   },
   {
    "duration": 5,
    "start_time": "2023-02-19T10:44:54.153Z"
   },
   {
    "duration": 13,
    "start_time": "2023-02-19T10:54:57.144Z"
   },
   {
    "duration": 12,
    "start_time": "2023-02-19T10:57:12.288Z"
   },
   {
    "duration": 13,
    "start_time": "2023-02-19T10:57:45.701Z"
   },
   {
    "duration": 15,
    "start_time": "2023-02-19T10:58:30.488Z"
   },
   {
    "duration": 13,
    "start_time": "2023-02-19T10:58:39.562Z"
   },
   {
    "duration": 1117,
    "start_time": "2023-02-19T10:59:13.038Z"
   },
   {
    "duration": 42,
    "start_time": "2023-02-19T10:59:14.156Z"
   },
   {
    "duration": 12,
    "start_time": "2023-02-19T10:59:14.200Z"
   },
   {
    "duration": 4,
    "start_time": "2023-02-19T10:59:14.214Z"
   },
   {
    "duration": 8,
    "start_time": "2023-02-19T10:59:14.220Z"
   },
   {
    "duration": 24,
    "start_time": "2023-02-19T10:59:14.229Z"
   },
   {
    "duration": 17,
    "start_time": "2023-02-19T10:59:14.327Z"
   },
   {
    "duration": 12,
    "start_time": "2023-02-19T10:59:14.426Z"
   },
   {
    "duration": 5,
    "start_time": "2023-02-19T11:12:40.610Z"
   },
   {
    "duration": 5,
    "start_time": "2023-02-19T11:12:43.088Z"
   },
   {
    "duration": 11,
    "start_time": "2023-02-19T12:33:42.989Z"
   },
   {
    "duration": 1122,
    "start_time": "2023-02-19T12:34:05.490Z"
   },
   {
    "duration": 46,
    "start_time": "2023-02-19T12:34:06.614Z"
   },
   {
    "duration": 14,
    "start_time": "2023-02-19T12:34:06.661Z"
   },
   {
    "duration": 5,
    "start_time": "2023-02-19T12:34:06.677Z"
   },
   {
    "duration": 8,
    "start_time": "2023-02-19T12:34:06.684Z"
   },
   {
    "duration": 44,
    "start_time": "2023-02-19T12:34:06.694Z"
   },
   {
    "duration": 96,
    "start_time": "2023-02-19T12:34:06.740Z"
   },
   {
    "duration": 36,
    "start_time": "2023-02-19T12:34:06.837Z"
   },
   {
    "duration": 1096,
    "start_time": "2023-02-19T18:04:35.974Z"
   },
   {
    "duration": 124,
    "start_time": "2023-02-19T18:04:37.072Z"
   },
   {
    "duration": 13,
    "start_time": "2023-02-19T18:04:37.198Z"
   },
   {
    "duration": 102,
    "start_time": "2023-02-19T18:04:37.213Z"
   },
   {
    "duration": 0,
    "start_time": "2023-02-19T18:04:37.317Z"
   },
   {
    "duration": 0,
    "start_time": "2023-02-19T18:04:37.318Z"
   },
   {
    "duration": 0,
    "start_time": "2023-02-19T18:04:37.319Z"
   },
   {
    "duration": 0,
    "start_time": "2023-02-19T18:04:37.320Z"
   },
   {
    "duration": 0,
    "start_time": "2023-02-19T18:04:37.321Z"
   },
   {
    "duration": 0,
    "start_time": "2023-02-19T18:04:37.322Z"
   },
   {
    "duration": 8,
    "start_time": "2023-02-19T18:04:51.084Z"
   },
   {
    "duration": 9,
    "start_time": "2023-02-19T18:04:56.316Z"
   },
   {
    "duration": 7,
    "start_time": "2023-02-19T18:05:04.724Z"
   },
   {
    "duration": 6,
    "start_time": "2023-02-19T18:05:08.894Z"
   },
   {
    "duration": 6,
    "start_time": "2023-02-19T18:05:16.082Z"
   },
   {
    "duration": 8,
    "start_time": "2023-02-19T18:21:21.877Z"
   },
   {
    "duration": 1000,
    "start_time": "2023-02-19T18:21:55.526Z"
   },
   {
    "duration": 43,
    "start_time": "2023-02-19T18:21:56.529Z"
   },
   {
    "duration": 11,
    "start_time": "2023-02-19T18:21:56.573Z"
   },
   {
    "duration": 5,
    "start_time": "2023-02-19T18:21:56.587Z"
   },
   {
    "duration": 13,
    "start_time": "2023-02-19T18:21:56.593Z"
   },
   {
    "duration": 5,
    "start_time": "2023-02-19T18:21:56.607Z"
   },
   {
    "duration": 48,
    "start_time": "2023-02-19T18:21:56.614Z"
   },
   {
    "duration": 15,
    "start_time": "2023-02-19T18:21:56.664Z"
   },
   {
    "duration": 21,
    "start_time": "2023-02-19T18:21:56.761Z"
   },
   {
    "duration": 11,
    "start_time": "2023-02-19T18:21:56.785Z"
   },
   {
    "duration": 20,
    "start_time": "2023-02-19T18:21:56.798Z"
   },
   {
    "duration": 21,
    "start_time": "2023-02-19T18:23:55.714Z"
   },
   {
    "duration": 21,
    "start_time": "2023-02-19T18:24:10.671Z"
   },
   {
    "duration": 21,
    "start_time": "2023-02-19T18:27:40.002Z"
   },
   {
    "duration": 109,
    "start_time": "2023-02-19T18:32:34.882Z"
   },
   {
    "duration": 8,
    "start_time": "2023-02-19T18:34:06.599Z"
   },
   {
    "duration": 9,
    "start_time": "2023-02-19T18:35:47.718Z"
   },
   {
    "duration": 21,
    "start_time": "2023-02-19T18:36:30.929Z"
   },
   {
    "duration": 10,
    "start_time": "2023-02-19T18:36:38.436Z"
   },
   {
    "duration": 1096,
    "start_time": "2023-02-19T18:36:42.626Z"
   },
   {
    "duration": 43,
    "start_time": "2023-02-19T18:36:43.724Z"
   },
   {
    "duration": 12,
    "start_time": "2023-02-19T18:36:43.769Z"
   },
   {
    "duration": 10,
    "start_time": "2023-02-19T18:36:43.783Z"
   },
   {
    "duration": 12,
    "start_time": "2023-02-19T18:36:43.795Z"
   },
   {
    "duration": 4,
    "start_time": "2023-02-19T18:36:43.808Z"
   },
   {
    "duration": 6,
    "start_time": "2023-02-19T18:36:43.814Z"
   },
   {
    "duration": 13,
    "start_time": "2023-02-19T18:36:43.862Z"
   },
   {
    "duration": 92,
    "start_time": "2023-02-19T18:36:43.877Z"
   },
   {
    "duration": 11,
    "start_time": "2023-02-19T18:36:43.972Z"
   },
   {
    "duration": 21,
    "start_time": "2023-02-19T18:36:43.985Z"
   },
   {
    "duration": 1038,
    "start_time": "2023-02-19T18:44:38.175Z"
   },
   {
    "duration": 46,
    "start_time": "2023-02-19T18:44:39.215Z"
   },
   {
    "duration": 10,
    "start_time": "2023-02-19T18:44:39.263Z"
   },
   {
    "duration": 8,
    "start_time": "2023-02-19T18:44:39.275Z"
   },
   {
    "duration": 14,
    "start_time": "2023-02-19T18:44:39.285Z"
   },
   {
    "duration": 15,
    "start_time": "2023-02-19T18:44:39.300Z"
   },
   {
    "duration": 10,
    "start_time": "2023-02-19T18:44:39.317Z"
   },
   {
    "duration": 50,
    "start_time": "2023-02-19T18:44:39.329Z"
   },
   {
    "duration": 89,
    "start_time": "2023-02-19T18:44:39.381Z"
   },
   {
    "duration": 9,
    "start_time": "2023-02-19T18:44:39.472Z"
   },
   {
    "duration": 23,
    "start_time": "2023-02-19T18:44:39.483Z"
   },
   {
    "duration": 1057,
    "start_time": "2023-02-19T18:45:50.505Z"
   },
   {
    "duration": 43,
    "start_time": "2023-02-19T18:45:51.564Z"
   },
   {
    "duration": 10,
    "start_time": "2023-02-19T18:45:51.609Z"
   },
   {
    "duration": 14,
    "start_time": "2023-02-19T18:45:51.621Z"
   },
   {
    "duration": 14,
    "start_time": "2023-02-19T18:45:51.636Z"
   },
   {
    "duration": 4,
    "start_time": "2023-02-19T18:45:51.652Z"
   },
   {
    "duration": 13,
    "start_time": "2023-02-19T18:45:51.657Z"
   },
   {
    "duration": 92,
    "start_time": "2023-02-19T18:45:51.672Z"
   },
   {
    "duration": 12,
    "start_time": "2023-02-19T18:45:51.766Z"
   },
   {
    "duration": 20,
    "start_time": "2023-02-19T18:45:51.861Z"
   },
   {
    "duration": 30,
    "start_time": "2023-02-19T18:45:51.883Z"
   },
   {
    "duration": 30,
    "start_time": "2023-02-19T18:47:17.107Z"
   },
   {
    "duration": 1049,
    "start_time": "2023-02-19T18:48:29.011Z"
   },
   {
    "duration": 61,
    "start_time": "2023-02-19T18:48:30.064Z"
   },
   {
    "duration": 14,
    "start_time": "2023-02-19T18:48:30.127Z"
   },
   {
    "duration": 6,
    "start_time": "2023-02-19T18:48:30.143Z"
   },
   {
    "duration": 15,
    "start_time": "2023-02-19T18:48:30.151Z"
   },
   {
    "duration": 25,
    "start_time": "2023-02-19T18:48:30.168Z"
   },
   {
    "duration": 13,
    "start_time": "2023-02-19T18:48:30.195Z"
   },
   {
    "duration": 62,
    "start_time": "2023-02-19T18:48:30.211Z"
   },
   {
    "duration": 90,
    "start_time": "2023-02-19T18:48:30.278Z"
   },
   {
    "duration": 44,
    "start_time": "2023-02-19T18:48:30.371Z"
   },
   {
    "duration": 47,
    "start_time": "2023-02-19T18:48:30.418Z"
   }
  ],
  "kernelspec": {
   "display_name": "Python 3 (ipykernel)",
   "language": "python",
   "name": "python3"
  },
  "language_info": {
   "codemirror_mode": {
    "name": "ipython",
    "version": 3
   },
   "file_extension": ".py",
   "mimetype": "text/x-python",
   "name": "python",
   "nbconvert_exporter": "python",
   "pygments_lexer": "ipython3",
   "version": "3.9.13"
  },
  "toc": {
   "base_numbering": 1,
   "nav_menu": {},
   "number_sections": true,
   "sideBar": true,
   "skip_h1_title": true,
   "title_cell": "Содержание",
   "title_sidebar": "Contents",
   "toc_cell": true,
   "toc_position": {
    "height": "calc(100% - 180px)",
    "left": "10px",
    "top": "150px",
    "width": "197.535px"
   },
   "toc_section_display": true,
   "toc_window_display": true
  }
 },
 "nbformat": 4,
 "nbformat_minor": 2
}
