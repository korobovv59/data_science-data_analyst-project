{
 "cells": [
  {
   "cell_type": "markdown",
   "metadata": {},
   "source": [
    "# Выбор локации для скважины"
   ]
  },
  {
   "cell_type": "markdown",
   "metadata": {},
   "source": [
    "Для добывающей компании «ГлавРосГосНефть» нужно решить, где бурить новую скважину.\n",
    "\n",
    "Нам предоставлены пробы нефти в трёх регионах: в каждом 10 000 месторождений, где измерили качество нефти и объём её запасов. Необходимо построить модель машинного обучения, которая поможет определить регион, где добыча принесёт наибольшую прибыль. И проанализировать возможную прибыль и риски техникой *Bootstrap.*\n",
    "\n",
    "Шаги для выбора локации:\n",
    "\n",
    "- В избранном регионе ищут месторождения, для каждого определяют значения признаков;\n",
    "- Строят модель и оценивают объём запасов;\n",
    "- Выбирают месторождения с самым высокими оценками значений. Количество месторождений зависит от бюджета компании и стоимости разработки одной скважины;\n",
    "- Прибыль равна суммарной прибыли отобранных месторождений."
   ]
  },
  {
   "cell_type": "markdown",
   "metadata": {},
   "source": [
    "Описание данных:\n",
    "\n",
    "* id — уникальный идентификатор скважины;\n",
    "* f0, f1, f2 — три признака точек (неважно, что они означают, но сами признаки значимы);\n",
    "* product — объём запасов в скважине (тыс. баррелей).\n",
    "\n",
    "Условия задачи:\n",
    "Для обучения модели подходит только линейная регрессия (остальные — недостаточно предсказуемые).\n",
    "\n",
    "При разведке региона исследуют 500 точек, из которых с помощью машинного обучения выбирают 200 лучших для разработки.\n",
    "\n",
    "Бюджет на разработку скважин в регионе — 10 млрд рублей.\n",
    "\n",
    "При нынешних ценах один баррель сырья приносит 450 рублей дохода. Доход с каждой единицы продукта составляет 450 тыс. рублей, поскольку объём указан в тысячах баррелей.\n",
    "\n",
    "После оценки рисков нужно оставить лишь те регионы, в которых вероятность убытков меньше 2.5%. Среди них выбирают регион с наибольшей средней прибылью.\n",
    "\n",
    "Данные синтетические: детали контрактов и характеристики месторождений не разглашаются."
   ]
  },
  {
   "cell_type": "markdown",
   "metadata": {},
   "source": [
    "## Загрузка и подготовка данных"
   ]
  },
  {
   "cell_type": "markdown",
   "metadata": {},
   "source": [
    "### Импортируем нужные библиотеки."
   ]
  },
  {
   "cell_type": "code",
   "execution_count": 1,
   "metadata": {},
   "outputs": [],
   "source": [
    "import pandas as pd\n",
    "import numpy as np\n",
    "from numpy.random import RandomState\n",
    "from scipy import stats as st\n",
    "from sklearn.linear_model import LinearRegression\n",
    "from sklearn.model_selection import train_test_split\n",
    "from sklearn.metrics import mean_squared_error\n",
    "pd.options.mode.chained_assignment = None\n",
    "import warnings\n",
    "warnings.filterwarnings('ignore')\n",
    "\n"
   ]
  },
  {
   "cell_type": "markdown",
   "metadata": {},
   "source": [
    "### Извлекаем данные."
   ]
  },
  {
   "cell_type": "code",
   "execution_count": 2,
   "metadata": {},
   "outputs": [],
   "source": [
    "data_1 = pd.read_csv('/datasets/geo_data_0.csv')\n",
    "data_2 = pd.read_csv('/datasets/geo_data_1.csv')\n",
    "data_3 = pd.read_csv('/datasets/geo_data_2.csv')"
   ]
  },
  {
   "cell_type": "markdown",
   "metadata": {},
   "source": [
    "### Обзор данных."
   ]
  },
  {
   "cell_type": "markdown",
   "metadata": {},
   "source": [
    "#### data_1"
   ]
  },
  {
   "cell_type": "code",
   "execution_count": 3,
   "metadata": {
    "scrolled": true
   },
   "outputs": [
    {
     "data": {
      "text/plain": [
       "0"
      ]
     },
     "metadata": {},
     "output_type": "display_data"
    },
    {
     "data": {
      "text/html": [
       "<div>\n",
       "<style scoped>\n",
       "    .dataframe tbody tr th:only-of-type {\n",
       "        vertical-align: middle;\n",
       "    }\n",
       "\n",
       "    .dataframe tbody tr th {\n",
       "        vertical-align: top;\n",
       "    }\n",
       "\n",
       "    .dataframe thead th {\n",
       "        text-align: right;\n",
       "    }\n",
       "</style>\n",
       "<table border=\"1\" class=\"dataframe\">\n",
       "  <thead>\n",
       "    <tr style=\"text-align: right;\">\n",
       "      <th></th>\n",
       "      <th>id</th>\n",
       "      <th>f0</th>\n",
       "      <th>f1</th>\n",
       "      <th>f2</th>\n",
       "      <th>product</th>\n",
       "    </tr>\n",
       "  </thead>\n",
       "  <tbody>\n",
       "    <tr>\n",
       "      <th>0</th>\n",
       "      <td>txEyH</td>\n",
       "      <td>0.705745</td>\n",
       "      <td>-0.497823</td>\n",
       "      <td>1.221170</td>\n",
       "      <td>105.280062</td>\n",
       "    </tr>\n",
       "    <tr>\n",
       "      <th>1</th>\n",
       "      <td>2acmU</td>\n",
       "      <td>1.334711</td>\n",
       "      <td>-0.340164</td>\n",
       "      <td>4.365080</td>\n",
       "      <td>73.037750</td>\n",
       "    </tr>\n",
       "    <tr>\n",
       "      <th>2</th>\n",
       "      <td>409Wp</td>\n",
       "      <td>1.022732</td>\n",
       "      <td>0.151990</td>\n",
       "      <td>1.419926</td>\n",
       "      <td>85.265647</td>\n",
       "    </tr>\n",
       "    <tr>\n",
       "      <th>3</th>\n",
       "      <td>iJLyR</td>\n",
       "      <td>-0.032172</td>\n",
       "      <td>0.139033</td>\n",
       "      <td>2.978566</td>\n",
       "      <td>168.620776</td>\n",
       "    </tr>\n",
       "    <tr>\n",
       "      <th>4</th>\n",
       "      <td>Xdl7t</td>\n",
       "      <td>1.988431</td>\n",
       "      <td>0.155413</td>\n",
       "      <td>4.751769</td>\n",
       "      <td>154.036647</td>\n",
       "    </tr>\n",
       "  </tbody>\n",
       "</table>\n",
       "</div>"
      ],
      "text/plain": [
       "      id        f0        f1        f2     product\n",
       "0  txEyH  0.705745 -0.497823  1.221170  105.280062\n",
       "1  2acmU  1.334711 -0.340164  4.365080   73.037750\n",
       "2  409Wp  1.022732  0.151990  1.419926   85.265647\n",
       "3  iJLyR -0.032172  0.139033  2.978566  168.620776\n",
       "4  Xdl7t  1.988431  0.155413  4.751769  154.036647"
      ]
     },
     "metadata": {},
     "output_type": "display_data"
    },
    {
     "name": "stdout",
     "output_type": "stream",
     "text": [
      "<class 'pandas.core.frame.DataFrame'>\n",
      "RangeIndex: 100000 entries, 0 to 99999\n",
      "Data columns (total 5 columns):\n",
      " #   Column   Non-Null Count   Dtype  \n",
      "---  ------   --------------   -----  \n",
      " 0   id       100000 non-null  object \n",
      " 1   f0       100000 non-null  float64\n",
      " 2   f1       100000 non-null  float64\n",
      " 3   f2       100000 non-null  float64\n",
      " 4   product  100000 non-null  float64\n",
      "dtypes: float64(4), object(1)\n",
      "memory usage: 3.8+ MB\n"
     ]
    }
   ],
   "source": [
    "display(data_1.duplicated().sum())\n",
    "display(data_1.head())\n",
    "data_1.info()"
   ]
  },
  {
   "cell_type": "markdown",
   "metadata": {},
   "source": [
    "#### data_2"
   ]
  },
  {
   "cell_type": "code",
   "execution_count": 4,
   "metadata": {
    "scrolled": true
   },
   "outputs": [
    {
     "data": {
      "text/plain": [
       "0"
      ]
     },
     "metadata": {},
     "output_type": "display_data"
    },
    {
     "data": {
      "text/html": [
       "<div>\n",
       "<style scoped>\n",
       "    .dataframe tbody tr th:only-of-type {\n",
       "        vertical-align: middle;\n",
       "    }\n",
       "\n",
       "    .dataframe tbody tr th {\n",
       "        vertical-align: top;\n",
       "    }\n",
       "\n",
       "    .dataframe thead th {\n",
       "        text-align: right;\n",
       "    }\n",
       "</style>\n",
       "<table border=\"1\" class=\"dataframe\">\n",
       "  <thead>\n",
       "    <tr style=\"text-align: right;\">\n",
       "      <th></th>\n",
       "      <th>id</th>\n",
       "      <th>f0</th>\n",
       "      <th>f1</th>\n",
       "      <th>f2</th>\n",
       "      <th>product</th>\n",
       "    </tr>\n",
       "  </thead>\n",
       "  <tbody>\n",
       "    <tr>\n",
       "      <th>0</th>\n",
       "      <td>kBEdx</td>\n",
       "      <td>-15.001348</td>\n",
       "      <td>-8.276000</td>\n",
       "      <td>-0.005876</td>\n",
       "      <td>3.179103</td>\n",
       "    </tr>\n",
       "    <tr>\n",
       "      <th>1</th>\n",
       "      <td>62mP7</td>\n",
       "      <td>14.272088</td>\n",
       "      <td>-3.475083</td>\n",
       "      <td>0.999183</td>\n",
       "      <td>26.953261</td>\n",
       "    </tr>\n",
       "    <tr>\n",
       "      <th>2</th>\n",
       "      <td>vyE1P</td>\n",
       "      <td>6.263187</td>\n",
       "      <td>-5.948386</td>\n",
       "      <td>5.001160</td>\n",
       "      <td>134.766305</td>\n",
       "    </tr>\n",
       "    <tr>\n",
       "      <th>3</th>\n",
       "      <td>KcrkZ</td>\n",
       "      <td>-13.081196</td>\n",
       "      <td>-11.506057</td>\n",
       "      <td>4.999415</td>\n",
       "      <td>137.945408</td>\n",
       "    </tr>\n",
       "    <tr>\n",
       "      <th>4</th>\n",
       "      <td>AHL4O</td>\n",
       "      <td>12.702195</td>\n",
       "      <td>-8.147433</td>\n",
       "      <td>5.004363</td>\n",
       "      <td>134.766305</td>\n",
       "    </tr>\n",
       "  </tbody>\n",
       "</table>\n",
       "</div>"
      ],
      "text/plain": [
       "      id         f0         f1        f2     product\n",
       "0  kBEdx -15.001348  -8.276000 -0.005876    3.179103\n",
       "1  62mP7  14.272088  -3.475083  0.999183   26.953261\n",
       "2  vyE1P   6.263187  -5.948386  5.001160  134.766305\n",
       "3  KcrkZ -13.081196 -11.506057  4.999415  137.945408\n",
       "4  AHL4O  12.702195  -8.147433  5.004363  134.766305"
      ]
     },
     "metadata": {},
     "output_type": "display_data"
    },
    {
     "name": "stdout",
     "output_type": "stream",
     "text": [
      "<class 'pandas.core.frame.DataFrame'>\n",
      "RangeIndex: 100000 entries, 0 to 99999\n",
      "Data columns (total 5 columns):\n",
      " #   Column   Non-Null Count   Dtype  \n",
      "---  ------   --------------   -----  \n",
      " 0   id       100000 non-null  object \n",
      " 1   f0       100000 non-null  float64\n",
      " 2   f1       100000 non-null  float64\n",
      " 3   f2       100000 non-null  float64\n",
      " 4   product  100000 non-null  float64\n",
      "dtypes: float64(4), object(1)\n",
      "memory usage: 3.8+ MB\n"
     ]
    }
   ],
   "source": [
    "display(data_2.duplicated().sum())\n",
    "display(data_2.head())\n",
    "data_2.info()"
   ]
  },
  {
   "cell_type": "markdown",
   "metadata": {},
   "source": [
    "#### data_3"
   ]
  },
  {
   "cell_type": "code",
   "execution_count": 5,
   "metadata": {},
   "outputs": [
    {
     "data": {
      "text/plain": [
       "0"
      ]
     },
     "metadata": {},
     "output_type": "display_data"
    },
    {
     "data": {
      "text/html": [
       "<div>\n",
       "<style scoped>\n",
       "    .dataframe tbody tr th:only-of-type {\n",
       "        vertical-align: middle;\n",
       "    }\n",
       "\n",
       "    .dataframe tbody tr th {\n",
       "        vertical-align: top;\n",
       "    }\n",
       "\n",
       "    .dataframe thead th {\n",
       "        text-align: right;\n",
       "    }\n",
       "</style>\n",
       "<table border=\"1\" class=\"dataframe\">\n",
       "  <thead>\n",
       "    <tr style=\"text-align: right;\">\n",
       "      <th></th>\n",
       "      <th>id</th>\n",
       "      <th>f0</th>\n",
       "      <th>f1</th>\n",
       "      <th>f2</th>\n",
       "      <th>product</th>\n",
       "    </tr>\n",
       "  </thead>\n",
       "  <tbody>\n",
       "    <tr>\n",
       "      <th>0</th>\n",
       "      <td>fwXo0</td>\n",
       "      <td>-1.146987</td>\n",
       "      <td>0.963328</td>\n",
       "      <td>-0.828965</td>\n",
       "      <td>27.758673</td>\n",
       "    </tr>\n",
       "    <tr>\n",
       "      <th>1</th>\n",
       "      <td>WJtFt</td>\n",
       "      <td>0.262778</td>\n",
       "      <td>0.269839</td>\n",
       "      <td>-2.530187</td>\n",
       "      <td>56.069697</td>\n",
       "    </tr>\n",
       "    <tr>\n",
       "      <th>2</th>\n",
       "      <td>ovLUW</td>\n",
       "      <td>0.194587</td>\n",
       "      <td>0.289035</td>\n",
       "      <td>-5.586433</td>\n",
       "      <td>62.871910</td>\n",
       "    </tr>\n",
       "    <tr>\n",
       "      <th>3</th>\n",
       "      <td>q6cA6</td>\n",
       "      <td>2.236060</td>\n",
       "      <td>-0.553760</td>\n",
       "      <td>0.930038</td>\n",
       "      <td>114.572842</td>\n",
       "    </tr>\n",
       "    <tr>\n",
       "      <th>4</th>\n",
       "      <td>WPMUX</td>\n",
       "      <td>-0.515993</td>\n",
       "      <td>1.716266</td>\n",
       "      <td>5.899011</td>\n",
       "      <td>149.600746</td>\n",
       "    </tr>\n",
       "  </tbody>\n",
       "</table>\n",
       "</div>"
      ],
      "text/plain": [
       "      id        f0        f1        f2     product\n",
       "0  fwXo0 -1.146987  0.963328 -0.828965   27.758673\n",
       "1  WJtFt  0.262778  0.269839 -2.530187   56.069697\n",
       "2  ovLUW  0.194587  0.289035 -5.586433   62.871910\n",
       "3  q6cA6  2.236060 -0.553760  0.930038  114.572842\n",
       "4  WPMUX -0.515993  1.716266  5.899011  149.600746"
      ]
     },
     "metadata": {},
     "output_type": "display_data"
    },
    {
     "name": "stdout",
     "output_type": "stream",
     "text": [
      "<class 'pandas.core.frame.DataFrame'>\n",
      "RangeIndex: 100000 entries, 0 to 99999\n",
      "Data columns (total 5 columns):\n",
      " #   Column   Non-Null Count   Dtype  \n",
      "---  ------   --------------   -----  \n",
      " 0   id       100000 non-null  object \n",
      " 1   f0       100000 non-null  float64\n",
      " 2   f1       100000 non-null  float64\n",
      " 3   f2       100000 non-null  float64\n",
      " 4   product  100000 non-null  float64\n",
      "dtypes: float64(4), object(1)\n",
      "memory usage: 3.8+ MB\n"
     ]
    }
   ],
   "source": [
    "display(data_3.duplicated().sum())\n",
    "display(data_3.head())\n",
    "data_3.info()"
   ]
  },
  {
   "cell_type": "markdown",
   "metadata": {},
   "source": [
    "### Предобработка данных."
   ]
  },
  {
   "cell_type": "markdown",
   "metadata": {},
   "source": [
    "#### Удаление неинформативных столбцов"
   ]
  },
  {
   "cell_type": "code",
   "execution_count": 6,
   "metadata": {},
   "outputs": [],
   "source": [
    "data_1 = data_1.drop(['id'], axis=1)\n",
    "data_2 = data_2.drop(['id'], axis=1)\n",
    "data_3 = data_3.drop(['id'], axis=1)"
   ]
  },
  {
   "cell_type": "markdown",
   "metadata": {},
   "source": [
    "### Вывод."
   ]
  },
  {
   "cell_type": "markdown",
   "metadata": {},
   "source": [
    "В данных отстутствуют пропуски, дубликаты. Возможно это сгенерированные данные или они каким-то образом стандартизированы. Также удалили столбцы `id` т.к. они не понадобятся для построения модели."
   ]
  },
  {
   "cell_type": "markdown",
   "metadata": {},
   "source": [
    "## Обучение и проверка модели"
   ]
  },
  {
   "cell_type": "markdown",
   "metadata": {},
   "source": [
    "Создадим функцию которая примет данные по одному региону, разделит данные на обучающую и валидационную выборки в соотношении 75:25, обучит модель и сделает предсказания на валидационной выборке, сохранит предсказания и правильные ответы на валидационной выборке, напечатает на экране средний запас предсказанного сырья и RMSE модели."
   ]
  },
  {
   "cell_type": "code",
   "execution_count": 7,
   "metadata": {},
   "outputs": [],
   "source": [
    "def full_lr(data):\n",
    "    features = data.drop(['product'], axis=1)\n",
    "    targett = data['product']\n",
    "    features_train, features_valid, target_train, target_valid = train_test_split(\n",
    "        features, targett,  test_size=0.25, random_state=12345)\n",
    "    \n",
    "    model = LinearRegression()\n",
    "    model.fit(features_train, target_train)\n",
    "    predictions = model.predict(features_valid)\n",
    "    predictions = pd.Series(predictions, index=features_valid.index)\n",
    "    rmse = mean_squared_error(target_valid, predictions)**0.5\n",
    "    mean_product = predictions.mean()\n",
    "    print(' Cредний запас предсказанного сырья:', mean_product,'\\n',\n",
    "                 'RMSE модели линейной регрессии на валидационной выборке:', rmse)\n",
    "    return (predictions, target_valid, mean_product, rmse)"
   ]
  },
  {
   "cell_type": "code",
   "execution_count": 8,
   "metadata": {},
   "outputs": [
    {
     "data": {
      "text/plain": [
       "92.50000000000001"
      ]
     },
     "execution_count": 8,
     "metadata": {},
     "output_type": "execute_result"
    }
   ],
   "source": [
    "data_1['product'].mean()"
   ]
  },
  {
   "cell_type": "code",
   "execution_count": 9,
   "metadata": {},
   "outputs": [
    {
     "name": "stdout",
     "output_type": "stream",
     "text": [
      " Cредний запас предсказанного сырья: 92.59256778438035 \n",
      " RMSE модели линейной регрессии на валидационной выборке: 37.5794217150813\n"
     ]
    },
    {
     "data": {
      "text/plain": [
       "(71751     95.894952\n",
       " 80493     77.572583\n",
       " 2655      77.892640\n",
       " 53233     90.175134\n",
       " 91141     70.510088\n",
       "             ...    \n",
       " 12581    103.037104\n",
       " 18456     85.403255\n",
       " 73035     61.509833\n",
       " 63834    118.180397\n",
       " 43558    118.169392\n",
       " Length: 25000, dtype: float64,\n",
       " 71751     10.038645\n",
       " 80493    114.551489\n",
       " 2655     132.603635\n",
       " 53233    169.072125\n",
       " 91141    122.325180\n",
       "             ...    \n",
       " 12581    170.116726\n",
       " 18456     93.632175\n",
       " 73035    127.352259\n",
       " 63834     99.782700\n",
       " 43558    177.821022\n",
       " Name: product, Length: 25000, dtype: float64,\n",
       " 92.59256778438035,\n",
       " 37.5794217150813)"
      ]
     },
     "execution_count": 9,
     "metadata": {},
     "output_type": "execute_result"
    }
   ],
   "source": [
    "full_lr(data_1)"
   ]
  },
  {
   "cell_type": "code",
   "execution_count": 10,
   "metadata": {},
   "outputs": [
    {
     "name": "stdout",
     "output_type": "stream",
     "text": [
      " Cредний запас предсказанного сырья: 68.728546895446 \n",
      " RMSE модели линейной регрессии на валидационной выборке: 0.893099286775617\n"
     ]
    },
    {
     "data": {
      "text/plain": [
       "(71751     82.663314\n",
       " 80493     54.431786\n",
       " 2655      29.748760\n",
       " 53233     53.552133\n",
       " 91141      1.243856\n",
       "             ...    \n",
       " 12581    136.869211\n",
       " 18456    110.693465\n",
       " 73035    137.879341\n",
       " 63834     83.761966\n",
       " 43558     53.958466\n",
       " Length: 25000, dtype: float64,\n",
       " 71751     80.859783\n",
       " 80493     53.906522\n",
       " 2655      30.132364\n",
       " 53233     53.906522\n",
       " 91141      0.000000\n",
       "             ...    \n",
       " 12581    137.945408\n",
       " 18456    110.992147\n",
       " 73035    137.945408\n",
       " 63834     84.038886\n",
       " 43558     53.906522\n",
       " Name: product, Length: 25000, dtype: float64,\n",
       " 68.728546895446,\n",
       " 0.893099286775617)"
      ]
     },
     "execution_count": 10,
     "metadata": {},
     "output_type": "execute_result"
    }
   ],
   "source": [
    "full_lr(data_2)"
   ]
  },
  {
   "cell_type": "code",
   "execution_count": 11,
   "metadata": {},
   "outputs": [
    {
     "name": "stdout",
     "output_type": "stream",
     "text": [
      " Cредний запас предсказанного сырья: 94.96504596800489 \n",
      " RMSE модели линейной регрессии на валидационной выборке: 40.02970873393434\n"
     ]
    },
    {
     "data": {
      "text/plain": [
       "(71751     93.599633\n",
       " 80493     75.105159\n",
       " 2655      90.066809\n",
       " 53233    105.162375\n",
       " 91141    115.303310\n",
       "             ...    \n",
       " 12581     78.765887\n",
       " 18456     95.603394\n",
       " 73035     99.407281\n",
       " 63834     77.779912\n",
       " 43558    129.032417\n",
       " Length: 25000, dtype: float64,\n",
       " 71751     61.212375\n",
       " 80493     41.850118\n",
       " 2655      57.776581\n",
       " 53233    100.053761\n",
       " 91141    109.897122\n",
       "             ...    \n",
       " 12581     28.492402\n",
       " 18456     21.431303\n",
       " 73035    125.487229\n",
       " 63834     99.422903\n",
       " 43558    127.445075\n",
       " Name: product, Length: 25000, dtype: float64,\n",
       " 94.96504596800489,\n",
       " 40.02970873393434)"
      ]
     },
     "execution_count": 11,
     "metadata": {},
     "output_type": "execute_result"
    }
   ],
   "source": [
    "full_lr(data_3)"
   ]
  },
  {
   "cell_type": "code",
   "execution_count": 12,
   "metadata": {},
   "outputs": [
    {
     "name": "stdout",
     "output_type": "stream",
     "text": [
      " Cредний запас предсказанного сырья: 92.59256778438035 \n",
      " RMSE модели линейной регрессии на валидационной выборке: 37.5794217150813\n",
      " Cредний запас предсказанного сырья: 68.728546895446 \n",
      " RMSE модели линейной регрессии на валидационной выборке: 0.893099286775617\n",
      " Cредний запас предсказанного сырья: 94.96504596800489 \n",
      " RMSE модели линейной регрессии на валидационной выборке: 40.02970873393434\n"
     ]
    }
   ],
   "source": [
    "predictions_1, target_valid_1, mean_product_1, rmse_1 = full_lr(data_1)\n",
    "predictions_2, target_valid_2, mean_product_2, rmse_2 = full_lr(data_2)\n",
    "predictions_3, target_valid_3, mean_product_3, rmse_3 = full_lr(data_3)\n"
   ]
  },
  {
   "cell_type": "markdown",
   "metadata": {},
   "source": [
    "Тут мы почитали средний запас предсказанного сырья - далее рассчитаем достаточный объём сырья для безубыточной разработки новой скважины и сравним с этими значениями.\n",
    "\n",
    "Среднеквадратичная ошибка показывает во втором регионе практически идеальный результат. Возможно синтетические данные специально синтезировали."
   ]
  },
  {
   "cell_type": "markdown",
   "metadata": {},
   "source": [
    "## Подготовка к расчёту прибыли"
   ]
  },
  {
   "cell_type": "markdown",
   "metadata": {},
   "source": [
    "### Все ключевые значения для расчётов сохраним в отдельных переменных."
   ]
  },
  {
   "cell_type": "code",
   "execution_count": 13,
   "metadata": {},
   "outputs": [],
   "source": [
    "BUDGET = 10000000000\n",
    "BARR_1K = 450000\n",
    "BARR = 450\n",
    "HOLE = 200"
   ]
  },
  {
   "cell_type": "markdown",
   "metadata": {},
   "source": [
    "### Рассчитаем достаточный объём сырья для безубыточной разработки новой скважины. Сравним полученный объём сырья со средним запасом в каждом регионе. "
   ]
  },
  {
   "cell_type": "code",
   "execution_count": 14,
   "metadata": {},
   "outputs": [
    {
     "data": {
      "text/plain": [
       "111.11111111111111"
      ]
     },
     "execution_count": 14,
     "metadata": {},
     "output_type": "execute_result"
    }
   ],
   "source": [
    "barr_min = BUDGET / BARR_1K / HOLE\n",
    "barr_min"
   ]
  },
  {
   "cell_type": "code",
   "execution_count": 15,
   "metadata": {},
   "outputs": [
    {
     "data": {
      "text/html": [
       "<div>\n",
       "<style scoped>\n",
       "    .dataframe tbody tr th:only-of-type {\n",
       "        vertical-align: middle;\n",
       "    }\n",
       "\n",
       "    .dataframe tbody tr th {\n",
       "        vertical-align: top;\n",
       "    }\n",
       "\n",
       "    .dataframe thead th {\n",
       "        text-align: right;\n",
       "    }\n",
       "</style>\n",
       "<table border=\"1\" class=\"dataframe\">\n",
       "  <thead>\n",
       "    <tr style=\"text-align: right;\">\n",
       "      <th></th>\n",
       "      <th>0</th>\n",
       "    </tr>\n",
       "  </thead>\n",
       "  <tbody>\n",
       "    <tr>\n",
       "      <th>Cредний запас предсказанного сырья data_1</th>\n",
       "      <td>92.592568</td>\n",
       "    </tr>\n",
       "    <tr>\n",
       "      <th>Cредний запас предсказанного сырья data_2</th>\n",
       "      <td>68.728547</td>\n",
       "    </tr>\n",
       "    <tr>\n",
       "      <th>Cредний запас предсказанного сырья data_3</th>\n",
       "      <td>94.965046</td>\n",
       "    </tr>\n",
       "    <tr>\n",
       "      <th>Объём сырья для безубыточной разработки</th>\n",
       "      <td>111.111111</td>\n",
       "    </tr>\n",
       "  </tbody>\n",
       "</table>\n",
       "</div>"
      ],
      "text/plain": [
       "                                                    0\n",
       "Cредний запас предсказанного сырья data_1   92.592568\n",
       "Cредний запас предсказанного сырья data_2   68.728547\n",
       "Cредний запас предсказанного сырья data_3   94.965046\n",
       "Объём сырья для безубыточной разработки    111.111111"
      ]
     },
     "execution_count": 15,
     "metadata": {},
     "output_type": "execute_result"
    }
   ],
   "source": [
    "product_mean = pd.DataFrame({'Cредний запас предсказанного сырья data_1': [mean_product_1],\n",
    "                             'Cредний запас предсказанного сырья data_2':[mean_product_2],\n",
    "                             'Cредний запас предсказанного сырья data_3': [mean_product_3],\n",
    "                             'Объём сырья для безубыточной разработки':[barr_min]}).T\n",
    "\n",
    "product_mean"
   ]
  },
  {
   "cell_type": "markdown",
   "metadata": {},
   "source": [
    "### Выводы по этапу подготовки расчёта прибыли."
   ]
  },
  {
   "cell_type": "markdown",
   "metadata": {},
   "source": [
    "Cредний запас предсказанного сырья не превышает объём сырья для безубыточной разработки. Чтобы выйти в плюс необходимо выбрать скважины с лучшими запасами."
   ]
  },
  {
   "cell_type": "markdown",
   "metadata": {},
   "source": [
    "## Функция для расчёта прибыли по выбранным скважинам и предсказаниям модели"
   ]
  },
  {
   "cell_type": "markdown",
   "metadata": {},
   "source": [
    "* Выберем скважины с максимальными значениями предсказаний. \n",
    "* Просуммируем целевое значение объёма сырья, соответствующее этим предсказаниям.\n",
    "* Рассчитаем прибыль для полученного объёма сырья."
   ]
  },
  {
   "cell_type": "code",
   "execution_count": 16,
   "metadata": {},
   "outputs": [],
   "source": [
    "def profit(target, predictions):\n",
    "    predictions_top = predictions.sort_values(ascending=False) \n",
    "    predictions_top = predictions_top[:HOLE]\n",
    "    top_200 = target[predictions_top.index].sum()\n",
    "    predictions_profit = top_200 * BARR_1K - BUDGET\n",
    "    return predictions_profit"
   ]
  },
  {
   "cell_type": "code",
   "execution_count": 17,
   "metadata": {},
   "outputs": [
    {
     "data": {
      "text/html": [
       "<div>\n",
       "<style scoped>\n",
       "    .dataframe tbody tr th:only-of-type {\n",
       "        vertical-align: middle;\n",
       "    }\n",
       "\n",
       "    .dataframe tbody tr th {\n",
       "        vertical-align: top;\n",
       "    }\n",
       "\n",
       "    .dataframe thead th {\n",
       "        text-align: right;\n",
       "    }\n",
       "</style>\n",
       "<table border=\"1\" class=\"dataframe\">\n",
       "  <thead>\n",
       "    <tr style=\"text-align: right;\">\n",
       "      <th></th>\n",
       "      <th>0</th>\n",
       "    </tr>\n",
       "  </thead>\n",
       "  <tbody>\n",
       "    <tr>\n",
       "      <th>Прибыль для максимального объёма сырья data_1</th>\n",
       "      <td>3.320826e+09</td>\n",
       "    </tr>\n",
       "    <tr>\n",
       "      <th>Прибыль для максимального объёма сырья data_2</th>\n",
       "      <td>2.415087e+09</td>\n",
       "    </tr>\n",
       "    <tr>\n",
       "      <th>Прибыль для максимального объёма сырья data_3</th>\n",
       "      <td>2.710350e+09</td>\n",
       "    </tr>\n",
       "  </tbody>\n",
       "</table>\n",
       "</div>"
      ],
      "text/plain": [
       "                                                          0\n",
       "Прибыль для максимального объёма сырья data_1  3.320826e+09\n",
       "Прибыль для максимального объёма сырья data_2  2.415087e+09\n",
       "Прибыль для максимального объёма сырья data_3  2.710350e+09"
      ]
     },
     "execution_count": 17,
     "metadata": {},
     "output_type": "execute_result"
    }
   ],
   "source": [
    "max_profit = pd.DataFrame({'Прибыль для максимального объёма сырья data_1': [profit(target_valid_1, predictions_1)],\n",
    "                           'Прибыль для максимального объёма сырья data_2': [profit(target_valid_2, predictions_2)],\n",
    "                           'Прибыль для максимального объёма сырья data_3': [profit(target_valid_3, predictions_3)]}).T\n",
    "\n",
    "max_profit"
   ]
  },
  {
   "cell_type": "markdown",
   "metadata": {},
   "source": [
    "## Расчет рисков и прибыли для каждого региона:"
   ]
  },
  {
   "cell_type": "markdown",
   "metadata": {},
   "source": [
    "* Применим технику Bootstrap с 1000 выборок, чтобы найти распределение прибыли.\n",
    "* Найдем среднюю прибыль, 95%-й доверительный интервал и риск убытков. Убыток — это отрицательная прибыль."
   ]
  },
  {
   "cell_type": "code",
   "execution_count": 18,
   "metadata": {},
   "outputs": [],
   "source": [
    "def bootstap(target, probabilities):\n",
    "    values = []\n",
    "    prob = pd.Series(probabilities, index=target.index)\n",
    "    state = np.random.RandomState(12345)\n",
    "    \n",
    "    for i in range(1000):\n",
    "        target_subsample = target.sample(n=500, replace=True, random_state=state)\n",
    "        probs_subsample = prob[target_subsample.index]\n",
    "        values.append(profit(target_subsample, probs_subsample))  \n",
    "     \n",
    "    values = pd.Series(values)\n",
    "    mean = values.mean()\n",
    "    confidence_interval = st.t.interval(0.95, len(values)-1, mean, values.sem())\n",
    "    lower = values.quantile(0.025)\n",
    "    upper = values.quantile(0.975)\n",
    "    risk = (values < 0).mean()\n",
    "    \n",
    "    print('Средняя прибыль: ', mean)\n",
    "    print('95% доверительный интервал: ', lower, '-', upper)\n",
    "    print ('Риск убытков:', risk)"
   ]
  },
  {
   "cell_type": "code",
   "execution_count": 19,
   "metadata": {
    "scrolled": false
   },
   "outputs": [
    {
     "name": "stdout",
     "output_type": "stream",
     "text": [
      "Средняя прибыль:  600735244.2611653\n",
      "95% доверительный интервал:  12948331.135115242 - 1231163605.7914982\n",
      "Риск убытков: 0.02\n"
     ]
    }
   ],
   "source": [
    "bootstap(target_valid_1, predictions_1)"
   ]
  },
  {
   "cell_type": "code",
   "execution_count": 20,
   "metadata": {},
   "outputs": [
    {
     "name": "stdout",
     "output_type": "stream",
     "text": [
      "Средняя прибыль:  665241058.2210723\n",
      "95% доверительный интервал:  157988481.31991574 - 1197641587.4631522\n",
      "Риск убытков: 0.003\n"
     ]
    }
   ],
   "source": [
    "bootstap(target_valid_2, predictions_2)"
   ]
  },
  {
   "cell_type": "code",
   "execution_count": 21,
   "metadata": {},
   "outputs": [
    {
     "name": "stdout",
     "output_type": "stream",
     "text": [
      "Средняя прибыль:  615559722.8409678\n",
      "95% доверительный интервал:  -12218495.237293953 - 1230644473.941316\n",
      "Риск убытков: 0.03\n"
     ]
    }
   ],
   "source": [
    "bootstap(target_valid_3, predictions_3)"
   ]
  },
  {
   "cell_type": "markdown",
   "metadata": {},
   "source": [
    "### Вывод"
   ]
  },
  {
   "cell_type": "markdown",
   "metadata": {},
   "source": [
    "В данном проекте мы загрузили и провели обзор данных. Также провели предобработку - удаление первых столбцов в связи с их неинформативностью.\n",
    "\n",
    "Разделили данные на тренировочную и валидационную выборки, провели обучение модели линейной регрессии.\n",
    "\n",
    "Выяснили что средний запас предсказанного сырья не превышает объём сырья для безубыточной разработки. Чтобы выйти в плюс необходимо выбирать скважины с лучшими запасами.\n",
    "\n",
    "Применили технику Bootstrap с 1000 выборок, чтобы найти распределение прибыли, среднюю прибыль, 95%-й доверительный интервал и риск убытков. \n",
    "\n",
    "Предложение, исходя из данных, выбрать для разработки месторождений второй регион т.к. он имеет самый высокий показатель средней прибыли и минимальный, из предложенных, риск убытков."
   ]
  }
 ],
 "metadata": {
  "ExecuteTimeLog": [
   {
    "duration": 69,
    "start_time": "2023-01-22T10:27:14.371Z"
   },
   {
    "duration": 6,
    "start_time": "2023-01-22T10:27:17.582Z"
   },
   {
    "duration": 1062,
    "start_time": "2023-01-22T10:27:22.724Z"
   },
   {
    "duration": 1446,
    "start_time": "2023-01-22T10:27:23.788Z"
   },
   {
    "duration": 18,
    "start_time": "2023-01-22T10:27:25.236Z"
   },
   {
    "duration": 11,
    "start_time": "2023-01-22T10:27:40.333Z"
   },
   {
    "duration": 8,
    "start_time": "2023-01-22T10:27:59.856Z"
   },
   {
    "duration": 14,
    "start_time": "2023-01-22T10:28:10.205Z"
   },
   {
    "duration": 19,
    "start_time": "2023-01-22T10:28:27.400Z"
   },
   {
    "duration": 19,
    "start_time": "2023-01-22T10:28:55.581Z"
   },
   {
    "duration": 19,
    "start_time": "2023-01-22T10:28:58.086Z"
   },
   {
    "duration": 130,
    "start_time": "2023-01-22T11:18:38.122Z"
   },
   {
    "duration": 63,
    "start_time": "2023-01-22T11:19:23.484Z"
   },
   {
    "duration": 85,
    "start_time": "2023-01-22T11:21:06.561Z"
   },
   {
    "duration": 7,
    "start_time": "2023-01-22T11:22:07.165Z"
   },
   {
    "duration": 14,
    "start_time": "2023-01-22T11:39:04.364Z"
   },
   {
    "duration": 11,
    "start_time": "2023-01-22T11:39:16.205Z"
   },
   {
    "duration": 65,
    "start_time": "2023-01-22T11:40:16.723Z"
   },
   {
    "duration": 14,
    "start_time": "2023-01-22T11:40:29.096Z"
   },
   {
    "duration": 1346,
    "start_time": "2023-01-22T11:43:58.560Z"
   },
   {
    "duration": 6,
    "start_time": "2023-01-22T12:22:17.276Z"
   },
   {
    "duration": 7,
    "start_time": "2023-01-22T12:24:24.478Z"
   },
   {
    "duration": 5,
    "start_time": "2023-01-22T12:25:27.428Z"
   },
   {
    "duration": 32,
    "start_time": "2023-01-22T12:25:43.485Z"
   },
   {
    "duration": 22,
    "start_time": "2023-01-22T12:26:29.840Z"
   },
   {
    "duration": 1099,
    "start_time": "2023-01-22T12:26:44.991Z"
   },
   {
    "duration": 385,
    "start_time": "2023-01-22T12:26:46.092Z"
   },
   {
    "duration": 72,
    "start_time": "2023-01-22T12:26:46.479Z"
   },
   {
    "duration": 65,
    "start_time": "2023-01-22T12:26:46.553Z"
   },
   {
    "duration": 73,
    "start_time": "2023-01-22T12:26:46.619Z"
   },
   {
    "duration": 19,
    "start_time": "2023-01-22T12:26:46.694Z"
   },
   {
    "duration": 6,
    "start_time": "2023-01-22T12:26:46.715Z"
   },
   {
    "duration": 270,
    "start_time": "2023-01-22T12:26:46.723Z"
   },
   {
    "duration": 0,
    "start_time": "2023-01-22T12:26:46.995Z"
   },
   {
    "duration": 5,
    "start_time": "2023-01-22T12:27:44.823Z"
   },
   {
    "duration": 105,
    "start_time": "2023-01-22T12:27:46.492Z"
   },
   {
    "duration": 5,
    "start_time": "2023-01-22T12:46:44.525Z"
   },
   {
    "duration": 34,
    "start_time": "2023-01-22T12:46:46.825Z"
   },
   {
    "duration": 7,
    "start_time": "2023-01-22T12:47:03.823Z"
   },
   {
    "duration": 128,
    "start_time": "2023-01-22T12:47:06.569Z"
   },
   {
    "duration": 4,
    "start_time": "2023-01-22T12:47:37.765Z"
   },
   {
    "duration": 5,
    "start_time": "2023-01-22T12:48:19.562Z"
   },
   {
    "duration": 32,
    "start_time": "2023-01-22T12:48:23.522Z"
   },
   {
    "duration": 4,
    "start_time": "2023-01-22T12:48:47.890Z"
   },
   {
    "duration": 6,
    "start_time": "2023-01-22T12:49:27.077Z"
   },
   {
    "duration": 71,
    "start_time": "2023-01-22T12:49:28.522Z"
   },
   {
    "duration": 4,
    "start_time": "2023-01-22T12:49:43.117Z"
   },
   {
    "duration": 30,
    "start_time": "2023-01-22T12:49:45.968Z"
   },
   {
    "duration": 5,
    "start_time": "2023-01-22T12:50:43.557Z"
   },
   {
    "duration": 34,
    "start_time": "2023-01-22T12:50:45.756Z"
   },
   {
    "duration": 4,
    "start_time": "2023-01-22T12:52:31.687Z"
   },
   {
    "duration": 33,
    "start_time": "2023-01-22T12:52:34.006Z"
   },
   {
    "duration": 4,
    "start_time": "2023-01-22T12:52:45.064Z"
   },
   {
    "duration": 74,
    "start_time": "2023-01-22T12:52:46.233Z"
   },
   {
    "duration": 5,
    "start_time": "2023-01-22T12:53:07.123Z"
   },
   {
    "duration": 96,
    "start_time": "2023-01-22T12:53:10.204Z"
   },
   {
    "duration": 5,
    "start_time": "2023-01-22T12:53:43.893Z"
   },
   {
    "duration": 65,
    "start_time": "2023-01-22T12:53:45.531Z"
   },
   {
    "duration": 5,
    "start_time": "2023-01-22T12:53:55.352Z"
   },
   {
    "duration": 42,
    "start_time": "2023-01-22T12:53:56.465Z"
   },
   {
    "duration": 4,
    "start_time": "2023-01-22T12:56:17.020Z"
   },
   {
    "duration": 36,
    "start_time": "2023-01-22T12:56:18.564Z"
   },
   {
    "duration": 6,
    "start_time": "2023-01-22T12:58:00.796Z"
   },
   {
    "duration": 84,
    "start_time": "2023-01-22T12:58:02.519Z"
   },
   {
    "duration": 6,
    "start_time": "2023-01-22T12:58:37.559Z"
   },
   {
    "duration": 65,
    "start_time": "2023-01-22T12:58:38.728Z"
   },
   {
    "duration": 5,
    "start_time": "2023-01-22T13:04:51.838Z"
   },
   {
    "duration": 89,
    "start_time": "2023-01-22T13:04:54.102Z"
   },
   {
    "duration": 31,
    "start_time": "2023-01-22T13:05:36.513Z"
   },
   {
    "duration": 31,
    "start_time": "2023-01-22T13:05:37.434Z"
   },
   {
    "duration": 5,
    "start_time": "2023-01-22T13:31:57.714Z"
   },
   {
    "duration": 4,
    "start_time": "2023-01-22T13:33:02.200Z"
   },
   {
    "duration": 30,
    "start_time": "2023-01-22T13:33:06.935Z"
   },
   {
    "duration": 4,
    "start_time": "2023-01-22T13:34:36.632Z"
   },
   {
    "duration": 114,
    "start_time": "2023-01-22T13:34:39.080Z"
   },
   {
    "duration": 63,
    "start_time": "2023-01-22T13:34:44.331Z"
   },
   {
    "duration": 49,
    "start_time": "2023-01-22T15:37:14.506Z"
   },
   {
    "duration": 2,
    "start_time": "2023-01-22T15:37:19.321Z"
   },
   {
    "duration": 9,
    "start_time": "2023-01-22T15:37:21.124Z"
   },
   {
    "duration": 6,
    "start_time": "2023-01-22T15:54:25.096Z"
   },
   {
    "duration": 3,
    "start_time": "2023-01-22T15:54:28.381Z"
   },
   {
    "duration": 4,
    "start_time": "2023-01-22T15:54:29.477Z"
   },
   {
    "duration": 7,
    "start_time": "2023-01-22T15:57:10.090Z"
   },
   {
    "duration": 1187,
    "start_time": "2023-01-22T16:05:09.931Z"
   },
   {
    "duration": 909,
    "start_time": "2023-01-22T16:05:11.121Z"
   },
   {
    "duration": 69,
    "start_time": "2023-01-22T16:05:12.031Z"
   },
   {
    "duration": 76,
    "start_time": "2023-01-22T16:05:12.102Z"
   },
   {
    "duration": 84,
    "start_time": "2023-01-22T16:05:12.181Z"
   },
   {
    "duration": 15,
    "start_time": "2023-01-22T16:05:12.267Z"
   },
   {
    "duration": 18,
    "start_time": "2023-01-22T16:05:12.284Z"
   },
   {
    "duration": 35,
    "start_time": "2023-01-22T16:05:12.304Z"
   },
   {
    "duration": 45,
    "start_time": "2023-01-22T16:05:12.341Z"
   },
   {
    "duration": 177,
    "start_time": "2023-01-22T16:05:12.388Z"
   },
   {
    "duration": 187,
    "start_time": "2023-01-22T16:05:12.567Z"
   },
   {
    "duration": 469,
    "start_time": "2023-01-22T16:05:12.757Z"
   },
   {
    "duration": 0,
    "start_time": "2023-01-22T16:05:13.228Z"
   },
   {
    "duration": 0,
    "start_time": "2023-01-22T16:05:13.240Z"
   },
   {
    "duration": 0,
    "start_time": "2023-01-22T16:05:13.241Z"
   },
   {
    "duration": 0,
    "start_time": "2023-01-22T16:05:13.242Z"
   },
   {
    "duration": 5,
    "start_time": "2023-01-22T16:07:30.702Z"
   },
   {
    "duration": 5,
    "start_time": "2023-01-22T16:07:32.727Z"
   },
   {
    "duration": 107,
    "start_time": "2023-01-22T16:07:34.636Z"
   },
   {
    "duration": 67,
    "start_time": "2023-01-22T16:07:35.873Z"
   },
   {
    "duration": 112,
    "start_time": "2023-01-22T16:07:39.328Z"
   },
   {
    "duration": 367,
    "start_time": "2023-01-22T16:07:43.283Z"
   },
   {
    "duration": 2,
    "start_time": "2023-01-22T16:08:00.075Z"
   },
   {
    "duration": 4,
    "start_time": "2023-01-22T16:08:01.101Z"
   },
   {
    "duration": 43,
    "start_time": "2023-01-22T16:08:02.445Z"
   },
   {
    "duration": 9,
    "start_time": "2023-01-22T16:08:13.798Z"
   },
   {
    "duration": 10,
    "start_time": "2023-01-22T16:09:08.281Z"
   },
   {
    "duration": 8,
    "start_time": "2023-01-22T16:09:32.376Z"
   },
   {
    "duration": 7,
    "start_time": "2023-01-22T16:10:10.347Z"
   },
   {
    "duration": 9,
    "start_time": "2023-01-22T16:11:47.204Z"
   },
   {
    "duration": 8,
    "start_time": "2023-01-22T16:48:39.441Z"
   },
   {
    "duration": 3,
    "start_time": "2023-01-22T16:48:42.550Z"
   },
   {
    "duration": 8,
    "start_time": "2023-01-22T16:48:44.527Z"
   },
   {
    "duration": 1175,
    "start_time": "2023-01-25T15:02:14.635Z"
   },
   {
    "duration": 1426,
    "start_time": "2023-01-25T15:02:15.812Z"
   },
   {
    "duration": 77,
    "start_time": "2023-01-25T15:02:17.239Z"
   },
   {
    "duration": 92,
    "start_time": "2023-01-25T15:02:17.318Z"
   },
   {
    "duration": 92,
    "start_time": "2023-01-25T15:02:17.412Z"
   },
   {
    "duration": 21,
    "start_time": "2023-01-25T15:02:17.506Z"
   },
   {
    "duration": 27,
    "start_time": "2023-01-25T15:02:17.530Z"
   },
   {
    "duration": 13,
    "start_time": "2023-01-25T15:02:17.559Z"
   },
   {
    "duration": 82,
    "start_time": "2023-01-25T15:02:17.575Z"
   },
   {
    "duration": 199,
    "start_time": "2023-01-25T15:02:17.661Z"
   },
   {
    "duration": 127,
    "start_time": "2023-01-25T15:02:17.862Z"
   },
   {
    "duration": 662,
    "start_time": "2023-01-25T15:02:17.992Z"
   },
   {
    "duration": 4,
    "start_time": "2023-01-25T15:02:18.657Z"
   },
   {
    "duration": 118,
    "start_time": "2023-01-25T15:02:18.752Z"
   },
   {
    "duration": 0,
    "start_time": "2023-01-25T15:02:18.871Z"
   },
   {
    "duration": 0,
    "start_time": "2023-01-25T15:02:18.873Z"
   },
   {
    "duration": 0,
    "start_time": "2023-01-25T15:02:18.874Z"
   },
   {
    "duration": 4,
    "start_time": "2023-01-25T15:02:44.430Z"
   },
   {
    "duration": 8,
    "start_time": "2023-01-25T15:03:32.451Z"
   },
   {
    "duration": 9,
    "start_time": "2023-01-25T15:04:16.935Z"
   },
   {
    "duration": 4,
    "start_time": "2023-01-25T15:19:46.439Z"
   },
   {
    "duration": 118,
    "start_time": "2023-01-25T15:19:51.435Z"
   },
   {
    "duration": 9,
    "start_time": "2023-01-25T15:36:52.263Z"
   },
   {
    "duration": 398,
    "start_time": "2023-01-25T15:41:42.376Z"
   },
   {
    "duration": 43,
    "start_time": "2023-01-25T15:47:22.582Z"
   },
   {
    "duration": 12,
    "start_time": "2023-01-25T15:47:27.383Z"
   },
   {
    "duration": 9,
    "start_time": "2023-01-25T15:47:39.400Z"
   },
   {
    "duration": 3,
    "start_time": "2023-01-25T16:21:27.819Z"
   },
   {
    "duration": 4,
    "start_time": "2023-01-25T16:21:48.402Z"
   },
   {
    "duration": 10,
    "start_time": "2023-01-25T16:23:29.777Z"
   },
   {
    "duration": 120,
    "start_time": "2023-01-25T16:24:29.743Z"
   },
   {
    "duration": 8,
    "start_time": "2023-01-25T16:25:04.523Z"
   },
   {
    "duration": 4,
    "start_time": "2023-01-25T16:25:44.804Z"
   },
   {
    "duration": 131,
    "start_time": "2023-01-25T16:25:46.929Z"
   },
   {
    "duration": 4,
    "start_time": "2023-01-25T16:25:59.627Z"
   },
   {
    "duration": 144,
    "start_time": "2023-01-25T16:26:00.716Z"
   },
   {
    "duration": 4,
    "start_time": "2023-01-25T16:26:29.423Z"
   },
   {
    "duration": 4,
    "start_time": "2023-01-25T16:26:58.207Z"
   },
   {
    "duration": 94,
    "start_time": "2023-01-25T16:27:00.562Z"
   },
   {
    "duration": 209,
    "start_time": "2023-01-25T16:27:04.464Z"
   },
   {
    "duration": 23,
    "start_time": "2023-01-25T16:27:09.659Z"
   },
   {
    "duration": 5,
    "start_time": "2023-01-25T16:27:24.134Z"
   },
   {
    "duration": 13,
    "start_time": "2023-01-25T16:27:27.075Z"
   },
   {
    "duration": 4,
    "start_time": "2023-01-25T16:30:04.882Z"
   },
   {
    "duration": 410,
    "start_time": "2023-01-25T16:32:58.062Z"
   },
   {
    "duration": 6,
    "start_time": "2023-01-25T16:33:06.319Z"
   },
   {
    "duration": 5,
    "start_time": "2023-01-25T16:33:12.708Z"
   },
   {
    "duration": 13,
    "start_time": "2023-01-25T16:33:29.238Z"
   },
   {
    "duration": 5,
    "start_time": "2023-01-25T16:33:54.407Z"
   },
   {
    "duration": 22,
    "start_time": "2023-01-25T16:33:56.460Z"
   },
   {
    "duration": 4,
    "start_time": "2023-01-25T16:34:33.408Z"
   },
   {
    "duration": 13,
    "start_time": "2023-01-25T16:34:36.290Z"
   },
   {
    "duration": 3,
    "start_time": "2023-01-25T16:34:50.747Z"
   },
   {
    "duration": 13,
    "start_time": "2023-01-25T16:34:53.433Z"
   },
   {
    "duration": 3,
    "start_time": "2023-01-25T16:36:34.504Z"
   },
   {
    "duration": 13,
    "start_time": "2023-01-25T16:36:36.371Z"
   },
   {
    "duration": 4,
    "start_time": "2023-01-25T16:36:47.519Z"
   },
   {
    "duration": 17,
    "start_time": "2023-01-25T16:36:49.263Z"
   },
   {
    "duration": 1112,
    "start_time": "2023-01-25T16:36:57.902Z"
   },
   {
    "duration": 428,
    "start_time": "2023-01-25T16:36:59.015Z"
   },
   {
    "duration": 94,
    "start_time": "2023-01-25T16:36:59.444Z"
   },
   {
    "duration": 81,
    "start_time": "2023-01-25T16:36:59.552Z"
   },
   {
    "duration": 95,
    "start_time": "2023-01-25T16:36:59.635Z"
   },
   {
    "duration": 29,
    "start_time": "2023-01-25T16:36:59.732Z"
   },
   {
    "duration": 19,
    "start_time": "2023-01-25T16:36:59.764Z"
   },
   {
    "duration": 178,
    "start_time": "2023-01-25T16:36:59.785Z"
   },
   {
    "duration": 192,
    "start_time": "2023-01-25T16:36:59.965Z"
   },
   {
    "duration": 190,
    "start_time": "2023-01-25T16:37:00.166Z"
   },
   {
    "duration": 500,
    "start_time": "2023-01-25T16:37:00.358Z"
   },
   {
    "duration": 9,
    "start_time": "2023-01-25T16:37:00.861Z"
   },
   {
    "duration": 105,
    "start_time": "2023-01-25T16:37:00.873Z"
   },
   {
    "duration": 27,
    "start_time": "2023-01-25T16:37:00.980Z"
   },
   {
    "duration": 119,
    "start_time": "2023-01-25T16:37:01.009Z"
   },
   {
    "duration": 0,
    "start_time": "2023-01-25T16:37:01.130Z"
   },
   {
    "duration": 0,
    "start_time": "2023-01-25T16:37:01.131Z"
   },
   {
    "duration": 0,
    "start_time": "2023-01-25T16:37:01.132Z"
   },
   {
    "duration": 0,
    "start_time": "2023-01-25T16:37:01.133Z"
   },
   {
    "duration": 1148,
    "start_time": "2023-01-25T16:37:56.129Z"
   },
   {
    "duration": 461,
    "start_time": "2023-01-25T16:37:57.280Z"
   },
   {
    "duration": 87,
    "start_time": "2023-01-25T16:37:57.743Z"
   },
   {
    "duration": 81,
    "start_time": "2023-01-25T16:37:57.832Z"
   },
   {
    "duration": 92,
    "start_time": "2023-01-25T16:37:57.916Z"
   },
   {
    "duration": 17,
    "start_time": "2023-01-25T16:37:58.010Z"
   },
   {
    "duration": 10,
    "start_time": "2023-01-25T16:37:58.029Z"
   },
   {
    "duration": 19,
    "start_time": "2023-01-25T16:37:58.040Z"
   },
   {
    "duration": 96,
    "start_time": "2023-01-25T16:37:58.062Z"
   },
   {
    "duration": 293,
    "start_time": "2023-01-25T16:37:58.161Z"
   },
   {
    "duration": 110,
    "start_time": "2023-01-25T16:37:58.456Z"
   },
   {
    "duration": 414,
    "start_time": "2023-01-25T16:37:58.654Z"
   },
   {
    "duration": 7,
    "start_time": "2023-01-25T16:37:59.070Z"
   },
   {
    "duration": 100,
    "start_time": "2023-01-25T16:37:59.154Z"
   },
   {
    "duration": 21,
    "start_time": "2023-01-25T16:37:59.256Z"
   },
   {
    "duration": 112,
    "start_time": "2023-01-25T16:37:59.279Z"
   },
   {
    "duration": 0,
    "start_time": "2023-01-25T16:37:59.393Z"
   },
   {
    "duration": 0,
    "start_time": "2023-01-25T16:37:59.394Z"
   },
   {
    "duration": 0,
    "start_time": "2023-01-25T16:37:59.395Z"
   },
   {
    "duration": 0,
    "start_time": "2023-01-25T16:37:59.396Z"
   },
   {
    "duration": 1180,
    "start_time": "2023-01-25T16:39:32.339Z"
   },
   {
    "duration": 385,
    "start_time": "2023-01-25T16:39:33.521Z"
   },
   {
    "duration": 85,
    "start_time": "2023-01-25T16:39:33.907Z"
   },
   {
    "duration": 82,
    "start_time": "2023-01-25T16:39:33.994Z"
   },
   {
    "duration": 87,
    "start_time": "2023-01-25T16:39:34.078Z"
   },
   {
    "duration": 17,
    "start_time": "2023-01-25T16:39:34.167Z"
   },
   {
    "duration": 8,
    "start_time": "2023-01-25T16:39:34.186Z"
   },
   {
    "duration": 18,
    "start_time": "2023-01-25T16:39:34.196Z"
   },
   {
    "duration": 149,
    "start_time": "2023-01-25T16:39:34.216Z"
   },
   {
    "duration": 115,
    "start_time": "2023-01-25T16:39:34.453Z"
   },
   {
    "duration": 189,
    "start_time": "2023-01-25T16:39:34.576Z"
   },
   {
    "duration": 500,
    "start_time": "2023-01-25T16:39:34.768Z"
   },
   {
    "duration": 86,
    "start_time": "2023-01-25T16:39:35.270Z"
   },
   {
    "duration": 12,
    "start_time": "2023-01-25T16:39:35.357Z"
   },
   {
    "duration": 82,
    "start_time": "2023-01-25T16:39:35.372Z"
   },
   {
    "duration": 16,
    "start_time": "2023-01-25T16:39:35.456Z"
   },
   {
    "duration": 10,
    "start_time": "2023-01-25T16:39:35.474Z"
   },
   {
    "duration": 128,
    "start_time": "2023-01-25T16:39:35.486Z"
   },
   {
    "duration": 0,
    "start_time": "2023-01-25T16:39:35.615Z"
   },
   {
    "duration": 0,
    "start_time": "2023-01-25T16:39:35.616Z"
   },
   {
    "duration": 4,
    "start_time": "2023-01-25T16:50:46.107Z"
   },
   {
    "duration": 12,
    "start_time": "2023-01-25T16:50:54.105Z"
   },
   {
    "duration": 5,
    "start_time": "2023-01-25T16:52:42.861Z"
   },
   {
    "duration": 13,
    "start_time": "2023-01-25T16:52:44.615Z"
   },
   {
    "duration": 6,
    "start_time": "2023-01-25T16:54:26.913Z"
   },
   {
    "duration": 4,
    "start_time": "2023-01-25T16:54:28.442Z"
   },
   {
    "duration": 1292,
    "start_time": "2023-01-25T16:56:42.418Z"
   },
   {
    "duration": 490,
    "start_time": "2023-01-25T16:56:43.712Z"
   },
   {
    "duration": 94,
    "start_time": "2023-01-25T16:56:44.204Z"
   },
   {
    "duration": 91,
    "start_time": "2023-01-25T16:56:44.300Z"
   },
   {
    "duration": 79,
    "start_time": "2023-01-25T16:56:44.393Z"
   },
   {
    "duration": 23,
    "start_time": "2023-01-25T16:56:44.484Z"
   },
   {
    "duration": 10,
    "start_time": "2023-01-25T16:56:44.509Z"
   },
   {
    "duration": 30,
    "start_time": "2023-01-25T16:56:44.521Z"
   },
   {
    "duration": 99,
    "start_time": "2023-01-25T16:56:44.556Z"
   },
   {
    "duration": 116,
    "start_time": "2023-01-25T16:56:44.677Z"
   },
   {
    "duration": 193,
    "start_time": "2023-01-25T16:56:44.867Z"
   },
   {
    "duration": 402,
    "start_time": "2023-01-25T16:56:45.067Z"
   },
   {
    "duration": 87,
    "start_time": "2023-01-25T16:56:45.473Z"
   },
   {
    "duration": 16,
    "start_time": "2023-01-25T16:56:45.577Z"
   },
   {
    "duration": 80,
    "start_time": "2023-01-25T16:56:45.595Z"
   },
   {
    "duration": 10,
    "start_time": "2023-01-25T16:56:45.676Z"
   },
   {
    "duration": 12,
    "start_time": "2023-01-25T16:56:45.688Z"
   },
   {
    "duration": 9,
    "start_time": "2023-01-25T16:56:45.702Z"
   },
   {
    "duration": 6,
    "start_time": "2023-01-25T16:56:45.713Z"
   },
   {
    "duration": 16,
    "start_time": "2023-01-25T16:56:45.721Z"
   },
   {
    "duration": 131,
    "start_time": "2023-01-25T16:56:45.739Z"
   },
   {
    "duration": 0,
    "start_time": "2023-01-25T16:56:45.872Z"
   },
   {
    "duration": 1222,
    "start_time": "2023-01-25T16:57:37.124Z"
   },
   {
    "duration": 427,
    "start_time": "2023-01-25T16:57:38.347Z"
   },
   {
    "duration": 80,
    "start_time": "2023-01-25T16:57:38.783Z"
   },
   {
    "duration": 67,
    "start_time": "2023-01-25T16:57:38.869Z"
   },
   {
    "duration": 74,
    "start_time": "2023-01-25T16:57:38.938Z"
   },
   {
    "duration": 14,
    "start_time": "2023-01-25T16:57:39.014Z"
   },
   {
    "duration": 5,
    "start_time": "2023-01-25T16:57:39.029Z"
   },
   {
    "duration": 13,
    "start_time": "2023-01-25T16:57:39.053Z"
   },
   {
    "duration": 94,
    "start_time": "2023-01-25T16:57:39.067Z"
   },
   {
    "duration": 117,
    "start_time": "2023-01-25T16:57:39.170Z"
   },
   {
    "duration": 135,
    "start_time": "2023-01-25T16:57:39.358Z"
   },
   {
    "duration": 505,
    "start_time": "2023-01-25T16:57:39.557Z"
   },
   {
    "duration": 6,
    "start_time": "2023-01-25T16:57:40.064Z"
   },
   {
    "duration": 32,
    "start_time": "2023-01-25T16:57:40.072Z"
   },
   {
    "duration": 11,
    "start_time": "2023-01-25T16:57:40.106Z"
   },
   {
    "duration": 15,
    "start_time": "2023-01-25T16:57:40.119Z"
   },
   {
    "duration": 20,
    "start_time": "2023-01-25T16:57:40.135Z"
   },
   {
    "duration": 33,
    "start_time": "2023-01-25T16:57:40.157Z"
   },
   {
    "duration": 6,
    "start_time": "2023-01-25T16:57:40.192Z"
   },
   {
    "duration": 12,
    "start_time": "2023-01-25T16:57:40.201Z"
   },
   {
    "duration": 112,
    "start_time": "2023-01-25T16:57:40.215Z"
   },
   {
    "duration": 0,
    "start_time": "2023-01-25T16:57:40.329Z"
   },
   {
    "duration": 10,
    "start_time": "2023-01-25T17:07:10.856Z"
   },
   {
    "duration": 8,
    "start_time": "2023-01-25T17:07:14.446Z"
   },
   {
    "duration": 5,
    "start_time": "2023-01-25T17:37:28.677Z"
   },
   {
    "duration": 14,
    "start_time": "2023-01-25T17:39:35.349Z"
   },
   {
    "duration": 16,
    "start_time": "2023-01-25T17:41:16.027Z"
   },
   {
    "duration": 10,
    "start_time": "2023-01-25T17:41:58.331Z"
   },
   {
    "duration": 4,
    "start_time": "2023-01-25T17:42:09.196Z"
   },
   {
    "duration": 11,
    "start_time": "2023-01-25T17:44:14.138Z"
   },
   {
    "duration": 4,
    "start_time": "2023-01-25T17:46:45.437Z"
   },
   {
    "duration": 1071,
    "start_time": "2023-01-26T15:05:21.334Z"
   },
   {
    "duration": 1513,
    "start_time": "2023-01-26T15:05:22.407Z"
   },
   {
    "duration": 76,
    "start_time": "2023-01-26T15:05:23.922Z"
   },
   {
    "duration": 64,
    "start_time": "2023-01-26T15:05:24.001Z"
   },
   {
    "duration": 72,
    "start_time": "2023-01-26T15:05:24.083Z"
   },
   {
    "duration": 31,
    "start_time": "2023-01-26T15:05:24.157Z"
   },
   {
    "duration": 23,
    "start_time": "2023-01-26T15:05:24.190Z"
   },
   {
    "duration": 32,
    "start_time": "2023-01-26T15:05:24.215Z"
   },
   {
    "duration": 48,
    "start_time": "2023-01-26T15:05:24.249Z"
   },
   {
    "duration": 122,
    "start_time": "2023-01-26T15:05:24.382Z"
   },
   {
    "duration": 195,
    "start_time": "2023-01-26T15:05:24.505Z"
   },
   {
    "duration": 584,
    "start_time": "2023-01-26T15:05:24.702Z"
   },
   {
    "duration": 95,
    "start_time": "2023-01-26T15:05:25.288Z"
   },
   {
    "duration": 106,
    "start_time": "2023-01-26T15:05:25.385Z"
   },
   {
    "duration": 51,
    "start_time": "2023-01-26T15:05:25.492Z"
   },
   {
    "duration": 47,
    "start_time": "2023-01-26T15:05:25.545Z"
   },
   {
    "duration": 17,
    "start_time": "2023-01-26T15:05:25.594Z"
   },
   {
    "duration": 18,
    "start_time": "2023-01-26T15:05:25.612Z"
   },
   {
    "duration": 29,
    "start_time": "2023-01-26T15:05:25.632Z"
   },
   {
    "duration": 20,
    "start_time": "2023-01-26T15:05:25.663Z"
   },
   {
    "duration": 25,
    "start_time": "2023-01-26T15:05:25.684Z"
   },
   {
    "duration": 20,
    "start_time": "2023-01-26T15:05:25.711Z"
   },
   {
    "duration": 23,
    "start_time": "2023-01-26T15:05:25.732Z"
   },
   {
    "duration": 134,
    "start_time": "2023-01-26T15:05:25.757Z"
   },
   {
    "duration": 13,
    "start_time": "2023-01-26T15:05:47.047Z"
   },
   {
    "duration": 5,
    "start_time": "2023-01-26T15:08:02.710Z"
   },
   {
    "duration": 23,
    "start_time": "2023-01-26T15:08:06.021Z"
   },
   {
    "duration": 1157,
    "start_time": "2023-01-26T15:09:17.299Z"
   },
   {
    "duration": 408,
    "start_time": "2023-01-26T15:09:18.458Z"
   },
   {
    "duration": 80,
    "start_time": "2023-01-26T15:09:18.868Z"
   },
   {
    "duration": 84,
    "start_time": "2023-01-26T15:09:18.951Z"
   },
   {
    "duration": 82,
    "start_time": "2023-01-26T15:09:19.037Z"
   },
   {
    "duration": 16,
    "start_time": "2023-01-26T15:09:19.121Z"
   },
   {
    "duration": 56,
    "start_time": "2023-01-26T15:09:19.140Z"
   },
   {
    "duration": 36,
    "start_time": "2023-01-26T15:09:19.198Z"
   },
   {
    "duration": 51,
    "start_time": "2023-01-26T15:09:19.235Z"
   },
   {
    "duration": 199,
    "start_time": "2023-01-26T15:09:19.288Z"
   },
   {
    "duration": 117,
    "start_time": "2023-01-26T15:09:19.499Z"
   },
   {
    "duration": 405,
    "start_time": "2023-01-26T15:09:19.682Z"
   },
   {
    "duration": 5,
    "start_time": "2023-01-26T15:09:20.089Z"
   },
   {
    "duration": 102,
    "start_time": "2023-01-26T15:09:20.097Z"
   },
   {
    "duration": 28,
    "start_time": "2023-01-26T15:09:20.282Z"
   },
   {
    "duration": 15,
    "start_time": "2023-01-26T15:09:20.312Z"
   },
   {
    "duration": 25,
    "start_time": "2023-01-26T15:09:20.329Z"
   },
   {
    "duration": 15,
    "start_time": "2023-01-26T15:09:20.356Z"
   },
   {
    "duration": 7,
    "start_time": "2023-01-26T15:09:20.372Z"
   },
   {
    "duration": 33,
    "start_time": "2023-01-26T15:09:20.381Z"
   },
   {
    "duration": 8,
    "start_time": "2023-01-26T15:09:20.415Z"
   },
   {
    "duration": 8,
    "start_time": "2023-01-26T15:09:20.424Z"
   },
   {
    "duration": 105,
    "start_time": "2023-01-26T15:09:20.434Z"
   },
   {
    "duration": 0,
    "start_time": "2023-01-26T15:09:20.544Z"
   },
   {
    "duration": 0,
    "start_time": "2023-01-26T15:09:20.545Z"
   },
   {
    "duration": 7,
    "start_time": "2023-01-26T15:43:34.835Z"
   },
   {
    "duration": 14,
    "start_time": "2023-01-26T15:43:36.986Z"
   },
   {
    "duration": 9,
    "start_time": "2023-01-26T15:43:50.388Z"
   },
   {
    "duration": 72,
    "start_time": "2023-01-26T15:45:22.293Z"
   },
   {
    "duration": 20,
    "start_time": "2023-01-26T15:45:29.337Z"
   },
   {
    "duration": 19,
    "start_time": "2023-01-26T15:45:51.290Z"
   },
   {
    "duration": 20,
    "start_time": "2023-01-26T15:46:16.782Z"
   },
   {
    "duration": 8,
    "start_time": "2023-01-26T16:02:13.086Z"
   },
   {
    "duration": 12,
    "start_time": "2023-01-26T16:03:14.269Z"
   },
   {
    "duration": 7,
    "start_time": "2023-01-26T16:05:00.239Z"
   },
   {
    "duration": 13,
    "start_time": "2023-01-26T16:05:01.931Z"
   },
   {
    "duration": 6,
    "start_time": "2023-01-26T16:05:36.724Z"
   },
   {
    "duration": 15,
    "start_time": "2023-01-26T16:05:38.717Z"
   },
   {
    "duration": 6,
    "start_time": "2023-01-26T16:06:15.160Z"
   },
   {
    "duration": 6,
    "start_time": "2023-01-26T16:06:18.530Z"
   },
   {
    "duration": 767,
    "start_time": "2023-01-26T16:06:19.646Z"
   },
   {
    "duration": 6,
    "start_time": "2023-01-26T16:07:35.360Z"
   },
   {
    "duration": 731,
    "start_time": "2023-01-26T16:07:36.928Z"
   },
   {
    "duration": 5,
    "start_time": "2023-01-26T16:08:09.066Z"
   },
   {
    "duration": 757,
    "start_time": "2023-01-26T16:08:09.766Z"
   },
   {
    "duration": 6,
    "start_time": "2023-01-26T16:09:07.429Z"
   },
   {
    "duration": 752,
    "start_time": "2023-01-26T16:09:08.434Z"
   },
   {
    "duration": 5,
    "start_time": "2023-01-26T16:24:14.953Z"
   },
   {
    "duration": 811,
    "start_time": "2023-01-26T16:24:16.122Z"
   },
   {
    "duration": 5,
    "start_time": "2023-01-26T16:24:54.266Z"
   },
   {
    "duration": 683,
    "start_time": "2023-01-26T16:24:54.840Z"
   },
   {
    "duration": 6,
    "start_time": "2023-01-26T16:27:14.609Z"
   },
   {
    "duration": 747,
    "start_time": "2023-01-26T16:27:15.177Z"
   },
   {
    "duration": 1082,
    "start_time": "2023-01-26T16:28:50.687Z"
   },
   {
    "duration": 356,
    "start_time": "2023-01-26T16:28:51.771Z"
   },
   {
    "duration": 74,
    "start_time": "2023-01-26T16:28:52.129Z"
   },
   {
    "duration": 76,
    "start_time": "2023-01-26T16:28:52.206Z"
   },
   {
    "duration": 60,
    "start_time": "2023-01-26T16:28:52.283Z"
   },
   {
    "duration": 15,
    "start_time": "2023-01-26T16:28:52.345Z"
   },
   {
    "duration": 23,
    "start_time": "2023-01-26T16:28:52.361Z"
   },
   {
    "duration": 9,
    "start_time": "2023-01-26T16:28:52.386Z"
   },
   {
    "duration": 89,
    "start_time": "2023-01-26T16:28:52.397Z"
   },
   {
    "duration": 194,
    "start_time": "2023-01-26T16:28:52.489Z"
   },
   {
    "duration": 198,
    "start_time": "2023-01-26T16:28:52.684Z"
   },
   {
    "duration": 505,
    "start_time": "2023-01-26T16:28:52.884Z"
   },
   {
    "duration": 91,
    "start_time": "2023-01-26T16:28:53.391Z"
   },
   {
    "duration": 98,
    "start_time": "2023-01-26T16:28:53.484Z"
   },
   {
    "duration": 7,
    "start_time": "2023-01-26T16:28:53.584Z"
   },
   {
    "duration": 10,
    "start_time": "2023-01-26T16:28:53.592Z"
   },
   {
    "duration": 9,
    "start_time": "2023-01-26T16:28:53.603Z"
   },
   {
    "duration": 7,
    "start_time": "2023-01-26T16:28:53.613Z"
   },
   {
    "duration": 7,
    "start_time": "2023-01-26T16:28:53.622Z"
   },
   {
    "duration": 15,
    "start_time": "2023-01-26T16:28:53.630Z"
   },
   {
    "duration": 7,
    "start_time": "2023-01-26T16:28:53.647Z"
   },
   {
    "duration": 29,
    "start_time": "2023-01-26T16:28:53.655Z"
   },
   {
    "duration": 6,
    "start_time": "2023-01-26T16:28:53.686Z"
   },
   {
    "duration": 775,
    "start_time": "2023-01-26T16:28:53.693Z"
   },
   {
    "duration": 5,
    "start_time": "2023-01-26T16:35:28.585Z"
   },
   {
    "duration": 739,
    "start_time": "2023-01-26T16:35:30.328Z"
   },
   {
    "duration": 6,
    "start_time": "2023-01-26T16:36:52.015Z"
   },
   {
    "duration": 720,
    "start_time": "2023-01-26T16:36:52.704Z"
   },
   {
    "duration": 5,
    "start_time": "2023-01-26T16:38:55.032Z"
   },
   {
    "duration": 698,
    "start_time": "2023-01-26T16:38:57.909Z"
   },
   {
    "duration": 6,
    "start_time": "2023-01-26T16:42:39.904Z"
   },
   {
    "duration": 6,
    "start_time": "2023-01-26T16:42:47.322Z"
   },
   {
    "duration": 5,
    "start_time": "2023-01-26T16:43:08.520Z"
   },
   {
    "duration": 759,
    "start_time": "2023-01-26T16:43:10.932Z"
   },
   {
    "duration": 5,
    "start_time": "2023-01-26T16:43:31.153Z"
   },
   {
    "duration": 5,
    "start_time": "2023-01-26T16:44:07.628Z"
   },
   {
    "duration": 741,
    "start_time": "2023-01-26T16:44:10.380Z"
   },
   {
    "duration": 7,
    "start_time": "2023-01-26T16:45:35.316Z"
   },
   {
    "duration": 771,
    "start_time": "2023-01-26T16:45:36.398Z"
   },
   {
    "duration": 5,
    "start_time": "2023-01-26T16:45:45.293Z"
   },
   {
    "duration": 535,
    "start_time": "2023-01-26T16:45:47.876Z"
   },
   {
    "duration": 6,
    "start_time": "2023-01-26T16:48:22.785Z"
   },
   {
    "duration": 523,
    "start_time": "2023-01-26T16:48:24.091Z"
   },
   {
    "duration": 6,
    "start_time": "2023-01-26T16:48:37.753Z"
   },
   {
    "duration": 739,
    "start_time": "2023-01-26T16:48:40.792Z"
   },
   {
    "duration": 4,
    "start_time": "2023-01-26T16:48:53.605Z"
   },
   {
    "duration": 676,
    "start_time": "2023-01-26T16:48:55.192Z"
   },
   {
    "duration": 5,
    "start_time": "2023-01-26T16:50:20.533Z"
   },
   {
    "duration": 703,
    "start_time": "2023-01-26T16:50:21.183Z"
   },
   {
    "duration": 1124,
    "start_time": "2023-01-26T16:54:11.046Z"
   },
   {
    "duration": 362,
    "start_time": "2023-01-26T16:54:12.172Z"
   },
   {
    "duration": 73,
    "start_time": "2023-01-26T16:54:12.536Z"
   },
   {
    "duration": 71,
    "start_time": "2023-01-26T16:54:12.610Z"
   },
   {
    "duration": 62,
    "start_time": "2023-01-26T16:54:12.683Z"
   },
   {
    "duration": 35,
    "start_time": "2023-01-26T16:54:12.746Z"
   },
   {
    "duration": 14,
    "start_time": "2023-01-26T16:54:12.783Z"
   },
   {
    "duration": 23,
    "start_time": "2023-01-26T16:54:12.799Z"
   },
   {
    "duration": 61,
    "start_time": "2023-01-26T16:54:12.824Z"
   },
   {
    "duration": 196,
    "start_time": "2023-01-26T16:54:12.887Z"
   },
   {
    "duration": 200,
    "start_time": "2023-01-26T16:54:13.085Z"
   },
   {
    "duration": 500,
    "start_time": "2023-01-26T16:54:13.289Z"
   },
   {
    "duration": 92,
    "start_time": "2023-01-26T16:54:13.795Z"
   },
   {
    "duration": 104,
    "start_time": "2023-01-26T16:54:13.891Z"
   },
   {
    "duration": 12,
    "start_time": "2023-01-26T16:54:13.997Z"
   },
   {
    "duration": 14,
    "start_time": "2023-01-26T16:54:14.011Z"
   },
   {
    "duration": 32,
    "start_time": "2023-01-26T16:54:14.027Z"
   },
   {
    "duration": 17,
    "start_time": "2023-01-26T16:54:14.060Z"
   },
   {
    "duration": 15,
    "start_time": "2023-01-26T16:54:14.078Z"
   },
   {
    "duration": 117,
    "start_time": "2023-01-26T16:54:14.094Z"
   },
   {
    "duration": 0,
    "start_time": "2023-01-26T16:54:14.214Z"
   },
   {
    "duration": 0,
    "start_time": "2023-01-26T16:54:14.215Z"
   },
   {
    "duration": 0,
    "start_time": "2023-01-26T16:54:14.216Z"
   },
   {
    "duration": 0,
    "start_time": "2023-01-26T16:54:14.217Z"
   },
   {
    "duration": 0,
    "start_time": "2023-01-26T16:54:14.218Z"
   },
   {
    "duration": 1105,
    "start_time": "2023-01-26T16:59:06.100Z"
   },
   {
    "duration": 363,
    "start_time": "2023-01-26T16:59:07.208Z"
   },
   {
    "duration": 77,
    "start_time": "2023-01-26T16:59:07.573Z"
   },
   {
    "duration": 78,
    "start_time": "2023-01-26T16:59:07.652Z"
   },
   {
    "duration": 81,
    "start_time": "2023-01-26T16:59:07.732Z"
   },
   {
    "duration": 15,
    "start_time": "2023-01-26T16:59:07.815Z"
   },
   {
    "duration": 7,
    "start_time": "2023-01-26T16:59:07.832Z"
   },
   {
    "duration": 8,
    "start_time": "2023-01-26T16:59:07.841Z"
   },
   {
    "duration": 132,
    "start_time": "2023-01-26T16:59:07.850Z"
   },
   {
    "duration": 199,
    "start_time": "2023-01-26T16:59:07.984Z"
   },
   {
    "duration": 121,
    "start_time": "2023-01-26T16:59:08.185Z"
   },
   {
    "duration": 583,
    "start_time": "2023-01-26T16:59:08.309Z"
   },
   {
    "duration": 90,
    "start_time": "2023-01-26T16:59:08.897Z"
   },
   {
    "duration": 3,
    "start_time": "2023-01-26T16:59:09.082Z"
   },
   {
    "duration": 9,
    "start_time": "2023-01-26T16:59:09.086Z"
   },
   {
    "duration": 11,
    "start_time": "2023-01-26T16:59:09.096Z"
   },
   {
    "duration": 16,
    "start_time": "2023-01-26T16:59:09.109Z"
   },
   {
    "duration": 14,
    "start_time": "2023-01-26T16:59:09.127Z"
   },
   {
    "duration": 6,
    "start_time": "2023-01-26T16:59:09.143Z"
   },
   {
    "duration": 18,
    "start_time": "2023-01-26T16:59:09.150Z"
   },
   {
    "duration": 7,
    "start_time": "2023-01-26T16:59:09.169Z"
   },
   {
    "duration": 9,
    "start_time": "2023-01-26T16:59:09.178Z"
   },
   {
    "duration": 5,
    "start_time": "2023-01-26T16:59:09.188Z"
   },
   {
    "duration": 6,
    "start_time": "2023-01-26T16:59:09.194Z"
   },
   {
    "duration": 118,
    "start_time": "2023-01-26T16:59:09.201Z"
   },
   {
    "duration": 5,
    "start_time": "2023-01-26T17:01:01.944Z"
   },
   {
    "duration": 22,
    "start_time": "2023-01-26T17:01:03.115Z"
   },
   {
    "duration": 6,
    "start_time": "2023-01-26T17:01:49.268Z"
   },
   {
    "duration": 6,
    "start_time": "2023-01-26T17:01:58.877Z"
   },
   {
    "duration": 6,
    "start_time": "2023-01-26T17:02:10.215Z"
   },
   {
    "duration": 6,
    "start_time": "2023-01-26T17:02:36.183Z"
   },
   {
    "duration": 18,
    "start_time": "2023-01-26T17:02:46.411Z"
   },
   {
    "duration": 5,
    "start_time": "2023-01-26T17:02:57.933Z"
   },
   {
    "duration": 29,
    "start_time": "2023-01-26T17:03:00.083Z"
   },
   {
    "duration": 7,
    "start_time": "2023-01-26T17:03:20.891Z"
   },
   {
    "duration": 6,
    "start_time": "2023-01-26T17:03:24.076Z"
   },
   {
    "duration": 1220,
    "start_time": "2023-01-26T17:07:02.401Z"
   },
   {
    "duration": 439,
    "start_time": "2023-01-26T17:07:03.624Z"
   },
   {
    "duration": 79,
    "start_time": "2023-01-26T17:07:04.065Z"
   },
   {
    "duration": 84,
    "start_time": "2023-01-26T17:07:04.147Z"
   },
   {
    "duration": 86,
    "start_time": "2023-01-26T17:07:04.233Z"
   },
   {
    "duration": 18,
    "start_time": "2023-01-26T17:07:04.321Z"
   },
   {
    "duration": 26,
    "start_time": "2023-01-26T17:07:04.342Z"
   },
   {
    "duration": 43,
    "start_time": "2023-01-26T17:07:04.370Z"
   },
   {
    "duration": 81,
    "start_time": "2023-01-26T17:07:04.415Z"
   },
   {
    "duration": 185,
    "start_time": "2023-01-26T17:07:04.500Z"
   },
   {
    "duration": 197,
    "start_time": "2023-01-26T17:07:04.687Z"
   },
   {
    "duration": 507,
    "start_time": "2023-01-26T17:07:04.886Z"
   },
   {
    "duration": 89,
    "start_time": "2023-01-26T17:07:05.394Z"
   },
   {
    "duration": 122,
    "start_time": "2023-01-26T17:07:05.485Z"
   },
   {
    "duration": 43,
    "start_time": "2023-01-26T17:07:05.609Z"
   },
   {
    "duration": 43,
    "start_time": "2023-01-26T17:07:05.654Z"
   },
   {
    "duration": 55,
    "start_time": "2023-01-26T17:07:05.699Z"
   },
   {
    "duration": 48,
    "start_time": "2023-01-26T17:07:05.756Z"
   },
   {
    "duration": 14,
    "start_time": "2023-01-26T17:07:05.806Z"
   },
   {
    "duration": 53,
    "start_time": "2023-01-26T17:07:05.822Z"
   },
   {
    "duration": 36,
    "start_time": "2023-01-26T17:07:05.877Z"
   },
   {
    "duration": 27,
    "start_time": "2023-01-26T17:07:05.916Z"
   },
   {
    "duration": 23,
    "start_time": "2023-01-26T17:07:05.946Z"
   },
   {
    "duration": 37,
    "start_time": "2023-01-26T17:07:05.971Z"
   },
   {
    "duration": 37,
    "start_time": "2023-01-26T17:07:06.010Z"
   },
   {
    "duration": 40,
    "start_time": "2023-01-26T17:07:06.049Z"
   },
   {
    "duration": 126,
    "start_time": "2023-01-26T17:07:06.090Z"
   },
   {
    "duration": 5,
    "start_time": "2023-01-26T17:07:41.758Z"
   },
   {
    "duration": 6,
    "start_time": "2023-01-26T17:07:42.435Z"
   },
   {
    "duration": 6,
    "start_time": "2023-01-26T17:07:44.674Z"
   },
   {
    "duration": 28,
    "start_time": "2023-01-26T17:07:45.745Z"
   },
   {
    "duration": 4,
    "start_time": "2023-01-26T17:08:44.363Z"
   },
   {
    "duration": 20,
    "start_time": "2023-01-26T17:08:46.261Z"
   },
   {
    "duration": 5,
    "start_time": "2023-01-26T17:09:16.040Z"
   },
   {
    "duration": 18,
    "start_time": "2023-01-26T17:09:16.992Z"
   },
   {
    "duration": 7,
    "start_time": "2023-01-26T17:09:26.199Z"
   },
   {
    "duration": 18,
    "start_time": "2023-01-26T17:09:26.909Z"
   },
   {
    "duration": 5,
    "start_time": "2023-01-26T17:09:55.322Z"
   },
   {
    "duration": 27,
    "start_time": "2023-01-26T17:09:55.862Z"
   },
   {
    "duration": 7,
    "start_time": "2023-01-26T17:10:26.360Z"
   },
   {
    "duration": 18,
    "start_time": "2023-01-26T17:10:27.647Z"
   },
   {
    "duration": 106,
    "start_time": "2023-01-26T17:15:09.864Z"
   },
   {
    "duration": 6,
    "start_time": "2023-01-26T17:15:16.343Z"
   },
   {
    "duration": 5,
    "start_time": "2023-01-26T17:18:18.972Z"
   },
   {
    "duration": 17,
    "start_time": "2023-01-26T17:18:19.615Z"
   },
   {
    "duration": 7,
    "start_time": "2023-01-26T17:20:38.566Z"
   },
   {
    "duration": 13,
    "start_time": "2023-01-26T17:20:39.625Z"
   },
   {
    "duration": 5,
    "start_time": "2023-01-26T17:20:48.463Z"
   },
   {
    "duration": 698,
    "start_time": "2023-01-26T17:20:49.187Z"
   },
   {
    "duration": 5,
    "start_time": "2023-01-26T17:22:44.791Z"
   },
   {
    "duration": 690,
    "start_time": "2023-01-26T17:22:45.711Z"
   },
   {
    "duration": 6,
    "start_time": "2023-01-26T17:23:01.897Z"
   },
   {
    "duration": 655,
    "start_time": "2023-01-26T17:23:04.029Z"
   },
   {
    "duration": 5,
    "start_time": "2023-01-26T17:26:38.260Z"
   },
   {
    "duration": 707,
    "start_time": "2023-01-26T17:26:38.884Z"
   },
   {
    "duration": 6,
    "start_time": "2023-01-26T17:27:58.628Z"
   },
   {
    "duration": 6,
    "start_time": "2023-01-26T17:27:59.712Z"
   },
   {
    "duration": 4,
    "start_time": "2023-01-26T17:29:56.973Z"
   },
   {
    "duration": 699,
    "start_time": "2023-01-26T17:29:57.592Z"
   },
   {
    "duration": 5,
    "start_time": "2023-01-26T17:30:40.740Z"
   },
   {
    "duration": 703,
    "start_time": "2023-01-26T17:30:41.353Z"
   },
   {
    "duration": 5,
    "start_time": "2023-01-26T17:31:37.456Z"
   },
   {
    "duration": 701,
    "start_time": "2023-01-26T17:31:38.029Z"
   },
   {
    "duration": 5,
    "start_time": "2023-01-26T17:37:47.443Z"
   },
   {
    "duration": 1341,
    "start_time": "2023-01-26T17:37:48.249Z"
   },
   {
    "duration": 6,
    "start_time": "2023-01-26T17:38:34.685Z"
   },
   {
    "duration": 736,
    "start_time": "2023-01-26T17:38:35.270Z"
   },
   {
    "duration": 7,
    "start_time": "2023-01-26T17:39:43.214Z"
   },
   {
    "duration": 745,
    "start_time": "2023-01-26T17:39:45.610Z"
   },
   {
    "duration": 7,
    "start_time": "2023-01-26T17:42:03.059Z"
   },
   {
    "duration": 24,
    "start_time": "2023-01-26T17:42:04.226Z"
   },
   {
    "duration": 7,
    "start_time": "2023-01-26T17:42:30.755Z"
   },
   {
    "duration": 20,
    "start_time": "2023-01-26T17:42:31.562Z"
   },
   {
    "duration": 8,
    "start_time": "2023-01-26T17:43:28.384Z"
   },
   {
    "duration": 730,
    "start_time": "2023-01-26T17:43:29.449Z"
   },
   {
    "duration": 5,
    "start_time": "2023-01-26T17:44:06.081Z"
   },
   {
    "duration": 681,
    "start_time": "2023-01-26T17:44:08.016Z"
   },
   {
    "duration": 6,
    "start_time": "2023-01-26T17:44:15.732Z"
   },
   {
    "duration": 724,
    "start_time": "2023-01-26T17:44:18.523Z"
   },
   {
    "duration": 784,
    "start_time": "2023-01-26T17:45:02.489Z"
   },
   {
    "duration": 760,
    "start_time": "2023-01-26T17:45:06.427Z"
   },
   {
    "duration": 6,
    "start_time": "2023-01-26T17:46:40.232Z"
   },
   {
    "duration": 17,
    "start_time": "2023-01-26T17:46:41.138Z"
   },
   {
    "duration": 5,
    "start_time": "2023-01-26T17:49:02.702Z"
   },
   {
    "duration": 29,
    "start_time": "2023-01-26T17:49:03.514Z"
   },
   {
    "duration": 7,
    "start_time": "2023-01-26T17:49:13.424Z"
   },
   {
    "duration": 740,
    "start_time": "2023-01-26T17:49:14.044Z"
   },
   {
    "duration": 1149,
    "start_time": "2023-01-26T17:51:59.111Z"
   },
   {
    "duration": 352,
    "start_time": "2023-01-26T17:52:00.262Z"
   },
   {
    "duration": 80,
    "start_time": "2023-01-26T17:52:00.616Z"
   },
   {
    "duration": 84,
    "start_time": "2023-01-26T17:52:00.699Z"
   },
   {
    "duration": 67,
    "start_time": "2023-01-26T17:52:00.785Z"
   },
   {
    "duration": 35,
    "start_time": "2023-01-26T17:52:00.854Z"
   },
   {
    "duration": 4,
    "start_time": "2023-01-26T17:52:00.892Z"
   },
   {
    "duration": 13,
    "start_time": "2023-01-26T17:52:00.898Z"
   },
   {
    "duration": 78,
    "start_time": "2023-01-26T17:52:00.913Z"
   },
   {
    "duration": 191,
    "start_time": "2023-01-26T17:52:00.994Z"
   },
   {
    "duration": 194,
    "start_time": "2023-01-26T17:52:01.187Z"
   },
   {
    "duration": 399,
    "start_time": "2023-01-26T17:52:01.383Z"
   },
   {
    "duration": 3,
    "start_time": "2023-01-26T17:52:01.784Z"
   },
   {
    "duration": 126,
    "start_time": "2023-01-26T17:52:01.788Z"
   },
   {
    "duration": 28,
    "start_time": "2023-01-26T17:52:01.917Z"
   },
   {
    "duration": 19,
    "start_time": "2023-01-26T17:52:01.947Z"
   },
   {
    "duration": 14,
    "start_time": "2023-01-26T17:52:01.969Z"
   },
   {
    "duration": 18,
    "start_time": "2023-01-26T17:52:01.985Z"
   },
   {
    "duration": 15,
    "start_time": "2023-01-26T17:52:02.005Z"
   },
   {
    "duration": 19,
    "start_time": "2023-01-26T17:52:02.023Z"
   },
   {
    "duration": 16,
    "start_time": "2023-01-26T17:52:02.044Z"
   },
   {
    "duration": 26,
    "start_time": "2023-01-26T17:52:02.061Z"
   },
   {
    "duration": 697,
    "start_time": "2023-01-26T17:52:02.088Z"
   },
   {
    "duration": 672,
    "start_time": "2023-01-26T17:52:02.787Z"
   },
   {
    "duration": 684,
    "start_time": "2023-01-26T17:52:03.460Z"
   },
   {
    "duration": 9,
    "start_time": "2023-01-27T02:42:42.338Z"
   },
   {
    "duration": 41,
    "start_time": "2023-01-27T02:42:43.267Z"
   },
   {
    "duration": 1046,
    "start_time": "2023-01-27T02:42:54.317Z"
   },
   {
    "duration": 1530,
    "start_time": "2023-01-27T02:42:55.366Z"
   },
   {
    "duration": 65,
    "start_time": "2023-01-27T02:42:56.898Z"
   },
   {
    "duration": 58,
    "start_time": "2023-01-27T02:42:56.964Z"
   },
   {
    "duration": 78,
    "start_time": "2023-01-27T02:42:57.023Z"
   },
   {
    "duration": 16,
    "start_time": "2023-01-27T02:42:57.103Z"
   },
   {
    "duration": 6,
    "start_time": "2023-01-27T02:42:57.120Z"
   },
   {
    "duration": 8,
    "start_time": "2023-01-27T02:42:57.127Z"
   },
   {
    "duration": 57,
    "start_time": "2023-01-27T02:42:57.136Z"
   },
   {
    "duration": 117,
    "start_time": "2023-01-27T02:42:57.199Z"
   },
   {
    "duration": 120,
    "start_time": "2023-01-27T02:42:57.393Z"
   },
   {
    "duration": 582,
    "start_time": "2023-01-27T02:42:57.515Z"
   },
   {
    "duration": 4,
    "start_time": "2023-01-27T02:42:58.099Z"
   },
   {
    "duration": 192,
    "start_time": "2023-01-27T02:42:58.107Z"
   },
   {
    "duration": 10,
    "start_time": "2023-01-27T02:42:58.300Z"
   },
   {
    "duration": 8,
    "start_time": "2023-01-27T02:42:58.312Z"
   },
   {
    "duration": 21,
    "start_time": "2023-01-27T02:42:58.321Z"
   },
   {
    "duration": 18,
    "start_time": "2023-01-27T02:42:58.343Z"
   },
   {
    "duration": 10,
    "start_time": "2023-01-27T02:42:58.363Z"
   },
   {
    "duration": 5,
    "start_time": "2023-01-27T02:42:58.375Z"
   },
   {
    "duration": 7,
    "start_time": "2023-01-27T02:42:58.382Z"
   },
   {
    "duration": 8,
    "start_time": "2023-01-27T02:42:58.391Z"
   },
   {
    "duration": 2662,
    "start_time": "2023-01-27T02:42:58.400Z"
   },
   {
    "duration": 2599,
    "start_time": "2023-01-27T02:43:01.064Z"
   },
   {
    "duration": 2658,
    "start_time": "2023-01-27T02:43:03.665Z"
   },
   {
    "duration": 5,
    "start_time": "2023-01-27T02:43:18.260Z"
   },
   {
    "duration": 2577,
    "start_time": "2023-01-27T02:43:18.803Z"
   },
   {
    "duration": 979,
    "start_time": "2023-01-27T02:47:04.754Z"
   },
   {
    "duration": 371,
    "start_time": "2023-01-27T02:47:05.737Z"
   },
   {
    "duration": 66,
    "start_time": "2023-01-27T02:47:06.109Z"
   },
   {
    "duration": 73,
    "start_time": "2023-01-27T02:47:06.177Z"
   },
   {
    "duration": 89,
    "start_time": "2023-01-27T02:47:06.252Z"
   },
   {
    "duration": 18,
    "start_time": "2023-01-27T02:47:06.343Z"
   },
   {
    "duration": 18,
    "start_time": "2023-01-27T02:47:06.363Z"
   },
   {
    "duration": 9,
    "start_time": "2023-01-27T02:47:06.390Z"
   },
   {
    "duration": 99,
    "start_time": "2023-01-27T02:47:06.401Z"
   },
   {
    "duration": 98,
    "start_time": "2023-01-27T02:47:06.593Z"
   },
   {
    "duration": 199,
    "start_time": "2023-01-27T02:47:06.693Z"
   },
   {
    "duration": 504,
    "start_time": "2023-01-27T02:47:06.894Z"
   },
   {
    "duration": 90,
    "start_time": "2023-01-27T02:47:07.402Z"
   },
   {
    "duration": 102,
    "start_time": "2023-01-27T02:47:07.495Z"
   },
   {
    "duration": 11,
    "start_time": "2023-01-27T02:47:07.598Z"
   },
   {
    "duration": 14,
    "start_time": "2023-01-27T02:47:07.611Z"
   },
   {
    "duration": 10,
    "start_time": "2023-01-27T02:47:07.627Z"
   },
   {
    "duration": 9,
    "start_time": "2023-01-27T02:47:07.638Z"
   },
   {
    "duration": 7,
    "start_time": "2023-01-27T02:47:07.649Z"
   },
   {
    "duration": 5,
    "start_time": "2023-01-27T02:47:07.657Z"
   },
   {
    "duration": 7,
    "start_time": "2023-01-27T02:47:07.664Z"
   },
   {
    "duration": 7,
    "start_time": "2023-01-27T02:47:07.692Z"
   },
   {
    "duration": 706,
    "start_time": "2023-01-27T02:47:07.700Z"
   },
   {
    "duration": 709,
    "start_time": "2023-01-27T02:47:08.408Z"
   },
   {
    "duration": 679,
    "start_time": "2023-01-27T02:47:09.118Z"
   },
   {
    "duration": 1000,
    "start_time": "2023-01-27T02:48:26.722Z"
   },
   {
    "duration": 354,
    "start_time": "2023-01-27T02:48:27.724Z"
   },
   {
    "duration": 70,
    "start_time": "2023-01-27T02:48:28.079Z"
   },
   {
    "duration": 69,
    "start_time": "2023-01-27T02:48:28.151Z"
   },
   {
    "duration": 70,
    "start_time": "2023-01-27T02:48:28.221Z"
   },
   {
    "duration": 15,
    "start_time": "2023-01-27T02:48:28.293Z"
   },
   {
    "duration": 11,
    "start_time": "2023-01-27T02:48:28.309Z"
   },
   {
    "duration": 12,
    "start_time": "2023-01-27T02:48:28.321Z"
   },
   {
    "duration": 99,
    "start_time": "2023-01-27T02:48:28.334Z"
   },
   {
    "duration": 0,
    "start_time": "2023-01-27T02:48:28.436Z"
   },
   {
    "duration": 0,
    "start_time": "2023-01-27T02:48:28.438Z"
   },
   {
    "duration": 0,
    "start_time": "2023-01-27T02:48:28.439Z"
   },
   {
    "duration": 0,
    "start_time": "2023-01-27T02:48:28.441Z"
   },
   {
    "duration": 0,
    "start_time": "2023-01-27T02:48:28.442Z"
   },
   {
    "duration": 1,
    "start_time": "2023-01-27T02:48:28.443Z"
   },
   {
    "duration": 0,
    "start_time": "2023-01-27T02:48:28.445Z"
   },
   {
    "duration": 0,
    "start_time": "2023-01-27T02:48:28.447Z"
   },
   {
    "duration": 0,
    "start_time": "2023-01-27T02:48:28.448Z"
   },
   {
    "duration": 0,
    "start_time": "2023-01-27T02:48:28.450Z"
   },
   {
    "duration": 0,
    "start_time": "2023-01-27T02:48:28.451Z"
   },
   {
    "duration": 0,
    "start_time": "2023-01-27T02:48:28.453Z"
   },
   {
    "duration": 0,
    "start_time": "2023-01-27T02:48:28.454Z"
   },
   {
    "duration": 0,
    "start_time": "2023-01-27T02:48:28.455Z"
   },
   {
    "duration": 0,
    "start_time": "2023-01-27T02:48:28.492Z"
   },
   {
    "duration": 0,
    "start_time": "2023-01-27T02:48:28.493Z"
   },
   {
    "duration": 5,
    "start_time": "2023-01-27T02:49:07.406Z"
   },
   {
    "duration": 4,
    "start_time": "2023-01-27T02:49:08.197Z"
   },
   {
    "duration": 70,
    "start_time": "2023-01-27T02:49:09.532Z"
   },
   {
    "duration": 1011,
    "start_time": "2023-01-27T02:49:13.446Z"
   },
   {
    "duration": 365,
    "start_time": "2023-01-27T02:49:14.459Z"
   },
   {
    "duration": 78,
    "start_time": "2023-01-27T02:49:14.826Z"
   },
   {
    "duration": 57,
    "start_time": "2023-01-27T02:49:14.906Z"
   },
   {
    "duration": 96,
    "start_time": "2023-01-27T02:49:14.964Z"
   },
   {
    "duration": 30,
    "start_time": "2023-01-27T02:49:15.062Z"
   },
   {
    "duration": 8,
    "start_time": "2023-01-27T02:49:15.094Z"
   },
   {
    "duration": 17,
    "start_time": "2023-01-27T02:49:15.103Z"
   },
   {
    "duration": 89,
    "start_time": "2023-01-27T02:49:15.122Z"
   },
   {
    "duration": 102,
    "start_time": "2023-01-27T02:49:15.290Z"
   },
   {
    "duration": 113,
    "start_time": "2023-01-27T02:49:15.395Z"
   },
   {
    "duration": 485,
    "start_time": "2023-01-27T02:49:15.510Z"
   },
   {
    "duration": 3,
    "start_time": "2023-01-27T02:49:15.997Z"
   },
   {
    "duration": 94,
    "start_time": "2023-01-27T02:49:16.003Z"
   },
   {
    "duration": 12,
    "start_time": "2023-01-27T02:49:16.099Z"
   },
   {
    "duration": 9,
    "start_time": "2023-01-27T02:49:16.112Z"
   },
   {
    "duration": 19,
    "start_time": "2023-01-27T02:49:16.122Z"
   },
   {
    "duration": 6,
    "start_time": "2023-01-27T02:49:16.142Z"
   },
   {
    "duration": 43,
    "start_time": "2023-01-27T02:49:16.150Z"
   },
   {
    "duration": 7,
    "start_time": "2023-01-27T02:49:16.194Z"
   },
   {
    "duration": 8,
    "start_time": "2023-01-27T02:49:16.203Z"
   },
   {
    "duration": 35,
    "start_time": "2023-01-27T02:49:16.214Z"
   },
   {
    "duration": 774,
    "start_time": "2023-01-27T02:49:16.251Z"
   },
   {
    "duration": 647,
    "start_time": "2023-01-27T02:49:17.027Z"
   },
   {
    "duration": 671,
    "start_time": "2023-01-27T02:49:17.676Z"
   },
   {
    "duration": 1062,
    "start_time": "2023-01-27T02:49:35.439Z"
   },
   {
    "duration": 363,
    "start_time": "2023-01-27T02:49:36.503Z"
   },
   {
    "duration": 76,
    "start_time": "2023-01-27T02:49:36.868Z"
   },
   {
    "duration": 66,
    "start_time": "2023-01-27T02:49:36.946Z"
   },
   {
    "duration": 60,
    "start_time": "2023-01-27T02:49:37.014Z"
   },
   {
    "duration": 20,
    "start_time": "2023-01-27T02:49:37.092Z"
   },
   {
    "duration": 18,
    "start_time": "2023-01-27T02:49:37.114Z"
   },
   {
    "duration": 13,
    "start_time": "2023-01-27T02:49:37.134Z"
   },
   {
    "duration": 49,
    "start_time": "2023-01-27T02:49:37.149Z"
   },
   {
    "duration": 200,
    "start_time": "2023-01-27T02:49:37.202Z"
   },
   {
    "duration": 290,
    "start_time": "2023-01-27T02:49:37.404Z"
   },
   {
    "duration": 499,
    "start_time": "2023-01-27T02:49:37.697Z"
   },
   {
    "duration": 4,
    "start_time": "2023-01-27T02:49:38.200Z"
   },
   {
    "duration": 196,
    "start_time": "2023-01-27T02:49:38.205Z"
   },
   {
    "duration": 8,
    "start_time": "2023-01-27T02:49:38.403Z"
   },
   {
    "duration": 11,
    "start_time": "2023-01-27T02:49:38.412Z"
   },
   {
    "duration": 9,
    "start_time": "2023-01-27T02:49:38.425Z"
   },
   {
    "duration": 9,
    "start_time": "2023-01-27T02:49:38.435Z"
   },
   {
    "duration": 11,
    "start_time": "2023-01-27T02:49:38.446Z"
   },
   {
    "duration": 9,
    "start_time": "2023-01-27T02:49:38.458Z"
   },
   {
    "duration": 10,
    "start_time": "2023-01-27T02:49:38.469Z"
   },
   {
    "duration": 14,
    "start_time": "2023-01-27T02:49:38.481Z"
   },
   {
    "duration": 631,
    "start_time": "2023-01-27T02:49:38.497Z"
   },
   {
    "duration": 600,
    "start_time": "2023-01-27T02:49:39.129Z"
   },
   {
    "duration": 615,
    "start_time": "2023-01-27T02:49:39.730Z"
   },
   {
    "duration": 88,
    "start_time": "2023-01-27T02:54:29.422Z"
   },
   {
    "duration": 16,
    "start_time": "2023-01-27T02:56:53.750Z"
   },
   {
    "duration": 15,
    "start_time": "2023-01-27T02:57:20.482Z"
   },
   {
    "duration": 19,
    "start_time": "2023-01-27T02:58:23.984Z"
   },
   {
    "duration": 19,
    "start_time": "2023-01-27T02:59:30.943Z"
   },
   {
    "duration": 17,
    "start_time": "2023-01-27T03:01:06.952Z"
   },
   {
    "duration": 4,
    "start_time": "2023-01-27T03:02:39.060Z"
   },
   {
    "duration": 14,
    "start_time": "2023-01-27T03:02:41.059Z"
   },
   {
    "duration": 4,
    "start_time": "2023-01-27T03:03:09.104Z"
   },
   {
    "duration": 20,
    "start_time": "2023-01-27T03:03:10.936Z"
   },
   {
    "duration": 5,
    "start_time": "2023-01-27T03:03:54.089Z"
   },
   {
    "duration": 92,
    "start_time": "2023-01-27T03:03:54.723Z"
   },
   {
    "duration": 4,
    "start_time": "2023-01-27T03:04:02.126Z"
   },
   {
    "duration": 612,
    "start_time": "2023-01-27T03:04:02.747Z"
   },
   {
    "duration": 7,
    "start_time": "2023-01-27T03:05:10.680Z"
   },
   {
    "duration": 673,
    "start_time": "2023-01-27T03:05:11.478Z"
   },
   {
    "duration": 6,
    "start_time": "2023-01-27T03:06:29.440Z"
   },
   {
    "duration": 616,
    "start_time": "2023-01-27T03:06:31.273Z"
   },
   {
    "duration": 77,
    "start_time": "2023-01-27T03:15:36.754Z"
   },
   {
    "duration": 5,
    "start_time": "2023-01-27T03:16:02.586Z"
   },
   {
    "duration": 15,
    "start_time": "2023-01-27T03:16:03.421Z"
   },
   {
    "duration": 8,
    "start_time": "2023-01-27T03:16:42.624Z"
   },
   {
    "duration": 2798,
    "start_time": "2023-01-27T03:16:43.360Z"
   },
   {
    "duration": 2759,
    "start_time": "2023-01-27T03:16:59.190Z"
   },
   {
    "duration": 2759,
    "start_time": "2023-01-27T03:17:02.168Z"
   },
   {
    "duration": 5,
    "start_time": "2023-01-27T03:18:31.043Z"
   },
   {
    "duration": 623,
    "start_time": "2023-01-27T03:18:31.780Z"
   },
   {
    "duration": 1499,
    "start_time": "2023-01-28T06:57:42.334Z"
   },
   {
    "duration": 399,
    "start_time": "2023-01-28T06:57:43.834Z"
   },
   {
    "duration": 84,
    "start_time": "2023-01-28T06:57:44.234Z"
   },
   {
    "duration": 84,
    "start_time": "2023-01-28T06:57:44.320Z"
   },
   {
    "duration": 66,
    "start_time": "2023-01-28T06:57:44.406Z"
   },
   {
    "duration": 31,
    "start_time": "2023-01-28T06:57:44.474Z"
   },
   {
    "duration": 8,
    "start_time": "2023-01-28T06:57:44.507Z"
   },
   {
    "duration": 10,
    "start_time": "2023-01-28T06:57:44.517Z"
   },
   {
    "duration": 73,
    "start_time": "2023-01-28T06:57:44.529Z"
   },
   {
    "duration": 118,
    "start_time": "2023-01-28T06:57:44.605Z"
   },
   {
    "duration": 186,
    "start_time": "2023-01-28T06:57:44.725Z"
   },
   {
    "duration": 687,
    "start_time": "2023-01-28T06:57:44.913Z"
   },
   {
    "duration": 6,
    "start_time": "2023-01-28T06:57:45.604Z"
   },
   {
    "duration": 94,
    "start_time": "2023-01-28T06:57:45.614Z"
   },
   {
    "duration": 19,
    "start_time": "2023-01-28T06:57:45.710Z"
   },
   {
    "duration": 9,
    "start_time": "2023-01-28T06:57:45.731Z"
   },
   {
    "duration": 23,
    "start_time": "2023-01-28T06:57:45.742Z"
   },
   {
    "duration": 7,
    "start_time": "2023-01-28T06:57:45.767Z"
   },
   {
    "duration": 1174,
    "start_time": "2023-01-28T06:57:45.776Z"
   },
   {
    "duration": 1120,
    "start_time": "2023-01-28T06:57:46.951Z"
   },
   {
    "duration": 1043,
    "start_time": "2023-01-28T06:57:48.073Z"
   }
  ],
  "kernelspec": {
   "display_name": "Python 3 (ipykernel)",
   "language": "python",
   "name": "python3"
  },
  "language_info": {
   "codemirror_mode": {
    "name": "ipython",
    "version": 3
   },
   "file_extension": ".py",
   "mimetype": "text/x-python",
   "name": "python",
   "nbconvert_exporter": "python",
   "pygments_lexer": "ipython3",
   "version": "3.9.13"
  },
  "toc": {
   "base_numbering": 1,
   "nav_menu": {},
   "number_sections": true,
   "sideBar": true,
   "skip_h1_title": true,
   "title_cell": "Table of Contents",
   "title_sidebar": "Contents",
   "toc_cell": false,
   "toc_position": {},
   "toc_section_display": true,
   "toc_window_display": true
  }
 },
 "nbformat": 4,
 "nbformat_minor": 2
}
