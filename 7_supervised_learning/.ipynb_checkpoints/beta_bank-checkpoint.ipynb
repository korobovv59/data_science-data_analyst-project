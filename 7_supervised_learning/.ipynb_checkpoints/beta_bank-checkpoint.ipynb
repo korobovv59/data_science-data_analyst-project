{
 "cells": [
  {
   "cell_type": "markdown",
   "metadata": {},
   "source": [
    "# Отток клиентов банка"
   ]
  },
  {
   "cell_type": "markdown",
   "metadata": {},
   "source": [
    "Из «Бета-Банка» стали уходить клиенты. Каждый месяц. Немного, но заметно. Банковские маркетологи посчитали: сохранять текущих клиентов дешевле, чем привлекать новых.\n",
    "\n",
    "Нужно спрогнозировать, уйдёт клиент из банка в ближайшее время или нет. Нам предоставлены исторические данные о поведении клиентов и расторжении договоров с банком. \n",
    "\n",
    "Необходимо построить модель с предельно большим значением *F1*-меры. Чтобы сдать проект успешно, нужно довести метрику до 0.59. Проверить *F1*-меру на тестовой выборке.\n",
    "\n",
    "Дополнительно измерить *AUC-ROC*, сравнить её значение с *F1*-мерой."
   ]
  },
  {
   "cell_type": "markdown",
   "metadata": {},
   "source": [
    "Признаки:\n",
    "\n",
    "* RowNumber — индекс строки в данных\n",
    "* CustomerId — уникальный идентификатор клиента\n",
    "* Surname — фамилия\n",
    "* CreditScore — кредитный рейтинг\n",
    "* Geography — страна проживания\n",
    "* Gender — пол\n",
    "* Age — возраст\n",
    "* Tenure — сколько лет человек является клиентом банка\n",
    "* Balance — баланс на счёте\n",
    "* NumOfProducts — количество продуктов банка, используемых клиентом\n",
    "* HasCrCard — наличие кредитной карты\n",
    "* IsActiveMember — активность клиента\n",
    "* EstimatedSalary — предполагаемая зарплата\n",
    "\n",
    "Целевой признак:\n",
    "\n",
    "* Exited — факт ухода клиента"
   ]
  },
  {
   "cell_type": "markdown",
   "metadata": {},
   "source": [
    "## Подготовка данных"
   ]
  },
  {
   "cell_type": "code",
   "execution_count": 1,
   "metadata": {},
   "outputs": [],
   "source": [
    "import matplotlib.pyplot as plt\n",
    "import numpy as np\n",
    "import pandas as pd\n",
    "from sklearn.model_selection import train_test_split, GridSearchCV\n",
    "from sklearn.utils import shuffle\n",
    "from sklearn.tree import DecisionTreeClassifier\n",
    "from sklearn.ensemble import RandomForestClassifier\n",
    "from sklearn.linear_model import LogisticRegression\n",
    "from sklearn.preprocessing import OrdinalEncoder, StandardScaler\n",
    "from sklearn.metrics import accuracy_score, f1_score, roc_auc_score, roc_curve \n",
    "\n",
    "pd.options.mode.chained_assignment = None\n",
    "\n",
    "df = pd.read_csv('/datasets/Churn.csv')\n"
   ]
  },
  {
   "cell_type": "markdown",
   "metadata": {},
   "source": [
    "Посмотрим общую информацию:"
   ]
  },
  {
   "cell_type": "code",
   "execution_count": 2,
   "metadata": {},
   "outputs": [
    {
     "name": "stdout",
     "output_type": "stream",
     "text": [
      "<class 'pandas.core.frame.DataFrame'>\n",
      "RangeIndex: 10000 entries, 0 to 9999\n",
      "Data columns (total 14 columns):\n",
      " #   Column           Non-Null Count  Dtype  \n",
      "---  ------           --------------  -----  \n",
      " 0   RowNumber        10000 non-null  int64  \n",
      " 1   CustomerId       10000 non-null  int64  \n",
      " 2   Surname          10000 non-null  object \n",
      " 3   CreditScore      10000 non-null  int64  \n",
      " 4   Geography        10000 non-null  object \n",
      " 5   Gender           10000 non-null  object \n",
      " 6   Age              10000 non-null  int64  \n",
      " 7   Tenure           9091 non-null   float64\n",
      " 8   Balance          10000 non-null  float64\n",
      " 9   NumOfProducts    10000 non-null  int64  \n",
      " 10  HasCrCard        10000 non-null  int64  \n",
      " 11  IsActiveMember   10000 non-null  int64  \n",
      " 12  EstimatedSalary  10000 non-null  float64\n",
      " 13  Exited           10000 non-null  int64  \n",
      "dtypes: float64(3), int64(8), object(3)\n",
      "memory usage: 1.1+ MB\n"
     ]
    }
   ],
   "source": [
    "df.info()"
   ]
  },
  {
   "cell_type": "markdown",
   "metadata": {},
   "source": [
    "Названия столбцов не в змеином регистре,\n",
    "\n",
    "Имеются пропуски в одном столбце - нужно разобраться, и можно изменить тип данных на int.\n",
    "\n",
    "Приведем названия столбцов к нормальному виду:"
   ]
  },
  {
   "cell_type": "code",
   "execution_count": 3,
   "metadata": {},
   "outputs": [
    {
     "data": {
      "text/plain": [
       "Index(['rownumber', 'customerid', 'surname', 'creditscore', 'geography',\n",
       "       'gender', 'age', 'tenure', 'balance', 'numofproducts', 'hascrcard',\n",
       "       'isactivemember', 'estimatedsalary', 'exited'],\n",
       "      dtype='object')"
      ]
     },
     "execution_count": 3,
     "metadata": {},
     "output_type": "execute_result"
    }
   ],
   "source": [
    "df.columns.str.lower()"
   ]
  },
  {
   "cell_type": "code",
   "execution_count": 4,
   "metadata": {},
   "outputs": [],
   "source": [
    "df.columns = ['row_number', 'customer_id', 'surname', 'credit_score', 'geography',\n",
    "           'gender', 'age', 'tenure', 'balance', 'num_of_products', 'has_cr_card',\n",
    "           'is_active_member', 'estimated_salary', 'exited']"
   ]
  },
  {
   "cell_type": "markdown",
   "metadata": {},
   "source": [
    "Посмотрим на пропуски:"
   ]
  },
  {
   "cell_type": "code",
   "execution_count": 5,
   "metadata": {},
   "outputs": [
    {
     "data": {
      "text/plain": [
       "row_number            0\n",
       "customer_id           0\n",
       "surname               0\n",
       "credit_score          0\n",
       "geography             0\n",
       "gender                0\n",
       "age                   0\n",
       "tenure              909\n",
       "balance               0\n",
       "num_of_products       0\n",
       "has_cr_card           0\n",
       "is_active_member      0\n",
       "estimated_salary      0\n",
       "exited                0\n",
       "dtype: int64"
      ]
     },
     "execution_count": 5,
     "metadata": {},
     "output_type": "execute_result"
    }
   ],
   "source": [
    "df.isna().sum() "
   ]
  },
  {
   "cell_type": "markdown",
   "metadata": {},
   "source": [
    "`tenure` — сколько лет человек является клиентом банка - чтобы не исказать данные - заполним медианой."
   ]
  },
  {
   "cell_type": "markdown",
   "metadata": {},
   "source": [
    "Заполняем и проверяем:"
   ]
  },
  {
   "cell_type": "code",
   "execution_count": 6,
   "metadata": {},
   "outputs": [
    {
     "data": {
      "text/plain": [
       "row_number          0\n",
       "customer_id         0\n",
       "surname             0\n",
       "credit_score        0\n",
       "geography           0\n",
       "gender              0\n",
       "age                 0\n",
       "tenure              0\n",
       "balance             0\n",
       "num_of_products     0\n",
       "has_cr_card         0\n",
       "is_active_member    0\n",
       "estimated_salary    0\n",
       "exited              0\n",
       "dtype: int64"
      ]
     },
     "execution_count": 6,
     "metadata": {},
     "output_type": "execute_result"
    }
   ],
   "source": [
    "df['tenure'] = df['tenure'].fillna(df['tenure'].median()).astype('int')\n",
    "df.isna().sum()"
   ]
  },
  {
   "cell_type": "markdown",
   "metadata": {},
   "source": [
    "Посмотрим на первые 10 строк "
   ]
  },
  {
   "cell_type": "code",
   "execution_count": 7,
   "metadata": {
    "scrolled": true
   },
   "outputs": [
    {
     "data": {
      "text/html": [
       "<div>\n",
       "<style scoped>\n",
       "    .dataframe tbody tr th:only-of-type {\n",
       "        vertical-align: middle;\n",
       "    }\n",
       "\n",
       "    .dataframe tbody tr th {\n",
       "        vertical-align: top;\n",
       "    }\n",
       "\n",
       "    .dataframe thead th {\n",
       "        text-align: right;\n",
       "    }\n",
       "</style>\n",
       "<table border=\"1\" class=\"dataframe\">\n",
       "  <thead>\n",
       "    <tr style=\"text-align: right;\">\n",
       "      <th></th>\n",
       "      <th>row_number</th>\n",
       "      <th>customer_id</th>\n",
       "      <th>surname</th>\n",
       "      <th>credit_score</th>\n",
       "      <th>geography</th>\n",
       "      <th>gender</th>\n",
       "      <th>age</th>\n",
       "      <th>tenure</th>\n",
       "      <th>balance</th>\n",
       "      <th>num_of_products</th>\n",
       "      <th>has_cr_card</th>\n",
       "      <th>is_active_member</th>\n",
       "      <th>estimated_salary</th>\n",
       "      <th>exited</th>\n",
       "    </tr>\n",
       "  </thead>\n",
       "  <tbody>\n",
       "    <tr>\n",
       "      <th>0</th>\n",
       "      <td>1</td>\n",
       "      <td>15634602</td>\n",
       "      <td>Hargrave</td>\n",
       "      <td>619</td>\n",
       "      <td>France</td>\n",
       "      <td>Female</td>\n",
       "      <td>42</td>\n",
       "      <td>2</td>\n",
       "      <td>0.00</td>\n",
       "      <td>1</td>\n",
       "      <td>1</td>\n",
       "      <td>1</td>\n",
       "      <td>101348.88</td>\n",
       "      <td>1</td>\n",
       "    </tr>\n",
       "    <tr>\n",
       "      <th>1</th>\n",
       "      <td>2</td>\n",
       "      <td>15647311</td>\n",
       "      <td>Hill</td>\n",
       "      <td>608</td>\n",
       "      <td>Spain</td>\n",
       "      <td>Female</td>\n",
       "      <td>41</td>\n",
       "      <td>1</td>\n",
       "      <td>83807.86</td>\n",
       "      <td>1</td>\n",
       "      <td>0</td>\n",
       "      <td>1</td>\n",
       "      <td>112542.58</td>\n",
       "      <td>0</td>\n",
       "    </tr>\n",
       "    <tr>\n",
       "      <th>2</th>\n",
       "      <td>3</td>\n",
       "      <td>15619304</td>\n",
       "      <td>Onio</td>\n",
       "      <td>502</td>\n",
       "      <td>France</td>\n",
       "      <td>Female</td>\n",
       "      <td>42</td>\n",
       "      <td>8</td>\n",
       "      <td>159660.80</td>\n",
       "      <td>3</td>\n",
       "      <td>1</td>\n",
       "      <td>0</td>\n",
       "      <td>113931.57</td>\n",
       "      <td>1</td>\n",
       "    </tr>\n",
       "    <tr>\n",
       "      <th>3</th>\n",
       "      <td>4</td>\n",
       "      <td>15701354</td>\n",
       "      <td>Boni</td>\n",
       "      <td>699</td>\n",
       "      <td>France</td>\n",
       "      <td>Female</td>\n",
       "      <td>39</td>\n",
       "      <td>1</td>\n",
       "      <td>0.00</td>\n",
       "      <td>2</td>\n",
       "      <td>0</td>\n",
       "      <td>0</td>\n",
       "      <td>93826.63</td>\n",
       "      <td>0</td>\n",
       "    </tr>\n",
       "    <tr>\n",
       "      <th>4</th>\n",
       "      <td>5</td>\n",
       "      <td>15737888</td>\n",
       "      <td>Mitchell</td>\n",
       "      <td>850</td>\n",
       "      <td>Spain</td>\n",
       "      <td>Female</td>\n",
       "      <td>43</td>\n",
       "      <td>2</td>\n",
       "      <td>125510.82</td>\n",
       "      <td>1</td>\n",
       "      <td>1</td>\n",
       "      <td>1</td>\n",
       "      <td>79084.10</td>\n",
       "      <td>0</td>\n",
       "    </tr>\n",
       "    <tr>\n",
       "      <th>5</th>\n",
       "      <td>6</td>\n",
       "      <td>15574012</td>\n",
       "      <td>Chu</td>\n",
       "      <td>645</td>\n",
       "      <td>Spain</td>\n",
       "      <td>Male</td>\n",
       "      <td>44</td>\n",
       "      <td>8</td>\n",
       "      <td>113755.78</td>\n",
       "      <td>2</td>\n",
       "      <td>1</td>\n",
       "      <td>0</td>\n",
       "      <td>149756.71</td>\n",
       "      <td>1</td>\n",
       "    </tr>\n",
       "    <tr>\n",
       "      <th>6</th>\n",
       "      <td>7</td>\n",
       "      <td>15592531</td>\n",
       "      <td>Bartlett</td>\n",
       "      <td>822</td>\n",
       "      <td>France</td>\n",
       "      <td>Male</td>\n",
       "      <td>50</td>\n",
       "      <td>7</td>\n",
       "      <td>0.00</td>\n",
       "      <td>2</td>\n",
       "      <td>1</td>\n",
       "      <td>1</td>\n",
       "      <td>10062.80</td>\n",
       "      <td>0</td>\n",
       "    </tr>\n",
       "    <tr>\n",
       "      <th>7</th>\n",
       "      <td>8</td>\n",
       "      <td>15656148</td>\n",
       "      <td>Obinna</td>\n",
       "      <td>376</td>\n",
       "      <td>Germany</td>\n",
       "      <td>Female</td>\n",
       "      <td>29</td>\n",
       "      <td>4</td>\n",
       "      <td>115046.74</td>\n",
       "      <td>4</td>\n",
       "      <td>1</td>\n",
       "      <td>0</td>\n",
       "      <td>119346.88</td>\n",
       "      <td>1</td>\n",
       "    </tr>\n",
       "    <tr>\n",
       "      <th>8</th>\n",
       "      <td>9</td>\n",
       "      <td>15792365</td>\n",
       "      <td>He</td>\n",
       "      <td>501</td>\n",
       "      <td>France</td>\n",
       "      <td>Male</td>\n",
       "      <td>44</td>\n",
       "      <td>4</td>\n",
       "      <td>142051.07</td>\n",
       "      <td>2</td>\n",
       "      <td>0</td>\n",
       "      <td>1</td>\n",
       "      <td>74940.50</td>\n",
       "      <td>0</td>\n",
       "    </tr>\n",
       "    <tr>\n",
       "      <th>9</th>\n",
       "      <td>10</td>\n",
       "      <td>15592389</td>\n",
       "      <td>H?</td>\n",
       "      <td>684</td>\n",
       "      <td>France</td>\n",
       "      <td>Male</td>\n",
       "      <td>27</td>\n",
       "      <td>2</td>\n",
       "      <td>134603.88</td>\n",
       "      <td>1</td>\n",
       "      <td>1</td>\n",
       "      <td>1</td>\n",
       "      <td>71725.73</td>\n",
       "      <td>0</td>\n",
       "    </tr>\n",
       "  </tbody>\n",
       "</table>\n",
       "</div>"
      ],
      "text/plain": [
       "   row_number  customer_id   surname  credit_score geography  gender  age  \\\n",
       "0           1     15634602  Hargrave           619    France  Female   42   \n",
       "1           2     15647311      Hill           608     Spain  Female   41   \n",
       "2           3     15619304      Onio           502    France  Female   42   \n",
       "3           4     15701354      Boni           699    France  Female   39   \n",
       "4           5     15737888  Mitchell           850     Spain  Female   43   \n",
       "5           6     15574012       Chu           645     Spain    Male   44   \n",
       "6           7     15592531  Bartlett           822    France    Male   50   \n",
       "7           8     15656148    Obinna           376   Germany  Female   29   \n",
       "8           9     15792365        He           501    France    Male   44   \n",
       "9          10     15592389        H?           684    France    Male   27   \n",
       "\n",
       "   tenure    balance  num_of_products  has_cr_card  is_active_member  \\\n",
       "0       2       0.00                1            1                 1   \n",
       "1       1   83807.86                1            0                 1   \n",
       "2       8  159660.80                3            1                 0   \n",
       "3       1       0.00                2            0                 0   \n",
       "4       2  125510.82                1            1                 1   \n",
       "5       8  113755.78                2            1                 0   \n",
       "6       7       0.00                2            1                 1   \n",
       "7       4  115046.74                4            1                 0   \n",
       "8       4  142051.07                2            0                 1   \n",
       "9       2  134603.88                1            1                 1   \n",
       "\n",
       "   estimated_salary  exited  \n",
       "0         101348.88       1  \n",
       "1         112542.58       0  \n",
       "2         113931.57       1  \n",
       "3          93826.63       0  \n",
       "4          79084.10       0  \n",
       "5         149756.71       1  \n",
       "6          10062.80       0  \n",
       "7         119346.88       1  \n",
       "8          74940.50       0  \n",
       "9          71725.73       0  "
      ]
     },
     "execution_count": 7,
     "metadata": {},
     "output_type": "execute_result"
    }
   ],
   "source": [
    "df.head(10)"
   ]
  },
  {
   "cell_type": "code",
   "execution_count": 8,
   "metadata": {},
   "outputs": [
    {
     "data": {
      "text/plain": [
       "2049    1\n",
       "8865    1\n",
       "6806    1\n",
       "4759    1\n",
       "8857    1\n",
       "       ..\n",
       "9526    1\n",
       "5432    1\n",
       "7481    1\n",
       "1338    1\n",
       "2047    1\n",
       "Name: row_number, Length: 10000, dtype: int64"
      ]
     },
     "metadata": {},
     "output_type": "display_data"
    },
    {
     "data": {
      "text/plain": [
       "15695872    1\n",
       "15801062    1\n",
       "15682268    1\n",
       "15647453    1\n",
       "15684319    1\n",
       "           ..\n",
       "15629677    1\n",
       "15773039    1\n",
       "15766896    1\n",
       "15719793    1\n",
       "15812607    1\n",
       "Name: customer_id, Length: 10000, dtype: int64"
      ]
     },
     "metadata": {},
     "output_type": "display_data"
    },
    {
     "data": {
      "text/plain": [
       "Smith       32\n",
       "Martin      29\n",
       "Scott       29\n",
       "Walker      28\n",
       "Brown       26\n",
       "            ..\n",
       "Donoghue     1\n",
       "Lacross      1\n",
       "Craigie      1\n",
       "Zuev         1\n",
       "Gebhart      1\n",
       "Name: surname, Length: 2932, dtype: int64"
      ]
     },
     "metadata": {},
     "output_type": "display_data"
    },
    {
     "data": {
      "text/plain": [
       "850    233\n",
       "678     63\n",
       "655     54\n",
       "667     53\n",
       "705     53\n",
       "      ... \n",
       "412      1\n",
       "351      1\n",
       "365      1\n",
       "373      1\n",
       "423      1\n",
       "Name: credit_score, Length: 460, dtype: int64"
      ]
     },
     "metadata": {},
     "output_type": "display_data"
    },
    {
     "data": {
      "text/plain": [
       "France     5014\n",
       "Germany    2509\n",
       "Spain      2477\n",
       "Name: geography, dtype: int64"
      ]
     },
     "metadata": {},
     "output_type": "display_data"
    },
    {
     "data": {
      "text/plain": [
       "Male      5457\n",
       "Female    4543\n",
       "Name: gender, dtype: int64"
      ]
     },
     "metadata": {},
     "output_type": "display_data"
    },
    {
     "data": {
      "text/plain": [
       "37    478\n",
       "38    477\n",
       "35    474\n",
       "36    456\n",
       "34    447\n",
       "     ... \n",
       "92      2\n",
       "88      1\n",
       "82      1\n",
       "85      1\n",
       "83      1\n",
       "Name: age, Length: 70, dtype: int64"
      ]
     },
     "metadata": {},
     "output_type": "display_data"
    },
    {
     "data": {
      "text/plain": [
       "5     1836\n",
       "1      952\n",
       "2      950\n",
       "8      933\n",
       "3      928\n",
       "7      925\n",
       "4      885\n",
       "9      882\n",
       "6      881\n",
       "10     446\n",
       "0      382\n",
       "Name: tenure, dtype: int64"
      ]
     },
     "metadata": {},
     "output_type": "display_data"
    },
    {
     "data": {
      "text/plain": [
       "0.00         3617\n",
       "105473.74       2\n",
       "130170.82       2\n",
       "72594.00        1\n",
       "139723.90       1\n",
       "             ... \n",
       "130306.49       1\n",
       "92895.56        1\n",
       "132005.77       1\n",
       "166287.85       1\n",
       "104001.38       1\n",
       "Name: balance, Length: 6382, dtype: int64"
      ]
     },
     "metadata": {},
     "output_type": "display_data"
    },
    {
     "data": {
      "text/plain": [
       "1    5084\n",
       "2    4590\n",
       "3     266\n",
       "4      60\n",
       "Name: num_of_products, dtype: int64"
      ]
     },
     "metadata": {},
     "output_type": "display_data"
    },
    {
     "data": {
      "text/plain": [
       "1    7055\n",
       "0    2945\n",
       "Name: has_cr_card, dtype: int64"
      ]
     },
     "metadata": {},
     "output_type": "display_data"
    },
    {
     "data": {
      "text/plain": [
       "1    5151\n",
       "0    4849\n",
       "Name: is_active_member, dtype: int64"
      ]
     },
     "metadata": {},
     "output_type": "display_data"
    },
    {
     "data": {
      "text/plain": [
       "24924.92     2\n",
       "109145.20    1\n",
       "59755.14     1\n",
       "1557.82      1\n",
       "117202.19    1\n",
       "            ..\n",
       "37674.47     1\n",
       "158043.11    1\n",
       "103792.53    1\n",
       "182266.01    1\n",
       "155061.97    1\n",
       "Name: estimated_salary, Length: 9999, dtype: int64"
      ]
     },
     "metadata": {},
     "output_type": "display_data"
    },
    {
     "data": {
      "text/plain": [
       "0    7963\n",
       "1    2037\n",
       "Name: exited, dtype: int64"
      ]
     },
     "metadata": {},
     "output_type": "display_data"
    }
   ],
   "source": [
    "for col in df.columns:\n",
    "    display(df[col].value_counts())"
   ]
  },
  {
   "cell_type": "markdown",
   "metadata": {},
   "source": [
    "Есть два столбца в которых можно категориальные признаки преобразовать в численные с помощью техники прямого кодирования `gender` и `geography`.\n",
    "\n",
    "Классы несбалансированны - их соотношение далеко от 1:1\n",
    "\n",
    "Удалим столбцы с ненужными данными для нашей задачи:"
   ]
  },
  {
   "cell_type": "code",
   "execution_count": 9,
   "metadata": {},
   "outputs": [],
   "source": [
    "df = df.drop(['row_number', 'customer_id', 'surname'], axis=1)"
   ]
  },
  {
   "cell_type": "markdown",
   "metadata": {},
   "source": [
    "Поищем дубликаты:"
   ]
  },
  {
   "cell_type": "code",
   "execution_count": 10,
   "metadata": {},
   "outputs": [
    {
     "data": {
      "text/plain": [
       "0"
      ]
     },
     "execution_count": 10,
     "metadata": {},
     "output_type": "execute_result"
    }
   ],
   "source": [
    "df.duplicated().sum()"
   ]
  },
  {
   "cell_type": "markdown",
   "metadata": {},
   "source": [
    "Зачем-то решил проверить столбцы со значениями которые не должны иметь много повторений:"
   ]
  },
  {
   "cell_type": "code",
   "execution_count": 11,
   "metadata": {},
   "outputs": [
    {
     "data": {
      "text/plain": [
       "3618"
      ]
     },
     "execution_count": 11,
     "metadata": {},
     "output_type": "execute_result"
    }
   ],
   "source": [
    "df['balance'].duplicated().sum()"
   ]
  },
  {
   "cell_type": "code",
   "execution_count": 12,
   "metadata": {},
   "outputs": [
    {
     "data": {
      "text/plain": [
       "0.00         3617\n",
       "105473.74       2\n",
       "130170.82       2\n",
       "72594.00        1\n",
       "139723.90       1\n",
       "             ... \n",
       "130306.49       1\n",
       "92895.56        1\n",
       "132005.77       1\n",
       "166287.85       1\n",
       "104001.38       1\n",
       "Name: balance, Length: 6382, dtype: int64"
      ]
     },
     "execution_count": 12,
     "metadata": {},
     "output_type": "execute_result"
    }
   ],
   "source": [
    "df['balance'].value_counts()"
   ]
  },
  {
   "cell_type": "markdown",
   "metadata": {},
   "source": [
    "Нулевой баланс в таком количестве кажется подозрительным. Выясним можно ли что-то с этим сделать:"
   ]
  },
  {
   "cell_type": "code",
   "execution_count": 13,
   "metadata": {
    "scrolled": true
   },
   "outputs": [
    {
     "data": {
      "text/html": [
       "<div>\n",
       "<style scoped>\n",
       "    .dataframe tbody tr th:only-of-type {\n",
       "        vertical-align: middle;\n",
       "    }\n",
       "\n",
       "    .dataframe tbody tr th {\n",
       "        vertical-align: top;\n",
       "    }\n",
       "\n",
       "    .dataframe thead th {\n",
       "        text-align: right;\n",
       "    }\n",
       "</style>\n",
       "<table border=\"1\" class=\"dataframe\">\n",
       "  <thead>\n",
       "    <tr style=\"text-align: right;\">\n",
       "      <th></th>\n",
       "      <th>credit_score</th>\n",
       "      <th>geography</th>\n",
       "      <th>gender</th>\n",
       "      <th>age</th>\n",
       "      <th>tenure</th>\n",
       "      <th>balance</th>\n",
       "      <th>num_of_products</th>\n",
       "      <th>has_cr_card</th>\n",
       "      <th>is_active_member</th>\n",
       "      <th>estimated_salary</th>\n",
       "      <th>exited</th>\n",
       "    </tr>\n",
       "  </thead>\n",
       "  <tbody>\n",
       "    <tr>\n",
       "      <th>0</th>\n",
       "      <td>619</td>\n",
       "      <td>France</td>\n",
       "      <td>Female</td>\n",
       "      <td>42</td>\n",
       "      <td>2</td>\n",
       "      <td>0.0</td>\n",
       "      <td>1</td>\n",
       "      <td>1</td>\n",
       "      <td>1</td>\n",
       "      <td>101348.88</td>\n",
       "      <td>1</td>\n",
       "    </tr>\n",
       "    <tr>\n",
       "      <th>3</th>\n",
       "      <td>699</td>\n",
       "      <td>France</td>\n",
       "      <td>Female</td>\n",
       "      <td>39</td>\n",
       "      <td>1</td>\n",
       "      <td>0.0</td>\n",
       "      <td>2</td>\n",
       "      <td>0</td>\n",
       "      <td>0</td>\n",
       "      <td>93826.63</td>\n",
       "      <td>0</td>\n",
       "    </tr>\n",
       "    <tr>\n",
       "      <th>6</th>\n",
       "      <td>822</td>\n",
       "      <td>France</td>\n",
       "      <td>Male</td>\n",
       "      <td>50</td>\n",
       "      <td>7</td>\n",
       "      <td>0.0</td>\n",
       "      <td>2</td>\n",
       "      <td>1</td>\n",
       "      <td>1</td>\n",
       "      <td>10062.80</td>\n",
       "      <td>0</td>\n",
       "    </tr>\n",
       "    <tr>\n",
       "      <th>11</th>\n",
       "      <td>497</td>\n",
       "      <td>Spain</td>\n",
       "      <td>Male</td>\n",
       "      <td>24</td>\n",
       "      <td>3</td>\n",
       "      <td>0.0</td>\n",
       "      <td>2</td>\n",
       "      <td>1</td>\n",
       "      <td>0</td>\n",
       "      <td>76390.01</td>\n",
       "      <td>0</td>\n",
       "    </tr>\n",
       "    <tr>\n",
       "      <th>12</th>\n",
       "      <td>476</td>\n",
       "      <td>France</td>\n",
       "      <td>Female</td>\n",
       "      <td>34</td>\n",
       "      <td>10</td>\n",
       "      <td>0.0</td>\n",
       "      <td>2</td>\n",
       "      <td>1</td>\n",
       "      <td>0</td>\n",
       "      <td>26260.98</td>\n",
       "      <td>0</td>\n",
       "    </tr>\n",
       "    <tr>\n",
       "      <th>...</th>\n",
       "      <td>...</td>\n",
       "      <td>...</td>\n",
       "      <td>...</td>\n",
       "      <td>...</td>\n",
       "      <td>...</td>\n",
       "      <td>...</td>\n",
       "      <td>...</td>\n",
       "      <td>...</td>\n",
       "      <td>...</td>\n",
       "      <td>...</td>\n",
       "      <td>...</td>\n",
       "    </tr>\n",
       "    <tr>\n",
       "      <th>9989</th>\n",
       "      <td>841</td>\n",
       "      <td>Spain</td>\n",
       "      <td>Male</td>\n",
       "      <td>28</td>\n",
       "      <td>4</td>\n",
       "      <td>0.0</td>\n",
       "      <td>2</td>\n",
       "      <td>1</td>\n",
       "      <td>1</td>\n",
       "      <td>179436.60</td>\n",
       "      <td>0</td>\n",
       "    </tr>\n",
       "    <tr>\n",
       "      <th>9992</th>\n",
       "      <td>726</td>\n",
       "      <td>Spain</td>\n",
       "      <td>Male</td>\n",
       "      <td>36</td>\n",
       "      <td>2</td>\n",
       "      <td>0.0</td>\n",
       "      <td>1</td>\n",
       "      <td>1</td>\n",
       "      <td>0</td>\n",
       "      <td>195192.40</td>\n",
       "      <td>0</td>\n",
       "    </tr>\n",
       "    <tr>\n",
       "      <th>9994</th>\n",
       "      <td>800</td>\n",
       "      <td>France</td>\n",
       "      <td>Female</td>\n",
       "      <td>29</td>\n",
       "      <td>2</td>\n",
       "      <td>0.0</td>\n",
       "      <td>2</td>\n",
       "      <td>0</td>\n",
       "      <td>0</td>\n",
       "      <td>167773.55</td>\n",
       "      <td>0</td>\n",
       "    </tr>\n",
       "    <tr>\n",
       "      <th>9995</th>\n",
       "      <td>771</td>\n",
       "      <td>France</td>\n",
       "      <td>Male</td>\n",
       "      <td>39</td>\n",
       "      <td>5</td>\n",
       "      <td>0.0</td>\n",
       "      <td>2</td>\n",
       "      <td>1</td>\n",
       "      <td>0</td>\n",
       "      <td>96270.64</td>\n",
       "      <td>0</td>\n",
       "    </tr>\n",
       "    <tr>\n",
       "      <th>9997</th>\n",
       "      <td>709</td>\n",
       "      <td>France</td>\n",
       "      <td>Female</td>\n",
       "      <td>36</td>\n",
       "      <td>7</td>\n",
       "      <td>0.0</td>\n",
       "      <td>1</td>\n",
       "      <td>0</td>\n",
       "      <td>1</td>\n",
       "      <td>42085.58</td>\n",
       "      <td>1</td>\n",
       "    </tr>\n",
       "  </tbody>\n",
       "</table>\n",
       "<p>3617 rows × 11 columns</p>\n",
       "</div>"
      ],
      "text/plain": [
       "      credit_score geography  gender  age  tenure  balance  num_of_products  \\\n",
       "0              619    France  Female   42       2      0.0                1   \n",
       "3              699    France  Female   39       1      0.0                2   \n",
       "6              822    France    Male   50       7      0.0                2   \n",
       "11             497     Spain    Male   24       3      0.0                2   \n",
       "12             476    France  Female   34      10      0.0                2   \n",
       "...            ...       ...     ...  ...     ...      ...              ...   \n",
       "9989           841     Spain    Male   28       4      0.0                2   \n",
       "9992           726     Spain    Male   36       2      0.0                1   \n",
       "9994           800    France  Female   29       2      0.0                2   \n",
       "9995           771    France    Male   39       5      0.0                2   \n",
       "9997           709    France  Female   36       7      0.0                1   \n",
       "\n",
       "      has_cr_card  is_active_member  estimated_salary  exited  \n",
       "0               1                 1         101348.88       1  \n",
       "3               0                 0          93826.63       0  \n",
       "6               1                 1          10062.80       0  \n",
       "11              1                 0          76390.01       0  \n",
       "12              1                 0          26260.98       0  \n",
       "...           ...               ...               ...     ...  \n",
       "9989            1                 1         179436.60       0  \n",
       "9992            1                 0         195192.40       0  \n",
       "9994            0                 0         167773.55       0  \n",
       "9995            1                 0          96270.64       0  \n",
       "9997            0                 1          42085.58       1  \n",
       "\n",
       "[3617 rows x 11 columns]"
      ]
     },
     "execution_count": 13,
     "metadata": {},
     "output_type": "execute_result"
    }
   ],
   "source": [
    "df.query('balance == 0')"
   ]
  },
  {
   "cell_type": "code",
   "execution_count": 14,
   "metadata": {},
   "outputs": [
    {
     "data": {
      "text/plain": [
       "0.012797496340555688"
      ]
     },
     "execution_count": 14,
     "metadata": {},
     "output_type": "execute_result"
    }
   ],
   "source": [
    "df['balance'].corr(df['estimated_salary'])"
   ]
  },
  {
   "cell_type": "code",
   "execution_count": 15,
   "metadata": {},
   "outputs": [
    {
     "data": {
      "text/plain": [
       "0.006268381616008714"
      ]
     },
     "execution_count": 15,
     "metadata": {},
     "output_type": "execute_result"
    }
   ],
   "source": [
    "df['balance'].corr(df['credit_score'])"
   ]
  },
  {
   "cell_type": "markdown",
   "metadata": {},
   "source": [
    "Какой-то закономерности найти не удалось. Адекватно заполнить чем-либо нет возможности. Возможно что там и правда 0 на балансе."
   ]
  },
  {
   "cell_type": "code",
   "execution_count": 16,
   "metadata": {},
   "outputs": [
    {
     "data": {
      "text/plain": [
       "1"
      ]
     },
     "execution_count": 16,
     "metadata": {},
     "output_type": "execute_result"
    }
   ],
   "source": [
    "df['estimated_salary'].duplicated().sum()"
   ]
  },
  {
   "cell_type": "code",
   "execution_count": 17,
   "metadata": {},
   "outputs": [
    {
     "data": {
      "text/plain": [
       "24924.92     2\n",
       "109145.20    1\n",
       "59755.14     1\n",
       "1557.82      1\n",
       "117202.19    1\n",
       "            ..\n",
       "37674.47     1\n",
       "158043.11    1\n",
       "103792.53    1\n",
       "182266.01    1\n",
       "155061.97    1\n",
       "Name: estimated_salary, Length: 9999, dtype: int64"
      ]
     },
     "execution_count": 17,
     "metadata": {},
     "output_type": "execute_result"
    }
   ],
   "source": [
    "df['estimated_salary'].value_counts()"
   ]
  },
  {
   "cell_type": "markdown",
   "metadata": {},
   "source": [
    "Думаю это не критично."
   ]
  },
  {
   "cell_type": "code",
   "execution_count": 18,
   "metadata": {},
   "outputs": [
    {
     "data": {
      "text/plain": [
       "array([[<AxesSubplot:title={'center':'credit_score'}>,\n",
       "        <AxesSubplot:title={'center':'age'}>,\n",
       "        <AxesSubplot:title={'center':'tenure'}>],\n",
       "       [<AxesSubplot:title={'center':'balance'}>,\n",
       "        <AxesSubplot:title={'center':'num_of_products'}>,\n",
       "        <AxesSubplot:title={'center':'has_cr_card'}>],\n",
       "       [<AxesSubplot:title={'center':'is_active_member'}>,\n",
       "        <AxesSubplot:title={'center':'estimated_salary'}>,\n",
       "        <AxesSubplot:title={'center':'exited'}>]], dtype=object)"
      ]
     },
     "execution_count": 18,
     "metadata": {},
     "output_type": "execute_result"
    },
    {
     "data": {
      "image/png": "[encoded data removed]",
      "text/plain": [
       "<Figure size 2160x1440 with 9 Axes>"
      ]
     },
     "metadata": {
      "needs_background": "light"
     },
     "output_type": "display_data"
    }
   ],
   "source": [
    "df.hist(bins=50, figsize=(30, 20))"
   ]
  },
  {
   "cell_type": "markdown",
   "metadata": {},
   "source": [
    "На гистограме `credit_score` видно сильно отличающееся от основной массы значение - выброс, `balance` - наглядно с множеством нулей."
   ]
  },
  {
   "cell_type": "markdown",
   "metadata": {},
   "source": [
    "В рамках предобработки были изменены названия столбцов - привели к змеиному регистру; заполнили пропуски столбца `'tenure'` медианным значением и привели к целочисленному типу данных, проверили наличие дубликатов - ничего критичного. удалили столбцы с лишними данными для нашей задачи: `'row_number', 'customer_id', 'surname'`.\n",
    "\n",
    "\n"
   ]
  },
  {
   "cell_type": "markdown",
   "metadata": {},
   "source": [
    "## Исследование задачи"
   ]
  },
  {
   "cell_type": "markdown",
   "metadata": {},
   "source": [
    "Преобразуем категориальные признаки в численные One-Hot Encoding.\n",
    "\n",
    "Поделим выборку на тренировочную(60%), валидационную(20%) и тестовую(20%).\n",
    "\n",
    "Масштабируем признаки `'credit_score', 'age', 'tenure', 'balance', 'num_of_products', 'estimated_salary'`"
   ]
  },
  {
   "cell_type": "code",
   "execution_count": 19,
   "metadata": {
    "scrolled": true
   },
   "outputs": [
    {
     "data": {
      "text/html": [
       "<div>\n",
       "<style scoped>\n",
       "    .dataframe tbody tr th:only-of-type {\n",
       "        vertical-align: middle;\n",
       "    }\n",
       "\n",
       "    .dataframe tbody tr th {\n",
       "        vertical-align: top;\n",
       "    }\n",
       "\n",
       "    .dataframe thead th {\n",
       "        text-align: right;\n",
       "    }\n",
       "</style>\n",
       "<table border=\"1\" class=\"dataframe\">\n",
       "  <thead>\n",
       "    <tr style=\"text-align: right;\">\n",
       "      <th></th>\n",
       "      <th>credit_score</th>\n",
       "      <th>age</th>\n",
       "      <th>tenure</th>\n",
       "      <th>balance</th>\n",
       "      <th>num_of_products</th>\n",
       "      <th>has_cr_card</th>\n",
       "      <th>is_active_member</th>\n",
       "      <th>estimated_salary</th>\n",
       "      <th>geography_Germany</th>\n",
       "      <th>geography_Spain</th>\n",
       "      <th>gender_Male</th>\n",
       "    </tr>\n",
       "  </thead>\n",
       "  <tbody>\n",
       "    <tr>\n",
       "      <th>7479</th>\n",
       "      <td>-0.886751</td>\n",
       "      <td>-0.373192</td>\n",
       "      <td>1.082277</td>\n",
       "      <td>1.232271</td>\n",
       "      <td>-0.891560</td>\n",
       "      <td>1</td>\n",
       "      <td>0</td>\n",
       "      <td>-0.187705</td>\n",
       "      <td>0</td>\n",
       "      <td>1</td>\n",
       "      <td>1</td>\n",
       "    </tr>\n",
       "    <tr>\n",
       "      <th>3411</th>\n",
       "      <td>0.608663</td>\n",
       "      <td>-0.183385</td>\n",
       "      <td>1.082277</td>\n",
       "      <td>0.600563</td>\n",
       "      <td>-0.891560</td>\n",
       "      <td>0</td>\n",
       "      <td>0</td>\n",
       "      <td>-0.333945</td>\n",
       "      <td>0</td>\n",
       "      <td>0</td>\n",
       "      <td>0</td>\n",
       "    </tr>\n",
       "    <tr>\n",
       "      <th>6027</th>\n",
       "      <td>2.052152</td>\n",
       "      <td>0.480939</td>\n",
       "      <td>-0.737696</td>\n",
       "      <td>1.027098</td>\n",
       "      <td>0.830152</td>\n",
       "      <td>0</td>\n",
       "      <td>1</td>\n",
       "      <td>1.503095</td>\n",
       "      <td>1</td>\n",
       "      <td>0</td>\n",
       "      <td>1</td>\n",
       "    </tr>\n",
       "    <tr>\n",
       "      <th>1247</th>\n",
       "      <td>-1.457915</td>\n",
       "      <td>-1.417129</td>\n",
       "      <td>0.354288</td>\n",
       "      <td>-1.233163</td>\n",
       "      <td>0.830152</td>\n",
       "      <td>1</td>\n",
       "      <td>0</td>\n",
       "      <td>-1.071061</td>\n",
       "      <td>0</td>\n",
       "      <td>0</td>\n",
       "      <td>1</td>\n",
       "    </tr>\n",
       "    <tr>\n",
       "      <th>3716</th>\n",
       "      <td>0.130961</td>\n",
       "      <td>-1.132419</td>\n",
       "      <td>-1.101690</td>\n",
       "      <td>1.140475</td>\n",
       "      <td>-0.891560</td>\n",
       "      <td>0</td>\n",
       "      <td>0</td>\n",
       "      <td>1.524268</td>\n",
       "      <td>1</td>\n",
       "      <td>0</td>\n",
       "      <td>0</td>\n",
       "    </tr>\n",
       "  </tbody>\n",
       "</table>\n",
       "</div>"
      ],
      "text/plain": [
       "      credit_score       age    tenure   balance  num_of_products  \\\n",
       "7479     -0.886751 -0.373192  1.082277  1.232271        -0.891560   \n",
       "3411      0.608663 -0.183385  1.082277  0.600563        -0.891560   \n",
       "6027      2.052152  0.480939 -0.737696  1.027098         0.830152   \n",
       "1247     -1.457915 -1.417129  0.354288 -1.233163         0.830152   \n",
       "3716      0.130961 -1.132419 -1.101690  1.140475        -0.891560   \n",
       "\n",
       "      has_cr_card  is_active_member  estimated_salary  geography_Germany  \\\n",
       "7479            1                 0         -0.187705                  0   \n",
       "3411            0                 0         -0.333945                  0   \n",
       "6027            0                 1          1.503095                  1   \n",
       "1247            1                 0         -1.071061                  0   \n",
       "3716            0                 0          1.524268                  1   \n",
       "\n",
       "      geography_Spain  gender_Male  \n",
       "7479                1            1  \n",
       "3411                0            0  \n",
       "6027                0            1  \n",
       "1247                0            1  \n",
       "3716                0            0  "
      ]
     },
     "execution_count": 19,
     "metadata": {},
     "output_type": "execute_result"
    }
   ],
   "source": [
    "df_ohe = pd.get_dummies(df, drop_first=True)\n",
    "features = df_ohe.drop('exited', axis=1)\n",
    "target = df_ohe['exited']\n",
    "\n",
    "features_train, features_other, target_train, target_other = train_test_split(\n",
    "features, target, test_size=0.4, random_state=12345) \n",
    "\n",
    "features_valid, features_test, target_valid, target_test = train_test_split(\n",
    "features_other, target_other, test_size=0.5, random_state=12345)\n",
    "\n",
    "numeric = ['credit_score', 'age', 'tenure', 'balance', 'num_of_products', 'estimated_salary']\n",
    "\n",
    "scaler = StandardScaler()\n",
    "scaler.fit(features_train[numeric])\n",
    "features_train[numeric] = scaler.transform(features_train[numeric])\n",
    "features_valid[numeric] = scaler.transform(features_valid[numeric])\n",
    "features_test[numeric] = scaler.transform(features_test[numeric])\n",
    "features_train.head()"
   ]
  },
  {
   "cell_type": "code",
   "execution_count": 20,
   "metadata": {},
   "outputs": [
    {
     "name": "stdout",
     "output_type": "stream",
     "text": [
      "train: (6000, 11) (6000,) valid: (2000, 11) (2000,) test: (2000, 11) (2000,)\n"
     ]
    }
   ],
   "source": [
    "print('train:', features_train.shape, target_train.shape, 'valid:', features_valid.shape, target_valid.shape, 'test:', features_test.shape, target_test.shape)"
   ]
  },
  {
   "cell_type": "markdown",
   "metadata": {},
   "source": [
    "### LogisticRegression"
   ]
  },
  {
   "cell_type": "code",
   "execution_count": 21,
   "metadata": {},
   "outputs": [
    {
     "name": "stdout",
     "output_type": "stream",
     "text": [
      "F1: 0.33108108108108103\n"
     ]
    }
   ],
   "source": [
    "model = LogisticRegression(random_state=12345, solver='liblinear')\n",
    "model.fit(features_train, target_train) \n",
    "predictions = model.predict(features_valid)\n",
    "print('F1:', f1_score(predictions, target_valid))"
   ]
  },
  {
   "cell_type": "markdown",
   "metadata": {},
   "source": [
    "### DecisionTreeClassifier"
   ]
  },
  {
   "cell_type": "code",
   "execution_count": 22,
   "metadata": {},
   "outputs": [
    {
     "name": "stdout",
     "output_type": "stream",
     "text": [
      "F1: 0.5006045949214026\n"
     ]
    }
   ],
   "source": [
    "model = DecisionTreeClassifier(random_state=12345)\n",
    "model.fit(features_train, target_train)\n",
    "predictions = model.predict(features_valid)\n",
    "print('F1:', f1_score(predictions, target_valid))"
   ]
  },
  {
   "cell_type": "markdown",
   "metadata": {},
   "source": [
    "###  RandomForestClassifier"
   ]
  },
  {
   "cell_type": "code",
   "execution_count": 23,
   "metadata": {},
   "outputs": [
    {
     "name": "stdout",
     "output_type": "stream",
     "text": [
      "F1: 0.5769805680119582\n"
     ]
    }
   ],
   "source": [
    "model = RandomForestClassifier(random_state=12345)\n",
    "model.fit(features_train, target_train)\n",
    "predictions = model.predict(features_valid)\n",
    "print('F1:', f1_score(predictions, target_valid))"
   ]
  },
  {
   "cell_type": "markdown",
   "metadata": {},
   "source": [
    "Лучший результат без учета дисбаланса и без подбора гиперпараметров у случайного леса - продолжим работу с ним."
   ]
  },
  {
   "cell_type": "code",
   "execution_count": 24,
   "metadata": {},
   "outputs": [
    {
     "name": "stdout",
     "output_type": "stream",
     "text": [
      "RandomForestClassifier(max_depth=11, n_estimators=290, n_jobs=-1,\n",
      "                       random_state=12345)\n",
      "CPU times: user 1min 12s, sys: 401 ms, total: 1min 12s\n",
      "Wall time: 1min 12s\n"
     ]
    }
   ],
   "source": [
    "%%time\n",
    "best_model = None\n",
    "best_result = 0\n",
    "for depth in range(1, 20, 5):\n",
    "    for est in range(100, 300, 10):\n",
    "        model = RandomForestClassifier(max_depth=depth, random_state=12345, n_estimators=est, n_jobs=-1)\n",
    "        model.fit(features_train, target_train)\n",
    "        predictions = model.predict(features_valid)\n",
    "        result = model.score(features_valid, target_valid)\n",
    "        if result > best_result:\n",
    "            best_model = model\n",
    "            best_result = result\n",
    "print(best_model)"
   ]
  },
  {
   "cell_type": "markdown",
   "metadata": {},
   "source": [
    "RandomForestClassifier(max_depth=11, n_estimators=290, n_jobs=-1,\n",
    "                       random_state=12345)"
   ]
  },
  {
   "cell_type": "markdown",
   "metadata": {},
   "source": [
    "Преобразовали категориальные признаки в численные One-Hot Encoding, было: `'geography', 'gender'`; стало: `geography_Germany', 'geography_Spain', 'gender_Male'`.\n",
    "\n",
    "Поделили данные на три части: тренировочную(60%), валидационную(20%) и тестовую(20%).\n",
    "\n",
    "Масштабировали следующие признаки: `'credit_score', 'age', 'tenure', 'balance', 'num_of_products', 'estimated_salary'`.\n",
    "    \n",
    "Модель RandomForestClassifier выдала лучший результат по метрике F1. Для неё подобрали гиперпараметры глубину 11 и количество деревьев 310."
   ]
  },
  {
   "cell_type": "markdown",
   "metadata": {},
   "source": [
    "## Борьба с дисбалансом"
   ]
  },
  {
   "cell_type": "markdown",
   "metadata": {},
   "source": [
    "### Увеличение выборки"
   ]
  },
  {
   "cell_type": "code",
   "execution_count": 25,
   "metadata": {},
   "outputs": [
    {
     "name": "stdout",
     "output_type": "stream",
     "text": [
      "F1: 0.6062176165803109\n",
      "CPU times: user 2.48 s, sys: 23.9 ms, total: 2.5 s\n",
      "Wall time: 2.51 s\n"
     ]
    }
   ],
   "source": [
    "%%time\n",
    "def upsample(features, target, repeat):\n",
    "    features_zeros = features[target == 0]\n",
    "    features_ones = features[target == 1]\n",
    "    target_zeros = target[target == 0]\n",
    "    target_ones = target[target == 1]\n",
    "\n",
    "    features_upsampled = pd.concat([features_zeros] + [features_ones] * repeat)\n",
    "    target_upsampled = pd.concat([target_zeros] + [target_ones] * repeat)\n",
    "    \n",
    "    features_upsampled, target_upsampled = shuffle(\n",
    "        features_upsampled, target_upsampled, random_state=12345)\n",
    "    \n",
    "    return features_upsampled, target_upsampled\n",
    "\n",
    "features_upsampled, target_upsampled = upsample(features_train, target_train, 4)\n",
    "\n",
    "rfc_up = RandomForestClassifier(max_depth=depth, n_estimators=est, n_jobs=-1, random_state=12345, class_weight='balanced')\n",
    "rfc_up.fit(features_upsampled, target_upsampled) \n",
    "predicted_valid = rfc_up.predict(features_valid) \n",
    "\n",
    "print('F1:', f1_score(predicted_valid, target_valid))"
   ]
  },
  {
   "cell_type": "markdown",
   "metadata": {},
   "source": [
    "### Уменьшение выборки"
   ]
  },
  {
   "cell_type": "code",
   "execution_count": 26,
   "metadata": {
    "scrolled": true
   },
   "outputs": [
    {
     "name": "stdout",
     "output_type": "stream",
     "text": [
      "F1: 0.5854579792256847\n"
     ]
    }
   ],
   "source": [
    "def downsample(features, target, fraction):\n",
    "    features_zeros = features[target == 0]\n",
    "    features_ones = features[target == 1]\n",
    "    target_zeros = target[target == 0]\n",
    "    target_ones = target[target == 1]\n",
    "\n",
    "    features_downsampled = pd.concat(\n",
    "        [features_zeros.sample(frac=fraction, random_state=12345)] + [features_ones])\n",
    "    target_downsampled = pd.concat(\n",
    "        [target_zeros.sample(frac=fraction, random_state=12345)] + [target_ones])\n",
    "    \n",
    "    features_downsampled, target_downsampled = shuffle(\n",
    "        features_downsampled, target_downsampled, random_state=12345)\n",
    "    \n",
    "    return features_downsampled, target_downsampled\n",
    "\n",
    "features_downsampled, target_downsampled = downsample(features_train, target_train, 0.25)\n",
    "\n",
    "rfc_down = RandomForestClassifier(max_depth=depth, n_estimators=est, n_jobs=-1, random_state=12345, class_weight='balanced')\n",
    "rfc_down.fit(features_downsampled, target_downsampled)\n",
    "predicted_valid = rfc_down.predict(features_valid)\n",
    "\n",
    "print('F1:', f1_score(target_valid, predicted_valid))"
   ]
  },
  {
   "cell_type": "markdown",
   "metadata": {},
   "source": [
    "### Изменение порога"
   ]
  },
  {
   "cell_type": "code",
   "execution_count": 27,
   "metadata": {},
   "outputs": [
    {
     "name": "stdout",
     "output_type": "stream",
     "text": [
      "F1: 0.6169265033407573\n",
      "Порог: 0.29999999999999993\n",
      "CPU times: user 1.79 s, sys: 55.9 ms, total: 1.85 s\n",
      "Wall time: 1.85 s\n"
     ]
    }
   ],
   "source": [
    "%%time\n",
    "rfc_th = RandomForestClassifier(max_depth=depth, n_estimators=est, n_jobs=-1, random_state=12345, class_weight='balanced')\n",
    "rfc_th.fit(features_train, target_train)\n",
    "probabilities_valid = rfc_th.predict_proba(features_valid)\n",
    "probabilities_one_valid = probabilities_valid[:, 1]\n",
    "best_threshold = None\n",
    "best_result = 0\n",
    "for threshold in np.arange(0.2, 0.5, 0.02):\n",
    "    predicted_valid = probabilities_one_valid > threshold \n",
    "    result = f1_score(target_valid, predicted_valid)\n",
    "    if result > best_result:\n",
    "        best_threshold = threshold\n",
    "        best_result = result\n",
    "print('F1:', best_result)\n",
    "print('Порог:', best_threshold)"
   ]
  },
  {
   "cell_type": "markdown",
   "metadata": {},
   "source": [
    "## Тестирование модели"
   ]
  },
  {
   "cell_type": "code",
   "execution_count": 28,
   "metadata": {},
   "outputs": [
    {
     "name": "stdout",
     "output_type": "stream",
     "text": [
      "F1: 0.6240179573512907\n"
     ]
    },
    {
     "data": {
      "image/png": "[encoded data removed]",
      "text/plain": [
       "<Figure size 432x288 with 1 Axes>"
      ]
     },
     "metadata": {
      "needs_background": "light"
     },
     "output_type": "display_data"
    },
    {
     "name": "stdout",
     "output_type": "stream",
     "text": [
      "AUC_ROC: 0.8448234927624775\n"
     ]
    }
   ],
   "source": [
    "rfc_th = RandomForestClassifier(max_depth=depth, n_estimators=est, n_jobs=-1, random_state=12345)\n",
    "rfc_th.fit(features_train, target_train)\n",
    "probabilities_test = rfc_th.predict_proba(features_test)\n",
    "threshold = best_threshold\n",
    "probabilities_one_test = probabilities_test[:, 1]\n",
    "predicted_test = probabilities_one_test > threshold \n",
    "print('F1:', f1_score(target_test, predicted_test))\n",
    "\n",
    "probabilities_valid = model.predict_proba(features_valid)\n",
    "probabilities_one_valid = probabilities_valid[:, 1]\n",
    "\n",
    "fpr, tpr, thresholds = roc_curve(target_test, probabilities_one_test)\n",
    "\n",
    "plt.figure()\n",
    "plt.plot(fpr, tpr)\n",
    "plt.plot([0, 1], [0, 1], linestyle='--')\n",
    "plt.ylim([0.0, 1.0])\n",
    "plt.xlim([0.0, 1.0])\n",
    "plt.xlabel('False Positive Rate')\n",
    "plt.ylabel('True Positive Rate')\n",
    "plt.title('ROC-кривая')\n",
    "plt.legend(('Случайный лес', 'Случайная модель'), loc= 'lower right') \n",
    "plt.show()\n",
    "\n",
    "auc_roc = roc_auc_score(target_valid, probabilities_one_valid)\n",
    "\n",
    "print('AUC_ROC:', auc_roc)"
   ]
  },
  {
   "cell_type": "markdown",
   "metadata": {},
   "source": [
    "Значение площади под кривой AUC_ROC = 0.84 гораздо лучше случайной модели(0.5)."
   ]
  },
  {
   "cell_type": "markdown",
   "metadata": {},
   "source": [
    "Параметры лучшей модели: \n",
    "\n",
    "RandomForestClassifier(max_depth=11, n_estimators=290, n_jobs=-1,\n",
    "                       random_state=12345)\n",
    "                       \n",
    "Порог: 0.3  \n",
    "\n",
    "F1 на тесте: 0.624\n",
    "\n",
    "AUC_ROC: 0.845"
   ]
  },
  {
   "cell_type": "markdown",
   "metadata": {},
   "source": [
    "Общий вывод: \n",
    "    \n",
    "    Целью этого проекта был проноз - уйдет ли клиент из банка в ближайшее время. Также для успешного прогноза должно быть достигнуто значение F1-меры - минимум 0.59 для этого нам были предоставлены данные о состоянии клиентов. В данных наблюдасля достаточно большой дисбаланс классов 20% данных о том что клиент покинул банк и 80% что еще нет. В ходе предобработки данные были отредактированы для более удобной работы: названия приведены к привычному типу, пропуски заполнены, лишние данные удалены.\n",
    "    \n",
    "    Было обучено три модели которые не дали с ходу необходимых результатов. Из трех была выбрана модель с наибольшей перспективой RandomForestClassifier так как сильно выделялась на фоне остальных. Для этой модели были подобраны гиперпараметры для получения лучших результатов. Далее были проверены три варианта борьбы с дисбалансом классов. Лучший результат получился на варианте изменения порога. На выбранных параметрах провели тестирование. Значение F1-меры достигнуто "
   ]
  }
 ],
 "metadata": {
  "ExecuteTimeLog": [
   {
    "duration": 51,
    "start_time": "2023-01-05T07:30:47.473Z"
   },
   {
    "duration": 6,
    "start_time": "2023-01-05T07:30:51.239Z"
   },
   {
    "duration": 552,
    "start_time": "2023-01-05T07:30:55.814Z"
   },
   {
    "duration": 14,
    "start_time": "2023-01-05T07:30:57.092Z"
   },
   {
    "duration": 22,
    "start_time": "2023-01-05T07:31:14.460Z"
   },
   {
    "duration": 29,
    "start_time": "2023-01-05T07:31:24.233Z"
   },
   {
    "duration": 4,
    "start_time": "2023-01-05T07:31:31.183Z"
   },
   {
    "duration": 52,
    "start_time": "2023-01-05T07:34:11.261Z"
   },
   {
    "duration": 49,
    "start_time": "2023-01-09T15:16:02.553Z"
   },
   {
    "duration": 533,
    "start_time": "2023-01-09T15:16:08.337Z"
   },
   {
    "duration": 14,
    "start_time": "2023-01-09T15:16:08.873Z"
   },
   {
    "duration": 18,
    "start_time": "2023-01-09T15:16:08.889Z"
   },
   {
    "duration": 5,
    "start_time": "2023-01-09T15:16:08.909Z"
   },
   {
    "duration": 26,
    "start_time": "2023-01-09T15:16:08.915Z"
   },
   {
    "duration": 4,
    "start_time": "2023-01-09T15:17:20.793Z"
   },
   {
    "duration": 5,
    "start_time": "2023-01-09T15:24:18.410Z"
   },
   {
    "duration": 7,
    "start_time": "2023-01-09T15:26:25.645Z"
   },
   {
    "duration": 4,
    "start_time": "2023-01-09T15:26:41.521Z"
   },
   {
    "duration": 5,
    "start_time": "2023-01-09T15:26:54.006Z"
   },
   {
    "duration": 494,
    "start_time": "2023-01-09T15:28:50.626Z"
   },
   {
    "duration": 14,
    "start_time": "2023-01-09T15:28:51.122Z"
   },
   {
    "duration": 5,
    "start_time": "2023-01-09T15:28:51.137Z"
   },
   {
    "duration": 70,
    "start_time": "2023-01-09T15:28:51.144Z"
   },
   {
    "duration": 0,
    "start_time": "2023-01-09T15:28:51.216Z"
   },
   {
    "duration": 0,
    "start_time": "2023-01-09T15:28:51.217Z"
   },
   {
    "duration": 11,
    "start_time": "2023-01-09T15:32:07.019Z"
   },
   {
    "duration": 10,
    "start_time": "2023-01-09T15:32:34.069Z"
   },
   {
    "duration": 472,
    "start_time": "2023-01-09T15:34:30.422Z"
   },
   {
    "duration": 13,
    "start_time": "2023-01-09T15:34:30.896Z"
   },
   {
    "duration": 4,
    "start_time": "2023-01-09T15:34:30.911Z"
   },
   {
    "duration": 89,
    "start_time": "2023-01-09T15:34:30.917Z"
   },
   {
    "duration": 0,
    "start_time": "2023-01-09T15:34:31.008Z"
   },
   {
    "duration": 0,
    "start_time": "2023-01-09T15:34:31.009Z"
   },
   {
    "duration": 434,
    "start_time": "2023-01-09T15:35:07.972Z"
   },
   {
    "duration": 13,
    "start_time": "2023-01-09T15:35:08.408Z"
   },
   {
    "duration": 4,
    "start_time": "2023-01-09T15:35:08.422Z"
   },
   {
    "duration": 67,
    "start_time": "2023-01-09T15:35:08.428Z"
   },
   {
    "duration": 0,
    "start_time": "2023-01-09T15:35:08.496Z"
   },
   {
    "duration": 0,
    "start_time": "2023-01-09T15:35:08.497Z"
   },
   {
    "duration": 3,
    "start_time": "2023-01-09T15:36:13.426Z"
   },
   {
    "duration": 17,
    "start_time": "2023-01-09T15:36:16.490Z"
   },
   {
    "duration": 19,
    "start_time": "2023-01-09T15:36:58.771Z"
   },
   {
    "duration": 24,
    "start_time": "2023-01-09T15:37:16.035Z"
   },
   {
    "duration": 122,
    "start_time": "2023-01-09T15:47:08.751Z"
   },
   {
    "duration": 8,
    "start_time": "2023-01-09T15:47:36.607Z"
   },
   {
    "duration": 51,
    "start_time": "2023-01-09T15:47:59.988Z"
   },
   {
    "duration": 51,
    "start_time": "2023-01-09T15:48:22.666Z"
   },
   {
    "duration": 50,
    "start_time": "2023-01-09T15:48:26.963Z"
   },
   {
    "duration": 40,
    "start_time": "2023-01-09T15:48:41.213Z"
   },
   {
    "duration": 34,
    "start_time": "2023-01-09T15:50:19.854Z"
   },
   {
    "duration": 6,
    "start_time": "2023-01-09T15:51:07.042Z"
   },
   {
    "duration": 7,
    "start_time": "2023-01-09T15:53:24.389Z"
   },
   {
    "duration": 4,
    "start_time": "2023-01-09T15:53:39.954Z"
   },
   {
    "duration": 43,
    "start_time": "2023-01-09T15:53:45.035Z"
   },
   {
    "duration": 444,
    "start_time": "2023-01-09T15:55:53.090Z"
   },
   {
    "duration": 19,
    "start_time": "2023-01-09T15:55:53.536Z"
   },
   {
    "duration": 5,
    "start_time": "2023-01-09T15:55:53.557Z"
   },
   {
    "duration": 5,
    "start_time": "2023-01-09T15:55:53.564Z"
   },
   {
    "duration": 25,
    "start_time": "2023-01-09T15:55:53.571Z"
   },
   {
    "duration": 7,
    "start_time": "2023-01-09T15:55:53.598Z"
   },
   {
    "duration": 15,
    "start_time": "2023-01-09T15:55:53.607Z"
   },
   {
    "duration": 5,
    "start_time": "2023-01-09T15:55:53.655Z"
   },
   {
    "duration": 88,
    "start_time": "2023-01-09T15:55:53.662Z"
   },
   {
    "duration": 5,
    "start_time": "2023-01-09T15:57:18.243Z"
   },
   {
    "duration": 11,
    "start_time": "2023-01-09T15:57:19.523Z"
   },
   {
    "duration": 16,
    "start_time": "2023-01-09T15:59:20.680Z"
   },
   {
    "duration": 1175,
    "start_time": "2023-01-12T14:34:41.248Z"
   },
   {
    "duration": 13,
    "start_time": "2023-01-12T14:34:42.425Z"
   },
   {
    "duration": 5,
    "start_time": "2023-01-12T14:34:42.439Z"
   },
   {
    "duration": 6,
    "start_time": "2023-01-12T14:34:42.446Z"
   },
   {
    "duration": 19,
    "start_time": "2023-01-12T14:34:42.453Z"
   },
   {
    "duration": 6,
    "start_time": "2023-01-12T14:34:42.474Z"
   },
   {
    "duration": 17,
    "start_time": "2023-01-12T14:34:42.481Z"
   },
   {
    "duration": 6,
    "start_time": "2023-01-12T14:34:42.500Z"
   },
   {
    "duration": 8,
    "start_time": "2023-01-12T14:34:42.508Z"
   },
   {
    "duration": 61,
    "start_time": "2023-01-12T14:34:42.518Z"
   },
   {
    "duration": 109,
    "start_time": "2023-01-12T14:34:42.581Z"
   },
   {
    "duration": 5,
    "start_time": "2023-01-12T14:35:34.818Z"
   },
   {
    "duration": 19,
    "start_time": "2023-01-12T14:36:23.336Z"
   },
   {
    "duration": 6,
    "start_time": "2023-01-12T14:43:00.635Z"
   },
   {
    "duration": 7,
    "start_time": "2023-01-12T14:45:31.434Z"
   },
   {
    "duration": 1158,
    "start_time": "2023-01-12T14:45:36.265Z"
   },
   {
    "duration": 13,
    "start_time": "2023-01-12T14:45:37.425Z"
   },
   {
    "duration": 9,
    "start_time": "2023-01-12T14:45:37.439Z"
   },
   {
    "duration": 6,
    "start_time": "2023-01-12T14:45:37.452Z"
   },
   {
    "duration": 10,
    "start_time": "2023-01-12T14:45:37.461Z"
   },
   {
    "duration": 15,
    "start_time": "2023-01-12T14:45:37.472Z"
   },
   {
    "duration": 4,
    "start_time": "2023-01-12T14:45:37.489Z"
   },
   {
    "duration": 9,
    "start_time": "2023-01-12T14:45:37.495Z"
   },
   {
    "duration": 39,
    "start_time": "2023-01-12T14:45:37.506Z"
   },
   {
    "duration": 5,
    "start_time": "2023-01-12T14:45:37.547Z"
   },
   {
    "duration": 132,
    "start_time": "2023-01-12T14:45:37.553Z"
   },
   {
    "duration": 7,
    "start_time": "2023-01-12T14:49:40.980Z"
   },
   {
    "duration": 8,
    "start_time": "2023-01-12T14:50:11.111Z"
   },
   {
    "duration": 1055,
    "start_time": "2023-01-12T14:50:16.126Z"
   },
   {
    "duration": 14,
    "start_time": "2023-01-12T14:50:17.183Z"
   },
   {
    "duration": 8,
    "start_time": "2023-01-12T14:50:17.198Z"
   },
   {
    "duration": 6,
    "start_time": "2023-01-12T14:50:17.208Z"
   },
   {
    "duration": 13,
    "start_time": "2023-01-12T14:50:17.215Z"
   },
   {
    "duration": 9,
    "start_time": "2023-01-12T14:50:17.230Z"
   },
   {
    "duration": 43,
    "start_time": "2023-01-12T14:50:17.240Z"
   },
   {
    "duration": 40,
    "start_time": "2023-01-12T14:50:17.285Z"
   },
   {
    "duration": 5,
    "start_time": "2023-01-12T14:50:17.326Z"
   },
   {
    "duration": 122,
    "start_time": "2023-01-12T14:50:17.333Z"
   },
   {
    "duration": 1055,
    "start_time": "2023-01-12T14:52:12.220Z"
   },
   {
    "duration": 13,
    "start_time": "2023-01-12T14:52:13.277Z"
   },
   {
    "duration": 10,
    "start_time": "2023-01-12T14:52:13.292Z"
   },
   {
    "duration": 4,
    "start_time": "2023-01-12T14:52:13.303Z"
   },
   {
    "duration": 8,
    "start_time": "2023-01-12T14:52:13.309Z"
   },
   {
    "duration": 13,
    "start_time": "2023-01-12T14:52:13.318Z"
   },
   {
    "duration": 15,
    "start_time": "2023-01-12T14:52:13.332Z"
   },
   {
    "duration": 58,
    "start_time": "2023-01-12T14:52:13.348Z"
   },
   {
    "duration": 5,
    "start_time": "2023-01-12T14:52:13.407Z"
   },
   {
    "duration": 106,
    "start_time": "2023-01-12T14:52:13.414Z"
   },
   {
    "duration": 1123,
    "start_time": "2023-01-12T14:56:38.572Z"
   },
   {
    "duration": 14,
    "start_time": "2023-01-12T14:56:39.696Z"
   },
   {
    "duration": 9,
    "start_time": "2023-01-12T14:56:39.711Z"
   },
   {
    "duration": 8,
    "start_time": "2023-01-12T14:56:39.722Z"
   },
   {
    "duration": 19,
    "start_time": "2023-01-12T14:56:39.732Z"
   },
   {
    "duration": 9,
    "start_time": "2023-01-12T14:56:39.753Z"
   },
   {
    "duration": 25,
    "start_time": "2023-01-12T14:56:39.764Z"
   },
   {
    "duration": 38,
    "start_time": "2023-01-12T14:56:39.791Z"
   },
   {
    "duration": 5,
    "start_time": "2023-01-12T14:56:39.831Z"
   },
   {
    "duration": 123,
    "start_time": "2023-01-12T14:56:39.838Z"
   },
   {
    "duration": 12,
    "start_time": "2023-01-12T14:59:54.092Z"
   },
   {
    "duration": 6,
    "start_time": "2023-01-12T14:59:55.819Z"
   },
   {
    "duration": 4,
    "start_time": "2023-01-12T14:59:59.243Z"
   },
   {
    "duration": 7,
    "start_time": "2023-01-12T15:01:37.472Z"
   },
   {
    "duration": 7,
    "start_time": "2023-01-12T15:05:31.042Z"
   },
   {
    "duration": 11,
    "start_time": "2023-01-12T15:15:36.898Z"
   },
   {
    "duration": 10,
    "start_time": "2023-01-12T15:16:00.748Z"
   },
   {
    "duration": 15,
    "start_time": "2023-01-12T15:16:24.056Z"
   },
   {
    "duration": 12,
    "start_time": "2023-01-12T15:16:52.237Z"
   },
   {
    "duration": 22,
    "start_time": "2023-01-12T15:17:15.848Z"
   },
   {
    "duration": 18,
    "start_time": "2023-01-12T15:17:39.629Z"
   },
   {
    "duration": 19,
    "start_time": "2023-01-12T15:19:04.797Z"
   },
   {
    "duration": 5,
    "start_time": "2023-01-12T15:19:53.590Z"
   },
   {
    "duration": 9,
    "start_time": "2023-01-12T15:20:44.685Z"
   },
   {
    "duration": 9,
    "start_time": "2023-01-12T15:21:12.683Z"
   },
   {
    "duration": 5,
    "start_time": "2023-01-12T15:22:51.117Z"
   },
   {
    "duration": 7,
    "start_time": "2023-01-12T15:23:25.056Z"
   },
   {
    "duration": 5,
    "start_time": "2023-01-12T15:23:36.672Z"
   },
   {
    "duration": 5,
    "start_time": "2023-01-12T15:23:54.078Z"
   },
   {
    "duration": 5,
    "start_time": "2023-01-12T15:24:28.341Z"
   },
   {
    "duration": 1123,
    "start_time": "2023-01-12T15:24:38.172Z"
   },
   {
    "duration": 14,
    "start_time": "2023-01-12T15:24:39.297Z"
   },
   {
    "duration": 8,
    "start_time": "2023-01-12T15:24:39.312Z"
   },
   {
    "duration": 21,
    "start_time": "2023-01-12T15:24:39.322Z"
   },
   {
    "duration": 14,
    "start_time": "2023-01-12T15:24:39.345Z"
   },
   {
    "duration": 17,
    "start_time": "2023-01-12T15:24:39.360Z"
   },
   {
    "duration": 18,
    "start_time": "2023-01-12T15:24:39.379Z"
   },
   {
    "duration": 12,
    "start_time": "2023-01-12T15:24:39.399Z"
   },
   {
    "duration": 4,
    "start_time": "2023-01-12T15:24:39.413Z"
   },
   {
    "duration": 7,
    "start_time": "2023-01-12T15:24:39.420Z"
   },
   {
    "duration": 56,
    "start_time": "2023-01-12T15:24:39.429Z"
   },
   {
    "duration": 6,
    "start_time": "2023-01-12T15:24:39.486Z"
   },
   {
    "duration": 15,
    "start_time": "2023-01-12T15:24:39.494Z"
   },
   {
    "duration": 7,
    "start_time": "2023-01-12T15:24:39.511Z"
   },
   {
    "duration": 8,
    "start_time": "2023-01-12T15:24:39.520Z"
   },
   {
    "duration": 9,
    "start_time": "2023-01-12T15:24:39.529Z"
   },
   {
    "duration": 122,
    "start_time": "2023-01-12T15:24:39.539Z"
   },
   {
    "duration": 5,
    "start_time": "2023-01-12T15:25:33.572Z"
   },
   {
    "duration": 4,
    "start_time": "2023-01-12T15:30:42.878Z"
   },
   {
    "duration": 28,
    "start_time": "2023-01-12T16:08:24.952Z"
   },
   {
    "duration": 23,
    "start_time": "2023-01-12T16:08:50.721Z"
   },
   {
    "duration": 29,
    "start_time": "2023-01-12T16:09:23.622Z"
   },
   {
    "duration": 6,
    "start_time": "2023-01-12T16:55:46.551Z"
   },
   {
    "duration": 8,
    "start_time": "2023-01-12T16:55:49.555Z"
   },
   {
    "duration": 9,
    "start_time": "2023-01-12T17:01:45.944Z"
   },
   {
    "duration": 969,
    "start_time": "2023-01-12T17:01:55.040Z"
   },
   {
    "duration": 5,
    "start_time": "2023-01-12T17:05:43.695Z"
   },
   {
    "duration": 8,
    "start_time": "2023-01-12T17:05:53.736Z"
   },
   {
    "duration": 44,
    "start_time": "2023-01-14T05:08:37.144Z"
   },
   {
    "duration": 1209,
    "start_time": "2023-01-14T05:08:41.902Z"
   },
   {
    "duration": 17,
    "start_time": "2023-01-14T05:08:43.113Z"
   },
   {
    "duration": 20,
    "start_time": "2023-01-14T05:08:43.132Z"
   },
   {
    "duration": 6,
    "start_time": "2023-01-14T05:08:43.154Z"
   },
   {
    "duration": 9,
    "start_time": "2023-01-14T05:08:43.162Z"
   },
   {
    "duration": 15,
    "start_time": "2023-01-14T05:08:43.173Z"
   },
   {
    "duration": 30,
    "start_time": "2023-01-14T05:08:43.190Z"
   },
   {
    "duration": 18,
    "start_time": "2023-01-14T05:08:43.222Z"
   },
   {
    "duration": 4,
    "start_time": "2023-01-14T05:08:43.242Z"
   },
   {
    "duration": 11,
    "start_time": "2023-01-14T05:08:43.248Z"
   },
   {
    "duration": 8,
    "start_time": "2023-01-14T05:08:43.261Z"
   },
   {
    "duration": 27,
    "start_time": "2023-01-14T05:08:43.271Z"
   },
   {
    "duration": 32,
    "start_time": "2023-01-14T05:08:43.300Z"
   },
   {
    "duration": 8,
    "start_time": "2023-01-14T05:08:43.334Z"
   },
   {
    "duration": 5,
    "start_time": "2023-01-14T05:08:43.343Z"
   },
   {
    "duration": 9,
    "start_time": "2023-01-14T05:08:43.349Z"
   },
   {
    "duration": 4,
    "start_time": "2023-01-14T05:08:43.360Z"
   },
   {
    "duration": 1874,
    "start_time": "2023-01-14T05:08:43.366Z"
   },
   {
    "duration": 7,
    "start_time": "2023-01-14T05:08:45.242Z"
   },
   {
    "duration": 9,
    "start_time": "2023-01-14T05:08:45.250Z"
   },
   {
    "duration": 9,
    "start_time": "2023-01-14T05:08:45.261Z"
   },
   {
    "duration": 8,
    "start_time": "2023-01-14T05:08:45.271Z"
   },
   {
    "duration": 445,
    "start_time": "2023-01-14T05:08:45.281Z"
   },
   {
    "duration": 0,
    "start_time": "2023-01-14T05:08:45.728Z"
   },
   {
    "duration": 2008,
    "start_time": "2023-01-14T05:09:23.996Z"
   },
   {
    "duration": 2172,
    "start_time": "2023-01-14T05:09:46.239Z"
   },
   {
    "duration": 2222,
    "start_time": "2023-01-14T05:10:03.262Z"
   },
   {
    "duration": 38,
    "start_time": "2023-01-14T05:27:21.545Z"
   },
   {
    "duration": 14,
    "start_time": "2023-01-14T05:27:50.034Z"
   },
   {
    "duration": 13,
    "start_time": "2023-01-14T05:27:52.828Z"
   },
   {
    "duration": 37,
    "start_time": "2023-01-14T05:27:57.438Z"
   },
   {
    "duration": 302,
    "start_time": "2023-01-14T06:03:22.536Z"
   },
   {
    "duration": 3,
    "start_time": "2023-01-14T06:03:45.339Z"
   },
   {
    "duration": 793,
    "start_time": "2023-01-14T06:03:46.664Z"
   },
   {
    "duration": 814,
    "start_time": "2023-01-14T06:04:57.575Z"
   },
   {
    "duration": 1087,
    "start_time": "2023-01-14T06:05:25.832Z"
   },
   {
    "duration": 13,
    "start_time": "2023-01-14T06:05:26.921Z"
   },
   {
    "duration": 8,
    "start_time": "2023-01-14T06:05:26.936Z"
   },
   {
    "duration": 5,
    "start_time": "2023-01-14T06:05:26.946Z"
   },
   {
    "duration": 9,
    "start_time": "2023-01-14T06:05:26.953Z"
   },
   {
    "duration": 8,
    "start_time": "2023-01-14T06:05:26.964Z"
   },
   {
    "duration": 14,
    "start_time": "2023-01-14T06:05:26.973Z"
   },
   {
    "duration": 61,
    "start_time": "2023-01-14T06:05:26.988Z"
   },
   {
    "duration": 5,
    "start_time": "2023-01-14T06:05:27.050Z"
   },
   {
    "duration": 11,
    "start_time": "2023-01-14T06:05:27.057Z"
   },
   {
    "duration": 844,
    "start_time": "2023-01-14T06:05:27.069Z"
   },
   {
    "duration": 0,
    "start_time": "2023-01-14T06:05:27.915Z"
   },
   {
    "duration": 0,
    "start_time": "2023-01-14T06:05:27.916Z"
   },
   {
    "duration": 0,
    "start_time": "2023-01-14T06:05:27.917Z"
   },
   {
    "duration": 0,
    "start_time": "2023-01-14T06:05:27.918Z"
   },
   {
    "duration": 0,
    "start_time": "2023-01-14T06:05:27.919Z"
   },
   {
    "duration": 0,
    "start_time": "2023-01-14T06:05:27.921Z"
   },
   {
    "duration": 0,
    "start_time": "2023-01-14T06:05:27.922Z"
   },
   {
    "duration": 0,
    "start_time": "2023-01-14T06:05:27.923Z"
   },
   {
    "duration": 0,
    "start_time": "2023-01-14T06:05:27.924Z"
   },
   {
    "duration": 0,
    "start_time": "2023-01-14T06:05:27.924Z"
   },
   {
    "duration": 0,
    "start_time": "2023-01-14T06:05:27.925Z"
   },
   {
    "duration": 0,
    "start_time": "2023-01-14T06:05:27.926Z"
   },
   {
    "duration": 0,
    "start_time": "2023-01-14T06:05:27.928Z"
   },
   {
    "duration": 1075,
    "start_time": "2023-01-14T06:06:10.434Z"
   },
   {
    "duration": 11,
    "start_time": "2023-01-14T06:06:11.511Z"
   },
   {
    "duration": 9,
    "start_time": "2023-01-14T06:06:11.524Z"
   },
   {
    "duration": 4,
    "start_time": "2023-01-14T06:06:11.535Z"
   },
   {
    "duration": 10,
    "start_time": "2023-01-14T06:06:11.540Z"
   },
   {
    "duration": 9,
    "start_time": "2023-01-14T06:06:11.552Z"
   },
   {
    "duration": 16,
    "start_time": "2023-01-14T06:06:11.562Z"
   },
   {
    "duration": 75,
    "start_time": "2023-01-14T06:06:11.579Z"
   },
   {
    "duration": 4,
    "start_time": "2023-01-14T06:06:11.655Z"
   },
   {
    "duration": 17,
    "start_time": "2023-01-14T06:06:11.661Z"
   },
   {
    "duration": 4,
    "start_time": "2023-01-14T06:06:11.679Z"
   },
   {
    "duration": 35,
    "start_time": "2023-01-14T06:06:11.684Z"
   },
   {
    "duration": 30,
    "start_time": "2023-01-14T06:06:11.720Z"
   },
   {
    "duration": 5,
    "start_time": "2023-01-14T06:06:11.751Z"
   },
   {
    "duration": 6,
    "start_time": "2023-01-14T06:06:11.758Z"
   },
   {
    "duration": 4,
    "start_time": "2023-01-14T06:06:11.766Z"
   },
   {
    "duration": 8,
    "start_time": "2023-01-14T06:06:11.772Z"
   },
   {
    "duration": 2033,
    "start_time": "2023-01-14T06:06:11.782Z"
   },
   {
    "duration": 3,
    "start_time": "2023-01-14T06:06:13.817Z"
   },
   {
    "duration": 63,
    "start_time": "2023-01-14T06:06:13.822Z"
   },
   {
    "duration": 5,
    "start_time": "2023-01-14T06:06:13.886Z"
   },
   {
    "duration": 24,
    "start_time": "2023-01-14T06:06:13.893Z"
   },
   {
    "duration": 124,
    "start_time": "2023-01-14T06:06:13.919Z"
   },
   {
    "duration": 49,
    "start_time": "2023-01-14T06:28:42.973Z"
   },
   {
    "duration": 991,
    "start_time": "2023-01-14T06:39:56.623Z"
   },
   {
    "duration": 1112,
    "start_time": "2023-01-14T06:40:18.814Z"
   },
   {
    "duration": 13,
    "start_time": "2023-01-14T06:40:19.927Z"
   },
   {
    "duration": 8,
    "start_time": "2023-01-14T06:40:19.942Z"
   },
   {
    "duration": 3,
    "start_time": "2023-01-14T06:40:19.952Z"
   },
   {
    "duration": 8,
    "start_time": "2023-01-14T06:40:19.957Z"
   },
   {
    "duration": 16,
    "start_time": "2023-01-14T06:40:19.966Z"
   },
   {
    "duration": 38,
    "start_time": "2023-01-14T06:40:19.983Z"
   },
   {
    "duration": 43,
    "start_time": "2023-01-14T06:40:20.023Z"
   },
   {
    "duration": 6,
    "start_time": "2023-01-14T06:40:20.067Z"
   },
   {
    "duration": 10,
    "start_time": "2023-01-14T06:40:20.118Z"
   },
   {
    "duration": 6,
    "start_time": "2023-01-14T06:40:20.130Z"
   },
   {
    "duration": 7,
    "start_time": "2023-01-14T06:40:20.138Z"
   },
   {
    "duration": 19,
    "start_time": "2023-01-14T06:40:20.147Z"
   },
   {
    "duration": 5,
    "start_time": "2023-01-14T06:40:20.168Z"
   },
   {
    "duration": 5,
    "start_time": "2023-01-14T06:40:20.175Z"
   },
   {
    "duration": 37,
    "start_time": "2023-01-14T06:40:20.181Z"
   },
   {
    "duration": 11,
    "start_time": "2023-01-14T06:40:20.219Z"
   },
   {
    "duration": 1980,
    "start_time": "2023-01-14T06:40:20.231Z"
   },
   {
    "duration": 16,
    "start_time": "2023-01-14T06:40:22.213Z"
   },
   {
    "duration": 3,
    "start_time": "2023-01-14T06:40:22.231Z"
   },
   {
    "duration": 14,
    "start_time": "2023-01-14T06:40:22.236Z"
   },
   {
    "duration": 113,
    "start_time": "2023-01-14T06:40:22.251Z"
   },
   {
    "duration": 31,
    "start_time": "2023-01-14T06:43:04.538Z"
   },
   {
    "duration": 157,
    "start_time": "2023-01-14T06:49:39.060Z"
   },
   {
    "duration": 1092,
    "start_time": "2023-01-14T06:50:33.328Z"
   },
   {
    "duration": 13,
    "start_time": "2023-01-14T06:50:34.421Z"
   },
   {
    "duration": 8,
    "start_time": "2023-01-14T06:50:34.435Z"
   },
   {
    "duration": 6,
    "start_time": "2023-01-14T06:50:34.445Z"
   },
   {
    "duration": 8,
    "start_time": "2023-01-14T06:50:34.453Z"
   },
   {
    "duration": 9,
    "start_time": "2023-01-14T06:50:34.463Z"
   },
   {
    "duration": 16,
    "start_time": "2023-01-14T06:50:34.473Z"
   },
   {
    "duration": 59,
    "start_time": "2023-01-14T06:50:34.490Z"
   },
   {
    "duration": 5,
    "start_time": "2023-01-14T06:50:34.550Z"
   },
   {
    "duration": 13,
    "start_time": "2023-01-14T06:50:34.557Z"
   },
   {
    "duration": 5,
    "start_time": "2023-01-14T06:50:34.571Z"
   },
   {
    "duration": 41,
    "start_time": "2023-01-14T06:50:34.577Z"
   },
   {
    "duration": 18,
    "start_time": "2023-01-14T06:50:34.619Z"
   },
   {
    "duration": 4,
    "start_time": "2023-01-14T06:50:34.639Z"
   },
   {
    "duration": 6,
    "start_time": "2023-01-14T06:50:34.645Z"
   },
   {
    "duration": 5,
    "start_time": "2023-01-14T06:50:34.652Z"
   },
   {
    "duration": 9,
    "start_time": "2023-01-14T06:50:34.659Z"
   },
   {
    "duration": 2065,
    "start_time": "2023-01-14T06:50:34.670Z"
   },
   {
    "duration": 29,
    "start_time": "2023-01-14T06:50:36.738Z"
   },
   {
    "duration": 54,
    "start_time": "2023-01-14T06:50:36.768Z"
   },
   {
    "duration": 36,
    "start_time": "2023-01-14T06:56:08.955Z"
   },
   {
    "duration": 81,
    "start_time": "2023-01-14T06:57:07.587Z"
   },
   {
    "duration": 87,
    "start_time": "2023-01-14T06:58:18.804Z"
   },
   {
    "duration": 49,
    "start_time": "2023-01-14T07:04:00.701Z"
   },
   {
    "duration": 40,
    "start_time": "2023-01-14T07:04:16.974Z"
   },
   {
    "duration": 191,
    "start_time": "2023-01-14T07:04:34.525Z"
   },
   {
    "duration": 81,
    "start_time": "2023-01-14T07:04:38.555Z"
   },
   {
    "duration": 43,
    "start_time": "2023-01-14T07:04:41.673Z"
   },
   {
    "duration": 177,
    "start_time": "2023-01-14T07:19:06.260Z"
   },
   {
    "duration": 203,
    "start_time": "2023-01-14T07:19:13.214Z"
   },
   {
    "duration": 178,
    "start_time": "2023-01-14T07:19:18.418Z"
   },
   {
    "duration": 162,
    "start_time": "2023-01-14T07:19:22.319Z"
   },
   {
    "duration": 199,
    "start_time": "2023-01-14T07:19:28.262Z"
   },
   {
    "duration": 157,
    "start_time": "2023-01-14T07:19:32.235Z"
   },
   {
    "duration": 143,
    "start_time": "2023-01-14T07:19:38.182Z"
   },
   {
    "duration": 136,
    "start_time": "2023-01-14T07:19:43.959Z"
   },
   {
    "duration": 142,
    "start_time": "2023-01-14T07:19:49.930Z"
   },
   {
    "duration": 92,
    "start_time": "2023-01-14T07:20:15.309Z"
   },
   {
    "duration": 117,
    "start_time": "2023-01-14T07:20:19.297Z"
   },
   {
    "duration": 136,
    "start_time": "2023-01-14T07:20:22.762Z"
   },
   {
    "duration": 136,
    "start_time": "2023-01-14T07:20:29.434Z"
   },
   {
    "duration": 151,
    "start_time": "2023-01-14T07:20:35.935Z"
   },
   {
    "duration": 44,
    "start_time": "2023-01-14T07:26:44.932Z"
   },
   {
    "duration": 680,
    "start_time": "2023-01-14T08:25:47.191Z"
   },
   {
    "duration": 151,
    "start_time": "2023-01-14T08:25:53.568Z"
   },
   {
    "duration": 663,
    "start_time": "2023-01-14T08:26:01.175Z"
   },
   {
    "duration": 1255,
    "start_time": "2023-01-14T08:32:18.701Z"
   },
   {
    "duration": 39,
    "start_time": "2023-01-14T08:32:41.686Z"
   },
   {
    "duration": 129,
    "start_time": "2023-01-14T08:32:48.505Z"
   },
   {
    "duration": 356,
    "start_time": "2023-01-14T08:32:56.007Z"
   },
   {
    "duration": 157,
    "start_time": "2023-01-14T08:34:04.660Z"
   },
   {
    "duration": 1100,
    "start_time": "2023-01-14T08:34:32.211Z"
   },
   {
    "duration": 12,
    "start_time": "2023-01-14T08:34:33.313Z"
   },
   {
    "duration": 19,
    "start_time": "2023-01-14T08:34:33.327Z"
   },
   {
    "duration": 9,
    "start_time": "2023-01-14T08:34:33.348Z"
   },
   {
    "duration": 20,
    "start_time": "2023-01-14T08:34:33.359Z"
   },
   {
    "duration": 11,
    "start_time": "2023-01-14T08:34:33.380Z"
   },
   {
    "duration": 14,
    "start_time": "2023-01-14T08:34:33.393Z"
   },
   {
    "duration": 49,
    "start_time": "2023-01-14T08:34:33.409Z"
   },
   {
    "duration": 5,
    "start_time": "2023-01-14T08:34:33.460Z"
   },
   {
    "duration": 10,
    "start_time": "2023-01-14T08:34:33.468Z"
   },
   {
    "duration": 37,
    "start_time": "2023-01-14T08:34:33.479Z"
   },
   {
    "duration": 7,
    "start_time": "2023-01-14T08:34:33.517Z"
   },
   {
    "duration": 20,
    "start_time": "2023-01-14T08:34:33.525Z"
   },
   {
    "duration": 4,
    "start_time": "2023-01-14T08:34:33.546Z"
   },
   {
    "duration": 12,
    "start_time": "2023-01-14T08:34:33.552Z"
   },
   {
    "duration": 6,
    "start_time": "2023-01-14T08:34:33.566Z"
   },
   {
    "duration": 7,
    "start_time": "2023-01-14T08:34:33.574Z"
   },
   {
    "duration": 1960,
    "start_time": "2023-01-14T08:34:33.583Z"
   },
   {
    "duration": 42,
    "start_time": "2023-01-14T08:34:35.545Z"
   },
   {
    "duration": 26,
    "start_time": "2023-01-14T08:34:35.588Z"
   },
   {
    "duration": 202,
    "start_time": "2023-01-14T08:34:35.616Z"
   },
   {
    "duration": 728,
    "start_time": "2023-01-14T08:34:35.820Z"
   },
   {
    "duration": 1306,
    "start_time": "2023-01-14T08:34:36.550Z"
   },
   {
    "duration": 311,
    "start_time": "2023-01-14T08:34:37.858Z"
   },
   {
    "duration": 303,
    "start_time": "2023-01-14T08:34:38.173Z"
   },
   {
    "duration": 0,
    "start_time": "2023-01-14T08:34:38.478Z"
   },
   {
    "duration": 47,
    "start_time": "2023-01-14T08:35:36.317Z"
   },
   {
    "duration": 217,
    "start_time": "2023-01-14T08:35:41.300Z"
   },
   {
    "duration": 193,
    "start_time": "2023-01-14T08:36:38.947Z"
   },
   {
    "duration": 214,
    "start_time": "2023-01-14T08:41:19.306Z"
   },
   {
    "duration": 5,
    "start_time": "2023-01-14T08:41:56.746Z"
   },
   {
    "duration": 231,
    "start_time": "2023-01-14T08:41:58.786Z"
   },
   {
    "duration": 193,
    "start_time": "2023-01-14T08:43:59.846Z"
   },
   {
    "duration": 742,
    "start_time": "2023-01-14T08:44:52.187Z"
   },
   {
    "duration": 728,
    "start_time": "2023-01-14T08:45:16.112Z"
   },
   {
    "duration": 740,
    "start_time": "2023-01-14T08:46:00.650Z"
   },
   {
    "duration": 715,
    "start_time": "2023-01-14T08:46:32.065Z"
   },
   {
    "duration": 672,
    "start_time": "2023-01-14T08:47:16.550Z"
   },
   {
    "duration": 293,
    "start_time": "2023-01-14T08:47:55.070Z"
   },
   {
    "duration": 736,
    "start_time": "2023-01-14T08:48:40.808Z"
   },
   {
    "duration": 681,
    "start_time": "2023-01-14T08:48:58.407Z"
   },
   {
    "duration": 277,
    "start_time": "2023-01-14T08:49:35.264Z"
   },
   {
    "duration": 1290,
    "start_time": "2023-01-14T08:49:45.351Z"
   },
   {
    "duration": 335,
    "start_time": "2023-01-14T08:56:52.442Z"
   },
   {
    "duration": 5,
    "start_time": "2023-01-14T08:56:54.979Z"
   },
   {
    "duration": 22,
    "start_time": "2023-01-14T08:57:46.920Z"
   },
   {
    "duration": 804,
    "start_time": "2023-01-14T08:58:45.221Z"
   },
   {
    "duration": 778,
    "start_time": "2023-01-14T08:59:02.296Z"
   },
   {
    "duration": 17,
    "start_time": "2023-01-14T08:59:12.547Z"
   },
   {
    "duration": 926,
    "start_time": "2023-01-14T08:59:42.187Z"
   },
   {
    "duration": 876,
    "start_time": "2023-01-14T08:59:48.642Z"
   },
   {
    "duration": 772,
    "start_time": "2023-01-14T08:59:53.688Z"
   },
   {
    "duration": 678,
    "start_time": "2023-01-14T08:59:57.596Z"
   },
   {
    "duration": 1012,
    "start_time": "2023-01-14T09:00:02.379Z"
   },
   {
    "duration": 1109,
    "start_time": "2023-01-14T09:00:07.152Z"
   },
   {
    "duration": 1148,
    "start_time": "2023-01-14T09:00:11.862Z"
   },
   {
    "duration": 1153,
    "start_time": "2023-01-14T09:00:16.187Z"
   },
   {
    "duration": 961,
    "start_time": "2023-01-14T09:00:20.722Z"
   },
   {
    "duration": 896,
    "start_time": "2023-01-14T09:00:25.059Z"
   },
   {
    "duration": 1044,
    "start_time": "2023-01-14T09:00:29.198Z"
   },
   {
    "duration": 982,
    "start_time": "2023-01-14T09:00:34.242Z"
   },
   {
    "duration": 11,
    "start_time": "2023-01-14T09:14:03.767Z"
   },
   {
    "duration": 11,
    "start_time": "2023-01-14T09:14:30.261Z"
   },
   {
    "duration": 4,
    "start_time": "2023-01-14T09:14:50.179Z"
   },
   {
    "duration": 19,
    "start_time": "2023-01-14T09:15:07.472Z"
   },
   {
    "duration": 56,
    "start_time": "2023-01-14T09:18:23.092Z"
   },
   {
    "duration": 52,
    "start_time": "2023-01-14T09:19:55.443Z"
   },
   {
    "duration": 42,
    "start_time": "2023-01-14T09:20:20.403Z"
   },
   {
    "duration": 64,
    "start_time": "2023-01-14T09:20:28.820Z"
   },
   {
    "duration": 53,
    "start_time": "2023-01-14T09:22:04.158Z"
   },
   {
    "duration": 49,
    "start_time": "2023-01-14T09:22:38.935Z"
   },
   {
    "duration": 50,
    "start_time": "2023-01-14T09:23:38.953Z"
   },
   {
    "duration": 55,
    "start_time": "2023-01-14T09:23:45.533Z"
   },
   {
    "duration": 161515,
    "start_time": "2023-01-14T09:29:16.617Z"
   },
   {
    "duration": 321,
    "start_time": "2023-01-14T09:33:55.362Z"
   },
   {
    "duration": 286,
    "start_time": "2023-01-14T09:34:02.684Z"
   },
   {
    "duration": 1060,
    "start_time": "2023-01-14T09:34:54.252Z"
   },
   {
    "duration": 768,
    "start_time": "2023-01-14T09:35:39.805Z"
   },
   {
    "duration": 730,
    "start_time": "2023-01-14T09:38:00.776Z"
   },
   {
    "duration": 656,
    "start_time": "2023-01-14T09:38:12.675Z"
   },
   {
    "duration": 1103,
    "start_time": "2023-01-14T09:42:26.268Z"
   },
   {
    "duration": 1084,
    "start_time": "2023-01-14T09:43:15.461Z"
   },
   {
    "duration": 1161,
    "start_time": "2023-01-14T09:50:45.357Z"
   },
   {
    "duration": 1153,
    "start_time": "2023-01-14T09:51:31.810Z"
   },
   {
    "duration": 14,
    "start_time": "2023-01-14T09:51:32.965Z"
   },
   {
    "duration": 12,
    "start_time": "2023-01-14T09:51:32.980Z"
   },
   {
    "duration": 7,
    "start_time": "2023-01-14T09:51:32.995Z"
   },
   {
    "duration": 13,
    "start_time": "2023-01-14T09:51:33.003Z"
   },
   {
    "duration": 10,
    "start_time": "2023-01-14T09:51:33.018Z"
   },
   {
    "duration": 15,
    "start_time": "2023-01-14T09:51:33.030Z"
   },
   {
    "duration": 81,
    "start_time": "2023-01-14T09:51:33.047Z"
   },
   {
    "duration": 6,
    "start_time": "2023-01-14T09:51:33.129Z"
   },
   {
    "duration": 16,
    "start_time": "2023-01-14T09:51:33.138Z"
   },
   {
    "duration": 5,
    "start_time": "2023-01-14T09:51:33.155Z"
   },
   {
    "duration": 10,
    "start_time": "2023-01-14T09:51:33.162Z"
   },
   {
    "duration": 60,
    "start_time": "2023-01-14T09:51:33.174Z"
   },
   {
    "duration": 5,
    "start_time": "2023-01-14T09:51:33.236Z"
   },
   {
    "duration": 6,
    "start_time": "2023-01-14T09:51:33.243Z"
   },
   {
    "duration": 6,
    "start_time": "2023-01-14T09:51:33.250Z"
   },
   {
    "duration": 10,
    "start_time": "2023-01-14T09:51:33.258Z"
   },
   {
    "duration": 2106,
    "start_time": "2023-01-14T09:51:33.270Z"
   },
   {
    "duration": 47,
    "start_time": "2023-01-14T09:51:35.378Z"
   },
   {
    "duration": 96,
    "start_time": "2023-01-14T09:51:35.426Z"
   },
   {
    "duration": 126,
    "start_time": "2023-01-14T09:51:35.524Z"
   },
   {
    "duration": 798,
    "start_time": "2023-01-14T09:51:35.652Z"
   },
   {
    "duration": 13088,
    "start_time": "2023-01-14T09:51:36.452Z"
   },
   {
    "duration": 1049,
    "start_time": "2023-01-14T09:51:49.543Z"
   },
   {
    "duration": 359,
    "start_time": "2023-01-14T09:51:50.594Z"
   },
   {
    "duration": 768,
    "start_time": "2023-01-14T09:51:50.955Z"
   },
   {
    "duration": 1091,
    "start_time": "2023-01-14T09:51:51.725Z"
   },
   {
    "duration": 124,
    "start_time": "2023-01-14T09:51:52.820Z"
   },
   {
    "duration": 0,
    "start_time": "2023-01-14T09:51:52.946Z"
   },
   {
    "duration": 4,
    "start_time": "2023-01-14T09:55:54.168Z"
   },
   {
    "duration": 5,
    "start_time": "2023-01-14T09:57:22.653Z"
   },
   {
    "duration": 4,
    "start_time": "2023-01-14T09:58:13.300Z"
   },
   {
    "duration": 1016,
    "start_time": "2023-01-14T10:04:56.165Z"
   },
   {
    "duration": 801,
    "start_time": "2023-01-14T10:05:44.072Z"
   },
   {
    "duration": 389,
    "start_time": "2023-01-14T10:05:54.713Z"
   },
   {
    "duration": 23,
    "start_time": "2023-01-14T10:09:15.813Z"
   },
   {
    "duration": 15,
    "start_time": "2023-01-14T10:09:31.794Z"
   },
   {
    "duration": 9,
    "start_time": "2023-01-14T10:10:26.531Z"
   },
   {
    "duration": 118077,
    "start_time": "2023-01-14T10:24:29.015Z"
   },
   {
    "duration": 1032,
    "start_time": "2023-01-14T10:32:49.351Z"
   },
   {
    "duration": 1063,
    "start_time": "2023-01-14T10:32:55.463Z"
   },
   {
    "duration": 1145,
    "start_time": "2023-01-14T10:33:40.339Z"
   },
   {
    "duration": 292,
    "start_time": "2023-01-14T10:35:52.597Z"
   },
   {
    "duration": 303,
    "start_time": "2023-01-14T10:36:38.798Z"
   },
   {
    "duration": 300,
    "start_time": "2023-01-14T10:36:55.733Z"
   },
   {
    "duration": 1149,
    "start_time": "2023-01-14T10:38:32.607Z"
   },
   {
    "duration": 14,
    "start_time": "2023-01-14T10:38:33.758Z"
   },
   {
    "duration": 10,
    "start_time": "2023-01-14T10:38:33.774Z"
   },
   {
    "duration": 5,
    "start_time": "2023-01-14T10:38:33.786Z"
   },
   {
    "duration": 10,
    "start_time": "2023-01-14T10:38:33.792Z"
   },
   {
    "duration": 18,
    "start_time": "2023-01-14T10:38:33.803Z"
   },
   {
    "duration": 15,
    "start_time": "2023-01-14T10:38:33.823Z"
   },
   {
    "duration": 79,
    "start_time": "2023-01-14T10:38:33.840Z"
   },
   {
    "duration": 4,
    "start_time": "2023-01-14T10:38:33.921Z"
   },
   {
    "duration": 17,
    "start_time": "2023-01-14T10:38:33.928Z"
   },
   {
    "duration": 14,
    "start_time": "2023-01-14T10:38:33.947Z"
   },
   {
    "duration": 6,
    "start_time": "2023-01-14T10:38:33.963Z"
   },
   {
    "duration": 20,
    "start_time": "2023-01-14T10:38:33.971Z"
   },
   {
    "duration": 28,
    "start_time": "2023-01-14T10:38:33.993Z"
   },
   {
    "duration": 9,
    "start_time": "2023-01-14T10:38:34.023Z"
   },
   {
    "duration": 5,
    "start_time": "2023-01-14T10:38:34.034Z"
   },
   {
    "duration": 10,
    "start_time": "2023-01-14T10:38:34.041Z"
   },
   {
    "duration": 1963,
    "start_time": "2023-01-14T10:38:34.053Z"
   },
   {
    "duration": 53,
    "start_time": "2023-01-14T10:38:36.018Z"
   },
   {
    "duration": 4,
    "start_time": "2023-01-14T10:38:36.073Z"
   },
   {
    "duration": 137,
    "start_time": "2023-01-14T10:38:36.079Z"
   },
   {
    "duration": 129,
    "start_time": "2023-01-14T10:38:36.218Z"
   },
   {
    "duration": 853,
    "start_time": "2023-01-14T10:38:36.349Z"
   },
   {
    "duration": 366,
    "start_time": "2023-01-14T10:38:37.204Z"
   },
   {
    "duration": 414,
    "start_time": "2023-01-14T10:38:37.572Z"
   },
   {
    "duration": 915,
    "start_time": "2023-01-14T10:38:37.988Z"
   },
   {
    "duration": 1133,
    "start_time": "2023-01-14T10:38:38.904Z"
   },
   {
    "duration": 122,
    "start_time": "2023-01-14T10:38:40.041Z"
   },
   {
    "duration": 0,
    "start_time": "2023-01-14T10:38:40.165Z"
   },
   {
    "duration": 0,
    "start_time": "2023-01-14T10:38:40.166Z"
   },
   {
    "duration": 315,
    "start_time": "2023-01-14T10:39:55.296Z"
   },
   {
    "duration": 339,
    "start_time": "2023-01-14T10:40:03.939Z"
   },
   {
    "duration": 349,
    "start_time": "2023-01-14T10:45:07.419Z"
   },
   {
    "duration": 330,
    "start_time": "2023-01-14T10:45:14.064Z"
   },
   {
    "duration": 335,
    "start_time": "2023-01-14T10:45:22.414Z"
   },
   {
    "duration": 365,
    "start_time": "2023-01-14T10:45:29.976Z"
   },
   {
    "duration": 749,
    "start_time": "2023-01-14T10:47:14.898Z"
   },
   {
    "duration": 26,
    "start_time": "2023-01-14T10:48:12.334Z"
   },
   {
    "duration": 49,
    "start_time": "2023-01-14T10:48:20.312Z"
   },
   {
    "duration": 776,
    "start_time": "2023-01-14T10:48:30.117Z"
   },
   {
    "duration": 770,
    "start_time": "2023-01-14T10:53:40.617Z"
   },
   {
    "duration": 10,
    "start_time": "2023-01-14T11:03:44.772Z"
   },
   {
    "duration": 1097,
    "start_time": "2023-01-14T11:04:33.015Z"
   },
   {
    "duration": 13,
    "start_time": "2023-01-14T11:04:34.114Z"
   },
   {
    "duration": 8,
    "start_time": "2023-01-14T11:04:34.129Z"
   },
   {
    "duration": 6,
    "start_time": "2023-01-14T11:04:34.138Z"
   },
   {
    "duration": 8,
    "start_time": "2023-01-14T11:04:34.146Z"
   },
   {
    "duration": 9,
    "start_time": "2023-01-14T11:04:34.156Z"
   },
   {
    "duration": 14,
    "start_time": "2023-01-14T11:04:34.166Z"
   },
   {
    "duration": 67,
    "start_time": "2023-01-14T11:04:34.181Z"
   },
   {
    "duration": 5,
    "start_time": "2023-01-14T11:04:34.249Z"
   },
   {
    "duration": 12,
    "start_time": "2023-01-14T11:04:34.256Z"
   },
   {
    "duration": 4,
    "start_time": "2023-01-14T11:04:34.270Z"
   },
   {
    "duration": 41,
    "start_time": "2023-01-14T11:04:34.275Z"
   },
   {
    "duration": 19,
    "start_time": "2023-01-14T11:04:34.318Z"
   },
   {
    "duration": 5,
    "start_time": "2023-01-14T11:04:34.340Z"
   },
   {
    "duration": 6,
    "start_time": "2023-01-14T11:04:34.346Z"
   },
   {
    "duration": 5,
    "start_time": "2023-01-14T11:04:34.353Z"
   },
   {
    "duration": 6,
    "start_time": "2023-01-14T11:04:34.360Z"
   },
   {
    "duration": 2023,
    "start_time": "2023-01-14T11:04:34.368Z"
   },
   {
    "duration": 64,
    "start_time": "2023-01-14T11:04:36.393Z"
   },
   {
    "duration": 5,
    "start_time": "2023-01-14T11:04:36.459Z"
   },
   {
    "duration": 57,
    "start_time": "2023-01-14T11:04:36.466Z"
   },
   {
    "duration": 212,
    "start_time": "2023-01-14T11:04:36.526Z"
   },
   {
    "duration": 786,
    "start_time": "2023-01-14T11:04:36.740Z"
   },
   {
    "duration": 114,
    "start_time": "2023-01-14T11:04:37.528Z"
   },
   {
    "duration": 0,
    "start_time": "2023-01-14T11:04:37.644Z"
   },
   {
    "duration": 0,
    "start_time": "2023-01-14T11:04:37.645Z"
   },
   {
    "duration": 0,
    "start_time": "2023-01-14T11:04:37.646Z"
   },
   {
    "duration": 0,
    "start_time": "2023-01-14T11:04:37.647Z"
   },
   {
    "duration": 0,
    "start_time": "2023-01-14T11:04:37.649Z"
   },
   {
    "duration": 1989774,
    "start_time": "2023-01-14T11:05:08.646Z"
   },
   {
    "duration": 1118,
    "start_time": "2023-01-14T12:09:00.007Z"
   },
   {
    "duration": 19,
    "start_time": "2023-01-14T12:09:01.127Z"
   },
   {
    "duration": 18,
    "start_time": "2023-01-14T12:09:01.148Z"
   },
   {
    "duration": 35,
    "start_time": "2023-01-14T12:09:01.168Z"
   },
   {
    "duration": 57,
    "start_time": "2023-01-14T12:09:01.206Z"
   },
   {
    "duration": 28,
    "start_time": "2023-01-14T12:09:01.265Z"
   },
   {
    "duration": 37,
    "start_time": "2023-01-14T12:09:01.295Z"
   },
   {
    "duration": 58,
    "start_time": "2023-01-14T12:09:01.334Z"
   },
   {
    "duration": 24,
    "start_time": "2023-01-14T12:09:01.394Z"
   },
   {
    "duration": 66,
    "start_time": "2023-01-14T12:09:01.420Z"
   },
   {
    "duration": 12,
    "start_time": "2023-01-14T12:09:01.488Z"
   },
   {
    "duration": 32,
    "start_time": "2023-01-14T12:09:01.502Z"
   },
   {
    "duration": 36,
    "start_time": "2023-01-14T12:09:01.536Z"
   },
   {
    "duration": 6,
    "start_time": "2023-01-14T12:09:01.576Z"
   },
   {
    "duration": 28,
    "start_time": "2023-01-14T12:09:01.584Z"
   },
   {
    "duration": 23,
    "start_time": "2023-01-14T12:09:01.614Z"
   },
   {
    "duration": 30,
    "start_time": "2023-01-14T12:09:01.638Z"
   },
   {
    "duration": 2082,
    "start_time": "2023-01-14T12:09:01.669Z"
   },
   {
    "duration": 52,
    "start_time": "2023-01-14T12:09:03.753Z"
   },
   {
    "duration": 4,
    "start_time": "2023-01-14T12:09:03.807Z"
   },
   {
    "duration": 28,
    "start_time": "2023-01-14T12:09:03.812Z"
   },
   {
    "duration": 182,
    "start_time": "2023-01-14T12:09:03.847Z"
   },
   {
    "duration": 759,
    "start_time": "2023-01-14T12:09:04.031Z"
   },
   {
    "duration": 137,
    "start_time": "2023-01-14T12:09:04.792Z"
   },
   {
    "duration": 0,
    "start_time": "2023-01-14T12:09:04.930Z"
   },
   {
    "duration": 0,
    "start_time": "2023-01-14T12:09:04.932Z"
   },
   {
    "duration": 0,
    "start_time": "2023-01-14T12:09:04.932Z"
   },
   {
    "duration": 0,
    "start_time": "2023-01-14T12:09:04.934Z"
   },
   {
    "duration": 0,
    "start_time": "2023-01-14T12:09:04.935Z"
   },
   {
    "duration": 1097,
    "start_time": "2023-01-14T12:17:28.714Z"
   },
   {
    "duration": 12,
    "start_time": "2023-01-14T12:17:29.813Z"
   },
   {
    "duration": 8,
    "start_time": "2023-01-14T12:17:29.827Z"
   },
   {
    "duration": 10,
    "start_time": "2023-01-14T12:17:29.837Z"
   },
   {
    "duration": 8,
    "start_time": "2023-01-14T12:17:29.849Z"
   },
   {
    "duration": 7,
    "start_time": "2023-01-14T12:17:29.859Z"
   },
   {
    "duration": 15,
    "start_time": "2023-01-14T12:17:29.867Z"
   },
   {
    "duration": 66,
    "start_time": "2023-01-14T12:17:29.883Z"
   },
   {
    "duration": 5,
    "start_time": "2023-01-14T12:17:29.951Z"
   },
   {
    "duration": 12,
    "start_time": "2023-01-14T12:17:29.960Z"
   },
   {
    "duration": 4,
    "start_time": "2023-01-14T12:17:29.973Z"
   },
   {
    "duration": 13,
    "start_time": "2023-01-14T12:17:30.016Z"
   },
   {
    "duration": 21,
    "start_time": "2023-01-14T12:17:30.031Z"
   },
   {
    "duration": 6,
    "start_time": "2023-01-14T12:17:30.054Z"
   },
   {
    "duration": 10,
    "start_time": "2023-01-14T12:17:30.061Z"
   },
   {
    "duration": 11,
    "start_time": "2023-01-14T12:17:30.074Z"
   },
   {
    "duration": 12,
    "start_time": "2023-01-14T12:17:30.087Z"
   },
   {
    "duration": 2048,
    "start_time": "2023-01-14T12:17:30.100Z"
   },
   {
    "duration": 62,
    "start_time": "2023-01-14T12:17:32.150Z"
   },
   {
    "duration": 4,
    "start_time": "2023-01-14T12:17:32.214Z"
   },
   {
    "duration": 196,
    "start_time": "2023-01-14T12:17:32.220Z"
   },
   {
    "duration": 47,
    "start_time": "2023-01-14T12:17:32.419Z"
   },
   {
    "duration": 801,
    "start_time": "2023-01-14T12:17:32.468Z"
   },
   {
    "duration": 1067,
    "start_time": "2023-01-14T12:26:29.352Z"
   },
   {
    "duration": 13,
    "start_time": "2023-01-14T12:26:30.421Z"
   },
   {
    "duration": 31,
    "start_time": "2023-01-14T12:26:30.436Z"
   },
   {
    "duration": 25,
    "start_time": "2023-01-14T12:26:30.470Z"
   },
   {
    "duration": 33,
    "start_time": "2023-01-14T12:26:30.496Z"
   },
   {
    "duration": 23,
    "start_time": "2023-01-14T12:26:30.531Z"
   },
   {
    "duration": 30,
    "start_time": "2023-01-14T12:26:30.555Z"
   },
   {
    "duration": 54,
    "start_time": "2023-01-14T12:26:30.587Z"
   },
   {
    "duration": 5,
    "start_time": "2023-01-14T12:26:30.643Z"
   },
   {
    "duration": 38,
    "start_time": "2023-01-14T12:26:30.650Z"
   },
   {
    "duration": 34,
    "start_time": "2023-01-14T12:26:30.690Z"
   },
   {
    "duration": 29,
    "start_time": "2023-01-14T12:26:30.726Z"
   },
   {
    "duration": 33,
    "start_time": "2023-01-14T12:26:30.757Z"
   },
   {
    "duration": 10,
    "start_time": "2023-01-14T12:26:30.792Z"
   },
   {
    "duration": 37,
    "start_time": "2023-01-14T12:26:30.803Z"
   },
   {
    "duration": 23,
    "start_time": "2023-01-14T12:26:30.842Z"
   },
   {
    "duration": 26,
    "start_time": "2023-01-14T12:26:30.866Z"
   },
   {
    "duration": 2146,
    "start_time": "2023-01-14T12:26:30.894Z"
   },
   {
    "duration": 41,
    "start_time": "2023-01-14T12:26:33.042Z"
   },
   {
    "duration": 4,
    "start_time": "2023-01-14T12:26:33.085Z"
   },
   {
    "duration": 127,
    "start_time": "2023-01-14T12:26:33.091Z"
   },
   {
    "duration": 126,
    "start_time": "2023-01-14T12:26:33.220Z"
   },
   {
    "duration": 771,
    "start_time": "2023-01-14T12:26:33.347Z"
   },
   {
    "duration": 344,
    "start_time": "2023-01-14T12:26:34.119Z"
   },
   {
    "duration": 381,
    "start_time": "2023-01-14T12:26:34.465Z"
   },
   {
    "duration": 897,
    "start_time": "2023-01-14T12:26:34.848Z"
   },
   {
    "duration": 1384,
    "start_time": "2023-01-14T12:26:35.747Z"
   },
   {
    "duration": 55,
    "start_time": "2023-01-14T12:26:37.135Z"
   },
   {
    "duration": 316,
    "start_time": "2023-01-14T12:27:00.178Z"
   },
   {
    "duration": 398,
    "start_time": "2023-01-14T12:27:09.999Z"
   },
   {
    "duration": 329,
    "start_time": "2023-01-14T12:27:49.851Z"
   },
   {
    "duration": 372,
    "start_time": "2023-01-14T12:29:26.119Z"
   },
   {
    "duration": 895,
    "start_time": "2023-01-14T12:30:44.065Z"
   },
   {
    "duration": 26,
    "start_time": "2023-01-14T12:31:21.876Z"
   },
   {
    "duration": 1165,
    "start_time": "2023-01-14T12:32:11.991Z"
   },
   {
    "duration": 450,
    "start_time": "2023-01-14T12:32:21.613Z"
   },
   {
    "duration": 1102,
    "start_time": "2023-01-14T12:33:12.245Z"
   },
   {
    "duration": 1153,
    "start_time": "2023-01-14T12:34:31.295Z"
   },
   {
    "duration": 1147,
    "start_time": "2023-01-14T12:42:44.132Z"
   },
   {
    "duration": 303,
    "start_time": "2023-01-14T12:52:08.218Z"
   },
   {
    "duration": 19,
    "start_time": "2023-01-14T12:52:30.348Z"
   },
   {
    "duration": 1145,
    "start_time": "2023-01-14T13:02:26.892Z"
   },
   {
    "duration": 17,
    "start_time": "2023-01-14T13:02:28.039Z"
   },
   {
    "duration": 11,
    "start_time": "2023-01-14T13:02:28.058Z"
   },
   {
    "duration": 9,
    "start_time": "2023-01-14T13:02:28.072Z"
   },
   {
    "duration": 16,
    "start_time": "2023-01-14T13:02:28.084Z"
   },
   {
    "duration": 25,
    "start_time": "2023-01-14T13:02:28.101Z"
   },
   {
    "duration": 20,
    "start_time": "2023-01-14T13:02:28.128Z"
   },
   {
    "duration": 78,
    "start_time": "2023-01-14T13:02:28.150Z"
   },
   {
    "duration": 6,
    "start_time": "2023-01-14T13:02:28.230Z"
   },
   {
    "duration": 12,
    "start_time": "2023-01-14T13:02:28.239Z"
   },
   {
    "duration": 5,
    "start_time": "2023-01-14T13:02:28.253Z"
   },
   {
    "duration": 11,
    "start_time": "2023-01-14T13:02:28.260Z"
   },
   {
    "duration": 53,
    "start_time": "2023-01-14T13:02:28.273Z"
   },
   {
    "duration": 6,
    "start_time": "2023-01-14T13:02:28.327Z"
   },
   {
    "duration": 10,
    "start_time": "2023-01-14T13:02:28.334Z"
   },
   {
    "duration": 5,
    "start_time": "2023-01-14T13:02:28.346Z"
   },
   {
    "duration": 12,
    "start_time": "2023-01-14T13:02:28.352Z"
   },
   {
    "duration": 1938,
    "start_time": "2023-01-14T13:02:28.366Z"
   },
   {
    "duration": 43,
    "start_time": "2023-01-14T13:02:30.305Z"
   },
   {
    "duration": 4,
    "start_time": "2023-01-14T13:02:30.350Z"
   },
   {
    "duration": 72,
    "start_time": "2023-01-14T13:02:30.356Z"
   },
   {
    "duration": 142,
    "start_time": "2023-01-14T13:02:30.517Z"
   },
   {
    "duration": 699,
    "start_time": "2023-01-14T13:02:30.661Z"
   },
   {
    "duration": 138108,
    "start_time": "2023-01-14T13:02:31.363Z"
   },
   {
    "duration": 1027,
    "start_time": "2023-01-14T13:04:49.472Z"
   },
   {
    "duration": 417,
    "start_time": "2023-01-14T13:04:50.501Z"
   },
   {
    "duration": 800,
    "start_time": "2023-01-14T13:04:50.920Z"
   },
   {
    "duration": 1015,
    "start_time": "2023-01-14T13:04:51.723Z"
   },
   {
    "duration": 408,
    "start_time": "2023-01-14T13:04:52.739Z"
   },
   {
    "duration": 1466,
    "start_time": "2023-01-14T13:04:53.149Z"
   },
   {
    "duration": 1305,
    "start_time": "2023-01-14T13:05:53.406Z"
   },
   {
    "duration": 1273,
    "start_time": "2023-01-14T13:06:03.777Z"
   },
   {
    "duration": 648,
    "start_time": "2023-01-14T13:07:52.348Z"
   },
   {
    "duration": 664,
    "start_time": "2023-01-14T13:07:57.863Z"
   },
   {
    "duration": 1074,
    "start_time": "2023-01-14T13:08:49.739Z"
   },
   {
    "duration": 1564,
    "start_time": "2023-01-14T13:08:55.712Z"
   },
   {
    "duration": 1847,
    "start_time": "2023-01-14T13:09:00.749Z"
   },
   {
    "duration": 1907,
    "start_time": "2023-01-14T13:09:06.149Z"
   },
   {
    "duration": 2110,
    "start_time": "2023-01-14T13:09:12.459Z"
   },
   {
    "duration": 2668,
    "start_time": "2023-01-14T13:10:55.374Z"
   },
   {
    "duration": 1137,
    "start_time": "2023-01-14T13:12:28.897Z"
   },
   {
    "duration": 17,
    "start_time": "2023-01-14T13:12:30.036Z"
   },
   {
    "duration": 30,
    "start_time": "2023-01-14T13:12:30.057Z"
   },
   {
    "duration": 13,
    "start_time": "2023-01-14T13:12:30.088Z"
   },
   {
    "duration": 22,
    "start_time": "2023-01-14T13:12:30.103Z"
   },
   {
    "duration": 34,
    "start_time": "2023-01-14T13:12:30.127Z"
   },
   {
    "duration": 14,
    "start_time": "2023-01-14T13:12:30.163Z"
   },
   {
    "duration": 51,
    "start_time": "2023-01-14T13:12:30.179Z"
   },
   {
    "duration": 5,
    "start_time": "2023-01-14T13:12:30.233Z"
   },
   {
    "duration": 33,
    "start_time": "2023-01-14T13:12:30.239Z"
   },
   {
    "duration": 18,
    "start_time": "2023-01-14T13:12:30.274Z"
   },
   {
    "duration": 45,
    "start_time": "2023-01-14T13:12:30.295Z"
   },
   {
    "duration": 24,
    "start_time": "2023-01-14T13:12:30.342Z"
   },
   {
    "duration": 10,
    "start_time": "2023-01-14T13:12:30.368Z"
   },
   {
    "duration": 37,
    "start_time": "2023-01-14T13:12:30.380Z"
   },
   {
    "duration": 20,
    "start_time": "2023-01-14T13:12:30.418Z"
   },
   {
    "duration": 56,
    "start_time": "2023-01-14T13:12:30.439Z"
   },
   {
    "duration": 2139,
    "start_time": "2023-01-14T13:12:30.497Z"
   },
   {
    "duration": 124,
    "start_time": "2023-01-14T13:12:32.638Z"
   },
   {
    "duration": 0,
    "start_time": "2023-01-14T13:12:32.764Z"
   },
   {
    "duration": 0,
    "start_time": "2023-01-14T13:12:32.765Z"
   },
   {
    "duration": 0,
    "start_time": "2023-01-14T13:12:32.766Z"
   },
   {
    "duration": 0,
    "start_time": "2023-01-14T13:12:32.768Z"
   },
   {
    "duration": 0,
    "start_time": "2023-01-14T13:12:32.769Z"
   },
   {
    "duration": 0,
    "start_time": "2023-01-14T13:12:32.775Z"
   },
   {
    "duration": 0,
    "start_time": "2023-01-14T13:12:32.776Z"
   },
   {
    "duration": 0,
    "start_time": "2023-01-14T13:12:32.777Z"
   },
   {
    "duration": 0,
    "start_time": "2023-01-14T13:12:32.778Z"
   },
   {
    "duration": 0,
    "start_time": "2023-01-14T13:12:32.780Z"
   },
   {
    "duration": 0,
    "start_time": "2023-01-14T13:12:32.781Z"
   },
   {
    "duration": 27,
    "start_time": "2023-01-14T13:14:59.836Z"
   },
   {
    "duration": 50,
    "start_time": "2023-01-14T15:16:18.652Z"
   },
   {
    "duration": 1427,
    "start_time": "2023-01-14T15:16:27.057Z"
   },
   {
    "duration": 13,
    "start_time": "2023-01-14T15:16:28.486Z"
   },
   {
    "duration": 9,
    "start_time": "2023-01-14T15:16:28.501Z"
   },
   {
    "duration": 21,
    "start_time": "2023-01-14T15:16:28.512Z"
   },
   {
    "duration": 14,
    "start_time": "2023-01-14T15:16:28.534Z"
   },
   {
    "duration": 32,
    "start_time": "2023-01-14T15:16:28.550Z"
   },
   {
    "duration": 27,
    "start_time": "2023-01-14T15:16:28.584Z"
   },
   {
    "duration": 63,
    "start_time": "2023-01-14T15:16:28.612Z"
   },
   {
    "duration": 5,
    "start_time": "2023-01-14T15:16:28.676Z"
   },
   {
    "duration": 44,
    "start_time": "2023-01-14T15:16:28.683Z"
   },
   {
    "duration": 9,
    "start_time": "2023-01-14T15:16:28.728Z"
   },
   {
    "duration": 29,
    "start_time": "2023-01-14T15:16:28.739Z"
   },
   {
    "duration": 42,
    "start_time": "2023-01-14T15:16:28.770Z"
   },
   {
    "duration": 6,
    "start_time": "2023-01-14T15:16:28.815Z"
   },
   {
    "duration": 21,
    "start_time": "2023-01-14T15:16:28.827Z"
   },
   {
    "duration": 13,
    "start_time": "2023-01-14T15:16:28.850Z"
   },
   {
    "duration": 11,
    "start_time": "2023-01-14T15:16:28.865Z"
   },
   {
    "duration": 2420,
    "start_time": "2023-01-14T15:16:28.879Z"
   },
   {
    "duration": 47,
    "start_time": "2023-01-14T15:16:31.301Z"
   },
   {
    "duration": 4,
    "start_time": "2023-01-14T15:16:31.350Z"
   },
   {
    "duration": 46,
    "start_time": "2023-01-14T15:16:31.356Z"
   },
   {
    "duration": 133,
    "start_time": "2023-01-14T15:16:31.439Z"
   },
   {
    "duration": 747,
    "start_time": "2023-01-14T15:16:31.573Z"
   },
   {
    "duration": 147223,
    "start_time": "2023-01-14T15:16:32.322Z"
   },
   {
    "duration": 2868,
    "start_time": "2023-01-14T15:18:59.546Z"
   },
   {
    "duration": 449,
    "start_time": "2023-01-14T15:19:02.415Z"
   },
   {
    "duration": 888,
    "start_time": "2023-01-14T15:19:02.865Z"
   },
   {
    "duration": 1437,
    "start_time": "2023-01-14T15:19:03.756Z"
   },
   {
    "duration": 593,
    "start_time": "2023-01-14T15:19:05.195Z"
   },
   {
    "duration": 1629,
    "start_time": "2023-01-14T15:19:05.790Z"
   },
   {
    "duration": 28875,
    "start_time": "2023-01-14T15:24:29.630Z"
   },
   {
    "duration": 38191,
    "start_time": "2023-01-14T15:31:52.926Z"
   },
   {
    "duration": 4,
    "start_time": "2023-01-14T15:33:23.511Z"
   },
   {
    "duration": 308,
    "start_time": "2023-01-14T15:34:52.756Z"
   },
   {
    "duration": 593,
    "start_time": "2023-01-14T15:35:26.608Z"
   },
   {
    "duration": 634,
    "start_time": "2023-01-14T15:37:55.715Z"
   },
   {
    "duration": 608,
    "start_time": "2023-01-14T15:38:08.124Z"
   },
   {
    "duration": 309,
    "start_time": "2023-01-14T15:40:51.849Z"
   },
   {
    "duration": 840,
    "start_time": "2023-01-14T15:43:42.274Z"
   },
   {
    "duration": 807,
    "start_time": "2023-01-14T15:46:26.560Z"
   },
   {
    "duration": 822,
    "start_time": "2023-01-14T15:47:00.099Z"
   },
   {
    "duration": 77,
    "start_time": "2023-01-14T16:12:49.827Z"
   },
   {
    "duration": 75,
    "start_time": "2023-01-14T16:12:58.503Z"
   },
   {
    "duration": 6,
    "start_time": "2023-01-14T16:13:15.306Z"
   },
   {
    "duration": 5,
    "start_time": "2023-01-14T16:13:56.162Z"
   },
   {
    "duration": 1469,
    "start_time": "2023-01-14T16:17:59.739Z"
   },
   {
    "duration": 1245,
    "start_time": "2023-01-14T16:18:05.683Z"
   },
   {
    "duration": 15,
    "start_time": "2023-01-14T16:18:06.931Z"
   },
   {
    "duration": 10,
    "start_time": "2023-01-14T16:18:06.948Z"
   },
   {
    "duration": 11,
    "start_time": "2023-01-14T16:18:06.960Z"
   },
   {
    "duration": 12,
    "start_time": "2023-01-14T16:18:06.973Z"
   },
   {
    "duration": 11,
    "start_time": "2023-01-14T16:18:06.987Z"
   },
   {
    "duration": 39,
    "start_time": "2023-01-14T16:18:07.001Z"
   },
   {
    "duration": 96,
    "start_time": "2023-01-14T16:18:07.042Z"
   },
   {
    "duration": 6,
    "start_time": "2023-01-14T16:18:07.140Z"
   },
   {
    "duration": 12,
    "start_time": "2023-01-14T16:18:07.148Z"
   },
   {
    "duration": 4,
    "start_time": "2023-01-14T16:18:07.162Z"
   },
   {
    "duration": 10,
    "start_time": "2023-01-14T16:18:07.168Z"
   },
   {
    "duration": 61,
    "start_time": "2023-01-14T16:18:07.179Z"
   },
   {
    "duration": 6,
    "start_time": "2023-01-14T16:18:07.241Z"
   },
   {
    "duration": 8,
    "start_time": "2023-01-14T16:18:07.248Z"
   },
   {
    "duration": 21,
    "start_time": "2023-01-14T16:18:07.259Z"
   },
   {
    "duration": 15,
    "start_time": "2023-01-14T16:18:07.282Z"
   },
   {
    "duration": 2416,
    "start_time": "2023-01-14T16:18:07.298Z"
   },
   {
    "duration": 60,
    "start_time": "2023-01-14T16:18:09.717Z"
   },
   {
    "duration": 5,
    "start_time": "2023-01-14T16:18:09.780Z"
   },
   {
    "duration": 61,
    "start_time": "2023-01-14T16:18:09.788Z"
   },
   {
    "duration": 120,
    "start_time": "2023-01-14T16:18:09.851Z"
   },
   {
    "duration": 809,
    "start_time": "2023-01-14T16:18:09.973Z"
   },
   {
    "duration": 1501,
    "start_time": "2023-01-14T16:18:10.784Z"
   },
   {
    "duration": 508,
    "start_time": "2023-01-14T16:18:12.288Z"
   },
   {
    "duration": 861,
    "start_time": "2023-01-14T16:18:12.798Z"
   },
   {
    "duration": 1479,
    "start_time": "2023-01-14T16:18:13.661Z"
   },
   {
    "duration": 544,
    "start_time": "2023-01-14T16:18:15.143Z"
   },
   {
    "duration": 758,
    "start_time": "2023-01-14T16:18:15.688Z"
   },
   {
    "duration": 1191,
    "start_time": "2023-01-14T16:28:47.313Z"
   },
   {
    "duration": 14,
    "start_time": "2023-01-14T16:28:48.506Z"
   },
   {
    "duration": 9,
    "start_time": "2023-01-14T16:28:48.522Z"
   },
   {
    "duration": 8,
    "start_time": "2023-01-14T16:28:48.533Z"
   },
   {
    "duration": 10,
    "start_time": "2023-01-14T16:28:48.542Z"
   },
   {
    "duration": 12,
    "start_time": "2023-01-14T16:28:48.554Z"
   },
   {
    "duration": 16,
    "start_time": "2023-01-14T16:28:48.568Z"
   },
   {
    "duration": 72,
    "start_time": "2023-01-14T16:28:48.586Z"
   },
   {
    "duration": 6,
    "start_time": "2023-01-14T16:28:48.659Z"
   },
   {
    "duration": 12,
    "start_time": "2023-01-14T16:28:48.667Z"
   },
   {
    "duration": 4,
    "start_time": "2023-01-14T16:28:48.681Z"
   },
   {
    "duration": 8,
    "start_time": "2023-01-14T16:28:48.687Z"
   },
   {
    "duration": 58,
    "start_time": "2023-01-14T16:28:48.697Z"
   },
   {
    "duration": 5,
    "start_time": "2023-01-14T16:28:48.757Z"
   },
   {
    "duration": 15,
    "start_time": "2023-01-14T16:28:48.763Z"
   },
   {
    "duration": 6,
    "start_time": "2023-01-14T16:28:48.780Z"
   },
   {
    "duration": 11,
    "start_time": "2023-01-14T16:28:48.788Z"
   },
   {
    "duration": 2304,
    "start_time": "2023-01-14T16:28:48.802Z"
   },
   {
    "duration": 46,
    "start_time": "2023-01-14T16:28:51.108Z"
   },
   {
    "duration": 8,
    "start_time": "2023-01-14T16:28:51.156Z"
   },
   {
    "duration": 76,
    "start_time": "2023-01-14T16:28:51.166Z"
   },
   {
    "duration": 226,
    "start_time": "2023-01-14T16:28:51.244Z"
   },
   {
    "duration": 753,
    "start_time": "2023-01-14T16:28:51.472Z"
   },
   {
    "duration": 1474,
    "start_time": "2023-01-14T16:28:52.227Z"
   },
   {
    "duration": 481,
    "start_time": "2023-01-14T16:28:53.703Z"
   },
   {
    "duration": 863,
    "start_time": "2023-01-14T16:28:54.186Z"
   },
   {
    "duration": 1455,
    "start_time": "2023-01-14T16:28:55.051Z"
   },
   {
    "duration": 1356,
    "start_time": "2023-01-15T15:42:36.178Z"
   },
   {
    "duration": 14,
    "start_time": "2023-01-15T15:42:37.536Z"
   },
   {
    "duration": 10,
    "start_time": "2023-01-15T15:42:37.552Z"
   },
   {
    "duration": 5,
    "start_time": "2023-01-15T15:42:37.565Z"
   },
   {
    "duration": 17,
    "start_time": "2023-01-15T15:42:37.571Z"
   },
   {
    "duration": 13,
    "start_time": "2023-01-15T15:42:37.590Z"
   },
   {
    "duration": 18,
    "start_time": "2023-01-15T15:42:37.605Z"
   },
   {
    "duration": 72,
    "start_time": "2023-01-15T15:42:37.625Z"
   },
   {
    "duration": 6,
    "start_time": "2023-01-15T15:42:37.698Z"
   },
   {
    "duration": 52,
    "start_time": "2023-01-15T15:42:37.707Z"
   },
   {
    "duration": 5,
    "start_time": "2023-01-15T15:42:37.761Z"
   },
   {
    "duration": 11,
    "start_time": "2023-01-15T15:42:37.767Z"
   },
   {
    "duration": 24,
    "start_time": "2023-01-15T15:42:37.780Z"
   },
   {
    "duration": 5,
    "start_time": "2023-01-15T15:42:37.806Z"
   },
   {
    "duration": 39,
    "start_time": "2023-01-15T15:42:37.812Z"
   },
   {
    "duration": 5,
    "start_time": "2023-01-15T15:42:37.853Z"
   },
   {
    "duration": 9,
    "start_time": "2023-01-15T15:42:37.860Z"
   },
   {
    "duration": 2590,
    "start_time": "2023-01-15T15:42:37.871Z"
   },
   {
    "duration": 58,
    "start_time": "2023-01-15T15:42:40.463Z"
   },
   {
    "duration": 6,
    "start_time": "2023-01-15T15:42:40.522Z"
   },
   {
    "duration": 45,
    "start_time": "2023-01-15T15:42:40.530Z"
   },
   {
    "duration": 123,
    "start_time": "2023-01-15T15:42:40.653Z"
   },
   {
    "duration": 820,
    "start_time": "2023-01-15T15:42:40.778Z"
   },
   {
    "duration": 1615,
    "start_time": "2023-01-15T15:42:41.600Z"
   },
   {
    "duration": 491,
    "start_time": "2023-01-15T15:42:43.217Z"
   },
   {
    "duration": 987,
    "start_time": "2023-01-15T15:42:43.710Z"
   },
   {
    "duration": 1534,
    "start_time": "2023-01-15T15:42:44.699Z"
   },
   {
    "duration": 56,
    "start_time": "2023-01-16T14:37:04.747Z"
   },
   {
    "duration": 1419,
    "start_time": "2023-01-16T14:37:10.323Z"
   },
   {
    "duration": 12,
    "start_time": "2023-01-16T14:37:11.744Z"
   },
   {
    "duration": 8,
    "start_time": "2023-01-16T14:37:11.757Z"
   },
   {
    "duration": 12,
    "start_time": "2023-01-16T14:37:11.767Z"
   },
   {
    "duration": 9,
    "start_time": "2023-01-16T14:37:11.780Z"
   },
   {
    "duration": 20,
    "start_time": "2023-01-16T14:37:11.790Z"
   },
   {
    "duration": 13,
    "start_time": "2023-01-16T14:37:11.812Z"
   },
   {
    "duration": 34,
    "start_time": "2023-01-16T14:37:11.826Z"
   },
   {
    "duration": 4,
    "start_time": "2023-01-16T14:37:11.861Z"
   },
   {
    "duration": 42,
    "start_time": "2023-01-16T14:37:11.868Z"
   },
   {
    "duration": 6,
    "start_time": "2023-01-16T14:37:11.912Z"
   },
   {
    "duration": 11,
    "start_time": "2023-01-16T14:37:11.920Z"
   },
   {
    "duration": 20,
    "start_time": "2023-01-16T14:37:11.932Z"
   },
   {
    "duration": 4,
    "start_time": "2023-01-16T14:37:11.953Z"
   },
   {
    "duration": 4,
    "start_time": "2023-01-16T14:37:11.959Z"
   },
   {
    "duration": 4,
    "start_time": "2023-01-16T14:37:11.965Z"
   },
   {
    "duration": 39,
    "start_time": "2023-01-16T14:37:11.970Z"
   },
   {
    "duration": 2144,
    "start_time": "2023-01-16T14:37:12.010Z"
   },
   {
    "duration": 53,
    "start_time": "2023-01-16T14:37:14.156Z"
   },
   {
    "duration": 5,
    "start_time": "2023-01-16T14:37:14.210Z"
   },
   {
    "duration": 86,
    "start_time": "2023-01-16T14:37:14.217Z"
   },
   {
    "duration": 152,
    "start_time": "2023-01-16T14:37:14.305Z"
   },
   {
    "duration": 721,
    "start_time": "2023-01-16T14:37:14.458Z"
   },
   {
    "duration": 1330,
    "start_time": "2023-01-16T14:37:15.180Z"
   },
   {
    "duration": 445,
    "start_time": "2023-01-16T14:37:16.512Z"
   },
   {
    "duration": 781,
    "start_time": "2023-01-16T14:37:16.958Z"
   },
   {
    "duration": 1297,
    "start_time": "2023-01-16T14:37:17.741Z"
   },
   {
    "duration": 1191,
    "start_time": "2023-01-16T14:38:09.576Z"
   },
   {
    "duration": 12,
    "start_time": "2023-01-16T14:38:10.769Z"
   },
   {
    "duration": 8,
    "start_time": "2023-01-16T14:38:10.783Z"
   },
   {
    "duration": 21,
    "start_time": "2023-01-16T14:38:10.793Z"
   },
   {
    "duration": 23,
    "start_time": "2023-01-16T14:38:10.817Z"
   },
   {
    "duration": 27,
    "start_time": "2023-01-16T14:38:10.842Z"
   },
   {
    "duration": 8,
    "start_time": "2023-01-16T14:38:10.871Z"
   },
   {
    "duration": 32,
    "start_time": "2023-01-16T14:38:10.880Z"
   },
   {
    "duration": 24,
    "start_time": "2023-01-16T14:38:10.918Z"
   },
   {
    "duration": 39,
    "start_time": "2023-01-16T14:38:10.946Z"
   },
   {
    "duration": 12,
    "start_time": "2023-01-16T14:38:10.986Z"
   },
   {
    "duration": 15,
    "start_time": "2023-01-16T14:38:11.008Z"
   },
   {
    "duration": 10,
    "start_time": "2023-01-16T14:38:11.025Z"
   },
   {
    "duration": 20,
    "start_time": "2023-01-16T14:38:11.036Z"
   },
   {
    "duration": 21,
    "start_time": "2023-01-16T14:38:11.058Z"
   },
   {
    "duration": 6,
    "start_time": "2023-01-16T14:38:11.081Z"
   },
   {
    "duration": 35,
    "start_time": "2023-01-16T14:38:11.089Z"
   },
   {
    "duration": 11,
    "start_time": "2023-01-16T14:38:11.126Z"
   },
   {
    "duration": 10,
    "start_time": "2023-01-16T14:38:11.139Z"
   },
   {
    "duration": 2154,
    "start_time": "2023-01-16T14:38:11.150Z"
   },
   {
    "duration": 48,
    "start_time": "2023-01-16T14:38:13.306Z"
   },
   {
    "duration": 4,
    "start_time": "2023-01-16T14:38:13.355Z"
   },
   {
    "duration": 45,
    "start_time": "2023-01-16T14:38:13.360Z"
   },
   {
    "duration": 127,
    "start_time": "2023-01-16T14:38:13.408Z"
   },
   {
    "duration": 739,
    "start_time": "2023-01-16T14:38:13.536Z"
   },
   {
    "duration": 1416,
    "start_time": "2023-01-16T14:38:14.277Z"
   },
   {
    "duration": 453,
    "start_time": "2023-01-16T14:38:15.697Z"
   },
   {
    "duration": 784,
    "start_time": "2023-01-16T14:38:16.152Z"
   },
   {
    "duration": 1374,
    "start_time": "2023-01-16T14:38:16.939Z"
   },
   {
    "duration": 1060,
    "start_time": "2023-01-16T14:39:24.931Z"
   },
   {
    "duration": 17,
    "start_time": "2023-01-16T14:39:25.993Z"
   },
   {
    "duration": 15,
    "start_time": "2023-01-16T14:39:26.012Z"
   },
   {
    "duration": 6,
    "start_time": "2023-01-16T14:39:26.029Z"
   },
   {
    "duration": 10,
    "start_time": "2023-01-16T14:39:26.037Z"
   },
   {
    "duration": 26,
    "start_time": "2023-01-16T14:39:26.048Z"
   },
   {
    "duration": 8,
    "start_time": "2023-01-16T14:39:26.076Z"
   },
   {
    "duration": 34,
    "start_time": "2023-01-16T14:39:26.085Z"
   },
   {
    "duration": 12,
    "start_time": "2023-01-16T14:39:26.121Z"
   },
   {
    "duration": 68,
    "start_time": "2023-01-16T14:39:26.135Z"
   },
   {
    "duration": 6,
    "start_time": "2023-01-16T14:39:26.206Z"
   },
   {
    "duration": 14,
    "start_time": "2023-01-16T14:39:26.214Z"
   },
   {
    "duration": 4,
    "start_time": "2023-01-16T14:39:26.229Z"
   },
   {
    "duration": 8,
    "start_time": "2023-01-16T14:39:26.234Z"
   },
   {
    "duration": 18,
    "start_time": "2023-01-16T14:39:26.244Z"
   },
   {
    "duration": 4,
    "start_time": "2023-01-16T14:39:26.265Z"
   },
   {
    "duration": 39,
    "start_time": "2023-01-16T14:39:26.270Z"
   },
   {
    "duration": 8,
    "start_time": "2023-01-16T14:39:26.312Z"
   },
   {
    "duration": 7,
    "start_time": "2023-01-16T14:39:26.321Z"
   },
   {
    "duration": 1880,
    "start_time": "2023-01-16T14:39:26.330Z"
   },
   {
    "duration": 44,
    "start_time": "2023-01-16T14:39:28.212Z"
   },
   {
    "duration": 4,
    "start_time": "2023-01-16T14:39:28.257Z"
   },
   {
    "duration": 45,
    "start_time": "2023-01-16T14:39:28.262Z"
   },
   {
    "duration": 115,
    "start_time": "2023-01-16T14:39:28.319Z"
   },
   {
    "duration": 801,
    "start_time": "2023-01-16T14:39:28.436Z"
   },
   {
    "duration": 1305,
    "start_time": "2023-01-16T14:39:29.239Z"
   },
   {
    "duration": 419,
    "start_time": "2023-01-16T14:39:30.545Z"
   },
   {
    "duration": 759,
    "start_time": "2023-01-16T14:39:30.966Z"
   },
   {
    "duration": 1302,
    "start_time": "2023-01-16T14:39:31.727Z"
   },
   {
    "duration": 6,
    "start_time": "2023-01-16T14:40:15.580Z"
   },
   {
    "duration": 1162,
    "start_time": "2023-01-16T14:58:44.313Z"
   },
   {
    "duration": 13,
    "start_time": "2023-01-16T14:58:45.477Z"
   },
   {
    "duration": 10,
    "start_time": "2023-01-16T14:58:45.492Z"
   },
   {
    "duration": 14,
    "start_time": "2023-01-16T14:58:45.504Z"
   },
   {
    "duration": 30,
    "start_time": "2023-01-16T14:58:45.519Z"
   },
   {
    "duration": 22,
    "start_time": "2023-01-16T14:58:45.551Z"
   },
   {
    "duration": 28,
    "start_time": "2023-01-16T14:58:45.575Z"
   },
   {
    "duration": 50,
    "start_time": "2023-01-16T14:58:45.605Z"
   },
   {
    "duration": 40,
    "start_time": "2023-01-16T14:58:45.657Z"
   },
   {
    "duration": 11,
    "start_time": "2023-01-16T14:58:45.700Z"
   },
   {
    "duration": 10,
    "start_time": "2023-01-16T14:58:45.713Z"
   },
   {
    "duration": 12,
    "start_time": "2023-01-16T14:58:45.724Z"
   },
   {
    "duration": 31,
    "start_time": "2023-01-16T14:58:45.738Z"
   },
   {
    "duration": 5,
    "start_time": "2023-01-16T14:58:45.771Z"
   },
   {
    "duration": 6,
    "start_time": "2023-01-16T14:58:45.797Z"
   },
   {
    "duration": 13,
    "start_time": "2023-01-16T14:58:45.804Z"
   },
   {
    "duration": 7,
    "start_time": "2023-01-16T14:58:45.819Z"
   },
   {
    "duration": 1965,
    "start_time": "2023-01-16T14:58:45.829Z"
   },
   {
    "duration": 52,
    "start_time": "2023-01-16T14:58:47.796Z"
   },
   {
    "duration": 5,
    "start_time": "2023-01-16T14:58:47.850Z"
   },
   {
    "duration": 53,
    "start_time": "2023-01-16T14:58:47.857Z"
   },
   {
    "duration": 208,
    "start_time": "2023-01-16T14:58:47.912Z"
   },
   {
    "duration": 655,
    "start_time": "2023-01-16T14:58:48.122Z"
   },
   {
    "duration": 8626,
    "start_time": "2023-01-16T14:58:48.779Z"
   },
   {
    "duration": 1300,
    "start_time": "2023-01-16T14:58:57.406Z"
   },
   {
    "duration": 408,
    "start_time": "2023-01-16T14:58:58.708Z"
   },
   {
    "duration": 760,
    "start_time": "2023-01-16T14:58:59.118Z"
   },
   {
    "duration": 1366,
    "start_time": "2023-01-16T14:58:59.881Z"
   },
   {
    "duration": 380,
    "start_time": "2023-01-16T15:08:13.956Z"
   },
   {
    "duration": 548,
    "start_time": "2023-01-16T15:08:26.143Z"
   },
   {
    "duration": 937,
    "start_time": "2023-01-16T15:09:27.819Z"
   },
   {
    "duration": 75760,
    "start_time": "2023-01-16T15:09:57.883Z"
   },
   {
    "duration": 270,
    "start_time": "2023-01-16T15:12:45.275Z"
   },
   {
    "duration": 89848,
    "start_time": "2023-01-16T15:14:58.300Z"
   },
   {
    "duration": 424,
    "start_time": "2023-01-16T15:19:15.674Z"
   },
   {
    "duration": 1333,
    "start_time": "2023-01-16T15:19:42.946Z"
   },
   {
    "duration": 3412,
    "start_time": "2023-01-16T15:20:12.350Z"
   },
   {
    "duration": 2494,
    "start_time": "2023-01-16T15:20:40.122Z"
   },
   {
    "duration": 3260,
    "start_time": "2023-01-16T15:21:01.192Z"
   },
   {
    "duration": 2425,
    "start_time": "2023-01-16T15:25:59.381Z"
   },
   {
    "duration": 2386,
    "start_time": "2023-01-16T15:26:32.540Z"
   },
   {
    "duration": 3403,
    "start_time": "2023-01-16T15:26:47.117Z"
   },
   {
    "duration": 3627,
    "start_time": "2023-01-16T15:26:58.748Z"
   },
   {
    "duration": 3484,
    "start_time": "2023-01-16T15:27:06.486Z"
   },
   {
    "duration": 3360,
    "start_time": "2023-01-16T15:27:12.414Z"
   },
   {
    "duration": 2335,
    "start_time": "2023-01-16T15:27:40.730Z"
   },
   {
    "duration": 2366,
    "start_time": "2023-01-16T15:27:49.264Z"
   },
   {
    "duration": 2426,
    "start_time": "2023-01-16T15:44:55.964Z"
   },
   {
    "duration": 3725,
    "start_time": "2023-01-16T15:45:12.411Z"
   },
   {
    "duration": 2440,
    "start_time": "2023-01-16T15:51:53.228Z"
   },
   {
    "duration": 3527,
    "start_time": "2023-01-16T15:52:07.681Z"
   },
   {
    "duration": 7574,
    "start_time": "2023-01-16T15:56:05.420Z"
   },
   {
    "duration": 7331,
    "start_time": "2023-01-16T15:56:37.871Z"
   },
   {
    "duration": 2410,
    "start_time": "2023-01-16T15:57:34.308Z"
   },
   {
    "duration": 7355,
    "start_time": "2023-01-16T15:57:40.520Z"
   },
   {
    "duration": 7236,
    "start_time": "2023-01-16T16:06:37.389Z"
   },
   {
    "duration": 38,
    "start_time": "2023-01-16T16:07:48.846Z"
   },
   {
    "duration": 7362,
    "start_time": "2023-01-16T16:07:56.688Z"
   },
   {
    "duration": 7887,
    "start_time": "2023-01-16T16:09:51.632Z"
   },
   {
    "duration": 7666,
    "start_time": "2023-01-16T16:10:21.772Z"
   },
   {
    "duration": 7396,
    "start_time": "2023-01-16T16:10:54.704Z"
   },
   {
    "duration": 7680,
    "start_time": "2023-01-16T16:11:35.159Z"
   },
   {
    "duration": 8147,
    "start_time": "2023-01-16T16:11:59.834Z"
   },
   {
    "duration": 2618,
    "start_time": "2023-01-16T16:32:40.622Z"
   },
   {
    "duration": 2688,
    "start_time": "2023-01-16T16:32:51.581Z"
   },
   {
    "duration": 2754,
    "start_time": "2023-01-16T16:33:04.629Z"
   },
   {
    "duration": 2799,
    "start_time": "2023-01-16T16:33:33.336Z"
   },
   {
    "duration": 50,
    "start_time": "2023-01-16T16:53:23.634Z"
   },
   {
    "duration": 263,
    "start_time": "2023-01-16T17:19:33.583Z"
   },
   {
    "duration": 74176,
    "start_time": "2023-01-16T17:19:58.338Z"
   },
   {
    "duration": 1288,
    "start_time": "2023-01-16T17:26:49.532Z"
   },
   {
    "duration": 13,
    "start_time": "2023-01-16T17:26:50.822Z"
   },
   {
    "duration": 33,
    "start_time": "2023-01-16T17:26:50.836Z"
   },
   {
    "duration": 21,
    "start_time": "2023-01-16T17:26:50.871Z"
   },
   {
    "duration": 36,
    "start_time": "2023-01-16T17:26:50.894Z"
   },
   {
    "duration": 29,
    "start_time": "2023-01-16T17:26:50.932Z"
   },
   {
    "duration": 26,
    "start_time": "2023-01-16T17:26:50.963Z"
   },
   {
    "duration": 52,
    "start_time": "2023-01-16T17:26:50.991Z"
   },
   {
    "duration": 6,
    "start_time": "2023-01-16T17:26:51.045Z"
   },
   {
    "duration": 20,
    "start_time": "2023-01-16T17:26:51.053Z"
   },
   {
    "duration": 19,
    "start_time": "2023-01-16T17:26:51.074Z"
   },
   {
    "duration": 28,
    "start_time": "2023-01-16T17:26:51.094Z"
   },
   {
    "duration": 31,
    "start_time": "2023-01-16T17:26:51.123Z"
   },
   {
    "duration": 9,
    "start_time": "2023-01-16T17:26:51.155Z"
   },
   {
    "duration": 34,
    "start_time": "2023-01-16T17:26:51.166Z"
   },
   {
    "duration": 38,
    "start_time": "2023-01-16T17:26:51.202Z"
   },
   {
    "duration": 31,
    "start_time": "2023-01-16T17:26:51.242Z"
   },
   {
    "duration": 1731,
    "start_time": "2023-01-16T17:26:51.275Z"
   },
   {
    "duration": 46,
    "start_time": "2023-01-16T17:26:53.008Z"
   },
   {
    "duration": 3,
    "start_time": "2023-01-16T17:26:53.056Z"
   },
   {
    "duration": 45,
    "start_time": "2023-01-16T17:26:53.061Z"
   },
   {
    "duration": 204,
    "start_time": "2023-01-16T17:26:53.108Z"
   },
   {
    "duration": 692,
    "start_time": "2023-01-16T17:26:53.313Z"
   },
   {
    "duration": 75061,
    "start_time": "2023-01-16T17:26:54.006Z"
   },
   {
    "duration": 2654,
    "start_time": "2023-01-16T17:28:09.069Z"
   },
   {
    "duration": 1016,
    "start_time": "2023-01-16T17:28:11.725Z"
   },
   {
    "duration": 1860,
    "start_time": "2023-01-16T17:28:12.742Z"
   },
   {
    "duration": 2193,
    "start_time": "2023-01-16T17:28:14.604Z"
   },
   {
    "duration": 1316,
    "start_time": "2023-01-16T17:42:44.282Z"
   },
   {
    "duration": 11,
    "start_time": "2023-01-16T17:42:45.600Z"
   },
   {
    "duration": 21,
    "start_time": "2023-01-16T17:42:45.613Z"
   },
   {
    "duration": 7,
    "start_time": "2023-01-16T17:42:45.636Z"
   },
   {
    "duration": 9,
    "start_time": "2023-01-16T17:42:45.645Z"
   },
   {
    "duration": 9,
    "start_time": "2023-01-16T17:42:45.655Z"
   },
   {
    "duration": 15,
    "start_time": "2023-01-16T17:42:45.666Z"
   },
   {
    "duration": 49,
    "start_time": "2023-01-16T17:42:45.682Z"
   },
   {
    "duration": 4,
    "start_time": "2023-01-16T17:42:45.733Z"
   },
   {
    "duration": 20,
    "start_time": "2023-01-16T17:42:45.739Z"
   },
   {
    "duration": 5,
    "start_time": "2023-01-16T17:42:45.760Z"
   },
   {
    "duration": 32,
    "start_time": "2023-01-16T17:42:45.766Z"
   },
   {
    "duration": 20,
    "start_time": "2023-01-16T17:42:45.799Z"
   },
   {
    "duration": 5,
    "start_time": "2023-01-16T17:42:45.820Z"
   },
   {
    "duration": 12,
    "start_time": "2023-01-16T17:42:45.826Z"
   },
   {
    "duration": 20,
    "start_time": "2023-01-16T17:42:45.839Z"
   },
   {
    "duration": 16,
    "start_time": "2023-01-16T17:42:45.862Z"
   },
   {
    "duration": 1699,
    "start_time": "2023-01-16T17:42:45.879Z"
   },
   {
    "duration": 46,
    "start_time": "2023-01-16T17:42:47.580Z"
   },
   {
    "duration": 5,
    "start_time": "2023-01-16T17:42:47.628Z"
   },
   {
    "duration": 66,
    "start_time": "2023-01-16T17:42:47.634Z"
   },
   {
    "duration": 127,
    "start_time": "2023-01-16T17:42:47.701Z"
   },
   {
    "duration": 664,
    "start_time": "2023-01-16T17:42:47.830Z"
   },
   {
    "duration": 72810,
    "start_time": "2023-01-16T17:42:48.498Z"
   },
   {
    "duration": 2510,
    "start_time": "2023-01-16T17:44:01.309Z"
   },
   {
    "duration": 997,
    "start_time": "2023-01-16T17:44:03.820Z"
   },
   {
    "duration": 1858,
    "start_time": "2023-01-16T17:44:04.818Z"
   },
   {
    "duration": 2136,
    "start_time": "2023-01-16T17:44:06.680Z"
   }
  ],
  "kernelspec": {
   "display_name": "Python 3 (ipykernel)",
   "language": "python",
   "name": "python3"
  },
  "language_info": {
   "codemirror_mode": {
    "name": "ipython",
    "version": 3
   },
   "file_extension": ".py",
   "mimetype": "text/x-python",
   "name": "python",
   "nbconvert_exporter": "python",
   "pygments_lexer": "ipython3",
   "version": "3.9.13"
  },
  "toc": {
   "base_numbering": 1,
   "nav_menu": {},
   "number_sections": true,
   "sideBar": true,
   "skip_h1_title": true,
   "title_cell": "Содержание",
   "title_sidebar": "Contents",
   "toc_cell": true,
   "toc_position": {
    "height": "calc(100% - 180px)",
    "left": "10px",
    "top": "150px",
    "width": "165px"
   },
   "toc_section_display": true,
   "toc_window_display": false
  }
 },
 "nbformat": 4,
 "nbformat_minor": 2
}
