{
 "cells": [
  {
   "cell_type": "markdown",
   "metadata": {},
   "source": [
    "# Исследование объявлений о продаже квартир\n",
    "\n",
    "В нашем распоряжении данные сервиса Яндекс Недвижимость — архив объявлений за несколько лет о продаже квартир в Санкт-Петербурге и соседних населённых пунктах.\n",
    "Наша задача — выполнить предобработку данных и изучить их, чтобы найти интересные особенности и зависимости, которые существуют на рынке недвижимости.\n",
    "О каждой квартире в базе содержится два типа данных: добавленные пользователем и картографические. Например, к первому типу относятся площадь квартиры, её этаж и количество балконов, ко второму — расстояния до центра города, аэропорта и ближайшего парка.\n",
    "\n",
    "Путь к файлу: '/datasets/real_estate_data.csv'\n",
    "\n",
    "Описание данных:\n",
    "* airports_nearest — расстояние до ближайшего аэропорта в метрах (м)\n",
    "* balcony — число балконов\n",
    "* ceiling_height — высота потолков (м)\n",
    "* cityCenters_nearest — расстояние до центра города (м)\n",
    "* days_exposition — сколько дней было размещено объявление (от публикации до снятия)\n",
    "* first_day_exposition — дата публикации\n",
    "* floor — этаж\n",
    "* floors_total — всего этажей в доме\n",
    "* is_apartment — апартаменты (булев тип)\n",
    "* kitchen_area — площадь кухни в квадратных метрах (м²)\n",
    "* last_price — цена на момент снятия с публикации\n",
    "* living_area — жилая площадь в квадратных метрах (м²)\n",
    "* locality_name — название населённого пункта\n",
    "* open_plan — свободная планировка (булев тип)\n",
    "* parks_around3000 — число парков в радиусе 3 км\n",
    "* parks_nearest — расстояние до ближайшего парка (м)\n",
    "* ponds_around3000 — число водоёмов в радиусе 3 км\n",
    "* ponds_nearest — расстояние до ближайшего водоёма (м)\n",
    "* rooms — число комнат\n",
    "* studio — квартира-студия (булев тип)\n",
    "* total_area — общая площадь квартиры в квадратных метрах (м²)\n",
    "* total_images — число фотографий квартиры в объявлении\n",
    "\n",
    "Исследование пройдёт в несколько этапов:\n",
    " 1. Обзор данных.\n",
    " 2. Предобработка данных.\n",
    " 3. Добавление новых столбцов.\n",
    " 4. Исследовательский анализ данных.\n",
    " 5. Общий вывод."
   ]
  },
  {
   "cell_type": "markdown",
   "metadata": {},
   "source": [
    "## Обзор данных. "
   ]
  },
  {
   "cell_type": "markdown",
   "metadata": {},
   "source": [
    "### Загрузим данные из файла в датафрейм."
   ]
  },
  {
   "cell_type": "code",
   "execution_count": 1,
   "metadata": {},
   "outputs": [],
   "source": [
    "# импорт нужных библиотек \n",
    "import matplotlib.pyplot as plt\n",
    "import pandas as pd\n",
    "\n",
    "# Прочитаем файл, указав в качестве разделителя знак табуляции \\t, и сохраним результат в датафрейме\n",
    "df = pd.read_csv('/datasets/real_estate_data.csv', sep='\\t') "
   ]
  },
  {
   "cell_type": "markdown",
   "metadata": {},
   "source": [
    "### Изучим общую информацию о полученном датафрейме."
   ]
  },
  {
   "cell_type": "code",
   "execution_count": 2,
   "metadata": {},
   "outputs": [
    {
     "name": "stdout",
     "output_type": "stream",
     "text": [
      "<class 'pandas.core.frame.DataFrame'>\n",
      "RangeIndex: 23699 entries, 0 to 23698\n",
      "Data columns (total 22 columns):\n",
      " #   Column                Non-Null Count  Dtype  \n",
      "---  ------                --------------  -----  \n",
      " 0   total_images          23699 non-null  int64  \n",
      " 1   last_price            23699 non-null  float64\n",
      " 2   total_area            23699 non-null  float64\n",
      " 3   first_day_exposition  23699 non-null  object \n",
      " 4   rooms                 23699 non-null  int64  \n",
      " 5   ceiling_height        14504 non-null  float64\n",
      " 6   floors_total          23613 non-null  float64\n",
      " 7   living_area           21796 non-null  float64\n",
      " 8   floor                 23699 non-null  int64  \n",
      " 9   is_apartment          2775 non-null   object \n",
      " 10  studio                23699 non-null  bool   \n",
      " 11  open_plan             23699 non-null  bool   \n",
      " 12  kitchen_area          21421 non-null  float64\n",
      " 13  balcony               12180 non-null  float64\n",
      " 14  locality_name         23650 non-null  object \n",
      " 15  airports_nearest      18157 non-null  float64\n",
      " 16  cityCenters_nearest   18180 non-null  float64\n",
      " 17  parks_around3000      18181 non-null  float64\n",
      " 18  parks_nearest         8079 non-null   float64\n",
      " 19  ponds_around3000      18181 non-null  float64\n",
      " 20  ponds_nearest         9110 non-null   float64\n",
      " 21  days_exposition       20518 non-null  float64\n",
      "dtypes: bool(2), float64(14), int64(3), object(3)\n",
      "memory usage: 3.7+ MB\n"
     ]
    },
    {
     "data": {
      "text/html": [
       "<div>\n",
       "<style scoped>\n",
       "    .dataframe tbody tr th:only-of-type {\n",
       "        vertical-align: middle;\n",
       "    }\n",
       "\n",
       "    .dataframe tbody tr th {\n",
       "        vertical-align: top;\n",
       "    }\n",
       "\n",
       "    .dataframe thead th {\n",
       "        text-align: right;\n",
       "    }\n",
       "</style>\n",
       "<table border=\"1\" class=\"dataframe\">\n",
       "  <thead>\n",
       "    <tr style=\"text-align: right;\">\n",
       "      <th></th>\n",
       "      <th>total_images</th>\n",
       "      <th>last_price</th>\n",
       "      <th>total_area</th>\n",
       "      <th>first_day_exposition</th>\n",
       "      <th>rooms</th>\n",
       "      <th>ceiling_height</th>\n",
       "      <th>floors_total</th>\n",
       "      <th>living_area</th>\n",
       "      <th>floor</th>\n",
       "      <th>is_apartment</th>\n",
       "      <th>...</th>\n",
       "      <th>kitchen_area</th>\n",
       "      <th>balcony</th>\n",
       "      <th>locality_name</th>\n",
       "      <th>airports_nearest</th>\n",
       "      <th>cityCenters_nearest</th>\n",
       "      <th>parks_around3000</th>\n",
       "      <th>parks_nearest</th>\n",
       "      <th>ponds_around3000</th>\n",
       "      <th>ponds_nearest</th>\n",
       "      <th>days_exposition</th>\n",
       "    </tr>\n",
       "  </thead>\n",
       "  <tbody>\n",
       "    <tr>\n",
       "      <th>0</th>\n",
       "      <td>20</td>\n",
       "      <td>13000000.0</td>\n",
       "      <td>108.00</td>\n",
       "      <td>2019-03-07T00:00:00</td>\n",
       "      <td>3</td>\n",
       "      <td>2.70</td>\n",
       "      <td>16.0</td>\n",
       "      <td>51.00</td>\n",
       "      <td>8</td>\n",
       "      <td>NaN</td>\n",
       "      <td>...</td>\n",
       "      <td>25.00</td>\n",
       "      <td>NaN</td>\n",
       "      <td>Санкт-Петербург</td>\n",
       "      <td>18863.0</td>\n",
       "      <td>16028.0</td>\n",
       "      <td>1.0</td>\n",
       "      <td>482.0</td>\n",
       "      <td>2.0</td>\n",
       "      <td>755.0</td>\n",
       "      <td>NaN</td>\n",
       "    </tr>\n",
       "    <tr>\n",
       "      <th>1</th>\n",
       "      <td>7</td>\n",
       "      <td>3350000.0</td>\n",
       "      <td>40.40</td>\n",
       "      <td>2018-12-04T00:00:00</td>\n",
       "      <td>1</td>\n",
       "      <td>NaN</td>\n",
       "      <td>11.0</td>\n",
       "      <td>18.60</td>\n",
       "      <td>1</td>\n",
       "      <td>NaN</td>\n",
       "      <td>...</td>\n",
       "      <td>11.00</td>\n",
       "      <td>2.0</td>\n",
       "      <td>посёлок Шушары</td>\n",
       "      <td>12817.0</td>\n",
       "      <td>18603.0</td>\n",
       "      <td>0.0</td>\n",
       "      <td>NaN</td>\n",
       "      <td>0.0</td>\n",
       "      <td>NaN</td>\n",
       "      <td>81.0</td>\n",
       "    </tr>\n",
       "    <tr>\n",
       "      <th>2</th>\n",
       "      <td>10</td>\n",
       "      <td>5196000.0</td>\n",
       "      <td>56.00</td>\n",
       "      <td>2015-08-20T00:00:00</td>\n",
       "      <td>2</td>\n",
       "      <td>NaN</td>\n",
       "      <td>5.0</td>\n",
       "      <td>34.30</td>\n",
       "      <td>4</td>\n",
       "      <td>NaN</td>\n",
       "      <td>...</td>\n",
       "      <td>8.30</td>\n",
       "      <td>0.0</td>\n",
       "      <td>Санкт-Петербург</td>\n",
       "      <td>21741.0</td>\n",
       "      <td>13933.0</td>\n",
       "      <td>1.0</td>\n",
       "      <td>90.0</td>\n",
       "      <td>2.0</td>\n",
       "      <td>574.0</td>\n",
       "      <td>558.0</td>\n",
       "    </tr>\n",
       "    <tr>\n",
       "      <th>3</th>\n",
       "      <td>0</td>\n",
       "      <td>64900000.0</td>\n",
       "      <td>159.00</td>\n",
       "      <td>2015-07-24T00:00:00</td>\n",
       "      <td>3</td>\n",
       "      <td>NaN</td>\n",
       "      <td>14.0</td>\n",
       "      <td>NaN</td>\n",
       "      <td>9</td>\n",
       "      <td>NaN</td>\n",
       "      <td>...</td>\n",
       "      <td>NaN</td>\n",
       "      <td>0.0</td>\n",
       "      <td>Санкт-Петербург</td>\n",
       "      <td>28098.0</td>\n",
       "      <td>6800.0</td>\n",
       "      <td>2.0</td>\n",
       "      <td>84.0</td>\n",
       "      <td>3.0</td>\n",
       "      <td>234.0</td>\n",
       "      <td>424.0</td>\n",
       "    </tr>\n",
       "    <tr>\n",
       "      <th>4</th>\n",
       "      <td>2</td>\n",
       "      <td>10000000.0</td>\n",
       "      <td>100.00</td>\n",
       "      <td>2018-06-19T00:00:00</td>\n",
       "      <td>2</td>\n",
       "      <td>3.03</td>\n",
       "      <td>14.0</td>\n",
       "      <td>32.00</td>\n",
       "      <td>13</td>\n",
       "      <td>NaN</td>\n",
       "      <td>...</td>\n",
       "      <td>41.00</td>\n",
       "      <td>NaN</td>\n",
       "      <td>Санкт-Петербург</td>\n",
       "      <td>31856.0</td>\n",
       "      <td>8098.0</td>\n",
       "      <td>2.0</td>\n",
       "      <td>112.0</td>\n",
       "      <td>1.0</td>\n",
       "      <td>48.0</td>\n",
       "      <td>121.0</td>\n",
       "    </tr>\n",
       "    <tr>\n",
       "      <th>5</th>\n",
       "      <td>10</td>\n",
       "      <td>2890000.0</td>\n",
       "      <td>30.40</td>\n",
       "      <td>2018-09-10T00:00:00</td>\n",
       "      <td>1</td>\n",
       "      <td>NaN</td>\n",
       "      <td>12.0</td>\n",
       "      <td>14.40</td>\n",
       "      <td>5</td>\n",
       "      <td>NaN</td>\n",
       "      <td>...</td>\n",
       "      <td>9.10</td>\n",
       "      <td>NaN</td>\n",
       "      <td>городской посёлок Янино-1</td>\n",
       "      <td>NaN</td>\n",
       "      <td>NaN</td>\n",
       "      <td>NaN</td>\n",
       "      <td>NaN</td>\n",
       "      <td>NaN</td>\n",
       "      <td>NaN</td>\n",
       "      <td>55.0</td>\n",
       "    </tr>\n",
       "    <tr>\n",
       "      <th>6</th>\n",
       "      <td>6</td>\n",
       "      <td>3700000.0</td>\n",
       "      <td>37.30</td>\n",
       "      <td>2017-11-02T00:00:00</td>\n",
       "      <td>1</td>\n",
       "      <td>NaN</td>\n",
       "      <td>26.0</td>\n",
       "      <td>10.60</td>\n",
       "      <td>6</td>\n",
       "      <td>NaN</td>\n",
       "      <td>...</td>\n",
       "      <td>14.40</td>\n",
       "      <td>1.0</td>\n",
       "      <td>посёлок Парголово</td>\n",
       "      <td>52996.0</td>\n",
       "      <td>19143.0</td>\n",
       "      <td>0.0</td>\n",
       "      <td>NaN</td>\n",
       "      <td>0.0</td>\n",
       "      <td>NaN</td>\n",
       "      <td>155.0</td>\n",
       "    </tr>\n",
       "    <tr>\n",
       "      <th>7</th>\n",
       "      <td>5</td>\n",
       "      <td>7915000.0</td>\n",
       "      <td>71.60</td>\n",
       "      <td>2019-04-18T00:00:00</td>\n",
       "      <td>2</td>\n",
       "      <td>NaN</td>\n",
       "      <td>24.0</td>\n",
       "      <td>NaN</td>\n",
       "      <td>22</td>\n",
       "      <td>NaN</td>\n",
       "      <td>...</td>\n",
       "      <td>18.90</td>\n",
       "      <td>2.0</td>\n",
       "      <td>Санкт-Петербург</td>\n",
       "      <td>23982.0</td>\n",
       "      <td>11634.0</td>\n",
       "      <td>0.0</td>\n",
       "      <td>NaN</td>\n",
       "      <td>0.0</td>\n",
       "      <td>NaN</td>\n",
       "      <td>NaN</td>\n",
       "    </tr>\n",
       "    <tr>\n",
       "      <th>8</th>\n",
       "      <td>20</td>\n",
       "      <td>2900000.0</td>\n",
       "      <td>33.16</td>\n",
       "      <td>2018-05-23T00:00:00</td>\n",
       "      <td>1</td>\n",
       "      <td>NaN</td>\n",
       "      <td>27.0</td>\n",
       "      <td>15.43</td>\n",
       "      <td>26</td>\n",
       "      <td>NaN</td>\n",
       "      <td>...</td>\n",
       "      <td>8.81</td>\n",
       "      <td>NaN</td>\n",
       "      <td>посёлок Мурино</td>\n",
       "      <td>NaN</td>\n",
       "      <td>NaN</td>\n",
       "      <td>NaN</td>\n",
       "      <td>NaN</td>\n",
       "      <td>NaN</td>\n",
       "      <td>NaN</td>\n",
       "      <td>189.0</td>\n",
       "    </tr>\n",
       "    <tr>\n",
       "      <th>9</th>\n",
       "      <td>18</td>\n",
       "      <td>5400000.0</td>\n",
       "      <td>61.00</td>\n",
       "      <td>2017-02-26T00:00:00</td>\n",
       "      <td>3</td>\n",
       "      <td>2.50</td>\n",
       "      <td>9.0</td>\n",
       "      <td>43.60</td>\n",
       "      <td>7</td>\n",
       "      <td>NaN</td>\n",
       "      <td>...</td>\n",
       "      <td>6.50</td>\n",
       "      <td>2.0</td>\n",
       "      <td>Санкт-Петербург</td>\n",
       "      <td>50898.0</td>\n",
       "      <td>15008.0</td>\n",
       "      <td>0.0</td>\n",
       "      <td>NaN</td>\n",
       "      <td>0.0</td>\n",
       "      <td>NaN</td>\n",
       "      <td>289.0</td>\n",
       "    </tr>\n",
       "  </tbody>\n",
       "</table>\n",
       "<p>10 rows × 22 columns</p>\n",
       "</div>"
      ],
      "text/plain": [
       "   total_images  last_price  total_area first_day_exposition  rooms  \\\n",
       "0            20  13000000.0      108.00  2019-03-07T00:00:00      3   \n",
       "1             7   3350000.0       40.40  2018-12-04T00:00:00      1   \n",
       "2            10   5196000.0       56.00  2015-08-20T00:00:00      2   \n",
       "3             0  64900000.0      159.00  2015-07-24T00:00:00      3   \n",
       "4             2  10000000.0      100.00  2018-06-19T00:00:00      2   \n",
       "5            10   2890000.0       30.40  2018-09-10T00:00:00      1   \n",
       "6             6   3700000.0       37.30  2017-11-02T00:00:00      1   \n",
       "7             5   7915000.0       71.60  2019-04-18T00:00:00      2   \n",
       "8            20   2900000.0       33.16  2018-05-23T00:00:00      1   \n",
       "9            18   5400000.0       61.00  2017-02-26T00:00:00      3   \n",
       "\n",
       "   ceiling_height  floors_total  living_area  floor is_apartment  ...  \\\n",
       "0            2.70          16.0        51.00      8          NaN  ...   \n",
       "1             NaN          11.0        18.60      1          NaN  ...   \n",
       "2             NaN           5.0        34.30      4          NaN  ...   \n",
       "3             NaN          14.0          NaN      9          NaN  ...   \n",
       "4            3.03          14.0        32.00     13          NaN  ...   \n",
       "5             NaN          12.0        14.40      5          NaN  ...   \n",
       "6             NaN          26.0        10.60      6          NaN  ...   \n",
       "7             NaN          24.0          NaN     22          NaN  ...   \n",
       "8             NaN          27.0        15.43     26          NaN  ...   \n",
       "9            2.50           9.0        43.60      7          NaN  ...   \n",
       "\n",
       "   kitchen_area  balcony              locality_name  airports_nearest  \\\n",
       "0         25.00      NaN            Санкт-Петербург           18863.0   \n",
       "1         11.00      2.0             посёлок Шушары           12817.0   \n",
       "2          8.30      0.0            Санкт-Петербург           21741.0   \n",
       "3           NaN      0.0            Санкт-Петербург           28098.0   \n",
       "4         41.00      NaN            Санкт-Петербург           31856.0   \n",
       "5          9.10      NaN  городской посёлок Янино-1               NaN   \n",
       "6         14.40      1.0          посёлок Парголово           52996.0   \n",
       "7         18.90      2.0            Санкт-Петербург           23982.0   \n",
       "8          8.81      NaN             посёлок Мурино               NaN   \n",
       "9          6.50      2.0            Санкт-Петербург           50898.0   \n",
       "\n",
       "  cityCenters_nearest  parks_around3000  parks_nearest  ponds_around3000  \\\n",
       "0             16028.0               1.0          482.0               2.0   \n",
       "1             18603.0               0.0            NaN               0.0   \n",
       "2             13933.0               1.0           90.0               2.0   \n",
       "3              6800.0               2.0           84.0               3.0   \n",
       "4              8098.0               2.0          112.0               1.0   \n",
       "5                 NaN               NaN            NaN               NaN   \n",
       "6             19143.0               0.0            NaN               0.0   \n",
       "7             11634.0               0.0            NaN               0.0   \n",
       "8                 NaN               NaN            NaN               NaN   \n",
       "9             15008.0               0.0            NaN               0.0   \n",
       "\n",
       "   ponds_nearest  days_exposition  \n",
       "0          755.0              NaN  \n",
       "1            NaN             81.0  \n",
       "2          574.0            558.0  \n",
       "3          234.0            424.0  \n",
       "4           48.0            121.0  \n",
       "5            NaN             55.0  \n",
       "6            NaN            155.0  \n",
       "7            NaN              NaN  \n",
       "8            NaN            189.0  \n",
       "9            NaN            289.0  \n",
       "\n",
       "[10 rows x 22 columns]"
      ]
     },
     "metadata": {},
     "output_type": "display_data"
    },
    {
     "data": {
      "text/html": [
       "<div>\n",
       "<style scoped>\n",
       "    .dataframe tbody tr th:only-of-type {\n",
       "        vertical-align: middle;\n",
       "    }\n",
       "\n",
       "    .dataframe tbody tr th {\n",
       "        vertical-align: top;\n",
       "    }\n",
       "\n",
       "    .dataframe thead th {\n",
       "        text-align: right;\n",
       "    }\n",
       "</style>\n",
       "<table border=\"1\" class=\"dataframe\">\n",
       "  <thead>\n",
       "    <tr style=\"text-align: right;\">\n",
       "      <th></th>\n",
       "      <th>total_images</th>\n",
       "      <th>last_price</th>\n",
       "      <th>total_area</th>\n",
       "      <th>first_day_exposition</th>\n",
       "      <th>rooms</th>\n",
       "      <th>ceiling_height</th>\n",
       "      <th>floors_total</th>\n",
       "      <th>living_area</th>\n",
       "      <th>floor</th>\n",
       "      <th>is_apartment</th>\n",
       "      <th>...</th>\n",
       "      <th>kitchen_area</th>\n",
       "      <th>balcony</th>\n",
       "      <th>locality_name</th>\n",
       "      <th>airports_nearest</th>\n",
       "      <th>cityCenters_nearest</th>\n",
       "      <th>parks_around3000</th>\n",
       "      <th>parks_nearest</th>\n",
       "      <th>ponds_around3000</th>\n",
       "      <th>ponds_nearest</th>\n",
       "      <th>days_exposition</th>\n",
       "    </tr>\n",
       "  </thead>\n",
       "  <tbody>\n",
       "    <tr>\n",
       "      <th>23689</th>\n",
       "      <td>13</td>\n",
       "      <td>3550000.0</td>\n",
       "      <td>35.30</td>\n",
       "      <td>2018-02-28T00:00:00</td>\n",
       "      <td>1</td>\n",
       "      <td>2.86</td>\n",
       "      <td>15.0</td>\n",
       "      <td>16.3</td>\n",
       "      <td>4</td>\n",
       "      <td>NaN</td>\n",
       "      <td>...</td>\n",
       "      <td>9.10</td>\n",
       "      <td>2.0</td>\n",
       "      <td>Санкт-Петербург</td>\n",
       "      <td>17284.0</td>\n",
       "      <td>16081.0</td>\n",
       "      <td>1.0</td>\n",
       "      <td>353.0</td>\n",
       "      <td>2.0</td>\n",
       "      <td>652.0</td>\n",
       "      <td>29.0</td>\n",
       "    </tr>\n",
       "    <tr>\n",
       "      <th>23690</th>\n",
       "      <td>3</td>\n",
       "      <td>5500000.0</td>\n",
       "      <td>52.00</td>\n",
       "      <td>2018-07-19T00:00:00</td>\n",
       "      <td>2</td>\n",
       "      <td>NaN</td>\n",
       "      <td>5.0</td>\n",
       "      <td>31.0</td>\n",
       "      <td>2</td>\n",
       "      <td>NaN</td>\n",
       "      <td>...</td>\n",
       "      <td>6.00</td>\n",
       "      <td>NaN</td>\n",
       "      <td>Санкт-Петербург</td>\n",
       "      <td>20151.0</td>\n",
       "      <td>6263.0</td>\n",
       "      <td>1.0</td>\n",
       "      <td>300.0</td>\n",
       "      <td>0.0</td>\n",
       "      <td>NaN</td>\n",
       "      <td>15.0</td>\n",
       "    </tr>\n",
       "    <tr>\n",
       "      <th>23691</th>\n",
       "      <td>11</td>\n",
       "      <td>9470000.0</td>\n",
       "      <td>72.90</td>\n",
       "      <td>2016-10-13T00:00:00</td>\n",
       "      <td>2</td>\n",
       "      <td>2.75</td>\n",
       "      <td>25.0</td>\n",
       "      <td>40.3</td>\n",
       "      <td>7</td>\n",
       "      <td>NaN</td>\n",
       "      <td>...</td>\n",
       "      <td>10.60</td>\n",
       "      <td>1.0</td>\n",
       "      <td>Санкт-Петербург</td>\n",
       "      <td>19424.0</td>\n",
       "      <td>4489.0</td>\n",
       "      <td>0.0</td>\n",
       "      <td>NaN</td>\n",
       "      <td>1.0</td>\n",
       "      <td>806.0</td>\n",
       "      <td>519.0</td>\n",
       "    </tr>\n",
       "    <tr>\n",
       "      <th>23692</th>\n",
       "      <td>2</td>\n",
       "      <td>1350000.0</td>\n",
       "      <td>30.00</td>\n",
       "      <td>2017-07-07T00:00:00</td>\n",
       "      <td>1</td>\n",
       "      <td>NaN</td>\n",
       "      <td>5.0</td>\n",
       "      <td>17.5</td>\n",
       "      <td>4</td>\n",
       "      <td>NaN</td>\n",
       "      <td>...</td>\n",
       "      <td>6.00</td>\n",
       "      <td>NaN</td>\n",
       "      <td>Тихвин</td>\n",
       "      <td>NaN</td>\n",
       "      <td>NaN</td>\n",
       "      <td>NaN</td>\n",
       "      <td>NaN</td>\n",
       "      <td>NaN</td>\n",
       "      <td>NaN</td>\n",
       "      <td>413.0</td>\n",
       "    </tr>\n",
       "    <tr>\n",
       "      <th>23693</th>\n",
       "      <td>9</td>\n",
       "      <td>4600000.0</td>\n",
       "      <td>62.40</td>\n",
       "      <td>2016-08-05T00:00:00</td>\n",
       "      <td>3</td>\n",
       "      <td>2.60</td>\n",
       "      <td>9.0</td>\n",
       "      <td>40.0</td>\n",
       "      <td>8</td>\n",
       "      <td>NaN</td>\n",
       "      <td>...</td>\n",
       "      <td>8.00</td>\n",
       "      <td>0.0</td>\n",
       "      <td>Петергоф</td>\n",
       "      <td>45602.0</td>\n",
       "      <td>34104.0</td>\n",
       "      <td>1.0</td>\n",
       "      <td>352.0</td>\n",
       "      <td>1.0</td>\n",
       "      <td>675.0</td>\n",
       "      <td>239.0</td>\n",
       "    </tr>\n",
       "    <tr>\n",
       "      <th>23694</th>\n",
       "      <td>9</td>\n",
       "      <td>9700000.0</td>\n",
       "      <td>133.81</td>\n",
       "      <td>2017-03-21T00:00:00</td>\n",
       "      <td>3</td>\n",
       "      <td>3.70</td>\n",
       "      <td>5.0</td>\n",
       "      <td>73.3</td>\n",
       "      <td>3</td>\n",
       "      <td>NaN</td>\n",
       "      <td>...</td>\n",
       "      <td>13.83</td>\n",
       "      <td>NaN</td>\n",
       "      <td>Санкт-Петербург</td>\n",
       "      <td>24665.0</td>\n",
       "      <td>4232.0</td>\n",
       "      <td>1.0</td>\n",
       "      <td>796.0</td>\n",
       "      <td>3.0</td>\n",
       "      <td>381.0</td>\n",
       "      <td>NaN</td>\n",
       "    </tr>\n",
       "    <tr>\n",
       "      <th>23695</th>\n",
       "      <td>14</td>\n",
       "      <td>3100000.0</td>\n",
       "      <td>59.00</td>\n",
       "      <td>2018-01-15T00:00:00</td>\n",
       "      <td>3</td>\n",
       "      <td>NaN</td>\n",
       "      <td>5.0</td>\n",
       "      <td>38.0</td>\n",
       "      <td>4</td>\n",
       "      <td>NaN</td>\n",
       "      <td>...</td>\n",
       "      <td>8.50</td>\n",
       "      <td>NaN</td>\n",
       "      <td>Тосно</td>\n",
       "      <td>NaN</td>\n",
       "      <td>NaN</td>\n",
       "      <td>NaN</td>\n",
       "      <td>NaN</td>\n",
       "      <td>NaN</td>\n",
       "      <td>NaN</td>\n",
       "      <td>45.0</td>\n",
       "    </tr>\n",
       "    <tr>\n",
       "      <th>23696</th>\n",
       "      <td>18</td>\n",
       "      <td>2500000.0</td>\n",
       "      <td>56.70</td>\n",
       "      <td>2018-02-11T00:00:00</td>\n",
       "      <td>2</td>\n",
       "      <td>NaN</td>\n",
       "      <td>3.0</td>\n",
       "      <td>29.7</td>\n",
       "      <td>1</td>\n",
       "      <td>NaN</td>\n",
       "      <td>...</td>\n",
       "      <td>NaN</td>\n",
       "      <td>NaN</td>\n",
       "      <td>село Рождествено</td>\n",
       "      <td>NaN</td>\n",
       "      <td>NaN</td>\n",
       "      <td>NaN</td>\n",
       "      <td>NaN</td>\n",
       "      <td>NaN</td>\n",
       "      <td>NaN</td>\n",
       "      <td>NaN</td>\n",
       "    </tr>\n",
       "    <tr>\n",
       "      <th>23697</th>\n",
       "      <td>13</td>\n",
       "      <td>11475000.0</td>\n",
       "      <td>76.75</td>\n",
       "      <td>2017-03-28T00:00:00</td>\n",
       "      <td>2</td>\n",
       "      <td>3.00</td>\n",
       "      <td>17.0</td>\n",
       "      <td>NaN</td>\n",
       "      <td>12</td>\n",
       "      <td>NaN</td>\n",
       "      <td>...</td>\n",
       "      <td>23.30</td>\n",
       "      <td>2.0</td>\n",
       "      <td>Санкт-Петербург</td>\n",
       "      <td>39140.0</td>\n",
       "      <td>10364.0</td>\n",
       "      <td>2.0</td>\n",
       "      <td>173.0</td>\n",
       "      <td>3.0</td>\n",
       "      <td>196.0</td>\n",
       "      <td>602.0</td>\n",
       "    </tr>\n",
       "    <tr>\n",
       "      <th>23698</th>\n",
       "      <td>4</td>\n",
       "      <td>1350000.0</td>\n",
       "      <td>32.30</td>\n",
       "      <td>2017-07-21T00:00:00</td>\n",
       "      <td>1</td>\n",
       "      <td>2.50</td>\n",
       "      <td>5.0</td>\n",
       "      <td>12.3</td>\n",
       "      <td>1</td>\n",
       "      <td>NaN</td>\n",
       "      <td>...</td>\n",
       "      <td>9.00</td>\n",
       "      <td>NaN</td>\n",
       "      <td>поселок Новый Учхоз</td>\n",
       "      <td>NaN</td>\n",
       "      <td>NaN</td>\n",
       "      <td>NaN</td>\n",
       "      <td>NaN</td>\n",
       "      <td>NaN</td>\n",
       "      <td>NaN</td>\n",
       "      <td>NaN</td>\n",
       "    </tr>\n",
       "  </tbody>\n",
       "</table>\n",
       "<p>10 rows × 22 columns</p>\n",
       "</div>"
      ],
      "text/plain": [
       "       total_images  last_price  total_area first_day_exposition  rooms  \\\n",
       "23689            13   3550000.0       35.30  2018-02-28T00:00:00      1   \n",
       "23690             3   5500000.0       52.00  2018-07-19T00:00:00      2   \n",
       "23691            11   9470000.0       72.90  2016-10-13T00:00:00      2   \n",
       "23692             2   1350000.0       30.00  2017-07-07T00:00:00      1   \n",
       "23693             9   4600000.0       62.40  2016-08-05T00:00:00      3   \n",
       "23694             9   9700000.0      133.81  2017-03-21T00:00:00      3   \n",
       "23695            14   3100000.0       59.00  2018-01-15T00:00:00      3   \n",
       "23696            18   2500000.0       56.70  2018-02-11T00:00:00      2   \n",
       "23697            13  11475000.0       76.75  2017-03-28T00:00:00      2   \n",
       "23698             4   1350000.0       32.30  2017-07-21T00:00:00      1   \n",
       "\n",
       "       ceiling_height  floors_total  living_area  floor is_apartment  ...  \\\n",
       "23689            2.86          15.0         16.3      4          NaN  ...   \n",
       "23690             NaN           5.0         31.0      2          NaN  ...   \n",
       "23691            2.75          25.0         40.3      7          NaN  ...   \n",
       "23692             NaN           5.0         17.5      4          NaN  ...   \n",
       "23693            2.60           9.0         40.0      8          NaN  ...   \n",
       "23694            3.70           5.0         73.3      3          NaN  ...   \n",
       "23695             NaN           5.0         38.0      4          NaN  ...   \n",
       "23696             NaN           3.0         29.7      1          NaN  ...   \n",
       "23697            3.00          17.0          NaN     12          NaN  ...   \n",
       "23698            2.50           5.0         12.3      1          NaN  ...   \n",
       "\n",
       "       kitchen_area  balcony        locality_name  airports_nearest  \\\n",
       "23689          9.10      2.0      Санкт-Петербург           17284.0   \n",
       "23690          6.00      NaN      Санкт-Петербург           20151.0   \n",
       "23691         10.60      1.0      Санкт-Петербург           19424.0   \n",
       "23692          6.00      NaN               Тихвин               NaN   \n",
       "23693          8.00      0.0             Петергоф           45602.0   \n",
       "23694         13.83      NaN      Санкт-Петербург           24665.0   \n",
       "23695          8.50      NaN                Тосно               NaN   \n",
       "23696           NaN      NaN     село Рождествено               NaN   \n",
       "23697         23.30      2.0      Санкт-Петербург           39140.0   \n",
       "23698          9.00      NaN  поселок Новый Учхоз               NaN   \n",
       "\n",
       "      cityCenters_nearest  parks_around3000  parks_nearest  ponds_around3000  \\\n",
       "23689             16081.0               1.0          353.0               2.0   \n",
       "23690              6263.0               1.0          300.0               0.0   \n",
       "23691              4489.0               0.0            NaN               1.0   \n",
       "23692                 NaN               NaN            NaN               NaN   \n",
       "23693             34104.0               1.0          352.0               1.0   \n",
       "23694              4232.0               1.0          796.0               3.0   \n",
       "23695                 NaN               NaN            NaN               NaN   \n",
       "23696                 NaN               NaN            NaN               NaN   \n",
       "23697             10364.0               2.0          173.0               3.0   \n",
       "23698                 NaN               NaN            NaN               NaN   \n",
       "\n",
       "       ponds_nearest  days_exposition  \n",
       "23689          652.0             29.0  \n",
       "23690            NaN             15.0  \n",
       "23691          806.0            519.0  \n",
       "23692            NaN            413.0  \n",
       "23693          675.0            239.0  \n",
       "23694          381.0              NaN  \n",
       "23695            NaN             45.0  \n",
       "23696            NaN              NaN  \n",
       "23697          196.0            602.0  \n",
       "23698            NaN              NaN  \n",
       "\n",
       "[10 rows x 22 columns]"
      ]
     },
     "metadata": {},
     "output_type": "display_data"
    },
    {
     "data": {
      "text/plain": [
       "10    1798\n",
       "9     1725\n",
       "20    1694\n",
       "8     1585\n",
       "7     1521\n",
       "6     1482\n",
       "11    1362\n",
       "5     1301\n",
       "12    1225\n",
       "0     1059\n",
       "13    1015\n",
       "4      986\n",
       "14     986\n",
       "15     948\n",
       "1      872\n",
       "3      769\n",
       "16     761\n",
       "17     650\n",
       "18     642\n",
       "2      640\n",
       "19     603\n",
       "23      16\n",
       "21      12\n",
       "24       8\n",
       "22       8\n",
       "26       5\n",
       "28       4\n",
       "32       4\n",
       "29       3\n",
       "50       3\n",
       "27       2\n",
       "35       2\n",
       "30       2\n",
       "31       2\n",
       "39       1\n",
       "25       1\n",
       "42       1\n",
       "37       1\n",
       "Name: total_images, dtype: int64"
      ]
     },
     "metadata": {},
     "output_type": "display_data"
    },
    {
     "data": {
      "text/plain": [
       "4500000.0     342\n",
       "3500000.0     291\n",
       "4000000.0     260\n",
       "4300000.0     260\n",
       "4200000.0     259\n",
       "             ... \n",
       "10430000.0      1\n",
       "9917600.0       1\n",
       "3180500.0       1\n",
       "7297000.0       1\n",
       "4386000.0       1\n",
       "Name: last_price, Length: 2978, dtype: int64"
      ]
     },
     "metadata": {},
     "output_type": "display_data"
    },
    {
     "data": {
      "text/plain": [
       "45.00     419\n",
       "42.00     383\n",
       "60.00     347\n",
       "31.00     346\n",
       "44.00     345\n",
       "         ... \n",
       "44.24       1\n",
       "56.85       1\n",
       "37.92       1\n",
       "115.60      1\n",
       "55.06       1\n",
       "Name: total_area, Length: 2182, dtype: int64"
      ]
     },
     "metadata": {},
     "output_type": "display_data"
    },
    {
     "data": {
      "text/plain": [
       "2018-02-01T00:00:00    368\n",
       "2017-11-10T00:00:00    240\n",
       "2017-10-13T00:00:00    124\n",
       "2017-09-27T00:00:00    111\n",
       "2018-03-26T00:00:00     97\n",
       "                      ... \n",
       "2015-06-14T00:00:00      1\n",
       "2014-12-17T00:00:00      1\n",
       "2018-05-01T00:00:00      1\n",
       "2016-09-12T00:00:00      1\n",
       "2015-03-02T00:00:00      1\n",
       "Name: first_day_exposition, Length: 1491, dtype: int64"
      ]
     },
     "metadata": {},
     "output_type": "display_data"
    },
    {
     "data": {
      "text/plain": [
       "1     8047\n",
       "2     7940\n",
       "3     5814\n",
       "4     1180\n",
       "5      326\n",
       "0      197\n",
       "6      105\n",
       "7       59\n",
       "8       12\n",
       "9        8\n",
       "10       3\n",
       "11       2\n",
       "14       2\n",
       "19       1\n",
       "16       1\n",
       "12       1\n",
       "15       1\n",
       "Name: rooms, dtype: int64"
      ]
     },
     "metadata": {},
     "output_type": "display_data"
    },
    {
     "data": {
      "text/plain": [
       "2.50     3515\n",
       "2.60     1646\n",
       "2.70     1574\n",
       "3.00     1112\n",
       "2.80      993\n",
       "         ... \n",
       "4.25        1\n",
       "3.39        1\n",
       "3.93        1\n",
       "10.30       1\n",
       "4.65        1\n",
       "Name: ceiling_height, Length: 183, dtype: int64"
      ]
     },
     "metadata": {},
     "output_type": "display_data"
    },
    {
     "data": {
      "text/plain": [
       "5.0     5788\n",
       "9.0     3761\n",
       "16.0    1376\n",
       "12.0    1362\n",
       "4.0     1200\n",
       "10.0    1174\n",
       "25.0    1075\n",
       "6.0      914\n",
       "17.0     833\n",
       "3.0      668\n",
       "7.0      592\n",
       "14.0     553\n",
       "18.0     505\n",
       "24.0     469\n",
       "8.0      390\n",
       "2.0      383\n",
       "15.0     365\n",
       "23.0     352\n",
       "19.0     339\n",
       "22.0     286\n",
       "20.0     271\n",
       "13.0     229\n",
       "11.0     203\n",
       "27.0     164\n",
       "21.0     158\n",
       "26.0     124\n",
       "1.0       25\n",
       "35.0      24\n",
       "28.0      21\n",
       "36.0       3\n",
       "37.0       1\n",
       "34.0       1\n",
       "33.0       1\n",
       "60.0       1\n",
       "29.0       1\n",
       "52.0       1\n",
       "Name: floors_total, dtype: int64"
      ]
     },
     "metadata": {},
     "output_type": "display_data"
    },
    {
     "data": {
      "text/plain": [
       "18.00    882\n",
       "17.00    675\n",
       "30.00    598\n",
       "16.00    486\n",
       "20.00    481\n",
       "        ... \n",
       "96.40      1\n",
       "50.26      1\n",
       "43.81      1\n",
       "54.43      1\n",
       "16.74      1\n",
       "Name: living_area, Length: 1782, dtype: int64"
      ]
     },
     "metadata": {},
     "output_type": "display_data"
    },
    {
     "data": {
      "text/plain": [
       "2     3368\n",
       "3     3073\n",
       "1     2917\n",
       "4     2804\n",
       "5     2621\n",
       "6     1305\n",
       "7     1218\n",
       "8     1083\n",
       "9     1051\n",
       "10     687\n",
       "12     526\n",
       "11     523\n",
       "13     379\n",
       "15     343\n",
       "14     337\n",
       "16     315\n",
       "17     227\n",
       "18     178\n",
       "19     147\n",
       "21     125\n",
       "22     113\n",
       "20     110\n",
       "23     100\n",
       "24      63\n",
       "25      46\n",
       "26      24\n",
       "27      10\n",
       "28       1\n",
       "29       1\n",
       "32       1\n",
       "30       1\n",
       "33       1\n",
       "31       1\n",
       "Name: floor, dtype: int64"
      ]
     },
     "metadata": {},
     "output_type": "display_data"
    },
    {
     "data": {
      "text/plain": [
       "False    2725\n",
       "True       50\n",
       "Name: is_apartment, dtype: int64"
      ]
     },
     "metadata": {},
     "output_type": "display_data"
    },
    {
     "data": {
      "text/plain": [
       "False    23550\n",
       "True       149\n",
       "Name: studio, dtype: int64"
      ]
     },
     "metadata": {},
     "output_type": "display_data"
    },
    {
     "data": {
      "text/plain": [
       "False    23632\n",
       "True        67\n",
       "Name: open_plan, dtype: int64"
      ]
     },
     "metadata": {},
     "output_type": "display_data"
    },
    {
     "data": {
      "text/plain": [
       "6.00     1300\n",
       "10.00    1262\n",
       "8.00     1110\n",
       "9.00     1101\n",
       "7.00     1062\n",
       "         ... \n",
       "7.12        1\n",
       "13.73       1\n",
       "14.74       1\n",
       "53.10       1\n",
       "16.74       1\n",
       "Name: kitchen_area, Length: 971, dtype: int64"
      ]
     },
     "metadata": {},
     "output_type": "display_data"
    },
    {
     "data": {
      "text/plain": [
       "1.0    4195\n",
       "0.0    3758\n",
       "2.0    3659\n",
       "5.0     304\n",
       "4.0     183\n",
       "3.0      81\n",
       "Name: balcony, dtype: int64"
      ]
     },
     "metadata": {},
     "output_type": "display_data"
    },
    {
     "data": {
      "text/plain": [
       "Санкт-Петербург           15721\n",
       "посёлок Мурино              522\n",
       "посёлок Шушары              440\n",
       "Всеволожск                  398\n",
       "Пушкин                      369\n",
       "                          ...  \n",
       "посёлок Петро-Славянка        1\n",
       "деревня Раздолье              1\n",
       "поселок Красносельское        1\n",
       "деревня Нижняя                1\n",
       "поселок Перово                1\n",
       "Name: locality_name, Length: 364, dtype: int64"
      ]
     },
     "metadata": {},
     "output_type": "display_data"
    },
    {
     "data": {
      "text/plain": [
       "37434.0    61\n",
       "21928.0    32\n",
       "39946.0    30\n",
       "44870.0    30\n",
       "18732.0    27\n",
       "           ..\n",
       "53478.0     1\n",
       "20335.0     1\n",
       "33699.0     1\n",
       "26945.0     1\n",
       "20875.0     1\n",
       "Name: airports_nearest, Length: 8275, dtype: int64"
      ]
     },
     "metadata": {},
     "output_type": "display_data"
    },
    {
     "data": {
      "text/plain": [
       "8460.0     61\n",
       "20802.0    32\n",
       "10720.0    30\n",
       "8434.0     27\n",
       "20444.0    27\n",
       "           ..\n",
       "5278.0      1\n",
       "11575.0     1\n",
       "3205.0      1\n",
       "12747.0     1\n",
       "4234.0      1\n",
       "Name: cityCenters_nearest, Length: 7642, dtype: int64"
      ]
     },
     "metadata": {},
     "output_type": "display_data"
    },
    {
     "data": {
      "text/plain": [
       "0.0    10106\n",
       "1.0     5681\n",
       "2.0     1747\n",
       "3.0      647\n",
       "Name: parks_around3000, dtype: int64"
      ]
     },
     "metadata": {},
     "output_type": "display_data"
    },
    {
     "data": {
      "text/plain": [
       "441.0     67\n",
       "392.0     41\n",
       "173.0     41\n",
       "456.0     40\n",
       "471.0     32\n",
       "          ..\n",
       "2489.0     1\n",
       "786.0      1\n",
       "793.0      1\n",
       "92.0       1\n",
       "929.0      1\n",
       "Name: parks_nearest, Length: 995, dtype: int64"
      ]
     },
     "metadata": {},
     "output_type": "display_data"
    },
    {
     "data": {
      "text/plain": [
       "0.0    9071\n",
       "1.0    5717\n",
       "2.0    1892\n",
       "3.0    1501\n",
       "Name: ponds_around3000, dtype: int64"
      ]
     },
     "metadata": {},
     "output_type": "display_data"
    },
    {
     "data": {
      "text/plain": [
       "427.0     70\n",
       "454.0     41\n",
       "153.0     40\n",
       "433.0     39\n",
       "564.0     37\n",
       "          ..\n",
       "1075.0     1\n",
       "74.0       1\n",
       "1236.0     1\n",
       "395.0      1\n",
       "995.0      1\n",
       "Name: ponds_nearest, Length: 1096, dtype: int64"
      ]
     },
     "metadata": {},
     "output_type": "display_data"
    },
    {
     "data": {
      "text/plain": [
       "45.0      880\n",
       "60.0      538\n",
       "7.0       234\n",
       "30.0      208\n",
       "90.0      204\n",
       "         ... \n",
       "969.0       1\n",
       "1.0         1\n",
       "1147.0      1\n",
       "1148.0      1\n",
       "1174.0      1\n",
       "Name: days_exposition, Length: 1141, dtype: int64"
      ]
     },
     "metadata": {},
     "output_type": "display_data"
    },
    {
     "data": {
      "text/plain": [
       "count    23699.000000\n",
       "mean         9.858475\n",
       "std          5.682529\n",
       "min          0.000000\n",
       "25%          6.000000\n",
       "50%          9.000000\n",
       "75%         14.000000\n",
       "max         50.000000\n",
       "Name: total_images, dtype: float64"
      ]
     },
     "metadata": {},
     "output_type": "display_data"
    },
    {
     "data": {
      "text/plain": [
       "count    2.369900e+04\n",
       "mean     6.541549e+06\n",
       "std      1.088701e+07\n",
       "min      1.219000e+04\n",
       "25%      3.400000e+06\n",
       "50%      4.650000e+06\n",
       "75%      6.800000e+06\n",
       "max      7.630000e+08\n",
       "Name: last_price, dtype: float64"
      ]
     },
     "metadata": {},
     "output_type": "display_data"
    },
    {
     "data": {
      "text/plain": [
       "count    23699.000000\n",
       "mean        60.348651\n",
       "std         35.654083\n",
       "min         12.000000\n",
       "25%         40.000000\n",
       "50%         52.000000\n",
       "75%         69.900000\n",
       "max        900.000000\n",
       "Name: total_area, dtype: float64"
      ]
     },
     "metadata": {},
     "output_type": "display_data"
    },
    {
     "data": {
      "text/plain": [
       "count                   23699\n",
       "unique                   1491\n",
       "top       2018-02-01T00:00:00\n",
       "freq                      368\n",
       "Name: first_day_exposition, dtype: object"
      ]
     },
     "metadata": {},
     "output_type": "display_data"
    },
    {
     "data": {
      "text/plain": [
       "count    23699.000000\n",
       "mean         2.070636\n",
       "std          1.078405\n",
       "min          0.000000\n",
       "25%          1.000000\n",
       "50%          2.000000\n",
       "75%          3.000000\n",
       "max         19.000000\n",
       "Name: rooms, dtype: float64"
      ]
     },
     "metadata": {},
     "output_type": "display_data"
    },
    {
     "data": {
      "text/plain": [
       "count    14504.000000\n",
       "mean         2.771499\n",
       "std          1.261056\n",
       "min          1.000000\n",
       "25%          2.520000\n",
       "50%          2.650000\n",
       "75%          2.800000\n",
       "max        100.000000\n",
       "Name: ceiling_height, dtype: float64"
      ]
     },
     "metadata": {},
     "output_type": "display_data"
    },
    {
     "data": {
      "text/plain": [
       "count    23613.000000\n",
       "mean        10.673824\n",
       "std          6.597173\n",
       "min          1.000000\n",
       "25%          5.000000\n",
       "50%          9.000000\n",
       "75%         16.000000\n",
       "max         60.000000\n",
       "Name: floors_total, dtype: float64"
      ]
     },
     "metadata": {},
     "output_type": "display_data"
    },
    {
     "data": {
      "text/plain": [
       "count    21796.000000\n",
       "mean        34.457852\n",
       "std         22.030445\n",
       "min          2.000000\n",
       "25%         18.600000\n",
       "50%         30.000000\n",
       "75%         42.300000\n",
       "max        409.700000\n",
       "Name: living_area, dtype: float64"
      ]
     },
     "metadata": {},
     "output_type": "display_data"
    },
    {
     "data": {
      "text/plain": [
       "count    23699.000000\n",
       "mean         5.892358\n",
       "std          4.885249\n",
       "min          1.000000\n",
       "25%          2.000000\n",
       "50%          4.000000\n",
       "75%          8.000000\n",
       "max         33.000000\n",
       "Name: floor, dtype: float64"
      ]
     },
     "metadata": {},
     "output_type": "display_data"
    },
    {
     "data": {
      "text/plain": [
       "count      2775\n",
       "unique        2\n",
       "top       False\n",
       "freq       2725\n",
       "Name: is_apartment, dtype: object"
      ]
     },
     "metadata": {},
     "output_type": "display_data"
    },
    {
     "data": {
      "text/plain": [
       "count     23699\n",
       "unique        2\n",
       "top       False\n",
       "freq      23550\n",
       "Name: studio, dtype: object"
      ]
     },
     "metadata": {},
     "output_type": "display_data"
    },
    {
     "data": {
      "text/plain": [
       "count     23699\n",
       "unique        2\n",
       "top       False\n",
       "freq      23632\n",
       "Name: open_plan, dtype: object"
      ]
     },
     "metadata": {},
     "output_type": "display_data"
    },
    {
     "data": {
      "text/plain": [
       "count    21421.000000\n",
       "mean        10.569807\n",
       "std          5.905438\n",
       "min          1.300000\n",
       "25%          7.000000\n",
       "50%          9.100000\n",
       "75%         12.000000\n",
       "max        112.000000\n",
       "Name: kitchen_area, dtype: float64"
      ]
     },
     "metadata": {},
     "output_type": "display_data"
    },
    {
     "data": {
      "text/plain": [
       "count    12180.000000\n",
       "mean         1.150082\n",
       "std          1.071300\n",
       "min          0.000000\n",
       "25%          0.000000\n",
       "50%          1.000000\n",
       "75%          2.000000\n",
       "max          5.000000\n",
       "Name: balcony, dtype: float64"
      ]
     },
     "metadata": {},
     "output_type": "display_data"
    },
    {
     "data": {
      "text/plain": [
       "count               23650\n",
       "unique                364\n",
       "top       Санкт-Петербург\n",
       "freq                15721\n",
       "Name: locality_name, dtype: object"
      ]
     },
     "metadata": {},
     "output_type": "display_data"
    },
    {
     "data": {
      "text/plain": [
       "count    18157.000000\n",
       "mean     28793.672193\n",
       "std      12630.880622\n",
       "min          0.000000\n",
       "25%      18585.000000\n",
       "50%      26726.000000\n",
       "75%      37273.000000\n",
       "max      84869.000000\n",
       "Name: airports_nearest, dtype: float64"
      ]
     },
     "metadata": {},
     "output_type": "display_data"
    },
    {
     "data": {
      "text/plain": [
       "count    18180.000000\n",
       "mean     14191.277833\n",
       "std       8608.386210\n",
       "min        181.000000\n",
       "25%       9238.000000\n",
       "50%      13098.500000\n",
       "75%      16293.000000\n",
       "max      65968.000000\n",
       "Name: cityCenters_nearest, dtype: float64"
      ]
     },
     "metadata": {},
     "output_type": "display_data"
    },
    {
     "data": {
      "text/plain": [
       "count    18181.000000\n",
       "mean         0.611408\n",
       "std          0.802074\n",
       "min          0.000000\n",
       "25%          0.000000\n",
       "50%          0.000000\n",
       "75%          1.000000\n",
       "max          3.000000\n",
       "Name: parks_around3000, dtype: float64"
      ]
     },
     "metadata": {},
     "output_type": "display_data"
    },
    {
     "data": {
      "text/plain": [
       "count    8079.000000\n",
       "mean      490.804555\n",
       "std       342.317995\n",
       "min         1.000000\n",
       "25%       288.000000\n",
       "50%       455.000000\n",
       "75%       612.000000\n",
       "max      3190.000000\n",
       "Name: parks_nearest, dtype: float64"
      ]
     },
     "metadata": {},
     "output_type": "display_data"
    },
    {
     "data": {
      "text/plain": [
       "count    18181.000000\n",
       "mean         0.770255\n",
       "std          0.938346\n",
       "min          0.000000\n",
       "25%          0.000000\n",
       "50%          1.000000\n",
       "75%          1.000000\n",
       "max          3.000000\n",
       "Name: ponds_around3000, dtype: float64"
      ]
     },
     "metadata": {},
     "output_type": "display_data"
    },
    {
     "data": {
      "text/plain": [
       "count    9110.000000\n",
       "mean      517.980900\n",
       "std       277.720643\n",
       "min        13.000000\n",
       "25%       294.000000\n",
       "50%       502.000000\n",
       "75%       729.000000\n",
       "max      1344.000000\n",
       "Name: ponds_nearest, dtype: float64"
      ]
     },
     "metadata": {},
     "output_type": "display_data"
    },
    {
     "data": {
      "text/plain": [
       "count    20518.000000\n",
       "mean       180.888634\n",
       "std        219.727988\n",
       "min          1.000000\n",
       "25%         45.000000\n",
       "50%         95.000000\n",
       "75%        232.000000\n",
       "max       1580.000000\n",
       "Name: days_exposition, dtype: float64"
      ]
     },
     "metadata": {},
     "output_type": "display_data"
    }
   ],
   "source": [
    "# основная информация о датафрейме\n",
    "df.info() \n",
    "# первые 10 строк\n",
    "display(df.head(10))\n",
    "# последние 10 строк\n",
    "display(df.tail(10))\n",
    "\n",
    "# количество уникальных значений каждого столбца\n",
    "for col in df.columns:\n",
    "    display(df[col].value_counts())\n",
    "    \n",
    "# список характерных значений каждого столбца\n",
    "for col in df.columns:\n",
    "    display(df[col].describe()) "
   ]
  },
  {
   "cell_type": "markdown",
   "metadata": {},
   "source": [
    "### Построим общую гистограмму для всех числовых столбцов таблицы."
   ]
  },
  {
   "cell_type": "code",
   "execution_count": 3,
   "metadata": {},
   "outputs": [
    {
     "data": {
      "text/plain": [
       "array([[<AxesSubplot:title={'center':'total_images'}>,\n",
       "        <AxesSubplot:title={'center':'last_price'}>,\n",
       "        <AxesSubplot:title={'center':'total_area'}>,\n",
       "        <AxesSubplot:title={'center':'rooms'}>],\n",
       "       [<AxesSubplot:title={'center':'ceiling_height'}>,\n",
       "        <AxesSubplot:title={'center':'floors_total'}>,\n",
       "        <AxesSubplot:title={'center':'living_area'}>,\n",
       "        <AxesSubplot:title={'center':'floor'}>],\n",
       "       [<AxesSubplot:title={'center':'kitchen_area'}>,\n",
       "        <AxesSubplot:title={'center':'balcony'}>,\n",
       "        <AxesSubplot:title={'center':'airports_nearest'}>,\n",
       "        <AxesSubplot:title={'center':'cityCenters_nearest'}>],\n",
       "       [<AxesSubplot:title={'center':'parks_around3000'}>,\n",
       "        <AxesSubplot:title={'center':'parks_nearest'}>,\n",
       "        <AxesSubplot:title={'center':'ponds_around3000'}>,\n",
       "        <AxesSubplot:title={'center':'ponds_nearest'}>],\n",
       "       [<AxesSubplot:title={'center':'days_exposition'}>, <AxesSubplot:>,\n",
       "        <AxesSubplot:>, <AxesSubplot:>]], dtype=object)"
      ]
     },
     "execution_count": 3,
     "metadata": {},
     "output_type": "execute_result"
    },
    {
     "data": {
      "image/png": "[encoded data removed]",
      "text/plain": [
       "<Figure size 1080x1440 with 20 Axes>"
      ]
     },
     "metadata": {
      "needs_background": "light"
     },
     "output_type": "display_data"
    }
   ],
   "source": [
    "df.hist(figsize=(15, 20))"
   ]
  },
  {
   "cell_type": "markdown",
   "metadata": {},
   "source": [
    "В некоторых столбцах количество ненулевых значений не совпадает с общим количеством строк. Значит в тех столбцах есть пропуски в данных. \n",
    "В столбце 'first_day_exposition' нужно сменить тип с object на datetime.\n",
    "Также для визуального кофморта можно сменить тип данных на int в столбцах: last_price, floors_total, balcony, days_exposition.\n",
    "Также выделяется максимальная высота потолков в 100м и неявные дубликаты в названиях населенных пунктов."
   ]
  },
  {
   "cell_type": "markdown",
   "metadata": {},
   "source": [
    "## Предобработка данных"
   ]
  },
  {
   "cell_type": "markdown",
   "metadata": {},
   "source": [
    "### Поиск пропущенных значений"
   ]
  },
  {
   "cell_type": "code",
   "execution_count": 4,
   "metadata": {},
   "outputs": [
    {
     "data": {
      "text/plain": [
       "total_images                0\n",
       "last_price                  0\n",
       "total_area                  0\n",
       "first_day_exposition        0\n",
       "rooms                       0\n",
       "ceiling_height           9195\n",
       "floors_total               86\n",
       "living_area              1903\n",
       "floor                       0\n",
       "is_apartment            20924\n",
       "studio                      0\n",
       "open_plan                   0\n",
       "kitchen_area             2278\n",
       "balcony                 11519\n",
       "locality_name              49\n",
       "airports_nearest         5542\n",
       "cityCenters_nearest      5519\n",
       "parks_around3000         5518\n",
       "parks_nearest           15620\n",
       "ponds_around3000         5518\n",
       "ponds_nearest           14589\n",
       "days_exposition          3181\n",
       "dtype: int64"
      ]
     },
     "execution_count": 4,
     "metadata": {},
     "output_type": "execute_result"
    }
   ],
   "source": [
    "# количество пропущеннных значений для каждого столбца\n",
    "df.isna().sum() "
   ]
  },
  {
   "cell_type": "markdown",
   "metadata": {},
   "source": [
    "Пропусков в данных достаточно много. Большинство, вероятно, связано с тем что выложить обьявление можно заполнив не все данные о квартире. Также когда объявления выкладывают частные лица они не придают значение всем параметрам. \n",
    "\n",
    "* cityCenters_nearest      5519, parks_nearest           15620, ponds_nearest           14589 - Пропуски в картографических данных в таком количестве могут говорить о технической ошибке (если, конечно, известно местоположение квартиры). Возможно есть необходимость уточнить у заказчика. \n",
    "* balcony                 11519 - Вероятно наличие пропуска = отсутствие балкона. Так и заполним.\n",
    "* is_apartment            20924 - Возможно пользователи не имеют представление что такое апартаменты и поэтому пропуски. с другой стороны данных очень мало чтобы делать какие-то выводы. Заполним отсутвующие значения False. Для красоты.\n",
    "* days_exposition          3181, ceiling_height           9195, ponds_around3000         5518, parks_around3000         5518, locality_name              49, kitchen_area             2278, living_area              1903, floors_total               86 - Пропущенные значения которые нельзя восстановить не исказив данные - заполним заранее принятым значением -1(чтобы в исследовании не включать пропущенные значения) или unknown. "
   ]
  },
  {
   "cell_type": "markdown",
   "metadata": {},
   "source": [
    "### Заполнение пропусков и корректировка типа данных"
   ]
  },
  {
   "cell_type": "code",
   "execution_count": 5,
   "metadata": {},
   "outputs": [],
   "source": [
    "df['first_day_exposition'] = pd.to_datetime(df['first_day_exposition'], format='%Y-%m-%dT%H:%M:%S')\n",
    "df['last_price'] = df['last_price'].astype('int')\n",
    "df['balcony'] = df['balcony'].fillna(0).astype('int')\n",
    "df['is_apartment'] = df['is_apartment'].fillna(False)\n",
    "df['floors_total'] = df['floors_total'].fillna(df['floor']).astype('int')\n",
    "df['floor'] = df['floor'].astype('int')\n",
    "\n",
    "living_area_fillna = (df['total_area'].median() / df['living_area'].median())\n",
    "df['living_area'] = df['living_area'].fillna((df['total_area'] / living_area_fillna)).astype('int')\n",
    "\n",
    "kitchen_area_fillna = (df['total_area'].median() / df['kitchen_area'].median())\n",
    "df['kitchen_area'] = df['kitchen_area'].fillna((df['total_area'] / kitchen_area_fillna)).astype('int')\n"
   ]
  },
  {
   "cell_type": "code",
   "execution_count": 6,
   "metadata": {},
   "outputs": [
    {
     "name": "stdout",
     "output_type": "stream",
     "text": [
      "<class 'pandas.core.frame.DataFrame'>\n",
      "RangeIndex: 23699 entries, 0 to 23698\n",
      "Data columns (total 22 columns):\n",
      " #   Column                Non-Null Count  Dtype         \n",
      "---  ------                --------------  -----         \n",
      " 0   total_images          23699 non-null  int64         \n",
      " 1   last_price            23699 non-null  int64         \n",
      " 2   total_area            23699 non-null  float64       \n",
      " 3   first_day_exposition  23699 non-null  datetime64[ns]\n",
      " 4   rooms                 23699 non-null  int64         \n",
      " 5   ceiling_height        14504 non-null  float64       \n",
      " 6   floors_total          23699 non-null  int64         \n",
      " 7   living_area           23699 non-null  int64         \n",
      " 8   floor                 23699 non-null  int64         \n",
      " 9   is_apartment          23699 non-null  bool          \n",
      " 10  studio                23699 non-null  bool          \n",
      " 11  open_plan             23699 non-null  bool          \n",
      " 12  kitchen_area          23699 non-null  int64         \n",
      " 13  balcony               23699 non-null  int64         \n",
      " 14  locality_name         23650 non-null  object        \n",
      " 15  airports_nearest      18157 non-null  float64       \n",
      " 16  cityCenters_nearest   18180 non-null  float64       \n",
      " 17  parks_around3000      18181 non-null  float64       \n",
      " 18  parks_nearest         8079 non-null   float64       \n",
      " 19  ponds_around3000      18181 non-null  float64       \n",
      " 20  ponds_nearest         9110 non-null   float64       \n",
      " 21  days_exposition       20518 non-null  float64       \n",
      "dtypes: bool(3), datetime64[ns](1), float64(9), int64(8), object(1)\n",
      "memory usage: 3.5+ MB\n"
     ]
    }
   ],
   "source": [
    "df.info()"
   ]
  },
  {
   "cell_type": "code",
   "execution_count": 7,
   "metadata": {},
   "outputs": [
    {
     "data": {
      "text/plain": [
       "total_images                0\n",
       "last_price                  0\n",
       "total_area                  0\n",
       "first_day_exposition        0\n",
       "rooms                       0\n",
       "ceiling_height           9195\n",
       "floors_total                0\n",
       "living_area                 0\n",
       "floor                       0\n",
       "is_apartment                0\n",
       "studio                      0\n",
       "open_plan                   0\n",
       "kitchen_area                0\n",
       "balcony                     0\n",
       "locality_name              49\n",
       "airports_nearest         5542\n",
       "cityCenters_nearest      5519\n",
       "parks_around3000         5518\n",
       "parks_nearest           15620\n",
       "ponds_around3000         5518\n",
       "ponds_nearest           14589\n",
       "days_exposition          3181\n",
       "dtype: int64"
      ]
     },
     "execution_count": 7,
     "metadata": {},
     "output_type": "execute_result"
    }
   ],
   "source": [
    "# проверим наличие пропусков\n",
    "df.isna().sum()"
   ]
  },
  {
   "cell_type": "markdown",
   "metadata": {},
   "source": [
    "### Поиск и устранение неявных дубликатов"
   ]
  },
  {
   "cell_type": "code",
   "execution_count": 8,
   "metadata": {},
   "outputs": [
    {
     "data": {
      "text/plain": [
       "365"
      ]
     },
     "metadata": {},
     "output_type": "display_data"
    },
    {
     "data": {
      "text/plain": [
       "321"
      ]
     },
     "metadata": {},
     "output_type": "display_data"
    }
   ],
   "source": [
    "# проверяем количество уникальных знаений в столбце 'locality_name'\n",
    "display(len(df['locality_name'].unique()))\n",
    "# устраняем неявные дубликаты\n",
    "df['locality_name'] = df['locality_name'].str.replace('поселок','посёлок')\n",
    "df['locality_name'] = df['locality_name'].str.replace('посёлок городского типа','посёлок')\n",
    "df['locality_name'] = df['locality_name'].str.replace('городской посёлок','посёлок')\n",
    "df['locality_name'] = df['locality_name'].str.replace('коттеджный посёлок','посёлок')\n",
    "df['locality_name'] = df['locality_name'].str.replace('садовое товарищество Приладожский','посёлок Приладожский')\n",
    "# проверяем количество уникальных значений после удаления неявных дубликатов\n",
    "display(len(df['locality_name'].unique()))"
   ]
  },
  {
   "cell_type": "markdown",
   "metadata": {},
   "source": [
    "Количество неявных дубликатов уменьшилось"
   ]
  },
  {
   "cell_type": "markdown",
   "metadata": {},
   "source": [
    "### Поиск и устранение аномалий"
   ]
  },
  {
   "cell_type": "markdown",
   "metadata": {},
   "source": [
    "Вероятно в некоторых случаях при указании высоты потолков пропустили точку между цифрами и получилось аномальное значение. Сделаем так чтобы все значения выше 14(Может быть там большой спортзал) были разделены на 10 и проверим результат."
   ]
  },
  {
   "cell_type": "code",
   "execution_count": 9,
   "metadata": {},
   "outputs": [],
   "source": [
    "# задаем максимальное знаяение\n",
    "max_ceiling_height = 14\n",
    "# задаем условие\n",
    "ceiling_high = df.ceiling_height > max_ceiling_height\n",
    "# корректировка значений\n",
    "df.loc[ceiling_high, 'ceiling_height'] = df.loc[ceiling_high, 'ceiling_height'] / 10 "
   ]
  },
  {
   "cell_type": "markdown",
   "metadata": {},
   "source": [
    "## Посчитаем и добавим в таблицу новые столбцы"
   ]
  },
  {
   "cell_type": "markdown",
   "metadata": {},
   "source": [
    "Столбцы для добавления:\n",
    "* price_m2 — цена одного квадратного метра;\n",
    "* weekday_exposition — день недели публикации объявления (0 — понедельник, 1 — вторник и так далее);\n",
    "* month_exposition — месяц публикации объявления;\n",
    "* year_exposition — год публикации объявления;\n",
    "* floor_type — тип этажа квартиры (значения — «‎первый», «последний», «другой»);\n",
    "* cityCenters_nearest_km — расстояние до центра города в километрах (переведите из м в км и округлите до целых значений)"
   ]
  },
  {
   "cell_type": "code",
   "execution_count": 10,
   "metadata": {
    "scrolled": true
   },
   "outputs": [],
   "source": [
    "# цена одного квадратного метра\n",
    "df['price_m2'] = df['last_price'] / df['total_area']\n",
    "\n",
    "# день недели публикации объявления (0 — понедельник, 1 — вторник и так далее)\n",
    "df['weekday_exposition'] = df['first_day_exposition'].dt.weekday\n",
    "\n",
    "# месяц публикации объявления\n",
    "df['month_exposition'] = df['first_day_exposition'].dt.month\n",
    "\n",
    "# год публикации объявления\n",
    "df['year_exposition'] = df['first_day_exposition'].dt.year\n",
    "\n",
    "# функция для определения типа этажа квартиры (значения — «первый», «последний», «другой»)\n",
    "\n",
    "def floor_type(flo):\n",
    "    try:\n",
    "        if flo['floor'] == flo['floors_total']:\n",
    "            return 'последний'\n",
    "        elif flo['floor'] == 1:\n",
    "            return 'первый'\n",
    "        else: \n",
    "            return 'другой'\n",
    "    except:\n",
    "        pass    \n",
    "# применение функции\n",
    "df['floor_type'] = df.apply(floor_type, axis=1)\n",
    "\n",
    "# расстояние до центра города в целых километрах\n",
    "df['cityCenters_nearest_km'] = (df['cityCenters_nearest'] * 0.001)\n",
    "\n",
    "df['last_price_mil'] = df['last_price'] / 1000000 # для удобного отображения цены в млн"
   ]
  },
  {
   "cell_type": "code",
   "execution_count": 11,
   "metadata": {},
   "outputs": [],
   "source": [
    "# посмотреть таблицу с фильтром\n",
    "df.query('last_price_mil < 20 and 2.2 < ceiling_height < 4 and total_area < 200')\n",
    "# применить фильтр к дальнейшим действиям\n",
    "df = df.query('last_price_mil < 20 and 2.2 < ceiling_height < 4 and total_area < 200')"
   ]
  },
  {
   "cell_type": "markdown",
   "metadata": {},
   "source": [
    "## Исследовательский анализ данных"
   ]
  },
  {
   "cell_type": "markdown",
   "metadata": {},
   "source": [
    "### Изучение параметров объектов"
   ]
  },
  {
   "cell_type": "code",
   "execution_count": 12,
   "metadata": {},
   "outputs": [
    {
     "data": {
      "text/plain": [
       "count    13901.000000\n",
       "mean        57.425950\n",
       "std         23.885285\n",
       "min         12.000000\n",
       "25%         40.500000\n",
       "50%         52.000000\n",
       "75%         68.400000\n",
       "max        197.200000\n",
       "Name: total_area, dtype: float64"
      ]
     },
     "execution_count": 12,
     "metadata": {},
     "output_type": "execute_result"
    },
    {
     "data": {
      "image/png": "[encoded data removed]",
      "text/plain": [
       "<Figure size 720x360 with 1 Axes>"
      ]
     },
     "metadata": {
      "needs_background": "light"
     },
     "output_type": "display_data"
    }
   ],
   "source": [
    "# total_area\n",
    "df['total_area'].hist(bins=100, grid=True, figsize=(10,5), range=(12,900))\n",
    "df['total_area'].describe()"
   ]
  },
  {
   "cell_type": "markdown",
   "metadata": {},
   "source": [
    "Средняя площадь квартир составляет 57м², медиана 52м², минимальная площадь квартиры 12м² и максимальная 197."
   ]
  },
  {
   "cell_type": "code",
   "execution_count": 13,
   "metadata": {},
   "outputs": [
    {
     "data": {
      "text/plain": [
       "count    13901.000000\n",
       "mean        32.974390\n",
       "std         16.204322\n",
       "min          2.000000\n",
       "25%         19.000000\n",
       "50%         30.000000\n",
       "75%         42.000000\n",
       "max        150.000000\n",
       "Name: living_area, dtype: float64"
      ]
     },
     "execution_count": 13,
     "metadata": {},
     "output_type": "execute_result"
    },
    {
     "data": {
      "image/png": "[encoded data removed]",
      "text/plain": [
       "<Figure size 720x360 with 1 Axes>"
      ]
     },
     "metadata": {
      "needs_background": "light"
     },
     "output_type": "display_data"
    }
   ],
   "source": [
    "# living_area\n",
    "df['living_area'].hist(bins=100, grid=True, figsize=(10,5), range=(0,410))\n",
    "df['living_area'].describe()"
   ]
  },
  {
   "cell_type": "markdown",
   "metadata": {},
   "source": [
    "Гистограмма жилой площади похожа на гистограмму общей площади. Вероятно есть зависимость между этими параметрами."
   ]
  },
  {
   "cell_type": "code",
   "execution_count": 14,
   "metadata": {},
   "outputs": [
    {
     "data": {
      "text/plain": [
       "count    13901.000000\n",
       "mean         9.721747\n",
       "std          4.803399\n",
       "min          1.000000\n",
       "25%          7.000000\n",
       "50%          9.000000\n",
       "75%         11.000000\n",
       "max         64.000000\n",
       "Name: kitchen_area, dtype: float64"
      ]
     },
     "execution_count": 14,
     "metadata": {},
     "output_type": "execute_result"
    },
    {
     "data": {
      "image/png": "[encoded data removed]",
      "text/plain": [
       "<Figure size 720x360 with 1 Axes>"
      ]
     },
     "metadata": {
      "needs_background": "light"
     },
     "output_type": "display_data"
    }
   ],
   "source": [
    "# kitchen_area\n",
    "df['kitchen_area'].hist(bins=100, grid=True, figsize=(10,5), range=(0,112))\n",
    "df['kitchen_area'].describe()"
   ]
  },
  {
   "cell_type": "markdown",
   "metadata": {},
   "source": [
    "Гистограмма площади кухни на гистограмму жилой и общей площади. Вероятно есть зависимость между этими параметрами."
   ]
  },
  {
   "cell_type": "code",
   "execution_count": 15,
   "metadata": {},
   "outputs": [
    {
     "data": {
      "text/plain": [
       "count    13901.000000\n",
       "mean         5.592140\n",
       "std          3.215514\n",
       "min          0.012190\n",
       "25%          3.500000\n",
       "50%          4.750000\n",
       "75%          6.700000\n",
       "max         19.999000\n",
       "Name: last_price_mil, dtype: float64"
      ]
     },
     "execution_count": 15,
     "metadata": {},
     "output_type": "execute_result"
    },
    {
     "data": {
      "image/png": "[encoded data removed]",
      "text/plain": [
       "<Figure size 720x360 with 1 Axes>"
      ]
     },
     "metadata": {
      "needs_background": "light"
     },
     "output_type": "display_data"
    }
   ],
   "source": [
    "# last_price\n",
    "df['last_price_mil'].hist(bins=100, grid=True, figsize=(10,5), range=(0,763))\n",
    "df['last_price_mil'].describe()"
   ]
  },
  {
   "cell_type": "markdown",
   "metadata": {},
   "source": [
    "Средняя цена квартиры 5.6млн, медиана 4.75млн."
   ]
  },
  {
   "cell_type": "code",
   "execution_count": 16,
   "metadata": {},
   "outputs": [
    {
     "data": {
      "text/plain": [
       "count    13901.000000\n",
       "mean         2.059564\n",
       "std          0.978351\n",
       "min          0.000000\n",
       "25%          1.000000\n",
       "50%          2.000000\n",
       "75%          3.000000\n",
       "max         11.000000\n",
       "Name: rooms, dtype: float64"
      ]
     },
     "execution_count": 16,
     "metadata": {},
     "output_type": "execute_result"
    },
    {
     "data": {
      "image/png": "[encoded data removed]",
      "text/plain": [
       "<Figure size 720x360 with 1 Axes>"
      ]
     },
     "metadata": {
      "needs_background": "light"
     },
     "output_type": "display_data"
    }
   ],
   "source": [
    "# rooms\n",
    "df['rooms'].hist(bins=20, grid=True, figsize=(10,5))\n",
    "df['rooms'].describe()"
   ]
  },
  {
   "cell_type": "markdown",
   "metadata": {},
   "source": [
    "Наиболее часто квартиры с одной, двумя и тремя комнатами."
   ]
  },
  {
   "cell_type": "code",
   "execution_count": 17,
   "metadata": {},
   "outputs": [
    {
     "data": {
      "text/plain": [
       "count    13901.000000\n",
       "mean         2.703230\n",
       "std          0.234303\n",
       "min          2.250000\n",
       "25%          2.500000\n",
       "50%          2.650000\n",
       "75%          2.800000\n",
       "max          3.980000\n",
       "Name: ceiling_height, dtype: float64"
      ]
     },
     "execution_count": 17,
     "metadata": {},
     "output_type": "execute_result"
    },
    {
     "data": {
      "image/png": "[encoded data removed]",
      "text/plain": [
       "<Figure size 720x360 with 1 Axes>"
      ]
     },
     "metadata": {
      "needs_background": "light"
     },
     "output_type": "display_data"
    }
   ],
   "source": [
    "# ceiling_height\n",
    "df['ceiling_height'].hist(bins=56, grid=True, figsize=(10,5), range=(0,14))\n",
    "df['ceiling_height'].describe()"
   ]
  },
  {
   "cell_type": "markdown",
   "metadata": {},
   "source": [
    "Средняя высота потолка 2.7м."
   ]
  },
  {
   "cell_type": "code",
   "execution_count": 18,
   "metadata": {},
   "outputs": [
    {
     "data": {
      "text/plain": [
       "count    13901.000000\n",
       "mean         5.628156\n",
       "std          4.627576\n",
       "min          1.000000\n",
       "25%          2.000000\n",
       "50%          4.000000\n",
       "75%          8.000000\n",
       "max         30.000000\n",
       "Name: floor, dtype: float64"
      ]
     },
     "execution_count": 18,
     "metadata": {},
     "output_type": "execute_result"
    },
    {
     "data": {
      "image/png": "[encoded data removed]",
      "text/plain": [
       "<Figure size 720x360 with 1 Axes>"
      ]
     },
     "metadata": {
      "needs_background": "light"
     },
     "output_type": "display_data"
    }
   ],
   "source": [
    "# floor\n",
    "df['floor'].hist(bins=33, grid=True, figsize=(10,5), range=(0,33))\n",
    "df['floor'].describe()"
   ]
  },
  {
   "cell_type": "code",
   "execution_count": 19,
   "metadata": {},
   "outputs": [
    {
     "data": {
      "text/plain": [
       "count      13901\n",
       "unique         3\n",
       "top       другой\n",
       "freq       10152\n",
       "Name: floor_type, dtype: object"
      ]
     },
     "execution_count": 19,
     "metadata": {},
     "output_type": "execute_result"
    },
    {
     "data": {
      "image/png": "[encoded data removed]",
      "text/plain": [
       "<Figure size 720x360 with 1 Axes>"
      ]
     },
     "metadata": {
      "needs_background": "light"
     },
     "output_type": "display_data"
    }
   ],
   "source": [
    "# floor_type\n",
    "df['floor_type'].hist(bins=10, grid=True, figsize=(10,5))\n",
    "df['floor_type'].describe()"
   ]
  },
  {
   "cell_type": "markdown",
   "metadata": {},
   "source": [
    "Общее количество квартир на первом и последнем этажах не превышает количество квартир на других этажах. Что логично."
   ]
  },
  {
   "cell_type": "code",
   "execution_count": 20,
   "metadata": {},
   "outputs": [
    {
     "data": {
      "text/plain": [
       "count    13901.000000\n",
       "mean        10.255090\n",
       "std          6.230497\n",
       "min          1.000000\n",
       "25%          5.000000\n",
       "50%          9.000000\n",
       "75%         14.000000\n",
       "max         60.000000\n",
       "Name: floors_total, dtype: float64"
      ]
     },
     "execution_count": 20,
     "metadata": {},
     "output_type": "execute_result"
    },
    {
     "data": {
      "image/png": "[encoded data removed]",
      "text/plain": [
       "<Figure size 720x360 with 1 Axes>"
      ]
     },
     "metadata": {
      "needs_background": "light"
     },
     "output_type": "display_data"
    }
   ],
   "source": [
    "# floors_total\n",
    "df['floors_total'].hist(bins=100, grid=True, figsize=(10,5), range=(0,60))\n",
    "df['floors_total'].describe()"
   ]
  },
  {
   "cell_type": "markdown",
   "metadata": {},
   "source": [
    "Можно отследить по гистограмме этажность жилого фонда: 5 и 9 этажных домов достаточно много."
   ]
  },
  {
   "cell_type": "code",
   "execution_count": 21,
   "metadata": {},
   "outputs": [
    {
     "data": {
      "text/plain": [
       "count    10986.000000\n",
       "mean     14446.661660\n",
       "std       8715.230037\n",
       "min        208.000000\n",
       "25%       9784.750000\n",
       "50%      13212.500000\n",
       "75%      16174.000000\n",
       "max      65968.000000\n",
       "Name: cityCenters_nearest, dtype: float64"
      ]
     },
     "execution_count": 21,
     "metadata": {},
     "output_type": "execute_result"
    },
    {
     "data": {
      "image/png": "[encoded data removed]",
      "text/plain": [
       "<Figure size 720x360 with 1 Axes>"
      ]
     },
     "metadata": {
      "needs_background": "light"
     },
     "output_type": "display_data"
    }
   ],
   "source": [
    "# cityCenters_nearest\n",
    "df['cityCenters_nearest'].hist(bins=100, grid=True, figsize=(10,5), range=(0,66000))\n",
    "df['cityCenters_nearest'].describe()"
   ]
  },
  {
   "cell_type": "markdown",
   "metadata": {},
   "source": [
    "Основная масса квартир находится примерно в 11-17км от центра города."
   ]
  },
  {
   "cell_type": "code",
   "execution_count": 22,
   "metadata": {},
   "outputs": [
    {
     "data": {
      "text/plain": [
       "count    10972.000000\n",
       "mean     28899.480405\n",
       "std      12815.625325\n",
       "min          0.000000\n",
       "25%      18318.500000\n",
       "50%      26908.500000\n",
       "75%      37407.000000\n",
       "max      84869.000000\n",
       "Name: airports_nearest, dtype: float64"
      ]
     },
     "execution_count": 22,
     "metadata": {},
     "output_type": "execute_result"
    },
    {
     "data": {
      "image/png": "[encoded data removed]",
      "text/plain": [
       "<Figure size 720x360 with 1 Axes>"
      ]
     },
     "metadata": {
      "needs_background": "light"
     },
     "output_type": "display_data"
    }
   ],
   "source": [
    "# airports_nearest\n",
    "df['airports_nearest'].hist(bins=100, grid=True, figsize=(10,5), range=(0,85000))\n",
    "df['airports_nearest'].describe()"
   ]
  },
  {
   "cell_type": "markdown",
   "metadata": {},
   "source": [
    "Ближе 5км к аэропорту квартир мало. большое количество на расстоянии от 5 до 40км."
   ]
  },
  {
   "cell_type": "code",
   "execution_count": 23,
   "metadata": {},
   "outputs": [
    {
     "data": {
      "text/plain": [
       "count    4878.000000\n",
       "mean      479.083846\n",
       "std       317.834080\n",
       "min         3.000000\n",
       "25%       288.000000\n",
       "50%       455.000000\n",
       "75%       604.000000\n",
       "max      3190.000000\n",
       "Name: parks_nearest, dtype: float64"
      ]
     },
     "execution_count": 23,
     "metadata": {},
     "output_type": "execute_result"
    },
    {
     "data": {
      "image/png": "[encoded data removed]",
      "text/plain": [
       "<Figure size 720x360 with 1 Axes>"
      ]
     },
     "metadata": {
      "needs_background": "light"
     },
     "output_type": "display_data"
    }
   ],
   "source": [
    "# parks_nearest\n",
    "df['parks_nearest'].hist(bins=100, grid=True, figsize=(10,5), range=(0,3200))\n",
    "df['parks_nearest'].describe()"
   ]
  },
  {
   "cell_type": "markdown",
   "metadata": {},
   "source": [
    "Парки в пешей доступности до 800м что удобно."
   ]
  },
  {
   "cell_type": "code",
   "execution_count": 24,
   "metadata": {},
   "outputs": [
    {
     "data": {
      "text/plain": [
       "count    13901.000000\n",
       "mean         2.505144\n",
       "std          1.792568\n",
       "min          0.000000\n",
       "25%          1.000000\n",
       "50%          2.000000\n",
       "75%          4.000000\n",
       "max          6.000000\n",
       "Name: weekday_exposition, dtype: float64"
      ]
     },
     "execution_count": 24,
     "metadata": {},
     "output_type": "execute_result"
    },
    {
     "data": {
      "image/png": "[encoded data removed]",
      "text/plain": [
       "<Figure size 720x360 with 1 Axes>"
      ]
     },
     "metadata": {
      "needs_background": "light"
     },
     "output_type": "display_data"
    }
   ],
   "source": [
    "# weekday_exposition\n",
    "df['weekday_exposition'].hist(bins=50, grid=True, figsize=(10,5))\n",
    "df['weekday_exposition'].describe()"
   ]
  },
  {
   "cell_type": "markdown",
   "metadata": {},
   "source": [
    "В выходные меньше всего публикаций объявлений."
   ]
  },
  {
   "cell_type": "code",
   "execution_count": 25,
   "metadata": {},
   "outputs": [
    {
     "data": {
      "text/plain": [
       "count    13901.000000\n",
       "mean         6.319905\n",
       "std          3.498102\n",
       "min          1.000000\n",
       "25%          3.000000\n",
       "50%          6.000000\n",
       "75%         10.000000\n",
       "max         12.000000\n",
       "Name: month_exposition, dtype: float64"
      ]
     },
     "execution_count": 25,
     "metadata": {},
     "output_type": "execute_result"
    },
    {
     "data": {
      "image/png": "[encoded data removed]",
      "text/plain": [
       "<Figure size 720x360 with 1 Axes>"
      ]
     },
     "metadata": {
      "needs_background": "light"
     },
     "output_type": "display_data"
    }
   ],
   "source": [
    "# month_exposition\n",
    "df['month_exposition'].hist(bins=50, grid=True, figsize=(10,5))\n",
    "df['month_exposition'].describe()"
   ]
  },
  {
   "cell_type": "markdown",
   "metadata": {},
   "source": [
    "Январь, Май и Декабрь по публикациям сильно отстают от других месяцев. Думаю связано с количеством выходных дней."
   ]
  },
  {
   "cell_type": "markdown",
   "metadata": {},
   "source": [
    "### Как быстро продавались квартиры"
   ]
  },
  {
   "cell_type": "code",
   "execution_count": 26,
   "metadata": {},
   "outputs": [
    {
     "data": {
      "text/plain": [
       "count    11625.000000\n",
       "mean       186.561290\n",
       "std        225.214718\n",
       "min          1.000000\n",
       "25%         45.000000\n",
       "50%        101.000000\n",
       "75%        239.000000\n",
       "max       1580.000000\n",
       "Name: days_exposition, dtype: float64"
      ]
     },
     "execution_count": 26,
     "metadata": {},
     "output_type": "execute_result"
    },
    {
     "data": {
      "image/png": "[encoded data removed]",
      "text/plain": [
       "<Figure size 720x360 with 1 Axes>"
      ]
     },
     "metadata": {
      "needs_background": "light"
     },
     "output_type": "display_data"
    }
   ],
   "source": [
    "# days_exposition\n",
    "df['days_exposition'].hist(bins=50, grid=True, figsize=(10,5), range=(0,1580))\n",
    "df['days_exposition'].describe()"
   ]
  },
  {
   "cell_type": "markdown",
   "metadata": {},
   "source": [
    "Много квартир продается в первые 60 дней после публикации и чем свежее обьявление тем больше вероятность продажи. Возможно это связано с тайм-аутом размещения объявлений на сайте."
   ]
  },
  {
   "cell_type": "markdown",
   "metadata": {},
   "source": [
    "### Какие факторы больше всего влияют на стоимость объекта?"
   ]
  },
  {
   "cell_type": "code",
   "execution_count": 27,
   "metadata": {},
   "outputs": [
    {
     "data": {
      "text/plain": [
       "0.7786459910794734"
      ]
     },
     "execution_count": 27,
     "metadata": {},
     "output_type": "execute_result"
    },
    {
     "data": {
      "image/png": "[encoded data removed]",
      "text/plain": [
       "<Figure size 720x360 with 1 Axes>"
      ]
     },
     "metadata": {
      "needs_background": "light"
     },
     "output_type": "display_data"
    }
   ],
   "source": [
    "df.plot(x='total_area', y='last_price_mil', kind='scatter',figsize=(10,5), alpha=0.3, xlim=(0,900), ylim=(0,763))\n",
    "df['total_area'].corr(df['last_price_mil']) # коэффициент корреляции Пирсона"
   ]
  },
  {
   "cell_type": "markdown",
   "metadata": {},
   "source": [
    "Коэффициент корреляции Пирсона 0.65. Есть связь между общей площадью и ценой квартры."
   ]
  },
  {
   "cell_type": "code",
   "execution_count": 28,
   "metadata": {},
   "outputs": [
    {
     "data": {
      "text/plain": [
       "0.6657012614194767"
      ]
     },
     "execution_count": 28,
     "metadata": {},
     "output_type": "execute_result"
    },
    {
     "data": {
      "image/png": "[encoded data removed]",
      "text/plain": [
       "<Figure size 720x360 with 1 Axes>"
      ]
     },
     "metadata": {
      "needs_background": "light"
     },
     "output_type": "display_data"
    }
   ],
   "source": [
    "df.plot(x='living_area', y='last_price_mil', kind='scatter',figsize=(10,5), alpha=0.3, xlim=(0,410), ylim=(0,763))\n",
    "df['living_area'].corr(df['last_price_mil'])"
   ]
  },
  {
   "cell_type": "markdown",
   "metadata": {},
   "source": [
    "Коэффициент корреляции Пирсона 0.48. Зависимость цены от жилой площади еще есть но уже меньше чем на примере выше."
   ]
  },
  {
   "cell_type": "code",
   "execution_count": 29,
   "metadata": {},
   "outputs": [
    {
     "data": {
      "text/plain": [
       "0.5919305540934691"
      ]
     },
     "execution_count": 29,
     "metadata": {},
     "output_type": "execute_result"
    },
    {
     "data": {
      "image/png": "[encoded data removed]",
      "text/plain": [
       "<Figure size 720x360 with 1 Axes>"
      ]
     },
     "metadata": {
      "needs_background": "light"
     },
     "output_type": "display_data"
    }
   ],
   "source": [
    "df.plot(x='kitchen_area', y='last_price_mil', kind='scatter',figsize=(10,5), alpha=0.3,  xlim=(0,112), ylim=(0,763))\n",
    "df['kitchen_area'].corr(df['last_price_mil'])"
   ]
  },
  {
   "cell_type": "markdown",
   "metadata": {},
   "source": [
    "Коэффициент корреляции Пирсона 0.37. Часть площади квартиры уменьшается как и связь между параметрами. Вероятно больше коррелируют площадь общая, жилая и кухни между собой."
   ]
  },
  {
   "cell_type": "code",
   "execution_count": 30,
   "metadata": {},
   "outputs": [
    {
     "data": {
      "text/plain": [
       "0.5041695870828365"
      ]
     },
     "execution_count": 30,
     "metadata": {},
     "output_type": "execute_result"
    },
    {
     "data": {
      "image/png": "[encoded data removed]",
      "text/plain": [
       "<Figure size 720x360 with 1 Axes>"
      ]
     },
     "metadata": {
      "needs_background": "light"
     },
     "output_type": "display_data"
    }
   ],
   "source": [
    "df.plot(x='rooms', y='last_price_mil', kind='scatter',figsize=(10,5), alpha=0.3, xlim=(0,19), ylim=(0,763))\n",
    "df['rooms'].corr(df['last_price_mil'])"
   ]
  },
  {
   "cell_type": "markdown",
   "metadata": {},
   "source": [
    "Количество комнат влияет на стоимость при количестве до 5, дальше влияние пропадает."
   ]
  },
  {
   "cell_type": "code",
   "execution_count": 31,
   "metadata": {},
   "outputs": [
    {
     "data": {
      "text/html": [
       "<div>\n",
       "<style scoped>\n",
       "    .dataframe tbody tr th:only-of-type {\n",
       "        vertical-align: middle;\n",
       "    }\n",
       "\n",
       "    .dataframe tbody tr th {\n",
       "        vertical-align: top;\n",
       "    }\n",
       "\n",
       "    .dataframe thead th {\n",
       "        text-align: right;\n",
       "    }\n",
       "</style>\n",
       "<table border=\"1\" class=\"dataframe\">\n",
       "  <thead>\n",
       "    <tr style=\"text-align: right;\">\n",
       "      <th></th>\n",
       "      <th>count</th>\n",
       "      <th>mean</th>\n",
       "      <th>median</th>\n",
       "    </tr>\n",
       "    <tr>\n",
       "      <th>floor_type</th>\n",
       "      <th></th>\n",
       "      <th></th>\n",
       "      <th></th>\n",
       "    </tr>\n",
       "  </thead>\n",
       "  <tbody>\n",
       "    <tr>\n",
       "      <th>другой</th>\n",
       "      <td>10152</td>\n",
       "      <td>5.823697</td>\n",
       "      <td>4.9375</td>\n",
       "    </tr>\n",
       "    <tr>\n",
       "      <th>первый</th>\n",
       "      <td>1764</td>\n",
       "      <td>4.532445</td>\n",
       "      <td>4.0000</td>\n",
       "    </tr>\n",
       "    <tr>\n",
       "      <th>последний</th>\n",
       "      <td>1985</td>\n",
       "      <td>5.349594</td>\n",
       "      <td>4.4000</td>\n",
       "    </tr>\n",
       "  </tbody>\n",
       "</table>\n",
       "</div>"
      ],
      "text/plain": [
       "            count      mean  median\n",
       "floor_type                         \n",
       "другой      10152  5.823697  4.9375\n",
       "первый       1764  4.532445  4.0000\n",
       "последний    1985  5.349594  4.4000"
      ]
     },
     "metadata": {},
     "output_type": "display_data"
    },
    {
     "data": {
      "text/plain": [
       "<AxesSubplot:xlabel='floor_type'>"
      ]
     },
     "execution_count": 31,
     "metadata": {},
     "output_type": "execute_result"
    },
    {
     "data": {
      "image/png": "[encoded data removed]",
      "text/plain": [
       "<Figure size 432x288 with 1 Axes>"
      ]
     },
     "metadata": {
      "needs_background": "light"
     },
     "output_type": "display_data"
    }
   ],
   "source": [
    "display(df.groupby('floor_type')['last_price_mil'].agg(['count','mean', 'median']))\n",
    "df.groupby('floor_type')['last_price_mil'].mean().plot(x='floor_type', y='last_price_mil', kind='bar')"
   ]
  },
  {
   "cell_type": "markdown",
   "metadata": {},
   "source": [
    "Квартиры на первом этаже дешевле остальных. "
   ]
  },
  {
   "cell_type": "code",
   "execution_count": 32,
   "metadata": {},
   "outputs": [
    {
     "data": {
      "text/html": [
       "<div>\n",
       "<style scoped>\n",
       "    .dataframe tbody tr th:only-of-type {\n",
       "        vertical-align: middle;\n",
       "    }\n",
       "\n",
       "    .dataframe tbody tr th {\n",
       "        vertical-align: top;\n",
       "    }\n",
       "\n",
       "    .dataframe thead th {\n",
       "        text-align: right;\n",
       "    }\n",
       "</style>\n",
       "<table border=\"1\" class=\"dataframe\">\n",
       "  <thead>\n",
       "    <tr style=\"text-align: right;\">\n",
       "      <th></th>\n",
       "      <th>count</th>\n",
       "      <th>mean</th>\n",
       "      <th>median</th>\n",
       "    </tr>\n",
       "    <tr>\n",
       "      <th>weekday_exposition</th>\n",
       "      <th></th>\n",
       "      <th></th>\n",
       "      <th></th>\n",
       "    </tr>\n",
       "  </thead>\n",
       "  <tbody>\n",
       "    <tr>\n",
       "      <th>0</th>\n",
       "      <td>2267</td>\n",
       "      <td>5.576252</td>\n",
       "      <td>4.75</td>\n",
       "    </tr>\n",
       "    <tr>\n",
       "      <th>1</th>\n",
       "      <td>2538</td>\n",
       "      <td>5.762685</td>\n",
       "      <td>4.90</td>\n",
       "    </tr>\n",
       "    <tr>\n",
       "      <th>2</th>\n",
       "      <td>2300</td>\n",
       "      <td>5.616963</td>\n",
       "      <td>4.75</td>\n",
       "    </tr>\n",
       "    <tr>\n",
       "      <th>3</th>\n",
       "      <td>2511</td>\n",
       "      <td>5.642120</td>\n",
       "      <td>4.70</td>\n",
       "    </tr>\n",
       "    <tr>\n",
       "      <th>4</th>\n",
       "      <td>2217</td>\n",
       "      <td>5.511784</td>\n",
       "      <td>4.65</td>\n",
       "    </tr>\n",
       "    <tr>\n",
       "      <th>5</th>\n",
       "      <td>1123</td>\n",
       "      <td>5.377438</td>\n",
       "      <td>4.60</td>\n",
       "    </tr>\n",
       "    <tr>\n",
       "      <th>6</th>\n",
       "      <td>945</td>\n",
       "      <td>5.422664</td>\n",
       "      <td>4.60</td>\n",
       "    </tr>\n",
       "  </tbody>\n",
       "</table>\n",
       "</div>"
      ],
      "text/plain": [
       "                    count      mean  median\n",
       "weekday_exposition                         \n",
       "0                    2267  5.576252    4.75\n",
       "1                    2538  5.762685    4.90\n",
       "2                    2300  5.616963    4.75\n",
       "3                    2511  5.642120    4.70\n",
       "4                    2217  5.511784    4.65\n",
       "5                    1123  5.377438    4.60\n",
       "6                     945  5.422664    4.60"
      ]
     },
     "metadata": {},
     "output_type": "display_data"
    },
    {
     "data": {
      "text/plain": [
       "<AxesSubplot:xlabel='weekday_exposition'>"
      ]
     },
     "execution_count": 32,
     "metadata": {},
     "output_type": "execute_result"
    },
    {
     "data": {
      "image/png": "[encoded data removed]",
      "text/plain": [
       "<Figure size 432x288 with 1 Axes>"
      ]
     },
     "metadata": {
      "needs_background": "light"
     },
     "output_type": "display_data"
    }
   ],
   "source": [
    "display(df.groupby('weekday_exposition')['last_price_mil'].agg(['count','mean', 'median']))\n",
    "df.groupby('weekday_exposition')['last_price_mil'].agg(['count','mean', 'median']).plot(y='median', grid=True)"
   ]
  },
  {
   "cell_type": "markdown",
   "metadata": {},
   "source": [
    "В выходные цена ниже - возможно связано с малым количеством объявлений в эти дни."
   ]
  },
  {
   "cell_type": "code",
   "execution_count": 33,
   "metadata": {},
   "outputs": [
    {
     "data": {
      "text/html": [
       "<div>\n",
       "<style scoped>\n",
       "    .dataframe tbody tr th:only-of-type {\n",
       "        vertical-align: middle;\n",
       "    }\n",
       "\n",
       "    .dataframe tbody tr th {\n",
       "        vertical-align: top;\n",
       "    }\n",
       "\n",
       "    .dataframe thead th {\n",
       "        text-align: right;\n",
       "    }\n",
       "</style>\n",
       "<table border=\"1\" class=\"dataframe\">\n",
       "  <thead>\n",
       "    <tr style=\"text-align: right;\">\n",
       "      <th></th>\n",
       "      <th>count</th>\n",
       "      <th>mean</th>\n",
       "      <th>median</th>\n",
       "    </tr>\n",
       "    <tr>\n",
       "      <th>month_exposition</th>\n",
       "      <th></th>\n",
       "      <th></th>\n",
       "      <th></th>\n",
       "    </tr>\n",
       "  </thead>\n",
       "  <tbody>\n",
       "    <tr>\n",
       "      <th>1</th>\n",
       "      <td>881</td>\n",
       "      <td>5.645999</td>\n",
       "      <td>4.8000</td>\n",
       "    </tr>\n",
       "    <tr>\n",
       "      <th>2</th>\n",
       "      <td>1622</td>\n",
       "      <td>5.601204</td>\n",
       "      <td>4.8435</td>\n",
       "    </tr>\n",
       "    <tr>\n",
       "      <th>3</th>\n",
       "      <td>1664</td>\n",
       "      <td>5.409269</td>\n",
       "      <td>4.6500</td>\n",
       "    </tr>\n",
       "    <tr>\n",
       "      <th>4</th>\n",
       "      <td>1433</td>\n",
       "      <td>5.738577</td>\n",
       "      <td>4.9000</td>\n",
       "    </tr>\n",
       "    <tr>\n",
       "      <th>5</th>\n",
       "      <td>663</td>\n",
       "      <td>5.594713</td>\n",
       "      <td>4.7000</td>\n",
       "    </tr>\n",
       "    <tr>\n",
       "      <th>6</th>\n",
       "      <td>879</td>\n",
       "      <td>5.350349</td>\n",
       "      <td>4.5000</td>\n",
       "    </tr>\n",
       "    <tr>\n",
       "      <th>7</th>\n",
       "      <td>1013</td>\n",
       "      <td>5.716532</td>\n",
       "      <td>4.7750</td>\n",
       "    </tr>\n",
       "    <tr>\n",
       "      <th>8</th>\n",
       "      <td>1055</td>\n",
       "      <td>5.654767</td>\n",
       "      <td>4.7500</td>\n",
       "    </tr>\n",
       "    <tr>\n",
       "      <th>9</th>\n",
       "      <td>1165</td>\n",
       "      <td>5.693559</td>\n",
       "      <td>4.7500</td>\n",
       "    </tr>\n",
       "    <tr>\n",
       "      <th>10</th>\n",
       "      <td>1277</td>\n",
       "      <td>5.530547</td>\n",
       "      <td>4.6800</td>\n",
       "    </tr>\n",
       "    <tr>\n",
       "      <th>11</th>\n",
       "      <td>1359</td>\n",
       "      <td>5.569672</td>\n",
       "      <td>4.7000</td>\n",
       "    </tr>\n",
       "    <tr>\n",
       "      <th>12</th>\n",
       "      <td>890</td>\n",
       "      <td>5.639431</td>\n",
       "      <td>4.8000</td>\n",
       "    </tr>\n",
       "  </tbody>\n",
       "</table>\n",
       "</div>"
      ],
      "text/plain": [
       "                  count      mean  median\n",
       "month_exposition                         \n",
       "1                   881  5.645999  4.8000\n",
       "2                  1622  5.601204  4.8435\n",
       "3                  1664  5.409269  4.6500\n",
       "4                  1433  5.738577  4.9000\n",
       "5                   663  5.594713  4.7000\n",
       "6                   879  5.350349  4.5000\n",
       "7                  1013  5.716532  4.7750\n",
       "8                  1055  5.654767  4.7500\n",
       "9                  1165  5.693559  4.7500\n",
       "10                 1277  5.530547  4.6800\n",
       "11                 1359  5.569672  4.7000\n",
       "12                  890  5.639431  4.8000"
      ]
     },
     "metadata": {},
     "output_type": "display_data"
    },
    {
     "data": {
      "text/plain": [
       "<AxesSubplot:xlabel='month_exposition'>"
      ]
     },
     "execution_count": 33,
     "metadata": {},
     "output_type": "execute_result"
    },
    {
     "data": {
      "image/png": "[encoded data removed]",
      "text/plain": [
       "<Figure size 432x288 with 1 Axes>"
      ]
     },
     "metadata": {
      "needs_background": "light"
     },
     "output_type": "display_data"
    }
   ],
   "source": [
    "display(df.groupby('month_exposition')['last_price_mil'].agg(['count','mean', 'median']))\n",
    "df.groupby('month_exposition')['last_price_mil'].agg(['count','mean', 'median']).plot(y='median', grid=True)"
   ]
  },
  {
   "cell_type": "markdown",
   "metadata": {},
   "source": [
    "В месяцы с большим количеством выходных цена ниже."
   ]
  },
  {
   "cell_type": "code",
   "execution_count": 34,
   "metadata": {},
   "outputs": [
    {
     "data": {
      "text/html": [
       "<div>\n",
       "<style scoped>\n",
       "    .dataframe tbody tr th:only-of-type {\n",
       "        vertical-align: middle;\n",
       "    }\n",
       "\n",
       "    .dataframe tbody tr th {\n",
       "        vertical-align: top;\n",
       "    }\n",
       "\n",
       "    .dataframe thead th {\n",
       "        text-align: right;\n",
       "    }\n",
       "</style>\n",
       "<table border=\"1\" class=\"dataframe\">\n",
       "  <thead>\n",
       "    <tr style=\"text-align: right;\">\n",
       "      <th></th>\n",
       "      <th>count</th>\n",
       "      <th>mean</th>\n",
       "      <th>median</th>\n",
       "    </tr>\n",
       "    <tr>\n",
       "      <th>year_exposition</th>\n",
       "      <th></th>\n",
       "      <th></th>\n",
       "      <th></th>\n",
       "    </tr>\n",
       "  </thead>\n",
       "  <tbody>\n",
       "    <tr>\n",
       "      <th>2014</th>\n",
       "      <td>67</td>\n",
       "      <td>8.383559</td>\n",
       "      <td>7.47656</td>\n",
       "    </tr>\n",
       "    <tr>\n",
       "      <th>2015</th>\n",
       "      <td>550</td>\n",
       "      <td>6.232952</td>\n",
       "      <td>5.31250</td>\n",
       "    </tr>\n",
       "    <tr>\n",
       "      <th>2016</th>\n",
       "      <td>1310</td>\n",
       "      <td>5.674189</td>\n",
       "      <td>4.75000</td>\n",
       "    </tr>\n",
       "    <tr>\n",
       "      <th>2017</th>\n",
       "      <td>4239</td>\n",
       "      <td>5.552518</td>\n",
       "      <td>4.60000</td>\n",
       "    </tr>\n",
       "    <tr>\n",
       "      <th>2018</th>\n",
       "      <td>5618</td>\n",
       "      <td>5.416056</td>\n",
       "      <td>4.65000</td>\n",
       "    </tr>\n",
       "    <tr>\n",
       "      <th>2019</th>\n",
       "      <td>2117</td>\n",
       "      <td>5.833162</td>\n",
       "      <td>5.10000</td>\n",
       "    </tr>\n",
       "  </tbody>\n",
       "</table>\n",
       "</div>"
      ],
      "text/plain": [
       "                 count      mean   median\n",
       "year_exposition                          \n",
       "2014                67  8.383559  7.47656\n",
       "2015               550  6.232952  5.31250\n",
       "2016              1310  5.674189  4.75000\n",
       "2017              4239  5.552518  4.60000\n",
       "2018              5618  5.416056  4.65000\n",
       "2019              2117  5.833162  5.10000"
      ]
     },
     "metadata": {},
     "output_type": "display_data"
    },
    {
     "data": {
      "text/plain": [
       "<AxesSubplot:xlabel='year_exposition'>"
      ]
     },
     "execution_count": 34,
     "metadata": {},
     "output_type": "execute_result"
    },
    {
     "data": {
      "image/png": "[encoded data removed]",
      "text/plain": [
       "<Figure size 432x288 with 1 Axes>"
      ]
     },
     "metadata": {
      "needs_background": "light"
     },
     "output_type": "display_data"
    }
   ],
   "source": [
    "display(df.groupby('year_exposition')['last_price_mil'].agg(['count','mean', 'median']))\n",
    "df.groupby('year_exposition')['last_price_mil'].agg(['count','mean', 'median']).plot(y='median', grid=True)"
   ]
  },
  {
   "cell_type": "markdown",
   "metadata": {},
   "source": [
    "С 2015 по 2019 рынок недвижимости был не в лучшем состоянии."
   ]
  },
  {
   "cell_type": "markdown",
   "metadata": {},
   "source": [
    "### Найдем среднюю цену одного квадратного метра в 10 населённых пунктах с наибольшим числом объявлений"
   ]
  },
  {
   "cell_type": "code",
   "execution_count": 35,
   "metadata": {},
   "outputs": [
    {
     "data": {
      "text/html": [
       "<div>\n",
       "<style scoped>\n",
       "    .dataframe tbody tr th:only-of-type {\n",
       "        vertical-align: middle;\n",
       "    }\n",
       "\n",
       "    .dataframe tbody tr th {\n",
       "        vertical-align: top;\n",
       "    }\n",
       "\n",
       "    .dataframe thead th {\n",
       "        text-align: right;\n",
       "    }\n",
       "</style>\n",
       "<table border=\"1\" class=\"dataframe\">\n",
       "  <thead>\n",
       "    <tr style=\"text-align: right;\">\n",
       "      <th></th>\n",
       "      <th>count</th>\n",
       "      <th>mean</th>\n",
       "    </tr>\n",
       "    <tr>\n",
       "      <th>locality_name</th>\n",
       "      <th></th>\n",
       "      <th></th>\n",
       "    </tr>\n",
       "  </thead>\n",
       "  <tbody>\n",
       "    <tr>\n",
       "      <th>Санкт-Петербург</th>\n",
       "      <td>9542</td>\n",
       "      <td>109266.690983</td>\n",
       "    </tr>\n",
       "    <tr>\n",
       "      <th>Всеволожск</th>\n",
       "      <td>269</td>\n",
       "      <td>67274.917291</td>\n",
       "    </tr>\n",
       "    <tr>\n",
       "      <th>Пушкин</th>\n",
       "      <td>227</td>\n",
       "      <td>101744.814837</td>\n",
       "    </tr>\n",
       "    <tr>\n",
       "      <th>посёлок Шушары</th>\n",
       "      <td>217</td>\n",
       "      <td>79538.627641</td>\n",
       "    </tr>\n",
       "    <tr>\n",
       "      <th>посёлок Мурино</th>\n",
       "      <td>214</td>\n",
       "      <td>87138.590997</td>\n",
       "    </tr>\n",
       "    <tr>\n",
       "      <th>Колпино</th>\n",
       "      <td>203</td>\n",
       "      <td>75938.525561</td>\n",
       "    </tr>\n",
       "    <tr>\n",
       "      <th>Гатчина</th>\n",
       "      <td>148</td>\n",
       "      <td>70111.692053</td>\n",
       "    </tr>\n",
       "    <tr>\n",
       "      <th>Петергоф</th>\n",
       "      <td>142</td>\n",
       "      <td>85031.294804</td>\n",
       "    </tr>\n",
       "    <tr>\n",
       "      <th>посёлок Парголово</th>\n",
       "      <td>137</td>\n",
       "      <td>90901.351145</td>\n",
       "    </tr>\n",
       "    <tr>\n",
       "      <th>Сестрорецк</th>\n",
       "      <td>127</td>\n",
       "      <td>101159.077019</td>\n",
       "    </tr>\n",
       "  </tbody>\n",
       "</table>\n",
       "</div>"
      ],
      "text/plain": [
       "                   count           mean\n",
       "locality_name                          \n",
       "Санкт-Петербург     9542  109266.690983\n",
       "Всеволожск           269   67274.917291\n",
       "Пушкин               227  101744.814837\n",
       "посёлок Шушары       217   79538.627641\n",
       "посёлок Мурино       214   87138.590997\n",
       "Колпино              203   75938.525561\n",
       "Гатчина              148   70111.692053\n",
       "Петергоф             142   85031.294804\n",
       "посёлок Парголово    137   90901.351145\n",
       "Сестрорецк           127  101159.077019"
      ]
     },
     "execution_count": 35,
     "metadata": {},
     "output_type": "execute_result"
    }
   ],
   "source": [
    "df.groupby('locality_name')['price_m2'].agg(['count','mean']).sort_values('count', ascending = False).head(10)"
   ]
  },
  {
   "cell_type": "markdown",
   "metadata": {},
   "source": [
    "В культурной столице ожидаемо высокие цены за квадратный метр недвижимости. В ближайших населенных пунктах цена тоже достаточнго высока."
   ]
  },
  {
   "cell_type": "markdown",
   "metadata": {},
   "source": [
    "###  Найдем среднюю цену каждого километра удаления от центра города"
   ]
  },
  {
   "cell_type": "code",
   "execution_count": 36,
   "metadata": {},
   "outputs": [
    {
     "data": {
      "text/plain": [
       "<AxesSubplot:xlabel='cityCenters_nearest_km'>"
      ]
     },
     "execution_count": 36,
     "metadata": {},
     "output_type": "execute_result"
    },
    {
     "data": {
      "image/png": "[encoded data removed]",
      "text/plain": [
       "<Figure size 720x360 with 1 Axes>"
      ]
     },
     "metadata": {
      "needs_background": "light"
     },
     "output_type": "display_data"
    }
   ],
   "source": [
    "df.query('cityCenters_nearest_km >=1').groupby('cityCenters_nearest_km')['last_price_mil'].agg('mean').plot(y='mean', grid=True ,figsize=(10,5))"
   ]
  },
  {
   "cell_type": "markdown",
   "metadata": {},
   "source": [
    "Чем ближе к центру города тем дороже квартиры. Остальные пики обусловлены престижностью и удаленностью населенного пункта от города."
   ]
  },
  {
   "cell_type": "markdown",
   "metadata": {},
   "source": [
    "## Общий вывод"
   ]
  },
  {
   "cell_type": "markdown",
   "metadata": {},
   "source": [
    "В данной работе мы изучили исходные данные, выполнили предобработку данных в которую входило: поиск и заполнение пропущенных значений, корректировка типов данных, поиск и устранение неявных дубликатов и аномалий.\n",
    "В ходе исследования данных были обнаружены интересные закономерности: самые непопулярные дни для публикации объявлений это выходные и праздничные дни. Также цена на квартиры получается сравнительно ниже. На первом этаже квартиры немного дешевле. С увеличением комнат до 5 цена растёт, а далее не всё однозначно. с 2015 по 2019 была сильная просадка в ценах на недвижимость. Цена на квартиры растет с приближением к центру города. Лучшим раскладом в тех условиях было бы выложить объявление во вторник в апреле."
   ]
  },
  {
   "cell_type": "code",
   "execution_count": null,
   "metadata": {},
   "outputs": [],
   "source": []
  }
 ],
 "metadata": {
  "ExecuteTimeLog": [
   {
    "duration": 714,
    "start_time": "2022-11-04T07:42:10.558Z"
   },
   {
    "duration": 98,
    "start_time": "2022-11-04T07:43:12.133Z"
   },
   {
    "duration": 425,
    "start_time": "2022-11-04T07:43:18.263Z"
   },
   {
    "duration": 129,
    "start_time": "2022-11-04T07:43:29.334Z"
   },
   {
    "duration": 2395,
    "start_time": "2022-11-04T07:45:21.814Z"
   },
   {
    "duration": 2121,
    "start_time": "2022-11-04T07:48:29.975Z"
   },
   {
    "duration": 51,
    "start_time": "2022-11-05T10:20:15.869Z"
   },
   {
    "duration": 3400,
    "start_time": "2022-11-05T10:20:25.168Z"
   },
   {
    "duration": 11,
    "start_time": "2022-11-05T10:20:28.570Z"
   },
   {
    "duration": 518,
    "start_time": "2022-11-05T10:29:14.696Z"
   },
   {
    "duration": 20,
    "start_time": "2022-11-05T10:29:15.216Z"
   },
   {
    "duration": 144,
    "start_time": "2022-11-05T10:31:09.678Z"
   },
   {
    "duration": 53,
    "start_time": "2022-11-05T12:52:59.177Z"
   },
   {
    "duration": 772,
    "start_time": "2022-11-05T12:53:09.544Z"
   },
   {
    "duration": 9,
    "start_time": "2022-11-05T12:53:10.317Z"
   },
   {
    "duration": 442,
    "start_time": "2022-11-05T12:53:10.328Z"
   },
   {
    "duration": 9,
    "start_time": "2022-11-05T12:56:42.108Z"
   },
   {
    "duration": 49,
    "start_time": "2022-11-05T12:56:44.111Z"
   },
   {
    "duration": 57,
    "start_time": "2022-11-05T12:57:00.529Z"
   },
   {
    "duration": 19,
    "start_time": "2022-11-05T12:58:54.171Z"
   },
   {
    "duration": 552,
    "start_time": "2022-11-05T13:34:12.554Z"
   },
   {
    "duration": 9,
    "start_time": "2022-11-05T13:34:13.108Z"
   },
   {
    "duration": 29,
    "start_time": "2022-11-05T13:34:13.119Z"
   },
   {
    "duration": 47,
    "start_time": "2022-11-05T13:34:13.150Z"
   },
   {
    "duration": 54,
    "start_time": "2022-11-05T13:34:26.856Z"
   },
   {
    "duration": 46,
    "start_time": "2022-11-05T13:34:49.200Z"
   },
   {
    "duration": 832,
    "start_time": "2022-11-05T13:35:05.647Z"
   },
   {
    "duration": 794,
    "start_time": "2022-11-05T13:35:20.595Z"
   },
   {
    "duration": 52,
    "start_time": "2022-11-05T13:35:54.430Z"
   },
   {
    "duration": 57,
    "start_time": "2022-11-05T13:36:05.647Z"
   },
   {
    "duration": 543,
    "start_time": "2022-11-06T11:19:01.695Z"
   },
   {
    "duration": 8,
    "start_time": "2022-11-06T11:19:02.240Z"
   },
   {
    "duration": 8,
    "start_time": "2022-11-06T11:19:02.249Z"
   },
   {
    "duration": 73,
    "start_time": "2022-11-06T11:19:02.259Z"
   },
   {
    "duration": 58,
    "start_time": "2022-11-06T11:19:13.774Z"
   },
   {
    "duration": 80,
    "start_time": "2022-11-12T05:52:34.895Z"
   },
   {
    "duration": 773,
    "start_time": "2022-11-12T05:52:45.347Z"
   },
   {
    "duration": 9,
    "start_time": "2022-11-12T05:52:46.122Z"
   },
   {
    "duration": 8,
    "start_time": "2022-11-12T05:52:46.132Z"
   },
   {
    "duration": 8,
    "start_time": "2022-11-12T05:52:46.141Z"
   },
   {
    "duration": 57,
    "start_time": "2022-11-12T05:52:46.150Z"
   },
   {
    "duration": 65,
    "start_time": "2022-11-12T05:55:26.094Z"
   },
   {
    "duration": 6,
    "start_time": "2022-11-12T05:55:32.474Z"
   },
   {
    "duration": 5,
    "start_time": "2022-11-12T05:56:10.720Z"
   },
   {
    "duration": 5,
    "start_time": "2022-11-12T05:56:24.616Z"
   },
   {
    "duration": 3,
    "start_time": "2022-11-12T05:56:27.285Z"
   },
   {
    "duration": 139,
    "start_time": "2022-11-12T06:00:55.383Z"
   },
   {
    "duration": 445,
    "start_time": "2022-11-12T06:02:34.505Z"
   },
   {
    "duration": 590,
    "start_time": "2022-11-12T06:12:03.275Z"
   },
   {
    "duration": 502,
    "start_time": "2022-11-12T06:12:44.362Z"
   },
   {
    "duration": 8,
    "start_time": "2022-11-12T06:16:38.333Z"
   },
   {
    "duration": 3,
    "start_time": "2022-11-12T06:17:00.558Z"
   },
   {
    "duration": 3,
    "start_time": "2022-11-12T06:17:02.075Z"
   },
   {
    "duration": 63,
    "start_time": "2022-11-12T06:18:46.713Z"
   },
   {
    "duration": 600,
    "start_time": "2022-11-12T06:19:11.633Z"
   },
   {
    "duration": 9,
    "start_time": "2022-11-12T06:19:12.235Z"
   },
   {
    "duration": 97,
    "start_time": "2022-11-12T06:19:12.245Z"
   },
   {
    "duration": 0,
    "start_time": "2022-11-12T06:19:12.344Z"
   },
   {
    "duration": 49,
    "start_time": "2022-11-12T06:24:30.418Z"
   },
   {
    "duration": 17,
    "start_time": "2022-11-12T06:24:42.786Z"
   },
   {
    "duration": 20,
    "start_time": "2022-11-12T06:25:07.226Z"
   },
   {
    "duration": 17,
    "start_time": "2022-11-12T06:25:28.890Z"
   },
   {
    "duration": 54,
    "start_time": "2022-11-12T06:25:36.751Z"
   },
   {
    "duration": 10,
    "start_time": "2022-11-12T06:28:26.490Z"
   },
   {
    "duration": 19,
    "start_time": "2022-11-12T06:30:53.603Z"
   },
   {
    "duration": 28,
    "start_time": "2022-11-12T06:31:35.549Z"
   },
   {
    "duration": 18,
    "start_time": "2022-11-12T06:31:54.951Z"
   },
   {
    "duration": 11,
    "start_time": "2022-11-12T06:31:56.277Z"
   },
   {
    "duration": 2611,
    "start_time": "2022-11-12T06:44:05.748Z"
   },
   {
    "duration": 11,
    "start_time": "2022-11-12T06:49:26.389Z"
   },
   {
    "duration": 20,
    "start_time": "2022-11-12T06:52:41.674Z"
   },
   {
    "duration": 9,
    "start_time": "2022-11-12T06:55:33.712Z"
   },
   {
    "duration": 13,
    "start_time": "2022-11-12T07:00:12.426Z"
   },
   {
    "duration": 21,
    "start_time": "2022-11-12T07:01:13.415Z"
   },
   {
    "duration": 10,
    "start_time": "2022-11-12T07:01:16.119Z"
   },
   {
    "duration": 135,
    "start_time": "2022-11-12T07:18:13.569Z"
   },
   {
    "duration": 10,
    "start_time": "2022-11-12T07:18:44.454Z"
   },
   {
    "duration": 24,
    "start_time": "2022-11-12T07:26:52.370Z"
   },
   {
    "duration": 23,
    "start_time": "2022-11-12T07:26:55.080Z"
   },
   {
    "duration": 26,
    "start_time": "2022-11-12T07:27:05.307Z"
   },
   {
    "duration": 66,
    "start_time": "2022-11-12T07:27:31.436Z"
   },
   {
    "duration": 1,
    "start_time": "2022-11-12T07:29:58.055Z"
   },
   {
    "duration": 851,
    "start_time": "2022-11-12T07:44:03.628Z"
   },
   {
    "duration": 29,
    "start_time": "2022-11-12T07:45:27.619Z"
   },
   {
    "duration": 9,
    "start_time": "2022-11-12T07:45:29.306Z"
   },
   {
    "duration": 73,
    "start_time": "2022-11-12T08:04:18.062Z"
   },
   {
    "duration": 10,
    "start_time": "2022-11-12T08:04:24.544Z"
   },
   {
    "duration": 596,
    "start_time": "2022-11-12T08:04:30.699Z"
   },
   {
    "duration": 2,
    "start_time": "2022-11-12T08:04:31.297Z"
   },
   {
    "duration": 30,
    "start_time": "2022-11-12T08:04:31.301Z"
   },
   {
    "duration": 83,
    "start_time": "2022-11-12T08:04:31.333Z"
   },
   {
    "duration": 19,
    "start_time": "2022-11-12T08:04:31.418Z"
   },
   {
    "duration": 672,
    "start_time": "2022-11-12T08:04:31.439Z"
   },
   {
    "duration": 29,
    "start_time": "2022-11-12T08:06:54.783Z"
   },
   {
    "duration": 54,
    "start_time": "2022-11-12T08:07:07.552Z"
   },
   {
    "duration": 9,
    "start_time": "2022-11-12T08:07:12.195Z"
   },
   {
    "duration": 573,
    "start_time": "2022-11-12T08:10:25.534Z"
   },
   {
    "duration": 2,
    "start_time": "2022-11-12T08:10:26.109Z"
   },
   {
    "duration": 23,
    "start_time": "2022-11-12T08:10:26.112Z"
   },
   {
    "duration": 26,
    "start_time": "2022-11-12T08:10:26.137Z"
   },
   {
    "duration": 7,
    "start_time": "2022-11-12T08:10:26.165Z"
   },
   {
    "duration": 662,
    "start_time": "2022-11-12T08:10:26.174Z"
   },
   {
    "duration": 681,
    "start_time": "2022-11-12T08:11:32.501Z"
   },
   {
    "duration": 330,
    "start_time": "2022-11-12T08:11:56.214Z"
   },
   {
    "duration": 362,
    "start_time": "2022-11-12T08:12:04.041Z"
   },
   {
    "duration": 574,
    "start_time": "2022-11-12T08:15:40.727Z"
   },
   {
    "duration": 542,
    "start_time": "2022-11-12T08:16:43.654Z"
   },
   {
    "duration": 372,
    "start_time": "2022-11-12T08:17:19.630Z"
   },
   {
    "duration": 562,
    "start_time": "2022-11-12T08:17:25.744Z"
   },
   {
    "duration": 2,
    "start_time": "2022-11-12T08:17:26.308Z"
   },
   {
    "duration": 18,
    "start_time": "2022-11-12T08:17:26.312Z"
   },
   {
    "duration": 34,
    "start_time": "2022-11-12T08:17:26.332Z"
   },
   {
    "duration": 12,
    "start_time": "2022-11-12T08:17:26.368Z"
   },
   {
    "duration": 480,
    "start_time": "2022-11-12T08:17:26.382Z"
   },
   {
    "duration": 356,
    "start_time": "2022-11-12T08:18:07.549Z"
   },
   {
    "duration": 87,
    "start_time": "2022-11-12T08:31:46.947Z"
   },
   {
    "duration": 12,
    "start_time": "2022-11-12T08:31:56.495Z"
   },
   {
    "duration": 6,
    "start_time": "2022-11-12T08:33:14.711Z"
   },
   {
    "duration": 38,
    "start_time": "2022-11-12T08:44:08.136Z"
   },
   {
    "duration": 30,
    "start_time": "2022-11-12T08:44:09.948Z"
   },
   {
    "duration": 37,
    "start_time": "2022-11-12T08:44:15.408Z"
   },
   {
    "duration": 46,
    "start_time": "2022-11-12T08:44:48.103Z"
   },
   {
    "duration": 31,
    "start_time": "2022-11-12T08:45:21.859Z"
   },
   {
    "duration": 11,
    "start_time": "2022-11-12T08:50:11.446Z"
   },
   {
    "duration": 30,
    "start_time": "2022-11-12T08:50:57.896Z"
   },
   {
    "duration": 31,
    "start_time": "2022-11-12T08:52:22.411Z"
   },
   {
    "duration": 39,
    "start_time": "2022-11-12T09:14:01.308Z"
   },
   {
    "duration": 51,
    "start_time": "2022-11-12T09:14:20.576Z"
   },
   {
    "duration": 29,
    "start_time": "2022-11-12T09:14:36.265Z"
   },
   {
    "duration": 18,
    "start_time": "2022-11-12T09:15:44.530Z"
   },
   {
    "duration": 26,
    "start_time": "2022-11-12T09:15:54.836Z"
   },
   {
    "duration": 20,
    "start_time": "2022-11-12T09:16:08.871Z"
   },
   {
    "duration": 35,
    "start_time": "2022-11-12T09:16:34.987Z"
   },
   {
    "duration": 53,
    "start_time": "2022-11-12T09:18:27.121Z"
   },
   {
    "duration": 45,
    "start_time": "2022-11-12T09:21:06.538Z"
   },
   {
    "duration": 63,
    "start_time": "2022-11-12T09:21:27.588Z"
   },
   {
    "duration": 12,
    "start_time": "2022-11-12T09:23:39.741Z"
   },
   {
    "duration": 64,
    "start_time": "2022-11-12T09:24:23.709Z"
   },
   {
    "duration": 70,
    "start_time": "2022-11-12T09:24:33.408Z"
   },
   {
    "duration": 59,
    "start_time": "2022-11-12T09:24:56.402Z"
   },
   {
    "duration": 60,
    "start_time": "2022-11-12T09:25:07.724Z"
   },
   {
    "duration": 525,
    "start_time": "2022-11-12T09:25:13.999Z"
   },
   {
    "duration": 3,
    "start_time": "2022-11-12T09:25:14.526Z"
   },
   {
    "duration": 17,
    "start_time": "2022-11-12T09:25:14.531Z"
   },
   {
    "duration": 39,
    "start_time": "2022-11-12T09:25:14.551Z"
   },
   {
    "duration": 12,
    "start_time": "2022-11-12T09:25:14.592Z"
   },
   {
    "duration": 98,
    "start_time": "2022-11-12T09:25:14.606Z"
   },
   {
    "duration": 459,
    "start_time": "2022-11-12T09:25:14.706Z"
   },
   {
    "duration": 7,
    "start_time": "2022-11-12T10:32:54.715Z"
   },
   {
    "duration": 82,
    "start_time": "2022-11-12T10:33:30.197Z"
   },
   {
    "duration": 10,
    "start_time": "2022-11-12T10:33:34.745Z"
   },
   {
    "duration": 6,
    "start_time": "2022-11-12T10:33:37.550Z"
   },
   {
    "duration": 748,
    "start_time": "2022-11-13T07:56:59.779Z"
   },
   {
    "duration": 66,
    "start_time": "2022-11-13T07:57:00.529Z"
   },
   {
    "duration": 0,
    "start_time": "2022-11-13T07:57:00.597Z"
   },
   {
    "duration": 0,
    "start_time": "2022-11-13T07:57:00.598Z"
   },
   {
    "duration": 0,
    "start_time": "2022-11-13T07:57:00.599Z"
   },
   {
    "duration": 0,
    "start_time": "2022-11-13T07:57:00.600Z"
   },
   {
    "duration": 0,
    "start_time": "2022-11-13T07:57:00.602Z"
   },
   {
    "duration": 0,
    "start_time": "2022-11-13T07:57:00.603Z"
   },
   {
    "duration": 0,
    "start_time": "2022-11-13T07:57:00.604Z"
   },
   {
    "duration": 67,
    "start_time": "2022-11-13T07:57:20.300Z"
   },
   {
    "duration": 3,
    "start_time": "2022-11-13T07:57:46.693Z"
   },
   {
    "duration": 556,
    "start_time": "2022-11-13T08:04:51.535Z"
   },
   {
    "duration": 3,
    "start_time": "2022-11-13T08:04:52.092Z"
   },
   {
    "duration": 18,
    "start_time": "2022-11-13T08:04:52.096Z"
   },
   {
    "duration": 35,
    "start_time": "2022-11-13T08:04:52.117Z"
   },
   {
    "duration": 8,
    "start_time": "2022-11-13T08:04:52.154Z"
   },
   {
    "duration": 7,
    "start_time": "2022-11-13T08:04:52.164Z"
   },
   {
    "duration": 50,
    "start_time": "2022-11-13T08:04:52.174Z"
   },
   {
    "duration": 0,
    "start_time": "2022-11-13T08:04:52.226Z"
   },
   {
    "duration": 0,
    "start_time": "2022-11-13T08:04:52.227Z"
   },
   {
    "duration": 2,
    "start_time": "2022-11-13T08:18:17.478Z"
   },
   {
    "duration": 3,
    "start_time": "2022-11-13T08:30:46.742Z"
   },
   {
    "duration": 3,
    "start_time": "2022-11-13T08:30:50.989Z"
   },
   {
    "duration": 2507,
    "start_time": "2022-11-13T08:32:55.306Z"
   },
   {
    "duration": 514,
    "start_time": "2022-11-13T08:35:17.538Z"
   },
   {
    "duration": 15,
    "start_time": "2022-11-13T08:35:18.056Z"
   },
   {
    "duration": 2082,
    "start_time": "2022-11-13T08:35:18.073Z"
   },
   {
    "duration": 3,
    "start_time": "2022-11-13T08:35:20.157Z"
   },
   {
    "duration": 22,
    "start_time": "2022-11-13T08:35:20.162Z"
   },
   {
    "duration": 34,
    "start_time": "2022-11-13T08:35:20.185Z"
   },
   {
    "duration": 37,
    "start_time": "2022-11-13T08:35:20.221Z"
   },
   {
    "duration": 37,
    "start_time": "2022-11-13T08:35:20.260Z"
   },
   {
    "duration": 49,
    "start_time": "2022-11-13T08:35:20.299Z"
   },
   {
    "duration": 0,
    "start_time": "2022-11-13T08:35:20.350Z"
   },
   {
    "duration": 0,
    "start_time": "2022-11-13T08:35:20.351Z"
   },
   {
    "duration": 77,
    "start_time": "2022-11-13T08:39:11.316Z"
   },
   {
    "duration": 37,
    "start_time": "2022-11-13T08:39:22.880Z"
   },
   {
    "duration": 462,
    "start_time": "2022-11-13T08:39:40.675Z"
   },
   {
    "duration": 45,
    "start_time": "2022-11-13T08:39:41.139Z"
   },
   {
    "duration": 2038,
    "start_time": "2022-11-13T08:39:41.186Z"
   },
   {
    "duration": 3,
    "start_time": "2022-11-13T08:39:43.226Z"
   },
   {
    "duration": 22,
    "start_time": "2022-11-13T08:39:43.231Z"
   },
   {
    "duration": 28,
    "start_time": "2022-11-13T08:39:43.256Z"
   },
   {
    "duration": 8,
    "start_time": "2022-11-13T08:39:43.286Z"
   },
   {
    "duration": 6,
    "start_time": "2022-11-13T08:39:43.296Z"
   },
   {
    "duration": 52,
    "start_time": "2022-11-13T08:39:43.304Z"
   },
   {
    "duration": 0,
    "start_time": "2022-11-13T08:39:43.357Z"
   },
   {
    "duration": 0,
    "start_time": "2022-11-13T08:39:43.359Z"
   },
   {
    "duration": 66,
    "start_time": "2022-11-13T08:40:30.420Z"
   },
   {
    "duration": 93,
    "start_time": "2022-11-13T09:02:43.534Z"
   },
   {
    "duration": 679,
    "start_time": "2022-11-13T09:02:52.971Z"
   },
   {
    "duration": 137,
    "start_time": "2022-11-13T09:02:53.652Z"
   },
   {
    "duration": 1951,
    "start_time": "2022-11-13T09:02:53.791Z"
   },
   {
    "duration": 2,
    "start_time": "2022-11-13T09:02:55.745Z"
   },
   {
    "duration": 36,
    "start_time": "2022-11-13T09:02:55.749Z"
   },
   {
    "duration": 36,
    "start_time": "2022-11-13T09:02:55.788Z"
   },
   {
    "duration": 14,
    "start_time": "2022-11-13T09:02:55.825Z"
   },
   {
    "duration": 20,
    "start_time": "2022-11-13T09:02:55.841Z"
   },
   {
    "duration": 47,
    "start_time": "2022-11-13T09:02:55.863Z"
   },
   {
    "duration": 0,
    "start_time": "2022-11-13T09:02:55.912Z"
   },
   {
    "duration": 0,
    "start_time": "2022-11-13T09:02:55.913Z"
   },
   {
    "duration": 113,
    "start_time": "2022-11-13T09:06:55.854Z"
   },
   {
    "duration": 123,
    "start_time": "2022-11-13T09:07:07.481Z"
   },
   {
    "duration": 693,
    "start_time": "2022-11-13T09:12:45.711Z"
   },
   {
    "duration": 169,
    "start_time": "2022-11-13T09:12:46.406Z"
   },
   {
    "duration": 1945,
    "start_time": "2022-11-13T09:12:46.577Z"
   },
   {
    "duration": 10,
    "start_time": "2022-11-13T09:12:48.524Z"
   },
   {
    "duration": 26,
    "start_time": "2022-11-13T09:12:48.546Z"
   },
   {
    "duration": 8,
    "start_time": "2022-11-13T09:12:48.573Z"
   },
   {
    "duration": 12,
    "start_time": "2022-11-13T09:12:48.582Z"
   },
   {
    "duration": 42,
    "start_time": "2022-11-13T09:12:48.595Z"
   },
   {
    "duration": 0,
    "start_time": "2022-11-13T09:12:48.639Z"
   },
   {
    "duration": 0,
    "start_time": "2022-11-13T09:12:48.640Z"
   },
   {
    "duration": 661,
    "start_time": "2022-11-13T09:21:46.284Z"
   },
   {
    "duration": 324,
    "start_time": "2022-11-13T09:21:46.948Z"
   },
   {
    "duration": 1979,
    "start_time": "2022-11-13T09:21:47.274Z"
   },
   {
    "duration": 12,
    "start_time": "2022-11-13T09:21:49.255Z"
   },
   {
    "duration": 26,
    "start_time": "2022-11-13T09:21:49.269Z"
   },
   {
    "duration": 8,
    "start_time": "2022-11-13T09:21:49.298Z"
   },
   {
    "duration": 18,
    "start_time": "2022-11-13T09:21:49.308Z"
   },
   {
    "duration": 51,
    "start_time": "2022-11-13T09:21:49.347Z"
   },
   {
    "duration": 0,
    "start_time": "2022-11-13T09:21:49.400Z"
   },
   {
    "duration": 0,
    "start_time": "2022-11-13T09:21:49.401Z"
   },
   {
    "duration": 665,
    "start_time": "2022-11-13T10:11:56.873Z"
   },
   {
    "duration": 313,
    "start_time": "2022-11-13T10:11:57.540Z"
   },
   {
    "duration": 1881,
    "start_time": "2022-11-13T10:11:57.855Z"
   },
   {
    "duration": 15,
    "start_time": "2022-11-13T10:11:59.738Z"
   },
   {
    "duration": 28,
    "start_time": "2022-11-13T10:11:59.755Z"
   },
   {
    "duration": 10,
    "start_time": "2022-11-13T10:11:59.784Z"
   },
   {
    "duration": 7,
    "start_time": "2022-11-13T10:11:59.796Z"
   },
   {
    "duration": 58,
    "start_time": "2022-11-13T10:11:59.805Z"
   },
   {
    "duration": 0,
    "start_time": "2022-11-13T10:11:59.864Z"
   },
   {
    "duration": 0,
    "start_time": "2022-11-13T10:11:59.866Z"
   },
   {
    "duration": 66,
    "start_time": "2022-11-13T10:12:57.810Z"
   },
   {
    "duration": 60,
    "start_time": "2022-11-13T10:13:34.756Z"
   },
   {
    "duration": 71,
    "start_time": "2022-11-13T10:15:53.399Z"
   },
   {
    "duration": 8,
    "start_time": "2022-11-13T10:15:59.098Z"
   },
   {
    "duration": 9,
    "start_time": "2022-11-13T10:21:17.541Z"
   },
   {
    "duration": 9,
    "start_time": "2022-11-13T10:21:45.897Z"
   },
   {
    "duration": 9,
    "start_time": "2022-11-13T10:21:54.425Z"
   },
   {
    "duration": 10,
    "start_time": "2022-11-13T10:22:09.796Z"
   },
   {
    "duration": 659,
    "start_time": "2022-11-13T10:28:11.793Z"
   },
   {
    "duration": 317,
    "start_time": "2022-11-13T10:28:12.455Z"
   },
   {
    "duration": 1953,
    "start_time": "2022-11-13T10:28:12.775Z"
   },
   {
    "duration": 18,
    "start_time": "2022-11-13T10:28:14.730Z"
   },
   {
    "duration": 36,
    "start_time": "2022-11-13T10:28:14.750Z"
   },
   {
    "duration": 28,
    "start_time": "2022-11-13T10:28:14.787Z"
   },
   {
    "duration": 79,
    "start_time": "2022-11-13T10:28:14.817Z"
   },
   {
    "duration": 7,
    "start_time": "2022-11-13T10:28:14.898Z"
   },
   {
    "duration": 95,
    "start_time": "2022-11-13T10:28:14.906Z"
   },
   {
    "duration": 0,
    "start_time": "2022-11-13T10:28:15.002Z"
   },
   {
    "duration": 754,
    "start_time": "2022-11-13T10:29:48.229Z"
   },
   {
    "duration": 323,
    "start_time": "2022-11-13T10:29:48.985Z"
   },
   {
    "duration": 1843,
    "start_time": "2022-11-13T10:29:49.309Z"
   },
   {
    "duration": 10,
    "start_time": "2022-11-13T10:29:51.155Z"
   },
   {
    "duration": 25,
    "start_time": "2022-11-13T10:29:51.167Z"
   },
   {
    "duration": 8,
    "start_time": "2022-11-13T10:29:51.194Z"
   },
   {
    "duration": 98,
    "start_time": "2022-11-13T10:29:51.204Z"
   },
   {
    "duration": 7,
    "start_time": "2022-11-13T10:29:51.304Z"
   },
   {
    "duration": 12,
    "start_time": "2022-11-13T10:29:51.313Z"
   },
   {
    "duration": 380,
    "start_time": "2022-11-13T10:29:51.327Z"
   },
   {
    "duration": 737,
    "start_time": "2022-11-13T10:37:04.840Z"
   },
   {
    "duration": 388,
    "start_time": "2022-11-13T10:37:05.579Z"
   },
   {
    "duration": 1942,
    "start_time": "2022-11-13T10:37:05.969Z"
   },
   {
    "duration": 9,
    "start_time": "2022-11-13T10:37:07.913Z"
   },
   {
    "duration": 44,
    "start_time": "2022-11-13T10:37:07.923Z"
   },
   {
    "duration": 9,
    "start_time": "2022-11-13T10:37:07.969Z"
   },
   {
    "duration": 85,
    "start_time": "2022-11-13T10:37:07.980Z"
   },
   {
    "duration": 9,
    "start_time": "2022-11-13T10:37:08.066Z"
   },
   {
    "duration": 12,
    "start_time": "2022-11-13T10:37:08.078Z"
   },
   {
    "duration": 431,
    "start_time": "2022-11-13T10:37:08.093Z"
   },
   {
    "duration": 731,
    "start_time": "2022-11-13T10:59:15.929Z"
   },
   {
    "duration": 335,
    "start_time": "2022-11-13T10:59:16.663Z"
   },
   {
    "duration": 1955,
    "start_time": "2022-11-13T10:59:17.000Z"
   },
   {
    "duration": 10,
    "start_time": "2022-11-13T10:59:18.958Z"
   },
   {
    "duration": 27,
    "start_time": "2022-11-13T10:59:18.971Z"
   },
   {
    "duration": 8,
    "start_time": "2022-11-13T10:59:19.000Z"
   },
   {
    "duration": 117,
    "start_time": "2022-11-13T10:59:19.010Z"
   },
   {
    "duration": 25,
    "start_time": "2022-11-13T10:59:19.129Z"
   },
   {
    "duration": 12,
    "start_time": "2022-11-13T10:59:19.157Z"
   },
   {
    "duration": 392,
    "start_time": "2022-11-13T10:59:19.172Z"
   },
   {
    "duration": 684,
    "start_time": "2022-11-13T11:11:32.371Z"
   },
   {
    "duration": 314,
    "start_time": "2022-11-13T11:11:33.057Z"
   },
   {
    "duration": 1992,
    "start_time": "2022-11-13T11:11:33.372Z"
   },
   {
    "duration": 8,
    "start_time": "2022-11-13T11:11:35.366Z"
   },
   {
    "duration": 51,
    "start_time": "2022-11-13T11:11:35.376Z"
   },
   {
    "duration": 10,
    "start_time": "2022-11-13T11:11:35.429Z"
   },
   {
    "duration": 102,
    "start_time": "2022-11-13T11:11:35.441Z"
   },
   {
    "duration": 24,
    "start_time": "2022-11-13T11:11:35.545Z"
   },
   {
    "duration": 27,
    "start_time": "2022-11-13T11:11:35.570Z"
   },
   {
    "duration": 425,
    "start_time": "2022-11-13T11:11:35.600Z"
   },
   {
    "duration": 356,
    "start_time": "2022-11-13T11:11:36.026Z"
   },
   {
    "duration": 0,
    "start_time": "2022-11-13T11:11:36.383Z"
   },
   {
    "duration": 0,
    "start_time": "2022-11-13T11:11:36.384Z"
   },
   {
    "duration": 0,
    "start_time": "2022-11-13T11:11:36.386Z"
   },
   {
    "duration": 0,
    "start_time": "2022-11-13T11:11:36.387Z"
   },
   {
    "duration": 0,
    "start_time": "2022-11-13T11:11:36.388Z"
   },
   {
    "duration": 0,
    "start_time": "2022-11-13T11:11:36.389Z"
   },
   {
    "duration": 0,
    "start_time": "2022-11-13T11:11:36.390Z"
   },
   {
    "duration": 0,
    "start_time": "2022-11-13T11:11:36.391Z"
   },
   {
    "duration": 0,
    "start_time": "2022-11-13T11:11:36.392Z"
   },
   {
    "duration": 0,
    "start_time": "2022-11-13T11:11:36.393Z"
   },
   {
    "duration": 0,
    "start_time": "2022-11-13T11:11:36.394Z"
   },
   {
    "duration": 0,
    "start_time": "2022-11-13T11:11:36.395Z"
   },
   {
    "duration": 0,
    "start_time": "2022-11-13T11:11:36.395Z"
   },
   {
    "duration": 388,
    "start_time": "2022-11-13T11:12:15.014Z"
   },
   {
    "duration": 283,
    "start_time": "2022-11-13T11:12:35.325Z"
   },
   {
    "duration": 664,
    "start_time": "2022-11-13T12:55:56.287Z"
   },
   {
    "duration": 310,
    "start_time": "2022-11-13T12:55:56.953Z"
   },
   {
    "duration": 1829,
    "start_time": "2022-11-13T12:55:57.265Z"
   },
   {
    "duration": 9,
    "start_time": "2022-11-13T12:55:59.096Z"
   },
   {
    "duration": 37,
    "start_time": "2022-11-13T12:55:59.106Z"
   },
   {
    "duration": 10,
    "start_time": "2022-11-13T12:55:59.145Z"
   },
   {
    "duration": 78,
    "start_time": "2022-11-13T12:55:59.156Z"
   },
   {
    "duration": 15,
    "start_time": "2022-11-13T12:55:59.236Z"
   },
   {
    "duration": 28,
    "start_time": "2022-11-13T12:55:59.253Z"
   },
   {
    "duration": 367,
    "start_time": "2022-11-13T12:55:59.283Z"
   },
   {
    "duration": 259,
    "start_time": "2022-11-13T12:55:59.652Z"
   },
   {
    "duration": 352,
    "start_time": "2022-11-13T12:55:59.913Z"
   },
   {
    "duration": 280,
    "start_time": "2022-11-13T12:56:00.267Z"
   },
   {
    "duration": 275,
    "start_time": "2022-11-13T12:56:00.549Z"
   },
   {
    "duration": 264,
    "start_time": "2022-11-13T12:56:00.826Z"
   },
   {
    "duration": 278,
    "start_time": "2022-11-13T12:56:01.091Z"
   },
   {
    "duration": 286,
    "start_time": "2022-11-13T12:56:01.371Z"
   },
   {
    "duration": 77,
    "start_time": "2022-11-13T12:56:01.659Z"
   },
   {
    "duration": 0,
    "start_time": "2022-11-13T12:56:01.746Z"
   },
   {
    "duration": 0,
    "start_time": "2022-11-13T12:56:01.747Z"
   },
   {
    "duration": 0,
    "start_time": "2022-11-13T12:56:01.748Z"
   },
   {
    "duration": 0,
    "start_time": "2022-11-13T12:56:01.750Z"
   },
   {
    "duration": 0,
    "start_time": "2022-11-13T12:56:01.751Z"
   },
   {
    "duration": 0,
    "start_time": "2022-11-13T12:56:01.752Z"
   },
   {
    "duration": 388,
    "start_time": "2022-11-13T12:57:11.748Z"
   },
   {
    "duration": 277,
    "start_time": "2022-11-13T12:57:32.005Z"
   },
   {
    "duration": 287,
    "start_time": "2022-11-13T12:58:19.805Z"
   },
   {
    "duration": 264,
    "start_time": "2022-11-13T12:58:53.483Z"
   },
   {
    "duration": 314,
    "start_time": "2022-11-13T12:59:14.374Z"
   },
   {
    "duration": 367,
    "start_time": "2022-11-13T12:59:35.979Z"
   },
   {
    "duration": 300,
    "start_time": "2022-11-13T13:00:04.220Z"
   },
   {
    "duration": 346,
    "start_time": "2022-11-13T13:00:16.228Z"
   },
   {
    "duration": 268,
    "start_time": "2022-11-13T13:00:57.459Z"
   },
   {
    "duration": 290,
    "start_time": "2022-11-13T13:01:47.198Z"
   },
   {
    "duration": 262,
    "start_time": "2022-11-13T13:03:08.535Z"
   },
   {
    "duration": 275,
    "start_time": "2022-11-13T13:03:28.990Z"
   },
   {
    "duration": 16,
    "start_time": "2022-11-13T13:05:13.590Z"
   },
   {
    "duration": 181,
    "start_time": "2022-11-13T13:05:56.109Z"
   },
   {
    "duration": 216,
    "start_time": "2022-11-13T13:06:04.898Z"
   },
   {
    "duration": 350,
    "start_time": "2022-11-13T13:06:54.435Z"
   },
   {
    "duration": 197,
    "start_time": "2022-11-13T13:07:02.995Z"
   },
   {
    "duration": 174,
    "start_time": "2022-11-13T13:07:22.788Z"
   },
   {
    "duration": 225,
    "start_time": "2022-11-13T13:07:40.046Z"
   },
   {
    "duration": 294,
    "start_time": "2022-11-13T13:09:35.929Z"
   },
   {
    "duration": 406,
    "start_time": "2022-11-13T13:09:55.044Z"
   },
   {
    "duration": 291,
    "start_time": "2022-11-13T13:10:07.450Z"
   },
   {
    "duration": 292,
    "start_time": "2022-11-13T13:10:20.474Z"
   },
   {
    "duration": 292,
    "start_time": "2022-11-13T13:10:32.345Z"
   },
   {
    "duration": 285,
    "start_time": "2022-11-13T13:10:37.330Z"
   },
   {
    "duration": 508,
    "start_time": "2022-11-13T13:10:48.910Z"
   },
   {
    "duration": 214,
    "start_time": "2022-11-13T13:11:13.879Z"
   },
   {
    "duration": 240,
    "start_time": "2022-11-13T13:11:23.195Z"
   },
   {
    "duration": 347,
    "start_time": "2022-11-13T13:11:42.084Z"
   },
   {
    "duration": 299,
    "start_time": "2022-11-13T13:12:03.801Z"
   },
   {
    "duration": 284,
    "start_time": "2022-11-13T13:12:17.490Z"
   },
   {
    "duration": 272,
    "start_time": "2022-11-13T13:12:37.179Z"
   },
   {
    "duration": 484,
    "start_time": "2022-11-13T13:12:44.451Z"
   },
   {
    "duration": 292,
    "start_time": "2022-11-13T13:12:55.708Z"
   },
   {
    "duration": 313,
    "start_time": "2022-11-13T13:13:18.878Z"
   },
   {
    "duration": 356,
    "start_time": "2022-11-13T13:13:34.706Z"
   },
   {
    "duration": 332,
    "start_time": "2022-11-13T13:13:48.180Z"
   },
   {
    "duration": 435,
    "start_time": "2022-11-13T13:14:19.124Z"
   },
   {
    "duration": 322,
    "start_time": "2022-11-13T13:14:28.417Z"
   },
   {
    "duration": 332,
    "start_time": "2022-11-13T13:14:33.098Z"
   },
   {
    "duration": 321,
    "start_time": "2022-11-13T13:14:41.001Z"
   },
   {
    "duration": 325,
    "start_time": "2022-11-13T13:14:49.741Z"
   },
   {
    "duration": 309,
    "start_time": "2022-11-13T13:15:53.950Z"
   },
   {
    "duration": 423,
    "start_time": "2022-11-13T13:16:10.918Z"
   },
   {
    "duration": 195,
    "start_time": "2022-11-13T13:16:29.500Z"
   },
   {
    "duration": 277,
    "start_time": "2022-11-13T13:21:03.107Z"
   },
   {
    "duration": 278,
    "start_time": "2022-11-13T13:21:44.894Z"
   },
   {
    "duration": 297,
    "start_time": "2022-11-13T13:21:53.535Z"
   },
   {
    "duration": 4644,
    "start_time": "2022-11-13T13:25:10.319Z"
   },
   {
    "duration": 227,
    "start_time": "2022-11-13T13:25:40.255Z"
   },
   {
    "duration": 43,
    "start_time": "2022-11-13T13:26:26.956Z"
   },
   {
    "duration": 578,
    "start_time": "2022-11-13T13:26:51.812Z"
   },
   {
    "duration": 450,
    "start_time": "2022-11-13T13:26:59.475Z"
   },
   {
    "duration": 451,
    "start_time": "2022-11-13T13:27:40.916Z"
   },
   {
    "duration": 426,
    "start_time": "2022-11-13T13:27:51.529Z"
   },
   {
    "duration": 556,
    "start_time": "2022-11-13T13:28:06.393Z"
   },
   {
    "duration": 231,
    "start_time": "2022-11-13T13:28:21.027Z"
   },
   {
    "duration": 276,
    "start_time": "2022-11-13T13:28:44.603Z"
   },
   {
    "duration": 223,
    "start_time": "2022-11-13T13:29:10.580Z"
   },
   {
    "duration": 225,
    "start_time": "2022-11-13T13:29:49.146Z"
   },
   {
    "duration": 398,
    "start_time": "2022-11-13T13:30:21.903Z"
   },
   {
    "duration": 712,
    "start_time": "2022-11-13T13:34:03.643Z"
   },
   {
    "duration": 338,
    "start_time": "2022-11-13T13:34:04.357Z"
   },
   {
    "duration": 1841,
    "start_time": "2022-11-13T13:34:04.697Z"
   },
   {
    "duration": 9,
    "start_time": "2022-11-13T13:34:06.545Z"
   },
   {
    "duration": 25,
    "start_time": "2022-11-13T13:34:06.555Z"
   },
   {
    "duration": 7,
    "start_time": "2022-11-13T13:34:06.582Z"
   },
   {
    "duration": 86,
    "start_time": "2022-11-13T13:34:06.590Z"
   },
   {
    "duration": 6,
    "start_time": "2022-11-13T13:34:06.678Z"
   },
   {
    "duration": 9,
    "start_time": "2022-11-13T13:34:06.686Z"
   },
   {
    "duration": 387,
    "start_time": "2022-11-13T13:34:06.697Z"
   },
   {
    "duration": 228,
    "start_time": "2022-11-13T13:34:07.086Z"
   },
   {
    "duration": 306,
    "start_time": "2022-11-13T13:34:07.316Z"
   },
   {
    "duration": 244,
    "start_time": "2022-11-13T13:34:07.624Z"
   },
   {
    "duration": 239,
    "start_time": "2022-11-13T13:34:07.870Z"
   },
   {
    "duration": 173,
    "start_time": "2022-11-13T13:34:08.111Z"
   },
   {
    "duration": 198,
    "start_time": "2022-11-13T13:34:08.286Z"
   },
   {
    "duration": 185,
    "start_time": "2022-11-13T13:34:08.486Z"
   },
   {
    "duration": 135,
    "start_time": "2022-11-13T13:34:08.673Z"
   },
   {
    "duration": 362,
    "start_time": "2022-11-13T13:34:08.810Z"
   },
   {
    "duration": 264,
    "start_time": "2022-11-13T13:34:09.173Z"
   },
   {
    "duration": 257,
    "start_time": "2022-11-13T13:34:09.440Z"
   },
   {
    "duration": 284,
    "start_time": "2022-11-13T13:34:09.699Z"
   },
   {
    "duration": 224,
    "start_time": "2022-11-13T13:34:09.985Z"
   },
   {
    "duration": 201,
    "start_time": "2022-11-13T13:34:10.211Z"
   },
   {
    "duration": 44,
    "start_time": "2022-11-13T13:35:56.314Z"
   },
   {
    "duration": 228,
    "start_time": "2022-11-13T13:37:19.774Z"
   },
   {
    "duration": 340,
    "start_time": "2022-11-13T13:39:20.743Z"
   },
   {
    "duration": 261,
    "start_time": "2022-11-13T13:39:35.755Z"
   },
   {
    "duration": 273,
    "start_time": "2022-11-13T13:40:06.944Z"
   },
   {
    "duration": 713,
    "start_time": "2022-11-13T13:40:27.162Z"
   },
   {
    "duration": 319,
    "start_time": "2022-11-13T13:40:27.877Z"
   },
   {
    "duration": 2059,
    "start_time": "2022-11-13T13:40:28.198Z"
   },
   {
    "duration": 10,
    "start_time": "2022-11-13T13:40:30.260Z"
   },
   {
    "duration": 43,
    "start_time": "2022-11-13T13:40:30.272Z"
   },
   {
    "duration": 27,
    "start_time": "2022-11-13T13:40:30.317Z"
   },
   {
    "duration": 108,
    "start_time": "2022-11-13T13:40:30.346Z"
   },
   {
    "duration": 8,
    "start_time": "2022-11-13T13:40:30.456Z"
   },
   {
    "duration": 26,
    "start_time": "2022-11-13T13:40:30.466Z"
   },
   {
    "duration": 415,
    "start_time": "2022-11-13T13:40:30.495Z"
   },
   {
    "duration": 269,
    "start_time": "2022-11-13T13:40:30.912Z"
   },
   {
    "duration": 349,
    "start_time": "2022-11-13T13:40:31.182Z"
   },
   {
    "duration": 271,
    "start_time": "2022-11-13T13:40:31.532Z"
   },
   {
    "duration": 303,
    "start_time": "2022-11-13T13:40:31.805Z"
   },
   {
    "duration": 189,
    "start_time": "2022-11-13T13:40:32.111Z"
   },
   {
    "duration": 200,
    "start_time": "2022-11-13T13:40:32.301Z"
   },
   {
    "duration": 184,
    "start_time": "2022-11-13T13:40:32.502Z"
   },
   {
    "duration": 152,
    "start_time": "2022-11-13T13:40:32.687Z"
   },
   {
    "duration": 364,
    "start_time": "2022-11-13T13:40:32.840Z"
   },
   {
    "duration": 274,
    "start_time": "2022-11-13T13:40:33.205Z"
   },
   {
    "duration": 279,
    "start_time": "2022-11-13T13:40:33.481Z"
   },
   {
    "duration": 245,
    "start_time": "2022-11-13T13:40:33.762Z"
   },
   {
    "duration": 202,
    "start_time": "2022-11-13T13:40:34.009Z"
   },
   {
    "duration": 188,
    "start_time": "2022-11-13T13:40:34.213Z"
   },
   {
    "duration": 265,
    "start_time": "2022-11-13T13:41:50.043Z"
   },
   {
    "duration": 364,
    "start_time": "2022-11-13T13:42:49.739Z"
   },
   {
    "duration": 213,
    "start_time": "2022-11-13T13:45:40.533Z"
   },
   {
    "duration": 217,
    "start_time": "2022-11-13T13:46:27.085Z"
   },
   {
    "duration": 15,
    "start_time": "2022-11-13T14:11:59.183Z"
   },
   {
    "duration": 44,
    "start_time": "2022-11-13T14:12:16.307Z"
   },
   {
    "duration": 70,
    "start_time": "2022-11-13T14:13:23.457Z"
   },
   {
    "duration": 195,
    "start_time": "2022-11-13T14:13:30.646Z"
   },
   {
    "duration": 202,
    "start_time": "2022-11-13T14:14:21.610Z"
   },
   {
    "duration": 203,
    "start_time": "2022-11-13T14:15:49.032Z"
   },
   {
    "duration": 178,
    "start_time": "2022-11-13T14:16:05.225Z"
   },
   {
    "duration": 131,
    "start_time": "2022-11-13T14:21:16.741Z"
   },
   {
    "duration": 261,
    "start_time": "2022-11-13T14:23:24.375Z"
   },
   {
    "duration": 184,
    "start_time": "2022-11-13T14:23:46.757Z"
   },
   {
    "duration": 745,
    "start_time": "2022-11-13T14:29:21.996Z"
   },
   {
    "duration": 329,
    "start_time": "2022-11-13T14:29:22.743Z"
   },
   {
    "duration": 2063,
    "start_time": "2022-11-13T14:29:23.074Z"
   },
   {
    "duration": 13,
    "start_time": "2022-11-13T14:29:25.145Z"
   },
   {
    "duration": 27,
    "start_time": "2022-11-13T14:29:25.160Z"
   },
   {
    "duration": 13,
    "start_time": "2022-11-13T14:29:25.189Z"
   },
   {
    "duration": 88,
    "start_time": "2022-11-13T14:29:25.204Z"
   },
   {
    "duration": 7,
    "start_time": "2022-11-13T14:29:25.294Z"
   },
   {
    "duration": 12,
    "start_time": "2022-11-13T14:29:25.303Z"
   },
   {
    "duration": 375,
    "start_time": "2022-11-13T14:29:25.318Z"
   },
   {
    "duration": 248,
    "start_time": "2022-11-13T14:29:25.695Z"
   },
   {
    "duration": 300,
    "start_time": "2022-11-13T14:29:25.945Z"
   },
   {
    "duration": 253,
    "start_time": "2022-11-13T14:29:26.247Z"
   },
   {
    "duration": 259,
    "start_time": "2022-11-13T14:29:26.502Z"
   },
   {
    "duration": 181,
    "start_time": "2022-11-13T14:29:26.763Z"
   },
   {
    "duration": 194,
    "start_time": "2022-11-13T14:29:26.945Z"
   },
   {
    "duration": 188,
    "start_time": "2022-11-13T14:29:27.146Z"
   },
   {
    "duration": 142,
    "start_time": "2022-11-13T14:29:27.335Z"
   },
   {
    "duration": 363,
    "start_time": "2022-11-13T14:29:27.478Z"
   },
   {
    "duration": 269,
    "start_time": "2022-11-13T14:29:27.842Z"
   },
   {
    "duration": 253,
    "start_time": "2022-11-13T14:29:28.113Z"
   },
   {
    "duration": 260,
    "start_time": "2022-11-13T14:29:28.368Z"
   },
   {
    "duration": 206,
    "start_time": "2022-11-13T14:29:28.629Z"
   },
   {
    "duration": 196,
    "start_time": "2022-11-13T14:29:28.837Z"
   },
   {
    "duration": 219,
    "start_time": "2022-11-13T14:29:29.035Z"
   },
   {
    "duration": 42,
    "start_time": "2022-11-13T14:29:29.256Z"
   },
   {
    "duration": 13,
    "start_time": "2022-11-13T14:29:29.300Z"
   },
   {
    "duration": 213,
    "start_time": "2022-11-13T14:29:29.316Z"
   },
   {
    "duration": 295,
    "start_time": "2022-11-13T14:29:29.530Z"
   },
   {
    "duration": 202,
    "start_time": "2022-11-13T14:29:29.827Z"
   },
   {
    "duration": 219,
    "start_time": "2022-11-13T14:29:30.031Z"
   },
   {
    "duration": 597,
    "start_time": "2022-11-13T14:29:30.252Z"
   },
   {
    "duration": 0,
    "start_time": "2022-11-13T14:29:30.851Z"
   },
   {
    "duration": 0,
    "start_time": "2022-11-13T14:29:30.852Z"
   },
   {
    "duration": 1,
    "start_time": "2022-11-13T14:29:30.853Z"
   },
   {
    "duration": 10,
    "start_time": "2022-11-13T14:31:02.529Z"
   },
   {
    "duration": 201,
    "start_time": "2022-11-13T14:31:21.839Z"
   },
   {
    "duration": 253,
    "start_time": "2022-11-13T14:31:31.682Z"
   },
   {
    "duration": 169,
    "start_time": "2022-11-13T14:34:34.235Z"
   },
   {
    "duration": 161,
    "start_time": "2022-11-13T14:34:54.386Z"
   },
   {
    "duration": 256,
    "start_time": "2022-11-13T14:35:16.732Z"
   },
   {
    "duration": 169,
    "start_time": "2022-11-13T14:35:58.171Z"
   },
   {
    "duration": 159,
    "start_time": "2022-11-13T14:36:22.324Z"
   },
   {
    "duration": 193,
    "start_time": "2022-11-13T14:36:46.068Z"
   },
   {
    "duration": 403,
    "start_time": "2022-11-13T14:38:01.683Z"
   },
   {
    "duration": 46,
    "start_time": "2022-11-13T14:39:34.034Z"
   },
   {
    "duration": 46,
    "start_time": "2022-11-13T14:39:48.595Z"
   },
   {
    "duration": 199,
    "start_time": "2022-11-13T14:40:02.078Z"
   },
   {
    "duration": 63,
    "start_time": "2022-11-13T14:40:09.557Z"
   },
   {
    "duration": 193,
    "start_time": "2022-11-13T14:41:03.060Z"
   },
   {
    "duration": 194,
    "start_time": "2022-11-13T14:41:15.393Z"
   },
   {
    "duration": 197,
    "start_time": "2022-11-13T14:41:42.462Z"
   },
   {
    "duration": 177,
    "start_time": "2022-11-13T14:44:02.730Z"
   },
   {
    "duration": 244,
    "start_time": "2022-11-13T14:45:10.199Z"
   },
   {
    "duration": 234,
    "start_time": "2022-11-13T14:45:37.454Z"
   },
   {
    "duration": 199,
    "start_time": "2022-11-13T14:47:08.605Z"
   },
   {
    "duration": 176,
    "start_time": "2022-11-13T14:48:04.989Z"
   },
   {
    "duration": 208,
    "start_time": "2022-11-13T14:48:34.970Z"
   },
   {
    "duration": 215,
    "start_time": "2022-11-13T14:49:17.462Z"
   },
   {
    "duration": 161,
    "start_time": "2022-11-13T14:50:01.661Z"
   },
   {
    "duration": 14,
    "start_time": "2022-11-13T14:55:52.963Z"
   },
   {
    "duration": 13,
    "start_time": "2022-11-13T14:56:07.656Z"
   },
   {
    "duration": 9,
    "start_time": "2022-11-13T14:56:39.639Z"
   },
   {
    "duration": 12,
    "start_time": "2022-11-13T14:57:36.545Z"
   },
   {
    "duration": 392,
    "start_time": "2022-11-13T14:57:51.153Z"
   },
   {
    "duration": 1042,
    "start_time": "2022-11-13T14:58:33.899Z"
   },
   {
    "duration": 173,
    "start_time": "2022-11-13T14:59:24.596Z"
   },
   {
    "duration": 188,
    "start_time": "2022-11-13T15:00:18.467Z"
   },
   {
    "duration": 162,
    "start_time": "2022-11-13T15:01:27.093Z"
   },
   {
    "duration": 185,
    "start_time": "2022-11-13T15:02:15.297Z"
   },
   {
    "duration": 283,
    "start_time": "2022-11-13T15:03:27.001Z"
   },
   {
    "duration": 291,
    "start_time": "2022-11-13T15:04:00.873Z"
   },
   {
    "duration": 286,
    "start_time": "2022-11-13T15:05:40.209Z"
   },
   {
    "duration": 711,
    "start_time": "2022-11-13T15:07:47.063Z"
   },
   {
    "duration": 413,
    "start_time": "2022-11-13T15:07:47.776Z"
   },
   {
    "duration": 2233,
    "start_time": "2022-11-13T15:07:48.191Z"
   },
   {
    "duration": 20,
    "start_time": "2022-11-13T15:07:50.426Z"
   },
   {
    "duration": 34,
    "start_time": "2022-11-13T15:07:50.447Z"
   },
   {
    "duration": 10,
    "start_time": "2022-11-13T15:07:50.483Z"
   },
   {
    "duration": 126,
    "start_time": "2022-11-13T15:07:50.495Z"
   },
   {
    "duration": 8,
    "start_time": "2022-11-13T15:07:50.623Z"
   },
   {
    "duration": 25,
    "start_time": "2022-11-13T15:07:50.633Z"
   },
   {
    "duration": 477,
    "start_time": "2022-11-13T15:07:50.662Z"
   },
   {
    "duration": 349,
    "start_time": "2022-11-13T15:07:51.141Z"
   },
   {
    "duration": 368,
    "start_time": "2022-11-13T15:07:51.492Z"
   },
   {
    "duration": 392,
    "start_time": "2022-11-13T15:07:51.862Z"
   },
   {
    "duration": 313,
    "start_time": "2022-11-13T15:07:52.256Z"
   },
   {
    "duration": 251,
    "start_time": "2022-11-13T15:07:52.571Z"
   },
   {
    "duration": 303,
    "start_time": "2022-11-13T15:07:52.825Z"
   },
   {
    "duration": 282,
    "start_time": "2022-11-13T15:07:53.130Z"
   },
   {
    "duration": 176,
    "start_time": "2022-11-13T15:07:53.413Z"
   },
   {
    "duration": 391,
    "start_time": "2022-11-13T15:07:53.591Z"
   },
   {
    "duration": 398,
    "start_time": "2022-11-13T15:07:53.984Z"
   },
   {
    "duration": 340,
    "start_time": "2022-11-13T15:07:54.384Z"
   },
   {
    "duration": 391,
    "start_time": "2022-11-13T15:07:54.727Z"
   },
   {
    "duration": 264,
    "start_time": "2022-11-13T15:07:55.120Z"
   },
   {
    "duration": 285,
    "start_time": "2022-11-13T15:07:55.386Z"
   },
   {
    "duration": 332,
    "start_time": "2022-11-13T15:07:55.673Z"
   },
   {
    "duration": 76,
    "start_time": "2022-11-13T15:07:56.008Z"
   },
   {
    "duration": 20,
    "start_time": "2022-11-13T15:07:56.086Z"
   },
   {
    "duration": 261,
    "start_time": "2022-11-13T15:07:56.111Z"
   },
   {
    "duration": 332,
    "start_time": "2022-11-13T15:07:56.374Z"
   },
   {
    "duration": 301,
    "start_time": "2022-11-13T15:07:56.708Z"
   },
   {
    "duration": 324,
    "start_time": "2022-11-13T15:07:57.012Z"
   },
   {
    "duration": 666,
    "start_time": "2022-11-13T15:07:57.338Z"
   },
   {
    "duration": 0,
    "start_time": "2022-11-13T15:07:58.007Z"
   },
   {
    "duration": 0,
    "start_time": "2022-11-13T15:07:58.009Z"
   },
   {
    "duration": 0,
    "start_time": "2022-11-13T15:07:58.010Z"
   },
   {
    "duration": 229,
    "start_time": "2022-11-13T15:08:44.746Z"
   },
   {
    "duration": 755,
    "start_time": "2022-11-13T15:29:39.571Z"
   },
   {
    "duration": 10,
    "start_time": "2022-11-13T15:34:32.162Z"
   },
   {
    "duration": 494,
    "start_time": "2022-11-13T15:34:51.843Z"
   },
   {
    "duration": 703,
    "start_time": "2022-11-13T15:36:10.105Z"
   },
   {
    "duration": 340,
    "start_time": "2022-11-13T15:36:10.810Z"
   },
   {
    "duration": 2036,
    "start_time": "2022-11-13T15:36:11.152Z"
   },
   {
    "duration": 9,
    "start_time": "2022-11-13T15:36:13.190Z"
   },
   {
    "duration": 26,
    "start_time": "2022-11-13T15:36:13.200Z"
   },
   {
    "duration": 38,
    "start_time": "2022-11-13T15:36:13.227Z"
   },
   {
    "duration": 87,
    "start_time": "2022-11-13T15:36:13.271Z"
   },
   {
    "duration": 7,
    "start_time": "2022-11-13T15:36:13.360Z"
   },
   {
    "duration": 9,
    "start_time": "2022-11-13T15:36:13.369Z"
   },
   {
    "duration": 391,
    "start_time": "2022-11-13T15:36:13.381Z"
   },
   {
    "duration": 263,
    "start_time": "2022-11-13T15:36:13.774Z"
   },
   {
    "duration": 327,
    "start_time": "2022-11-13T15:36:14.038Z"
   },
   {
    "duration": 323,
    "start_time": "2022-11-13T15:36:14.366Z"
   },
   {
    "duration": 284,
    "start_time": "2022-11-13T15:36:14.691Z"
   },
   {
    "duration": 190,
    "start_time": "2022-11-13T15:36:14.977Z"
   },
   {
    "duration": 219,
    "start_time": "2022-11-13T15:36:15.169Z"
   },
   {
    "duration": 233,
    "start_time": "2022-11-13T15:36:15.390Z"
   },
   {
    "duration": 181,
    "start_time": "2022-11-13T15:36:15.625Z"
   },
   {
    "duration": 393,
    "start_time": "2022-11-13T15:36:15.808Z"
   },
   {
    "duration": 281,
    "start_time": "2022-11-13T15:36:16.204Z"
   },
   {
    "duration": 263,
    "start_time": "2022-11-13T15:36:16.487Z"
   },
   {
    "duration": 247,
    "start_time": "2022-11-13T15:36:16.761Z"
   },
   {
    "duration": 195,
    "start_time": "2022-11-13T15:36:17.009Z"
   },
   {
    "duration": 184,
    "start_time": "2022-11-13T15:36:17.206Z"
   },
   {
    "duration": 224,
    "start_time": "2022-11-13T15:36:17.392Z"
   },
   {
    "duration": 51,
    "start_time": "2022-11-13T15:36:17.618Z"
   },
   {
    "duration": 15,
    "start_time": "2022-11-13T15:36:17.670Z"
   },
   {
    "duration": 216,
    "start_time": "2022-11-13T15:36:17.688Z"
   },
   {
    "duration": 323,
    "start_time": "2022-11-13T15:36:17.906Z"
   },
   {
    "duration": 213,
    "start_time": "2022-11-13T15:36:18.230Z"
   },
   {
    "duration": 221,
    "start_time": "2022-11-13T15:36:18.444Z"
   },
   {
    "duration": 630,
    "start_time": "2022-11-13T15:36:18.666Z"
   },
   {
    "duration": 0,
    "start_time": "2022-11-13T15:36:19.298Z"
   },
   {
    "duration": 0,
    "start_time": "2022-11-13T15:36:19.300Z"
   },
   {
    "duration": 0,
    "start_time": "2022-11-13T15:36:19.301Z"
   },
   {
    "duration": 479,
    "start_time": "2022-11-13T15:37:04.589Z"
   },
   {
    "duration": 16,
    "start_time": "2022-11-13T15:37:53.719Z"
   },
   {
    "duration": 762,
    "start_time": "2022-11-13T15:38:16.170Z"
   },
   {
    "duration": 356,
    "start_time": "2022-11-13T15:38:16.934Z"
   },
   {
    "duration": 2052,
    "start_time": "2022-11-13T15:38:17.291Z"
   },
   {
    "duration": 15,
    "start_time": "2022-11-13T15:38:19.347Z"
   },
   {
    "duration": 36,
    "start_time": "2022-11-13T15:38:19.363Z"
   },
   {
    "duration": 14,
    "start_time": "2022-11-13T15:38:19.401Z"
   },
   {
    "duration": 10,
    "start_time": "2022-11-13T15:38:19.416Z"
   },
   {
    "duration": 70,
    "start_time": "2022-11-13T15:38:19.450Z"
   },
   {
    "duration": 6,
    "start_time": "2022-11-13T15:38:19.522Z"
   },
   {
    "duration": 30,
    "start_time": "2022-11-13T15:38:19.531Z"
   },
   {
    "duration": 371,
    "start_time": "2022-11-13T15:38:19.563Z"
   },
   {
    "duration": 262,
    "start_time": "2022-11-13T15:38:19.935Z"
   },
   {
    "duration": 392,
    "start_time": "2022-11-13T15:38:20.198Z"
   },
   {
    "duration": 275,
    "start_time": "2022-11-13T15:38:20.592Z"
   },
   {
    "duration": 298,
    "start_time": "2022-11-13T15:38:20.869Z"
   },
   {
    "duration": 197,
    "start_time": "2022-11-13T15:38:21.168Z"
   },
   {
    "duration": 202,
    "start_time": "2022-11-13T15:38:21.366Z"
   },
   {
    "duration": 201,
    "start_time": "2022-11-13T15:38:21.569Z"
   },
   {
    "duration": 154,
    "start_time": "2022-11-13T15:38:21.771Z"
   },
   {
    "duration": 387,
    "start_time": "2022-11-13T15:38:21.927Z"
   },
   {
    "duration": 267,
    "start_time": "2022-11-13T15:38:22.316Z"
   },
   {
    "duration": 242,
    "start_time": "2022-11-13T15:38:22.585Z"
   },
   {
    "duration": 247,
    "start_time": "2022-11-13T15:38:22.829Z"
   },
   {
    "duration": 194,
    "start_time": "2022-11-13T15:38:23.078Z"
   },
   {
    "duration": 194,
    "start_time": "2022-11-13T15:38:23.274Z"
   },
   {
    "duration": 221,
    "start_time": "2022-11-13T15:38:23.470Z"
   },
   {
    "duration": 38,
    "start_time": "2022-11-13T15:38:23.692Z"
   },
   {
    "duration": 20,
    "start_time": "2022-11-13T15:38:23.746Z"
   },
   {
    "duration": 212,
    "start_time": "2022-11-13T15:38:23.768Z"
   },
   {
    "duration": 318,
    "start_time": "2022-11-13T15:38:23.982Z"
   },
   {
    "duration": 225,
    "start_time": "2022-11-13T15:38:24.302Z"
   },
   {
    "duration": 311,
    "start_time": "2022-11-13T15:38:24.530Z"
   },
   {
    "duration": 587,
    "start_time": "2022-11-13T15:38:24.843Z"
   },
   {
    "duration": 0,
    "start_time": "2022-11-13T15:38:25.432Z"
   },
   {
    "duration": 0,
    "start_time": "2022-11-13T15:38:25.433Z"
   },
   {
    "duration": 0,
    "start_time": "2022-11-13T15:38:25.434Z"
   },
   {
    "duration": 213,
    "start_time": "2022-11-13T15:38:58.253Z"
   },
   {
    "duration": 53,
    "start_time": "2022-11-13T15:40:24.198Z"
   },
   {
    "duration": 176,
    "start_time": "2022-11-13T15:40:43.543Z"
   },
   {
    "duration": 187,
    "start_time": "2022-11-13T15:40:59.325Z"
   },
   {
    "duration": 206,
    "start_time": "2022-11-13T15:41:10.605Z"
   },
   {
    "duration": 162,
    "start_time": "2022-11-13T15:41:45.370Z"
   },
   {
    "duration": 215,
    "start_time": "2022-11-13T15:42:01.691Z"
   },
   {
    "duration": 215,
    "start_time": "2022-11-13T15:42:23.291Z"
   },
   {
    "duration": 226,
    "start_time": "2022-11-13T15:42:49.007Z"
   },
   {
    "duration": 192,
    "start_time": "2022-11-13T15:42:52.698Z"
   },
   {
    "duration": 209,
    "start_time": "2022-11-13T15:46:38.358Z"
   },
   {
    "duration": 298,
    "start_time": "2022-11-13T15:47:15.761Z"
   },
   {
    "duration": 201,
    "start_time": "2022-11-13T15:47:46.059Z"
   },
   {
    "duration": 11,
    "start_time": "2022-11-13T15:54:37.791Z"
   },
   {
    "duration": 247,
    "start_time": "2022-11-13T15:55:52.226Z"
   },
   {
    "duration": 940,
    "start_time": "2022-11-13T15:56:24.466Z"
   },
   {
    "duration": 196,
    "start_time": "2022-11-13T15:56:34.034Z"
   },
   {
    "duration": 167,
    "start_time": "2022-11-13T15:56:43.202Z"
   },
   {
    "duration": 143,
    "start_time": "2022-11-13T15:57:46.070Z"
   },
   {
    "duration": 150,
    "start_time": "2022-11-13T15:57:59.977Z"
   },
   {
    "duration": 148,
    "start_time": "2022-11-13T16:05:51.983Z"
   },
   {
    "duration": 147,
    "start_time": "2022-11-13T16:06:27.831Z"
   },
   {
    "duration": 145,
    "start_time": "2022-11-13T16:06:56.684Z"
   },
   {
    "duration": 3,
    "start_time": "2022-11-13T16:09:22.414Z"
   },
   {
    "duration": 152,
    "start_time": "2022-11-13T16:09:27.537Z"
   },
   {
    "duration": 10,
    "start_time": "2022-11-13T16:09:33.182Z"
   },
   {
    "duration": 8,
    "start_time": "2022-11-13T16:13:11.505Z"
   },
   {
    "duration": 20,
    "start_time": "2022-11-13T16:13:19.153Z"
   },
   {
    "duration": 12,
    "start_time": "2022-11-13T16:13:32.187Z"
   },
   {
    "duration": 13,
    "start_time": "2022-11-13T16:14:31.058Z"
   },
   {
    "duration": 161,
    "start_time": "2022-11-13T16:15:35.814Z"
   },
   {
    "duration": 157,
    "start_time": "2022-11-13T16:16:06.650Z"
   },
   {
    "duration": 143,
    "start_time": "2022-11-13T16:16:40.753Z"
   },
   {
    "duration": 258,
    "start_time": "2022-11-13T16:16:56.240Z"
   },
   {
    "duration": 45,
    "start_time": "2022-11-14T02:01:38.565Z"
   },
   {
    "duration": 1012,
    "start_time": "2022-11-14T02:01:47.778Z"
   },
   {
    "duration": 300,
    "start_time": "2022-11-14T02:01:48.792Z"
   },
   {
    "duration": 1769,
    "start_time": "2022-11-14T02:01:49.094Z"
   },
   {
    "duration": 11,
    "start_time": "2022-11-14T02:01:50.866Z"
   },
   {
    "duration": 23,
    "start_time": "2022-11-14T02:01:50.879Z"
   },
   {
    "duration": 15,
    "start_time": "2022-11-14T02:01:50.903Z"
   },
   {
    "duration": 8,
    "start_time": "2022-11-14T02:01:50.948Z"
   },
   {
    "duration": 60,
    "start_time": "2022-11-14T02:01:50.957Z"
   },
   {
    "duration": 6,
    "start_time": "2022-11-14T02:01:51.018Z"
   },
   {
    "duration": 10,
    "start_time": "2022-11-14T02:01:51.048Z"
   },
   {
    "duration": 355,
    "start_time": "2022-11-14T02:01:51.059Z"
   },
   {
    "duration": 238,
    "start_time": "2022-11-14T02:01:51.416Z"
   },
   {
    "duration": 289,
    "start_time": "2022-11-14T02:01:51.656Z"
   },
   {
    "duration": 225,
    "start_time": "2022-11-14T02:01:51.946Z"
   },
   {
    "duration": 230,
    "start_time": "2022-11-14T02:01:52.172Z"
   },
   {
    "duration": 156,
    "start_time": "2022-11-14T02:01:52.403Z"
   },
   {
    "duration": 179,
    "start_time": "2022-11-14T02:01:52.561Z"
   },
   {
    "duration": 167,
    "start_time": "2022-11-14T02:01:52.742Z"
   },
   {
    "duration": 128,
    "start_time": "2022-11-14T02:01:52.911Z"
   },
   {
    "duration": 328,
    "start_time": "2022-11-14T02:01:53.040Z"
   },
   {
    "duration": 230,
    "start_time": "2022-11-14T02:01:53.370Z"
   },
   {
    "duration": 215,
    "start_time": "2022-11-14T02:01:53.602Z"
   },
   {
    "duration": 226,
    "start_time": "2022-11-14T02:01:53.819Z"
   },
   {
    "duration": 175,
    "start_time": "2022-11-14T02:01:54.047Z"
   },
   {
    "duration": 175,
    "start_time": "2022-11-14T02:01:54.223Z"
   },
   {
    "duration": 201,
    "start_time": "2022-11-14T02:01:54.399Z"
   },
   {
    "duration": 52,
    "start_time": "2022-11-14T02:01:54.601Z"
   },
   {
    "duration": 204,
    "start_time": "2022-11-14T02:01:54.656Z"
   },
   {
    "duration": 287,
    "start_time": "2022-11-14T02:01:54.862Z"
   },
   {
    "duration": 223,
    "start_time": "2022-11-14T02:01:55.151Z"
   },
   {
    "duration": 184,
    "start_time": "2022-11-14T02:01:55.375Z"
   },
   {
    "duration": 189,
    "start_time": "2022-11-14T02:01:55.561Z"
   },
   {
    "duration": 150,
    "start_time": "2022-11-14T02:01:55.751Z"
   },
   {
    "duration": 148,
    "start_time": "2022-11-14T02:01:55.902Z"
   },
   {
    "duration": 138,
    "start_time": "2022-11-14T02:01:56.051Z"
   },
   {
    "duration": 11,
    "start_time": "2022-11-14T02:01:56.191Z"
   },
   {
    "duration": 145,
    "start_time": "2022-11-14T02:01:56.203Z"
   },
   {
    "duration": 208,
    "start_time": "2022-11-14T02:02:55.818Z"
   },
   {
    "duration": 338,
    "start_time": "2022-11-14T02:06:31.929Z"
   },
   {
    "duration": 201,
    "start_time": "2022-11-14T02:06:41.604Z"
   },
   {
    "duration": 196,
    "start_time": "2022-11-14T02:06:46.915Z"
   },
   {
    "duration": 239,
    "start_time": "2022-11-14T02:10:04.366Z"
   },
   {
    "duration": 137,
    "start_time": "2022-11-14T02:42:40.869Z"
   },
   {
    "duration": 147,
    "start_time": "2022-11-14T02:42:52.964Z"
   },
   {
    "duration": 154,
    "start_time": "2022-11-14T02:45:02.557Z"
   },
   {
    "duration": 150,
    "start_time": "2022-11-14T02:48:22.656Z"
   },
   {
    "duration": 741,
    "start_time": "2022-11-14T02:52:34.322Z"
   },
   {
    "duration": 364,
    "start_time": "2022-11-14T02:52:35.067Z"
   },
   {
    "duration": 1871,
    "start_time": "2022-11-14T02:52:35.449Z"
   },
   {
    "duration": 11,
    "start_time": "2022-11-14T02:52:37.323Z"
   },
   {
    "duration": 30,
    "start_time": "2022-11-14T02:52:37.351Z"
   },
   {
    "duration": 12,
    "start_time": "2022-11-14T02:52:37.383Z"
   },
   {
    "duration": 8,
    "start_time": "2022-11-14T02:52:37.396Z"
   },
   {
    "duration": 92,
    "start_time": "2022-11-14T02:52:37.405Z"
   },
   {
    "duration": 7,
    "start_time": "2022-11-14T02:52:37.499Z"
   },
   {
    "duration": 10,
    "start_time": "2022-11-14T02:52:37.508Z"
   },
   {
    "duration": 350,
    "start_time": "2022-11-14T02:52:37.520Z"
   },
   {
    "duration": 248,
    "start_time": "2022-11-14T02:52:37.872Z"
   },
   {
    "duration": 305,
    "start_time": "2022-11-14T02:52:38.122Z"
   },
   {
    "duration": 253,
    "start_time": "2022-11-14T02:52:38.428Z"
   },
   {
    "duration": 255,
    "start_time": "2022-11-14T02:52:38.683Z"
   },
   {
    "duration": 172,
    "start_time": "2022-11-14T02:52:38.939Z"
   },
   {
    "duration": 201,
    "start_time": "2022-11-14T02:52:39.113Z"
   },
   {
    "duration": 180,
    "start_time": "2022-11-14T02:52:39.315Z"
   },
   {
    "duration": 129,
    "start_time": "2022-11-14T02:52:39.496Z"
   },
   {
    "duration": 352,
    "start_time": "2022-11-14T02:52:39.626Z"
   },
   {
    "duration": 255,
    "start_time": "2022-11-14T02:52:39.980Z"
   },
   {
    "duration": 234,
    "start_time": "2022-11-14T02:52:40.237Z"
   },
   {
    "duration": 228,
    "start_time": "2022-11-14T02:52:40.473Z"
   },
   {
    "duration": 180,
    "start_time": "2022-11-14T02:52:40.703Z"
   },
   {
    "duration": 183,
    "start_time": "2022-11-14T02:52:40.884Z"
   },
   {
    "duration": 202,
    "start_time": "2022-11-14T02:52:41.069Z"
   },
   {
    "duration": 210,
    "start_time": "2022-11-14T02:52:41.272Z"
   },
   {
    "duration": 329,
    "start_time": "2022-11-14T02:52:41.486Z"
   },
   {
    "duration": 189,
    "start_time": "2022-11-14T02:52:41.817Z"
   },
   {
    "duration": 199,
    "start_time": "2022-11-14T02:52:42.008Z"
   },
   {
    "duration": 217,
    "start_time": "2022-11-14T02:52:42.209Z"
   },
   {
    "duration": 171,
    "start_time": "2022-11-14T02:52:42.427Z"
   },
   {
    "duration": 158,
    "start_time": "2022-11-14T02:52:42.600Z"
   },
   {
    "duration": 151,
    "start_time": "2022-11-14T02:52:42.760Z"
   },
   {
    "duration": 11,
    "start_time": "2022-11-14T02:52:42.913Z"
   },
   {
    "duration": 157,
    "start_time": "2022-11-14T02:52:42.925Z"
   },
   {
    "duration": 688,
    "start_time": "2022-11-14T03:15:51.689Z"
   },
   {
    "duration": 316,
    "start_time": "2022-11-14T03:15:52.379Z"
   },
   {
    "duration": 1960,
    "start_time": "2022-11-14T03:15:52.697Z"
   },
   {
    "duration": 22,
    "start_time": "2022-11-14T03:15:54.660Z"
   },
   {
    "duration": 27,
    "start_time": "2022-11-14T03:15:54.687Z"
   },
   {
    "duration": 12,
    "start_time": "2022-11-14T03:15:54.715Z"
   },
   {
    "duration": 12,
    "start_time": "2022-11-14T03:15:54.729Z"
   },
   {
    "duration": 111,
    "start_time": "2022-11-14T03:15:54.743Z"
   },
   {
    "duration": 15,
    "start_time": "2022-11-14T03:15:54.862Z"
   },
   {
    "duration": 17,
    "start_time": "2022-11-14T03:15:54.880Z"
   },
   {
    "duration": 395,
    "start_time": "2022-11-14T03:15:54.899Z"
   },
   {
    "duration": 294,
    "start_time": "2022-11-14T03:15:55.295Z"
   },
   {
    "duration": 301,
    "start_time": "2022-11-14T03:15:55.591Z"
   },
   {
    "duration": 251,
    "start_time": "2022-11-14T03:15:55.893Z"
   },
   {
    "duration": 283,
    "start_time": "2022-11-14T03:15:56.146Z"
   },
   {
    "duration": 184,
    "start_time": "2022-11-14T03:15:56.431Z"
   },
   {
    "duration": 194,
    "start_time": "2022-11-14T03:15:56.617Z"
   },
   {
    "duration": 179,
    "start_time": "2022-11-14T03:15:56.813Z"
   },
   {
    "duration": 136,
    "start_time": "2022-11-14T03:15:56.994Z"
   },
   {
    "duration": 404,
    "start_time": "2022-11-14T03:15:57.132Z"
   },
   {
    "duration": 259,
    "start_time": "2022-11-14T03:15:57.538Z"
   },
   {
    "duration": 245,
    "start_time": "2022-11-14T03:15:57.799Z"
   },
   {
    "duration": 282,
    "start_time": "2022-11-14T03:15:58.048Z"
   },
   {
    "duration": 191,
    "start_time": "2022-11-14T03:15:58.331Z"
   },
   {
    "duration": 189,
    "start_time": "2022-11-14T03:15:58.523Z"
   },
   {
    "duration": 215,
    "start_time": "2022-11-14T03:15:58.713Z"
   },
   {
    "duration": 212,
    "start_time": "2022-11-14T03:15:58.929Z"
   },
   {
    "duration": 316,
    "start_time": "2022-11-14T03:15:59.150Z"
   },
   {
    "duration": 211,
    "start_time": "2022-11-14T03:15:59.471Z"
   },
   {
    "duration": 206,
    "start_time": "2022-11-14T03:15:59.684Z"
   },
   {
    "duration": 214,
    "start_time": "2022-11-14T03:15:59.892Z"
   },
   {
    "duration": 194,
    "start_time": "2022-11-14T03:16:00.107Z"
   },
   {
    "duration": 189,
    "start_time": "2022-11-14T03:16:00.303Z"
   },
   {
    "duration": 160,
    "start_time": "2022-11-14T03:16:00.494Z"
   },
   {
    "duration": 21,
    "start_time": "2022-11-14T03:16:00.656Z"
   },
   {
    "duration": 160,
    "start_time": "2022-11-14T03:16:00.678Z"
   },
   {
    "duration": 51,
    "start_time": "2022-11-14T14:02:48.686Z"
   },
   {
    "duration": 1080,
    "start_time": "2022-11-14T14:02:56.040Z"
   },
   {
    "duration": 308,
    "start_time": "2022-11-14T14:02:57.122Z"
   },
   {
    "duration": 2021,
    "start_time": "2022-11-14T14:02:57.432Z"
   },
   {
    "duration": 10,
    "start_time": "2022-11-14T14:02:59.456Z"
   },
   {
    "duration": 47,
    "start_time": "2022-11-14T14:02:59.468Z"
   },
   {
    "duration": 0,
    "start_time": "2022-11-14T14:02:59.517Z"
   },
   {
    "duration": 0,
    "start_time": "2022-11-14T14:02:59.519Z"
   },
   {
    "duration": 0,
    "start_time": "2022-11-14T14:02:59.521Z"
   },
   {
    "duration": 0,
    "start_time": "2022-11-14T14:02:59.522Z"
   },
   {
    "duration": 0,
    "start_time": "2022-11-14T14:02:59.524Z"
   },
   {
    "duration": 0,
    "start_time": "2022-11-14T14:02:59.526Z"
   },
   {
    "duration": 0,
    "start_time": "2022-11-14T14:02:59.527Z"
   },
   {
    "duration": 0,
    "start_time": "2022-11-14T14:02:59.529Z"
   },
   {
    "duration": 0,
    "start_time": "2022-11-14T14:02:59.530Z"
   },
   {
    "duration": 0,
    "start_time": "2022-11-14T14:02:59.531Z"
   },
   {
    "duration": 0,
    "start_time": "2022-11-14T14:02:59.533Z"
   },
   {
    "duration": 0,
    "start_time": "2022-11-14T14:02:59.534Z"
   },
   {
    "duration": 0,
    "start_time": "2022-11-14T14:02:59.536Z"
   },
   {
    "duration": 0,
    "start_time": "2022-11-14T14:02:59.537Z"
   },
   {
    "duration": 0,
    "start_time": "2022-11-14T14:02:59.539Z"
   },
   {
    "duration": 0,
    "start_time": "2022-11-14T14:02:59.540Z"
   },
   {
    "duration": 0,
    "start_time": "2022-11-14T14:02:59.542Z"
   },
   {
    "duration": 0,
    "start_time": "2022-11-14T14:02:59.543Z"
   },
   {
    "duration": 0,
    "start_time": "2022-11-14T14:02:59.545Z"
   },
   {
    "duration": 0,
    "start_time": "2022-11-14T14:02:59.547Z"
   },
   {
    "duration": 0,
    "start_time": "2022-11-14T14:02:59.548Z"
   },
   {
    "duration": 0,
    "start_time": "2022-11-14T14:02:59.549Z"
   },
   {
    "duration": 0,
    "start_time": "2022-11-14T14:02:59.551Z"
   },
   {
    "duration": 0,
    "start_time": "2022-11-14T14:02:59.552Z"
   },
   {
    "duration": 0,
    "start_time": "2022-11-14T14:02:59.553Z"
   },
   {
    "duration": 0,
    "start_time": "2022-11-14T14:02:59.554Z"
   },
   {
    "duration": 0,
    "start_time": "2022-11-14T14:02:59.568Z"
   },
   {
    "duration": 0,
    "start_time": "2022-11-14T14:02:59.569Z"
   },
   {
    "duration": 0,
    "start_time": "2022-11-14T14:02:59.571Z"
   },
   {
    "duration": 0,
    "start_time": "2022-11-14T14:02:59.572Z"
   },
   {
    "duration": 0,
    "start_time": "2022-11-14T14:02:59.574Z"
   },
   {
    "duration": 0,
    "start_time": "2022-11-14T14:02:59.575Z"
   },
   {
    "duration": 92,
    "start_time": "2022-11-14T14:03:34.278Z"
   },
   {
    "duration": 17,
    "start_time": "2022-11-14T14:08:29.384Z"
   },
   {
    "duration": 12,
    "start_time": "2022-11-14T14:20:26.570Z"
   },
   {
    "duration": 700,
    "start_time": "2022-11-14T14:20:35.496Z"
   },
   {
    "duration": 319,
    "start_time": "2022-11-14T14:20:36.198Z"
   },
   {
    "duration": 2018,
    "start_time": "2022-11-14T14:20:36.519Z"
   },
   {
    "duration": 8,
    "start_time": "2022-11-14T14:20:38.540Z"
   },
   {
    "duration": 801,
    "start_time": "2022-11-14T14:20:38.550Z"
   },
   {
    "duration": 0,
    "start_time": "2022-11-14T14:20:39.353Z"
   },
   {
    "duration": 0,
    "start_time": "2022-11-14T14:20:39.357Z"
   },
   {
    "duration": 1,
    "start_time": "2022-11-14T14:20:39.357Z"
   },
   {
    "duration": 0,
    "start_time": "2022-11-14T14:20:39.359Z"
   },
   {
    "duration": 0,
    "start_time": "2022-11-14T14:20:39.360Z"
   },
   {
    "duration": 0,
    "start_time": "2022-11-14T14:20:39.361Z"
   },
   {
    "duration": 0,
    "start_time": "2022-11-14T14:20:39.362Z"
   },
   {
    "duration": 0,
    "start_time": "2022-11-14T14:20:39.363Z"
   },
   {
    "duration": 0,
    "start_time": "2022-11-14T14:20:39.364Z"
   },
   {
    "duration": 0,
    "start_time": "2022-11-14T14:20:39.366Z"
   },
   {
    "duration": 0,
    "start_time": "2022-11-14T14:20:39.367Z"
   },
   {
    "duration": 0,
    "start_time": "2022-11-14T14:20:39.368Z"
   },
   {
    "duration": 1,
    "start_time": "2022-11-14T14:20:39.369Z"
   },
   {
    "duration": 0,
    "start_time": "2022-11-14T14:20:39.371Z"
   },
   {
    "duration": 0,
    "start_time": "2022-11-14T14:20:39.372Z"
   },
   {
    "duration": 0,
    "start_time": "2022-11-14T14:20:39.373Z"
   },
   {
    "duration": 0,
    "start_time": "2022-11-14T14:20:39.373Z"
   },
   {
    "duration": 0,
    "start_time": "2022-11-14T14:20:39.374Z"
   },
   {
    "duration": 0,
    "start_time": "2022-11-14T14:20:39.375Z"
   },
   {
    "duration": 0,
    "start_time": "2022-11-14T14:20:39.376Z"
   },
   {
    "duration": 0,
    "start_time": "2022-11-14T14:20:39.377Z"
   },
   {
    "duration": 0,
    "start_time": "2022-11-14T14:20:39.378Z"
   },
   {
    "duration": 0,
    "start_time": "2022-11-14T14:20:39.379Z"
   },
   {
    "duration": 0,
    "start_time": "2022-11-14T14:20:39.380Z"
   },
   {
    "duration": 0,
    "start_time": "2022-11-14T14:20:39.381Z"
   },
   {
    "duration": 0,
    "start_time": "2022-11-14T14:20:39.382Z"
   },
   {
    "duration": 0,
    "start_time": "2022-11-14T14:20:39.383Z"
   },
   {
    "duration": 0,
    "start_time": "2022-11-14T14:20:39.384Z"
   },
   {
    "duration": 0,
    "start_time": "2022-11-14T14:20:39.385Z"
   },
   {
    "duration": 0,
    "start_time": "2022-11-14T14:20:39.386Z"
   },
   {
    "duration": 0,
    "start_time": "2022-11-14T14:20:39.387Z"
   },
   {
    "duration": 0,
    "start_time": "2022-11-14T14:20:39.388Z"
   },
   {
    "duration": 873,
    "start_time": "2022-11-14T14:22:05.805Z"
   },
   {
    "duration": 3014,
    "start_time": "2022-11-14T14:22:27.116Z"
   },
   {
    "duration": 20,
    "start_time": "2022-11-14T14:22:41.317Z"
   },
   {
    "duration": 702,
    "start_time": "2022-11-14T14:26:56.964Z"
   },
   {
    "duration": 342,
    "start_time": "2022-11-14T14:26:57.668Z"
   },
   {
    "duration": 1933,
    "start_time": "2022-11-14T14:26:58.012Z"
   },
   {
    "duration": 9,
    "start_time": "2022-11-14T14:26:59.947Z"
   },
   {
    "duration": 17,
    "start_time": "2022-11-14T14:26:59.958Z"
   },
   {
    "duration": 16,
    "start_time": "2022-11-14T14:26:59.976Z"
   },
   {
    "duration": 9,
    "start_time": "2022-11-14T14:26:59.994Z"
   },
   {
    "duration": 94,
    "start_time": "2022-11-14T14:27:00.005Z"
   },
   {
    "duration": 6,
    "start_time": "2022-11-14T14:27:00.101Z"
   },
   {
    "duration": 16,
    "start_time": "2022-11-14T14:27:00.110Z"
   },
   {
    "duration": 431,
    "start_time": "2022-11-14T14:27:00.127Z"
   },
   {
    "duration": 0,
    "start_time": "2022-11-14T14:27:00.561Z"
   },
   {
    "duration": 0,
    "start_time": "2022-11-14T14:27:00.562Z"
   },
   {
    "duration": 0,
    "start_time": "2022-11-14T14:27:00.568Z"
   },
   {
    "duration": 0,
    "start_time": "2022-11-14T14:27:00.569Z"
   },
   {
    "duration": 0,
    "start_time": "2022-11-14T14:27:00.571Z"
   },
   {
    "duration": 0,
    "start_time": "2022-11-14T14:27:00.572Z"
   },
   {
    "duration": 0,
    "start_time": "2022-11-14T14:27:00.573Z"
   },
   {
    "duration": 0,
    "start_time": "2022-11-14T14:27:00.575Z"
   },
   {
    "duration": 0,
    "start_time": "2022-11-14T14:27:00.576Z"
   },
   {
    "duration": 0,
    "start_time": "2022-11-14T14:27:00.577Z"
   },
   {
    "duration": 0,
    "start_time": "2022-11-14T14:27:00.579Z"
   },
   {
    "duration": 0,
    "start_time": "2022-11-14T14:27:00.580Z"
   },
   {
    "duration": 0,
    "start_time": "2022-11-14T14:27:00.581Z"
   },
   {
    "duration": 0,
    "start_time": "2022-11-14T14:27:00.582Z"
   },
   {
    "duration": 0,
    "start_time": "2022-11-14T14:27:00.583Z"
   },
   {
    "duration": 0,
    "start_time": "2022-11-14T14:27:00.584Z"
   },
   {
    "duration": 0,
    "start_time": "2022-11-14T14:27:00.585Z"
   },
   {
    "duration": 0,
    "start_time": "2022-11-14T14:27:00.586Z"
   },
   {
    "duration": 0,
    "start_time": "2022-11-14T14:27:00.587Z"
   },
   {
    "duration": 0,
    "start_time": "2022-11-14T14:27:00.588Z"
   },
   {
    "duration": 0,
    "start_time": "2022-11-14T14:27:00.590Z"
   },
   {
    "duration": 0,
    "start_time": "2022-11-14T14:27:00.591Z"
   },
   {
    "duration": 0,
    "start_time": "2022-11-14T14:27:00.592Z"
   },
   {
    "duration": 0,
    "start_time": "2022-11-14T14:27:00.594Z"
   },
   {
    "duration": 0,
    "start_time": "2022-11-14T14:27:00.595Z"
   },
   {
    "duration": 0,
    "start_time": "2022-11-14T14:27:00.596Z"
   },
   {
    "duration": 376,
    "start_time": "2022-11-14T14:27:54.272Z"
   },
   {
    "duration": 404,
    "start_time": "2022-11-14T14:28:14.811Z"
   },
   {
    "duration": 709,
    "start_time": "2022-11-14T14:28:23.259Z"
   },
   {
    "duration": 331,
    "start_time": "2022-11-14T14:28:23.970Z"
   },
   {
    "duration": 2034,
    "start_time": "2022-11-14T14:28:24.303Z"
   },
   {
    "duration": 10,
    "start_time": "2022-11-14T14:28:26.340Z"
   },
   {
    "duration": 33,
    "start_time": "2022-11-14T14:28:26.351Z"
   },
   {
    "duration": 29,
    "start_time": "2022-11-14T14:28:26.385Z"
   },
   {
    "duration": 7,
    "start_time": "2022-11-14T14:28:26.416Z"
   },
   {
    "duration": 76,
    "start_time": "2022-11-14T14:28:26.425Z"
   },
   {
    "duration": 7,
    "start_time": "2022-11-14T14:28:26.504Z"
   },
   {
    "duration": 11,
    "start_time": "2022-11-14T14:28:26.514Z"
   },
   {
    "duration": 359,
    "start_time": "2022-11-14T14:28:26.527Z"
   },
   {
    "duration": 251,
    "start_time": "2022-11-14T14:28:26.888Z"
   },
   {
    "duration": 307,
    "start_time": "2022-11-14T14:28:27.141Z"
   },
   {
    "duration": 251,
    "start_time": "2022-11-14T14:28:27.450Z"
   },
   {
    "duration": 277,
    "start_time": "2022-11-14T14:28:27.703Z"
   },
   {
    "duration": 178,
    "start_time": "2022-11-14T14:28:27.982Z"
   },
   {
    "duration": 205,
    "start_time": "2022-11-14T14:28:28.163Z"
   },
   {
    "duration": 192,
    "start_time": "2022-11-14T14:28:28.369Z"
   },
   {
    "duration": 145,
    "start_time": "2022-11-14T14:28:28.563Z"
   },
   {
    "duration": 370,
    "start_time": "2022-11-14T14:28:28.711Z"
   },
   {
    "duration": 254,
    "start_time": "2022-11-14T14:28:29.082Z"
   },
   {
    "duration": 251,
    "start_time": "2022-11-14T14:28:29.338Z"
   },
   {
    "duration": 254,
    "start_time": "2022-11-14T14:28:29.591Z"
   },
   {
    "duration": 187,
    "start_time": "2022-11-14T14:28:29.847Z"
   },
   {
    "duration": 194,
    "start_time": "2022-11-14T14:28:30.036Z"
   },
   {
    "duration": 220,
    "start_time": "2022-11-14T14:28:30.232Z"
   },
   {
    "duration": 227,
    "start_time": "2022-11-14T14:28:30.453Z"
   },
   {
    "duration": 318,
    "start_time": "2022-11-14T14:28:30.684Z"
   },
   {
    "duration": 207,
    "start_time": "2022-11-14T14:28:31.004Z"
   },
   {
    "duration": 209,
    "start_time": "2022-11-14T14:28:31.213Z"
   },
   {
    "duration": 206,
    "start_time": "2022-11-14T14:28:31.424Z"
   },
   {
    "duration": 107,
    "start_time": "2022-11-14T14:28:31.631Z"
   },
   {
    "duration": 173,
    "start_time": "2022-11-14T14:28:31.740Z"
   },
   {
    "duration": 171,
    "start_time": "2022-11-14T14:28:31.915Z"
   },
   {
    "duration": 165,
    "start_time": "2022-11-14T14:28:32.088Z"
   },
   {
    "duration": 21,
    "start_time": "2022-11-14T14:28:32.255Z"
   },
   {
    "duration": 162,
    "start_time": "2022-11-14T14:28:32.278Z"
   },
   {
    "duration": 111,
    "start_time": "2022-11-14T14:30:13.242Z"
   },
   {
    "duration": 104,
    "start_time": "2022-11-14T14:30:27.840Z"
   },
   {
    "duration": 109,
    "start_time": "2022-11-14T14:30:53.824Z"
   },
   {
    "duration": 110,
    "start_time": "2022-11-14T14:31:06.197Z"
   },
   {
    "duration": 104,
    "start_time": "2022-11-14T14:31:35.498Z"
   },
   {
    "duration": 120,
    "start_time": "2022-11-14T14:34:00.450Z"
   },
   {
    "duration": 198,
    "start_time": "2022-11-14T14:34:49.092Z"
   },
   {
    "duration": 50,
    "start_time": "2022-11-14T14:42:39.721Z"
   },
   {
    "duration": 39,
    "start_time": "2022-11-14T14:57:24.100Z"
   },
   {
    "duration": 674,
    "start_time": "2022-11-14T15:05:18.513Z"
   },
   {
    "duration": 323,
    "start_time": "2022-11-14T15:05:19.189Z"
   },
   {
    "duration": 2039,
    "start_time": "2022-11-14T15:05:19.514Z"
   },
   {
    "duration": 8,
    "start_time": "2022-11-14T15:05:21.556Z"
   },
   {
    "duration": 21,
    "start_time": "2022-11-14T15:05:21.566Z"
   },
   {
    "duration": 14,
    "start_time": "2022-11-14T15:05:21.588Z"
   },
   {
    "duration": 9,
    "start_time": "2022-11-14T15:05:21.604Z"
   },
   {
    "duration": 89,
    "start_time": "2022-11-14T15:05:21.615Z"
   },
   {
    "duration": 7,
    "start_time": "2022-11-14T15:05:21.706Z"
   },
   {
    "duration": 9,
    "start_time": "2022-11-14T15:05:21.717Z"
   },
   {
    "duration": 391,
    "start_time": "2022-11-14T15:05:21.728Z"
   },
   {
    "duration": 265,
    "start_time": "2022-11-14T15:05:22.121Z"
   },
   {
    "duration": 341,
    "start_time": "2022-11-14T15:05:22.388Z"
   },
   {
    "duration": 277,
    "start_time": "2022-11-14T15:05:22.732Z"
   },
   {
    "duration": 284,
    "start_time": "2022-11-14T15:05:23.011Z"
   },
   {
    "duration": 193,
    "start_time": "2022-11-14T15:05:23.297Z"
   },
   {
    "duration": 213,
    "start_time": "2022-11-14T15:05:23.492Z"
   },
   {
    "duration": 207,
    "start_time": "2022-11-14T15:05:23.707Z"
   },
   {
    "duration": 139,
    "start_time": "2022-11-14T15:05:23.916Z"
   },
   {
    "duration": 367,
    "start_time": "2022-11-14T15:05:24.067Z"
   },
   {
    "duration": 280,
    "start_time": "2022-11-14T15:05:24.435Z"
   },
   {
    "duration": 252,
    "start_time": "2022-11-14T15:05:24.716Z"
   },
   {
    "duration": 262,
    "start_time": "2022-11-14T15:05:24.969Z"
   },
   {
    "duration": 198,
    "start_time": "2022-11-14T15:05:25.233Z"
   },
   {
    "duration": 202,
    "start_time": "2022-11-14T15:05:25.433Z"
   },
   {
    "duration": 217,
    "start_time": "2022-11-14T15:05:25.637Z"
   },
   {
    "duration": 224,
    "start_time": "2022-11-14T15:05:25.856Z"
   },
   {
    "duration": 342,
    "start_time": "2022-11-14T15:05:26.085Z"
   },
   {
    "duration": 224,
    "start_time": "2022-11-14T15:05:26.429Z"
   },
   {
    "duration": 216,
    "start_time": "2022-11-14T15:05:26.654Z"
   },
   {
    "duration": 135,
    "start_time": "2022-11-14T15:05:26.871Z"
   },
   {
    "duration": 182,
    "start_time": "2022-11-14T15:05:27.007Z"
   },
   {
    "duration": 214,
    "start_time": "2022-11-14T15:05:27.191Z"
   },
   {
    "duration": 170,
    "start_time": "2022-11-14T15:05:27.406Z"
   },
   {
    "duration": 14,
    "start_time": "2022-11-14T15:05:27.577Z"
   },
   {
    "duration": 178,
    "start_time": "2022-11-14T15:05:27.592Z"
   },
   {
    "duration": 121,
    "start_time": "2022-11-14T15:06:20.847Z"
   },
   {
    "duration": 126,
    "start_time": "2022-11-14T15:06:31.052Z"
   },
   {
    "duration": 6,
    "start_time": "2022-11-14T15:17:01.038Z"
   },
   {
    "duration": 5,
    "start_time": "2022-11-14T15:17:04.898Z"
   },
   {
    "duration": 6,
    "start_time": "2022-11-14T15:17:31.164Z"
   },
   {
    "duration": 6,
    "start_time": "2022-11-14T15:20:37.831Z"
   },
   {
    "duration": 14,
    "start_time": "2022-11-14T15:20:53.353Z"
   },
   {
    "duration": 16,
    "start_time": "2022-11-14T15:22:43.591Z"
   },
   {
    "duration": 2881,
    "start_time": "2022-11-14T15:24:12.891Z"
   },
   {
    "duration": 17,
    "start_time": "2022-11-14T15:25:56.894Z"
   },
   {
    "duration": 43,
    "start_time": "2022-11-14T15:26:10.385Z"
   },
   {
    "duration": 223,
    "start_time": "2022-11-14T15:27:34.858Z"
   },
   {
    "duration": 208,
    "start_time": "2022-11-14T15:27:41.837Z"
   },
   {
    "duration": 20,
    "start_time": "2022-11-14T15:30:12.327Z"
   },
   {
    "duration": 15,
    "start_time": "2022-11-14T15:31:38.533Z"
   },
   {
    "duration": 24,
    "start_time": "2022-11-14T15:31:45.999Z"
   },
   {
    "duration": 723,
    "start_time": "2022-11-14T15:32:38.402Z"
   },
   {
    "duration": 321,
    "start_time": "2022-11-14T15:32:39.127Z"
   },
   {
    "duration": 2040,
    "start_time": "2022-11-14T15:32:39.449Z"
   },
   {
    "duration": 10,
    "start_time": "2022-11-14T15:32:41.491Z"
   },
   {
    "duration": 26,
    "start_time": "2022-11-14T15:32:41.502Z"
   },
   {
    "duration": 13,
    "start_time": "2022-11-14T15:32:41.530Z"
   },
   {
    "duration": 7,
    "start_time": "2022-11-14T15:32:41.545Z"
   },
   {
    "duration": 78,
    "start_time": "2022-11-14T15:32:41.553Z"
   },
   {
    "duration": 6,
    "start_time": "2022-11-14T15:32:41.633Z"
   },
   {
    "duration": 9,
    "start_time": "2022-11-14T15:32:41.642Z"
   },
   {
    "duration": 381,
    "start_time": "2022-11-14T15:32:41.653Z"
   },
   {
    "duration": 256,
    "start_time": "2022-11-14T15:32:42.036Z"
   },
   {
    "duration": 331,
    "start_time": "2022-11-14T15:32:42.293Z"
   },
   {
    "duration": 262,
    "start_time": "2022-11-14T15:32:42.626Z"
   },
   {
    "duration": 293,
    "start_time": "2022-11-14T15:32:42.890Z"
   },
   {
    "duration": 195,
    "start_time": "2022-11-14T15:32:43.184Z"
   },
   {
    "duration": 202,
    "start_time": "2022-11-14T15:32:43.381Z"
   },
   {
    "duration": 210,
    "start_time": "2022-11-14T15:32:43.585Z"
   },
   {
    "duration": 150,
    "start_time": "2022-11-14T15:32:43.796Z"
   },
   {
    "duration": 402,
    "start_time": "2022-11-14T15:32:43.947Z"
   },
   {
    "duration": 288,
    "start_time": "2022-11-14T15:32:44.351Z"
   },
   {
    "duration": 263,
    "start_time": "2022-11-14T15:32:44.641Z"
   },
   {
    "duration": 282,
    "start_time": "2022-11-14T15:32:44.905Z"
   },
   {
    "duration": 196,
    "start_time": "2022-11-14T15:32:45.189Z"
   },
   {
    "duration": 200,
    "start_time": "2022-11-14T15:32:45.387Z"
   },
   {
    "duration": 229,
    "start_time": "2022-11-14T15:32:45.589Z"
   },
   {
    "duration": 275,
    "start_time": "2022-11-14T15:32:45.820Z"
   },
   {
    "duration": 339,
    "start_time": "2022-11-14T15:32:46.098Z"
   },
   {
    "duration": 216,
    "start_time": "2022-11-14T15:32:46.439Z"
   },
   {
    "duration": 226,
    "start_time": "2022-11-14T15:32:46.657Z"
   },
   {
    "duration": 131,
    "start_time": "2022-11-14T15:32:46.884Z"
   },
   {
    "duration": 172,
    "start_time": "2022-11-14T15:32:47.017Z"
   },
   {
    "duration": 173,
    "start_time": "2022-11-14T15:32:47.190Z"
   },
   {
    "duration": 161,
    "start_time": "2022-11-14T15:32:47.365Z"
   },
   {
    "duration": 12,
    "start_time": "2022-11-14T15:32:47.528Z"
   },
   {
    "duration": 173,
    "start_time": "2022-11-14T15:32:47.542Z"
   },
   {
    "duration": 84,
    "start_time": "2022-11-14T15:40:54.761Z"
   },
   {
    "duration": 771,
    "start_time": "2022-11-14T15:44:48.649Z"
   },
   {
    "duration": 100,
    "start_time": "2022-11-14T15:44:59.011Z"
   },
   {
    "duration": 22,
    "start_time": "2022-11-14T15:45:22.125Z"
   },
   {
    "duration": 15,
    "start_time": "2022-11-14T15:45:27.129Z"
   },
   {
    "duration": 12,
    "start_time": "2022-11-14T15:45:33.178Z"
   },
   {
    "duration": 23,
    "start_time": "2022-11-14T15:57:36.037Z"
   },
   {
    "duration": 16,
    "start_time": "2022-11-14T15:57:40.495Z"
   },
   {
    "duration": 5,
    "start_time": "2022-11-14T15:59:01.653Z"
   },
   {
    "duration": 699,
    "start_time": "2022-11-14T15:59:08.094Z"
   },
   {
    "duration": 337,
    "start_time": "2022-11-14T15:59:08.795Z"
   },
   {
    "duration": 2020,
    "start_time": "2022-11-14T15:59:09.133Z"
   },
   {
    "duration": 11,
    "start_time": "2022-11-14T15:59:11.155Z"
   },
   {
    "duration": 34,
    "start_time": "2022-11-14T15:59:11.168Z"
   },
   {
    "duration": 14,
    "start_time": "2022-11-14T15:59:11.203Z"
   },
   {
    "duration": 8,
    "start_time": "2022-11-14T15:59:11.218Z"
   },
   {
    "duration": 83,
    "start_time": "2022-11-14T15:59:11.228Z"
   },
   {
    "duration": 5,
    "start_time": "2022-11-14T15:59:11.313Z"
   },
   {
    "duration": 344,
    "start_time": "2022-11-14T15:59:11.320Z"
   },
   {
    "duration": 243,
    "start_time": "2022-11-14T15:59:11.665Z"
   },
   {
    "duration": 332,
    "start_time": "2022-11-14T15:59:11.910Z"
   },
   {
    "duration": 258,
    "start_time": "2022-11-14T15:59:12.244Z"
   },
   {
    "duration": 295,
    "start_time": "2022-11-14T15:59:12.505Z"
   },
   {
    "duration": 191,
    "start_time": "2022-11-14T15:59:12.803Z"
   },
   {
    "duration": 221,
    "start_time": "2022-11-14T15:59:12.996Z"
   },
   {
    "duration": 195,
    "start_time": "2022-11-14T15:59:13.218Z"
   },
   {
    "duration": 154,
    "start_time": "2022-11-14T15:59:13.415Z"
   },
   {
    "duration": 390,
    "start_time": "2022-11-14T15:59:13.571Z"
   },
   {
    "duration": 276,
    "start_time": "2022-11-14T15:59:13.968Z"
   },
   {
    "duration": 261,
    "start_time": "2022-11-14T15:59:14.246Z"
   },
   {
    "duration": 274,
    "start_time": "2022-11-14T15:59:14.509Z"
   },
   {
    "duration": 201,
    "start_time": "2022-11-14T15:59:14.785Z"
   },
   {
    "duration": 212,
    "start_time": "2022-11-14T15:59:14.988Z"
   },
   {
    "duration": 230,
    "start_time": "2022-11-14T15:59:15.202Z"
   },
   {
    "duration": 230,
    "start_time": "2022-11-14T15:59:15.434Z"
   },
   {
    "duration": 333,
    "start_time": "2022-11-14T15:59:15.665Z"
   },
   {
    "duration": 204,
    "start_time": "2022-11-14T15:59:16.002Z"
   },
   {
    "duration": 221,
    "start_time": "2022-11-14T15:59:16.208Z"
   },
   {
    "duration": 138,
    "start_time": "2022-11-14T15:59:16.431Z"
   },
   {
    "duration": 187,
    "start_time": "2022-11-14T15:59:16.571Z"
   },
   {
    "duration": 227,
    "start_time": "2022-11-14T15:59:16.760Z"
   },
   {
    "duration": 183,
    "start_time": "2022-11-14T15:59:16.991Z"
   },
   {
    "duration": 13,
    "start_time": "2022-11-14T15:59:17.176Z"
   },
   {
    "duration": 174,
    "start_time": "2022-11-14T15:59:17.191Z"
   },
   {
    "duration": 138,
    "start_time": "2022-11-14T16:00:02.181Z"
   },
   {
    "duration": 415,
    "start_time": "2022-11-14T16:16:37.933Z"
   },
   {
    "duration": 18,
    "start_time": "2022-11-14T16:17:31.614Z"
   },
   {
    "duration": 32,
    "start_time": "2022-11-14T16:18:34.490Z"
   },
   {
    "duration": 329,
    "start_time": "2022-11-14T16:19:18.649Z"
   },
   {
    "duration": 39,
    "start_time": "2022-11-14T16:19:26.573Z"
   },
   {
    "duration": 113,
    "start_time": "2022-11-14T16:27:36.728Z"
   },
   {
    "duration": 333,
    "start_time": "2022-11-14T16:27:50.939Z"
   },
   {
    "duration": 39,
    "start_time": "2022-11-14T16:27:53.999Z"
   },
   {
    "duration": 689,
    "start_time": "2022-11-14T16:28:08.385Z"
   },
   {
    "duration": 338,
    "start_time": "2022-11-14T16:28:09.076Z"
   },
   {
    "duration": 1946,
    "start_time": "2022-11-14T16:28:09.415Z"
   },
   {
    "duration": 8,
    "start_time": "2022-11-14T16:28:11.363Z"
   },
   {
    "duration": 26,
    "start_time": "2022-11-14T16:28:11.373Z"
   },
   {
    "duration": 13,
    "start_time": "2022-11-14T16:28:11.401Z"
   },
   {
    "duration": 8,
    "start_time": "2022-11-14T16:28:11.416Z"
   },
   {
    "duration": 88,
    "start_time": "2022-11-14T16:28:11.425Z"
   },
   {
    "duration": 5,
    "start_time": "2022-11-14T16:28:11.515Z"
   },
   {
    "duration": 345,
    "start_time": "2022-11-14T16:28:11.523Z"
   },
   {
    "duration": 42,
    "start_time": "2022-11-14T16:28:11.870Z"
   },
   {
    "duration": 248,
    "start_time": "2022-11-14T16:28:11.914Z"
   },
   {
    "duration": 309,
    "start_time": "2022-11-14T16:28:12.167Z"
   },
   {
    "duration": 263,
    "start_time": "2022-11-14T16:28:12.478Z"
   },
   {
    "duration": 287,
    "start_time": "2022-11-14T16:28:12.743Z"
   },
   {
    "duration": 188,
    "start_time": "2022-11-14T16:28:13.032Z"
   },
   {
    "duration": 209,
    "start_time": "2022-11-14T16:28:13.222Z"
   },
   {
    "duration": 195,
    "start_time": "2022-11-14T16:28:13.432Z"
   },
   {
    "duration": 151,
    "start_time": "2022-11-14T16:28:13.629Z"
   },
   {
    "duration": 354,
    "start_time": "2022-11-14T16:28:13.781Z"
   },
   {
    "duration": 255,
    "start_time": "2022-11-14T16:28:14.137Z"
   },
   {
    "duration": 252,
    "start_time": "2022-11-14T16:28:14.393Z"
   },
   {
    "duration": 250,
    "start_time": "2022-11-14T16:28:14.646Z"
   },
   {
    "duration": 184,
    "start_time": "2022-11-14T16:28:14.898Z"
   },
   {
    "duration": 192,
    "start_time": "2022-11-14T16:28:15.084Z"
   },
   {
    "duration": 230,
    "start_time": "2022-11-14T16:28:15.278Z"
   },
   {
    "duration": 211,
    "start_time": "2022-11-14T16:28:15.510Z"
   },
   {
    "duration": 322,
    "start_time": "2022-11-14T16:28:15.724Z"
   },
   {
    "duration": 216,
    "start_time": "2022-11-14T16:28:16.048Z"
   },
   {
    "duration": 206,
    "start_time": "2022-11-14T16:28:16.268Z"
   },
   {
    "duration": 142,
    "start_time": "2022-11-14T16:28:16.476Z"
   },
   {
    "duration": 174,
    "start_time": "2022-11-14T16:28:16.620Z"
   },
   {
    "duration": 203,
    "start_time": "2022-11-14T16:28:16.797Z"
   },
   {
    "duration": 155,
    "start_time": "2022-11-14T16:28:17.001Z"
   },
   {
    "duration": 19,
    "start_time": "2022-11-14T16:28:17.157Z"
   },
   {
    "duration": 162,
    "start_time": "2022-11-14T16:28:17.177Z"
   },
   {
    "duration": 9,
    "start_time": "2022-11-14T16:30:06.548Z"
   },
   {
    "duration": 736,
    "start_time": "2022-11-14T16:30:16.652Z"
   },
   {
    "duration": 299,
    "start_time": "2022-11-14T16:30:17.390Z"
   },
   {
    "duration": 1963,
    "start_time": "2022-11-14T16:30:17.690Z"
   },
   {
    "duration": 10,
    "start_time": "2022-11-14T16:30:19.656Z"
   },
   {
    "duration": 25,
    "start_time": "2022-11-14T16:30:19.667Z"
   },
   {
    "duration": 14,
    "start_time": "2022-11-14T16:30:19.694Z"
   },
   {
    "duration": 8,
    "start_time": "2022-11-14T16:30:19.710Z"
   },
   {
    "duration": 92,
    "start_time": "2022-11-14T16:30:19.720Z"
   },
   {
    "duration": 5,
    "start_time": "2022-11-14T16:30:19.813Z"
   },
   {
    "duration": 352,
    "start_time": "2022-11-14T16:30:19.820Z"
   },
   {
    "duration": 11,
    "start_time": "2022-11-14T16:30:20.174Z"
   },
   {
    "duration": 261,
    "start_time": "2022-11-14T16:30:20.187Z"
   },
   {
    "duration": 326,
    "start_time": "2022-11-14T16:30:20.450Z"
   },
   {
    "duration": 254,
    "start_time": "2022-11-14T16:30:20.778Z"
   },
   {
    "duration": 271,
    "start_time": "2022-11-14T16:30:21.034Z"
   },
   {
    "duration": 152,
    "start_time": "2022-11-14T16:30:21.306Z"
   },
   {
    "duration": 204,
    "start_time": "2022-11-14T16:30:21.460Z"
   },
   {
    "duration": 193,
    "start_time": "2022-11-14T16:30:21.665Z"
   },
   {
    "duration": 124,
    "start_time": "2022-11-14T16:30:21.859Z"
   },
   {
    "duration": 361,
    "start_time": "2022-11-14T16:30:21.985Z"
   },
   {
    "duration": 251,
    "start_time": "2022-11-14T16:30:22.348Z"
   },
   {
    "duration": 247,
    "start_time": "2022-11-14T16:30:22.601Z"
   },
   {
    "duration": 258,
    "start_time": "2022-11-14T16:30:22.850Z"
   },
   {
    "duration": 198,
    "start_time": "2022-11-14T16:30:23.110Z"
   },
   {
    "duration": 200,
    "start_time": "2022-11-14T16:30:23.310Z"
   },
   {
    "duration": 209,
    "start_time": "2022-11-14T16:30:23.511Z"
   },
   {
    "duration": 200,
    "start_time": "2022-11-14T16:30:23.722Z"
   },
   {
    "duration": 290,
    "start_time": "2022-11-14T16:30:23.925Z"
   },
   {
    "duration": 173,
    "start_time": "2022-11-14T16:30:24.217Z"
   },
   {
    "duration": 192,
    "start_time": "2022-11-14T16:30:24.392Z"
   },
   {
    "duration": 131,
    "start_time": "2022-11-14T16:30:24.586Z"
   },
   {
    "duration": 170,
    "start_time": "2022-11-14T16:30:24.719Z"
   },
   {
    "duration": 168,
    "start_time": "2022-11-14T16:30:24.891Z"
   },
   {
    "duration": 159,
    "start_time": "2022-11-14T16:30:25.061Z"
   },
   {
    "duration": 14,
    "start_time": "2022-11-14T16:30:25.222Z"
   },
   {
    "duration": 191,
    "start_time": "2022-11-14T16:30:25.238Z"
   },
   {
    "duration": 40,
    "start_time": "2022-11-14T16:34:39.007Z"
   },
   {
    "duration": 670,
    "start_time": "2022-11-14T16:38:50.198Z"
   },
   {
    "duration": 316,
    "start_time": "2022-11-14T16:38:50.871Z"
   },
   {
    "duration": 2029,
    "start_time": "2022-11-14T16:38:51.188Z"
   },
   {
    "duration": 9,
    "start_time": "2022-11-14T16:38:53.220Z"
   },
   {
    "duration": 26,
    "start_time": "2022-11-14T16:38:53.231Z"
   },
   {
    "duration": 15,
    "start_time": "2022-11-14T16:38:53.259Z"
   },
   {
    "duration": 9,
    "start_time": "2022-11-14T16:38:53.276Z"
   },
   {
    "duration": 94,
    "start_time": "2022-11-14T16:38:53.287Z"
   },
   {
    "duration": 4,
    "start_time": "2022-11-14T16:38:53.383Z"
   },
   {
    "duration": 354,
    "start_time": "2022-11-14T16:38:53.390Z"
   },
   {
    "duration": 45,
    "start_time": "2022-11-14T16:38:53.746Z"
   },
   {
    "duration": 260,
    "start_time": "2022-11-14T16:38:53.793Z"
   },
   {
    "duration": 336,
    "start_time": "2022-11-14T16:38:54.055Z"
   },
   {
    "duration": 261,
    "start_time": "2022-11-14T16:38:54.393Z"
   },
   {
    "duration": 275,
    "start_time": "2022-11-14T16:38:54.656Z"
   },
   {
    "duration": 184,
    "start_time": "2022-11-14T16:38:54.932Z"
   },
   {
    "duration": 208,
    "start_time": "2022-11-14T16:38:55.118Z"
   },
   {
    "duration": 195,
    "start_time": "2022-11-14T16:38:55.327Z"
   },
   {
    "duration": 150,
    "start_time": "2022-11-14T16:38:55.523Z"
   },
   {
    "duration": 358,
    "start_time": "2022-11-14T16:38:55.675Z"
   },
   {
    "duration": 265,
    "start_time": "2022-11-14T16:38:56.034Z"
   },
   {
    "duration": 262,
    "start_time": "2022-11-14T16:38:56.302Z"
   },
   {
    "duration": 253,
    "start_time": "2022-11-14T16:38:56.568Z"
   },
   {
    "duration": 248,
    "start_time": "2022-11-14T16:38:56.823Z"
   },
   {
    "duration": 205,
    "start_time": "2022-11-14T16:38:57.073Z"
   },
   {
    "duration": 231,
    "start_time": "2022-11-14T16:38:57.280Z"
   },
   {
    "duration": 221,
    "start_time": "2022-11-14T16:38:57.512Z"
   },
   {
    "duration": 309,
    "start_time": "2022-11-14T16:38:57.735Z"
   },
   {
    "duration": 204,
    "start_time": "2022-11-14T16:38:58.046Z"
   },
   {
    "duration": 211,
    "start_time": "2022-11-14T16:38:58.252Z"
   },
   {
    "duration": 139,
    "start_time": "2022-11-14T16:38:58.465Z"
   },
   {
    "duration": 164,
    "start_time": "2022-11-14T16:38:58.606Z"
   },
   {
    "duration": 177,
    "start_time": "2022-11-14T16:38:58.771Z"
   },
   {
    "duration": 159,
    "start_time": "2022-11-14T16:38:58.950Z"
   },
   {
    "duration": 13,
    "start_time": "2022-11-14T16:38:59.110Z"
   },
   {
    "duration": 165,
    "start_time": "2022-11-14T16:38:59.125Z"
   },
   {
    "duration": 695,
    "start_time": "2022-11-14T16:49:46.374Z"
   },
   {
    "duration": 349,
    "start_time": "2022-11-14T16:49:47.071Z"
   },
   {
    "duration": 2156,
    "start_time": "2022-11-14T16:49:47.421Z"
   },
   {
    "duration": 9,
    "start_time": "2022-11-14T16:49:49.579Z"
   },
   {
    "duration": 29,
    "start_time": "2022-11-14T16:49:49.590Z"
   },
   {
    "duration": 13,
    "start_time": "2022-11-14T16:49:49.621Z"
   },
   {
    "duration": 9,
    "start_time": "2022-11-14T16:49:49.636Z"
   },
   {
    "duration": 81,
    "start_time": "2022-11-14T16:49:49.647Z"
   },
   {
    "duration": 5,
    "start_time": "2022-11-14T16:49:49.730Z"
   },
   {
    "duration": 369,
    "start_time": "2022-11-14T16:49:49.737Z"
   },
   {
    "duration": 43,
    "start_time": "2022-11-14T16:49:50.107Z"
   },
   {
    "duration": 267,
    "start_time": "2022-11-14T16:49:50.152Z"
   },
   {
    "duration": 338,
    "start_time": "2022-11-14T16:49:50.421Z"
   },
   {
    "duration": 254,
    "start_time": "2022-11-14T16:49:50.761Z"
   },
   {
    "duration": 281,
    "start_time": "2022-11-14T16:49:51.017Z"
   },
   {
    "duration": 185,
    "start_time": "2022-11-14T16:49:51.300Z"
   },
   {
    "duration": 215,
    "start_time": "2022-11-14T16:49:51.487Z"
   },
   {
    "duration": 187,
    "start_time": "2022-11-14T16:49:51.703Z"
   },
   {
    "duration": 147,
    "start_time": "2022-11-14T16:49:51.892Z"
   },
   {
    "duration": 364,
    "start_time": "2022-11-14T16:49:52.041Z"
   },
   {
    "duration": 274,
    "start_time": "2022-11-14T16:49:52.407Z"
   },
   {
    "duration": 260,
    "start_time": "2022-11-14T16:49:52.682Z"
   },
   {
    "duration": 267,
    "start_time": "2022-11-14T16:49:52.943Z"
   },
   {
    "duration": 198,
    "start_time": "2022-11-14T16:49:53.212Z"
   },
   {
    "duration": 210,
    "start_time": "2022-11-14T16:49:53.412Z"
   },
   {
    "duration": 246,
    "start_time": "2022-11-14T16:49:53.624Z"
   },
   {
    "duration": 235,
    "start_time": "2022-11-14T16:49:53.872Z"
   },
   {
    "duration": 343,
    "start_time": "2022-11-14T16:49:54.111Z"
   },
   {
    "duration": 213,
    "start_time": "2022-11-14T16:49:54.456Z"
   },
   {
    "duration": 202,
    "start_time": "2022-11-14T16:49:54.671Z"
   },
   {
    "duration": 130,
    "start_time": "2022-11-14T16:49:54.874Z"
   },
   {
    "duration": 173,
    "start_time": "2022-11-14T16:49:55.005Z"
   },
   {
    "duration": 182,
    "start_time": "2022-11-14T16:49:55.179Z"
   },
   {
    "duration": 177,
    "start_time": "2022-11-14T16:49:55.363Z"
   },
   {
    "duration": 13,
    "start_time": "2022-11-14T16:49:55.542Z"
   },
   {
    "duration": 173,
    "start_time": "2022-11-14T16:49:55.556Z"
   },
   {
    "duration": 1080,
    "start_time": "2022-11-14T18:23:28.653Z"
   },
   {
    "duration": 322,
    "start_time": "2022-11-14T18:23:29.735Z"
   },
   {
    "duration": 1839,
    "start_time": "2022-11-14T18:23:30.058Z"
   },
   {
    "duration": 9,
    "start_time": "2022-11-14T18:23:31.900Z"
   },
   {
    "duration": 24,
    "start_time": "2022-11-14T18:23:31.910Z"
   },
   {
    "duration": 12,
    "start_time": "2022-11-14T18:23:31.936Z"
   },
   {
    "duration": 7,
    "start_time": "2022-11-14T18:23:31.950Z"
   },
   {
    "duration": 77,
    "start_time": "2022-11-14T18:23:31.959Z"
   },
   {
    "duration": 5,
    "start_time": "2022-11-14T18:23:32.037Z"
   },
   {
    "duration": 344,
    "start_time": "2022-11-14T18:23:32.044Z"
   },
   {
    "duration": 55,
    "start_time": "2022-11-14T18:23:32.390Z"
   },
   {
    "duration": 303,
    "start_time": "2022-11-14T18:23:32.447Z"
   },
   {
    "duration": 299,
    "start_time": "2022-11-14T18:23:32.751Z"
   },
   {
    "duration": 223,
    "start_time": "2022-11-14T18:23:33.051Z"
   },
   {
    "duration": 285,
    "start_time": "2022-11-14T18:23:33.275Z"
   },
   {
    "duration": 168,
    "start_time": "2022-11-14T18:23:33.562Z"
   },
   {
    "duration": 194,
    "start_time": "2022-11-14T18:23:33.734Z"
   },
   {
    "duration": 178,
    "start_time": "2022-11-14T18:23:33.929Z"
   },
   {
    "duration": 136,
    "start_time": "2022-11-14T18:23:34.109Z"
   },
   {
    "duration": 335,
    "start_time": "2022-11-14T18:23:34.247Z"
   },
   {
    "duration": 240,
    "start_time": "2022-11-14T18:23:34.584Z"
   },
   {
    "duration": 253,
    "start_time": "2022-11-14T18:23:34.826Z"
   },
   {
    "duration": 241,
    "start_time": "2022-11-14T18:23:35.081Z"
   },
   {
    "duration": 191,
    "start_time": "2022-11-14T18:23:35.324Z"
   },
   {
    "duration": 193,
    "start_time": "2022-11-14T18:23:35.517Z"
   },
   {
    "duration": 218,
    "start_time": "2022-11-14T18:23:35.711Z"
   },
   {
    "duration": 244,
    "start_time": "2022-11-14T18:23:35.931Z"
   },
   {
    "duration": 339,
    "start_time": "2022-11-14T18:23:36.178Z"
   },
   {
    "duration": 218,
    "start_time": "2022-11-14T18:23:36.519Z"
   },
   {
    "duration": 204,
    "start_time": "2022-11-14T18:23:36.739Z"
   },
   {
    "duration": 126,
    "start_time": "2022-11-14T18:23:36.945Z"
   },
   {
    "duration": 164,
    "start_time": "2022-11-14T18:23:37.073Z"
   },
   {
    "duration": 157,
    "start_time": "2022-11-14T18:23:37.238Z"
   },
   {
    "duration": 161,
    "start_time": "2022-11-14T18:23:37.397Z"
   },
   {
    "duration": 12,
    "start_time": "2022-11-14T18:23:37.559Z"
   },
   {
    "duration": 159,
    "start_time": "2022-11-14T18:23:37.573Z"
   },
   {
    "duration": 137,
    "start_time": "2022-11-14T18:27:06.216Z"
   },
   {
    "duration": 751,
    "start_time": "2022-11-14T18:28:48.438Z"
   },
   {
    "duration": 317,
    "start_time": "2022-11-14T18:28:49.191Z"
   },
   {
    "duration": 1981,
    "start_time": "2022-11-14T18:28:49.536Z"
   },
   {
    "duration": 9,
    "start_time": "2022-11-14T18:28:51.520Z"
   },
   {
    "duration": 32,
    "start_time": "2022-11-14T18:28:51.531Z"
   },
   {
    "duration": 13,
    "start_time": "2022-11-14T18:28:51.565Z"
   },
   {
    "duration": 13,
    "start_time": "2022-11-14T18:28:51.579Z"
   },
   {
    "duration": 77,
    "start_time": "2022-11-14T18:28:51.594Z"
   },
   {
    "duration": 5,
    "start_time": "2022-11-14T18:28:51.673Z"
   },
   {
    "duration": 366,
    "start_time": "2022-11-14T18:28:51.680Z"
   },
   {
    "duration": 17,
    "start_time": "2022-11-14T18:28:52.048Z"
   },
   {
    "duration": 272,
    "start_time": "2022-11-14T18:28:52.066Z"
   },
   {
    "duration": 421,
    "start_time": "2022-11-14T18:28:52.340Z"
   },
   {
    "duration": 254,
    "start_time": "2022-11-14T18:28:52.763Z"
   },
   {
    "duration": 250,
    "start_time": "2022-11-14T18:28:53.019Z"
   },
   {
    "duration": 156,
    "start_time": "2022-11-14T18:28:53.271Z"
   },
   {
    "duration": 208,
    "start_time": "2022-11-14T18:28:53.430Z"
   },
   {
    "duration": 179,
    "start_time": "2022-11-14T18:28:53.640Z"
   },
   {
    "duration": 127,
    "start_time": "2022-11-14T18:28:53.821Z"
   },
   {
    "duration": 367,
    "start_time": "2022-11-14T18:28:53.949Z"
   },
   {
    "duration": 260,
    "start_time": "2022-11-14T18:28:54.319Z"
   },
   {
    "duration": 245,
    "start_time": "2022-11-14T18:28:54.581Z"
   },
   {
    "duration": 273,
    "start_time": "2022-11-14T18:28:54.828Z"
   },
   {
    "duration": 198,
    "start_time": "2022-11-14T18:28:55.103Z"
   },
   {
    "duration": 220,
    "start_time": "2022-11-14T18:28:55.303Z"
   },
   {
    "duration": 206,
    "start_time": "2022-11-14T18:28:55.525Z"
   },
   {
    "duration": 214,
    "start_time": "2022-11-14T18:28:55.735Z"
   },
   {
    "duration": 313,
    "start_time": "2022-11-14T18:28:55.952Z"
   },
   {
    "duration": 171,
    "start_time": "2022-11-14T18:28:56.266Z"
   },
   {
    "duration": 173,
    "start_time": "2022-11-14T18:28:56.440Z"
   },
   {
    "duration": 141,
    "start_time": "2022-11-14T18:28:56.615Z"
   },
   {
    "duration": 168,
    "start_time": "2022-11-14T18:28:56.757Z"
   },
   {
    "duration": 183,
    "start_time": "2022-11-14T18:28:56.926Z"
   },
   {
    "duration": 164,
    "start_time": "2022-11-14T18:28:57.111Z"
   },
   {
    "duration": 14,
    "start_time": "2022-11-14T18:28:57.277Z"
   },
   {
    "duration": 197,
    "start_time": "2022-11-14T18:28:57.292Z"
   }
  ],
  "kernelspec": {
   "display_name": "Python 3 (ipykernel)",
   "language": "python",
   "name": "python3"
  },
  "language_info": {
   "codemirror_mode": {
    "name": "ipython",
    "version": 3
   },
   "file_extension": ".py",
   "mimetype": "text/x-python",
   "name": "python",
   "nbconvert_exporter": "python",
   "pygments_lexer": "ipython3",
   "version": "3.9.13"
  },
  "toc": {
   "base_numbering": 1,
   "nav_menu": {
    "height": "131px",
    "width": "708px"
   },
   "number_sections": true,
   "sideBar": true,
   "skip_h1_title": true,
   "title_cell": "Table of Contents",
   "title_sidebar": "Contents",
   "toc_cell": false,
   "toc_position": {
    "height": "calc(100% - 180px)",
    "left": "10px",
    "top": "150px",
    "width": "165px"
   },
   "toc_section_display": true,
   "toc_window_display": true
  }
 },
 "nbformat": 4,
 "nbformat_minor": 2
}
