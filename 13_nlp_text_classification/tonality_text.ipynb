{
 "cells": [
  {
   "cell_type": "markdown",
   "metadata": {
    "toc": true
   },
   "source": [
    "<h1>Содержание<span class=\"tocSkip\"></span></h1>\n",
    "<div class=\"toc\"><ul class=\"toc-item\"><li><ul class=\"toc-item\"><li><span><a href=\"#Общее-впечатление\" data-toc-modified-id=\"Общее-впечатление-0.1\"><span class=\"toc-item-num\">0.1&nbsp;&nbsp;</span><font color=\"orange\">Общее впечатление</font></a></span></li></ul></li><li><span><a href=\"#Подготовка\" data-toc-modified-id=\"Подготовка-1\"><span class=\"toc-item-num\">1&nbsp;&nbsp;</span>Подготовка</a></span></li><li><span><a href=\"#Обучение\" data-toc-modified-id=\"Обучение-2\"><span class=\"toc-item-num\">2&nbsp;&nbsp;</span>Обучение</a></span><ul class=\"toc-item\"><li><ul class=\"toc-item\"><li><span><a href=\"#LogisticRegression\" data-toc-modified-id=\"LogisticRegression-2.0.1\"><span class=\"toc-item-num\">2.0.1&nbsp;&nbsp;</span>LogisticRegression</a></span></li><li><span><a href=\"#RandomForestClassifier\" data-toc-modified-id=\"RandomForestClassifier-2.0.2\"><span class=\"toc-item-num\">2.0.2&nbsp;&nbsp;</span>RandomForestClassifier</a></span></li><li><span><a href=\"#DecisionTreeClassifier\" data-toc-modified-id=\"DecisionTreeClassifier-2.0.3\"><span class=\"toc-item-num\">2.0.3&nbsp;&nbsp;</span>DecisionTreeClassifier</a></span></li></ul></li></ul></li><li><span><a href=\"#Выводы\" data-toc-modified-id=\"Выводы-3\"><span class=\"toc-item-num\">3&nbsp;&nbsp;</span>Выводы</a></span></li><li><span><a href=\"#Чек-лист-проверки\" data-toc-modified-id=\"Чек-лист-проверки-4\"><span class=\"toc-item-num\">4&nbsp;&nbsp;</span>Чек-лист проверки</a></span></li></ul></div>"
   ]
  },
  {
   "cell_type": "markdown",
   "metadata": {},
   "source": [
    "# Проект для «Викишоп»"
   ]
  },
  {
   "cell_type": "markdown",
   "metadata": {},
   "source": [
    "Интернет-магазин «Викишоп» запускает новый сервис. Теперь пользователи могут редактировать и дополнять описания товаров, как в вики-сообществах. То есть клиенты предлагают свои правки и комментируют изменения других. Магазину нужен инструмент, который будет искать токсичные комментарии и отправлять их на модерацию. \n",
    "\n",
    "Обучите модель классифицировать комментарии на позитивные и негативные. В вашем распоряжении набор данных с разметкой о токсичности правок.\n",
    "\n",
    "Постройте модель со значением метрики качества *F1* не меньше 0.75. \n",
    "\n",
    "**Инструкция по выполнению проекта**\n",
    "\n",
    "1. Загрузите и подготовьте данные.\n",
    "2. Обучите разные модели. \n",
    "3. Сделайте выводы.\n",
    "\n",
    "Для выполнения проекта применять *BERT* необязательно, но вы можете попробовать.\n",
    "\n",
    "**Описание данных**\n",
    "\n",
    "Данные находятся в файле `toxic_comments.csv`. Столбец *text* в нём содержит текст комментария, а *toxic* — целевой признак."
   ]
  },
  {
   "cell_type": "markdown",
   "metadata": {},
   "source": [
    "## Подготовка"
   ]
  },
  {
   "cell_type": "code",
   "execution_count": 1,
   "metadata": {},
   "outputs": [
    {
     "name": "stderr",
     "output_type": "stream",
     "text": [
      "[nltk_data] Downloading package averaged_perceptron_tagger to\n",
      "[nltk_data]     C:\\Users\\User\\AppData\\Roaming\\nltk_data...\n",
      "[nltk_data]   Package averaged_perceptron_tagger is already up-to-\n",
      "[nltk_data]       date!\n",
      "[nltk_data] Downloading package punkt to\n",
      "[nltk_data]     C:\\Users\\User\\AppData\\Roaming\\nltk_data...\n",
      "[nltk_data]   Unzipping tokenizers\\punkt.zip.\n",
      "[nltk_data] Downloading package stopwords to\n",
      "[nltk_data]     C:\\Users\\User\\AppData\\Roaming\\nltk_data...\n",
      "[nltk_data]   Package stopwords is already up-to-date!\n"
     ]
    }
   ],
   "source": [
    "import random\n",
    "import re \n",
    "import nltk\n",
    "import torch\n",
    "import transformers\n",
    "import warnings\n",
    "\n",
    "import numpy as np\n",
    "import pandas as pd\n",
    "import nltk\n",
    "\n",
    "from nltk.corpus import stopwords as nltk_stopwords\n",
    "from nltk.corpus import wordnet\n",
    "from nltk.stem import WordNetLemmatizer\n",
    "from sklearn.ensemble import RandomForestClassifier\n",
    "from sklearn.feature_extraction.text import TfidfVectorizer \n",
    "from sklearn.linear_model import LogisticRegression\n",
    "from sklearn.model_selection import GridSearchCV,  cross_val_score\n",
    "from sklearn.metrics import f1_score, make_scorer\n",
    "from sklearn.model_selection import train_test_split, TimeSeriesSplit\n",
    "from sklearn.preprocessing import StandardScaler\n",
    "from sklearn.tree import DecisionTreeClassifier\n",
    "from tqdm import notebook\n",
    "\n",
    "nltk.download('averaged_perceptron_tagger')\n",
    "nltk.download('punkt')\n",
    "nltk.download('stopwords')\n",
    "stopwords = set(nltk_stopwords.words('english'))\n",
    "warnings.filterwarnings('ignore')\n",
    "\n",
    "RANDOM_STATE = 28"
   ]
  },
  {
   "cell_type": "code",
   "execution_count": 2,
   "metadata": {},
   "outputs": [],
   "source": [
    "try:\n",
    "    df = pd.read_csv('C:/Users/User/Downloads/toxic_comments.csv')\n",
    "except:\n",
    "    df = pd.read_csv('/datasets/toxic_comments.csv')"
   ]
  },
  {
   "cell_type": "code",
   "execution_count": 3,
   "metadata": {
    "scrolled": true
   },
   "outputs": [
    {
     "data": {
      "text/html": [
       "<div>\n",
       "<style scoped>\n",
       "    .dataframe tbody tr th:only-of-type {\n",
       "        vertical-align: middle;\n",
       "    }\n",
       "\n",
       "    .dataframe tbody tr th {\n",
       "        vertical-align: top;\n",
       "    }\n",
       "\n",
       "    .dataframe thead th {\n",
       "        text-align: right;\n",
       "    }\n",
       "</style>\n",
       "<table border=\"1\" class=\"dataframe\">\n",
       "  <thead>\n",
       "    <tr style=\"text-align: right;\">\n",
       "      <th></th>\n",
       "      <th>Unnamed: 0</th>\n",
       "      <th>text</th>\n",
       "      <th>toxic</th>\n",
       "    </tr>\n",
       "  </thead>\n",
       "  <tbody>\n",
       "    <tr>\n",
       "      <th>0</th>\n",
       "      <td>0</td>\n",
       "      <td>Explanation\\nWhy the edits made under my usern...</td>\n",
       "      <td>0</td>\n",
       "    </tr>\n",
       "    <tr>\n",
       "      <th>1</th>\n",
       "      <td>1</td>\n",
       "      <td>D'aww! He matches this background colour I'm s...</td>\n",
       "      <td>0</td>\n",
       "    </tr>\n",
       "    <tr>\n",
       "      <th>2</th>\n",
       "      <td>2</td>\n",
       "      <td>Hey man, I'm really not trying to edit war. It...</td>\n",
       "      <td>0</td>\n",
       "    </tr>\n",
       "    <tr>\n",
       "      <th>3</th>\n",
       "      <td>3</td>\n",
       "      <td>\"\\nMore\\nI can't make any real suggestions on ...</td>\n",
       "      <td>0</td>\n",
       "    </tr>\n",
       "    <tr>\n",
       "      <th>4</th>\n",
       "      <td>4</td>\n",
       "      <td>You, sir, are my hero. Any chance you remember...</td>\n",
       "      <td>0</td>\n",
       "    </tr>\n",
       "  </tbody>\n",
       "</table>\n",
       "</div>"
      ],
      "text/plain": [
       "   Unnamed: 0                                               text  toxic\n",
       "0           0  Explanation\\nWhy the edits made under my usern...      0\n",
       "1           1  D'aww! He matches this background colour I'm s...      0\n",
       "2           2  Hey man, I'm really not trying to edit war. It...      0\n",
       "3           3  \"\\nMore\\nI can't make any real suggestions on ...      0\n",
       "4           4  You, sir, are my hero. Any chance you remember...      0"
      ]
     },
     "execution_count": 3,
     "metadata": {},
     "output_type": "execute_result"
    }
   ],
   "source": [
    "df.head()"
   ]
  },
  {
   "cell_type": "code",
   "execution_count": 4,
   "metadata": {},
   "outputs": [
    {
     "name": "stdout",
     "output_type": "stream",
     "text": [
      "<class 'pandas.core.frame.DataFrame'>\n",
      "RangeIndex: 159292 entries, 0 to 159291\n",
      "Data columns (total 3 columns):\n",
      " #   Column      Non-Null Count   Dtype \n",
      "---  ------      --------------   ----- \n",
      " 0   Unnamed: 0  159292 non-null  int64 \n",
      " 1   text        159292 non-null  object\n",
      " 2   toxic       159292 non-null  int64 \n",
      "dtypes: int64(2), object(1)\n",
      "memory usage: 3.6+ MB\n"
     ]
    }
   ],
   "source": [
    "df.info()"
   ]
  },
  {
   "cell_type": "markdown",
   "metadata": {},
   "source": [
    "Пропусков нет. Нужно будет очистить и лемматизировать признаки.\n",
    "\n",
    "-------------\n",
    "\n",
    "Посмотрим на баланс по целевому признаку:"
   ]
  },
  {
   "cell_type": "code",
   "execution_count": 5,
   "metadata": {
    "scrolled": true
   },
   "outputs": [
    {
     "data": {
      "text/plain": [
       "<AxesSubplot:>"
      ]
     },
     "execution_count": 5,
     "metadata": {},
     "output_type": "execute_result"
    },
    {
     "data": {
      "image/png": "[encoded data removed]",
      "text/plain": [
       "<Figure size 640x480 with 1 Axes>"
      ]
     },
     "metadata": {},
     "output_type": "display_data"
    }
   ],
   "source": [
    "df['toxic'].value_counts().plot.bar()"
   ]
  },
  {
   "cell_type": "markdown",
   "metadata": {},
   "source": [
    "Явно заметен дисбаланс для целевого признака.\n",
    "\n",
    "----------------------\n",
    "\n",
    "Напишем функцию чтобы получить очищенный и лемматизированный текст:"
   ]
  },
  {
   "cell_type": "code",
   "execution_count": null,
   "metadata": {},
   "outputs": [],
   "source": [
    "def lemmatize_word(word, pos_tag):\n",
    "    wnl = WordNetLemmatizer()\n",
    "    pos_map = {\n",
    "        'N': wordnet.NOUN,\n",
    "        'V': wordnet.VERB,\n",
    "        'R': wordnet.ADV,\n",
    "        'J': wordnet.ADJ\n",
    "    }\n",
    "    pos = pos_map.get(pos_tag[0].upper(), wordnet.NOUN)\n",
    "    return wnl.lemmatize(word, pos=pos)\n",
    "\n",
    "def clean_and_lemmatize(text):\n",
    "    words = nltk.word_tokenize(text)\n",
    "    tagged = nltk.pos_tag(words)\n",
    "    lemm_list = [lemmatize_word(word, pos_tag) for word, pos_tag in tagged]\n",
    "    lemm_text = \" \".join(lemm_list)\n",
    "    return lemm_text\n",
    "\n",
    "df['lemm_text'] = df['text'].apply(clean_and_lemmatize)\n",
    "\n",
    "df = df.drop(['text'], axis=1)"
   ]
  },
  {
   "cell_type": "markdown",
   "metadata": {},
   "source": [
    "Разделим данные на тренировочную, валидационную и тестовую выборку размерами 70%, 15%, 15% соответственно:"
   ]
  },
  {
   "cell_type": "code",
   "execution_count": null,
   "metadata": {},
   "outputs": [],
   "source": [
    "X = df.drop('toxic', axis=1)\n",
    "y = df['toxic']\n",
    "\n",
    "X_train, X_other, y_train, y_other = train_test_split(\n",
    "    X,\n",
    "    y,\n",
    "    test_size=0.3,\n",
    "    random_state=RANDOM_STATE\n",
    ") \n",
    "\n",
    "X_valid, X_test, y_valid, y_test = train_test_split(\n",
    "    X_other,\n",
    "    y_other,\n",
    "    test_size=0.5,\n",
    "    random_state=RANDOM_STATE\n",
    ")"
   ]
  },
  {
   "cell_type": "code",
   "execution_count": null,
   "metadata": {},
   "outputs": [],
   "source": [
    "count_tf_idf = TfidfVectorizer(stop_words=stopwords)\n",
    "\n",
    "X_train = count_tf_idf.fit_transform(X_train['lemm_text'])\n",
    "X_valid = count_tf_idf.transform(X_valid['lemm_text'])\n",
    "X_test = count_tf_idf.transform(X_test['lemm_text'])\n",
    "print('train:', X_train.shape, y_train.shape, 'valid:', X_valid.shape, y_valid.shape, 'test:', X_test.shape, y_test.shape)\n"
   ]
  },
  {
   "cell_type": "markdown",
   "metadata": {},
   "source": [
    "## Обучение"
   ]
  },
  {
   "cell_type": "markdown",
   "metadata": {},
   "source": [
    "Обучим несколько моделей без учета дисбаланса классов и выберем лучшую:"
   ]
  },
  {
   "cell_type": "markdown",
   "metadata": {},
   "source": [
    "#### LogisticRegression"
   ]
  },
  {
   "cell_type": "code",
   "execution_count": null,
   "metadata": {},
   "outputs": [],
   "source": [
    "lr = LogisticRegression(random_state=RANDOM_STATE, solver='lbfgs', n_jobs=-1)\n",
    "lr.fit(X_train, y_train) \n",
    "lr_predictions = lr.predict(X_valid)\n",
    "print('LogisticRegression F1:', f1_score(lr_predictions, y_valid))"
   ]
  },
  {
   "cell_type": "markdown",
   "metadata": {},
   "source": [
    "F1: 0.7276796816712261"
   ]
  },
  {
   "cell_type": "markdown",
   "metadata": {},
   "source": [
    "#### RandomForestClassifier"
   ]
  },
  {
   "cell_type": "code",
   "execution_count": null,
   "metadata": {},
   "outputs": [],
   "source": [
    "rfc = RandomForestClassifier(random_state=RANDOM_STATE)\n",
    "rfc.fit(X_train, y_train)\n",
    "rfc_predictions = rfc.predict(X_valid)\n",
    "print('RandomForestClassifier F1:', f1_score(rfc_predictions, y_valid))"
   ]
  },
  {
   "cell_type": "markdown",
   "metadata": {},
   "source": [
    "F1: 0.7189321300996427"
   ]
  },
  {
   "cell_type": "markdown",
   "metadata": {},
   "source": [
    "#### DecisionTreeClassifier"
   ]
  },
  {
   "cell_type": "code",
   "execution_count": null,
   "metadata": {},
   "outputs": [],
   "source": [
    "dtc = DecisionTreeClassifier(random_state=RANDOM_STATE, max_depth=10)\n",
    "dtc.fit(X_train, y_train)\n",
    "dtc_predictions = dtc.predict(X_valid)\n",
    "print('DecisionTreeClassifier F1:', f1_score(dtc_predictions, y_valid))"
   ]
  },
  {
   "cell_type": "markdown",
   "metadata": {},
   "source": [
    "F1: 0.5879732739420935"
   ]
  },
  {
   "cell_type": "markdown",
   "metadata": {},
   "source": [
    "Логистическая регрессия и случайный лес показали хороший результат но время у логистической регрессии значительно превосходит случайный лес.\n",
    "\n",
    "-----------------\n",
    "\n",
    "Выбираем логистическую регрессию и путем подбора порога улучшим F1 нашей модели:"
   ]
  },
  {
   "cell_type": "markdown",
   "metadata": {},
   "source": [
    "lr = LogisticRegression(random_state=RANDOM_STATE, class_weight='balanced', n_jobs=-1)\n",
    "lr.fit(X_train, y_train)\n",
    "probabilities_valid = lr.predict_proba(X_train)\n",
    "probabilities_one_valid = probabilities_valid[:, 1]\n",
    "best_threshold = None\n",
    "best_result = 0\n",
    "for threshold in np.arange(0.2, 0.5, 0.02):\n",
    "    predicted_valid = probabilities_one_valid > threshold \n",
    "    result = f1_score(y_train, predicted_valid)\n",
    "    if result > best_result:\n",
    "        best_threshold = threshold\n",
    "        best_result = result\n",
    "print('F1:', best_result)\n",
    "print('Порог:', best_threshold)"
   ]
  },
  {
   "cell_type": "code",
   "execution_count": null,
   "metadata": {},
   "outputs": [],
   "source": [
    "from sklearn.model_selection import cross_val_predict\n",
    "\n",
    "lr = LogisticRegression(random_state=RANDOM_STATE, class_weight='balanced', n_jobs=-1)\n",
    "probabilities_valid = cross_val_predict(lr, X_train, y_train, cv=5, method='predict_proba')\n",
    "probabilities_one_valid = probabilities_valid[:, 1]\n",
    "best_threshold = None\n",
    "best_result = 0\n",
    "for threshold in np.arange(0.4, 0.9, 0.1):\n",
    "    predicted_valid = probabilities_one_valid > threshold \n",
    "    result = f1_score(y_train, predicted_valid)\n",
    "    if result > best_result:\n",
    "        best_threshold = threshold\n",
    "        best_result = result\n",
    "print('F1:', best_result)\n",
    "print('Порог:', best_threshold)"
   ]
  },
  {
   "cell_type": "markdown",
   "metadata": {},
   "source": [
    "Результат удовлетворяет на валидационной выборке.\n",
    "\n",
    "---------------\n",
    "\n",
    "Выясним значение метрики на тестовой выборке:"
   ]
  },
  {
   "cell_type": "code",
   "execution_count": null,
   "metadata": {},
   "outputs": [],
   "source": [
    "lr = LogisticRegression(random_state=RANDOM_STATE, class_weight='balanced', n_jobs=-1)\n",
    "lr.fit(X_train, y_train)\n",
    "probabilities_test = lr.predict_proba(X_test)\n",
    "threshold = best_threshold\n",
    "probabilities_one_test = probabilities_test[:, 1]\n",
    "predicted_test = probabilities_one_test > threshold \n",
    "print('F1:', f1_score(y_test, predicted_test))"
   ]
  },
  {
   "cell_type": "markdown",
   "metadata": {},
   "source": [
    "F1: 0.784100418410042"
   ]
  },
  {
   "cell_type": "markdown",
   "metadata": {},
   "source": [
    "## Выводы"
   ]
  },
  {
   "cell_type": "markdown",
   "metadata": {},
   "source": [
    "Нашей задачей было обучить модель классифицировать комментарии на позитивные и негативные. В нашем распоряжении был набор данных с разметкой о токсичности правок. В ходе работы очистили и лемматизировали данные. Разделили на тренировочную, валидационную и тестовыю выборки, обучили модели логистической регрессии, дерево решений и случайный лес. Выбрали лучшей логистическую регрессию, в качестве борьбы с дисбалансом классов подобрали порог и проверили модель на тестовой выборке. получили результат метрики F1 > 0.75."
   ]
  }
 ],
 "metadata": {
  "ExecuteTimeLog": [
   {
    "duration": 49,
    "start_time": "2023-03-23T04:37:38.212Z"
   },
   {
    "duration": 2404,
    "start_time": "2023-03-23T04:38:14.536Z"
   },
   {
    "duration": 1351,
    "start_time": "2023-03-23T04:38:16.942Z"
   },
   {
    "duration": 16,
    "start_time": "2023-03-23T04:38:19.072Z"
   },
   {
    "duration": 659,
    "start_time": "2023-03-23T04:49:34.787Z"
   },
   {
    "duration": 89,
    "start_time": "2023-03-23T04:49:37.268Z"
   },
   {
    "duration": 5,
    "start_time": "2023-03-23T05:03:56.334Z"
   },
   {
    "duration": 116,
    "start_time": "2023-03-23T05:08:56.075Z"
   },
   {
    "duration": 4609,
    "start_time": "2023-03-23T06:09:18.759Z"
   },
   {
    "duration": 3322,
    "start_time": "2023-03-23T06:10:13.121Z"
   },
   {
    "duration": 4038,
    "start_time": "2023-03-23T06:40:21.928Z"
   },
   {
    "duration": 1297,
    "start_time": "2023-03-23T06:40:25.969Z"
   },
   {
    "duration": 374,
    "start_time": "2023-03-23T06:40:27.267Z"
   },
   {
    "duration": 230,
    "start_time": "2023-03-23T06:40:27.649Z"
   },
   {
    "duration": 0,
    "start_time": "2023-03-23T06:40:27.880Z"
   },
   {
    "duration": 0,
    "start_time": "2023-03-23T06:40:27.881Z"
   },
   {
    "duration": 0,
    "start_time": "2023-03-23T06:40:27.882Z"
   },
   {
    "duration": 0,
    "start_time": "2023-03-23T06:40:27.883Z"
   },
   {
    "duration": 0,
    "start_time": "2023-03-23T06:40:27.885Z"
   },
   {
    "duration": 32,
    "start_time": "2023-03-23T06:40:59.322Z"
   },
   {
    "duration": 1111,
    "start_time": "2023-03-23T06:41:00.588Z"
   },
   {
    "duration": 122,
    "start_time": "2023-03-23T06:41:03.783Z"
   },
   {
    "duration": 850,
    "start_time": "2023-03-23T06:41:34.143Z"
   },
   {
    "duration": 33,
    "start_time": "2023-03-23T06:43:13.915Z"
   },
   {
    "duration": 6,
    "start_time": "2023-03-23T06:44:37.913Z"
   },
   {
    "duration": 1286,
    "start_time": "2023-03-23T06:44:39.261Z"
   },
   {
    "duration": 137,
    "start_time": "2023-03-23T06:44:40.553Z"
   },
   {
    "duration": 801,
    "start_time": "2023-03-23T06:44:43.765Z"
   },
   {
    "duration": 9079,
    "start_time": "2023-03-23T06:44:45.772Z"
   },
   {
    "duration": 6,
    "start_time": "2023-03-23T07:10:07.256Z"
   },
   {
    "duration": 905,
    "start_time": "2023-03-23T07:10:07.933Z"
   },
   {
    "duration": 101,
    "start_time": "2023-03-23T07:10:10.784Z"
   },
   {
    "duration": 46,
    "start_time": "2023-03-23T07:10:14.732Z"
   },
   {
    "duration": 43,
    "start_time": "2023-03-23T07:10:22.313Z"
   },
   {
    "duration": 46,
    "start_time": "2023-03-23T07:10:34.114Z"
   },
   {
    "duration": 6,
    "start_time": "2023-03-23T07:17:15.353Z"
   },
   {
    "duration": 922,
    "start_time": "2023-03-23T07:17:17.893Z"
   },
   {
    "duration": 31,
    "start_time": "2023-03-23T07:17:41.259Z"
   },
   {
    "duration": 3690,
    "start_time": "2023-03-23T07:45:00.988Z"
   },
   {
    "duration": 889,
    "start_time": "2023-03-23T07:45:04.680Z"
   },
   {
    "duration": 554,
    "start_time": "2023-03-23T07:45:05.570Z"
   },
   {
    "duration": 2535,
    "start_time": "2023-03-23T07:57:51.735Z"
   },
   {
    "duration": 869,
    "start_time": "2023-03-23T07:57:54.272Z"
   },
   {
    "duration": 322,
    "start_time": "2023-03-23T07:57:55.143Z"
   },
   {
    "duration": 168,
    "start_time": "2023-03-23T07:57:55.468Z"
   },
   {
    "duration": 0,
    "start_time": "2023-03-23T07:57:55.638Z"
   },
   {
    "duration": 0,
    "start_time": "2023-03-23T07:57:55.640Z"
   },
   {
    "duration": 0,
    "start_time": "2023-03-23T07:57:55.641Z"
   },
   {
    "duration": 0,
    "start_time": "2023-03-23T07:57:55.643Z"
   },
   {
    "duration": 0,
    "start_time": "2023-03-23T07:57:55.644Z"
   },
   {
    "duration": 0,
    "start_time": "2023-03-23T07:57:55.645Z"
   },
   {
    "duration": 1,
    "start_time": "2023-03-23T07:57:55.646Z"
   },
   {
    "duration": 0,
    "start_time": "2023-03-23T07:57:55.648Z"
   },
   {
    "duration": 2655,
    "start_time": "2023-03-23T07:58:16.775Z"
   },
   {
    "duration": 827,
    "start_time": "2023-03-23T07:58:19.431Z"
   },
   {
    "duration": 294,
    "start_time": "2023-03-23T07:58:20.259Z"
   },
   {
    "duration": 186,
    "start_time": "2023-03-23T07:58:20.555Z"
   },
   {
    "duration": 135830,
    "start_time": "2023-03-23T07:58:20.743Z"
   },
   {
    "duration": 26,
    "start_time": "2023-03-23T08:00:36.574Z"
   },
   {
    "duration": 168,
    "start_time": "2023-03-23T08:00:36.601Z"
   },
   {
    "duration": 0,
    "start_time": "2023-03-23T08:00:36.771Z"
   },
   {
    "duration": 0,
    "start_time": "2023-03-23T08:00:36.772Z"
   },
   {
    "duration": 0,
    "start_time": "2023-03-23T08:00:36.773Z"
   },
   {
    "duration": 0,
    "start_time": "2023-03-23T08:00:36.774Z"
   },
   {
    "duration": 0,
    "start_time": "2023-03-23T08:00:36.774Z"
   },
   {
    "duration": 52,
    "start_time": "2023-03-23T08:16:06.553Z"
   },
   {
    "duration": 3413,
    "start_time": "2023-03-23T08:18:56.162Z"
   },
   {
    "duration": 1341,
    "start_time": "2023-03-23T08:18:59.578Z"
   },
   {
    "duration": 355,
    "start_time": "2023-03-23T08:19:00.921Z"
   },
   {
    "duration": 367,
    "start_time": "2023-03-23T08:19:01.277Z"
   },
   {
    "duration": 138134,
    "start_time": "2023-03-23T08:19:01.647Z"
   },
   {
    "duration": 24,
    "start_time": "2023-03-23T08:21:19.782Z"
   },
   {
    "duration": 2871,
    "start_time": "2023-03-23T08:21:48.243Z"
   },
   {
    "duration": 1458,
    "start_time": "2023-03-23T08:21:51.117Z"
   },
   {
    "duration": 324,
    "start_time": "2023-03-23T08:21:52.577Z"
   },
   {
    "duration": 187,
    "start_time": "2023-03-23T08:21:52.903Z"
   },
   {
    "duration": 142096,
    "start_time": "2023-03-23T08:21:53.092Z"
   },
   {
    "duration": 38,
    "start_time": "2023-03-23T08:24:15.190Z"
   },
   {
    "duration": 55,
    "start_time": "2023-03-23T08:25:56.598Z"
   },
   {
    "duration": 3658,
    "start_time": "2023-03-23T08:26:15.951Z"
   },
   {
    "duration": 1779,
    "start_time": "2023-03-23T08:26:19.611Z"
   },
   {
    "duration": 483,
    "start_time": "2023-03-23T08:26:21.392Z"
   },
   {
    "duration": 266,
    "start_time": "2023-03-23T08:26:21.877Z"
   },
   {
    "duration": 154144,
    "start_time": "2023-03-23T08:26:22.146Z"
   },
   {
    "duration": 46,
    "start_time": "2023-03-23T08:28:56.293Z"
   },
   {
    "duration": 204,
    "start_time": "2023-03-23T08:28:56.352Z"
   },
   {
    "duration": 0,
    "start_time": "2023-03-23T08:28:56.557Z"
   },
   {
    "duration": 0,
    "start_time": "2023-03-23T08:28:56.559Z"
   },
   {
    "duration": 0,
    "start_time": "2023-03-23T08:28:56.560Z"
   },
   {
    "duration": 0,
    "start_time": "2023-03-23T08:28:56.561Z"
   },
   {
    "duration": 0,
    "start_time": "2023-03-23T08:28:56.563Z"
   },
   {
    "duration": 3285,
    "start_time": "2023-03-23T09:09:40.968Z"
   },
   {
    "duration": 1534,
    "start_time": "2023-03-23T09:09:44.256Z"
   },
   {
    "duration": 624,
    "start_time": "2023-03-23T09:09:45.791Z"
   },
   {
    "duration": 188,
    "start_time": "2023-03-23T09:09:46.417Z"
   },
   {
    "duration": 137092,
    "start_time": "2023-03-23T09:09:46.607Z"
   },
   {
    "duration": 33,
    "start_time": "2023-03-23T09:12:03.701Z"
   },
   {
    "duration": 2809,
    "start_time": "2023-03-23T09:30:11.244Z"
   },
   {
    "duration": 1309,
    "start_time": "2023-03-23T09:30:14.055Z"
   },
   {
    "duration": 299,
    "start_time": "2023-03-23T09:30:15.367Z"
   },
   {
    "duration": 2822,
    "start_time": "2023-03-23T10:02:23.485Z"
   },
   {
    "duration": 955,
    "start_time": "2023-03-23T10:02:26.309Z"
   },
   {
    "duration": 290,
    "start_time": "2023-03-23T10:02:27.265Z"
   },
   {
    "duration": 196,
    "start_time": "2023-03-23T10:02:27.558Z"
   },
   {
    "duration": 0,
    "start_time": "2023-03-23T10:02:27.756Z"
   },
   {
    "duration": 0,
    "start_time": "2023-03-23T10:02:27.757Z"
   },
   {
    "duration": 0,
    "start_time": "2023-03-23T10:02:27.759Z"
   },
   {
    "duration": 0,
    "start_time": "2023-03-23T10:02:27.760Z"
   },
   {
    "duration": 0,
    "start_time": "2023-03-23T10:02:27.761Z"
   },
   {
    "duration": 0,
    "start_time": "2023-03-23T10:02:27.762Z"
   },
   {
    "duration": 0,
    "start_time": "2023-03-23T10:02:27.763Z"
   },
   {
    "duration": 234,
    "start_time": "2023-03-23T10:02:48.286Z"
   },
   {
    "duration": 2670,
    "start_time": "2023-03-23T11:42:23.235Z"
   },
   {
    "duration": 881,
    "start_time": "2023-03-23T11:42:25.907Z"
   },
   {
    "duration": 312,
    "start_time": "2023-03-23T11:42:26.789Z"
   },
   {
    "duration": 177,
    "start_time": "2023-03-23T11:42:27.103Z"
   },
   {
    "duration": 0,
    "start_time": "2023-03-23T11:42:27.281Z"
   },
   {
    "duration": 0,
    "start_time": "2023-03-23T11:42:27.283Z"
   },
   {
    "duration": 0,
    "start_time": "2023-03-23T11:42:27.284Z"
   },
   {
    "duration": 0,
    "start_time": "2023-03-23T11:42:27.285Z"
   },
   {
    "duration": 0,
    "start_time": "2023-03-23T11:42:27.286Z"
   },
   {
    "duration": 0,
    "start_time": "2023-03-23T11:42:27.286Z"
   },
   {
    "duration": 0,
    "start_time": "2023-03-23T11:42:27.287Z"
   },
   {
    "duration": 2574,
    "start_time": "2023-03-23T11:44:54.976Z"
   },
   {
    "duration": 817,
    "start_time": "2023-03-23T11:44:57.552Z"
   },
   {
    "duration": 325,
    "start_time": "2023-03-23T11:44:58.370Z"
   },
   {
    "duration": 173,
    "start_time": "2023-03-23T11:44:58.697Z"
   },
   {
    "duration": 0,
    "start_time": "2023-03-23T11:44:58.872Z"
   },
   {
    "duration": 0,
    "start_time": "2023-03-23T11:44:58.873Z"
   },
   {
    "duration": 0,
    "start_time": "2023-03-23T11:44:58.874Z"
   },
   {
    "duration": 0,
    "start_time": "2023-03-23T11:44:58.875Z"
   },
   {
    "duration": 0,
    "start_time": "2023-03-23T11:44:58.876Z"
   },
   {
    "duration": 1,
    "start_time": "2023-03-23T11:44:58.876Z"
   },
   {
    "duration": 0,
    "start_time": "2023-03-23T11:44:58.877Z"
   },
   {
    "duration": 20,
    "start_time": "2023-03-23T11:46:24.119Z"
   },
   {
    "duration": 7215,
    "start_time": "2023-03-23T11:46:47.778Z"
   },
   {
    "duration": 34,
    "start_time": "2023-03-23T11:47:18.277Z"
   },
   {
    "duration": 11657,
    "start_time": "2023-03-23T11:47:22.720Z"
   },
   {
    "duration": 10890,
    "start_time": "2023-03-23T11:47:45.510Z"
   },
   {
    "duration": 11,
    "start_time": "2023-03-23T11:48:43.509Z"
   },
   {
    "duration": 68,
    "start_time": "2023-03-23T11:49:11.938Z"
   },
   {
    "duration": 12,
    "start_time": "2023-03-23T11:49:24.394Z"
   },
   {
    "duration": 578,
    "start_time": "2023-03-23T11:50:32.733Z"
   },
   {
    "duration": 67,
    "start_time": "2023-03-23T11:50:45.934Z"
   },
   {
    "duration": 3148,
    "start_time": "2023-03-23T11:52:02.838Z"
   },
   {
    "duration": 907,
    "start_time": "2023-03-23T11:52:05.988Z"
   },
   {
    "duration": 297,
    "start_time": "2023-03-23T11:52:06.896Z"
   },
   {
    "duration": 6426,
    "start_time": "2023-03-23T11:52:07.194Z"
   },
   {
    "duration": 39,
    "start_time": "2023-03-23T11:52:13.622Z"
   },
   {
    "duration": 10885,
    "start_time": "2023-03-23T11:52:13.663Z"
   },
   {
    "duration": 60,
    "start_time": "2023-03-23T11:52:24.549Z"
   },
   {
    "duration": 763,
    "start_time": "2023-03-23T11:52:24.610Z"
   },
   {
    "duration": 0,
    "start_time": "2023-03-23T11:52:25.375Z"
   },
   {
    "duration": 0,
    "start_time": "2023-03-23T11:52:25.376Z"
   },
   {
    "duration": 0,
    "start_time": "2023-03-23T11:52:25.377Z"
   },
   {
    "duration": 12,
    "start_time": "2023-03-23T11:54:22.984Z"
   },
   {
    "duration": 47,
    "start_time": "2023-03-23T11:54:33.960Z"
   },
   {
    "duration": 35,
    "start_time": "2023-03-23T11:55:02.600Z"
   },
   {
    "duration": 2504,
    "start_time": "2023-03-23T11:56:40.363Z"
   },
   {
    "duration": 824,
    "start_time": "2023-03-23T11:56:42.869Z"
   },
   {
    "duration": 360,
    "start_time": "2023-03-23T11:56:43.694Z"
   },
   {
    "duration": 7217,
    "start_time": "2023-03-23T11:56:44.056Z"
   },
   {
    "duration": 24,
    "start_time": "2023-03-23T11:56:51.275Z"
   },
   {
    "duration": 10143,
    "start_time": "2023-03-23T11:56:51.301Z"
   },
   {
    "duration": 64792,
    "start_time": "2023-03-23T11:57:01.446Z"
   },
   {
    "duration": 720,
    "start_time": "2023-03-23T11:58:06.240Z"
   },
   {
    "duration": 0,
    "start_time": "2023-03-23T11:58:06.962Z"
   },
   {
    "duration": 0,
    "start_time": "2023-03-23T11:58:06.964Z"
   },
   {
    "duration": 0,
    "start_time": "2023-03-23T11:58:06.965Z"
   },
   {
    "duration": 43675,
    "start_time": "2023-03-23T12:04:26.665Z"
   },
   {
    "duration": 45282,
    "start_time": "2023-03-23T12:05:37.661Z"
   },
   {
    "duration": 46001,
    "start_time": "2023-03-23T12:06:52.137Z"
   },
   {
    "duration": 11084,
    "start_time": "2023-03-25T09:28:59.117Z"
   },
   {
    "duration": 1656,
    "start_time": "2023-03-25T09:29:10.203Z"
   },
   {
    "duration": 669,
    "start_time": "2023-03-25T09:29:11.863Z"
   },
   {
    "duration": 8864,
    "start_time": "2023-03-25T09:29:12.535Z"
   },
   {
    "duration": 56,
    "start_time": "2023-03-25T09:29:21.401Z"
   },
   {
    "duration": 14512,
    "start_time": "2023-03-25T09:29:21.459Z"
   },
   {
    "duration": 66977,
    "start_time": "2023-03-25T09:29:35.974Z"
   },
   {
    "duration": 49596,
    "start_time": "2023-03-25T09:30:42.953Z"
   },
   {
    "duration": 220,
    "start_time": "2023-03-25T09:36:54.536Z"
   },
   {
    "duration": 19,
    "start_time": "2023-03-25T09:37:02.665Z"
   },
   {
    "duration": 83068,
    "start_time": "2023-03-25T09:37:08.648Z"
   },
   {
    "duration": 391639,
    "start_time": "2023-03-25T09:40:57.572Z"
   },
   {
    "duration": 0,
    "start_time": "2023-03-25T09:51:03.000Z"
   },
   {
    "duration": 3103,
    "start_time": "2023-03-25T09:55:24.261Z"
   },
   {
    "duration": 1077,
    "start_time": "2023-03-25T09:55:27.367Z"
   },
   {
    "duration": 386,
    "start_time": "2023-03-25T09:55:28.447Z"
   },
   {
    "duration": 8818,
    "start_time": "2023-03-25T09:55:28.836Z"
   },
   {
    "duration": 40,
    "start_time": "2023-03-25T09:55:37.656Z"
   },
   {
    "duration": 13595,
    "start_time": "2023-03-25T09:55:37.698Z"
   },
   {
    "duration": 70469,
    "start_time": "2023-03-25T09:55:51.296Z"
   },
   {
    "duration": 51497,
    "start_time": "2023-03-25T09:57:01.767Z"
   },
   {
    "duration": 331395,
    "start_time": "2023-03-25T09:57:53.267Z"
   },
   {
    "duration": 65628,
    "start_time": "2023-03-25T10:04:00.026Z"
   },
   {
    "duration": 67910,
    "start_time": "2023-03-25T10:07:19.851Z"
   },
   {
    "duration": 3299,
    "start_time": "2023-03-25T10:25:08.066Z"
   },
   {
    "duration": 1169,
    "start_time": "2023-03-25T10:25:11.370Z"
   },
   {
    "duration": 428,
    "start_time": "2023-03-25T10:25:12.542Z"
   },
   {
    "duration": 10394,
    "start_time": "2023-03-25T10:25:12.973Z"
   },
   {
    "duration": 44,
    "start_time": "2023-03-25T10:25:23.370Z"
   },
   {
    "duration": 18746,
    "start_time": "2023-03-25T10:25:23.416Z"
   },
   {
    "duration": 54515,
    "start_time": "2023-03-25T10:25:42.164Z"
   },
   {
    "duration": 298,
    "start_time": "2023-03-25T10:26:36.682Z"
   },
   {
    "duration": 0,
    "start_time": "2023-03-25T10:26:36.982Z"
   },
   {
    "duration": 0,
    "start_time": "2023-03-25T10:26:36.984Z"
   },
   {
    "duration": 0,
    "start_time": "2023-03-25T10:26:36.986Z"
   },
   {
    "duration": 224,
    "start_time": "2023-03-25T10:27:01.885Z"
   },
   {
    "duration": 6982,
    "start_time": "2023-03-25T10:31:34.333Z"
   },
   {
    "duration": 1090,
    "start_time": "2023-03-25T10:31:41.318Z"
   },
   {
    "duration": 463,
    "start_time": "2023-03-25T10:31:42.411Z"
   },
   {
    "duration": 9395,
    "start_time": "2023-03-25T10:31:42.878Z"
   },
   {
    "duration": 41,
    "start_time": "2023-03-25T10:31:52.278Z"
   },
   {
    "duration": 7443,
    "start_time": "2023-03-25T10:32:13.558Z"
   },
   {
    "duration": 1849,
    "start_time": "2023-03-25T10:32:21.005Z"
   },
   {
    "duration": 1093,
    "start_time": "2023-03-25T10:32:22.857Z"
   },
   {
    "duration": 10140,
    "start_time": "2023-03-25T10:32:23.953Z"
   },
   {
    "duration": 61,
    "start_time": "2023-03-25T10:32:34.096Z"
   },
   {
    "duration": 68,
    "start_time": "2023-03-25T10:33:30.129Z"
   },
   {
    "duration": 3833,
    "start_time": "2023-03-25T10:44:25.208Z"
   },
   {
    "duration": 1318,
    "start_time": "2023-03-25T10:44:29.043Z"
   },
   {
    "duration": 398,
    "start_time": "2023-03-25T10:44:30.363Z"
   },
   {
    "duration": 7828,
    "start_time": "2023-03-25T10:44:30.764Z"
   },
   {
    "duration": 43,
    "start_time": "2023-03-25T10:44:38.594Z"
   },
   {
    "duration": 12956,
    "start_time": "2023-03-25T10:44:38.639Z"
   },
   {
    "duration": 52751,
    "start_time": "2023-03-25T10:44:51.597Z"
   },
   {
    "duration": 752644,
    "start_time": "2023-03-25T10:45:44.435Z"
   },
   {
    "duration": 492184,
    "start_time": "2023-03-25T10:58:17.081Z"
   },
   {
    "duration": 66995,
    "start_time": "2023-03-25T11:06:29.268Z"
   },
   {
    "duration": 57329,
    "start_time": "2023-03-25T11:07:36.266Z"
   },
   {
    "duration": 58780,
    "start_time": "2023-03-25T11:10:14.500Z"
   },
   {
    "duration": 4060,
    "start_time": "2023-03-25T11:38:15.836Z"
   },
   {
    "duration": 1105,
    "start_time": "2023-03-25T11:38:19.900Z"
   },
   {
    "duration": 369,
    "start_time": "2023-03-25T11:38:21.007Z"
   },
   {
    "duration": 227628,
    "start_time": "2023-03-25T11:38:21.380Z"
   },
   {
    "duration": 40,
    "start_time": "2023-03-25T11:42:09.012Z"
   },
   {
    "duration": 1215,
    "start_time": "2023-03-25T11:42:09.055Z"
   },
   {
    "duration": 227,
    "start_time": "2023-03-25T11:42:10.273Z"
   },
   {
    "duration": 657,
    "start_time": "2023-03-25T11:42:10.503Z"
   },
   {
    "duration": 202,
    "start_time": "2023-03-25T11:42:11.162Z"
   },
   {
    "duration": 0,
    "start_time": "2023-03-25T11:42:11.366Z"
   },
   {
    "duration": 1323,
    "start_time": "2023-03-25T11:48:13.792Z"
   },
   {
    "duration": 3068,
    "start_time": "2023-03-25T11:48:44.386Z"
   },
   {
    "duration": 945,
    "start_time": "2023-03-25T11:48:47.456Z"
   },
   {
    "duration": 346,
    "start_time": "2023-03-25T11:48:48.403Z"
   },
   {
    "duration": 5450,
    "start_time": "2023-03-25T11:48:48.752Z"
   },
   {
    "duration": 46,
    "start_time": "2023-03-25T11:48:54.204Z"
   },
   {
    "duration": 15214,
    "start_time": "2023-03-25T11:48:54.252Z"
   },
   {
    "duration": 53279,
    "start_time": "2023-03-25T11:49:09.468Z"
   },
   {
    "duration": 60845,
    "start_time": "2023-03-25T11:50:02.749Z"
   },
   {
    "duration": 224,
    "start_time": "2023-03-25T11:51:03.596Z"
   },
   {
    "duration": 0,
    "start_time": "2023-03-25T11:51:03.822Z"
   },
   {
    "duration": 9190,
    "start_time": "2023-03-25T11:59:49.951Z"
   },
   {
    "duration": 54370,
    "start_time": "2023-03-25T12:00:09.981Z"
   },
   {
    "duration": 7882,
    "start_time": "2023-03-25T12:06:34.385Z"
   },
   {
    "duration": 9781,
    "start_time": "2023-03-25T12:13:06.793Z"
   },
   {
    "duration": 1493,
    "start_time": "2023-03-25T12:13:16.576Z"
   },
   {
    "duration": 426,
    "start_time": "2023-03-25T12:13:18.071Z"
   },
   {
    "duration": 5688,
    "start_time": "2023-03-25T12:13:18.500Z"
   },
   {
    "duration": 65,
    "start_time": "2023-03-25T12:13:24.191Z"
   },
   {
    "duration": 7912,
    "start_time": "2023-03-25T12:13:24.258Z"
   },
   {
    "duration": 44666,
    "start_time": "2023-03-25T12:13:32.172Z"
   },
   {
    "duration": 43423,
    "start_time": "2023-03-25T12:14:16.841Z"
   },
   {
    "duration": 44148,
    "start_time": "2023-03-25T12:15:00.266Z"
   },
   {
    "duration": 0,
    "start_time": "2023-03-25T12:15:44.416Z"
   },
   {
    "duration": 43304,
    "start_time": "2023-03-25T12:16:50.786Z"
   },
   {
    "duration": 8,
    "start_time": "2023-03-25T12:19:30.023Z"
   },
   {
    "duration": 44364,
    "start_time": "2023-03-25T12:19:33.994Z"
   },
   {
    "duration": 7,
    "start_time": "2023-03-25T12:20:50.351Z"
   },
   {
    "duration": 40661,
    "start_time": "2023-03-25T12:20:53.895Z"
   },
   {
    "duration": 3689,
    "start_time": "2023-03-25T12:23:20.105Z"
   },
   {
    "duration": 1106,
    "start_time": "2023-03-25T12:23:23.797Z"
   },
   {
    "duration": 182,
    "start_time": "2023-03-25T12:23:24.906Z"
   },
   {
    "duration": 6091,
    "start_time": "2023-03-25T12:23:25.091Z"
   },
   {
    "duration": 69,
    "start_time": "2023-03-25T12:23:31.185Z"
   },
   {
    "duration": 9304,
    "start_time": "2023-03-25T12:23:31.257Z"
   },
   {
    "duration": 46577,
    "start_time": "2023-03-25T12:23:40.564Z"
   },
   {
    "duration": 56037,
    "start_time": "2023-03-25T12:24:27.145Z"
   },
   {
    "duration": 55947,
    "start_time": "2023-03-25T12:25:23.192Z"
   },
   {
    "duration": 13,
    "start_time": "2023-03-25T12:27:09.022Z"
   },
   {
    "duration": 40,
    "start_time": "2023-03-25T12:27:22.659Z"
   },
   {
    "duration": 118,
    "start_time": "2023-03-25T12:39:36.077Z"
   },
   {
    "duration": 305,
    "start_time": "2023-03-25T12:39:47.677Z"
   },
   {
    "duration": 4119,
    "start_time": "2023-03-25T12:39:58.764Z"
   },
   {
    "duration": 1501,
    "start_time": "2023-03-25T12:40:02.887Z"
   },
   {
    "duration": 20,
    "start_time": "2023-03-25T12:40:04.390Z"
   },
   {
    "duration": 60,
    "start_time": "2023-03-25T12:40:04.413Z"
   },
   {
    "duration": 721,
    "start_time": "2023-03-25T12:40:04.483Z"
   },
   {
    "duration": 7235,
    "start_time": "2023-03-25T12:40:05.208Z"
   },
   {
    "duration": 71,
    "start_time": "2023-03-25T12:40:12.445Z"
   },
   {
    "duration": 10560,
    "start_time": "2023-03-25T12:40:12.518Z"
   },
   {
    "duration": 46578,
    "start_time": "2023-03-25T12:40:23.081Z"
   },
   {
    "duration": 63591,
    "start_time": "2023-03-25T12:41:09.667Z"
   },
   {
    "duration": 58711,
    "start_time": "2023-03-25T12:42:13.260Z"
   },
   {
    "duration": 4370,
    "start_time": "2023-03-25T12:46:32.258Z"
   },
   {
    "duration": 1399,
    "start_time": "2023-03-25T12:46:36.632Z"
   },
   {
    "duration": 21,
    "start_time": "2023-03-25T12:46:38.034Z"
   },
   {
    "duration": 112,
    "start_time": "2023-03-25T12:46:38.059Z"
   },
   {
    "duration": 552,
    "start_time": "2023-03-25T12:46:38.173Z"
   },
   {
    "duration": 7420,
    "start_time": "2023-03-25T12:46:38.729Z"
   },
   {
    "duration": 92,
    "start_time": "2023-03-25T12:46:46.154Z"
   },
   {
    "duration": 10258,
    "start_time": "2023-03-25T12:46:46.249Z"
   },
   {
    "duration": 57369,
    "start_time": "2023-03-25T12:46:56.509Z"
   },
   {
    "duration": 680919,
    "start_time": "2023-03-25T12:47:53.946Z"
   },
   {
    "duration": 227,
    "start_time": "2023-03-25T12:59:14.868Z"
   },
   {
    "duration": 0,
    "start_time": "2023-03-25T12:59:15.096Z"
   },
   {
    "duration": 0,
    "start_time": "2023-03-25T12:59:15.098Z"
   },
   {
    "duration": 7706,
    "start_time": "2023-03-25T13:07:03.895Z"
   },
   {
    "duration": 43454,
    "start_time": "2023-03-25T13:07:13.968Z"
   },
   {
    "duration": 42686,
    "start_time": "2023-03-25T13:08:28.170Z"
   },
   {
    "duration": 3216,
    "start_time": "2023-03-25T13:12:46.303Z"
   },
   {
    "duration": 1095,
    "start_time": "2023-03-25T13:12:49.521Z"
   },
   {
    "duration": 30,
    "start_time": "2023-03-25T13:12:50.618Z"
   },
   {
    "duration": 42,
    "start_time": "2023-03-25T13:12:50.651Z"
   },
   {
    "duration": 385,
    "start_time": "2023-03-25T13:12:50.695Z"
   },
   {
    "duration": 6341,
    "start_time": "2023-03-25T13:12:51.082Z"
   },
   {
    "duration": 68,
    "start_time": "2023-03-25T13:12:57.425Z"
   },
   {
    "duration": 8873,
    "start_time": "2023-03-25T13:12:57.495Z"
   },
   {
    "duration": 59571,
    "start_time": "2023-03-25T13:13:06.370Z"
   },
   {
    "duration": 650719,
    "start_time": "2023-03-25T13:14:05.944Z"
   },
   {
    "duration": 444769,
    "start_time": "2023-03-25T13:24:56.670Z"
   },
   {
    "duration": 0,
    "start_time": "2023-03-25T13:32:21.442Z"
   },
   {
    "duration": 0,
    "start_time": "2023-03-25T13:32:21.443Z"
   },
   {
    "duration": 3132,
    "start_time": "2023-03-25T13:51:18.265Z"
   },
   {
    "duration": 1116,
    "start_time": "2023-03-25T13:51:21.399Z"
   },
   {
    "duration": 33,
    "start_time": "2023-03-25T13:51:22.517Z"
   },
   {
    "duration": 53,
    "start_time": "2023-03-25T13:51:22.554Z"
   },
   {
    "duration": 418,
    "start_time": "2023-03-25T13:51:22.610Z"
   },
   {
    "duration": 6153,
    "start_time": "2023-03-25T13:51:23.035Z"
   },
   {
    "duration": 88,
    "start_time": "2023-03-25T13:51:29.190Z"
   },
   {
    "duration": 8841,
    "start_time": "2023-03-25T13:51:29.280Z"
   },
   {
    "duration": 56831,
    "start_time": "2023-03-25T13:51:38.123Z"
   },
   {
    "duration": 1280466,
    "start_time": "2023-03-25T13:52:34.956Z"
   },
   {
    "duration": 0,
    "start_time": "2023-03-25T14:13:55.425Z"
   },
   {
    "duration": 0,
    "start_time": "2023-03-25T14:13:55.431Z"
   },
   {
    "duration": 0,
    "start_time": "2023-03-25T14:13:55.432Z"
   },
   {
    "duration": 101897,
    "start_time": "2023-03-25T14:14:07.051Z"
   },
   {
    "duration": 3623,
    "start_time": "2023-03-25T14:18:25.868Z"
   },
   {
    "duration": 2957,
    "start_time": "2023-03-25T14:24:43.958Z"
   },
   {
    "duration": 991,
    "start_time": "2023-03-25T14:24:46.918Z"
   },
   {
    "duration": 20,
    "start_time": "2023-03-25T14:24:47.914Z"
   },
   {
    "duration": 35,
    "start_time": "2023-03-25T14:24:47.938Z"
   },
   {
    "duration": 371,
    "start_time": "2023-03-25T14:24:47.975Z"
   },
   {
    "duration": 5753,
    "start_time": "2023-03-25T14:24:48.348Z"
   },
   {
    "duration": 72,
    "start_time": "2023-03-25T14:24:54.104Z"
   },
   {
    "duration": 8085,
    "start_time": "2023-03-25T14:24:54.178Z"
   },
   {
    "duration": 53270,
    "start_time": "2023-03-25T14:25:02.265Z"
   },
   {
    "duration": 1684,
    "start_time": "2023-03-25T14:25:55.542Z"
   },
   {
    "duration": 6293,
    "start_time": "2023-03-25T14:25:57.229Z"
   },
   {
    "duration": 53602,
    "start_time": "2023-03-25T14:26:03.525Z"
   },
   {
    "duration": 59510,
    "start_time": "2023-03-25T14:26:57.130Z"
   },
   {
    "duration": 13968,
    "start_time": "2023-03-25T14:28:38.047Z"
   },
   {
    "duration": 3019,
    "start_time": "2023-03-25T14:35:30.841Z"
   },
   {
    "duration": 1041,
    "start_time": "2023-03-25T14:35:33.862Z"
   },
   {
    "duration": 17,
    "start_time": "2023-03-25T14:35:34.905Z"
   },
   {
    "duration": 47,
    "start_time": "2023-03-25T14:35:34.923Z"
   },
   {
    "duration": 401,
    "start_time": "2023-03-25T14:35:34.972Z"
   },
   {
    "duration": 5995,
    "start_time": "2023-03-25T14:35:35.375Z"
   },
   {
    "duration": 77,
    "start_time": "2023-03-25T14:35:41.373Z"
   },
   {
    "duration": 8700,
    "start_time": "2023-03-25T14:35:41.453Z"
   },
   {
    "duration": 42596,
    "start_time": "2023-03-25T14:35:50.155Z"
   },
   {
    "duration": 27854,
    "start_time": "2023-03-25T14:36:32.756Z"
   },
   {
    "duration": 6117,
    "start_time": "2023-03-25T14:37:00.611Z"
   },
   {
    "duration": 51671,
    "start_time": "2023-03-25T14:37:06.730Z"
   },
   {
    "duration": 55437,
    "start_time": "2023-03-25T14:37:58.403Z"
   },
   {
    "duration": 4115,
    "start_time": "2023-03-25T14:41:49.559Z"
   },
   {
    "duration": 704038,
    "start_time": "2023-03-25T14:42:05.789Z"
   },
   {
    "duration": 292,
    "start_time": "2023-03-25T15:11:23.589Z"
   },
   {
    "duration": 8084,
    "start_time": "2023-03-25T15:12:04.915Z"
   },
   {
    "duration": 52416,
    "start_time": "2023-03-25T15:13:07.326Z"
   },
   {
    "duration": 0,
    "start_time": "2023-03-25T15:28:11.315Z"
   },
   {
    "duration": 4554,
    "start_time": "2023-03-25T15:28:21.682Z"
   },
   {
    "duration": 1329,
    "start_time": "2023-03-25T15:28:26.243Z"
   },
   {
    "duration": 33,
    "start_time": "2023-03-25T15:28:27.574Z"
   },
   {
    "duration": 152,
    "start_time": "2023-03-25T15:28:27.615Z"
   },
   {
    "duration": 725,
    "start_time": "2023-03-25T15:28:27.772Z"
   },
   {
    "duration": 9016,
    "start_time": "2023-03-25T15:28:28.504Z"
   },
   {
    "duration": 96,
    "start_time": "2023-03-25T15:28:37.528Z"
   },
   {
    "duration": 12978,
    "start_time": "2023-03-25T15:28:37.631Z"
   },
   {
    "duration": 47367,
    "start_time": "2023-03-25T15:28:50.613Z"
   },
   {
    "duration": 12281,
    "start_time": "2023-03-25T15:29:37.987Z"
   },
   {
    "duration": 7638,
    "start_time": "2023-03-25T15:29:50.271Z"
   },
   {
    "duration": 55680,
    "start_time": "2023-03-25T15:29:57.911Z"
   },
   {
    "duration": 58861,
    "start_time": "2023-03-25T15:30:53.593Z"
   },
   {
    "duration": 4717,
    "start_time": "2023-03-25T15:33:03.625Z"
   },
   {
    "duration": 1448,
    "start_time": "2023-03-25T15:33:08.350Z"
   },
   {
    "duration": 20,
    "start_time": "2023-03-25T15:33:09.805Z"
   },
   {
    "duration": 70,
    "start_time": "2023-03-25T15:33:09.827Z"
   },
   {
    "duration": 603,
    "start_time": "2023-03-25T15:33:09.899Z"
   },
   {
    "duration": 8606,
    "start_time": "2023-03-25T15:33:10.504Z"
   },
   {
    "duration": 94,
    "start_time": "2023-03-25T15:33:19.113Z"
   },
   {
    "duration": 11889,
    "start_time": "2023-03-25T15:33:19.213Z"
   },
   {
    "duration": 43744,
    "start_time": "2023-03-25T15:33:31.104Z"
   },
   {
    "duration": 7778,
    "start_time": "2023-03-25T15:34:14.852Z"
   },
   {
    "duration": 57999,
    "start_time": "2023-03-25T15:34:22.640Z"
   },
   {
    "duration": 54911,
    "start_time": "2023-03-25T15:35:20.642Z"
   },
   {
    "duration": 2828,
    "start_time": "2023-03-26T15:12:36.219Z"
   },
   {
    "duration": 4234,
    "start_time": "2023-03-26T15:12:39.048Z"
   },
   {
    "duration": 14,
    "start_time": "2023-03-26T15:12:43.284Z"
   },
   {
    "duration": 27,
    "start_time": "2023-03-26T15:12:43.300Z"
   },
   {
    "duration": 506,
    "start_time": "2023-03-26T15:12:43.329Z"
   },
   {
    "duration": 455,
    "start_time": "2023-03-26T15:12:43.847Z"
   },
   {
    "duration": 0,
    "start_time": "2023-03-26T15:12:44.304Z"
   },
   {
    "duration": 0,
    "start_time": "2023-03-26T15:12:44.306Z"
   },
   {
    "duration": 0,
    "start_time": "2023-03-26T15:12:44.307Z"
   },
   {
    "duration": 0,
    "start_time": "2023-03-26T15:12:44.308Z"
   },
   {
    "duration": 0,
    "start_time": "2023-03-26T15:12:44.309Z"
   },
   {
    "duration": 0,
    "start_time": "2023-03-26T15:12:44.310Z"
   },
   {
    "duration": 2908,
    "start_time": "2023-03-26T15:14:33.600Z"
   },
   {
    "duration": 995,
    "start_time": "2023-03-26T15:14:36.510Z"
   },
   {
    "duration": 13,
    "start_time": "2023-03-26T15:14:37.507Z"
   },
   {
    "duration": 44,
    "start_time": "2023-03-26T15:14:37.523Z"
   },
   {
    "duration": 307,
    "start_time": "2023-03-26T15:14:37.569Z"
   },
   {
    "duration": 585289,
    "start_time": "2023-03-26T15:14:37.878Z"
   },
   {
    "duration": 33,
    "start_time": "2023-03-26T15:24:23.169Z"
   },
   {
    "duration": 7675,
    "start_time": "2023-03-26T15:24:23.203Z"
   },
   {
    "duration": 48869,
    "start_time": "2023-03-26T15:24:30.880Z"
   },
   {
    "duration": 5135,
    "start_time": "2023-03-26T15:25:19.754Z"
   },
   {
    "duration": 47685,
    "start_time": "2023-03-26T15:25:24.893Z"
   },
   {
    "duration": 48371,
    "start_time": "2023-03-26T15:26:12.579Z"
   },
   {
    "duration": 175914,
    "start_time": "2023-03-26T15:29:13.840Z"
   },
   {
    "duration": 47130,
    "start_time": "2023-03-26T15:32:31.915Z"
   },
   {
    "duration": 165153,
    "start_time": "2023-03-26T15:34:03.750Z"
   },
   {
    "duration": 44214,
    "start_time": "2023-03-26T15:36:57.828Z"
   },
   {
    "duration": 56,
    "start_time": "2023-03-26T15:40:49.296Z"
   },
   {
    "duration": 0,
    "start_time": "2023-03-26T15:40:49.354Z"
   },
   {
    "duration": 0,
    "start_time": "2023-03-26T15:40:49.355Z"
   },
   {
    "duration": 0,
    "start_time": "2023-03-26T15:40:49.356Z"
   },
   {
    "duration": 0,
    "start_time": "2023-03-26T15:40:49.357Z"
   },
   {
    "duration": 0,
    "start_time": "2023-03-26T15:40:49.358Z"
   },
   {
    "duration": 0,
    "start_time": "2023-03-26T15:40:49.359Z"
   },
   {
    "duration": 0,
    "start_time": "2023-03-26T15:40:49.360Z"
   },
   {
    "duration": 0,
    "start_time": "2023-03-26T15:40:49.361Z"
   },
   {
    "duration": 0,
    "start_time": "2023-03-26T15:40:49.362Z"
   },
   {
    "duration": 46,
    "start_time": "2023-03-26T15:40:49.472Z"
   },
   {
    "duration": 959,
    "start_time": "2023-03-26T15:40:49.713Z"
   },
   {
    "duration": 0,
    "start_time": "2023-03-26T15:40:50.673Z"
   }
  ],
  "kernelspec": {
   "display_name": "Python 3 (ipykernel)",
   "language": "python",
   "name": "python3"
  },
  "language_info": {
   "codemirror_mode": {
    "name": "ipython",
    "version": 3
   },
   "file_extension": ".py",
   "mimetype": "text/x-python",
   "name": "python",
   "nbconvert_exporter": "python",
   "pygments_lexer": "ipython3",
   "version": "3.9.13"
  },
  "toc": {
   "base_numbering": 1,
   "nav_menu": {},
   "number_sections": true,
   "sideBar": true,
   "skip_h1_title": true,
   "title_cell": "Содержание",
   "title_sidebar": "Contents",
   "toc_cell": true,
   "toc_position": {
    "height": "calc(100% - 180px)",
    "left": "10px",
    "top": "150px",
    "width": "302.391px"
   },
   "toc_section_display": true,
   "toc_window_display": false
  }
 },
 "nbformat": 4,
 "nbformat_minor": 2
}
